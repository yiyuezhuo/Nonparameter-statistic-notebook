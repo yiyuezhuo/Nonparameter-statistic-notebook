{
 "cells": [
  {
   "cell_type": "markdown",
   "metadata": {},
   "source": [
    "# 线性符号秩统计量回顾\n",
    "\n",
    "$$\n",
    "S_n^+ = \\sum_{i=1}^n a_n^+(R_i^+) I(X_i > 0)\n",
    "$$\n",
    "\n",
    "其中$a_n^+$是针对秩的计分函数。应该是一个映射$1,2,...,n$的可不严格增函数。\n",
    "\n",
    "一般用上秩统计量的都意味着所检验的两个或多个总体某种意义（函数）上是完全一样的，所以把它们排起来的秩统计量也应该是一样的，可以用秩统计量\n",
    "研究各种情况而不需要考虑其特定分布，只需要所要检验的特征具有序且稠密（不打结）。那么根据对称性和所选定的计分函数就可以得到对应的分布。"
   ]
  },
  {
   "cell_type": "code",
   "execution_count": 1,
   "metadata": {
    "collapsed": true
   },
   "outputs": [],
   "source": [
    "X <- rnorm(1000,0,1)"
   ]
  },
  {
   "cell_type": "code",
   "execution_count": 2,
   "metadata": {
    "collapsed": false
   },
   "outputs": [
    {
     "data": {
      "text/html": [
       "502"
      ],
      "text/latex": [
       "502"
      ],
      "text/markdown": [
       "502"
      ],
      "text/plain": [
       "[1] 502"
      ]
     },
     "metadata": {},
     "output_type": "display_data"
    }
   ],
   "source": [
    "length(X[X>0])"
   ]
  },
  {
   "cell_type": "code",
   "execution_count": 10,
   "metadata": {
    "collapsed": false
   },
   "outputs": [
    {
     "data": {
      "text/html": [
       "249655"
      ],
      "text/latex": [
       "249655"
      ],
      "text/markdown": [
       "249655"
      ],
      "text/plain": [
       "[1] 249655"
      ]
     },
     "metadata": {},
     "output_type": "display_data"
    }
   ],
   "source": [
    "sum(rank(abs(X))[X>0])"
   ]
  },
  {
   "cell_type": "code",
   "execution_count": 11,
   "metadata": {
    "collapsed": false
   },
   "outputs": [
    {
     "data": {
      "text/html": [
       "250845"
      ],
      "text/latex": [
       "250845"
      ],
      "text/markdown": [
       "250845"
      ],
      "text/plain": [
       "[1] 250845"
      ]
     },
     "metadata": {},
     "output_type": "display_data"
    }
   ],
   "source": [
    "sum(rank(abs(X))[X<0])"
   ]
  },
  {
   "cell_type": "code",
   "execution_count": null,
   "metadata": {
    "collapsed": true
   },
   "outputs": [],
   "source": []
  }
 ],
 "metadata": {
  "anaconda-cloud": {},
  "kernelspec": {
   "display_name": "R 3.3",
   "language": "R",
   "name": "ir33"
  },
  "language_info": {
   "codemirror_mode": "r",
   "file_extension": ".r",
   "mimetype": "text/x-r-source",
   "name": "R",
   "pygments_lexer": "r",
   "version": "3.3.1"
  }
 },
 "nbformat": 4,
 "nbformat_minor": 0
}
