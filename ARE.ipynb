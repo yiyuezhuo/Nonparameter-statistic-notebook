{
 "cells": [
  {
   "cell_type": "code",
   "execution_count": 2,
   "metadata": {
    "collapsed": false
   },
   "outputs": [
    {
     "name": "stdout",
     "output_type": "stream",
     "text": [
      "-1.959964 1.959964"
     ]
    }
   ],
   "source": [
    "alpha <- 0.05\n",
    "\n",
    "left <- qnorm(alpha/2,0,1)\n",
    "right <- -left\n",
    "\n",
    "cat(left,right)"
   ]
  },
  {
   "cell_type": "code",
   "execution_count": 3,
   "metadata": {
    "collapsed": true
   },
   "outputs": [],
   "source": [
    "x0 <- -1"
   ]
  },
  {
   "cell_type": "code",
   "execution_count": 16,
   "metadata": {
    "collapsed": false
   },
   "outputs": [
    {
     "data": {
      "text/html": [
       "0.998817250703504"
      ],
      "text/latex": [
       "0.998817250703504"
      ],
      "text/markdown": [
       "0.998817250703504"
      ],
      "text/plain": [
       "[1] 0.9988173"
      ]
     },
     "metadata": {},
     "output_type": "display_data"
    }
   ],
   "source": [
    "n <- 5\n",
    "\n",
    "left <- qnorm(alpha/2,0,1/n)\n",
    "right <- -left\n",
    "\n",
    "pnorm(left,x0,1/n) + pnorm(right,x0,1/n,lower.tail=FALSE)"
   ]
  },
  {
   "cell_type": "code",
   "execution_count": 18,
   "metadata": {
    "collapsed": false
   },
   "outputs": [],
   "source": [
    "min.n.norm <- function(p,x0,var=1,alpha=0.05){\n",
    "    n <- 1\n",
    "    while(TRUE){\n",
    "        left <- qnorm(alpha/2,0,1/n)\n",
    "        right <- -left\n",
    "        pc <- pnorm(left,x0,var/n) + pnorm(right,x0,var/n,lower.tail=FALSE)\n",
    "        if(pc>p)\n",
    "            return(n)\n",
    "        n <- n + 1\n",
    "    }\n",
    "}"
   ]
  },
  {
   "cell_type": "code",
   "execution_count": 26,
   "metadata": {
    "collapsed": false
   },
   "outputs": [
    {
     "data": {
      "text/html": [
       "6"
      ],
      "text/latex": [
       "6"
      ],
      "text/markdown": [
       "6"
      ],
      "text/plain": [
       "[1] 6"
      ]
     },
     "metadata": {},
     "output_type": "display_data"
    }
   ],
   "source": [
    "min.n.norm(0.999,-1)"
   ]
  },
  {
   "cell_type": "code",
   "execution_count": 29,
   "metadata": {
    "collapsed": false
   },
   "outputs": [
    {
     "name": "stdout",
     "output_type": "stream",
     "text": [
      "2 8"
     ]
    }
   ],
   "source": [
    "alpha <- 0.05\n",
    "n <- 10 \n",
    "\n",
    "left <- qbinom(alpha/2,n,0.5)\n",
    "right <- qbinom(alpha/2,n,0.5,lower.tail=FALSE)\n",
    "cat(left,right)"
   ]
  },
  {
   "cell_type": "code",
   "execution_count": 30,
   "metadata": {
    "collapsed": false
   },
   "outputs": [
    {
     "data": {
      "text/html": [
       "0.158655253931457"
      ],
      "text/latex": [
       "0.158655253931457"
      ],
      "text/markdown": [
       "0.158655253931457"
      ],
      "text/plain": [
       "[1] 0.1586553"
      ]
     },
     "metadata": {},
     "output_type": "display_data"
    }
   ],
   "source": [
    "x0 <- -1\n",
    "left.p <- pnorm(0,x0,1)\n",
    "right.p <- 1 - left.p\n",
    "\n",
    "right.p"
   ]
  },
  {
   "cell_type": "code",
   "execution_count": 32,
   "metadata": {
    "collapsed": false
   },
   "outputs": [
    {
     "data": {
      "text/html": [
       "0.797246237218305"
      ],
      "text/latex": [
       "0.797246237218305"
      ],
      "text/markdown": [
       "0.797246237218305"
      ],
      "text/plain": [
       "[1] 0.7972462"
      ]
     },
     "metadata": {},
     "output_type": "display_data"
    }
   ],
   "source": [
    "pbinom(left,n,right.p)"
   ]
  },
  {
   "cell_type": "code",
   "execution_count": 37,
   "metadata": {
    "collapsed": false
   },
   "outputs": [
    {
     "data": {
      "text/html": [
       "0.797246237218305"
      ],
      "text/latex": [
       "0.797246237218305"
      ],
      "text/markdown": [
       "0.797246237218305"
      ],
      "text/plain": [
       "[1] 0.7972462"
      ]
     },
     "metadata": {},
     "output_type": "display_data"
    }
   ],
   "source": [
    "pbinom(left,n,right.p)"
   ]
  },
  {
   "cell_type": "code",
   "execution_count": 35,
   "metadata": {
    "collapsed": false
   },
   "outputs": [
    {
     "data": {
      "text/html": [
       "5.45980953794225e-07"
      ],
      "text/latex": [
       "5.45980953794225e-07"
      ],
      "text/markdown": [
       "5.45980953794225e-07"
      ],
      "text/plain": [
       "[1] 5.45981e-07"
      ]
     },
     "metadata": {},
     "output_type": "display_data"
    }
   ],
   "source": [
    "pbinom(right,n,right.p,lower.tail=FALSE)"
   ]
  },
  {
   "cell_type": "code",
   "execution_count": 38,
   "metadata": {
    "collapsed": false
   },
   "outputs": [
    {
     "data": {
      "text/html": [
       "2"
      ],
      "text/latex": [
       "2"
      ],
      "text/markdown": [
       "2"
      ],
      "text/plain": [
       "[1] 2"
      ]
     },
     "metadata": {},
     "output_type": "display_data"
    }
   ],
   "source": [
    "left"
   ]
  },
  {
   "cell_type": "code",
   "execution_count": 39,
   "metadata": {
    "collapsed": false
   },
   "outputs": [
    {
     "data": {
      "text/html": [
       "0.177721459208028"
      ],
      "text/latex": [
       "0.177721459208028"
      ],
      "text/markdown": [
       "0.177721459208028"
      ],
      "text/plain": [
       "[1] 0.1777215"
      ]
     },
     "metadata": {},
     "output_type": "display_data"
    }
   ],
   "source": [
    "pbinom(0,n,right.p)"
   ]
  },
  {
   "cell_type": "code",
   "execution_count": 40,
   "metadata": {
    "collapsed": false
   },
   "outputs": [
    {
     "data": {
      "text/html": [
       "0.512856888192113"
      ],
      "text/latex": [
       "0.512856888192113"
      ],
      "text/markdown": [
       "0.512856888192113"
      ],
      "text/plain": [
       "[1] 0.5128569"
      ]
     },
     "metadata": {},
     "output_type": "display_data"
    }
   ],
   "source": [
    "pbinom(1,n,right.p)"
   ]
  },
  {
   "cell_type": "code",
   "execution_count": 41,
   "metadata": {
    "collapsed": false
   },
   "outputs": [
    {
     "data": {
      "text/html": [
       "0.797246237218305"
      ],
      "text/latex": [
       "0.797246237218305"
      ],
      "text/markdown": [
       "0.797246237218305"
      ],
      "text/plain": [
       "[1] 0.7972462"
      ]
     },
     "metadata": {},
     "output_type": "display_data"
    }
   ],
   "source": [
    "pbinom(2,n,right.p)"
   ]
  },
  {
   "cell_type": "code",
   "execution_count": 73,
   "metadata": {
    "collapsed": false
   },
   "outputs": [
    {
     "data": {
      "text/html": [
       "0.158655253931457"
      ],
      "text/latex": [
       "0.158655253931457"
      ],
      "text/markdown": [
       "0.158655253931457"
      ],
      "text/plain": [
       "[1] 0.1586553"
      ]
     },
     "metadata": {},
     "output_type": "display_data"
    }
   ],
   "source": [
    "right.p"
   ]
  },
  {
   "cell_type": "code",
   "execution_count": 77,
   "metadata": {
    "collapsed": false
   },
   "outputs": [
    {
     "data": {
      "text/html": [
       "0.512856898297305"
      ],
      "text/latex": [
       "0.512856898297305"
      ],
      "text/markdown": [
       "0.512856898297305"
      ],
      "text/plain": [
       "[1] 0.5128569"
      ]
     },
     "metadata": {},
     "output_type": "display_data"
    }
   ],
   "source": [
    "pbinom(left-1,n,right.p) + pbinom(right+1,n,right.p,lower.tail=FALSE)"
   ]
  },
  {
   "cell_type": "code",
   "execution_count": 75,
   "metadata": {
    "collapsed": false
   },
   "outputs": [
    {
     "data": {
      "text/html": [
       "0.177722005188982"
      ],
      "text/latex": [
       "0.177722005188982"
      ],
      "text/markdown": [
       "0.177722005188982"
      ],
      "text/plain": [
       "[1] 0.177722"
      ]
     },
     "metadata": {},
     "output_type": "display_data"
    }
   ],
   "source": [
    "pbinom(left-1,n,left.p) + pbinom(right+1,n,left.p,lower.tail=FALSE)"
   ]
  },
  {
   "cell_type": "code",
   "execution_count": 48,
   "metadata": {
    "collapsed": false
   },
   "outputs": [
    {
     "data": {
      "text/html": [
       "<dl class=dl-horizontal>\n",
       "\t<dt>0</dt>\n",
       "\t\t<dd>0.0009765625</dd>\n",
       "\t<dt>1</dt>\n",
       "\t\t<dd>0.009765625</dd>\n",
       "\t<dt>2</dt>\n",
       "\t\t<dd>0.0439453125</dd>\n",
       "\t<dt>3</dt>\n",
       "\t\t<dd>0.1171875</dd>\n",
       "\t<dt>4</dt>\n",
       "\t\t<dd>0.205078125</dd>\n",
       "\t<dt>5</dt>\n",
       "\t\t<dd>0.24609375</dd>\n",
       "\t<dt>6</dt>\n",
       "\t\t<dd>0.205078125</dd>\n",
       "\t<dt>7</dt>\n",
       "\t\t<dd>0.1171875</dd>\n",
       "\t<dt>8</dt>\n",
       "\t\t<dd>0.0439453125</dd>\n",
       "\t<dt>9</dt>\n",
       "\t\t<dd>0.009765625</dd>\n",
       "\t<dt>10</dt>\n",
       "\t\t<dd>0.0009765625</dd>\n",
       "</dl>\n"
      ],
      "text/latex": [
       "\\begin{description*}\n",
       "\\item[0] 0.0009765625\n",
       "\\item[1] 0.009765625\n",
       "\\item[2] 0.0439453125\n",
       "\\item[3] 0.1171875\n",
       "\\item[4] 0.205078125\n",
       "\\item[5] 0.24609375\n",
       "\\item[6] 0.205078125\n",
       "\\item[7] 0.1171875\n",
       "\\item[8] 0.0439453125\n",
       "\\item[9] 0.009765625\n",
       "\\item[10] 0.0009765625\n",
       "\\end{description*}\n"
      ],
      "text/markdown": [
       "0\n",
       ":   0.00097656251\n",
       ":   0.0097656252\n",
       ":   0.04394531253\n",
       ":   0.11718754\n",
       ":   0.2050781255\n",
       ":   0.246093756\n",
       ":   0.2050781257\n",
       ":   0.11718758\n",
       ":   0.04394531259\n",
       ":   0.00976562510\n",
       ":   0.0009765625\n",
       "\n"
      ],
      "text/plain": [
       "           0            1            2            3            4            5 \n",
       "0.0009765625 0.0097656250 0.0439453125 0.1171875000 0.2050781250 0.2460937500 \n",
       "           6            7            8            9           10 \n",
       "0.2050781250 0.1171875000 0.0439453125 0.0097656250 0.0009765625 "
      ]
     },
     "metadata": {},
     "output_type": "display_data"
    }
   ],
   "source": [
    "m <- dbinom(0:n,n,0.5)\n",
    "names(m) <- 0:10\n",
    "m"
   ]
  },
  {
   "cell_type": "code",
   "execution_count": 56,
   "metadata": {
    "collapsed": false
   },
   "outputs": [
    {
     "data": {
      "text/html": [
       "0.0009765625"
      ],
      "text/latex": [
       "0.0009765625"
      ],
      "text/markdown": [
       "0.0009765625"
      ],
      "text/plain": [
       "[1] 0.0009765625"
      ]
     },
     "metadata": {},
     "output_type": "display_data"
    }
   ],
   "source": [
    "sum(m[0:1])"
   ]
  },
  {
   "cell_type": "code",
   "execution_count": 57,
   "metadata": {
    "collapsed": false
   },
   "outputs": [
    {
     "data": {
      "text/html": [
       "0.0107421875"
      ],
      "text/latex": [
       "0.0107421875"
      ],
      "text/markdown": [
       "0.0107421875"
      ],
      "text/plain": [
       "[1] 0.01074219"
      ]
     },
     "metadata": {},
     "output_type": "display_data"
    }
   ],
   "source": [
    "sum(m[0:2])"
   ]
  },
  {
   "cell_type": "code",
   "execution_count": 64,
   "metadata": {
    "collapsed": false
   },
   "outputs": [
    {
     "data": {
      "text/html": [
       "<dl class=dl-horizontal>\n",
       "\t<dt>0</dt>\n",
       "\t\t<dd>0.0009765625</dd>\n",
       "\t<dt>1</dt>\n",
       "\t\t<dd>0.009765625</dd>\n",
       "</dl>\n"
      ],
      "text/latex": [
       "\\begin{description*}\n",
       "\\item[0] 0.0009765625\n",
       "\\item[1] 0.009765625\n",
       "\\end{description*}\n"
      ],
      "text/markdown": [
       "0\n",
       ":   0.00097656251\n",
       ":   0.009765625\n",
       "\n"
      ],
      "text/plain": [
       "           0            1 \n",
       "0.0009765625 0.0097656250 "
      ]
     },
     "metadata": {},
     "output_type": "display_data"
    }
   ],
   "source": [
    "m[0:2]"
   ]
  },
  {
   "cell_type": "code",
   "execution_count": 68,
   "metadata": {
    "collapsed": false
   },
   "outputs": [
    {
     "data": {
      "text/html": [
       "<dl class=dl-horizontal>\n",
       "\t<dt>0</dt>\n",
       "\t\t<dd>0.0009765625</dd>\n",
       "\t<dt>1</dt>\n",
       "\t\t<dd>0.009765625</dd>\n",
       "\t<dt>2</dt>\n",
       "\t\t<dd>0.0439453125</dd>\n",
       "\t<dt>3</dt>\n",
       "\t\t<dd>0.1171875</dd>\n",
       "\t<dt>4</dt>\n",
       "\t\t<dd>0.205078125</dd>\n",
       "\t<dt>5</dt>\n",
       "\t\t<dd>0.24609375</dd>\n",
       "\t<dt>6</dt>\n",
       "\t\t<dd>0.205078125</dd>\n",
       "\t<dt>7</dt>\n",
       "\t\t<dd>0.1171875</dd>\n",
       "\t<dt>8</dt>\n",
       "\t\t<dd>0.0439453125</dd>\n",
       "\t<dt>9</dt>\n",
       "\t\t<dd>0.009765625</dd>\n",
       "</dl>\n"
      ],
      "text/latex": [
       "\\begin{description*}\n",
       "\\item[0] 0.0009765625\n",
       "\\item[1] 0.009765625\n",
       "\\item[2] 0.0439453125\n",
       "\\item[3] 0.1171875\n",
       "\\item[4] 0.205078125\n",
       "\\item[5] 0.24609375\n",
       "\\item[6] 0.205078125\n",
       "\\item[7] 0.1171875\n",
       "\\item[8] 0.0439453125\n",
       "\\item[9] 0.009765625\n",
       "\\end{description*}\n"
      ],
      "text/markdown": [
       "0\n",
       ":   0.00097656251\n",
       ":   0.0097656252\n",
       ":   0.04394531253\n",
       ":   0.11718754\n",
       ":   0.2050781255\n",
       ":   0.246093756\n",
       ":   0.2050781257\n",
       ":   0.11718758\n",
       ":   0.04394531259\n",
       ":   0.009765625\n",
       "\n"
      ],
      "text/plain": [
       "           0            1            2            3            4            5 \n",
       "0.0009765625 0.0097656250 0.0439453125 0.1171875000 0.2050781250 0.2460937500 \n",
       "           6            7            8            9 \n",
       "0.2050781250 0.1171875000 0.0439453125 0.0097656250 "
      ]
     },
     "metadata": {},
     "output_type": "display_data"
    }
   ],
   "source": []
  },
  {
   "cell_type": "code",
   "execution_count": 39,
   "metadata": {
    "collapsed": true
   },
   "outputs": [],
   "source": [
    "min.n.binom <- function(p,x0,var=1,alpha=0.05){\n",
    "    n <- 2\n",
    "    prob <- pnorm(0,x0,var,lower.tail=FALSE)\n",
    "    while(TRUE){\n",
    "        left <- qbinom(alpha/2,n,0.5)\n",
    "        right <- qbinom(alpha/2,n,0.5,lower.tail=FALSE)\n",
    "        pc <- pbinom(left-1,n,prob) + pbinom(right+1,n,prob,lower.tail=FALSE)\n",
    "        if(pc>p)\n",
    "            return(n)\n",
    "        n <- n + 1\n",
    "    }\n",
    "}"
   ]
  },
  {
   "cell_type": "code",
   "execution_count": 43,
   "metadata": {
    "collapsed": false
   },
   "outputs": [
    {
     "data": {
      "text/html": [
       "77"
      ],
      "text/latex": [
       "77"
      ],
      "text/markdown": [
       "77"
      ],
      "text/plain": [
       "[1] 77"
      ]
     },
     "metadata": {},
     "output_type": "display_data"
    }
   ],
   "source": [
    "min.n.binom(0.999999,-1)"
   ]
  },
  {
   "cell_type": "code",
   "execution_count": 44,
   "metadata": {
    "collapsed": false
   },
   "outputs": [
    {
     "data": {
      "text/html": [
       "88"
      ],
      "text/latex": [
       "88"
      ],
      "text/markdown": [
       "88"
      ],
      "text/plain": [
       "[1] 88"
      ]
     },
     "metadata": {},
     "output_type": "display_data"
    }
   ],
   "source": [
    "min.n.binom(0.9999999,-1)"
   ]
  },
  {
   "cell_type": "code",
   "execution_count": 47,
   "metadata": {
    "collapsed": false
   },
   "outputs": [
    {
     "data": {
      "text/html": [
       "97"
      ],
      "text/latex": [
       "97"
      ],
      "text/markdown": [
       "97"
      ],
      "text/plain": [
       "[1] 97"
      ]
     },
     "metadata": {},
     "output_type": "display_data"
    }
   ],
   "source": [
    "min.n.binom(0.99999999,-1)"
   ]
  },
  {
   "cell_type": "code",
   "execution_count": 48,
   "metadata": {
    "collapsed": false
   },
   "outputs": [
    {
     "data": {
      "text/html": [
       "108"
      ],
      "text/latex": [
       "108"
      ],
      "text/markdown": [
       "108"
      ],
      "text/plain": [
       "[1] 108"
      ]
     },
     "metadata": {},
     "output_type": "display_data"
    }
   ],
   "source": [
    "min.n.binom(0.999999999,-1)"
   ]
  },
  {
   "cell_type": "code",
   "execution_count": 49,
   "metadata": {
    "collapsed": false
   },
   "outputs": [
    {
     "data": {
      "text/html": [
       "114"
      ],
      "text/latex": [
       "114"
      ],
      "text/markdown": [
       "114"
      ],
      "text/plain": [
       "[1] 114"
      ]
     },
     "metadata": {},
     "output_type": "display_data"
    }
   ],
   "source": [
    "min.n.binom(0.9999999999,-1)"
   ]
  },
  {
   "cell_type": "code",
   "execution_count": 51,
   "metadata": {
    "collapsed": false
   },
   "outputs": [
    {
     "data": {
      "text/html": [
       "125"
      ],
      "text/latex": [
       "125"
      ],
      "text/markdown": [
       "125"
      ],
      "text/plain": [
       "[1] 125"
      ]
     },
     "metadata": {},
     "output_type": "display_data"
    }
   ],
   "source": [
    "min.n.binom(0.99999999999,-1)"
   ]
  },
  {
   "cell_type": "code",
   "execution_count": 1,
   "metadata": {
    "collapsed": true
   },
   "outputs": [],
   "source": [
    "var=1;alpha=0.05"
   ]
  },
  {
   "cell_type": "code",
   "execution_count": 2,
   "metadata": {
    "collapsed": true
   },
   "outputs": [],
   "source": [
    "p <- 0.999"
   ]
  },
  {
   "cell_type": "code",
   "execution_count": 3,
   "metadata": {
    "collapsed": true
   },
   "outputs": [],
   "source": [
    "x0 <- -1"
   ]
  },
  {
   "cell_type": "code",
   "execution_count": 10,
   "metadata": {
    "collapsed": true
   },
   "outputs": [],
   "source": [
    "    prob <- pnorm(0,x0,var,lower.tail=FALSE)\n"
   ]
  },
  {
   "cell_type": "code",
   "execution_count": 11,
   "metadata": {
    "collapsed": false
   },
   "outputs": [
    {
     "data": {
      "text/html": [
       "0.158655253931457"
      ],
      "text/latex": [
       "0.158655253931457"
      ],
      "text/markdown": [
       "0.158655253931457"
      ],
      "text/plain": [
       "[1] 0.1586553"
      ]
     },
     "metadata": {},
     "output_type": "display_data"
    }
   ],
   "source": [
    "prob"
   ]
  },
  {
   "cell_type": "code",
   "execution_count": 12,
   "metadata": {
    "collapsed": false
   },
   "outputs": [
    {
     "data": {
      "text/html": [
       "0.158655253931457"
      ],
      "text/latex": [
       "0.158655253931457"
      ],
      "text/markdown": [
       "0.158655253931457"
      ],
      "text/plain": [
       "[1] 0.1586553"
      ]
     },
     "metadata": {},
     "output_type": "display_data"
    }
   ],
   "source": [
    "pnorm(0,x0,var,lower.tail=FALSE)"
   ]
  },
  {
   "cell_type": "code",
   "execution_count": 14,
   "metadata": {
    "collapsed": true
   },
   "outputs": [],
   "source": [
    "n <- 2"
   ]
  },
  {
   "cell_type": "code",
   "execution_count": 15,
   "metadata": {
    "collapsed": false
   },
   "outputs": [],
   "source": [
    "        left <- qbinom(alpha/2,n,prob)\n",
    "        right <- qbinom(alpha/2,n,prob,lower.tail=FALSE)\n",
    "        pc <- pbinom(left-1,n,prob) + pbinom(right+1,n,prob,lower.tail=FALSE)\n",
    "        if(pc>p)\n",
    "            return(n)\n",
    "        n <- n + 1\n"
   ]
  },
  {
   "cell_type": "code",
   "execution_count": 16,
   "metadata": {
    "collapsed": false
   },
   "outputs": [
    {
     "data": {
      "text/html": [
       "3"
      ],
      "text/latex": [
       "3"
      ],
      "text/markdown": [
       "3"
      ],
      "text/plain": [
       "[1] 3"
      ]
     },
     "metadata": {},
     "output_type": "display_data"
    }
   ],
   "source": [
    "n"
   ]
  },
  {
   "cell_type": "code",
   "execution_count": 17,
   "metadata": {
    "collapsed": false
   },
   "outputs": [
    {
     "data": {
      "text/html": [
       "0"
      ],
      "text/latex": [
       "0"
      ],
      "text/markdown": [
       "0"
      ],
      "text/plain": [
       "[1] 0"
      ]
     },
     "metadata": {},
     "output_type": "display_data"
    }
   ],
   "source": [
    "left"
   ]
  },
  {
   "cell_type": "code",
   "execution_count": 18,
   "metadata": {
    "collapsed": false
   },
   "outputs": [
    {
     "data": {
      "text/html": [
       "2"
      ],
      "text/latex": [
       "2"
      ],
      "text/markdown": [
       "2"
      ],
      "text/plain": [
       "[1] 2"
      ]
     },
     "metadata": {},
     "output_type": "display_data"
    }
   ],
   "source": [
    "right"
   ]
  },
  {
   "cell_type": "code",
   "execution_count": 19,
   "metadata": {
    "collapsed": false
   },
   "outputs": [
    {
     "data": {
      "text/html": [
       "0"
      ],
      "text/latex": [
       "0"
      ],
      "text/markdown": [
       "0"
      ],
      "text/plain": [
       "[1] 0"
      ]
     },
     "metadata": {},
     "output_type": "display_data"
    }
   ],
   "source": [
    "pc"
   ]
  },
  {
   "cell_type": "code",
   "execution_count": 20,
   "metadata": {
    "collapsed": true
   },
   "outputs": [],
   "source": [
    "        left <- qbinom(alpha/2,n,prob)\n",
    "        right <- qbinom(alpha/2,n,prob,lower.tail=FALSE)\n",
    "        pc <- pbinom(left-1,n,prob) + pbinom(right+1,n,prob,lower.tail=FALSE)\n",
    "        if(pc>p)\n",
    "            return(n)\n",
    "        n <- n + 1\n"
   ]
  },
  {
   "cell_type": "code",
   "execution_count": 21,
   "metadata": {
    "collapsed": false
   },
   "outputs": [
    {
     "data": {
      "text/html": [
       "0"
      ],
      "text/latex": [
       "0"
      ],
      "text/markdown": [
       "0"
      ],
      "text/plain": [
       "[1] 0"
      ]
     },
     "metadata": {},
     "output_type": "display_data"
    }
   ],
   "source": [
    "pc"
   ]
  },
  {
   "cell_type": "code",
   "execution_count": 22,
   "metadata": {
    "collapsed": true
   },
   "outputs": [],
   "source": [
    "        left <- qbinom(alpha/2,n,prob)\n",
    "        right <- qbinom(alpha/2,n,prob,lower.tail=FALSE)\n",
    "        pc <- pbinom(left-1,n,prob) + pbinom(right+1,n,prob,lower.tail=FALSE)\n",
    "        if(pc>p)\n",
    "            return(n)\n",
    "        n <- n + 1\n"
   ]
  },
  {
   "cell_type": "code",
   "execution_count": 23,
   "metadata": {
    "collapsed": false
   },
   "outputs": [
    {
     "data": {
      "text/html": [
       "0.000633603888685683"
      ],
      "text/latex": [
       "0.000633603888685683"
      ],
      "text/markdown": [
       "0.000633603888685683"
      ],
      "text/plain": [
       "[1] 0.0006336039"
      ]
     },
     "metadata": {},
     "output_type": "display_data"
    }
   ],
   "source": [
    "pc"
   ]
  },
  {
   "cell_type": "code",
   "execution_count": 24,
   "metadata": {
    "collapsed": true
   },
   "outputs": [],
   "source": [
    "        left <- qbinom(alpha/2,n,prob)\n",
    "        right <- qbinom(alpha/2,n,prob,lower.tail=FALSE)\n",
    "        pc <- pbinom(left-1,n,prob) + pbinom(right+1,n,prob,lower.tail=FALSE)\n",
    "        if(pc>p)\n",
    "            return(n)\n",
    "        n <- n + 1\n"
   ]
  },
  {
   "cell_type": "code",
   "execution_count": 25,
   "metadata": {
    "collapsed": false
   },
   "outputs": [
    {
     "data": {
      "text/html": [
       "0.000100524585851386"
      ],
      "text/latex": [
       "0.000100524585851386"
      ],
      "text/markdown": [
       "0.000100524585851386"
      ],
      "text/plain": [
       "[1] 0.0001005246"
      ]
     },
     "metadata": {},
     "output_type": "display_data"
    }
   ],
   "source": [
    "pc"
   ]
  },
  {
   "cell_type": "code",
   "execution_count": 26,
   "metadata": {
    "collapsed": true
   },
   "outputs": [],
   "source": [
    "        left <- qbinom(alpha/2,n,prob)\n",
    "        right <- qbinom(alpha/2,n,prob,lower.tail=FALSE)\n",
    "        pc <- pbinom(left-1,n,prob) + pbinom(right+1,n,prob,lower.tail=FALSE)\n",
    "        if(pc>p)\n",
    "            return(n)\n",
    "        n <- n + 1\n"
   ]
  },
  {
   "cell_type": "code",
   "execution_count": 27,
   "metadata": {
    "collapsed": false
   },
   "outputs": [
    {
     "data": {
      "text/html": [
       "0.000523403746635283"
      ],
      "text/latex": [
       "0.000523403746635283"
      ],
      "text/markdown": [
       "0.000523403746635283"
      ],
      "text/plain": [
       "[1] 0.0005234037"
      ]
     },
     "metadata": {},
     "output_type": "display_data"
    }
   ],
   "source": [
    "pc"
   ]
  },
  {
   "cell_type": "code",
   "execution_count": 28,
   "metadata": {
    "collapsed": true
   },
   "outputs": [],
   "source": [
    "        left <- qbinom(alpha/2,n,prob)\n",
    "        right <- qbinom(alpha/2,n,prob,lower.tail=FALSE)\n",
    "        pc <- pbinom(left-1,n,prob) + pbinom(right+1,n,prob,lower.tail=FALSE)\n",
    "        if(pc>p)\n",
    "            return(n)\n",
    "        n <- n + 1\n"
   ]
  },
  {
   "cell_type": "code",
   "execution_count": 29,
   "metadata": {
    "collapsed": false
   },
   "outputs": [
    {
     "data": {
      "text/html": [
       "0.0015907652270775"
      ],
      "text/latex": [
       "0.0015907652270775"
      ],
      "text/markdown": [
       "0.0015907652270775"
      ],
      "text/plain": [
       "[1] 0.001590765"
      ]
     },
     "metadata": {},
     "output_type": "display_data"
    }
   ],
   "source": [
    "pc"
   ]
  },
  {
   "cell_type": "code",
   "execution_count": 30,
   "metadata": {
    "collapsed": true
   },
   "outputs": [],
   "source": [
    "        left <- qbinom(alpha/2,n,prob)\n",
    "        right <- qbinom(alpha/2,n,prob,lower.tail=FALSE)\n",
    "        pc <- pbinom(left-1,n,prob) + pbinom(right+1,n,prob,lower.tail=FALSE)\n",
    "        if(pc>p)\n",
    "            return(n)\n",
    "        n <- n + 1\n"
   ]
  },
  {
   "cell_type": "code",
   "execution_count": 31,
   "metadata": {
    "collapsed": false
   },
   "outputs": [
    {
     "data": {
      "text/html": [
       "0.000333538663861098"
      ],
      "text/latex": [
       "0.000333538663861098"
      ],
      "text/markdown": [
       "0.000333538663861098"
      ],
      "text/plain": [
       "[1] 0.0003335387"
      ]
     },
     "metadata": {},
     "output_type": "display_data"
    }
   ],
   "source": [
    "pc"
   ]
  },
  {
   "cell_type": "code",
   "execution_count": 32,
   "metadata": {
    "collapsed": true
   },
   "outputs": [],
   "source": [
    "        left <- qbinom(alpha/2,n,prob)\n",
    "        right <- qbinom(alpha/2,n,prob,lower.tail=FALSE)\n",
    "        pc <- pbinom(left-1,n,prob) + pbinom(right+1,n,prob,lower.tail=FALSE)\n",
    "        if(pc>p)\n",
    "            return(n)\n",
    "        n <- n + 1\n"
   ]
  },
  {
   "cell_type": "code",
   "execution_count": 33,
   "metadata": {
    "collapsed": false
   },
   "outputs": [
    {
     "data": {
      "text/html": [
       "0.000865446929558355"
      ],
      "text/latex": [
       "0.000865446929558355"
      ],
      "text/markdown": [
       "0.000865446929558355"
      ],
      "text/plain": [
       "[1] 0.0008654469"
      ]
     },
     "metadata": {},
     "output_type": "display_data"
    }
   ],
   "source": [
    "pc"
   ]
  },
  {
   "cell_type": "code",
   "execution_count": 36,
   "metadata": {
    "collapsed": false
   },
   "outputs": [
    {
     "data": {
      "text/html": [
       "10"
      ],
      "text/latex": [
       "10"
      ],
      "text/markdown": [
       "10"
      ],
      "text/plain": [
       "[1] 10"
      ]
     },
     "metadata": {},
     "output_type": "display_data"
    }
   ],
   "source": [
    "n"
   ]
  },
  {
   "cell_type": "code",
   "execution_count": 37,
   "metadata": {
    "collapsed": true
   },
   "outputs": [],
   "source": [
    "        left <- qbinom(alpha/2,n,0.5)\n",
    "        right <- qbinom(alpha/2,n,0.5,lower.tail=FALSE)\n",
    "        pc <- pbinom(left-1,n,prob) + pbinom(right+1,n,prob,lower.tail=FALSE)\n",
    "        if(pc>p)\n",
    "            return(n)\n",
    "        n <- n + 1\n"
   ]
  },
  {
   "cell_type": "code",
   "execution_count": 38,
   "metadata": {
    "collapsed": false
   },
   "outputs": [
    {
     "data": {
      "text/html": [
       "0.512856898297305"
      ],
      "text/latex": [
       "0.512856898297305"
      ],
      "text/markdown": [
       "0.512856898297305"
      ],
      "text/plain": [
       "[1] 0.5128569"
      ]
     },
     "metadata": {},
     "output_type": "display_data"
    }
   ],
   "source": [
    "pc"
   ]
  },
  {
   "cell_type": "code",
   "execution_count": 61,
   "metadata": {
    "collapsed": true
   },
   "outputs": [],
   "source": [
    "power.norm <- function(x,n=10,x0=0,var=1,alpha=0.05){\n",
    "    left <- qnorm(alpha/2,x0,var/n)\n",
    "    right <- qnorm(alpha/2,x0,var/n,lower.tail=FALSE)\n",
    "    power <- pnorm(left,x,var/n) + pnorm(right,x,var/n,lower.tail=FALSE)\n",
    "    return(power)\n",
    "}"
   ]
  },
  {
   "cell_type": "code",
   "execution_count": 65,
   "metadata": {
    "collapsed": false
   },
   "outputs": [
    {
     "data": {
      "image/png": "[encoded data removed]",
      "text/plain": [
       "plot without title"
      ]
     },
     "metadata": {},
     "output_type": "display_data"
    }
   ],
   "source": [
    "x <- seq(-0.5,0.5,0.01)\n",
    "plot(x,power.norm(x),type=\"l\")"
   ]
  },
  {
   "cell_type": "code",
   "execution_count": 70,
   "metadata": {
    "collapsed": true
   },
   "outputs": [],
   "source": [
    "power.binom <- function(x,n=10,x0=0,var=1,alpha=0.05){\n",
    "    \n",
    "    p0 <- pnorm(x0,x0,var,lower.tail=FALSE)\n",
    "    left <- qbinom(alpha/2,n,p0)\n",
    "    right <- qbinom(alpha/2,n,p0,lower.tail=FALSE)\n",
    "    prob <- pnorm(x0,x,var)\n",
    "    power <- pbinom(left-1,n,prob) + pbinom(right+1,n,prob,lower.tail=FALSE)\n",
    "    return(power)\n",
    "}"
   ]
  },
  {
   "cell_type": "code",
   "execution_count": 76,
   "metadata": {
    "collapsed": false
   },
   "outputs": [
    {
     "data": {
      "image/png": "[encoded data removed]",
      "text/plain": [
       "plot without title"
      ]
     },
     "metadata": {},
     "output_type": "display_data"
    }
   ],
   "source": [
    "x <- seq(-0.5,0.5,0.01)\n",
    "plot(x,power.binom(x,n=50),type=\"o\")"
   ]
  },
  {
   "cell_type": "code",
   "execution_count": 86,
   "metadata": {
    "collapsed": false
   },
   "outputs": [
    {
     "ename": "ERROR",
     "evalue": "Error in as.graphicsAnnot(legend): 缺少参数\"legend\",也没有缺省值\n",
     "output_type": "error",
     "traceback": [
      "Error in as.graphicsAnnot(legend): 缺少参数\"legend\",也没有缺省值\nTraceback:\n",
      "1. legend()",
      "2. as.graphicsAnnot(legend)"
     ]
    },
    {
     "data": {
      "image/png": "[encoded data removed]",
      "text/plain": [
       "plot without title"
      ]
     },
     "metadata": {},
     "output_type": "display_data"
    }
   ],
   "source": [
    "x <- seq(-0.5,0.5,0.01)\n",
    "#plot(x,power.norm(x),type=\"l\")\n",
    "\n",
    "curve(power.norm,xlim=c(-0.5,0.5))\n",
    "curve(power.binom(x,n=100),add=TRUE)\n",
    "legend()"
   ]
  },
  {
   "cell_type": "code",
   "execution_count": 87,
   "metadata": {
    "collapsed": true
   },
   "outputs": [],
   "source": [
    "?legend"
   ]
  },
  {
   "cell_type": "code",
   "execution_count": 89,
   "metadata": {
    "collapsed": false
   },
   "outputs": [
    {
     "data": {
      "image/png": "[encoded data removed]",
      "text/plain": [
       "plot without title"
      ]
     },
     "metadata": {},
     "output_type": "display_data"
    }
   ],
   "source": [
    "# Create data:\n",
    "a=c(1:5)\n",
    "b=c(5,3,4,5,5)\n",
    "c=c(4,5,4,3,1)\n",
    " \n",
    "# Make a basic graph\n",
    "plot( b~a , type=\"b\" , bty=\"l\" , xlab=\"value of a\" , ylab=\"value of b\" , col=rgb(0.2,0.4,0.1,0.7) , lwd=3 , pch=17 , ylim=c(1,5) )\n",
    "lines(c ~a , col=rgb(0.8,0.4,0.1,0.7) , lwd=3 , pch=19 , type=\"b\" )\n",
    " \n",
    "# Add a legend\n",
    "legend(\"bottomleft\", \n",
    "  legend = c(\"Group 1\", \"Group 2\"), \n",
    "  col = c(rgb(0.2,0.4,0.1,0.7), rgb(0.8,0.4,0.1,0.7)), \n",
    "  pch = c(17,19), \n",
    "  bty = \"n\", \n",
    "  pt.cex = 2, \n",
    "  cex = 1.2, \n",
    "  text.col = \"black\", \n",
    "  horiz = F , \n",
    "  inset = c(0.1, 0.1))\n"
   ]
  },
  {
   "cell_type": "code",
   "execution_count": 95,
   "metadata": {
    "collapsed": false
   },
   "outputs": [
    {
     "data": {
      "image/png": "[encoded data removed]",
      "text/plain": [
       "plot without title"
      ]
     },
     "metadata": {},
     "output_type": "display_data"
    }
   ],
   "source": [
    "x <- seq(-0.5,0.5,0.01)\n",
    "#plot(x,power.norm(x),type=\"l\")\n",
    "\n",
    "curve(power.norm,xlim=c(-0.5,0.5),type=\"b\" , bty=\"l\" , lwd=3 , pch=17,col=rgb(0.2,0.4,0.1,0.7))\n",
    "curve(power.binom(x,n=100),add=TRUE,type=\"b\", lwd=3 , pch=19,col=rgb(0.8,0.4,0.1,0.7))\n",
    "\n",
    "legend(\"bottomleft\", \n",
    "  legend = c(\"power norm\", \"power binom\"), \n",
    "  col = c(rgb(0.2,0.4,0.1,0.7), rgb(0.8,0.4,0.1,0.7)), \n",
    "  pch = c(17,19), \n",
    "  bty = \"n\", \n",
    "  pt.cex = 2, \n",
    "  cex = 1.2, \n",
    "  text.col = \"black\", \n",
    "  horiz = F , \n",
    "  inset = c(0.1, 0.1))\n"
   ]
  },
  {
   "cell_type": "code",
   "execution_count": null,
   "metadata": {
    "collapsed": true
   },
   "outputs": [],
   "source": []
  }
 ],
 "metadata": {
  "anaconda-cloud": {},
  "kernelspec": {
   "display_name": "R 3.3",
   "language": "R",
   "name": "ir33"
  },
  "language_info": {
   "codemirror_mode": "r",
   "file_extension": ".r",
   "mimetype": "text/x-r-source",
   "name": "R",
   "pygments_lexer": "r",
   "version": "3.3.1"
  }
 },
 "nbformat": 4,
 "nbformat_minor": 0
}
