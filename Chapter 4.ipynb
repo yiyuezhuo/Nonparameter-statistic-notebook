{
 "cells": [
  {
   "cell_type": "markdown",
   "metadata": {
    "collapsed": true
   },
   "source": [
    "# 多样本数据模型\n",
    "\n",
    "## Kruskal-Wallis秩和检验\n",
    "\n",
    "如果我们知道单样本方差分析中那个总体方差是多少，其实我们就可以回避F检验里通过比消掉那个方差的麻烦，\n",
    "更不用去证明那个麻烦的两个平方和独立的结论。\n",
    "\n",
    "$$\n",
    "\\frac{1}{\\sigma^2} \\sum_{i=1}^k n_i(\\bar{x}_i - \\bar{x})^2 \\sim \\chi^2(k-1)\n",
    "$$\n",
    "\n",
    "在Cochran 的notebook里的讨论我们还发现了$n_i$的决定性用处，虽然没加也是$k-1$秩。但只有加权之后，\n",
    "我们惊讶的发现$\\frac{\\sqrt{n_i}}{\\sigma}(\\bar{x}_i - \\bar{x})$协方差矩阵直接变成了对称幂等矩阵，这就直接得到了卡方分布。\n",
    "\n",
    "在秩的方法里，我们完全照搬上述思路。构造统计量\n",
    "\n",
    "$$\n",
    "H = \\frac{1}{\\sigma^2}\\sum_{i=1}^k n_i (\\bar{R}_i - \\bar{R})^2 = \n",
    "\\frac{12}{N(N+1)}\\sum_{i=1}^k n_i (\\bar{R}_i - \\bar{R})^2\n",
    "$$\n",
    "\n",
    "但是各个秩$R_j$显然不是独立正态分布的，虽然各个分组秩均值$\\bar{R}_i$单独看应该是渐进正态分布的，但它们应该是不独立的。\n",
    "这就使得讨论变得非常麻烦。我们来试验一下是否秩的取值方式可以让它们渐进独立。\n",
    "\n",
    "remark:注意单独看那个$\\sigma^2$应该等于$\\frac{(N-1)(N+1)}{12}$而不是$\\frac{N(N+1)}{12}$，\n",
    "这个偏差已经反映了为了让其服从卡方分布所做修正的某些复杂性。"
   ]
  },
  {
   "cell_type": "code",
   "execution_count": 40,
   "metadata": {
    "collapsed": false
   },
   "outputs": [],
   "source": [
    "mean.rank <- function(cuts = c(10,20,30,40),size = 1000){ \n",
    "    #cuts <- c(10,20,30,40)\n",
    "    n <- sum(cuts)\n",
    "    #size <- 1000\n",
    "    obsl <- c()\n",
    "    for(i in 1:size){\n",
    "        permu <- sample(1:n)\n",
    "        head <- 1\n",
    "        obs <- c()\n",
    "        for(len in cuts){\n",
    "            obs <- c(obs, mean(permu[head:(head+len-1)]))\n",
    "            head <- head + len \n",
    "        }\n",
    "        obsl <- rbind(obsl, obs)\n",
    "    }\n",
    "    return(obsl)\n",
    "}"
   ]
  },
  {
   "cell_type": "code",
   "execution_count": 41,
   "metadata": {
    "collapsed": false
   },
   "outputs": [
    {
     "data": {
      "text/html": [
       "<table>\n",
       "<tbody>\n",
       "\t<tr><td> 1.0000000</td><td>-0.1600879</td><td>-0.1837223</td><td>-0.2964687</td></tr>\n",
       "\t<tr><td>-0.1600879</td><td> 1.0000000</td><td>-0.2953396</td><td>-0.4272494</td></tr>\n",
       "\t<tr><td>-0.1837223</td><td>-0.2953396</td><td> 1.0000000</td><td>-0.5516162</td></tr>\n",
       "\t<tr><td>-0.2964687</td><td>-0.4272494</td><td>-0.5516162</td><td> 1.0000000</td></tr>\n",
       "</tbody>\n",
       "</table>\n"
      ],
      "text/latex": [
       "\\begin{tabular}{llll}\n",
       "\t  1.0000000 & -0.1600879 & -0.1837223 & -0.2964687\\\\\n",
       "\t -0.1600879 &  1.0000000 & -0.2953396 & -0.4272494\\\\\n",
       "\t -0.1837223 & -0.2953396 &  1.0000000 & -0.5516162\\\\\n",
       "\t -0.2964687 & -0.4272494 & -0.5516162 &  1.0000000\\\\\n",
       "\\end{tabular}\n"
      ],
      "text/markdown": [
       "1. 1\n",
       "2. -0.160087936237113\n",
       "3. -0.183722338466183\n",
       "4. -0.29646868896318\n",
       "5. -0.160087936237113\n",
       "6. 1\n",
       "7. -0.295339589751304\n",
       "8. -0.427249447242408\n",
       "9. -0.183722338466183\n",
       "10. -0.295339589751304\n",
       "11. 1\n",
       "12. -0.551616215707932\n",
       "13. -0.29646868896318\n",
       "14. -0.427249447242408\n",
       "15. -0.551616215707932\n",
       "16. 1\n",
       "\n",
       "\n"
      ],
      "text/plain": [
       "     [,1]       [,2]       [,3]       [,4]      \n",
       "[1,]  1.0000000 -0.1600879 -0.1837223 -0.2964687\n",
       "[2,] -0.1600879  1.0000000 -0.2953396 -0.4272494\n",
       "[3,] -0.1837223 -0.2953396  1.0000000 -0.5516162\n",
       "[4,] -0.2964687 -0.4272494 -0.5516162  1.0000000"
      ]
     },
     "metadata": {},
     "output_type": "display_data"
    }
   ],
   "source": [
    "cor(mean.rank(c(10,20,30,40)))"
   ]
  },
  {
   "cell_type": "code",
   "execution_count": 44,
   "metadata": {
    "collapsed": false
   },
   "outputs": [
    {
     "data": {
      "text/html": [
       "<table>\n",
       "<tbody>\n",
       "\t<tr><td> 1.0000000</td><td>-0.1991246</td><td>-0.2240489</td><td>-0.2247874</td></tr>\n",
       "\t<tr><td>-0.1991246</td><td> 1.0000000</td><td>-0.2946999</td><td>-0.3938685</td></tr>\n",
       "\t<tr><td>-0.2240489</td><td>-0.2946999</td><td> 1.0000000</td><td>-0.5831481</td></tr>\n",
       "\t<tr><td>-0.2247874</td><td>-0.3938685</td><td>-0.5831481</td><td> 1.0000000</td></tr>\n",
       "</tbody>\n",
       "</table>\n"
      ],
      "text/latex": [
       "\\begin{tabular}{llll}\n",
       "\t  1.0000000 & -0.1991246 & -0.2240489 & -0.2247874\\\\\n",
       "\t -0.1991246 &  1.0000000 & -0.2946999 & -0.3938685\\\\\n",
       "\t -0.2240489 & -0.2946999 &  1.0000000 & -0.5831481\\\\\n",
       "\t -0.2247874 & -0.3938685 & -0.5831481 &  1.0000000\\\\\n",
       "\\end{tabular}\n"
      ],
      "text/markdown": [
       "1. 1\n",
       "2. -0.199124556355065\n",
       "3. -0.224048908775868\n",
       "4. -0.224787425786647\n",
       "5. -0.199124556355065\n",
       "6. 1\n",
       "7. -0.294699948817852\n",
       "8. -0.393868474820031\n",
       "9. -0.224048908775868\n",
       "10. -0.294699948817852\n",
       "11. 1\n",
       "12. -0.583148073910558\n",
       "13. -0.224787425786647\n",
       "14. -0.393868474820031\n",
       "15. -0.583148073910558\n",
       "16. 1\n",
       "\n",
       "\n"
      ],
      "text/plain": [
       "     [,1]       [,2]       [,3]       [,4]      \n",
       "[1,]  1.0000000 -0.1991246 -0.2240489 -0.2247874\n",
       "[2,] -0.1991246  1.0000000 -0.2946999 -0.3938685\n",
       "[3,] -0.2240489 -0.2946999  1.0000000 -0.5831481\n",
       "[4,] -0.2247874 -0.3938685 -0.5831481  1.0000000"
      ]
     },
     "metadata": {},
     "output_type": "display_data"
    }
   ],
   "source": [
    "cor(mean.rank(c(10,20,30,40)*10))"
   ]
  },
  {
   "cell_type": "code",
   "execution_count": 45,
   "metadata": {
    "collapsed": false
   },
   "outputs": [
    {
     "data": {
      "text/html": [
       "<table>\n",
       "<tbody>\n",
       "\t<tr><td> 1.0000000</td><td>-0.1523421</td><td>-0.1896773</td><td>-0.3576632</td></tr>\n",
       "\t<tr><td>-0.1523421</td><td> 1.0000000</td><td>-0.3496109</td><td>-0.4133972</td></tr>\n",
       "\t<tr><td>-0.1896773</td><td>-0.3496109</td><td> 1.0000000</td><td>-0.4785979</td></tr>\n",
       "\t<tr><td>-0.3576632</td><td>-0.4133972</td><td>-0.4785979</td><td> 1.0000000</td></tr>\n",
       "</tbody>\n",
       "</table>\n"
      ],
      "text/latex": [
       "\\begin{tabular}{llll}\n",
       "\t  1.0000000 & -0.1523421 & -0.1896773 & -0.3576632\\\\\n",
       "\t -0.1523421 &  1.0000000 & -0.3496109 & -0.4133972\\\\\n",
       "\t -0.1896773 & -0.3496109 &  1.0000000 & -0.4785979\\\\\n",
       "\t -0.3576632 & -0.4133972 & -0.4785979 &  1.0000000\\\\\n",
       "\\end{tabular}\n"
      ],
      "text/markdown": [
       "1. 1\n",
       "2. -0.152342116951272\n",
       "3. -0.189677258562816\n",
       "4. -0.35766316048733\n",
       "5. -0.152342116951272\n",
       "6. 1\n",
       "7. -0.349610949645661\n",
       "8. -0.413397225689573\n",
       "9. -0.189677258562816\n",
       "10. -0.349610949645661\n",
       "11. 1\n",
       "12. -0.478597909142745\n",
       "13. -0.35766316048733\n",
       "14. -0.413397225689573\n",
       "15. -0.478597909142745\n",
       "16. 1\n",
       "\n",
       "\n"
      ],
      "text/plain": [
       "     [,1]       [,2]       [,3]       [,4]      \n",
       "[1,]  1.0000000 -0.1523421 -0.1896773 -0.3576632\n",
       "[2,] -0.1523421  1.0000000 -0.3496109 -0.4133972\n",
       "[3,] -0.1896773 -0.3496109  1.0000000 -0.4785979\n",
       "[4,] -0.3576632 -0.4133972 -0.4785979  1.0000000"
      ]
     },
     "metadata": {},
     "output_type": "display_data"
    }
   ],
   "source": [
    "cor(mean.rank(c(10,20,30,40)*100))"
   ]
  },
  {
   "cell_type": "markdown",
   "metadata": {},
   "source": [
    "可以看出，各分组平均秩和随规模增长并没有渐进独立的趋势，这就导致在这个步骤归约到常规的方差分析那种形式的尝试失败了。\n",
    "为了证明上述统计量的确渐进服从$\\chi^2(k-1)$分布，得借助其他方法。\n",
    "\n",
    "事实上我又没想出来，参照陈希儒的《非参数统计教程》P115和P155的内容，可以作出如下说明。\n",
    "\n",
    "设$n$为总样本规模，$m$为分组数。则对分组$k \\in 1,...,m$而言的线性秩和统计量定义为：\n",
    "\n",
    "$$\n",
    "L_{nk} = \\sum_{i=1}^n c_{ni}^{(k)} a_n(R_i), \\quad k = 1,...,m\n",
    "$$\n",
    "\n",
    "其中$R_i$是第$i$个观测的秩，$a_n$是记分函数。$c_{ni}^{(k)}$是第$k$组给记分$a_n(R_i)$的加权，经常会给本组以外的数赋0，本组赋1，\n",
    "这种情况中使用加权记法是为了简化符号。不然要写成那种恶心的分割$n_k$的记法。\n",
    "\n",
    "符合某些正则条件情况下（大致就是加权和记分不“发散”之类的）。若以下极限都存在\n",
    "\n",
    "$$\n",
    "\\lim_{n \\to \\infty} \n",
    "\\frac{\n",
    "\\sum_{i=1}^n (c_{ni}^{(k)} - \\bar{c}_n^{(k)} )(c_{ni}^{(l)} - \\bar{c}_n^{(l)} )\n",
    "}\n",
    "{\n",
    "\\sqrt{\n",
    "\\sum_{i=1}^n (c_{ni}^{(k)} - \\bar{c}_n^{(k)} )^2  \\sum_{i=1}^n (c_{ni}^{(l)} - \\bar{c}_n^{(l)} )^2 \n",
    "}\n",
    "}\n",
    "= \\lambda_{kl}\n",
    "$$\n",
    "\n",
    "将这些极限做成矩阵$\\Lambda = (\\lambda_{kl})$\n",
    "\n",
    "则有，\n",
    "\n",
    "$$\n",
    "\\begin{bmatrix}\n",
    "\\frac{L_{n1} - E(L_{n1})}{\\sigma_{n1}} \\\\\n",
    "... \\\\\n",
    "\\frac{L_{nm} - E(L_{nm})}{\\sigma_{nm}}  \n",
    "\\end{bmatrix}\n",
    "\\to\n",
    "N(0,\\Lambda)\n",
    "$$\n",
    "\n",
    "注意$\\Lambda$并不是对角矩阵，这里做的是保相关的标准化。"
   ]
  },
  {
   "cell_type": "markdown",
   "metadata": {},
   "source": [
    "极限中$c_{mi}^{(k)}$相当于一个三元函数，每个$n$对应一个不同的三元函数。这个极限反映了这个三元函数的某些性质，\n",
    "也就是具体对每个整体样本规模$n$，$m$个分组是怎么划分的（加权的）。\n",
    "\n",
    "如果我们设极限\n",
    "\n",
    "$$\n",
    "\\frac{n_i}{n} \\to p_i  > 0 \\quad i = 1,2,...,m\n",
    "$$\n",
    "\n",
    "则极限分式上半部分可得到\n",
    "\n",
    "$$\n",
    "\\sum_{i=1}^n (c_{ni}^{(k)} - \\bar{c}_n^{(k)} )(c_{ni}^{(l)} - \\bar{c}_n^{(l)} ) = \n",
    "(n-n_l-n_k) p_k p_l + n_k (1 - p_k)(-p_l) + n_l(-p_k)(1 - p_l) = n p_k p_l - n_k p_l - n_l p_k = \n",
    "\\frac{n_k n_l}{n} - \\frac{n_k n_l}{n} - \\frac{n_k n_l}{n} = -\\frac{n_k n_l}{n}\n",
    "$$\n",
    "\n",
    "下半部分可依次得到\n",
    "\n",
    "$$\n",
    "\\sum_{i=1}^n (c_{ni}^{(k)} - \\bar{c}_n^{(k)} )^2 =\n",
    "n_k (1 - p_k)^2 + (n - n_k)p_k^2\n",
    "$$"
   ]
  },
  {
   "cell_type": "markdown",
   "metadata": {},
   "source": [
    "$$\n",
    "n_k - 2 p_k n_k + n p_k^2 = n_k - 2\\frac{n_k^2}{n} + \\frac{n_k^2}{n} = n_k - \\frac{n_k^2}{n} = n_k(1 - p_k)\n",
    "$$\n"
   ]
  },
  {
   "cell_type": "markdown",
   "metadata": {},
   "source": [
    "$$\n",
    "\\sum_{i=1}^n (c_{ni}^{(k)} - \\bar{c}_n^{(k)} )^2  \\sum_{i=1}^n (c_{ni}^{(l)} - \\bar{c}_n^{(l)} )^2  =\n",
    "n_k(1 - p_k) n_l (1 - p_l)\n",
    "$$"
   ]
  },
  {
   "cell_type": "markdown",
   "metadata": {},
   "source": [
    "于是\n",
    "\n",
    "$$\n",
    "\\lambda_{kl} = \n",
    "\\frac{\n",
    "\\sum_{i=1}^n (c_{ni}^{(k)} - \\bar{c}_n^{(k)} )(c_{ni}^{(l)} - \\bar{c}_n^{(l)} )\n",
    "}\n",
    "{\n",
    "\\sqrt{\n",
    "\\sum_{i=1}^n (c_{ni}^{(k)} - \\bar{c}_n^{(k)} )^2  \\sum_{i=1}^n (c_{ni}^{(l)} - \\bar{c}_n^{(l)} )^2 \n",
    "}\n",
    "}\n",
    "=\n",
    "\\frac{\n",
    "-\\frac{n_k n_l}{n}\n",
    "}\n",
    "{\n",
    "\\sqrt{n_k(1 - p_k) n_l (1 - p_l)}\n",
    "}\n",
    "=\n",
    "-\\sqrt{ \\frac{p_k p_l}{(1 - p_k)(1 - p_l)} }\n",
    "\\quad\n",
    "k \\neq l \\\\\n",
    "\\lambda_{kk} = 1\n",
    "$$\n",
    "\n",
    "这样可以定义出$m \\times m$的矩阵$\\Lambda$，然而它不可逆，我们转而只选取它的左上角的$m-1 \\times m-1$子矩阵作为矩阵$\\Lambda$。\n",
    "当然只这么做并不能证明它可逆，我们发现可以通过直接凭空构造一个逆矩阵使其乘积为$m-1$级单位阵来证明这一点。\n",
    "\n",
    "构造\n",
    "$$\n",
    "\\Lambda^{-1} \n",
    "=\n",
    "\\begin{bmatrix}\n",
    "1 - p_1 & 0     & \\cdots & 0 \\\\\n",
    "0     & 1 - p_2 & \\cdots & 0 \\\\\n",
    "\\vdots  & \\vdots  & \\ddots & \\vdots \\\\\n",
    "0     & 0     & \\cdots & 1 - p_{m-1}\n",
    "\\end{bmatrix}\n",
    "+\n",
    "dd^T / p_m\n",
    "$$\n",
    "\n",
    "其中\n",
    "$$\n",
    "d=(\\sqrt{p_1(1-p_1)},...,\\sqrt{p_{m-1}(1-p_{m-1}}))^T\n",
    "$$\n",
    "\n",
    "可以计算证明其的确为$\\Lambda$的逆矩阵。\n",
    "\n",
    "看上去是完全机械的运算，就是不验证了（好吧我开个头后去吃了个饭，再回来就不想算了）。这里有趣的是线性约束是如何起作用的，\n",
    "我们那是协方差矩阵秩与去相关标准化。它这是。。。利用约束中导出的$x_m = a_1 x_1 + ...$式关系直接消掉了$x_m$，\n",
    "然后只用$x_1,...,x_{m-1}$折腾。由于那个关系的存在，想要它出现时候就构造出表达式把它代回来就是。只有$m-1$的表达式去证明\n",
    "它服从$m-1$自由度的卡方分布显然更自然。\n",
    "\n",
    "既然$\\Lambda^{-1}$的确是$\\Lambda$的逆矩阵。我们就可以直接做$(x_1,...,x_{m-1})\\Lambda^{-1}(x_1,...,x_{m-1})^T \\sim \\chi^2(m-1)$。\n",
    "这是具有满秩的协方差矩阵的随机向量的特权。展开二次型$(x_1,...,x_{m-1})\\Lambda^{-1}(x_1,...,x_{m-1})^T $的表达式，我们可以从中\n",
    "代回$x_m$，然后凑成某个看的上眼的统计量形式，然后我们就自然得到该统计量服从$\\chi^2(m-1)$。比如抽象的$T_n$统计量。\n",
    "\n",
    "$$\n",
    "T_n = \\frac{n-1}{D_n} \\sum_{i=1}^m n_i (L_{n_i}/n_i - \\bar{a}_n)^2 \\sim \\chi^2(m-1)\n",
    "$$\n",
    "\n",
    "在取记分函数取恒等映射$a_n(r) = r$，即直接的秩和时，我们得到Kruskal-Wallis统计量与卡方分布的关系。\n",
    "\n",
    "$$\n",
    "H = T_n = \\frac{12}{n(n+1)} \\sum_{i=1}^m n_i (R_i - \\frac{n+1}{2})^2 \\sim \\chi^2(m-1)\n",
    "$$\n",
    "\n",
    "从这个证明中我们得到了一个套路，因为满秩协方差矩阵的随机向量可以自然地服从卡方分布。\n",
    "对于有不满秩（自由度小于变量数）的协方差矩阵的随机向量。我们可以先取其极大线性无关组，自然地论证其与卡方分布后再经过线性组合关系\n",
    "把之前失踪的变量代回来，凑成所有变量都出现的形式。如果所证命题真的正确，就一定凑的出来。\n",
    "\n",
    "虽然没有必要，但也可以得到对称于方差分析的F检验的$F^*$统计量。\n",
    "\n",
    "$$\n",
    "F^* = \\frac{ \\sum_{i=1}^m n_i(\\bar{x}_i - \\bar{x})^2 / (k-1) }\n",
    "{ \\sum_{i=1}^m \\sum_{j=\\sum_{k=1}^{m-1} n_k + 1}^{\\sum_{k=1}^{m} n_k} (x_j - \\bar{x}_i)^2  / (n-k)}\n",
    "\\sim F(n-1,n-k)\n",
    "$$\n",
    "\n",
    "KW统计量的精确分布可以采用置换检验的思想，可以定义为遍历每个排列，每个排列对应一个统计量值与一个相同的概率。再合并起来就得到了精确分布。\n",
    "虽然这么定义比较直观，但复杂度感人。我们也可以在第一组中构成所有可能组合，再在第二组中构成残余元素所有组合。。这样。"
   ]
  },
  {
   "cell_type": "code",
   "execution_count": 1,
   "metadata": {
    "collapsed": false
   },
   "outputs": [
    {
     "data": {
      "text/html": [
       "4782969"
      ],
      "text/latex": [
       "4782969"
      ],
      "text/markdown": [
       "4782969"
      ],
      "text/plain": [
       "[1] 4782969"
      ]
     },
     "metadata": {},
     "output_type": "display_data"
    }
   ],
   "source": [
    "3**14"
   ]
  },
  {
   "cell_type": "code",
   "execution_count": 4,
   "metadata": {
    "collapsed": false
   },
   "outputs": [
    {
     "data": {
      "text/html": [
       "87178291200"
      ],
      "text/latex": [
       "87178291200"
      ],
      "text/markdown": [
       "87178291200"
      ],
      "text/plain": [
       "[1] 87178291200"
      ]
     },
     "metadata": {},
     "output_type": "display_data"
    }
   ],
   "source": [
    "prod(1:14)"
   ]
  },
  {
   "cell_type": "code",
   "execution_count": 5,
   "metadata": {
    "collapsed": false
   },
   "outputs": [
    {
     "data": {
      "text/html": [
       "252252"
      ],
      "text/latex": [
       "252252"
      ],
      "text/markdown": [
       "252252"
      ],
      "text/plain": [
       "[1] 252252"
      ]
     },
     "metadata": {},
     "output_type": "display_data"
    }
   ],
   "source": [
    "prod(10:14)/prod(1:5) * prod(5:9) / prod(1:5) * prod(1:4) /prod(1:4)"
   ]
  },
  {
   "cell_type": "code",
   "execution_count": 209,
   "metadata": {
    "collapsed": false
   },
   "outputs": [],
   "source": [
    "pierce <- function(x, n){\n",
    "    \n",
    "    if(length(x)==n){\n",
    "        return(matrix(x,1,length(x)))\n",
    "    }\n",
    "    if(n == 1){\n",
    "        return(matrix(x,length(x),1))\n",
    "    }\n",
    "        \n",
    "    rm <- NULL\n",
    "    for(i in 1:(length(x)-n+1)){\n",
    "        cbinded <- cbind(x[i],pierce(x[(i+1):length(x)],n-1))\n",
    "        rm <- rbind(rm, cbinded)\n",
    "    }\n",
    "    return(rm)\n",
    "}"
   ]
  },
  {
   "cell_type": "code",
   "execution_count": 216,
   "metadata": {
    "collapsed": false
   },
   "outputs": [
    {
     "data": {
      "text/html": [
       "<table>\n",
       "<tbody>\n",
       "\t<tr><td>1</td><td>2</td><td>3</td></tr>\n",
       "\t<tr><td>1</td><td>2</td><td>4</td></tr>\n",
       "\t<tr><td>1</td><td>3</td><td>4</td></tr>\n",
       "\t<tr><td>2</td><td>3</td><td>4</td></tr>\n",
       "</tbody>\n",
       "</table>\n"
      ],
      "text/latex": [
       "\\begin{tabular}{lll}\n",
       "\t 1 & 2 & 3\\\\\n",
       "\t 1 & 2 & 4\\\\\n",
       "\t 1 & 3 & 4\\\\\n",
       "\t 2 & 3 & 4\\\\\n",
       "\\end{tabular}\n"
      ],
      "text/markdown": [
       "1. 1\n",
       "2. 1\n",
       "3. 1\n",
       "4. 2\n",
       "5. 2\n",
       "6. 2\n",
       "7. 3\n",
       "8. 3\n",
       "9. 3\n",
       "10. 4\n",
       "11. 4\n",
       "12. 4\n",
       "\n",
       "\n"
      ],
      "text/plain": [
       "     [,1] [,2] [,3]\n",
       "[1,] 1    2    3   \n",
       "[2,] 1    2    4   \n",
       "[3,] 1    3    4   \n",
       "[4,] 2    3    4   "
      ]
     },
     "metadata": {},
     "output_type": "display_data"
    }
   ],
   "source": [
    "pierce(c(1,2,3,4),3)"
   ]
  },
  {
   "cell_type": "code",
   "execution_count": 220,
   "metadata": {
    "collapsed": false
   },
   "outputs": [
    {
     "data": {
      "text/html": [
       "<table>\n",
       "<tbody>\n",
       "\t<tr><td>1</td></tr>\n",
       "\t<tr><td>2</td></tr>\n",
       "\t<tr><td>3</td></tr>\n",
       "\t<tr><td>4</td></tr>\n",
       "\t<tr><td>5</td></tr>\n",
       "\t<tr><td>6</td></tr>\n",
       "</tbody>\n",
       "</table>\n"
      ],
      "text/latex": [
       "\\begin{tabular}{l}\n",
       "\t 1\\\\\n",
       "\t 2\\\\\n",
       "\t 3\\\\\n",
       "\t 4\\\\\n",
       "\t 5\\\\\n",
       "\t 6\\\\\n",
       "\\end{tabular}\n"
      ],
      "text/markdown": [
       "1. 1\n",
       "2. 2\n",
       "3. 3\n",
       "4. 4\n",
       "5. 5\n",
       "6. 6\n",
       "\n",
       "\n"
      ],
      "text/plain": [
       "     [,1]\n",
       "[1,] 1   \n",
       "[2,] 2   \n",
       "[3,] 3   \n",
       "[4,] 4   \n",
       "[5,] 5   \n",
       "[6,] 6   "
      ]
     },
     "metadata": {},
     "output_type": "display_data"
    }
   ],
   "source": [
    "pierce(c(1,2,3,4,5,6),1)"
   ]
  },
  {
   "cell_type": "code",
   "execution_count": 197,
   "metadata": {
    "collapsed": false
   },
   "outputs": [],
   "source": [
    "group <- function(x, nk){\n",
    "    if(length(nk)==1){\n",
    "        return(matrix(x,1,length(x)))\n",
    "    }\n",
    "    self.res <- NULL\n",
    "    perm.mat <- pierce(1:length(x),nk[1])\n",
    "    #print(perm.mat)\n",
    "    for(i in 1:nrow(perm.mat)){\n",
    "        #cat('x',x,'nk',nk,'i',i,'select',x[perm.mat[i,]],'res.select',x[-perm.mat[i,]],'\\n')\n",
    "        group.res <- group(x[-perm.mat[i,]],nk[2:length(nk)])\n",
    "        left.matrix <- matrix(rep(x[perm.mat[i,]],nrow(group.res)),nrow(group.res),nk[1],byrow=TRUE)\n",
    "        self.res <- rbind(self.res, cbind(left.matrix,group.res))\n",
    "    }\n",
    "    return(self.res)\n",
    "}"
   ]
  },
  {
   "cell_type": "code",
   "execution_count": 210,
   "metadata": {
    "collapsed": false
   },
   "outputs": [
    {
     "data": {
      "text/html": [
       "<table>\n",
       "<tbody>\n",
       "\t<tr><td>1</td><td>2</td><td>3</td><td>4</td></tr>\n",
       "\t<tr><td>1</td><td>3</td><td>2</td><td>4</td></tr>\n",
       "\t<tr><td>1</td><td>4</td><td>2</td><td>3</td></tr>\n",
       "\t<tr><td>2</td><td>3</td><td>1</td><td>4</td></tr>\n",
       "\t<tr><td>2</td><td>4</td><td>1</td><td>3</td></tr>\n",
       "\t<tr><td>3</td><td>4</td><td>1</td><td>2</td></tr>\n",
       "</tbody>\n",
       "</table>\n"
      ],
      "text/latex": [
       "\\begin{tabular}{llll}\n",
       "\t 1 & 2 & 3 & 4\\\\\n",
       "\t 1 & 3 & 2 & 4\\\\\n",
       "\t 1 & 4 & 2 & 3\\\\\n",
       "\t 2 & 3 & 1 & 4\\\\\n",
       "\t 2 & 4 & 1 & 3\\\\\n",
       "\t 3 & 4 & 1 & 2\\\\\n",
       "\\end{tabular}\n"
      ],
      "text/markdown": [
       "1. 1\n",
       "2. 1\n",
       "3. 1\n",
       "4. 2\n",
       "5. 2\n",
       "6. 3\n",
       "7. 2\n",
       "8. 3\n",
       "9. 4\n",
       "10. 3\n",
       "11. 4\n",
       "12. 4\n",
       "13. 3\n",
       "14. 2\n",
       "15. 2\n",
       "16. 1\n",
       "17. 1\n",
       "18. 1\n",
       "19. 4\n",
       "20. 4\n",
       "21. 3\n",
       "22. 4\n",
       "23. 3\n",
       "24. 2\n",
       "\n",
       "\n"
      ],
      "text/plain": [
       "     [,1] [,2] [,3] [,4]\n",
       "[1,] 1    2    3    4   \n",
       "[2,] 1    3    2    4   \n",
       "[3,] 1    4    2    3   \n",
       "[4,] 2    3    1    4   \n",
       "[5,] 2    4    1    3   \n",
       "[6,] 3    4    1    2   "
      ]
     },
     "metadata": {},
     "output_type": "display_data"
    }
   ],
   "source": [
    "group(c(1,2,3,4),c(2,2))"
   ]
  },
  {
   "cell_type": "code",
   "execution_count": 211,
   "metadata": {
    "collapsed": false
   },
   "outputs": [
    {
     "data": {
      "text/html": [
       "<table>\n",
       "<tbody>\n",
       "\t<tr><td>1</td><td>2</td><td>3</td><td>4</td><td>5</td><td>6</td></tr>\n",
       "\t<tr><td>1</td><td>2</td><td>3</td><td>5</td><td>4</td><td>6</td></tr>\n",
       "\t<tr><td>1</td><td>2</td><td>3</td><td>6</td><td>4</td><td>5</td></tr>\n",
       "\t<tr><td>1</td><td>2</td><td>4</td><td>5</td><td>3</td><td>6</td></tr>\n",
       "\t<tr><td>1</td><td>2</td><td>4</td><td>6</td><td>3</td><td>5</td></tr>\n",
       "\t<tr><td>1</td><td>2</td><td>5</td><td>6</td><td>3</td><td>4</td></tr>\n",
       "</tbody>\n",
       "</table>\n"
      ],
      "text/latex": [
       "\\begin{tabular}{llllll}\n",
       "\t 1 & 2 & 3 & 4 & 5 & 6\\\\\n",
       "\t 1 & 2 & 3 & 5 & 4 & 6\\\\\n",
       "\t 1 & 2 & 3 & 6 & 4 & 5\\\\\n",
       "\t 1 & 2 & 4 & 5 & 3 & 6\\\\\n",
       "\t 1 & 2 & 4 & 6 & 3 & 5\\\\\n",
       "\t 1 & 2 & 5 & 6 & 3 & 4\\\\\n",
       "\\end{tabular}\n"
      ],
      "text/markdown": [
       "1. 1\n",
       "2. 1\n",
       "3. 1\n",
       "4. 1\n",
       "5. 1\n",
       "6. 1\n",
       "7. 2\n",
       "8. 2\n",
       "9. 2\n",
       "10. 2\n",
       "11. 2\n",
       "12. 2\n",
       "13. 3\n",
       "14. 3\n",
       "15. 3\n",
       "16. 4\n",
       "17. 4\n",
       "18. 5\n",
       "19. 4\n",
       "20. 5\n",
       "21. 6\n",
       "22. 5\n",
       "23. 6\n",
       "24. 6\n",
       "25. 5\n",
       "26. 4\n",
       "27. 4\n",
       "28. 3\n",
       "29. 3\n",
       "30. 3\n",
       "31. 6\n",
       "32. 6\n",
       "33. 5\n",
       "34. 6\n",
       "35. 5\n",
       "36. 4\n",
       "\n",
       "\n"
      ],
      "text/plain": [
       "     [,1] [,2] [,3] [,4] [,5] [,6]\n",
       "[1,] 1    2    3    4    5    6   \n",
       "[2,] 1    2    3    5    4    6   \n",
       "[3,] 1    2    3    6    4    5   \n",
       "[4,] 1    2    4    5    3    6   \n",
       "[5,] 1    2    4    6    3    5   \n",
       "[6,] 1    2    5    6    3    4   "
      ]
     },
     "metadata": {},
     "output_type": "display_data"
    }
   ],
   "source": [
    "mat <- group(1:6,c(2,2,2))\n",
    "\n",
    "head(mat)"
   ]
  },
  {
   "cell_type": "code",
   "execution_count": 201,
   "metadata": {
    "collapsed": false
   },
   "outputs": [
    {
     "data": {
      "text/html": [
       "90"
      ],
      "text/latex": [
       "90"
      ],
      "text/markdown": [
       "90"
      ],
      "text/plain": [
       "[1] 90"
      ]
     },
     "metadata": {},
     "output_type": "display_data"
    }
   ],
   "source": [
    "6*5/2 * 4*3/2"
   ]
  },
  {
   "cell_type": "code",
   "execution_count": 214,
   "metadata": {
    "collapsed": false
   },
   "outputs": [
    {
     "data": {
      "text/html": [
       "90"
      ],
      "text/latex": [
       "90"
      ],
      "text/markdown": [
       "90"
      ],
      "text/plain": [
       "[1] 90"
      ]
     },
     "metadata": {},
     "output_type": "display_data"
    }
   ],
   "source": [
    "nrow(mat)"
   ]
  },
  {
   "cell_type": "code",
   "execution_count": 221,
   "metadata": {
    "collapsed": false
   },
   "outputs": [
    {
     "data": {
      "text/html": [
       "<ol class=list-inline>\n",
       "\t<li>10</li>\n",
       "\t<li>20</li>\n",
       "\t<li>30</li>\n",
       "\t<li>40</li>\n",
       "\t<li>50</li>\n",
       "\t<li>60</li>\n",
       "</ol>\n"
      ],
      "text/latex": [
       "\\begin{enumerate*}\n",
       "\\item 10\n",
       "\\item 20\n",
       "\\item 30\n",
       "\\item 40\n",
       "\\item 50\n",
       "\\item 60\n",
       "\\end{enumerate*}\n"
      ],
      "text/markdown": [
       "1. 10\n",
       "2. 20\n",
       "3. 30\n",
       "4. 40\n",
       "5. 50\n",
       "6. 60\n",
       "\n",
       "\n"
      ],
      "text/plain": [
       "[1] 10 20 30 40 50 60"
      ]
     },
     "metadata": {},
     "output_type": "display_data"
    }
   ],
   "source": [
    "seq(10,60,10)"
   ]
  },
  {
   "cell_type": "code",
   "execution_count": 223,
   "metadata": {
    "collapsed": false
   },
   "outputs": [
    {
     "data": {
      "text/html": [
       "<table>\n",
       "<tbody>\n",
       "\t<tr><td>10</td><td>20</td><td>30</td><td>40</td><td>50</td><td>60</td></tr>\n",
       "\t<tr><td>10</td><td>20</td><td>30</td><td>50</td><td>40</td><td>60</td></tr>\n",
       "\t<tr><td>10</td><td>20</td><td>30</td><td>60</td><td>40</td><td>50</td></tr>\n",
       "\t<tr><td>10</td><td>20</td><td>40</td><td>50</td><td>30</td><td>60</td></tr>\n",
       "\t<tr><td>10</td><td>20</td><td>40</td><td>60</td><td>30</td><td>50</td></tr>\n",
       "\t<tr><td>10</td><td>20</td><td>50</td><td>60</td><td>30</td><td>40</td></tr>\n",
       "</tbody>\n",
       "</table>\n"
      ],
      "text/latex": [
       "\\begin{tabular}{llllll}\n",
       "\t 10 & 20 & 30 & 40 & 50 & 60\\\\\n",
       "\t 10 & 20 & 30 & 50 & 40 & 60\\\\\n",
       "\t 10 & 20 & 30 & 60 & 40 & 50\\\\\n",
       "\t 10 & 20 & 40 & 50 & 30 & 60\\\\\n",
       "\t 10 & 20 & 40 & 60 & 30 & 50\\\\\n",
       "\t 10 & 20 & 50 & 60 & 30 & 40\\\\\n",
       "\\end{tabular}\n"
      ],
      "text/markdown": [
       "1. 10\n",
       "2. 10\n",
       "3. 10\n",
       "4. 10\n",
       "5. 10\n",
       "6. 10\n",
       "7. 20\n",
       "8. 20\n",
       "9. 20\n",
       "10. 20\n",
       "11. 20\n",
       "12. 20\n",
       "13. 30\n",
       "14. 30\n",
       "15. 30\n",
       "16. 40\n",
       "17. 40\n",
       "18. 50\n",
       "19. 40\n",
       "20. 50\n",
       "21. 60\n",
       "22. 50\n",
       "23. 60\n",
       "24. 60\n",
       "25. 50\n",
       "26. 40\n",
       "27. 40\n",
       "28. 30\n",
       "29. 30\n",
       "30. 30\n",
       "31. 60\n",
       "32. 60\n",
       "33. 50\n",
       "34. 60\n",
       "35. 50\n",
       "36. 40\n",
       "\n",
       "\n"
      ],
      "text/plain": [
       "     [,1] [,2] [,3] [,4] [,5] [,6]\n",
       "[1,] 10   20   30   40   50   60  \n",
       "[2,] 10   20   30   50   40   60  \n",
       "[3,] 10   20   30   60   40   50  \n",
       "[4,] 10   20   40   50   30   60  \n",
       "[5,] 10   20   40   60   30   50  \n",
       "[6,] 10   20   50   60   30   40  "
      ]
     },
     "metadata": {},
     "output_type": "display_data"
    }
   ],
   "source": [
    "head(group(seq(10,60,10),c(2,2,2)))"
   ]
  },
  {
   "cell_type": "code",
   "execution_count": 224,
   "metadata": {
    "collapsed": true
   },
   "outputs": [],
   "source": [
    "mat2 <- group(1:14,c(5,5,4)) # It cost 10+ second to run. Terriable efficiency ,shamed."
   ]
  },
  {
   "cell_type": "code",
   "execution_count": 225,
   "metadata": {
    "collapsed": false
   },
   "outputs": [
    {
     "data": {
      "text/html": [
       "252252"
      ],
      "text/latex": [
       "252252"
      ],
      "text/markdown": [
       "252252"
      ],
      "text/plain": [
       "[1] 252252"
      ]
     },
     "metadata": {},
     "output_type": "display_data"
    }
   ],
   "source": [
    "nrow(mat2)"
   ]
  },
  {
   "cell_type": "code",
   "execution_count": 309,
   "metadata": {
    "collapsed": false
   },
   "outputs": [],
   "source": [
    "S.H.1 <- function(data,nk){\n",
    "    #n <- sum(nk)\n",
    "    #mean.R <- (n+1)/2\n",
    "    head <- 1\n",
    "    res <- NULL\n",
    "    for(k in nk){\n",
    "        res <- cbind(res, apply(data[,head:(head+k-1)],1,mean))\n",
    "        head <- head + k\n",
    "    }\n",
    "    return(res)\n",
    "}\n",
    "\n",
    "S.H.2 <- function(means,nk){\n",
    "    n <- sum(nk)\n",
    "    mean.R <- (n+1)/2\n",
    "    H <- apply((means - mean.R)**2 %*% diag(nk),1,sum) * (12/(n*(n+1)))\n",
    "    return(H)\n",
    "}\n",
    "\n",
    "S.H <- function(data,nk){\n",
    "    means <- S.H.1(data,nk)\n",
    "    return(S.H.2(means,nk))\n",
    "}"
   ]
  },
  {
   "cell_type": "code",
   "execution_count": 230,
   "metadata": {
    "collapsed": false
   },
   "outputs": [],
   "source": [
    "mat3 <- S.H.1(mat2,c(5,5,4))"
   ]
  },
  {
   "cell_type": "code",
   "execution_count": 234,
   "metadata": {
    "collapsed": false
   },
   "outputs": [
    {
     "data": {
      "text/html": [
       "<ol class=list-inline>\n",
       "\t<li>7.5</li>\n",
       "\t<li>7.5</li>\n",
       "\t<li>7.5</li>\n",
       "</ol>\n"
      ],
      "text/latex": [
       "\\begin{enumerate*}\n",
       "\\item 7.5\n",
       "\\item 7.5\n",
       "\\item 7.5\n",
       "\\end{enumerate*}\n"
      ],
      "text/markdown": [
       "1. 7.5\n",
       "2. 7.5\n",
       "3. 7.5\n",
       "\n",
       "\n"
      ],
      "text/plain": [
       "[1] 7.5 7.5 7.5"
      ]
     },
     "metadata": {},
     "output_type": "display_data"
    }
   ],
   "source": [
    "apply(mat3,2,mean)"
   ]
  },
  {
   "cell_type": "code",
   "execution_count": 235,
   "metadata": {
    "collapsed": false
   },
   "outputs": [
    {
     "data": {
      "text/html": [
       "<ol class=list-inline>\n",
       "\t<li>7.5</li>\n",
       "\t<li>7.5</li>\n",
       "\t<li>7.5</li>\n",
       "</ol>\n"
      ],
      "text/latex": [
       "\\begin{enumerate*}\n",
       "\\item 7.5\n",
       "\\item 7.5\n",
       "\\item 7.5\n",
       "\\end{enumerate*}\n"
      ],
      "text/markdown": [
       "1. 7.5\n",
       "2. 7.5\n",
       "3. 7.5\n",
       "\n",
       "\n"
      ],
      "text/plain": [
       "[1] 7.5 7.5 7.5"
      ]
     },
     "metadata": {},
     "output_type": "display_data"
    }
   ],
   "source": [
    "apply(mat3,2,median)"
   ]
  },
  {
   "cell_type": "code",
   "execution_count": 236,
   "metadata": {
    "collapsed": false
   },
   "outputs": [
    {
     "data": {
      "image/png": "[encoded data removed]",
      "text/plain": [
       "Plot with title \"Histogram of mat3[, 1]\""
      ]
     },
     "metadata": {},
     "output_type": "display_data"
    }
   ],
   "source": [
    "hist(mat3[,1])"
   ]
  },
  {
   "cell_type": "code",
   "execution_count": 237,
   "metadata": {
    "collapsed": false
   },
   "outputs": [
    {
     "data": {
      "text/html": [
       "<table>\n",
       "<tbody>\n",
       "\t<tr><td> 2.250009</td><td>-1.250005</td><td>-1.250005</td></tr>\n",
       "\t<tr><td>-1.250005</td><td> 2.250009</td><td>-1.250005</td></tr>\n",
       "\t<tr><td>-1.250005</td><td>-1.250005</td><td> 3.125012</td></tr>\n",
       "</tbody>\n",
       "</table>\n"
      ],
      "text/latex": [
       "\\begin{tabular}{lll}\n",
       "\t  2.250009 & -1.250005 & -1.250005\\\\\n",
       "\t -1.250005 &  2.250009 & -1.250005\\\\\n",
       "\t -1.250005 & -1.250005 &  3.125012\\\\\n",
       "\\end{tabular}\n"
      ],
      "text/markdown": [
       "1. 2.25000891968714\n",
       "2. -1.25000495538174\n",
       "3. -1.25000495538174\n",
       "4. -1.25000495538174\n",
       "5. 2.25000891968714\n",
       "6. -1.25000495538174\n",
       "7. -1.25000495538174\n",
       "8. -1.25000495538174\n",
       "9. 3.12501238845436\n",
       "\n",
       "\n"
      ],
      "text/plain": [
       "     [,1]      [,2]      [,3]     \n",
       "[1,]  2.250009 -1.250005 -1.250005\n",
       "[2,] -1.250005  2.250009 -1.250005\n",
       "[3,] -1.250005 -1.250005  3.125012"
      ]
     },
     "metadata": {},
     "output_type": "display_data"
    }
   ],
   "source": [
    "cov(mat3)"
   ]
  },
  {
   "cell_type": "code",
   "execution_count": 310,
   "metadata": {
    "collapsed": false
   },
   "outputs": [],
   "source": [
    "mat4 <- S.H.2(mat3,c(5,5,4))"
   ]
  },
  {
   "cell_type": "code",
   "execution_count": 311,
   "metadata": {
    "collapsed": false
   },
   "outputs": [
    {
     "data": {
      "image/png": "[encoded data removed]",
      "text/plain": [
       "Plot with title \"Histogram of mat4\""
      ]
     },
     "metadata": {},
     "output_type": "display_data"
    }
   ],
   "source": [
    "hist(mat4)"
   ]
  },
  {
   "cell_type": "code",
   "execution_count": 318,
   "metadata": {
    "collapsed": false
   },
   "outputs": [
    {
     "data": {
      "image/png": "[encoded data removed]",
      "text/plain": [
       "plot without title"
      ]
     },
     "metadata": {},
     "output_type": "display_data"
    }
   ],
   "source": [
    "x <- seq(0,12,0.1)\n",
    "\n",
    "plot(x,ecdf(mat4)(x),'l')\n",
    "\n",
    "\n",
    "y <- pchisq(x,2)\n",
    "\n",
    "lines(x,y,type=\"l\")"
   ]
  },
  {
   "cell_type": "markdown",
   "metadata": {},
   "source": [
    "可以看出精确分布的确与渐进的卡方分布十分接近。"
   ]
  },
  {
   "cell_type": "code",
   "execution_count": 3,
   "metadata": {
    "collapsed": true
   },
   "outputs": [],
   "source": [
    "wtloss <- c(3.7, 3.7, 3.0, 3.9, 2.7, \n",
    "            7.3, 5.2, 5.3, 5.7, 6.5,\n",
    "            9.0, 4.9, 7.1, 8.7)\n",
    "wtloss.nk <- c(5,5,4)"
   ]
  },
  {
   "cell_type": "code",
   "execution_count": 322,
   "metadata": {
    "collapsed": false
   },
   "outputs": [
    {
     "data": {
      "text/html": [
       "<ol class=list-inline>\n",
       "\t<li>9.41142857142857</li>\n",
       "\t<li>9.41142857142857</li>\n",
       "</ol>\n"
      ],
      "text/latex": [
       "\\begin{enumerate*}\n",
       "\\item 9.41142857142857\n",
       "\\item 9.41142857142857\n",
       "\\end{enumerate*}\n"
      ],
      "text/markdown": [
       "1. 9.41142857142857\n",
       "2. 9.41142857142857\n",
       "\n",
       "\n"
      ],
      "text/plain": [
       "[1] 9.411429 9.411429"
      ]
     },
     "metadata": {},
     "output_type": "display_data"
    }
   ],
   "source": [
    "sh <- S.H(rbind(rank(wtloss),rank(wtloss)),wtloss.nk) # fuck the auto simplify\n",
    "sh"
   ]
  },
  {
   "cell_type": "code",
   "execution_count": 323,
   "metadata": {
    "collapsed": false
   },
   "outputs": [
    {
     "data": {
      "text/html": [
       "9.41142857142857"
      ],
      "text/latex": [
       "9.41142857142857"
      ],
      "text/markdown": [
       "9.41142857142857"
      ],
      "text/plain": [
       "[1] 9.411429"
      ]
     },
     "metadata": {},
     "output_type": "display_data"
    }
   ],
   "source": [
    "H <- sh[1]\n",
    "H"
   ]
  },
  {
   "cell_type": "code",
   "execution_count": 324,
   "metadata": {
    "collapsed": false
   },
   "outputs": [
    {
     "data": {
      "text/html": [
       "0.00904345230156344"
      ],
      "text/latex": [
       "0.00904345230156344"
      ],
      "text/markdown": [
       "0.00904345230156344"
      ],
      "text/plain": [
       "[1] 0.009043452"
      ]
     },
     "metadata": {},
     "output_type": "display_data"
    }
   ],
   "source": [
    "pchisq(H,2,lower.tail=FALSE)"
   ]
  },
  {
   "cell_type": "code",
   "execution_count": 325,
   "metadata": {
    "collapsed": false
   },
   "outputs": [
    {
     "data": {
      "text/html": [
       "0.00115757258614402"
      ],
      "text/latex": [
       "0.00115757258614402"
      ],
      "text/markdown": [
       "0.00115757258614402"
      ],
      "text/plain": [
       "[1] 0.001157573"
      ]
     },
     "metadata": {},
     "output_type": "display_data"
    }
   ],
   "source": [
    "1-ecdf(mat4)(H)"
   ]
  },
  {
   "cell_type": "code",
   "execution_count": 331,
   "metadata": {
    "collapsed": false
   },
   "outputs": [
    {
     "data": {
      "text/plain": [
       "\n",
       "\tKruskal-Wallis rank sum test\n",
       "\n",
       "data:  wtloss and rep(1:length(wtloss.nk), wtloss.nk)\n",
       "Kruskal-Wallis chi-squared = 9.4322, df = 2, p-value = 0.00895\n"
      ]
     },
     "metadata": {},
     "output_type": "display_data"
    }
   ],
   "source": [
    "kruskal.test(wtloss,rep(1:length(wtloss.nk),wtloss.nk))"
   ]
  },
  {
   "cell_type": "code",
   "execution_count": 329,
   "metadata": {
    "collapsed": false
   },
   "outputs": [
    {
     "data": {
      "text/html": [
       "<ol class=list-inline>\n",
       "\t<li>1</li>\n",
       "\t<li>1</li>\n",
       "\t<li>1</li>\n",
       "\t<li>1</li>\n",
       "\t<li>1</li>\n",
       "\t<li>2</li>\n",
       "\t<li>2</li>\n",
       "\t<li>2</li>\n",
       "\t<li>2</li>\n",
       "\t<li>2</li>\n",
       "\t<li>3</li>\n",
       "\t<li>3</li>\n",
       "\t<li>3</li>\n",
       "\t<li>3</li>\n",
       "</ol>\n"
      ],
      "text/latex": [
       "\\begin{enumerate*}\n",
       "\\item 1\n",
       "\\item 1\n",
       "\\item 1\n",
       "\\item 1\n",
       "\\item 1\n",
       "\\item 2\n",
       "\\item 2\n",
       "\\item 2\n",
       "\\item 2\n",
       "\\item 2\n",
       "\\item 3\n",
       "\\item 3\n",
       "\\item 3\n",
       "\\item 3\n",
       "\\end{enumerate*}\n"
      ],
      "text/markdown": [
       "1. 1\n",
       "2. 1\n",
       "3. 1\n",
       "4. 1\n",
       "5. 1\n",
       "6. 2\n",
       "7. 2\n",
       "8. 2\n",
       "9. 2\n",
       "10. 2\n",
       "11. 3\n",
       "12. 3\n",
       "13. 3\n",
       "14. 3\n",
       "\n",
       "\n"
      ],
      "text/plain": [
       " [1] 1 1 1 1 1 2 2 2 2 2 3 3 3 3"
      ]
     },
     "metadata": {},
     "output_type": "display_data"
    }
   ],
   "source": [
    "rep(1:length(wtloss.nk),wtloss.nk)"
   ]
  },
  {
   "cell_type": "code",
   "execution_count": 333,
   "metadata": {
    "collapsed": false
   },
   "outputs": [
    {
     "data": {
      "text/html": [
       "0.00134785849071561"
      ],
      "text/latex": [
       "0.00134785849071561"
      ],
      "text/markdown": [
       "0.00134785849071561"
      ],
      "text/plain": [
       "[1] 0.001347858"
      ]
     },
     "metadata": {},
     "output_type": "display_data"
    }
   ],
   "source": [
    "1-ecdf(mat4)(H-0.01)"
   ]
  },
  {
   "cell_type": "markdown",
   "metadata": {},
   "source": [
    "和书上结果正好差在自变量上0.01?也许是ecdf或书上暗中做了某些处理导致不一致。之前可能也是因为这个，总之大体一致。\n",
    "\n",
    "## 正态记分检验\n",
    "\n",
    "$$\n",
    "T = (n-1) \\frac{\n",
    "\\sum_{i=1}^k (\\frac{1}{n_i}(\\sum_{j=1}^{n_i} \\omega_{ij}^2)  )\n",
    "}\n",
    "{\n",
    "\\sum_{i=1}^k \\sum_{j=1}^{n_i} \\omega_{ij}^2\n",
    "}\n",
    "\\to\n",
    "\\chi^2(k-1)\n",
    "$$\n",
    "\n",
    "其中\n",
    "\n",
    "$$\n",
    "\\omega_{ij} = \\Phi^{-1} (\\frac{r_{ij}}{n+1})\n",
    "$$\n",
    "\n",
    "是为正态记分。"
   ]
  },
  {
   "cell_type": "code",
   "execution_count": 4,
   "metadata": {
    "collapsed": false
   },
   "outputs": [
    {
     "data": {
      "text/html": [
       "<ol class=list-inline>\n",
       "\t<li>-0.727913290881644</li>\n",
       "\t<li>-0.727913290881644</li>\n",
       "\t<li>-1.11077161663679</li>\n",
       "\t<li>-0.430727299295457</li>\n",
       "\t<li>-1.50108594604402</li>\n",
       "\t<li>0.841621233572914</li>\n",
       "\t<li>-0.0836517339071291</li>\n",
       "\t<li>0.0836517339071291</li>\n",
       "\t<li>0.2533471031358</li>\n",
       "\t<li>0.430727299295457</li>\n",
       "\t<li>1.50108594604402</li>\n",
       "\t<li>-0.2533471031358</li>\n",
       "\t<li>0.622925723210088</li>\n",
       "\t<li>1.11077161663679</li>\n",
       "</ol>\n"
      ],
      "text/latex": [
       "\\begin{enumerate*}\n",
       "\\item -0.727913290881644\n",
       "\\item -0.727913290881644\n",
       "\\item -1.11077161663679\n",
       "\\item -0.430727299295457\n",
       "\\item -1.50108594604402\n",
       "\\item 0.841621233572914\n",
       "\\item -0.0836517339071291\n",
       "\\item 0.0836517339071291\n",
       "\\item 0.2533471031358\n",
       "\\item 0.430727299295457\n",
       "\\item 1.50108594604402\n",
       "\\item -0.2533471031358\n",
       "\\item 0.622925723210088\n",
       "\\item 1.11077161663679\n",
       "\\end{enumerate*}\n"
      ],
      "text/markdown": [
       "1. -0.727913290881644\n",
       "2. -0.727913290881644\n",
       "3. -1.11077161663679\n",
       "4. -0.430727299295457\n",
       "5. -1.50108594604402\n",
       "6. 0.841621233572914\n",
       "7. -0.0836517339071291\n",
       "8. 0.0836517339071291\n",
       "9. 0.2533471031358\n",
       "10. 0.430727299295457\n",
       "11. 1.50108594604402\n",
       "12. -0.2533471031358\n",
       "13. 0.622925723210088\n",
       "14. 1.11077161663679\n",
       "\n",
       "\n"
      ],
      "text/plain": [
       " [1] -0.72791329 -0.72791329 -1.11077162 -0.43072730 -1.50108595  0.84162123\n",
       " [7] -0.08365173  0.08365173  0.25334710  0.43072730  1.50108595 -0.25334710\n",
       "[13]  0.62292572  1.11077162"
      ]
     },
     "metadata": {},
     "output_type": "display_data"
    }
   ],
   "source": [
    "normal.score <- function(r){\n",
    "    n <- length(r)\n",
    "    return(qnorm(r/(n+1)))\n",
    "}\n",
    "\n",
    "omega <- normal.score(rank(wtloss))\n",
    "omega"
   ]
  },
  {
   "cell_type": "code",
   "execution_count": 336,
   "metadata": {
    "collapsed": false
   },
   "outputs": [
    {
     "data": {
      "text/html": [
       "<ol class=list-inline>\n",
       "\t<li>3.5</li>\n",
       "\t<li>3.5</li>\n",
       "\t<li>2</li>\n",
       "\t<li>5</li>\n",
       "\t<li>1</li>\n",
       "\t<li>12</li>\n",
       "\t<li>7</li>\n",
       "\t<li>8</li>\n",
       "\t<li>9</li>\n",
       "\t<li>10</li>\n",
       "\t<li>14</li>\n",
       "\t<li>6</li>\n",
       "\t<li>11</li>\n",
       "\t<li>13</li>\n",
       "</ol>\n"
      ],
      "text/latex": [
       "\\begin{enumerate*}\n",
       "\\item 3.5\n",
       "\\item 3.5\n",
       "\\item 2\n",
       "\\item 5\n",
       "\\item 1\n",
       "\\item 12\n",
       "\\item 7\n",
       "\\item 8\n",
       "\\item 9\n",
       "\\item 10\n",
       "\\item 14\n",
       "\\item 6\n",
       "\\item 11\n",
       "\\item 13\n",
       "\\end{enumerate*}\n"
      ],
      "text/markdown": [
       "1. 3.5\n",
       "2. 3.5\n",
       "3. 2\n",
       "4. 5\n",
       "5. 1\n",
       "6. 12\n",
       "7. 7\n",
       "8. 8\n",
       "9. 9\n",
       "10. 10\n",
       "11. 14\n",
       "12. 6\n",
       "13. 11\n",
       "14. 13\n",
       "\n",
       "\n"
      ],
      "text/plain": [
       " [1]  3.5  3.5  2.0  5.0  1.0 12.0  7.0  8.0  9.0 10.0 14.0  6.0 11.0 13.0"
      ]
     },
     "metadata": {},
     "output_type": "display_data"
    }
   ],
   "source": [
    "rank(wtloss)"
   ]
  },
  {
   "cell_type": "markdown",
   "metadata": {},
   "source": [
    "此处书上的处理方式是无视结，随便排了个序赋予秩，似乎不好，这将导致不唯一的结果。"
   ]
  },
  {
   "cell_type": "code",
   "execution_count": 6,
   "metadata": {
    "collapsed": false
   },
   "outputs": [
    {
     "data": {
      "text/html": [
       "<ol class=list-inline>\n",
       "\t<li>1</li>\n",
       "\t<li>1</li>\n",
       "\t<li>1</li>\n",
       "\t<li>1</li>\n",
       "\t<li>1</li>\n",
       "\t<li>2</li>\n",
       "\t<li>2</li>\n",
       "\t<li>2</li>\n",
       "\t<li>2</li>\n",
       "\t<li>2</li>\n",
       "\t<li>3</li>\n",
       "\t<li>3</li>\n",
       "\t<li>3</li>\n",
       "\t<li>3</li>\n",
       "</ol>\n"
      ],
      "text/latex": [
       "\\begin{enumerate*}\n",
       "\\item 1\n",
       "\\item 1\n",
       "\\item 1\n",
       "\\item 1\n",
       "\\item 1\n",
       "\\item 2\n",
       "\\item 2\n",
       "\\item 2\n",
       "\\item 2\n",
       "\\item 2\n",
       "\\item 3\n",
       "\\item 3\n",
       "\\item 3\n",
       "\\item 3\n",
       "\\end{enumerate*}\n"
      ],
      "text/markdown": [
       "1. 1\n",
       "2. 1\n",
       "3. 1\n",
       "4. 1\n",
       "5. 1\n",
       "6. 2\n",
       "7. 2\n",
       "8. 2\n",
       "9. 2\n",
       "10. 2\n",
       "11. 3\n",
       "12. 3\n",
       "13. 3\n",
       "14. 3\n",
       "\n",
       "\n"
      ],
      "text/plain": [
       " [1] 1 1 1 1 1 2 2 2 2 2 3 3 3 3"
      ]
     },
     "metadata": {},
     "output_type": "display_data"
    }
   ],
   "source": [
    "wtloss.group <- rep(1:3,wtloss.nk)\n",
    "wtloss.group"
   ]
  },
  {
   "cell_type": "code",
   "execution_count": 16,
   "metadata": {
    "collapsed": false
   },
   "outputs": [
    {
     "data": {
      "text/html": [
       "<dl class=dl-horizontal>\n",
       "\t<dt>1</dt>\n",
       "\t\t<dd>3.4</dd>\n",
       "\t<dt>2</dt>\n",
       "\t\t<dd>6</dd>\n",
       "\t<dt>3</dt>\n",
       "\t\t<dd>7.425</dd>\n",
       "</dl>\n"
      ],
      "text/plain": [
       "    1     2     3 \n",
       "3.400 6.000 7.425 "
      ]
     },
     "metadata": {},
     "output_type": "display_data"
    }
   ],
   "source": [
    "tapply(wtloss,wtloss.group,mean)"
   ]
  },
  {
   "cell_type": "code",
   "execution_count": 26,
   "metadata": {
    "collapsed": false
   },
   "outputs": [],
   "source": [
    "n <- sum(wtloss.nk)"
   ]
  },
  {
   "cell_type": "code",
   "execution_count": 29,
   "metadata": {
    "collapsed": false
   },
   "outputs": [
    {
     "data": {
      "text/html": [
       "9.07894742088813"
      ],
      "text/latex": [
       "9.07894742088813"
      ],
      "text/markdown": [
       "9.07894742088813"
      ],
      "text/plain": [
       "[1] 9.078947"
      ]
     },
     "metadata": {},
     "output_type": "display_data"
    }
   ],
   "source": [
    "T <- (n-1) * sum(tapply(omega,wtloss.group,sum)**2 * (1/wtloss.nk)) / (sum(omega**2))\n",
    "T"
   ]
  },
  {
   "cell_type": "code",
   "execution_count": 30,
   "metadata": {
    "collapsed": false
   },
   "outputs": [
    {
     "data": {
      "text/html": [
       "0.0106790253343414"
      ],
      "text/latex": [
       "0.0106790253343414"
      ],
      "text/markdown": [
       "0.0106790253343414"
      ],
      "text/plain": [
       "[1] 0.01067903"
      ]
     },
     "metadata": {},
     "output_type": "display_data"
    }
   ],
   "source": [
    "pchisq(T,2,lower.tail=FALSE)"
   ]
  },
  {
   "cell_type": "markdown",
   "metadata": {},
   "source": [
    "## Jonckheere-Terpstra检验\n",
    "\n",
    "比较其Kruskal-Wallis检验，Jonckheere-Terpstra检验把备择假设空间约束到了一个单调递增的方向。\n",
    "\n",
    "$$\n",
    "\\begin{align}\n",
    "H_0 &: \\theta_1 = \\cdots = \\theta_k \\\\\n",
    "H_1 &: \\theta_1 \\le \\cdots \\le \\theta_k \\quad \\text{(There exist a $\\lt$ in sequence)}\n",
    "\\end{align}\n",
    "$$\n",
    "\n",
    "撤销部分备择假设空间后，可以把那部分参数成立下检验统计量集中而留下那部分不集中的区域划给接受域，把更接近留下部分转给接受区域。\n",
    "这种变化就带来剩下的备择假设空间上的功效函数值上升，至少不会下降，因为如果所有改变都带来下降，至少可以根本不改变。\n",
    "\n",
    "当然这是即使检验统计量和以前一样就能得到的结果，事实上，一般来说我们可以选择更优的检验统计量。为此设\n",
    "\n",
    "$$\n",
    "U_{ij} = \\#(X_{ik} < X_{jl} ,\\; k = 1,\\ldots,n_i,\\, l=1,\\ldots ,n_j),\n",
    "$$\n",
    "\n",
    "为样本$i$与样本$j$的笛卡尔积中，满足左边小于右边关系的对数。\n",
    "\n",
    "Jonckheere-Terpstra统计量就是把所有满足$i<j$的样本对对应的$U_{ij}$相加。或者可以看成$U$矩阵所有对角线右上的元素相加。\n",
    "\n",
    "$$\n",
    "J = \\sum_{i<j} U_{ij}\n",
    "$$\n",
    "\n",
    "其原假设成立下的分布显然也可以用类似上面Kruskal-Wallis的方法导出精确分布，也容易看出更加麻烦了。大样本下可以得到正态近似\n",
    "\n",
    "$$\n",
    "E(J) = (N^2 - \\sum_{i=1}^k n_i^2)/4 \\\\\n",
    "Var(J) = N^2(2N+3) - \\sum_{i=1}^k n_i^2 (2n_i + 3)/72 \\\\\n",
    "Z = \\frac{J - E(Z)}{\\sqrt{Var(J)}} \\to N(0,1)\n",
    "$$\n",
    "\n",
    "在原假设成立下也应该有对角线是$n_k(n_k-1)/2$，对角线上两边元素倾向于分布均衡，如果备择假设空间包含小于或大于，\n",
    "我们要考虑某侧对角线上的元素小或大。要是包含一些其他的非单调情况，则会出现那种情况和原假设的统计量分布无法分辨的情况。\n",
    "那种情况虽然定性上看与单调情况不应该有什么区别，但在那些参数点却有着很低的功效，而且这种点非常多。\n",
    "这时我们发现根本不应该用Jonckheere-Terpstra统计量，因为换用其他能分辨出那些参数的统计量可以取得更高的功效。\n",
    "虽然在单调的参数上可能略降一些，但如果我们真是想设定那种备择假设，\n",
    "就应该弃用Jonckheere-Terpstra统计量而改用Kruskal-Wallis统计量之类的。正如如果真的把备择假设设为单调的，\n",
    "就应该舍弃Kruskal-Wallis统计量选用Jonckheere-Terpstra统计量来达到严格更优的功效。\n",
    "\n",
    "使用JT统计量的一个特点是，因为有很多与原假设几乎完全混淆却又完全不一样的非单调参数赋值，所以从那些（大量）的情况中为真时，\n",
    "我们都在以比如95%错误率作出决定。比如说，把$U$矩阵分成四份，我们发现右上的右和上部分一个很大，另一个很小，但加和后就貌似符合原假设了。"
   ]
  },
  {
   "cell_type": "code",
   "execution_count": 31,
   "metadata": {
    "collapsed": false
   },
   "outputs": [
    {
     "data": {
      "text/html": [
       "<ol class=list-inline>\n",
       "\t<li>3.7</li>\n",
       "\t<li>3.7</li>\n",
       "\t<li>3</li>\n",
       "\t<li>3.9</li>\n",
       "\t<li>2.7</li>\n",
       "\t<li>7.3</li>\n",
       "\t<li>5.2</li>\n",
       "\t<li>5.3</li>\n",
       "\t<li>5.7</li>\n",
       "\t<li>6.5</li>\n",
       "\t<li>9</li>\n",
       "\t<li>4.9</li>\n",
       "\t<li>7.1</li>\n",
       "\t<li>8.7</li>\n",
       "</ol>\n"
      ],
      "text/latex": [
       "\\begin{enumerate*}\n",
       "\\item 3.7\n",
       "\\item 3.7\n",
       "\\item 3\n",
       "\\item 3.9\n",
       "\\item 2.7\n",
       "\\item 7.3\n",
       "\\item 5.2\n",
       "\\item 5.3\n",
       "\\item 5.7\n",
       "\\item 6.5\n",
       "\\item 9\n",
       "\\item 4.9\n",
       "\\item 7.1\n",
       "\\item 8.7\n",
       "\\end{enumerate*}\n"
      ],
      "text/markdown": [
       "1. 3.7\n",
       "2. 3.7\n",
       "3. 3\n",
       "4. 3.9\n",
       "5. 2.7\n",
       "6. 7.3\n",
       "7. 5.2\n",
       "8. 5.3\n",
       "9. 5.7\n",
       "10. 6.5\n",
       "11. 9\n",
       "12. 4.9\n",
       "13. 7.1\n",
       "14. 8.7\n",
       "\n",
       "\n"
      ],
      "text/plain": [
       " [1] 3.7 3.7 3.0 3.9 2.7 7.3 5.2 5.3 5.7 6.5 9.0 4.9 7.1 8.7"
      ]
     },
     "metadata": {},
     "output_type": "display_data"
    }
   ],
   "source": [
    "wtloss"
   ]
  },
  {
   "cell_type": "code",
   "execution_count": 32,
   "metadata": {
    "collapsed": false
   },
   "outputs": [
    {
     "data": {
      "text/plain": [
       "wtloss\n",
       "2.7   3 3.7 3.9 4.9 5.2 5.3 5.7 6.5 7.1 7.3 8.7   9 \n",
       "  1   1   2   1   1   1   1   1   1   1   1   1   1 "
      ]
     },
     "metadata": {},
     "output_type": "display_data"
    }
   ],
   "source": [
    "table(wtloss)"
   ]
  },
  {
   "cell_type": "code",
   "execution_count": 5,
   "metadata": {
    "collapsed": true
   },
   "outputs": [],
   "source": [
    "fission <- function(dat, index){\n",
    "    # c(1,2,3,4,5,6),c(1,1,1,2,2,3) -> list(c(1,2,3), c(4,5), c(6))\n",
    "    dic <- list()\n",
    "    for(i in 1:length(dat)){\n",
    "        if(is.null(dic[index[i]][[1]])){\n",
    "            dic[[index[i]]] <- dat[i]\n",
    "        }\n",
    "        else{\n",
    "            dic[[index[i]]] <- c(dic[[index[i]]],dat[i])\n",
    "        }\n",
    "    }\n",
    "    return(dic)\n",
    "}\n",
    "\n",
    "U.mat <- function(pop.list){\n",
    "    # list(c(1,2,3), c(4,5), c(6)) -> [3,6,3; 0,1,2; 0,0,0]\n",
    "    k <- length(pop.list)\n",
    "    mat <- matrix(nrow = 3, ncol = 3)\n",
    "    for(i in 1:k){\n",
    "        for(j in 1:k){\n",
    "            mat[i,j] <- sum(outer(pop.list[[i]],pop.list[[j]],'-') < 0)\n",
    "        }\n",
    "    }\n",
    "    return(mat)\n",
    "}\n",
    "\n",
    "J.stat <- function(H){\n",
    "    # [3,6,3; 0,1,2; 0,0,0] -> 6+3+2=11\n",
    "    r <- 0\n",
    "    k <- ncol(H)\n",
    "    for(i in 1:(k-1)){\n",
    "        for(j in (i+1):k){\n",
    "            r <- r + H[i,j]\n",
    "        }\n",
    "    }\n",
    "    return(r)\n",
    "}\n",
    "\n",
    "Z.score <- function(J,nk){\n",
    "    N <- sum(nk)\n",
    "    EJ <- (N^2 - sum(nk^2))/4\n",
    "    VarJ <- (N^2 * (2 * N + 3) - sum(nk^2 * (2 * nk + 3)))/72\n",
    "    Z <- (J - EJ)/sqrt(VarJ)\n",
    "    return(Z)\n",
    "}"
   ]
  },
  {
   "cell_type": "code",
   "execution_count": 78,
   "metadata": {
    "collapsed": false
   },
   "outputs": [
    {
     "data": {
      "text/html": [
       "<ol>\n",
       "\t<li><ol class=list-inline>\n",
       "\t<li>3.7</li>\n",
       "\t<li>3.7</li>\n",
       "\t<li>3</li>\n",
       "\t<li>3.9</li>\n",
       "\t<li>2.7</li>\n",
       "</ol>\n",
       "</li>\n",
       "\t<li><ol class=list-inline>\n",
       "\t<li>7.3</li>\n",
       "\t<li>5.2</li>\n",
       "\t<li>5.3</li>\n",
       "\t<li>5.7</li>\n",
       "\t<li>6.5</li>\n",
       "</ol>\n",
       "</li>\n",
       "\t<li><ol class=list-inline>\n",
       "\t<li>9</li>\n",
       "\t<li>4.9</li>\n",
       "\t<li>7.1</li>\n",
       "\t<li>8.7</li>\n",
       "</ol>\n",
       "</li>\n",
       "</ol>\n"
      ],
      "text/latex": [
       "\\begin{enumerate}\n",
       "\\item \\begin{enumerate*}\n",
       "\\item 3.7\n",
       "\\item 3.7\n",
       "\\item 3\n",
       "\\item 3.9\n",
       "\\item 2.7\n",
       "\\end{enumerate*}\n",
       "\n",
       "\\item \\begin{enumerate*}\n",
       "\\item 7.3\n",
       "\\item 5.2\n",
       "\\item 5.3\n",
       "\\item 5.7\n",
       "\\item 6.5\n",
       "\\end{enumerate*}\n",
       "\n",
       "\\item \\begin{enumerate*}\n",
       "\\item 9\n",
       "\\item 4.9\n",
       "\\item 7.1\n",
       "\\item 8.7\n",
       "\\end{enumerate*}\n",
       "\n",
       "\\end{enumerate}\n"
      ],
      "text/markdown": [
       "1. 1. 3.7\n",
       "2. 3.7\n",
       "3. 3\n",
       "4. 3.9\n",
       "5. 2.7\n",
       "\n",
       "\n",
       "\n",
       "2. 1. 7.3\n",
       "2. 5.2\n",
       "3. 5.3\n",
       "4. 5.7\n",
       "5. 6.5\n",
       "\n",
       "\n",
       "\n",
       "3. 1. 9\n",
       "2. 4.9\n",
       "3. 7.1\n",
       "4. 8.7\n",
       "\n",
       "\n",
       "\n",
       "\n",
       "\n"
      ],
      "text/plain": [
       "[[1]]\n",
       "[1] 3.7 3.7 3.0 3.9 2.7\n",
       "\n",
       "[[2]]\n",
       "[1] 7.3 5.2 5.3 5.7 6.5\n",
       "\n",
       "[[3]]\n",
       "[1] 9.0 4.9 7.1 8.7\n"
      ]
     },
     "metadata": {},
     "output_type": "display_data"
    }
   ],
   "source": [
    "dic <- fission(wtloss,rep(c(1,2,3),wtloss.nk))\n",
    "dic"
   ]
  },
  {
   "cell_type": "code",
   "execution_count": 80,
   "metadata": {
    "collapsed": false
   },
   "outputs": [
    {
     "data": {
      "text/html": [
       "25"
      ],
      "text/latex": [
       "25"
      ],
      "text/markdown": [
       "25"
      ],
      "text/plain": [
       "[1] 25"
      ]
     },
     "metadata": {},
     "output_type": "display_data"
    }
   ],
   "source": [
    "sum(outer(dic[[1]],dic[[2]],'-') < 0)"
   ]
  },
  {
   "cell_type": "code",
   "execution_count": 86,
   "metadata": {
    "collapsed": false
   },
   "outputs": [
    {
     "data": {
      "text/html": [
       "<table>\n",
       "<tbody>\n",
       "\t<tr><td>9 </td><td>25</td><td>20</td></tr>\n",
       "\t<tr><td>0 </td><td>10</td><td>14</td></tr>\n",
       "\t<tr><td>0 </td><td> 6</td><td> 6</td></tr>\n",
       "</tbody>\n",
       "</table>\n"
      ],
      "text/latex": [
       "\\begin{tabular}{lll}\n",
       "\t 9  & 25 & 20\\\\\n",
       "\t 0  & 10 & 14\\\\\n",
       "\t 0  &  6 &  6\\\\\n",
       "\\end{tabular}\n"
      ],
      "text/markdown": [
       "1. 9\n",
       "2. 0\n",
       "3. 0\n",
       "4. 25\n",
       "5. 10\n",
       "6. 6\n",
       "7. 20\n",
       "8. 14\n",
       "9. 6\n",
       "\n",
       "\n"
      ],
      "text/plain": [
       "     [,1] [,2] [,3]\n",
       "[1,] 9    25   20  \n",
       "[2,] 0    10   14  \n",
       "[3,] 0     6    6  "
      ]
     },
     "metadata": {},
     "output_type": "display_data"
    }
   ],
   "source": [
    "U.mat(dic)"
   ]
  },
  {
   "cell_type": "markdown",
   "metadata": {},
   "source": [
    "这里$U_{11}=9$而不是$10$是因为第一个样本存在打结。"
   ]
  },
  {
   "cell_type": "code",
   "execution_count": 108,
   "metadata": {
    "collapsed": false
   },
   "outputs": [
    {
     "data": {
      "text/html": [
       "59"
      ],
      "text/latex": [
       "59"
      ],
      "text/markdown": [
       "59"
      ],
      "text/plain": [
       "[1] 59"
      ]
     },
     "metadata": {},
     "output_type": "display_data"
    }
   ],
   "source": [
    "J <- J.stat(U.mat(dic))\n",
    "J"
   ]
  },
  {
   "cell_type": "code",
   "execution_count": 113,
   "metadata": {
    "collapsed": false
   },
   "outputs": [
    {
     "data": {
      "text/html": [
       "3.10336223197634"
      ],
      "text/latex": [
       "3.10336223197634"
      ],
      "text/markdown": [
       "3.10336223197634"
      ],
      "text/plain": [
       "[1] 3.103362"
      ]
     },
     "metadata": {},
     "output_type": "display_data"
    }
   ],
   "source": [
    "Z <- Z.score(J,wtloss.nk)\n",
    "Z"
   ]
  },
  {
   "cell_type": "code",
   "execution_count": 114,
   "metadata": {
    "collapsed": false
   },
   "outputs": [
    {
     "data": {
      "text/html": [
       "0.000956676473550018"
      ],
      "text/latex": [
       "0.000956676473550018"
      ],
      "text/markdown": [
       "0.000956676473550018"
      ],
      "text/plain": [
       "[1] 0.0009566765"
      ]
     },
     "metadata": {},
     "output_type": "display_data"
    }
   ],
   "source": [
    "pnorm(Z,lower.tail=FALSE)"
   ]
  },
  {
   "cell_type": "markdown",
   "metadata": {},
   "source": [
    "功效比前面的检验不知道高到哪里去了，当然，这是备择假设空间缩减的效果，\n",
    "试想我们把备择假设空间退缩到到什么$\\theta_1 = \\ldots = \\theta_{k-1} = 0,\\theta_{k} = 1000000$这样的单点集上。自然很容易就可以拒绝。\n",
    "而且我们发现一个问题，此时拒绝了原假设，也并不代表备择假设就多真了，说不定还是原假设更接近真实情况一些\n",
    "（最大似然的情况现在既不在原假设空间也不在备择假设空间）。当然，原假设和备择假设空间一般是出于外生的目的而决定的，\n",
    "假设检验干的事就是选择检验统计量和划分检验统计量拒绝域来使得满足给定显著性水平基础上使得势函数在备择假设空间上的值最大化。\n",
    "不过这里显著性水平一般却是一个灵活的概念，因为假设检验的统计量和划分方法对于各个$\\alpha$给出的原则是一致的，增大减小只不过是\n",
    "拒绝域的一些单调大小变化而已。反倒经常是知道p值（如果p值有恰当定义）后再去选显著性水平。\n",
    "\n",
    "在$k=3$时，备择假设空间充满了$R^3$除了原假设占据的直线外的所有点。收缩到$\\theta_1 < \\theta_2 < \\theta_3$后，\n",
    "就成了$R^3$空间3个平面划分8块中的一块。我们可以先考察新的备择假设空间上各个假设成立时对应统计量的分布\n",
    "(对非参数而言可能要指定背后分布，不过直观上也可以随便举一个，因为一般对所有背后分布我们感兴趣的定性性质都一致)，\n",
    "这也可以通过数字特征如期望来看，这时和看势函数有类似之处。观察到备择假设空间上相对原假设空间上统计量（主要是集中趋势）的不同之处后，\n",
    "我们再划分拒绝域，整出势函数。\n",
    "\n",
    "## 区组设计回顾\n",
    "\n",
    "将因素分为处理(treatment)和区组(block)是应用的需要。并没有什么理由禁止我们倒换两因素的“处理”和“区组”的地位。\n",
    "说到底，我们相当于在做一个关于模型中部分参数的假设检验，假设对参数约束的不完全性使得我们失去了以往的全部同分布的便利性。\n",
    "在无重复因素双因素方差分析中，原假设相当于假设各个“区组”因素对应的总体是不一样的，\n",
    "区组里本来经过不同处理的观测被看做同分布（每个“区组”一个分布）的。显然，如果区组和处理都有“影响”，\n",
    "则每个格的分布一般都是不同的。这里的部分假设相当于废掉了部分变异性。\n",
    "\n",
    "于是在此原假设成立下，对每个处理的在所有区组的观测的平均也是同分布的，这个平均是在几个出自不同的总体的随机变量间平均，\n",
    "和平时那个的平均不一样。但因为所有处理的这个平均所平均的那几个总体都是对应一样的且数量一致（这种情况都是1个），\n",
    "所以处理的平均就是同分布的，相应的，区组的对应平均就是普通的平均，且各均值间本来就应该不集中，因为没有假设约束它们位置一致。\n",
    "\n",
    "当然这是原假设的确成立的情况，假如处理还是有影响，则各从处理计算的均值就会产生明显的偏离，这可以以处理均值与总均值\n",
    "（原假设成立时总均值可以看成是同分布的处理均值的均值，或对其期望更准确地估计）的差的平方和表示。偏离比较大时，\n",
    "该平方和的集中位置也会比较大。\n",
    "\n",
    "在正态假设下，那种单观测双因素表那样的小样本也可以由正态分布的性质得到各个处理均值服从正态分布，\n",
    "从而可以标准化做成$\\chi^2$统计量，如果不知道方差再进一步做成$F$统计量。如果表很大的话，均值会处理会渐进正态分布，\n",
    "此时各分组什么形状就不重要了，但方差应该一样（因为标准化无论如何都会用到方差或协方差），\n",
    "如果不一样还要处理就应该事先调整尺度把它们变成一样的。这就是无交互效应的双因素方差分析。\n",
    "\n",
    "每个格单观测容易推导到多观测情况（但各格观测数还得是相同的），显然处理方式没什么差别。另一个扩展方式是可以缺一些格的方式，\n",
    "用这个方法好像不好理解，可能看成回归更好。而在多因素下，被我们假设为没有效应的那个因素的“轴”上的元素看成是其他因素笛卡尔积的样本，\n",
    "样本内看做是同一分布的，样本间看成是一般不同分布的，可照搬前面思路构造统计量。对处理因素的各个多因素区组的各个观测取平均之类的。\n",
    "而且这么看的话各格的观测数好像也不一定需要是相同的，这样看处理均值到底是什么样子的。\n",
    "另外其他因素笛卡尔积没有利用方差分析给定的线性假设的简化，这一简化在双因素时没有体现出来。这一简化在允许使用的分布上产生了一些约束，\n",
    "上面提到的搞法有点非参数的感觉。\n",
    "\n",
    "不完全区组设计貌似可以试图放处理的平均值，然后规约为之前的问题。\n",
    "\n",
    "不完全区组设计的BIBD（Balanced Incomplete Block Design）以$BIBD(k,b,r,t,\\lambda)$编码一个设计。\n",
    "其中$k$为试验矩阵的行数,$b$为试验矩阵的列数。$r_i$为$i$行的和，若都相同就记为$r$，$t_j$为$j$列和，若都相同则记为$t$。\n",
    "$\\lambda_{ij}$是第$i,j$行同时为1的次数，或者说两行构成的向量内积的和。\n",
    "\n",
    "BIBD试验矩阵的一个例子如\n",
    "\n",
    "$$\n",
    "\\begin{bmatrix}\n",
    "0 & 1 & 1 & 1 \\\\\n",
    "1 & 0 & 1 & 1 \\\\\n",
    "1 & 1 & 0 & 1 \\\\\n",
    "1 & 1 & 1 & 0\n",
    "\\end{bmatrix}\n",
    "$$\n",
    "\n",
    "其中各行看成各个处理，各列看成各个区组。上面是$BIBD(4,4,3,3,2)$的一个实例。令其为$M$，$M_{12}=1$表示第一个处理在第二区组中进行一次试验。\n",
    "其余类推。\n",
    "\n",
    "## Friedman 秩和检验\n",
    "\n",
    "$$\n",
    "Q = \\frac{12}{bk(k+1)}\\sum_{i=1}^k \\left(R_i - \\frac{b(k+1)}{2} \\right)^2\n",
    "$$\n",
    "\n",
    "其中$R_i=\\sum_{j=1}^b R_{ij}$，而$R_{ij}$为格$ij$上的观测在区组$.j$上的秩。也就是分组的不同位置性被内部计算秩给控制成了相对标准化的秩。\n",
    "\n",
    "其中\n",
    "$$\n",
    "E(R_i) = \\frac{k(k+1)}{2} b \\frac{1}{k} = \\frac{b(k+1)}{2}\n",
    "$$\n",
    "\n",
    "是先按列计秩和（$\\frac{k(k+1)}{2}$），再把所有这样的列秩和加起来$b$，最后除以行数得到每行平均秩和，因为对称性也必然是行总体的期望。另外，\n",
    "\n",
    "$$\n",
    "Var(R_i) = \\frac{bk(k+1)}{12}\n",
    "$$\n",
    "\n",
    "这是因为，考虑一个离散均匀分布随机变量$X$的方差\n",
    "$$\n",
    "Var(X) = \\frac{(N+1)(N-1)}{12}\n",
    "$$\n",
    "单独对于一个处理的求和来说，$b$个格相当于$b$个独立的这样的随机变量。所以方差即所直接和\n",
    "$$\n",
    "\\frac{(k+1)(k-1)}{12}b\n",
    "$$\n",
    "\n",
    "我们发现如果看成独立的在平方和外去除方差进行标准化，结果与上式给出的并不一致，虽然当$\\N \\to +\\infty$时渐进等价。\n",
    "这是因为在真正处理时还是要进行去相关的标准化\n",
    "\n",
    "\n",
    "显然，以处理计算的秩和$R_i$结合了本处理在各个分组上对位置影响的信息。如果像原假设假设的那样没有影响的话，则按分组区分总体，\n",
    "可以看成分组内出自同一个分布，这个时候若按分组求平均，则情况看上去类似Kruskal-Wallis统计量在它的原假设成立下的情况，\n",
    "然而却并不是，KW统计量的格的秩是把所有样本混合的结果，而Friedman秩和的格的秩是区组内部计算的，显然区组算出的秩的位置要比\n",
    "KW统计量的小，这一点被$\\bar{R}$比$\\frac{b(k+1)}{2}$大所调整过来。\n",
    "然而我们实际是按处理求秩和，为什么不按分组求平均秩呢？\n",
    "\n",
    "看起来其实秩和才是本体，前面那是因为各个分组的样本数不一样，为了标准化才求的平均，再重加权。\n",
    "当然这里如果真写成均值再重加权也会得到一样的结果，只不过它的权都是一样的就连平均的那个分母一起提出来放到最外面当系数了，就是那个$b$。\n",
    "\n",
    "注意各区间独立，组内同分布，导出的组内的格上的秩统计量在组内并不是独立的，（某列第一格取1秩了，该列其他格就不能取1秩）。\n",
    "各组间的秩统计量依然独立，但是却并不能得到按行看与按列看是同分布的结论，显然一行可以取秩为$1,1,\\ldots,1$而按列看却不能。\n",
    "但是根据对称性，按行看的确是同分布的，但不独立，于是按处理计的秩和或平均秩也是同分布但不独立的。\n",
    "当然Kruskal-Wallis统计量在各分组的平均秩之间也是这种同分布但不独立的情况，\n",
    "但我们依然可以通过一些复杂的论证发现这些相关可以在近似正态和卡方分布上可以与独立得到相同的结果，\n",
    "虽然它们本身并不独立，就像KW统计量上发生的一样，它们只是计算格秩和秩和，平均秩的方式有些区别，带来它们做的标准化略有区别，\n",
    "但最后结果都是一样的。\n",
    "\n",
    "$$\n",
    "Q \\to \\chi^2_{k-1}\n",
    "$$"
   ]
  },
  {
   "cell_type": "code",
   "execution_count": 428,
   "metadata": {
    "collapsed": false,
    "scrolled": true
   },
   "outputs": [
    {
     "data": {
      "text/html": [
       "<table>\n",
       "<thead><tr><th scope=col>treatment</th><th scope=col>block</th><th scope=col>value</th></tr></thead>\n",
       "<tbody>\n",
       "\t<tr><td>A  </td><td>I  </td><td> 80</td></tr>\n",
       "\t<tr><td>A  </td><td>II </td><td>100</td></tr>\n",
       "\t<tr><td>A  </td><td>III</td><td> 51</td></tr>\n",
       "\t<tr><td>A  </td><td>IV </td><td> 65</td></tr>\n",
       "\t<tr><td>B  </td><td>I  </td><td> 52</td></tr>\n",
       "\t<tr><td>B  </td><td>II </td><td> 76</td></tr>\n",
       "\t<tr><td>B  </td><td>III</td><td> 52</td></tr>\n",
       "\t<tr><td>B  </td><td>IV </td><td> 53</td></tr>\n",
       "\t<tr><td>C  </td><td>I  </td><td> 40</td></tr>\n",
       "\t<tr><td>C  </td><td>II </td><td> 52</td></tr>\n",
       "\t<tr><td>C  </td><td>III</td><td> 34</td></tr>\n",
       "\t<tr><td>C  </td><td>IV </td><td> 35</td></tr>\n",
       "</tbody>\n",
       "</table>\n"
      ],
      "text/latex": [
       "\\begin{tabular}{r|lll}\n",
       " treatment & block & value\\\\\n",
       "\\hline\n",
       "\t A   & I   &  80\\\\\n",
       "\t A   & II  & 100\\\\\n",
       "\t A   & III &  51\\\\\n",
       "\t A   & IV  &  65\\\\\n",
       "\t B   & I   &  52\\\\\n",
       "\t B   & II  &  76\\\\\n",
       "\t B   & III &  52\\\\\n",
       "\t B   & IV  &  53\\\\\n",
       "\t C   & I   &  40\\\\\n",
       "\t C   & II  &  52\\\\\n",
       "\t C   & III &  34\\\\\n",
       "\t C   & IV  &  35\\\\\n",
       "\\end{tabular}\n"
      ],
      "text/plain": [
       "   treatment block value\n",
       "1  A         I      80  \n",
       "2  A         II    100  \n",
       "3  A         III    51  \n",
       "4  A         IV     65  \n",
       "5  B         I      52  \n",
       "6  B         II     76  \n",
       "7  B         III    52  \n",
       "8  B         IV     53  \n",
       "9  C         I      40  \n",
       "10 C         II     52  \n",
       "11 C         III    34  \n",
       "12 C         IV     35  "
      ]
     },
     "metadata": {},
     "output_type": "display_data"
    }
   ],
   "source": [
    "blead <- data.frame(treatment = c('A','A','A','A','B','B','B','B','C','C','C','C'),\n",
    "                    block = c('I','II','III',\"IV\",'I','II','III',\"IV\",'I','II','III',\"IV\"),\n",
    "                    value  = c(80, 100, 51, 65, 52, 76, 52, 53, 40, 52, 34, 35))\n",
    "blead"
   ]
  },
  {
   "cell_type": "code",
   "execution_count": 2,
   "metadata": {
    "collapsed": false
   },
   "outputs": [],
   "source": [
    "for (bk in unique(blead$block)){\n",
    "    blead[blead$block == bk,'rank'] = rank(blead[blead$block == bk,'value'])\n",
    "}"
   ]
  },
  {
   "cell_type": "code",
   "execution_count": 3,
   "metadata": {
    "collapsed": false
   },
   "outputs": [
    {
     "data": {
      "text/html": [
       "<table>\n",
       "<thead><tr><th scope=col>treatment</th><th scope=col>block</th><th scope=col>value</th><th scope=col>rank</th></tr></thead>\n",
       "<tbody>\n",
       "\t<tr><td>A  </td><td>I  </td><td> 80</td><td>3  </td></tr>\n",
       "\t<tr><td>A  </td><td>II </td><td>100</td><td>3  </td></tr>\n",
       "\t<tr><td>A  </td><td>III</td><td> 51</td><td>2  </td></tr>\n",
       "\t<tr><td>A  </td><td>IV </td><td> 65</td><td>3  </td></tr>\n",
       "\t<tr><td>B  </td><td>I  </td><td> 52</td><td>2  </td></tr>\n",
       "\t<tr><td>B  </td><td>II </td><td> 76</td><td>2  </td></tr>\n",
       "\t<tr><td>B  </td><td>III</td><td> 52</td><td>3  </td></tr>\n",
       "\t<tr><td>B  </td><td>IV </td><td> 53</td><td>2  </td></tr>\n",
       "\t<tr><td>C  </td><td>I  </td><td> 40</td><td>1  </td></tr>\n",
       "\t<tr><td>C  </td><td>II </td><td> 52</td><td>1  </td></tr>\n",
       "\t<tr><td>C  </td><td>III</td><td> 34</td><td>1  </td></tr>\n",
       "\t<tr><td>C  </td><td>IV </td><td> 35</td><td>1  </td></tr>\n",
       "</tbody>\n",
       "</table>\n"
      ],
      "text/latex": [
       "\\begin{tabular}{r|llll}\n",
       " treatment & block & value & rank\\\\\n",
       "\\hline\n",
       "\t A   & I   &  80 & 3  \\\\\n",
       "\t A   & II  & 100 & 3  \\\\\n",
       "\t A   & III &  51 & 2  \\\\\n",
       "\t A   & IV  &  65 & 3  \\\\\n",
       "\t B   & I   &  52 & 2  \\\\\n",
       "\t B   & II  &  76 & 2  \\\\\n",
       "\t B   & III &  52 & 3  \\\\\n",
       "\t B   & IV  &  53 & 2  \\\\\n",
       "\t C   & I   &  40 & 1  \\\\\n",
       "\t C   & II  &  52 & 1  \\\\\n",
       "\t C   & III &  34 & 1  \\\\\n",
       "\t C   & IV  &  35 & 1  \\\\\n",
       "\\end{tabular}\n"
      ],
      "text/plain": [
       "   treatment block value rank\n",
       "1  A         I      80   3   \n",
       "2  A         II    100   3   \n",
       "3  A         III    51   2   \n",
       "4  A         IV     65   3   \n",
       "5  B         I      52   2   \n",
       "6  B         II     76   2   \n",
       "7  B         III    52   3   \n",
       "8  B         IV     53   2   \n",
       "9  C         I      40   1   \n",
       "10 C         II     52   1   \n",
       "11 C         III    34   1   \n",
       "12 C         IV     35   1   "
      ]
     },
     "metadata": {},
     "output_type": "display_data"
    }
   ],
   "source": [
    "blead"
   ]
  },
  {
   "cell_type": "code",
   "execution_count": 10,
   "metadata": {
    "collapsed": false
   },
   "outputs": [
    {
     "data": {
      "text/html": [
       "<dl class=dl-horizontal>\n",
       "\t<dt>A</dt>\n",
       "\t\t<dd>11</dd>\n",
       "\t<dt>B</dt>\n",
       "\t\t<dd>9</dd>\n",
       "\t<dt>C</dt>\n",
       "\t\t<dd>4</dd>\n",
       "</dl>\n"
      ],
      "text/plain": [
       " A  B  C \n",
       "11  9  4 "
      ]
     },
     "metadata": {},
     "output_type": "display_data"
    }
   ],
   "source": [
    "Rk <- tapply(blead$rank, blead$treatment,sum)\n",
    "Rk"
   ]
  },
  {
   "cell_type": "code",
   "execution_count": 5,
   "metadata": {
    "collapsed": false
   },
   "outputs": [
    {
     "data": {
      "text/html": [
       "<dl class=dl-horizontal>\n",
       "\t<dt>A</dt>\n",
       "\t\t<dd>2.75</dd>\n",
       "\t<dt>B</dt>\n",
       "\t\t<dd>2.25</dd>\n",
       "\t<dt>C</dt>\n",
       "\t\t<dd>1</dd>\n",
       "</dl>\n"
      ],
      "text/plain": [
       "   A    B    C \n",
       "2.75 2.25 1.00 "
      ]
     },
     "metadata": {},
     "output_type": "display_data"
    }
   ],
   "source": [
    "tapply(blead$rank, blead$treatment,mean)"
   ]
  },
  {
   "cell_type": "code",
   "execution_count": 7,
   "metadata": {
    "collapsed": false
   },
   "outputs": [
    {
     "data": {
      "text/html": [
       "3"
      ],
      "text/latex": [
       "3"
      ],
      "text/markdown": [
       "3"
      ],
      "text/plain": [
       "[1] 3"
      ]
     },
     "metadata": {},
     "output_type": "display_data"
    }
   ],
   "source": [
    "k <- length(unique(blead$treatment))\n",
    "k"
   ]
  },
  {
   "cell_type": "code",
   "execution_count": 8,
   "metadata": {
    "collapsed": false
   },
   "outputs": [
    {
     "data": {
      "text/html": [
       "4"
      ],
      "text/latex": [
       "4"
      ],
      "text/markdown": [
       "4"
      ],
      "text/plain": [
       "[1] 4"
      ]
     },
     "metadata": {},
     "output_type": "display_data"
    }
   ],
   "source": [
    "b <- length(unique(blead$block))\n",
    "b"
   ]
  },
  {
   "cell_type": "code",
   "execution_count": 9,
   "metadata": {
    "collapsed": false
   },
   "outputs": [
    {
     "data": {
      "text/html": [
       "8"
      ],
      "text/latex": [
       "8"
      ],
      "text/markdown": [
       "8"
      ],
      "text/plain": [
       "[1] 8"
      ]
     },
     "metadata": {},
     "output_type": "display_data"
    }
   ],
   "source": [
    "R.bar <- (k+1)*b/2\n",
    "R.bar"
   ]
  },
  {
   "cell_type": "code",
   "execution_count": 12,
   "metadata": {
    "collapsed": false
   },
   "outputs": [
    {
     "data": {
      "text/html": [
       "6.5"
      ],
      "text/latex": [
       "6.5"
      ],
      "text/markdown": [
       "6.5"
      ],
      "text/plain": [
       "[1] 6.5"
      ]
     },
     "metadata": {},
     "output_type": "display_data"
    }
   ],
   "source": [
    "Q <- 12/((k+1)*k*b) * sum((Rk - R.bar)^2)\n",
    "Q"
   ]
  },
  {
   "cell_type": "code",
   "execution_count": 14,
   "metadata": {
    "collapsed": false
   },
   "outputs": [
    {
     "data": {
      "text/html": [
       "0.038774207831722"
      ],
      "text/latex": [
       "0.038774207831722"
      ],
      "text/markdown": [
       "0.038774207831722"
      ],
      "text/plain": [
       "[1] 0.03877421"
      ]
     },
     "metadata": {},
     "output_type": "display_data"
    }
   ],
   "source": [
    "pchisq(Q,2,lower.tail=FALSE)"
   ]
  },
  {
   "cell_type": "code",
   "execution_count": 2,
   "metadata": {
    "collapsed": false
   },
   "outputs": [
    {
     "data": {
      "text/html": [
       "<ol class=list-inline>\n",
       "\t<li>9</li>\n",
       "\t<li>2</li>\n",
       "\t<li>4</li>\n",
       "\t<li>10</li>\n",
       "\t<li>7</li>\n",
       "\t<li>6</li>\n",
       "\t<li>8</li>\n",
       "\t<li>5</li>\n",
       "\t<li>3</li>\n",
       "\t<li>1</li>\n",
       "\t<li>10</li>\n",
       "\t<li>1</li>\n",
       "\t<li>3</li>\n",
       "\t<li>8</li>\n",
       "\t<li>7</li>\n",
       "\t<li>5</li>\n",
       "\t<li>9</li>\n",
       "\t<li>6</li>\n",
       "\t<li>4</li>\n",
       "\t<li>2</li>\n",
       "\t<li>8</li>\n",
       "\t<li>4</li>\n",
       "\t<li>2</li>\n",
       "\t<li>10</li>\n",
       "\t<li>9</li>\n",
       "\t<li>7</li>\n",
       "\t<li>5</li>\n",
       "\t<li>6</li>\n",
       "\t<li>3</li>\n",
       "\t<li>1</li>\n",
       "\t<li>9</li>\n",
       "\t<li>1</li>\n",
       "\t<li>2</li>\n",
       "\t<li>10</li>\n",
       "\t<li>6</li>\n",
       "\t<li>7</li>\n",
       "\t<li>4</li>\n",
       "\t<li>8</li>\n",
       "\t<li>5</li>\n",
       "\t<li>3</li>\n",
       "</ol>\n"
      ],
      "text/latex": [
       "\\begin{enumerate*}\n",
       "\\item 9\n",
       "\\item 2\n",
       "\\item 4\n",
       "\\item 10\n",
       "\\item 7\n",
       "\\item 6\n",
       "\\item 8\n",
       "\\item 5\n",
       "\\item 3\n",
       "\\item 1\n",
       "\\item 10\n",
       "\\item 1\n",
       "\\item 3\n",
       "\\item 8\n",
       "\\item 7\n",
       "\\item 5\n",
       "\\item 9\n",
       "\\item 6\n",
       "\\item 4\n",
       "\\item 2\n",
       "\\item 8\n",
       "\\item 4\n",
       "\\item 2\n",
       "\\item 10\n",
       "\\item 9\n",
       "\\item 7\n",
       "\\item 5\n",
       "\\item 6\n",
       "\\item 3\n",
       "\\item 1\n",
       "\\item 9\n",
       "\\item 1\n",
       "\\item 2\n",
       "\\item 10\n",
       "\\item 6\n",
       "\\item 7\n",
       "\\item 4\n",
       "\\item 8\n",
       "\\item 5\n",
       "\\item 3\n",
       "\\end{enumerate*}\n"
      ],
      "text/markdown": [
       "1. 9\n",
       "2. 2\n",
       "3. 4\n",
       "4. 10\n",
       "5. 7\n",
       "6. 6\n",
       "7. 8\n",
       "8. 5\n",
       "9. 3\n",
       "10. 1\n",
       "11. 10\n",
       "12. 1\n",
       "13. 3\n",
       "14. 8\n",
       "15. 7\n",
       "16. 5\n",
       "17. 9\n",
       "18. 6\n",
       "19. 4\n",
       "20. 2\n",
       "21. 8\n",
       "22. 4\n",
       "23. 2\n",
       "24. 10\n",
       "25. 9\n",
       "26. 7\n",
       "27. 5\n",
       "28. 6\n",
       "29. 3\n",
       "30. 1\n",
       "31. 9\n",
       "32. 1\n",
       "33. 2\n",
       "34. 10\n",
       "35. 6\n",
       "36. 7\n",
       "37. 4\n",
       "38. 8\n",
       "39. 5\n",
       "40. 3\n",
       "\n",
       "\n"
      ],
      "text/plain": [
       " [1]  9  2  4 10  7  6  8  5  3  1 10  1  3  8  7  5  9  6  4  2  8  4  2 10  9\n",
       "[26]  7  5  6  3  1  9  1  2 10  6  7  4  8  5  3"
      ]
     },
     "metadata": {},
     "output_type": "display_data"
    }
   ],
   "source": [
    "airp.value <- c(9, 2, 4,10, 7, 6, 8, 5, 3, 1,\n",
    "                10,1, 3, 8, 7, 5, 9, 6, 4, 2,\n",
    "                8, 4, 2,10, 9, 7, 5, 6, 3, 1,\n",
    "                9, 1, 2,10, 6, 7, 4, 8, 5, 3)\n",
    "airp.value"
   ]
  },
  {
   "cell_type": "code",
   "execution_count": 3,
   "metadata": {
    "collapsed": false
   },
   "outputs": [
    {
     "data": {
      "text/html": [
       "<ol class=list-inline>\n",
       "\t<li>'A'</li>\n",
       "\t<li>'A'</li>\n",
       "\t<li>'A'</li>\n",
       "\t<li>'A'</li>\n",
       "\t<li>'A'</li>\n",
       "\t<li>'A'</li>\n",
       "\t<li>'A'</li>\n",
       "\t<li>'A'</li>\n",
       "\t<li>'A'</li>\n",
       "\t<li>'A'</li>\n",
       "\t<li>'B'</li>\n",
       "\t<li>'B'</li>\n",
       "\t<li>'B'</li>\n",
       "\t<li>'B'</li>\n",
       "\t<li>'B'</li>\n",
       "\t<li>'B'</li>\n",
       "\t<li>'B'</li>\n",
       "\t<li>'B'</li>\n",
       "\t<li>'B'</li>\n",
       "\t<li>'B'</li>\n",
       "\t<li>'C'</li>\n",
       "\t<li>'C'</li>\n",
       "\t<li>'C'</li>\n",
       "\t<li>'C'</li>\n",
       "\t<li>'C'</li>\n",
       "\t<li>'C'</li>\n",
       "\t<li>'C'</li>\n",
       "\t<li>'C'</li>\n",
       "\t<li>'C'</li>\n",
       "\t<li>'C'</li>\n",
       "\t<li>'D'</li>\n",
       "\t<li>'D'</li>\n",
       "\t<li>'D'</li>\n",
       "\t<li>'D'</li>\n",
       "\t<li>'D'</li>\n",
       "\t<li>'D'</li>\n",
       "\t<li>'D'</li>\n",
       "\t<li>'D'</li>\n",
       "\t<li>'D'</li>\n",
       "\t<li>'D'</li>\n",
       "</ol>\n"
      ],
      "text/latex": [
       "\\begin{enumerate*}\n",
       "\\item 'A'\n",
       "\\item 'A'\n",
       "\\item 'A'\n",
       "\\item 'A'\n",
       "\\item 'A'\n",
       "\\item 'A'\n",
       "\\item 'A'\n",
       "\\item 'A'\n",
       "\\item 'A'\n",
       "\\item 'A'\n",
       "\\item 'B'\n",
       "\\item 'B'\n",
       "\\item 'B'\n",
       "\\item 'B'\n",
       "\\item 'B'\n",
       "\\item 'B'\n",
       "\\item 'B'\n",
       "\\item 'B'\n",
       "\\item 'B'\n",
       "\\item 'B'\n",
       "\\item 'C'\n",
       "\\item 'C'\n",
       "\\item 'C'\n",
       "\\item 'C'\n",
       "\\item 'C'\n",
       "\\item 'C'\n",
       "\\item 'C'\n",
       "\\item 'C'\n",
       "\\item 'C'\n",
       "\\item 'C'\n",
       "\\item 'D'\n",
       "\\item 'D'\n",
       "\\item 'D'\n",
       "\\item 'D'\n",
       "\\item 'D'\n",
       "\\item 'D'\n",
       "\\item 'D'\n",
       "\\item 'D'\n",
       "\\item 'D'\n",
       "\\item 'D'\n",
       "\\end{enumerate*}\n"
      ],
      "text/markdown": [
       "1. 'A'\n",
       "2. 'A'\n",
       "3. 'A'\n",
       "4. 'A'\n",
       "5. 'A'\n",
       "6. 'A'\n",
       "7. 'A'\n",
       "8. 'A'\n",
       "9. 'A'\n",
       "10. 'A'\n",
       "11. 'B'\n",
       "12. 'B'\n",
       "13. 'B'\n",
       "14. 'B'\n",
       "15. 'B'\n",
       "16. 'B'\n",
       "17. 'B'\n",
       "18. 'B'\n",
       "19. 'B'\n",
       "20. 'B'\n",
       "21. 'C'\n",
       "22. 'C'\n",
       "23. 'C'\n",
       "24. 'C'\n",
       "25. 'C'\n",
       "26. 'C'\n",
       "27. 'C'\n",
       "28. 'C'\n",
       "29. 'C'\n",
       "30. 'C'\n",
       "31. 'D'\n",
       "32. 'D'\n",
       "33. 'D'\n",
       "34. 'D'\n",
       "35. 'D'\n",
       "36. 'D'\n",
       "37. 'D'\n",
       "38. 'D'\n",
       "39. 'D'\n",
       "40. 'D'\n",
       "\n",
       "\n"
      ],
      "text/plain": [
       " [1] \"A\" \"A\" \"A\" \"A\" \"A\" \"A\" \"A\" \"A\" \"A\" \"A\" \"B\" \"B\" \"B\" \"B\" \"B\" \"B\" \"B\" \"B\" \"B\"\n",
       "[20] \"B\" \"C\" \"C\" \"C\" \"C\" \"C\" \"C\" \"C\" \"C\" \"C\" \"C\" \"D\" \"D\" \"D\" \"D\" \"D\" \"D\" \"D\" \"D\"\n",
       "[39] \"D\" \"D\""
      ]
     },
     "metadata": {},
     "output_type": "display_data"
    }
   ],
   "source": [
    "airp.est <- rep(c(\"A\",\"B\",\"C\",\"D\"),c(10,10,10,10))\n",
    "airp.est"
   ]
  },
  {
   "cell_type": "code",
   "execution_count": 4,
   "metadata": {
    "collapsed": false
   },
   "outputs": [
    {
     "data": {
      "text/html": [
       "<ol class=list-inline>\n",
       "\t<li>'A'</li>\n",
       "\t<li>'B'</li>\n",
       "\t<li>'C'</li>\n",
       "\t<li>'D'</li>\n",
       "\t<li>'E'</li>\n",
       "\t<li>'F'</li>\n",
       "\t<li>'G'</li>\n",
       "\t<li>'H'</li>\n",
       "\t<li>'I'</li>\n",
       "\t<li>'J'</li>\n",
       "\t<li>'A'</li>\n",
       "\t<li>'B'</li>\n",
       "\t<li>'C'</li>\n",
       "\t<li>'D'</li>\n",
       "\t<li>'E'</li>\n",
       "\t<li>'F'</li>\n",
       "\t<li>'G'</li>\n",
       "\t<li>'H'</li>\n",
       "\t<li>'I'</li>\n",
       "\t<li>'J'</li>\n",
       "\t<li>'A'</li>\n",
       "\t<li>'B'</li>\n",
       "\t<li>'C'</li>\n",
       "\t<li>'D'</li>\n",
       "\t<li>'E'</li>\n",
       "\t<li>'F'</li>\n",
       "\t<li>'G'</li>\n",
       "\t<li>'H'</li>\n",
       "\t<li>'I'</li>\n",
       "\t<li>'J'</li>\n",
       "\t<li>'A'</li>\n",
       "\t<li>'B'</li>\n",
       "\t<li>'C'</li>\n",
       "\t<li>'D'</li>\n",
       "\t<li>'E'</li>\n",
       "\t<li>'F'</li>\n",
       "\t<li>'G'</li>\n",
       "\t<li>'H'</li>\n",
       "\t<li>'I'</li>\n",
       "\t<li>'J'</li>\n",
       "</ol>\n"
      ],
      "text/latex": [
       "\\begin{enumerate*}\n",
       "\\item 'A'\n",
       "\\item 'B'\n",
       "\\item 'C'\n",
       "\\item 'D'\n",
       "\\item 'E'\n",
       "\\item 'F'\n",
       "\\item 'G'\n",
       "\\item 'H'\n",
       "\\item 'I'\n",
       "\\item 'J'\n",
       "\\item 'A'\n",
       "\\item 'B'\n",
       "\\item 'C'\n",
       "\\item 'D'\n",
       "\\item 'E'\n",
       "\\item 'F'\n",
       "\\item 'G'\n",
       "\\item 'H'\n",
       "\\item 'I'\n",
       "\\item 'J'\n",
       "\\item 'A'\n",
       "\\item 'B'\n",
       "\\item 'C'\n",
       "\\item 'D'\n",
       "\\item 'E'\n",
       "\\item 'F'\n",
       "\\item 'G'\n",
       "\\item 'H'\n",
       "\\item 'I'\n",
       "\\item 'J'\n",
       "\\item 'A'\n",
       "\\item 'B'\n",
       "\\item 'C'\n",
       "\\item 'D'\n",
       "\\item 'E'\n",
       "\\item 'F'\n",
       "\\item 'G'\n",
       "\\item 'H'\n",
       "\\item 'I'\n",
       "\\item 'J'\n",
       "\\end{enumerate*}\n"
      ],
      "text/markdown": [
       "1. 'A'\n",
       "2. 'B'\n",
       "3. 'C'\n",
       "4. 'D'\n",
       "5. 'E'\n",
       "6. 'F'\n",
       "7. 'G'\n",
       "8. 'H'\n",
       "9. 'I'\n",
       "10. 'J'\n",
       "11. 'A'\n",
       "12. 'B'\n",
       "13. 'C'\n",
       "14. 'D'\n",
       "15. 'E'\n",
       "16. 'F'\n",
       "17. 'G'\n",
       "18. 'H'\n",
       "19. 'I'\n",
       "20. 'J'\n",
       "21. 'A'\n",
       "22. 'B'\n",
       "23. 'C'\n",
       "24. 'D'\n",
       "25. 'E'\n",
       "26. 'F'\n",
       "27. 'G'\n",
       "28. 'H'\n",
       "29. 'I'\n",
       "30. 'J'\n",
       "31. 'A'\n",
       "32. 'B'\n",
       "33. 'C'\n",
       "34. 'D'\n",
       "35. 'E'\n",
       "36. 'F'\n",
       "37. 'G'\n",
       "38. 'H'\n",
       "39. 'I'\n",
       "40. 'J'\n",
       "\n",
       "\n"
      ],
      "text/plain": [
       " [1] \"A\" \"B\" \"C\" \"D\" \"E\" \"F\" \"G\" \"H\" \"I\" \"J\" \"A\" \"B\" \"C\" \"D\" \"E\" \"F\" \"G\" \"H\" \"I\"\n",
       "[20] \"J\" \"A\" \"B\" \"C\" \"D\" \"E\" \"F\" \"G\" \"H\" \"I\" \"J\" \"A\" \"B\" \"C\" \"D\" \"E\" \"F\" \"G\" \"H\"\n",
       "[39] \"I\" \"J\""
      ]
     },
     "metadata": {},
     "output_type": "display_data"
    }
   ],
   "source": [
    "airp.city <- rep(c(\"A\",\"B\",\"C\",\"D\",\"E\",\"F\",\"G\",\"H\",\"I\",\"J\"),4)\n",
    "airp.city"
   ]
  },
  {
   "cell_type": "code",
   "execution_count": 5,
   "metadata": {
    "collapsed": false
   },
   "outputs": [
    {
     "data": {
      "text/html": [
       "<table>\n",
       "<thead><tr><th scope=col>est</th><th scope=col>city</th><th scope=col>value</th></tr></thead>\n",
       "<tbody>\n",
       "\t<tr><td>A </td><td>A </td><td> 9</td></tr>\n",
       "\t<tr><td>A </td><td>B </td><td> 2</td></tr>\n",
       "\t<tr><td>A </td><td>C </td><td> 4</td></tr>\n",
       "\t<tr><td>A </td><td>D </td><td>10</td></tr>\n",
       "\t<tr><td>A </td><td>E </td><td> 7</td></tr>\n",
       "\t<tr><td>A </td><td>F </td><td> 6</td></tr>\n",
       "\t<tr><td>A </td><td>G </td><td> 8</td></tr>\n",
       "\t<tr><td>A </td><td>H </td><td> 5</td></tr>\n",
       "\t<tr><td>A </td><td>I </td><td> 3</td></tr>\n",
       "\t<tr><td>A </td><td>J </td><td> 1</td></tr>\n",
       "\t<tr><td>B </td><td>A </td><td>10</td></tr>\n",
       "\t<tr><td>B </td><td>B </td><td> 1</td></tr>\n",
       "\t<tr><td>B </td><td>C </td><td> 3</td></tr>\n",
       "\t<tr><td>B </td><td>D </td><td> 8</td></tr>\n",
       "\t<tr><td>B </td><td>E </td><td> 7</td></tr>\n",
       "\t<tr><td>B </td><td>F </td><td> 5</td></tr>\n",
       "\t<tr><td>B </td><td>G </td><td> 9</td></tr>\n",
       "\t<tr><td>B </td><td>H </td><td> 6</td></tr>\n",
       "\t<tr><td>B </td><td>I </td><td> 4</td></tr>\n",
       "\t<tr><td>B </td><td>J </td><td> 2</td></tr>\n",
       "\t<tr><td>C </td><td>A </td><td> 8</td></tr>\n",
       "\t<tr><td>C </td><td>B </td><td> 4</td></tr>\n",
       "\t<tr><td>C </td><td>C </td><td> 2</td></tr>\n",
       "\t<tr><td>C </td><td>D </td><td>10</td></tr>\n",
       "\t<tr><td>C </td><td>E </td><td> 9</td></tr>\n",
       "\t<tr><td>C </td><td>F </td><td> 7</td></tr>\n",
       "\t<tr><td>C </td><td>G </td><td> 5</td></tr>\n",
       "\t<tr><td>C </td><td>H </td><td> 6</td></tr>\n",
       "\t<tr><td>C </td><td>I </td><td> 3</td></tr>\n",
       "\t<tr><td>C </td><td>J </td><td> 1</td></tr>\n",
       "\t<tr><td>D </td><td>A </td><td> 9</td></tr>\n",
       "\t<tr><td>D </td><td>B </td><td> 1</td></tr>\n",
       "\t<tr><td>D </td><td>C </td><td> 2</td></tr>\n",
       "\t<tr><td>D </td><td>D </td><td>10</td></tr>\n",
       "\t<tr><td>D </td><td>E </td><td> 6</td></tr>\n",
       "\t<tr><td>D </td><td>F </td><td> 7</td></tr>\n",
       "\t<tr><td>D </td><td>G </td><td> 4</td></tr>\n",
       "\t<tr><td>D </td><td>H </td><td> 8</td></tr>\n",
       "\t<tr><td>D </td><td>I </td><td> 5</td></tr>\n",
       "\t<tr><td>D </td><td>J </td><td> 3</td></tr>\n",
       "</tbody>\n",
       "</table>\n"
      ],
      "text/latex": [
       "\\begin{tabular}{r|lll}\n",
       " est & city & value\\\\\n",
       "\\hline\n",
       "\t A  & A  &  9\\\\\n",
       "\t A  & B  &  2\\\\\n",
       "\t A  & C  &  4\\\\\n",
       "\t A  & D  & 10\\\\\n",
       "\t A  & E  &  7\\\\\n",
       "\t A  & F  &  6\\\\\n",
       "\t A  & G  &  8\\\\\n",
       "\t A  & H  &  5\\\\\n",
       "\t A  & I  &  3\\\\\n",
       "\t A  & J  &  1\\\\\n",
       "\t B  & A  & 10\\\\\n",
       "\t B  & B  &  1\\\\\n",
       "\t B  & C  &  3\\\\\n",
       "\t B  & D  &  8\\\\\n",
       "\t B  & E  &  7\\\\\n",
       "\t B  & F  &  5\\\\\n",
       "\t B  & G  &  9\\\\\n",
       "\t B  & H  &  6\\\\\n",
       "\t B  & I  &  4\\\\\n",
       "\t B  & J  &  2\\\\\n",
       "\t C  & A  &  8\\\\\n",
       "\t C  & B  &  4\\\\\n",
       "\t C  & C  &  2\\\\\n",
       "\t C  & D  & 10\\\\\n",
       "\t C  & E  &  9\\\\\n",
       "\t C  & F  &  7\\\\\n",
       "\t C  & G  &  5\\\\\n",
       "\t C  & H  &  6\\\\\n",
       "\t C  & I  &  3\\\\\n",
       "\t C  & J  &  1\\\\\n",
       "\t D  & A  &  9\\\\\n",
       "\t D  & B  &  1\\\\\n",
       "\t D  & C  &  2\\\\\n",
       "\t D  & D  & 10\\\\\n",
       "\t D  & E  &  6\\\\\n",
       "\t D  & F  &  7\\\\\n",
       "\t D  & G  &  4\\\\\n",
       "\t D  & H  &  8\\\\\n",
       "\t D  & I  &  5\\\\\n",
       "\t D  & J  &  3\\\\\n",
       "\\end{tabular}\n"
      ],
      "text/plain": [
       "   est city value\n",
       "1  A   A     9   \n",
       "2  A   B     2   \n",
       "3  A   C     4   \n",
       "4  A   D    10   \n",
       "5  A   E     7   \n",
       "6  A   F     6   \n",
       "7  A   G     8   \n",
       "8  A   H     5   \n",
       "9  A   I     3   \n",
       "10 A   J     1   \n",
       "11 B   A    10   \n",
       "12 B   B     1   \n",
       "13 B   C     3   \n",
       "14 B   D     8   \n",
       "15 B   E     7   \n",
       "16 B   F     5   \n",
       "17 B   G     9   \n",
       "18 B   H     6   \n",
       "19 B   I     4   \n",
       "20 B   J     2   \n",
       "21 C   A     8   \n",
       "22 C   B     4   \n",
       "23 C   C     2   \n",
       "24 C   D    10   \n",
       "25 C   E     9   \n",
       "26 C   F     7   \n",
       "27 C   G     5   \n",
       "28 C   H     6   \n",
       "29 C   I     3   \n",
       "30 C   J     1   \n",
       "31 D   A     9   \n",
       "32 D   B     1   \n",
       "33 D   C     2   \n",
       "34 D   D    10   \n",
       "35 D   E     6   \n",
       "36 D   F     7   \n",
       "37 D   G     4   \n",
       "38 D   H     8   \n",
       "39 D   I     5   \n",
       "40 D   J     3   "
      ]
     },
     "metadata": {},
     "output_type": "display_data"
    }
   ],
   "source": [
    "airp <- data.frame(est = airp.est, city = airp.city, value = airp.value)\n",
    "airp"
   ]
  },
  {
   "cell_type": "markdown",
   "metadata": {
    "collapsed": true
   },
   "source": [
    "## Kendall 协同系数检验\n",
    "\n",
    "Kruskal-wallis和Friedman的统计量都有的格都是独立同分布的，但前者通过把格的值放在一起得到秩，后者在区组内部取得秩。\n",
    "于是秩随机变量在前者是完全不独立的，在后者则在各区组间独立。两者都某种意义上使用平均秩和与期望的平均秩和的偏离的加总来构成统计量。\n",
    "由于对称性，这些平均秩和都是同分布的，但因为是秩这种向量内部不独立的分布，所以肯定是不独立的。\n",
    "因为它们的格的秩的来源不同，所以它们标准化所用的期望和方差是不一样的，虽然都为常数。\n",
    "这些统计量在假设成立时都渐进服从$\\chi^2(k-1)$分布。这个用减了均值估计量减去了相关性解释显然不合适，因为它减的实际上是参数常数，\n",
    "是难得可以直接不被迫使用估计量的情况。其实际原因显然是秩和之间的线性组合关系，\n",
    "比如显然我们知道了$k-1$个秩和就可以推出最后一个秩和的值。这就导致其协方差矩阵不可逆，本质上也只能做成服从$\\chi^2(k-1)$分布的平方和。\n",
    "\n",
    "Kendall协同系数检验某种意义上反而比KW,Friedman检验还简单。它在零假设中直接假设了向量秩分布，\n",
    "而不是像KW,Friedman通过在原假设中将背后分布约束成独立同分布去得到向量秩分布。\n",
    "\n",
    "Kendall列出与Friedman检验类似的处理-区组矩阵，它们的模型元假设都是区组是有效应的，不然也没必要单独列出来。然而\n",
    "\n",
    "Friedman 检验的原假设是处理对各格没有效应，或者说造成的效应没有区别。于是可以推出各个区组*列*随机向量秩间是独立同分布的。\n",
    "\n",
    "Kendall 协同系数检验的原假设是处理会完全扰乱（破坏）区组的效应，同时它们自己的也没有效应，\n",
    "或者说处理引入了独立同分布的无限大噪声于背后分布上，于是可以推出各个处理*行*随机向量秩间是独立同分布的。\n",
    "由于这种噪声的说法有些蹩脚，我们也可以直接说Kendall协同系数检验原假设就是直接假设了行随机向量秩间独立同分布。这里处理没有任何作用。\n",
    "\n",
    "然而Kendall的备择假设可以看成这种无限大噪声开始衰减，区组在元假设中本来就有的效应开始浮现出来。这与Friedman检验中处理的效应开始浮现不同。\n",
    "显然，像Friedman备择假设中，如果处理效应浮现——或者说以它们的按行区分的值开始不同——来自不同位置的总体，\n",
    "容易想到，这一点在按行记的秩的模式却无法捕捉，它们的分布并不会产生任何变化。只有按列计的秩，秩和，平均秩的分布才会变化。\n",
    "如果参数的确落在备择假设上，它的概率就主要集中在以原假设划分的拒绝域中，使得我们容易拒绝他，也就是有较高的功效。\n",
    "所以我们在Friedman检验中要在列上求秩，不只是为了区组控制，也为了之后的高功效。\n",
    "\n",
    "Kendall协同系数检验中并不使得处理的效应浮现出来，实际上在模型元假设中处理就已经没有效应了，故原假设和备择假设里都没有这个效应。\n",
    "备择假设中只恢复区组的效应以示与原假设的区别，这种不一致有时令我们将Kendall协同系数的那个矩阵的原处理叫做评估，区组叫做个体。\n",
    "当然这里处于区组或个体地位的都被元假设认为是有效应的，而处理或评估则起码被怀疑这一点。\n",
    "\n",
    "Kendall恢复区组效应时，各区组分布间的差异开始浮现出来，然而这一点在按列计的秩里却无法捕捉这一点，于是我们改为从行计秩，\n",
    "再在列上取和。与Friedman的正好相反。\n",
    "\n",
    "这种貌似的对偶性是不是让我们可以认为Kendall是一种Friedman的转置的检验呢？虽然出自不同原因，\n",
    "在原假设上它们一个可以得到列随机向量秩之间独立同分布，另一个可以得到行上的。备择假设都是另一个上的效应开始浮现从而产生偏差。\n",
    "故而计算方式也是对偶的，然而它们的结论却不是对偶的。假如我们的确进行了一个转置的Friedman检验并拒绝了原假设，\n",
    "我们实际上是在已经承认处理有效应的同时证明了区组也有效应。但对于不转置的Kendall协同系数检验来说，\n",
    "却是已经承认了区组（个体）有效应的同时证明了处理（处理）的干扰效果不完全，其对区组效应的压制低于随机误差容忍的范围内。\n",
    "\n",
    "某种意义上，这说明在同一个统计量结果上，我们给出不同的模型元假设，就可以得到不同的推断结论。显然同时使用两个结论是没有意义的，\n",
    "比如若我们元假设假设了处理有效，然后根据拒绝结果得出区组也有效，然后我们干脆利用这个统计结论再元假设区组和统计量落在拒绝域有效去证明...\n",
    "什么？处理的干扰效果不完全？事实上Kendall元假设就假设了处理没效应，但你在前一个推论中已经设了处理有效应，\n",
    "显然使用矛盾的前提可以推出任何结论，终结。\n",
    "\n",
    "### 协同系数W\n",
    "\n",
    "Kendall协同系数除了与Fridman对偶的计算方式与不同的证明对象外，还导出一个有意义的统计量,协同系数W。其定义为\n",
    "\n",
    "$$\n",
    "W = \\frac{S}{\\frac{m^2(n^3-n)}{12}}\n",
    "$$\n",
    "\n",
    "其中$m,n$分别对应之前的$k,b$（比较时不要忘了已经是对偶了，不是简单对应）。而$S$则为各秩和与原假设期望秩和的偏移的平方和\n",
    "\n",
    "$$\n",
    "S = \\sum_{i=1}^n \\left (R_i - \\frac{m(n+1)}{2} \\right)^2\n",
    "$$\n",
    "\n",
    "应该说本体是$S$，$W$那个分母只是$S$可能取到的最大值，用于标准化。于是$W \\in [0,1]$\n",
    "\n",
    "从描述统计上看，$W$值越大说明处理通过很大噪声压制区组效应的效果越不明显，或者说这些处理间越“协同”\n",
    "（因为越尊重原区组效应意味着，这些“评价”，“处理”越倾向于打出，显示出一致，协同的结果）\n",
    "\n",
    "最后的对偶统计量也可以用$W$简化表示\n",
    "\n",
    "$$\n",
    "m(n-1)W = \\frac{12S}{mn(n+1)} = \\frac{12}{mn(n+1)}\\sum_{i=1}^k \\left(R_i - \\frac{m(n+1)}{2} \\right)^2 \\sim \\chi^2(n-1)\n",
    "$$\n"
   ]
  },
  {
   "cell_type": "code",
   "execution_count": 7,
   "metadata": {
    "collapsed": false
   },
   "outputs": [
    {
     "data": {
      "text/html": [
       "<table>\n",
       "<thead><tr><th scope=col>est</th><th scope=col>city</th><th scope=col>value</th></tr></thead>\n",
       "<tbody>\n",
       "\t<tr><td>A </td><td>A </td><td> 9</td></tr>\n",
       "\t<tr><td>A </td><td>B </td><td> 2</td></tr>\n",
       "\t<tr><td>A </td><td>C </td><td> 4</td></tr>\n",
       "\t<tr><td>A </td><td>D </td><td>10</td></tr>\n",
       "\t<tr><td>A </td><td>E </td><td> 7</td></tr>\n",
       "\t<tr><td>A </td><td>F </td><td> 6</td></tr>\n",
       "</tbody>\n",
       "</table>\n"
      ],
      "text/latex": [
       "\\begin{tabular}{r|lll}\n",
       " est & city & value\\\\\n",
       "\\hline\n",
       "\t A  & A  &  9\\\\\n",
       "\t A  & B  &  2\\\\\n",
       "\t A  & C  &  4\\\\\n",
       "\t A  & D  & 10\\\\\n",
       "\t A  & E  &  7\\\\\n",
       "\t A  & F  &  6\\\\\n",
       "\\end{tabular}\n"
      ],
      "text/plain": [
       "  est city value\n",
       "1 A   A     9   \n",
       "2 A   B     2   \n",
       "3 A   C     4   \n",
       "4 A   D    10   \n",
       "5 A   E     7   \n",
       "6 A   F     6   "
      ]
     },
     "metadata": {},
     "output_type": "display_data"
    }
   ],
   "source": [
    "head(airp)"
   ]
  },
  {
   "cell_type": "code",
   "execution_count": 17,
   "metadata": {
    "collapsed": false
   },
   "outputs": [],
   "source": [
    "m <- length(unique(airp$est))\n",
    "n <- length(unique(airp$city))\n",
    "\n",
    "R <- tapply(airp$value, airp$city, sum)\n",
    "S <- sum((R - (1+n)/2*m)^2)\n",
    "W <- S * (12/(m^2*(n^3-n)))\n",
    "K <- m*(n-1)*W"
   ]
  },
  {
   "cell_type": "code",
   "execution_count": 18,
   "metadata": {
    "collapsed": false
   },
   "outputs": [
    {
     "data": {
      "text/html": [
       "0.853030303030303"
      ],
      "text/latex": [
       "0.853030303030303"
      ],
      "text/markdown": [
       "0.853030303030303"
      ],
      "text/plain": [
       "[1] 0.8530303"
      ]
     },
     "metadata": {},
     "output_type": "display_data"
    }
   ],
   "source": [
    "W"
   ]
  },
  {
   "cell_type": "code",
   "execution_count": 19,
   "metadata": {
    "collapsed": false
   },
   "outputs": [
    {
     "data": {
      "text/html": [
       "30.7090909090909"
      ],
      "text/latex": [
       "30.7090909090909"
      ],
      "text/markdown": [
       "30.7090909090909"
      ],
      "text/plain": [
       "[1] 30.70909"
      ]
     },
     "metadata": {},
     "output_type": "display_data"
    }
   ],
   "source": [
    "K"
   ]
  },
  {
   "cell_type": "code",
   "execution_count": 20,
   "metadata": {
    "collapsed": false
   },
   "outputs": [
    {
     "data": {
      "text/html": [
       "0.000332034901513128"
      ],
      "text/latex": [
       "0.000332034901513128"
      ],
      "text/markdown": [
       "0.000332034901513128"
      ],
      "text/plain": [
       "[1] 0.0003320349"
      ]
     },
     "metadata": {},
     "output_type": "display_data"
    }
   ],
   "source": [
    "pchisq(K,n-1,lower.tail=FALSE)"
   ]
  },
  {
   "cell_type": "markdown",
   "metadata": {},
   "source": [
    "这就是说我们可以相信评估不是随机的。或者说处理没有随机到完全压制区组的效应。\n",
    "\n",
    "我们来试试真随机重排一下会得到什么结果。"
   ]
  },
  {
   "cell_type": "code",
   "execution_count": 24,
   "metadata": {
    "collapsed": true
   },
   "outputs": [],
   "source": [
    "for (est in unique(airp$est)){\n",
    "    airp[airp$est == est,\"value\"] <- sample(airp[airp$est == est,\"value\"])\n",
    "}"
   ]
  },
  {
   "cell_type": "code",
   "execution_count": 25,
   "metadata": {
    "collapsed": false
   },
   "outputs": [
    {
     "data": {
      "text/html": [
       "<table>\n",
       "<thead><tr><th scope=col>est</th><th scope=col>city</th><th scope=col>value</th></tr></thead>\n",
       "<tbody>\n",
       "\t<tr><td>A </td><td>A </td><td>10</td></tr>\n",
       "\t<tr><td>A </td><td>B </td><td> 9</td></tr>\n",
       "\t<tr><td>A </td><td>C </td><td> 8</td></tr>\n",
       "\t<tr><td>A </td><td>D </td><td> 2</td></tr>\n",
       "\t<tr><td>A </td><td>E </td><td> 5</td></tr>\n",
       "\t<tr><td>A </td><td>F </td><td> 3</td></tr>\n",
       "\t<tr><td>A </td><td>G </td><td> 6</td></tr>\n",
       "\t<tr><td>A </td><td>H </td><td> 4</td></tr>\n",
       "\t<tr><td>A </td><td>I </td><td> 1</td></tr>\n",
       "\t<tr><td>A </td><td>J </td><td> 7</td></tr>\n",
       "\t<tr><td>B </td><td>A </td><td> 9</td></tr>\n",
       "\t<tr><td>B </td><td>B </td><td> 6</td></tr>\n",
       "\t<tr><td>B </td><td>C </td><td>10</td></tr>\n",
       "\t<tr><td>B </td><td>D </td><td> 2</td></tr>\n",
       "\t<tr><td>B </td><td>E </td><td> 3</td></tr>\n",
       "\t<tr><td>B </td><td>F </td><td> 1</td></tr>\n",
       "\t<tr><td>B </td><td>G </td><td> 8</td></tr>\n",
       "\t<tr><td>B </td><td>H </td><td> 4</td></tr>\n",
       "\t<tr><td>B </td><td>I </td><td> 5</td></tr>\n",
       "\t<tr><td>B </td><td>J </td><td> 7</td></tr>\n",
       "\t<tr><td>C </td><td>A </td><td> 9</td></tr>\n",
       "\t<tr><td>C </td><td>B </td><td> 7</td></tr>\n",
       "\t<tr><td>C </td><td>C </td><td> 6</td></tr>\n",
       "\t<tr><td>C </td><td>D </td><td> 2</td></tr>\n",
       "\t<tr><td>C </td><td>E </td><td> 3</td></tr>\n",
       "\t<tr><td>C </td><td>F </td><td> 8</td></tr>\n",
       "\t<tr><td>C </td><td>G </td><td>10</td></tr>\n",
       "\t<tr><td>C </td><td>H </td><td> 1</td></tr>\n",
       "\t<tr><td>C </td><td>I </td><td> 4</td></tr>\n",
       "\t<tr><td>C </td><td>J </td><td> 5</td></tr>\n",
       "\t<tr><td>D </td><td>A </td><td> 5</td></tr>\n",
       "\t<tr><td>D </td><td>B </td><td> 3</td></tr>\n",
       "\t<tr><td>D </td><td>C </td><td> 7</td></tr>\n",
       "\t<tr><td>D </td><td>D </td><td> 9</td></tr>\n",
       "\t<tr><td>D </td><td>E </td><td> 1</td></tr>\n",
       "\t<tr><td>D </td><td>F </td><td> 8</td></tr>\n",
       "\t<tr><td>D </td><td>G </td><td> 6</td></tr>\n",
       "\t<tr><td>D </td><td>H </td><td>10</td></tr>\n",
       "\t<tr><td>D </td><td>I </td><td> 4</td></tr>\n",
       "\t<tr><td>D </td><td>J </td><td> 2</td></tr>\n",
       "</tbody>\n",
       "</table>\n"
      ],
      "text/latex": [
       "\\begin{tabular}{r|lll}\n",
       " est & city & value\\\\\n",
       "\\hline\n",
       "\t A  & A  & 10\\\\\n",
       "\t A  & B  &  9\\\\\n",
       "\t A  & C  &  8\\\\\n",
       "\t A  & D  &  2\\\\\n",
       "\t A  & E  &  5\\\\\n",
       "\t A  & F  &  3\\\\\n",
       "\t A  & G  &  6\\\\\n",
       "\t A  & H  &  4\\\\\n",
       "\t A  & I  &  1\\\\\n",
       "\t A  & J  &  7\\\\\n",
       "\t B  & A  &  9\\\\\n",
       "\t B  & B  &  6\\\\\n",
       "\t B  & C  & 10\\\\\n",
       "\t B  & D  &  2\\\\\n",
       "\t B  & E  &  3\\\\\n",
       "\t B  & F  &  1\\\\\n",
       "\t B  & G  &  8\\\\\n",
       "\t B  & H  &  4\\\\\n",
       "\t B  & I  &  5\\\\\n",
       "\t B  & J  &  7\\\\\n",
       "\t C  & A  &  9\\\\\n",
       "\t C  & B  &  7\\\\\n",
       "\t C  & C  &  6\\\\\n",
       "\t C  & D  &  2\\\\\n",
       "\t C  & E  &  3\\\\\n",
       "\t C  & F  &  8\\\\\n",
       "\t C  & G  & 10\\\\\n",
       "\t C  & H  &  1\\\\\n",
       "\t C  & I  &  4\\\\\n",
       "\t C  & J  &  5\\\\\n",
       "\t D  & A  &  5\\\\\n",
       "\t D  & B  &  3\\\\\n",
       "\t D  & C  &  7\\\\\n",
       "\t D  & D  &  9\\\\\n",
       "\t D  & E  &  1\\\\\n",
       "\t D  & F  &  8\\\\\n",
       "\t D  & G  &  6\\\\\n",
       "\t D  & H  & 10\\\\\n",
       "\t D  & I  &  4\\\\\n",
       "\t D  & J  &  2\\\\\n",
       "\\end{tabular}\n"
      ],
      "text/plain": [
       "   est city value\n",
       "1  A   A    10   \n",
       "2  A   B     9   \n",
       "3  A   C     8   \n",
       "4  A   D     2   \n",
       "5  A   E     5   \n",
       "6  A   F     3   \n",
       "7  A   G     6   \n",
       "8  A   H     4   \n",
       "9  A   I     1   \n",
       "10 A   J     7   \n",
       "11 B   A     9   \n",
       "12 B   B     6   \n",
       "13 B   C    10   \n",
       "14 B   D     2   \n",
       "15 B   E     3   \n",
       "16 B   F     1   \n",
       "17 B   G     8   \n",
       "18 B   H     4   \n",
       "19 B   I     5   \n",
       "20 B   J     7   \n",
       "21 C   A     9   \n",
       "22 C   B     7   \n",
       "23 C   C     6   \n",
       "24 C   D     2   \n",
       "25 C   E     3   \n",
       "26 C   F     8   \n",
       "27 C   G    10   \n",
       "28 C   H     1   \n",
       "29 C   I     4   \n",
       "30 C   J     5   \n",
       "31 D   A     5   \n",
       "32 D   B     3   \n",
       "33 D   C     7   \n",
       "34 D   D     9   \n",
       "35 D   E     1   \n",
       "36 D   F     8   \n",
       "37 D   G     6   \n",
       "38 D   H    10   \n",
       "39 D   I     4   \n",
       "40 D   J     2   "
      ]
     },
     "metadata": {},
     "output_type": "display_data"
    }
   ],
   "source": [
    "airp"
   ]
  },
  {
   "cell_type": "code",
   "execution_count": 26,
   "metadata": {
    "collapsed": false
   },
   "outputs": [],
   "source": [
    "R <- tapply(airp$value, airp$city, sum)\n",
    "S <- sum((R - (1+n)/2*m)^2)\n",
    "W <- S * (12/(m^2*(n^3-n)))\n",
    "K <- m*(n-1)*W\n",
    "\n"
   ]
  },
  {
   "cell_type": "code",
   "execution_count": 27,
   "metadata": {
    "collapsed": false
   },
   "outputs": [
    {
     "data": {
      "text/html": [
       "0.38030303030303"
      ],
      "text/latex": [
       "0.38030303030303"
      ],
      "text/markdown": [
       "0.38030303030303"
      ],
      "text/plain": [
       "[1] 0.380303"
      ]
     },
     "metadata": {},
     "output_type": "display_data"
    }
   ],
   "source": [
    "W"
   ]
  },
  {
   "cell_type": "code",
   "execution_count": 28,
   "metadata": {
    "collapsed": false
   },
   "outputs": [
    {
     "data": {
      "text/html": [
       "13.6909090909091"
      ],
      "text/latex": [
       "13.6909090909091"
      ],
      "text/markdown": [
       "13.6909090909091"
      ],
      "text/plain": [
       "[1] 13.69091"
      ]
     },
     "metadata": {},
     "output_type": "display_data"
    }
   ],
   "source": [
    "K"
   ]
  },
  {
   "cell_type": "code",
   "execution_count": 29,
   "metadata": {
    "collapsed": false
   },
   "outputs": [
    {
     "data": {
      "text/html": [
       "0.133752802980099"
      ],
      "text/latex": [
       "0.133752802980099"
      ],
      "text/markdown": [
       "0.133752802980099"
      ],
      "text/plain": [
       "[1] 0.1337528"
      ]
     },
     "metadata": {},
     "output_type": "display_data"
    }
   ],
   "source": [
    "pchisq(K,n-1,lower.tail=FALSE)"
   ]
  },
  {
   "cell_type": "markdown",
   "metadata": {},
   "source": [
    "的确就不能拒绝了，不过这个协同系数还是有点高？。。p值也接近拒绝边缘了。也许这是一次看起来“随机性很差”的重排（毕竟什么都不变也是有概率的。）"
   ]
  },
  {
   "cell_type": "markdown",
   "metadata": {},
   "source": [
    "## 二元响应Cochran检验\n",
    "\n",
    "### 打结问题"
   ]
  },
  {
   "cell_type": "code",
   "execution_count": 2,
   "metadata": {
    "collapsed": false
   },
   "outputs": [
    {
     "data": {
      "text/html": [
       "<table>\n",
       "<thead><tr><th scope=col>A</th><th scope=col>B</th><th scope=col>C</th><th scope=col>D</th></tr></thead>\n",
       "<tbody>\n",
       "\t<tr><td>0</td><td>1</td><td>0</td><td>0</td></tr>\n",
       "\t<tr><td>1</td><td>1</td><td>1</td><td>0</td></tr>\n",
       "\t<tr><td>1</td><td>0</td><td>1</td><td>0</td></tr>\n",
       "\t<tr><td>0</td><td>0</td><td>1</td><td>0</td></tr>\n",
       "\t<tr><td>0</td><td>0</td><td>1</td><td>1</td></tr>\n",
       "\t<tr><td>1</td><td>1</td><td>0</td><td>1</td></tr>\n",
       "\t<tr><td>1</td><td>1</td><td>0</td><td>0</td></tr>\n",
       "\t<tr><td>1</td><td>1</td><td>0</td><td>0</td></tr>\n",
       "\t<tr><td>1</td><td>1</td><td>0</td><td>1</td></tr>\n",
       "\t<tr><td>1</td><td>1</td><td>1</td><td>0</td></tr>\n",
       "\t<tr><td>1</td><td>0</td><td>0</td><td>0</td></tr>\n",
       "\t<tr><td>1</td><td>1</td><td>0</td><td>0</td></tr>\n",
       "\t<tr><td>1</td><td>1</td><td>0</td><td>0</td></tr>\n",
       "\t<tr><td>1</td><td>0</td><td>1</td><td>1</td></tr>\n",
       "\t<tr><td>1</td><td>1</td><td>1</td><td>0</td></tr>\n",
       "\t<tr><td>1</td><td>1</td><td>0</td><td>1</td></tr>\n",
       "\t<tr><td>0</td><td>0</td><td>1</td><td>1</td></tr>\n",
       "\t<tr><td>1</td><td>0</td><td>0</td><td>0</td></tr>\n",
       "\t<tr><td>1</td><td>0</td><td>1</td><td>0</td></tr>\n",
       "\t<tr><td>1</td><td>0</td><td>0</td><td>0</td></tr>\n",
       "</tbody>\n",
       "</table>\n"
      ],
      "text/latex": [
       "\\begin{tabular}{r|llll}\n",
       " A & B & C & D\\\\\n",
       "\\hline\n",
       "\t 0 & 1 & 0 & 0\\\\\n",
       "\t 1 & 1 & 1 & 0\\\\\n",
       "\t 1 & 0 & 1 & 0\\\\\n",
       "\t 0 & 0 & 1 & 0\\\\\n",
       "\t 0 & 0 & 1 & 1\\\\\n",
       "\t 1 & 1 & 0 & 1\\\\\n",
       "\t 1 & 1 & 0 & 0\\\\\n",
       "\t 1 & 1 & 0 & 0\\\\\n",
       "\t 1 & 1 & 0 & 1\\\\\n",
       "\t 1 & 1 & 1 & 0\\\\\n",
       "\t 1 & 0 & 0 & 0\\\\\n",
       "\t 1 & 1 & 0 & 0\\\\\n",
       "\t 1 & 1 & 0 & 0\\\\\n",
       "\t 1 & 0 & 1 & 1\\\\\n",
       "\t 1 & 1 & 1 & 0\\\\\n",
       "\t 1 & 1 & 0 & 1\\\\\n",
       "\t 0 & 0 & 1 & 1\\\\\n",
       "\t 1 & 0 & 0 & 0\\\\\n",
       "\t 1 & 0 & 1 & 0\\\\\n",
       "\t 1 & 0 & 0 & 0\\\\\n",
       "\\end{tabular}\n"
      ],
      "text/plain": [
       "   A B C D\n",
       "1  0 1 0 0\n",
       "2  1 1 1 0\n",
       "3  1 0 1 0\n",
       "4  0 0 1 0\n",
       "5  0 0 1 1\n",
       "6  1 1 0 1\n",
       "7  1 1 0 0\n",
       "8  1 1 0 0\n",
       "9  1 1 0 1\n",
       "10 1 1 1 0\n",
       "11 1 0 0 0\n",
       "12 1 1 0 0\n",
       "13 1 1 0 0\n",
       "14 1 0 1 1\n",
       "15 1 1 1 0\n",
       "16 1 1 0 1\n",
       "17 0 0 1 1\n",
       "18 1 0 0 0\n",
       "19 1 0 1 0\n",
       "20 1 0 0 0"
      ]
     },
     "metadata": {},
     "output_type": "display_data"
    }
   ],
   "source": [
    "candid <- data.frame(\n",
    "    A = c(0,1,1,0,0,1,1,1,1,1,1,1,1,1,1,1,0,1,1,1),\n",
    "    B = c(1,1,0,0,0,1,1,1,1,1,0,1,1,0,1,1,0,0,0,0),\n",
    "    C = c(0,1,1,1,1,0,0,0,0,1,0,0,0,1,1,0,1,0,1,0),\n",
    "    D = c(0,0,0,0,1,1,0,0,1,0,0,0,0,1,0,1,1,0,0,0)\n",
    ")\n",
    "candid"
   ]
  },
  {
   "cell_type": "code",
   "execution_count": 31,
   "metadata": {
    "collapsed": false
   },
   "outputs": [
    {
     "data": {
      "text/html": [
       "9.35294117647059"
      ],
      "text/latex": [
       "9.35294117647059"
      ],
      "text/markdown": [
       "9.35294117647059"
      ],
      "text/plain": [
       "[1] 9.352941"
      ]
     },
     "metadata": {},
     "output_type": "display_data"
    }
   ],
   "source": [
    "Ni <- apply(candid,2,sum)\n",
    "Lj <- apply(candid,1,sum)\n",
    "\n",
    "k <- ncol(candid)\n",
    "b <- nrow(candid)\n",
    "N <- sum(Ni)\n",
    "\n",
    "Q <- (k*(k-1)*sum((Ni - mean(Ni))^2))/(k*N - sum(Lj^2))\n",
    "Q"
   ]
  },
  {
   "cell_type": "code",
   "execution_count": 32,
   "metadata": {
    "collapsed": false
   },
   "outputs": [
    {
     "data": {
      "text/html": [
       "0.0249483961178381"
      ],
      "text/latex": [
       "0.0249483961178381"
      ],
      "text/markdown": [
       "0.0249483961178381"
      ],
      "text/plain": [
       "[1] 0.0249484"
      ]
     },
     "metadata": {},
     "output_type": "display_data"
    }
   ],
   "source": [
    "pchisq(Q,k-1,low=F)"
   ]
  },
  {
   "cell_type": "code",
   "execution_count": 23,
   "metadata": {
    "collapsed": false
   },
   "outputs": [
    {
     "data": {
      "text/html": [
       "<table>\n",
       "<tbody>\n",
       "\t<tr><td>1</td><td>1</td><td>1</td><td>1</td><td>1</td><td>1</td></tr>\n",
       "\t<tr><td>1</td><td>1</td><td>0</td><td>1</td><td>1</td><td>1</td></tr>\n",
       "\t<tr><td>0</td><td>0</td><td>0</td><td>1</td><td>0</td><td>0</td></tr>\n",
       "\t<tr><td>0</td><td>1</td><td>0</td><td>0</td><td>1</td><td>1</td></tr>\n",
       "</tbody>\n",
       "</table>\n"
      ],
      "text/latex": [
       "\\begin{tabular}{llllll}\n",
       "\t 1 & 1 & 1 & 1 & 1 & 1\\\\\n",
       "\t 1 & 1 & 0 & 1 & 1 & 1\\\\\n",
       "\t 0 & 0 & 0 & 1 & 0 & 0\\\\\n",
       "\t 0 & 1 & 0 & 0 & 1 & 1\\\\\n",
       "\\end{tabular}\n"
      ],
      "text/markdown": [
       "1. 1\n",
       "2. 1\n",
       "3. 0\n",
       "4. 0\n",
       "5. 1\n",
       "6. 1\n",
       "7. 0\n",
       "8. 1\n",
       "9. 1\n",
       "10. 0\n",
       "11. 0\n",
       "12. 0\n",
       "13. 1\n",
       "14. 1\n",
       "15. 1\n",
       "16. 0\n",
       "17. 1\n",
       "18. 1\n",
       "19. 0\n",
       "20. 1\n",
       "21. 1\n",
       "22. 1\n",
       "23. 0\n",
       "24. 1\n",
       "\n",
       "\n"
      ],
      "text/plain": [
       "     [,1] [,2] [,3] [,4] [,5] [,6]\n",
       "[1,] 1    1    1    1    1    1   \n",
       "[2,] 1    1    0    1    1    1   \n",
       "[3,] 0    0    0    1    0    0   \n",
       "[4,] 0    1    0    0    1    1   "
      ]
     },
     "metadata": {},
     "output_type": "display_data"
    }
   ],
   "source": [
    "# 《非参数统计方法》 Cochran检验例子\n",
    "\n",
    "mat <- matrix(c(c(1,1,1,1,1,1),\n",
    "                c(1,1,0,1,1,1),\n",
    "                c(0,0,0,1,0,0),\n",
    "                c(0,1,0,0,1,1)),\n",
    "             4,\n",
    "             byrow=T)\n",
    "mat"
   ]
  },
  {
   "cell_type": "code",
   "execution_count": 39,
   "metadata": {
    "collapsed": false
   },
   "outputs": [
    {
     "data": {
      "text/html": [
       "9.31578947368421"
      ],
      "text/latex": [
       "9.31578947368421"
      ],
      "text/markdown": [
       "9.31578947368421"
      ],
      "text/plain": [
       "[1] 9.315789"
      ]
     },
     "metadata": {},
     "output_type": "display_data"
    }
   ],
   "source": [
    "Ni <- apply(mat,1,sum)\n",
    "Lj <- apply(mat,2,sum)\n",
    "\n",
    "k <- nrow(mat)\n",
    "b <- ncol(mat)\n",
    "\n",
    "N <- sum(Ni)\n",
    "\n",
    "Q <- (k*(k-1)*sum((Ni - mean(Ni))^2))/(k*N - sum(Lj^2))\n",
    "Q"
   ]
  },
  {
   "cell_type": "code",
   "execution_count": 40,
   "metadata": {
    "collapsed": false
   },
   "outputs": [
    {
     "data": {
      "text/html": [
       "0.0253739987887868"
      ],
      "text/latex": [
       "0.0253739987887868"
      ],
      "text/markdown": [
       "0.0253739987887868"
      ],
      "text/plain": [
       "[1] 0.025374"
      ]
     },
     "metadata": {},
     "output_type": "display_data"
    }
   ],
   "source": [
    "pchisq(Q,k-1,low=F)"
   ]
  },
  {
   "cell_type": "markdown",
   "metadata": {},
   "source": [
    "Cochran检验也是基于卡方渐进性的检验。在原假设下，各行如何出现1,0是同分布不独立的。我们可以以各行和作为卡方的基本统计量。\n",
    "然后将其标准化再加起来得到一个服从卡方分布的统计量。为此需要分析行和的期望和方差。\n",
    "\n",
    "Cochran检验基于一种随机模型设定，\n",
    "认为每个列的给出1的总数确定，但怎么给是随机的（这就是给1,0同分布不独立的一个实现）。偏到某列在某行的格上，其取1的概率是$L_j/k$\n",
    "其期望是$E(X_{ij}) = L_j/k$，其方差是$Var(X_{ij}) = E(X_{ij}^2) - E(X_{ij})^2 = L_j/k - L_j^2/k^2$。\n",
    "\n",
    "于是行和$N_i$的偏方差与偏期望为\n",
    "\n",
    "$$\n",
    "E(N_i) = \\sum_{j=1}^b E(X_{ij}) = \\sum_{j=1}^b L_j/k = \\frac{N}{k} = \\bar{N} \\\\\n",
    "Var(N_i) = \\sum_{j=1}^b (E(X_{ij}^2) - E(X_{ij})^2) = \\bar{N} - \\frac{1}{k^2} \\sum_{j=1}^b L_j^2 \\\\\n",
    "$$\n",
    "\n",
    "于是我们似乎期待Cochran检验的Q统计量是这样定义的\n",
    "\n",
    "$$\n",
    "Q =\n",
    "\\sum_{i=1}^k \\left(\\frac{N_i - E(N_i)}{\\sqrt{Var(N_i)}} \\right)^2\n",
    "=\n",
    "\\frac{1}{Var(N_i)} \\sum_{i=1}^k (N_i - E(N_i))^2\n",
    "= \n",
    "\\frac{k^2}{kN -  \\sum_{j=1}^b L_j^2} \\sum_{i=1}^k (N - \\bar{N})^2\n",
    "$$\n",
    "\n",
    "就像t检验和前面进行的类似分析一样，出现了一些小偏差，实际统计量是这样定义的\n",
    "\n",
    "$$\n",
    "Q = \\frac{k(k-1)}{kN -  \\sum_{j=1}^b L_j^2} \\sum_{i=1}^k (N - \\bar{N})^2\n",
    "$$\n",
    "\n",
    "有一个$k$变成了$k-1$，我们知道这种变化背后往往蕴含着大坑。这里当然是因为各行间并不完全独立的结果，\n",
    "而如果我们背后随机模型设定是，列无限制的以$\\frac{L_j}{k}$概率打出1而不是只能在现有个数上分配，也许就是那个更直接的结果了。\n",
    "\n",
    "原假设成立下，Q统计量自然渐进服从卡方分布。\n",
    "\n",
    "$$\n",
    "Q \\sim \\chi^2(k-1)\n",
    "$$"
   ]
  },
  {
   "cell_type": "code",
   "execution_count": 42,
   "metadata": {
    "collapsed": false
   },
   "outputs": [
    {
     "data": {
      "text/html": [
       "12.4210526315789"
      ],
      "text/latex": [
       "12.4210526315789"
      ],
      "text/markdown": [
       "12.4210526315789"
      ],
      "text/plain": [
       "[1] 12.42105"
      ]
     },
     "metadata": {},
     "output_type": "display_data"
    }
   ],
   "source": [
    "Q2 <- (k*k*sum((Ni - mean(Ni))^2))/(k*N - sum(Lj^2))\n",
    "Q2"
   ]
  },
  {
   "cell_type": "code",
   "execution_count": 43,
   "metadata": {
    "collapsed": false
   },
   "outputs": [
    {
     "data": {
      "text/html": [
       "0.0144800365315914"
      ],
      "text/latex": [
       "0.0144800365315914"
      ],
      "text/markdown": [
       "0.0144800365315914"
      ],
      "text/plain": [
       "[1] 0.01448004"
      ]
     },
     "metadata": {},
     "output_type": "display_data"
    }
   ],
   "source": [
    "pchisq(Q2,k,low=F)"
   ]
  },
  {
   "cell_type": "markdown",
   "metadata": {},
   "source": [
    "我们看到那个假设背后是无限制打出1的模型似乎可以给出更低的p值，那为什么还要做有限制假设呢？也许是为了保护原假设。\n",
    "\n",
    "可以看出在有限制原假设下，打出特定的$L_j$的概率是$1$。而无限制打出模型中，虽然概率是这类模型中可能的最大值，但综合后一般却很接近$0$\n",
    "这就把这个不标准化的信息揉进了假设检验中，使得原假设更容易被拒绝，而这在原假设成立下也成立，于是会扩大检验统计量的接受区域。\n",
    "\n",
    "好吧，感觉这样说还是有点问题。于是我们来试试比较假设不同背后分布下，它们的功效函数是什么情况。\n",
    "\n",
    "背后模型1\n",
    "\n",
    "模型被进一步确定为每个行列各对应一个特定概率，各格由行列对应概率乘积打出1,0.原假设下各行概率相同，备择假设上开始背离这个设定。\n",
    "\n",
    "背后模型2\n",
    "\n",
    "模型被进一步确定为每个列对应特定整数个1，每个行有一个加权。按列与列的1数与行的加权给各格打出1,0。与按假设上各行加权一样，备择假设上开始背离这个设定。\n",
    "\n",
    "一个假设检验，本身是个函数，将样本可能取值映射映为接受或拒绝原假设（以0,1编码也行，只不过是一种形式主义。）。\n",
    "这一过程一般还可以分解为从样本计算一个检验统计量的值，再看该值是否落在拒绝域中作出映射中拒绝与否决策。\n",
    "\n",
    "那么在指定样本的背后的概率分布后，假设检验就变成一个0,1随机变量。如果这个背后概率分布是原假设下确定的（比如原假设确定或限制了参数的取值）\n",
    "，此时拒绝或检验统计量落入拒绝域的概率就是第一类错误概率。当是在备择假设下确定的，则落入接受域的概率称为第二类错误概率。无论什么时候，\n",
    "落入拒绝域的概率称为功效函数的值。功效函数一般表示为足以完全确定分布的参数组对该参数组下检验统计量落入拒绝域的概率。\n",
    "\n",
    "对于我们非参数检验来说，假设，即使是原假设很少可以完全确定背后分布的。比如位置检验经常出现这样的元假设：几个总体间至多位置不同，\n",
    "原假设只是说位置相同。元假设加上原假设却未确定分布是什么分布，正态分布还是指数分布什么的。当然有用的就在于无论其实是什么分布，\n",
    "都可以拒绝位置参数是否相同的假设。然而对功效来说却并非如此。\n",
    "\n",
    "假设检验抽象的作为一个由样本取值映射到0,1的函数的性质使得我们可以轻易模拟得出功效函数。对于一个特定的参数取值，完全确定分布后\n",
    "（也就是已经封装成一个不用传参就可以调用的函数的时候），我们可以直接模拟若干次，以0,1出现比例为功效函数在此参数组，以及原假设或\n",
    "备择假设的这个特例上的取值。当假设空间是一个一维的参数空间时，可视化功效函数特别容易，但正如多维函数一般的可视化困难，\n",
    "功效函数也不能幸免。更糟的是有的假设空间甚至不是有限个参数可遍历它的每个点的，比如“位置为0的所有分布”。\n",
    "这时通过模拟我们只能观察它的某些特例上的取值，理论上一般的结果得到前，只通过模拟也许会出现一个奇异的新分布造成一个完全不同的结果的情况。"
   ]
  },
  {
   "cell_type": "code",
   "execution_count": 45,
   "metadata": {
    "collapsed": false
   },
   "outputs": [
    {
     "data": {
      "text/html": [
       "<ol class=list-inline>\n",
       "\t<li>TRUE</li>\n",
       "\t<li>TRUE</li>\n",
       "\t<li>FALSE</li>\n",
       "</ol>\n"
      ],
      "text/latex": [
       "\\begin{enumerate*}\n",
       "\\item TRUE\n",
       "\\item TRUE\n",
       "\\item FALSE\n",
       "\\end{enumerate*}\n"
      ],
      "text/markdown": [
       "1. TRUE\n",
       "2. TRUE\n",
       "3. FALSE\n",
       "\n",
       "\n"
      ],
      "text/plain": [
       "[1]  TRUE  TRUE FALSE"
      ]
     },
     "metadata": {},
     "output_type": "display_data"
    }
   ],
   "source": [
    "c(1,1,2) %in% c(0,1)"
   ]
  },
  {
   "cell_type": "code",
   "execution_count": 383,
   "metadata": {
    "collapsed": false
   },
   "outputs": [],
   "source": [
    "hypothesis.power <- function(par, rdis, test = NULL, statistic = NULL, in.reject = NULL, size = 1000){\n",
    "    # par :- vector or matrix. It includes parameter what will sender to `rdir` function to draw many sample\n",
    "    # rdis :- element of par -> (randomization) sample\n",
    "    # test :- single sample -> 0,1 0 mean not-rejuect 1 means reject\n",
    "    # statistic :- single sample -> statistic value\n",
    "    # in.reject :- statistic value -> 0,1 if test is not given, `statistic` and `in.reject`is needed for build `test`\n",
    "    # size :- for one power function value, test times\n",
    "    #\n",
    "    # return :- (list) par -> power function value\n",
    "    \n",
    "    if(is.vector(par)){\n",
    "        par <- matrix(par,length(par))\n",
    "    }\n",
    "    \n",
    "    if(is.null(test)){\n",
    "        test <- function(sample){\n",
    "            return(in.reject(statistic(sample)))\n",
    "        }\n",
    "    }\n",
    "    \n",
    "    rl <- c()\n",
    "    for(i in 1:nrow(par)){\n",
    "        p <- par[i,]\n",
    "        rl[i] <- mean(replicate(size, test(rdis(p))))\n",
    "    }\n",
    "    return(rl)\n",
    "}"
   ]
  },
  {
   "cell_type": "code",
   "execution_count": 239,
   "metadata": {
    "collapsed": true
   },
   "outputs": [],
   "source": [
    "place.weight <- function(n, weight){\n",
    "    # (2,c(0.45,0.45,0.1)) -> c(1,1,0) or c(1,0,1),... by weight `weight`\n",
    "    r <- rep(0,length(weight))\n",
    "    w <- weight\n",
    "    idx <- 1:length(weight)\n",
    "    for(i in 1:n){\n",
    "        tl <- (cumsum(w) - runif(1) * sum(w))\n",
    "        for(j in 1:length(tl)){\n",
    "            if(tl[j]>0){\n",
    "                r[idx[j]] = 1\n",
    "                w <- w[-j]\n",
    "                idx <- idx[-j]\n",
    "                break\n",
    "            }\n",
    "        }\n",
    "    }\n",
    "    return(r)\n",
    "}\n"
   ]
  },
  {
   "cell_type": "code",
   "execution_count": 240,
   "metadata": {
    "collapsed": false
   },
   "outputs": [
    {
     "data": {
      "text/html": [
       "<ol class=list-inline>\n",
       "\t<li>0.859</li>\n",
       "\t<li>0.86</li>\n",
       "\t<li>0.281</li>\n",
       "</ol>\n"
      ],
      "text/latex": [
       "\\begin{enumerate*}\n",
       "\\item 0.859\n",
       "\\item 0.86\n",
       "\\item 0.281\n",
       "\\end{enumerate*}\n"
      ],
      "text/markdown": [
       "1. 0.859\n",
       "2. 0.86\n",
       "3. 0.281\n",
       "\n",
       "\n"
      ],
      "text/plain": [
       "[1] 0.859 0.860 0.281"
      ]
     },
     "metadata": {},
     "output_type": "display_data"
    }
   ],
   "source": [
    "mat <- replicate(1000,place.weight(2,c(0.45,0.45,0.1)))\n",
    "\n",
    "apply(mat,1,mean)"
   ]
  },
  {
   "cell_type": "code",
   "execution_count": 331,
   "metadata": {
    "collapsed": false
   },
   "outputs": [],
   "source": [
    "\n",
    "k <- 4\n",
    "b <- 10\n",
    "\n",
    "alpha <- 0.05\n",
    "\n",
    "par <- seq(-1,1,0.1) # par -> 0 mean null hypothesis or near it.\n",
    "rdis1 <- function(p){\n",
    "    rp <- rep(0.5,k) + (1:k/k*2 - 1) * p / 2\n",
    "    cp <- 1:b/b\n",
    "    pp <- rp %o% cp\n",
    "    s <- matrix(sapply(pp,function(prob){\n",
    "        rbinom(1,1,prob)\n",
    "    }),nrow(pp))\n",
    "    return(s)\n",
    "}\n",
    "rdis2 <- function(p){\n",
    "    if(p != 0){\n",
    "        bias <- (1:k) * p / sum(1:k)\n",
    "        weight <- bias + rep(1/k,k) * (1 - sum(bias))\n",
    "    }\n",
    "    else{\n",
    "        weight <- rep(1/k,k)\n",
    "    }\n",
    "    cn <- sapply(trunc(1:b/b*k),function(n)max(1,min(k-1,n)))\n",
    "    mat <- sapply(cn,function(n){\n",
    "        place.weight(n,weight)\n",
    "    })\n",
    "    return(mat)\n",
    "}\n"
   ]
  },
  {
   "cell_type": "code",
   "execution_count": 305,
   "metadata": {
    "collapsed": false
   },
   "outputs": [
    {
     "data": {
      "text/html": [
       "<ol class=list-inline>\n",
       "\t<li>259</li>\n",
       "\t<li>266</li>\n",
       "\t<li>282</li>\n",
       "\t<li>272</li>\n",
       "</ol>\n"
      ],
      "text/latex": [
       "\\begin{enumerate*}\n",
       "\\item 259\n",
       "\\item 266\n",
       "\\item 282\n",
       "\\item 272\n",
       "\\end{enumerate*}\n"
      ],
      "text/markdown": [
       "1. 259\n",
       "2. 266\n",
       "3. 282\n",
       "4. 272\n",
       "\n",
       "\n"
      ],
      "text/plain": [
       "[1] 259 266 282 272"
      ]
     },
     "metadata": {},
     "output_type": "display_data"
    }
   ],
   "source": [
    "apply(replicate(100,apply(rdis1(0),1,sum)),1,sum)"
   ]
  },
  {
   "cell_type": "code",
   "execution_count": 317,
   "metadata": {
    "collapsed": false
   },
   "outputs": [
    {
     "data": {
      "text/html": [
       "<ol class=list-inline>\n",
       "\t<li>143</li>\n",
       "\t<li>282</li>\n",
       "\t<li>421</li>\n",
       "\t<li>553</li>\n",
       "</ol>\n"
      ],
      "text/latex": [
       "\\begin{enumerate*}\n",
       "\\item 143\n",
       "\\item 282\n",
       "\\item 421\n",
       "\\item 553\n",
       "\\end{enumerate*}\n"
      ],
      "text/markdown": [
       "1. 143\n",
       "2. 282\n",
       "3. 421\n",
       "4. 553\n",
       "\n",
       "\n"
      ],
      "text/plain": [
       "[1] 143 282 421 553"
      ]
     },
     "metadata": {},
     "output_type": "display_data"
    }
   ],
   "source": [
    "apply(replicate(100,apply(rdis1(1),1,sum)),1,sum)"
   ]
  },
  {
   "cell_type": "code",
   "execution_count": 320,
   "metadata": {
    "collapsed": false
   },
   "outputs": [
    {
     "data": {
      "text/html": [
       "<ol class=list-inline>\n",
       "\t<li>416</li>\n",
       "\t<li>268</li>\n",
       "\t<li>140</li>\n",
       "\t<li>0</li>\n",
       "</ol>\n"
      ],
      "text/latex": [
       "\\begin{enumerate*}\n",
       "\\item 416\n",
       "\\item 268\n",
       "\\item 140\n",
       "\\item 0\n",
       "\\end{enumerate*}\n"
      ],
      "text/markdown": [
       "1. 416\n",
       "2. 268\n",
       "3. 140\n",
       "4. 0\n",
       "\n",
       "\n"
      ],
      "text/plain": [
       "[1] 416 268 140   0"
      ]
     },
     "metadata": {},
     "output_type": "display_data"
    }
   ],
   "source": [
    "apply(replicate(100,apply(rdis1(-1),1,sum)),1,sum)"
   ]
  },
  {
   "cell_type": "code",
   "execution_count": 298,
   "metadata": {
    "collapsed": false
   },
   "outputs": [
    {
     "data": {
      "text/html": [
       "<ol class=list-inline>\n",
       "\t<li>477</li>\n",
       "\t<li>489</li>\n",
       "\t<li>468</li>\n",
       "\t<li>466</li>\n",
       "</ol>\n"
      ],
      "text/latex": [
       "\\begin{enumerate*}\n",
       "\\item 477\n",
       "\\item 489\n",
       "\\item 468\n",
       "\\item 466\n",
       "\\end{enumerate*}\n"
      ],
      "text/markdown": [
       "1. 477\n",
       "2. 489\n",
       "3. 468\n",
       "4. 466\n",
       "\n",
       "\n"
      ],
      "text/plain": [
       "[1] 477 489 468 466"
      ]
     },
     "metadata": {},
     "output_type": "display_data"
    }
   ],
   "source": [
    "apply(replicate(100,apply(rdis2(0),1,sum)),1,sum)"
   ]
  },
  {
   "cell_type": "code",
   "execution_count": 299,
   "metadata": {
    "collapsed": false
   },
   "outputs": [
    {
     "data": {
      "text/html": [
       "<ol class=list-inline>\n",
       "\t<li>273</li>\n",
       "\t<li>444</li>\n",
       "\t<li>535</li>\n",
       "\t<li>648</li>\n",
       "</ol>\n"
      ],
      "text/latex": [
       "\\begin{enumerate*}\n",
       "\\item 273\n",
       "\\item 444\n",
       "\\item 535\n",
       "\\item 648\n",
       "\\end{enumerate*}\n"
      ],
      "text/markdown": [
       "1. 273\n",
       "2. 444\n",
       "3. 535\n",
       "4. 648\n",
       "\n",
       "\n"
      ],
      "text/plain": [
       "[1] 273 444 535 648"
      ]
     },
     "metadata": {},
     "output_type": "display_data"
    }
   ],
   "source": [
    "apply(replicate(100,apply(rdis2(1),1,sum)),1,sum)"
   ]
  },
  {
   "cell_type": "code",
   "execution_count": 300,
   "metadata": {
    "collapsed": false
   },
   "outputs": [
    {
     "data": {
      "text/html": [
       "<ol class=list-inline>\n",
       "\t<li>652</li>\n",
       "\t<li>557</li>\n",
       "\t<li>441</li>\n",
       "\t<li>250</li>\n",
       "</ol>\n"
      ],
      "text/latex": [
       "\\begin{enumerate*}\n",
       "\\item 652\n",
       "\\item 557\n",
       "\\item 441\n",
       "\\item 250\n",
       "\\end{enumerate*}\n"
      ],
      "text/markdown": [
       "1. 652\n",
       "2. 557\n",
       "3. 441\n",
       "4. 250\n",
       "\n",
       "\n"
      ],
      "text/plain": [
       "[1] 652 557 441 250"
      ]
     },
     "metadata": {},
     "output_type": "display_data"
    }
   ],
   "source": [
    "apply(replicate(100,apply(rdis2(-1),1,sum)),1,sum)"
   ]
  },
  {
   "cell_type": "code",
   "execution_count": 394,
   "metadata": {
    "collapsed": true
   },
   "outputs": [],
   "source": [
    "statistic1 <- function(mat){\n",
    "    Ni <- apply(mat,1,sum)\n",
    "    Lj <- apply(mat,2,sum)\n",
    "\n",
    "    k <- nrow(mat)\n",
    "    b <- ncol(mat)\n",
    "\n",
    "    N <- sum(Ni)\n",
    "\n",
    "    Q <- (k*(k-1)*sum((Ni - mean(Ni))^2))/(k*N - sum(Lj^2))\n",
    "    return(Q)\n",
    "}\n",
    "\n",
    "statistic2 <- function(mat){\n",
    "    Ni <- apply(mat,1,sum)\n",
    "    Lj <- apply(mat,2,sum)\n",
    "\n",
    "    k <- nrow(mat)\n",
    "    b <- ncol(mat)\n",
    "\n",
    "    N <- sum(Ni)\n",
    "\n",
    "    Q <- (k*k*sum((Ni - mean(Ni))^2))/(k*N - sum(Lj^2))\n",
    "    return(Q)\n",
    "}"
   ]
  },
  {
   "cell_type": "code",
   "execution_count": 399,
   "metadata": {
    "collapsed": false
   },
   "outputs": [
    {
     "data": {
      "text/html": [
       "<ol class=list-inline>\n",
       "\t<li>0.443</li>\n",
       "\t<li>0.099</li>\n",
       "\t<li>0.036</li>\n",
       "\t<li>0.11</li>\n",
       "\t<li>0.377</li>\n",
       "</ol>\n"
      ],
      "text/latex": [
       "\\begin{enumerate*}\n",
       "\\item 0.443\n",
       "\\item 0.099\n",
       "\\item 0.036\n",
       "\\item 0.11\n",
       "\\item 0.377\n",
       "\\end{enumerate*}\n"
      ],
      "text/markdown": [
       "1. 0.443\n",
       "2. 0.099\n",
       "3. 0.036\n",
       "4. 0.11\n",
       "5. 0.377\n",
       "\n",
       "\n"
      ],
      "text/plain": [
       "[1] 0.443 0.099 0.036 0.110 0.377"
      ]
     },
     "metadata": {},
     "output_type": "display_data"
    }
   ],
   "source": [
    "hypothesis.power(c(-1,-0.5,0,0.5,1),rdis1,statistic = statistic1, in.reject = in.reject1)"
   ]
  },
  {
   "cell_type": "code",
   "execution_count": 406,
   "metadata": {
    "collapsed": false
   },
   "outputs": [
    {
     "data": {
      "text/html": [
       "<ol class=list-inline>\n",
       "\t<li>0.523</li>\n",
       "\t<li>0.141</li>\n",
       "\t<li>0.052</li>\n",
       "\t<li>0.134</li>\n",
       "\t<li>0.464</li>\n",
       "</ol>\n"
      ],
      "text/latex": [
       "\\begin{enumerate*}\n",
       "\\item 0.523\n",
       "\\item 0.141\n",
       "\\item 0.052\n",
       "\\item 0.134\n",
       "\\item 0.464\n",
       "\\end{enumerate*}\n"
      ],
      "text/markdown": [
       "1. 0.523\n",
       "2. 0.141\n",
       "3. 0.052\n",
       "4. 0.134\n",
       "5. 0.464\n",
       "\n",
       "\n"
      ],
      "text/plain": [
       "[1] 0.523 0.141 0.052 0.134 0.464"
      ]
     },
     "metadata": {},
     "output_type": "display_data"
    }
   ],
   "source": [
    "hypothesis.power(c(-1,-0.5,0,0.5,1),rdis1,statistic = statistic2, in.reject = in.reject2)"
   ]
  },
  {
   "cell_type": "code",
   "execution_count": 401,
   "metadata": {
    "collapsed": false
   },
   "outputs": [
    {
     "data": {
      "text/html": [
       "<ol class=list-inline>\n",
       "\t<li>0.272</li>\n",
       "\t<li>0.074</li>\n",
       "\t<li>0.048</li>\n",
       "\t<li>0.075</li>\n",
       "\t<li>0.258</li>\n",
       "</ol>\n"
      ],
      "text/latex": [
       "\\begin{enumerate*}\n",
       "\\item 0.272\n",
       "\\item 0.074\n",
       "\\item 0.048\n",
       "\\item 0.075\n",
       "\\item 0.258\n",
       "\\end{enumerate*}\n"
      ],
      "text/markdown": [
       "1. 0.272\n",
       "2. 0.074\n",
       "3. 0.048\n",
       "4. 0.075\n",
       "5. 0.258\n",
       "\n",
       "\n"
      ],
      "text/plain": [
       "[1] 0.272 0.074 0.048 0.075 0.258"
      ]
     },
     "metadata": {},
     "output_type": "display_data"
    }
   ],
   "source": [
    "hypothesis.power(c(-1,-0.5,0,0.5,1),rdis2,statistic = statistic1, in.reject = in.reject1)"
   ]
  },
  {
   "cell_type": "code",
   "execution_count": 404,
   "metadata": {
    "collapsed": false
   },
   "outputs": [
    {
     "data": {
      "text/html": [
       "<ol class=list-inline>\n",
       "\t<li>0.331</li>\n",
       "\t<li>0.124</li>\n",
       "\t<li>0.055</li>\n",
       "\t<li>0.111</li>\n",
       "\t<li>0.356</li>\n",
       "</ol>\n"
      ],
      "text/latex": [
       "\\begin{enumerate*}\n",
       "\\item 0.331\n",
       "\\item 0.124\n",
       "\\item 0.055\n",
       "\\item 0.111\n",
       "\\item 0.356\n",
       "\\end{enumerate*}\n"
      ],
      "text/markdown": [
       "1. 0.331\n",
       "2. 0.124\n",
       "3. 0.055\n",
       "4. 0.111\n",
       "5. 0.356\n",
       "\n",
       "\n"
      ],
      "text/plain": [
       "[1] 0.331 0.124 0.055 0.111 0.356"
      ]
     },
     "metadata": {},
     "output_type": "display_data"
    }
   ],
   "source": [
    "hypothesis.power(c(-1,-0.5,0,0.5,1),rdis2,statistic = statistic2, in.reject = in.reject2)"
   ]
  },
  {
   "cell_type": "markdown",
   "metadata": {},
   "source": [
    "可以看出第二种方法貌似在稳定满足0.05显著性水平上似乎表现不佳。"
   ]
  },
  {
   "cell_type": "code",
   "execution_count": 420,
   "metadata": {
    "collapsed": false
   },
   "outputs": [
    {
     "data": {
      "text/html": [
       "0.0545"
      ],
      "text/latex": [
       "0.0545"
      ],
      "text/markdown": [
       "0.0545"
      ],
      "text/plain": [
       "[1] 0.0545"
      ]
     },
     "metadata": {},
     "output_type": "display_data"
    }
   ],
   "source": [
    "mean(replicate(100,hypothesis.power(0,rdis1,statistic = statistic2, in.reject = in.reject2,size=100)))"
   ]
  },
  {
   "cell_type": "code",
   "execution_count": 423,
   "metadata": {
    "collapsed": false
   },
   "outputs": [
    {
     "data": {
      "text/html": [
       "0.0608"
      ],
      "text/latex": [
       "0.0608"
      ],
      "text/markdown": [
       "0.0608"
      ],
      "text/plain": [
       "[1] 0.0608"
      ]
     },
     "metadata": {},
     "output_type": "display_data"
    }
   ],
   "source": [
    "mean(replicate(100,hypothesis.power(0,rdis2,statistic = statistic2, in.reject = in.reject2,size=100)))"
   ]
  },
  {
   "cell_type": "markdown",
   "metadata": {},
   "source": [
    "给人一种用错了拒绝域的感觉，可能那个还是不是它的精确分布吧。"
   ]
  },
  {
   "cell_type": "code",
   "execution_count": 425,
   "metadata": {
    "collapsed": false
   },
   "outputs": [
    {
     "data": {
      "text/html": [
       "0.0371"
      ],
      "text/latex": [
       "0.0371"
      ],
      "text/markdown": [
       "0.0371"
      ],
      "text/plain": [
       "[1] 0.0371"
      ]
     },
     "metadata": {},
     "output_type": "display_data"
    }
   ],
   "source": [
    "mean(replicate(100,hypothesis.power(0,rdis1,statistic = statistic1, in.reject = in.reject1,size=100)))"
   ]
  },
  {
   "cell_type": "code",
   "execution_count": 426,
   "metadata": {
    "collapsed": false
   },
   "outputs": [
    {
     "data": {
      "text/html": [
       "0.0395"
      ],
      "text/latex": [
       "0.0395"
      ],
      "text/markdown": [
       "0.0395"
      ],
      "text/plain": [
       "[1] 0.0395"
      ]
     },
     "metadata": {},
     "output_type": "display_data"
    }
   ],
   "source": [
    "mean(replicate(100,hypothesis.power(0,rdis2,statistic = statistic1, in.reject = in.reject1,size=100)))"
   ]
  },
  {
   "cell_type": "markdown",
   "metadata": {},
   "source": [
    "总之即使是为了显著性水平约束真起作用了，也得用书上方法。不然要不限制功效函数在原假设成立上的集合的取值，当当然可以要多大有多大。\n",
    "\n",
    "## Page检验\n",
    "\n",
    "Page检验进行相同于Jonckheere-Terpstra检验的原假设备择假设设定。那种$\\theta_1 \\le \\cdots \\le \\theta_k \\quad (\\text{exist a <})$\n",
    "备择假设设定使得这些检验可以使用一些可以在对称备择假设下在一个情况下取得大值，在对偶的\n",
    "（比如$\\theta_1 \\ge \\cdots \\ge \\theta_k  \\quad (\\text{exist a >})$）情况下就取得小值的顺序相关的统计量。\n",
    "对称假设下这种统计量总有一些情况会使得它表现不好，而我们先验认为那些情况与其他情况具有同等地位\n",
    "（不然就应该撤出备择假设，像JT与Page检验做的那样），所以不会去使用它们。但在对称性破坏的条件下，我们就可以用它们了。\n",
    "\n",
    "Page检验使用这么个顺序相关的统计量。\n",
    "\n",
    "$$\n",
    "L = \\sum_{i=1}^k iR_i\n",
    "$$\n",
    "\n",
    "在备择假设成立时显然会偏大，但显然在可能的对偶的备择假设上它会偏小，或者在顺序混杂的情况中会与与按假设分布区分不出来。\n",
    "如果备择假设包含后者将使得拒绝域划分进退两难，所幸既然备择假设只包含这个，我们只需要把偏大的划分为拒绝域即可。\n",
    "比如得到p值为0.03后，我们就知道左边某个点可以划分出一个满足0.05显著性水平的拒绝域加以拒绝。\n",
    "\n",
    "$L$在原假设下具有渐进正态性，当$b \\to \\infty$，这是因为原假设若成立，则各区组的秩列向量都是独立同分布的，\n",
    "单独看一个行秩和的话，相当于每列提供一个独立离散均匀分布随机变量求和。所以各秩和是同分布渐进正态不独立的，\n",
    "中心极限定理在加权（这里的加权是$1,2,3,\\ldots$）不发散和随机变量列相关程度不大时仍然成立。这就是$L$渐进正态性的来源。\n",
    "\n",
    "为了推导出$L$的标准化统计量$Z_L$，求其期望与方差\n",
    "\n",
    "$$\n",
    "E(R_i) = \\frac{k+1}{2}b \\\\\n",
    "Var(R_i) =  b Var(R_{ij}) = \\frac{1}{12} b (k+1)(k-1) \\\\\n",
    "E(L) = \\frac{(k+1)k}{2} E(R_i) = \\frac{bk(k+1)^2}{4} \\\\\n",
    "$$\n",
    "\n",
    "$Var(L)$稍微有点麻烦，前面已经指出了它不是独立的，所以不能直接算加权和，但我们不妨按错误方法算一下看看得到了什么。\n",
    "\n",
    "$$\n",
    "\\bar{Var(L)} = \\sum_{i=1}^k i^2 Var(R_i) = (\\frac{1}{3} k^3 + \\frac{1}{2} k^2 + \\frac{1}{6} k ) \\frac{1}{12} b (k+1)(k-1)\n",
    "$$\n",
    "\n",
    "而正确答案是\n",
    "\n",
    "$$\n",
    "\\sigma_L^2 = \\frac{b(k^3-k)^2}{144(k-1)} = \\frac{bk^2(k^2-1)^2}{144(k-1)} = \\frac{bk^2(k-1)(k+1)^2}{144}\n",
    "$$\n",
    "\n",
    "它们的阶姑且还是对的上的,但是细节估计又是大坑。"
   ]
  },
  {
   "cell_type": "code",
   "execution_count": 432,
   "metadata": {
    "collapsed": false
   },
   "outputs": [],
   "source": [
    "library(reshape2)"
   ]
  },
  {
   "cell_type": "code",
   "execution_count": 471,
   "metadata": {
    "collapsed": false
   },
   "outputs": [
    {
     "data": {
      "text/html": [
       "<table>\n",
       "<thead><tr><th scope=col>treatment</th><th scope=col>I</th><th scope=col>II</th><th scope=col>III</th><th scope=col>IV</th></tr></thead>\n",
       "<tbody>\n",
       "\t<tr><td>A  </td><td>80 </td><td>100</td><td>51 </td><td>65 </td></tr>\n",
       "\t<tr><td>B  </td><td>52 </td><td> 76</td><td>52 </td><td>53 </td></tr>\n",
       "\t<tr><td>C  </td><td>40 </td><td> 52</td><td>34 </td><td>35 </td></tr>\n",
       "</tbody>\n",
       "</table>\n"
      ],
      "text/latex": [
       "\\begin{tabular}{r|lllll}\n",
       " treatment & I & II & III & IV\\\\\n",
       "\\hline\n",
       "\t A   & 80  & 100 & 51  & 65 \\\\\n",
       "\t B   & 52  &  76 & 52  & 53 \\\\\n",
       "\t C   & 40  &  52 & 34  & 35 \\\\\n",
       "\\end{tabular}\n"
      ],
      "text/plain": [
       "  treatment I  II  III IV\n",
       "1 A         80 100 51  65\n",
       "2 B         52  76 52  53\n",
       "3 C         40  52 34  35"
      ]
     },
     "metadata": {},
     "output_type": "display_data"
    }
   ],
   "source": [
    "cd <- dcast(blead, treatment ~ block)\n",
    "cd"
   ]
  },
  {
   "cell_type": "code",
   "execution_count": 472,
   "metadata": {
    "collapsed": false
   },
   "outputs": [
    {
     "data": {
      "text/html": [
       "<table>\n",
       "<thead><tr><th></th><th scope=col>I</th><th scope=col>II</th><th scope=col>III</th><th scope=col>IV</th></tr></thead>\n",
       "<tbody>\n",
       "\t<tr><th scope=row>A</th><td>40 </td><td> 52</td><td>34 </td><td>35 </td></tr>\n",
       "\t<tr><th scope=row>B</th><td>52 </td><td> 76</td><td>52 </td><td>53 </td></tr>\n",
       "\t<tr><th scope=row>C</th><td>80 </td><td>100</td><td>51 </td><td>65 </td></tr>\n",
       "</tbody>\n",
       "</table>\n"
      ],
      "text/latex": [
       "\\begin{tabular}{r|llll}\n",
       "  & I & II & III & IV\\\\\n",
       "\\hline\n",
       "\tA & 40  &  52 & 34  & 35 \\\\\n",
       "\tB & 52  &  76 & 52  & 53 \\\\\n",
       "\tC & 80  & 100 & 51  & 65 \\\\\n",
       "\\end{tabular}\n"
      ],
      "text/plain": [
       "  I  II  III IV\n",
       "A 40  52 34  35\n",
       "B 52  76 52  53\n",
       "C 80 100 51  65"
      ]
     },
     "metadata": {},
     "output_type": "display_data"
    }
   ],
   "source": [
    "cd[4,] <- cd[1,]\n",
    "cd[1,] <- cd[3,]\n",
    "cd[3,] <- cd[4,]\n",
    "cd <- cd[1:3,]\n",
    "rownames(cd) <- cd$treatment[3:1]\n",
    "cd$treatment <- NULL\n",
    "cd"
   ]
  },
  {
   "cell_type": "code",
   "execution_count": 473,
   "metadata": {
    "collapsed": false
   },
   "outputs": [
    {
     "data": {
      "text/html": [
       "<table>\n",
       "<thead><tr><th></th><th scope=col>I</th><th scope=col>II</th><th scope=col>III</th><th scope=col>IV</th></tr></thead>\n",
       "<tbody>\n",
       "\t<tr><th scope=row>A</th><td>1</td><td>1</td><td>1</td><td>1</td></tr>\n",
       "\t<tr><th scope=row>B</th><td>2</td><td>2</td><td>3</td><td>2</td></tr>\n",
       "\t<tr><th scope=row>C</th><td>3</td><td>3</td><td>2</td><td>3</td></tr>\n",
       "</tbody>\n",
       "</table>\n"
      ],
      "text/latex": [
       "\\begin{tabular}{r|llll}\n",
       "  & I & II & III & IV\\\\\n",
       "\\hline\n",
       "\tA & 1 & 1 & 1 & 1\\\\\n",
       "\tB & 2 & 2 & 3 & 2\\\\\n",
       "\tC & 3 & 3 & 2 & 3\\\\\n",
       "\\end{tabular}\n"
      ],
      "text/markdown": [
       "1. 1\n",
       "2. 2\n",
       "3. 3\n",
       "4. 1\n",
       "5. 2\n",
       "6. 3\n",
       "7. 1\n",
       "8. 3\n",
       "9. 2\n",
       "10. 1\n",
       "11. 2\n",
       "12. 3\n",
       "\n",
       "\n"
      ],
      "text/plain": [
       "  I II III IV\n",
       "A 1 1  1   1 \n",
       "B 2 2  3   2 \n",
       "C 3 3  2   3 "
      ]
     },
     "metadata": {},
     "output_type": "display_data"
    }
   ],
   "source": [
    "apply(cd,2,rank)"
   ]
  },
  {
   "cell_type": "code",
   "execution_count": 474,
   "metadata": {
    "collapsed": true
   },
   "outputs": [],
   "source": [
    "k <- nrow(cd)\n",
    "b <- ncol(cd)"
   ]
  },
  {
   "cell_type": "code",
   "execution_count": 475,
   "metadata": {
    "collapsed": false
   },
   "outputs": [
    {
     "data": {
      "text/html": [
       "<table>\n",
       "<tbody>\n",
       "\t<tr><td>55</td></tr>\n",
       "</tbody>\n",
       "</table>\n"
      ],
      "text/latex": [
       "\\begin{tabular}{l}\n",
       "\t 55\\\\\n",
       "\\end{tabular}\n"
      ],
      "text/markdown": [
       "55"
      ],
      "text/plain": [
       "     [,1]\n",
       "[1,] 55  "
      ]
     },
     "metadata": {},
     "output_type": "display_data"
    }
   ],
   "source": [
    "L <- 1:3 %*% apply(apply(cd,2,rank),1,sum)\n",
    "L"
   ]
  },
  {
   "cell_type": "code",
   "execution_count": 476,
   "metadata": {
    "collapsed": false
   },
   "outputs": [],
   "source": [
    "mu <- b*k*(k+1)^2/4\n",
    "sigma2 <- b*(k^3-k)^2/(144*(k-1))"
   ]
  },
  {
   "cell_type": "code",
   "execution_count": 477,
   "metadata": {
    "collapsed": false
   },
   "outputs": [
    {
     "data": {
      "text/html": [
       "<table>\n",
       "<tbody>\n",
       "\t<tr><td>2.474874</td></tr>\n",
       "</tbody>\n",
       "</table>\n"
      ],
      "text/latex": [
       "\\begin{tabular}{l}\n",
       "\t 2.474874\\\\\n",
       "\\end{tabular}\n"
      ],
      "text/markdown": [
       "2.47487373415292"
      ],
      "text/plain": [
       "     [,1]    \n",
       "[1,] 2.474874"
      ]
     },
     "metadata": {},
     "output_type": "display_data"
    }
   ],
   "source": [
    "Z <- (L - mu)/sqrt(sigma2)\n",
    "Z"
   ]
  },
  {
   "cell_type": "code",
   "execution_count": 478,
   "metadata": {
    "collapsed": false
   },
   "outputs": [
    {
     "data": {
      "text/html": [
       "<table>\n",
       "<tbody>\n",
       "\t<tr><td>0.006664164</td></tr>\n",
       "</tbody>\n",
       "</table>\n"
      ],
      "text/latex": [
       "\\begin{tabular}{l}\n",
       "\t 0.006664164\\\\\n",
       "\\end{tabular}\n"
      ],
      "text/markdown": [
       "0.00666416439040878"
      ],
      "text/plain": [
       "     [,1]       \n",
       "[1,] 0.006664164"
      ]
     },
     "metadata": {},
     "output_type": "display_data"
    }
   ],
   "source": [
    "pnorm(Z,low=F)"
   ]
  },
  {
   "cell_type": "markdown",
   "metadata": {},
   "source": [
    "比Friedman的0.0x不知道高到哪里去了。理由当然和之前JT检验讨论的类似。\n",
    "另外也可以注意到这种单向性是就不需要利用平方和消除互相抵消的变异了。可以说平方和，用非参数方法直接定住方差，用估计量抵消方差都是套路，\n",
    "当假设空间结构不那么混乱时，也就自然不需要它们了。"
   ]
  },
  {
   "cell_type": "markdown",
   "metadata": {},
   "source": [
    "## Durbin检验\n",
    "\n",
    "完全区组设计连续情况的全相等，存在不相等假设在正态分布假设下是无重复因素二元素方差分析。在非参数情况下是Friedman检验。\n",
    "在扩展到$BIBD(k,b,r,t,\\lambda)$，即包含不完全区组设计后，就得到了Durbin检验，Friedman检验是Durbin检验的特例。\n",
    "\n",
    "Friedman检验的检验统计量Q\n",
    "\n",
    "$$\n",
    "Q = \\frac{12}{bk(k+1)}\\sum_{i=1}^k \\left(R_i - \\frac{b(k+1)}{2} \\right)^2\n",
    "$$\n",
    "\n",
    "Durbin的检验统计量D\n",
    "\n",
    "$$\n",
    "D = \\frac{12(k-1)}{rk(t^2-1)}\\sum_{i=1}^k \\left(R_i - \\frac{r(t+1)}{2} \\right)^2\n",
    "$$\n",
    "\n",
    "显然在$r=kb,t=k$条件下两者等价，而这正好是完全区组设计的定义。\n",
    "\n",
    "$$\n",
    "D \\to \\chi^2(k-1) \\quad (r \\to \\infty)\n",
    "$$\n",
    "\n",
    "检验统计量什么的与Friedman完全类似，其秩和相对下降已经由内部期望调整的标准化所控制。它的拒绝域划分推导和前面的也差不多，\n",
    "什么秩列独立同分布，行秩和同分布不独立之类的。。。正好可以绕过缺失数据的困难，倒是让人好奇参数版本怎么做的，插个均值再调整一番？\n",
    "\n",
    "\n"
   ]
  },
  {
   "cell_type": "code",
   "execution_count": 7,
   "metadata": {
    "collapsed": false
   },
   "outputs": [
    {
     "data": {
      "text/html": [
       "<table>\n",
       "<thead><tr><th></th><th scope=col>I</th><th scope=col>II</th><th scope=col>III</th><th scope=col>IV</th></tr></thead>\n",
       "<tbody>\n",
       "\t<tr><th scope=row>A</th><td>34</td><td>28</td><td>36</td><td>NA</td></tr>\n",
       "\t<tr><th scope=row>B</th><td>36</td><td>30</td><td>NA</td><td>45</td></tr>\n",
       "\t<tr><th scope=row>C</th><td>40</td><td>NA</td><td>48</td><td>60</td></tr>\n",
       "\t<tr><th scope=row>D</th><td>NA</td><td>44</td><td>54</td><td>59</td></tr>\n",
       "</tbody>\n",
       "</table>\n"
      ],
      "text/latex": [
       "\\begin{tabular}{r|llll}\n",
       "  & I & II & III & IV\\\\\n",
       "\\hline\n",
       "\tA & 34 & 28 & 36 & NA\\\\\n",
       "\tB & 36 & 30 & NA & 45\\\\\n",
       "\tC & 40 & NA & 48 & 60\\\\\n",
       "\tD & NA & 44 & 54 & 59\\\\\n",
       "\\end{tabular}\n"
      ],
      "text/markdown": [
       "1. 34\n",
       "2. 36\n",
       "3. 40\n",
       "4. NA\n",
       "5. 28\n",
       "6. 30\n",
       "7. NA\n",
       "8. 44\n",
       "9. 36\n",
       "10. NA\n",
       "11. 48\n",
       "12. 54\n",
       "13. NA\n",
       "14. 45\n",
       "15. 60\n",
       "16. 59\n",
       "\n",
       "\n"
      ],
      "text/plain": [
       "  I  II III IV\n",
       "A 34 28 36  NA\n",
       "B 36 30 NA  45\n",
       "C 40 NA 48  60\n",
       "D NA 44 54  59"
      ]
     },
     "metadata": {},
     "output_type": "display_data"
    }
   ],
   "source": [
    "mater <- matrix(c(   c(34,28,36,NA),\n",
    "                     c(36,30,NA,45),\n",
    "                     c(40,NA,48,60),\n",
    "                     c(NA,44,54,59)),\n",
    "                   4,byrow=T)\n",
    "rownames(mater) <- c('A','B','C',\"D\")\n",
    "colnames(mater) <- c('I',\"II\",\"III\",\"IV\")\n",
    "mater"
   ]
  },
  {
   "cell_type": "code",
   "execution_count": 15,
   "metadata": {
    "collapsed": false
   },
   "outputs": [
    {
     "data": {
      "text/html": [
       "<table>\n",
       "<thead><tr><th></th><th scope=col>I</th><th scope=col>II</th><th scope=col>III</th><th scope=col>IV</th></tr></thead>\n",
       "<tbody>\n",
       "\t<tr><th scope=row>A</th><td> 1</td><td> 1</td><td> 1</td><td>NA</td></tr>\n",
       "\t<tr><th scope=row>B</th><td> 2</td><td> 2</td><td>NA</td><td> 1</td></tr>\n",
       "\t<tr><th scope=row>C</th><td> 3</td><td>NA</td><td> 2</td><td> 3</td></tr>\n",
       "\t<tr><th scope=row>D</th><td>NA</td><td> 3</td><td> 3</td><td> 2</td></tr>\n",
       "</tbody>\n",
       "</table>\n"
      ],
      "text/latex": [
       "\\begin{tabular}{r|llll}\n",
       "  & I & II & III & IV\\\\\n",
       "\\hline\n",
       "\tA &  1 &  1 &  1 & NA\\\\\n",
       "\tB &  2 &  2 & NA &  1\\\\\n",
       "\tC &  3 & NA &  2 &  3\\\\\n",
       "\tD & NA &  3 &  3 &  2\\\\\n",
       "\\end{tabular}\n"
      ],
      "text/markdown": [
       "1. 1\n",
       "2. 2\n",
       "3. 3\n",
       "4. NA\n",
       "5. 1\n",
       "6. 2\n",
       "7. NA\n",
       "8. 3\n",
       "9. 1\n",
       "10. NA\n",
       "11. 2\n",
       "12. 3\n",
       "13. NA\n",
       "14. 1\n",
       "15. 3\n",
       "16. 2\n",
       "\n",
       "\n"
      ],
      "text/plain": [
       "  I  II III IV\n",
       "A  1  1  1  NA\n",
       "B  2  2 NA   1\n",
       "C  3 NA  2   3\n",
       "D NA  3  3   2"
      ]
     },
     "metadata": {},
     "output_type": "display_data"
    }
   ],
   "source": [
    "rm <- apply(mater,2,function(arr){rank(arr,na.last='keep')})\n",
    "rm"
   ]
  },
  {
   "cell_type": "code",
   "execution_count": 22,
   "metadata": {
    "collapsed": false
   },
   "outputs": [
    {
     "data": {
      "text/html": [
       "<dl class=dl-horizontal>\n",
       "\t<dt>A</dt>\n",
       "\t\t<dd>3</dd>\n",
       "\t<dt>B</dt>\n",
       "\t\t<dd>5</dd>\n",
       "\t<dt>C</dt>\n",
       "\t\t<dd>8</dd>\n",
       "\t<dt>D</dt>\n",
       "\t\t<dd>8</dd>\n",
       "</dl>\n"
      ],
      "text/latex": [
       "\\begin{description*}\n",
       "\\item[A] 3\n",
       "\\item[B] 5\n",
       "\\item[C] 8\n",
       "\\item[D] 8\n",
       "\\end{description*}\n"
      ],
      "text/markdown": [
       "A\n",
       ":   3B\n",
       ":   5C\n",
       ":   8D\n",
       ":   8\n",
       "\n"
      ],
      "text/plain": [
       "A B C D \n",
       "3 5 8 8 "
      ]
     },
     "metadata": {},
     "output_type": "display_data"
    }
   ],
   "source": [
    "ri <- apply(rm,1,function(arr){sum(arr,na.rm=TRUE)})\n",
    "ri"
   ]
  },
  {
   "cell_type": "code",
   "execution_count": 24,
   "metadata": {
    "collapsed": false
   },
   "outputs": [
    {
     "data": {
      "text/html": [
       "6.75"
      ],
      "text/latex": [
       "6.75"
      ],
      "text/markdown": [
       "6.75"
      ],
      "text/plain": [
       "[1] 6.75"
      ]
     },
     "metadata": {},
     "output_type": "display_data"
    }
   ],
   "source": [
    "k <- 4\n",
    "t <- 3\n",
    "r <- 3\n",
    "l <- 2\n",
    "\n",
    "D <- 12*(k-1)/(r*k*(t^2-1)) * sum((ri - r*(t+1)/2)^2)\n",
    "D"
   ]
  },
  {
   "cell_type": "code",
   "execution_count": 25,
   "metadata": {
    "collapsed": false
   },
   "outputs": [
    {
     "data": {
      "text/html": [
       "0.0803077265550264"
      ],
      "text/latex": [
       "0.0803077265550264"
      ],
      "text/markdown": [
       "0.0803077265550264"
      ],
      "text/plain": [
       "[1] 0.08030773"
      ]
     },
     "metadata": {},
     "output_type": "display_data"
    }
   ],
   "source": [
    "pchisq(D,k-1,low=FALSE)"
   ]
  },
  {
   "cell_type": "code",
   "execution_count": null,
   "metadata": {
    "collapsed": true
   },
   "outputs": [],
   "source": []
  }
 ],
 "metadata": {
  "anaconda-cloud": {},
  "kernelspec": {
   "display_name": "R 3.3",
   "language": "R",
   "name": "ir33"
  },
  "language_info": {
   "codemirror_mode": "r",
   "file_extension": ".r",
   "mimetype": "text/x-r-source",
   "name": "R",
   "pygments_lexer": "r",
   "version": "3.3.1"
  }
 },
 "nbformat": 4,
 "nbformat_minor": 0
}
