{
 "cells": [
  {
   "cell_type": "markdown",
   "metadata": {
    "collapsed": true
   },
   "source": [
    "# 多样本数据模型\n",
    "\n",
    "## Kruskal-Wallis秩和检验\n",
    "\n",
    "如果我们知道单样本方差分析中那个总体方差是多少，其实我们就可以回避F检验里通过比消掉那个方差的麻烦，\n",
    "更不用去证明那个麻烦的两个平方和独立的结论。\n",
    "\n",
    "$$\n",
    "\\frac{1}{\\sigma^2} \\sum_{i=1}^k n_i(\\bar{x}_i - \\bar{x})^2 \\sim \\chi^2(k-1)\n",
    "$$\n",
    "\n",
    "在Cochran 的notebook里的讨论我们还发现了$n_i$的决定性用处，虽然没加也是$k-1$秩。但只有加权之后，\n",
    "我们惊讶的发现$\\frac{\\sqrt{n_i}}{\\sigma}(\\bar{x}_i - \\bar{x})$协方差矩阵直接变成了对称幂等矩阵，这就直接得到了卡方分布。\n",
    "\n",
    "在秩的方法里，我们完全照搬上述思路。构造统计量\n",
    "\n",
    "$$\n",
    "H = \\frac{1}{\\sigma^2}\\sum_{i=1}^k n_i (\\bar{R}_i - \\bar{R})^2 = \n",
    "\\frac{12}{N(N+1)}\\sum_{i=1}^k n_i (\\bar{R}_i - \\bar{R})^2\n",
    "$$\n",
    "\n",
    "但是各个秩$R_j$显然不是独立正态分布的，虽然各个分组秩均值$\\bar{R}_i$单独看应该是渐进正态分布的，但它们应该是不独立的。\n",
    "这就使得讨论变得非常麻烦。我们来试验一下是否秩的取值方式可以让它们渐进独立。\n",
    "\n"
   ]
  },
  {
   "cell_type": "code",
   "execution_count": 40,
   "metadata": {
    "collapsed": false
   },
   "outputs": [],
   "source": [
    "mean.rank <- function(cuts = c(10,20,30,40),size = 1000){ \n",
    "    #cuts <- c(10,20,30,40)\n",
    "    n <- sum(cuts)\n",
    "    #size <- 1000\n",
    "    obsl <- c()\n",
    "    for(i in 1:size){\n",
    "        permu <- sample(1:n)\n",
    "        head <- 1\n",
    "        obs <- c()\n",
    "        for(len in cuts){\n",
    "            obs <- c(obs, mean(permu[head:(head+len-1)]))\n",
    "            head <- head + len \n",
    "        }\n",
    "        obsl <- rbind(obsl, obs)\n",
    "    }\n",
    "    return(obsl)\n",
    "}"
   ]
  },
  {
   "cell_type": "code",
   "execution_count": 41,
   "metadata": {
    "collapsed": false
   },
   "outputs": [
    {
     "data": {
      "text/html": [
       "<table>\n",
       "<tbody>\n",
       "\t<tr><td> 1.0000000</td><td>-0.1600879</td><td>-0.1837223</td><td>-0.2964687</td></tr>\n",
       "\t<tr><td>-0.1600879</td><td> 1.0000000</td><td>-0.2953396</td><td>-0.4272494</td></tr>\n",
       "\t<tr><td>-0.1837223</td><td>-0.2953396</td><td> 1.0000000</td><td>-0.5516162</td></tr>\n",
       "\t<tr><td>-0.2964687</td><td>-0.4272494</td><td>-0.5516162</td><td> 1.0000000</td></tr>\n",
       "</tbody>\n",
       "</table>\n"
      ],
      "text/latex": [
       "\\begin{tabular}{llll}\n",
       "\t  1.0000000 & -0.1600879 & -0.1837223 & -0.2964687\\\\\n",
       "\t -0.1600879 &  1.0000000 & -0.2953396 & -0.4272494\\\\\n",
       "\t -0.1837223 & -0.2953396 &  1.0000000 & -0.5516162\\\\\n",
       "\t -0.2964687 & -0.4272494 & -0.5516162 &  1.0000000\\\\\n",
       "\\end{tabular}\n"
      ],
      "text/markdown": [
       "1. 1\n",
       "2. -0.160087936237113\n",
       "3. -0.183722338466183\n",
       "4. -0.29646868896318\n",
       "5. -0.160087936237113\n",
       "6. 1\n",
       "7. -0.295339589751304\n",
       "8. -0.427249447242408\n",
       "9. -0.183722338466183\n",
       "10. -0.295339589751304\n",
       "11. 1\n",
       "12. -0.551616215707932\n",
       "13. -0.29646868896318\n",
       "14. -0.427249447242408\n",
       "15. -0.551616215707932\n",
       "16. 1\n",
       "\n",
       "\n"
      ],
      "text/plain": [
       "     [,1]       [,2]       [,3]       [,4]      \n",
       "[1,]  1.0000000 -0.1600879 -0.1837223 -0.2964687\n",
       "[2,] -0.1600879  1.0000000 -0.2953396 -0.4272494\n",
       "[3,] -0.1837223 -0.2953396  1.0000000 -0.5516162\n",
       "[4,] -0.2964687 -0.4272494 -0.5516162  1.0000000"
      ]
     },
     "metadata": {},
     "output_type": "display_data"
    }
   ],
   "source": [
    "cor(mean.rank(c(10,20,30,40)))"
   ]
  },
  {
   "cell_type": "code",
   "execution_count": 44,
   "metadata": {
    "collapsed": false
   },
   "outputs": [
    {
     "data": {
      "text/html": [
       "<table>\n",
       "<tbody>\n",
       "\t<tr><td> 1.0000000</td><td>-0.1991246</td><td>-0.2240489</td><td>-0.2247874</td></tr>\n",
       "\t<tr><td>-0.1991246</td><td> 1.0000000</td><td>-0.2946999</td><td>-0.3938685</td></tr>\n",
       "\t<tr><td>-0.2240489</td><td>-0.2946999</td><td> 1.0000000</td><td>-0.5831481</td></tr>\n",
       "\t<tr><td>-0.2247874</td><td>-0.3938685</td><td>-0.5831481</td><td> 1.0000000</td></tr>\n",
       "</tbody>\n",
       "</table>\n"
      ],
      "text/latex": [
       "\\begin{tabular}{llll}\n",
       "\t  1.0000000 & -0.1991246 & -0.2240489 & -0.2247874\\\\\n",
       "\t -0.1991246 &  1.0000000 & -0.2946999 & -0.3938685\\\\\n",
       "\t -0.2240489 & -0.2946999 &  1.0000000 & -0.5831481\\\\\n",
       "\t -0.2247874 & -0.3938685 & -0.5831481 &  1.0000000\\\\\n",
       "\\end{tabular}\n"
      ],
      "text/markdown": [
       "1. 1\n",
       "2. -0.199124556355065\n",
       "3. -0.224048908775868\n",
       "4. -0.224787425786647\n",
       "5. -0.199124556355065\n",
       "6. 1\n",
       "7. -0.294699948817852\n",
       "8. -0.393868474820031\n",
       "9. -0.224048908775868\n",
       "10. -0.294699948817852\n",
       "11. 1\n",
       "12. -0.583148073910558\n",
       "13. -0.224787425786647\n",
       "14. -0.393868474820031\n",
       "15. -0.583148073910558\n",
       "16. 1\n",
       "\n",
       "\n"
      ],
      "text/plain": [
       "     [,1]       [,2]       [,3]       [,4]      \n",
       "[1,]  1.0000000 -0.1991246 -0.2240489 -0.2247874\n",
       "[2,] -0.1991246  1.0000000 -0.2946999 -0.3938685\n",
       "[3,] -0.2240489 -0.2946999  1.0000000 -0.5831481\n",
       "[4,] -0.2247874 -0.3938685 -0.5831481  1.0000000"
      ]
     },
     "metadata": {},
     "output_type": "display_data"
    }
   ],
   "source": [
    "cor(mean.rank(c(10,20,30,40)*10))"
   ]
  },
  {
   "cell_type": "code",
   "execution_count": 45,
   "metadata": {
    "collapsed": false
   },
   "outputs": [
    {
     "data": {
      "text/html": [
       "<table>\n",
       "<tbody>\n",
       "\t<tr><td> 1.0000000</td><td>-0.1523421</td><td>-0.1896773</td><td>-0.3576632</td></tr>\n",
       "\t<tr><td>-0.1523421</td><td> 1.0000000</td><td>-0.3496109</td><td>-0.4133972</td></tr>\n",
       "\t<tr><td>-0.1896773</td><td>-0.3496109</td><td> 1.0000000</td><td>-0.4785979</td></tr>\n",
       "\t<tr><td>-0.3576632</td><td>-0.4133972</td><td>-0.4785979</td><td> 1.0000000</td></tr>\n",
       "</tbody>\n",
       "</table>\n"
      ],
      "text/latex": [
       "\\begin{tabular}{llll}\n",
       "\t  1.0000000 & -0.1523421 & -0.1896773 & -0.3576632\\\\\n",
       "\t -0.1523421 &  1.0000000 & -0.3496109 & -0.4133972\\\\\n",
       "\t -0.1896773 & -0.3496109 &  1.0000000 & -0.4785979\\\\\n",
       "\t -0.3576632 & -0.4133972 & -0.4785979 &  1.0000000\\\\\n",
       "\\end{tabular}\n"
      ],
      "text/markdown": [
       "1. 1\n",
       "2. -0.152342116951272\n",
       "3. -0.189677258562816\n",
       "4. -0.35766316048733\n",
       "5. -0.152342116951272\n",
       "6. 1\n",
       "7. -0.349610949645661\n",
       "8. -0.413397225689573\n",
       "9. -0.189677258562816\n",
       "10. -0.349610949645661\n",
       "11. 1\n",
       "12. -0.478597909142745\n",
       "13. -0.35766316048733\n",
       "14. -0.413397225689573\n",
       "15. -0.478597909142745\n",
       "16. 1\n",
       "\n",
       "\n"
      ],
      "text/plain": [
       "     [,1]       [,2]       [,3]       [,4]      \n",
       "[1,]  1.0000000 -0.1523421 -0.1896773 -0.3576632\n",
       "[2,] -0.1523421  1.0000000 -0.3496109 -0.4133972\n",
       "[3,] -0.1896773 -0.3496109  1.0000000 -0.4785979\n",
       "[4,] -0.3576632 -0.4133972 -0.4785979  1.0000000"
      ]
     },
     "metadata": {},
     "output_type": "display_data"
    }
   ],
   "source": [
    "cor(mean.rank(c(10,20,30,40)*100))"
   ]
  },
  {
   "cell_type": "markdown",
   "metadata": {},
   "source": [
    "可以看出，各分组平均秩和随规模增长并没有渐进独立的趋势，这就导致在这个步骤归约到常规的方差分析那种形式的尝试失败了。\n",
    "为了证明上述统计量的确渐进服从$\\chi^2(k-1)$分布，得借助其他方法。\n",
    "\n",
    "事实上我又没想出来，参照陈希儒的《非参数统计教程》P115和P155的内容，可以作出如下说明。\n",
    "\n",
    "设$n$为总样本规模，$m$为分组数。则对分组$k \\in 1,...,m$而言的线性秩和统计量定义为：\n",
    "\n",
    "$$\n",
    "L_{nk} = \\sum_{i=1}^n c_{ni}^{(k)} a_n(R_i), \\quad k = 1,...,m\n",
    "$$\n",
    "\n",
    "其中$R_i$是第$i$个观测的秩，$a_n$是记分函数。$c_{ni}^{(k)}$是第$k$组给记分$a_n(R_i)$的加权，经常会给本组以外的数赋0，本组赋1，\n",
    "这种情况中使用加权记法是为了简化符号。不然要写成那种恶心的分割$n_k$的记法。\n",
    "\n",
    "符合某些正则条件情况下（大致就是加权和记分不“发散”之类的）。若以下极限都存在\n",
    "\n",
    "$$\n",
    "\\lim_{n \\to \\infty} \n",
    "\\frac{\n",
    "\\sum_{i=1}^n (c_{ni}^{(k)} - \\bar{c}_n^{(k)} )(c_{ni}^{(l)} - \\bar{c}_n^{(l)} )\n",
    "}\n",
    "{\n",
    "\\sqrt{\n",
    "\\sum_{i=1}^n (c_{ni}^{(k)} - \\bar{c}_n^{(k)} )^2  \\sum_{i=1}^n (c_{ni}^{(l)} - \\bar{c}_n^{(l)} )^2 \n",
    "}\n",
    "}\n",
    "= \\lambda_{kl}\n",
    "$$\n",
    "\n",
    "将这些极限做成矩阵$\\Lambda = (\\lambda_{kl})_k$\n",
    "\n",
    "则有，\n",
    "\n",
    "$$\n",
    "\\begin{bmatrix}\n",
    "\\frac{L_{n1} - E(L_{n1})}{\\sigma_{n1}} \\\\\n",
    "... \\\\\n",
    "\\frac{L_{nm} - E(L_{nm})}{\\sigma_{nm}}  \n",
    "\\end{bmatrix}\n",
    "\\to\n",
    "N(0,\\Lambda)\n",
    "$$\n",
    "\n",
    "注意$\\Lambda$并不是对角矩阵，这里做的是保相关的标准化。"
   ]
  },
  {
   "cell_type": "markdown",
   "metadata": {},
   "source": [
    "极限中$c_{mi}^{(k)}$相当于一个三元函数，每个$n$对应一个不同的三元函数。这个极限反映了这个三元函数的某些性质，\n",
    "也就是具体对每个整体样本规模$n$，$m$个分组是怎么划分的（加权的）。\n",
    "\n",
    "如果我们设极限\n",
    "\n",
    "$$\n",
    "\\frac{n_i}{n} \\to p_i  > 0 \\quad i = 1,2,...,m\n",
    "$$\n",
    "\n",
    "则极限分式上半部分可得到\n",
    "\n",
    "$$\n",
    "\\sum_{i=1}^n (c_{ni}^{(k)} - \\bar{c}_n^{(k)} )(c_{ni}^{(l)} - \\bar{c}_n^{(l)} ) = \n",
    "(n-n_l-n_k) p_k p_l + n_k (1 - p_k)(-p_l) + n_l(-p_k)(1 - p_l) = n p_k p_l - n_k p_l - n_l p_k = \n",
    "\\frac{n_k n_l}{n} - \\frac{n_k n_l}{n} - \\frac{n_k n_l}{n} = -\\frac{n_k n_l}{n}\n",
    "$$\n",
    "\n",
    "下半部分可依次得到\n",
    "\n",
    "$$\n",
    "\\sum_{i=1}^n (c_{ni}^{(k)} - \\bar{c}_n^{(k)} )^2 =\n",
    "n_k (1 - p_k)^2 + (n - n_k)p_k^2\n",
    "$$"
   ]
  },
  {
   "cell_type": "markdown",
   "metadata": {},
   "source": [
    "$$\n",
    "n_k - 2 p_k n_k + n p_k^2 = n_k - 2\\frac{n_k^2}{n} + \\frac{n_k^2}{n} = n_k - \\frac{n_k^2}{n} = n_k(1 - p_k)\n",
    "$$\n"
   ]
  },
  {
   "cell_type": "markdown",
   "metadata": {},
   "source": [
    "$$\n",
    "\\sum_{i=1}^n (c_{ni}^{(k)} - \\bar{c}_n^{(k)} )^2  \\sum_{i=1}^n (c_{ni}^{(l)} - \\bar{c}_n^{(l)} )^2  =\n",
    "n_k(1 - p_k) n_l (1 - p_l)\n",
    "$$"
   ]
  },
  {
   "cell_type": "markdown",
   "metadata": {},
   "source": [
    "于是\n",
    "\n",
    "$$\n",
    "\\lambda_{kl} = \n",
    "\\frac{\n",
    "\\sum_{i=1}^n (c_{ni}^{(k)} - \\bar{c}_n^{(k)} )(c_{ni}^{(l)} - \\bar{c}_n^{(l)} )\n",
    "}\n",
    "{\n",
    "\\sqrt{\n",
    "\\sum_{i=1}^n (c_{ni}^{(k)} - \\bar{c}_n^{(k)} )^2  \\sum_{i=1}^n (c_{ni}^{(l)} - \\bar{c}_n^{(l)} )^2 \n",
    "}\n",
    "}\n",
    "=\n",
    "\\frac{\n",
    "-\\frac{n_k n_l}{n}\n",
    "}\n",
    "{\n",
    "\\sqrt{n_k(1 - p_k) n_l (1 - p_l)}\n",
    "}\n",
    "=\n",
    "-\\sqrt{ \\frac{p_k p_l}{(1 - p_k)(1 - p_l)} }\n",
    "\\quad\n",
    "k \\neq l \\\\\n",
    "\\lambda_{kk} = 1\n",
    "$$\n",
    "\n",
    "这样可以定义出$m \\times m$的矩阵$\\Lambda$，然而它不可逆，我们转而只选取它的左上角的$m-1 \\times m-1$子矩阵作为矩阵$\\Lambda$。\n",
    "当然只这么做并不能证明它可逆，我们发现可以通过直接凭空构造一个逆矩阵使其乘积为$m-1$级单位阵来证明这一点。\n",
    "\n",
    "构造\n",
    "$$\n",
    "\\Lambda^{-1} \n",
    "=\n",
    "\\begin{bmatrix}\n",
    "1 - p_1 & 0     & \\cdots & 0 \\\\\n",
    "0     & 1 - p_2 & \\cdots & 0 \\\\\n",
    "\\vdots  & \\vdots  & \\ddots & \\vdots \\\\\n",
    "0     & 0     & \\cdots & 1 - p_{m-1}\n",
    "\\end{bmatrix}\n",
    "+\n",
    "dd^T / p_m\n",
    "$$\n",
    "\n",
    "其中\n",
    "$$\n",
    "d=(\\sqrt{p_1(1-p_1)},...,\\sqrt{p_{m-1}(1-p_{m-1}}))^T\n",
    "$$\n",
    "\n",
    "可以计算证明其的确为$\\Lambda$的逆矩阵。\n",
    "\n",
    "看上去是完全机械的运算，就是不验证了（好吧我开个头后去吃了个饭，再回来就不想算了）。这里有趣的是线性约束是如何起作用的，\n",
    "我们那是协方差矩阵秩与去相关标准化。它这是。。。利用约束中导出的$x_m = a_1 x_1 + ...$式关系直接消掉了$x_m$，\n",
    "然后只用$x_1,...,x_{m-1}$折腾。由于那个关系的存在，想要它出现时候就构造出表达式把它代回来就是。只有$m-1$的表达式去证明\n",
    "它服从$m-1$自由度的卡方分布显然更自然。\n",
    "\n",
    "既然$\\Lambda^{-1}$的确是$\\Lambda$的逆矩阵。我们就可以直接做$(x_1,...,x_{m-1})\\Lambda^{-1}(x_1,...,x_{m-1})^T \\sim \\chi^2(m-1)$。\n",
    "这是具有满秩的协方差矩阵的随机向量的特权。展开二次型$(x_1,...,x_{m-1})\\Lambda^{-1}(x_1,...,x_{m-1})^T $的表达式，我们可以从中\n",
    "代回$x_m$，然后凑成某个看的上眼的统计量形式，然后我们就自然得到该统计量服从$\\chi^2(m-1)$。比如抽象的$T_n$统计量。\n",
    "\n",
    "$$\n",
    "T_n = \\frac{n-1}{D_n} \\sum_{i=1}^m n_i (L_{n_i}/n_i - \\bar{a}_n)^2 \\sim \\chi^2(m-1)\n",
    "$$\n",
    "\n",
    "在取记分函数取恒等映射$a_n(r) = r$，即直接的秩和时，我们得到Kruskal-Wallis统计量与卡方分布的关系。\n",
    "\n",
    "$$\n",
    "H = T_n = \\frac{12}{n(n+1)} \\sum_{i=1}^m n_i (R_i - \\frac{n+1}{2})^2 \\sim \\chi^2(m-1)\n",
    "$$\n",
    "\n",
    "从这个证明中我们得到了一个套路，因为满秩协方差矩阵的随机向量可以自然地服从卡方分布。\n",
    "对于有不满秩（自由度小于变量数）的协方差矩阵的随机向量。我们可以先取其极大线性无关组，自然地论证其与卡方分布后再经过线性组合关系\n",
    "把之前失踪的变量代回来，凑成所有变量都出现的形式。如果所证命题真的正确，就一定凑的出来。\n",
    "\n",
    "虽然没有必要，但也可以得到对称于方差分析的F检验的$F^*$统计量。\n",
    "\n",
    "$$\n",
    "F^* = \\frac{ \\sum_{i=1}^m n_i(\\bar{x}_i - \\bar{x})^2 / (k-1) }\n",
    "{ \\sum_{i=1}^m \\sum_{j=\\sum_{k=1}^{m-1} n_k + 1}^{\\sum_{k=1}^{m} n_k} (x_j - \\bar{x}_i)^2  / (n-k)}\n",
    "\\sim F(n-1,n-k)\n",
    "$$\n",
    "\n",
    "KW统计量的精确分布可以采用置换检验的思想，可以定义为遍历每个排列，每个排列对应一个统计量值与一个相同的概率。再合并起来就得到了精确分布。\n",
    "虽然这么定义比较直观，但复杂度感人。我们也可以在第一组中构成所有可能组合，再在第二组中构成残余元素所有组合。。这样。"
   ]
  },
  {
   "cell_type": "code",
   "execution_count": 1,
   "metadata": {
    "collapsed": false
   },
   "outputs": [
    {
     "data": {
      "text/html": [
       "4782969"
      ],
      "text/latex": [
       "4782969"
      ],
      "text/markdown": [
       "4782969"
      ],
      "text/plain": [
       "[1] 4782969"
      ]
     },
     "metadata": {},
     "output_type": "display_data"
    }
   ],
   "source": [
    "3**14"
   ]
  },
  {
   "cell_type": "code",
   "execution_count": 4,
   "metadata": {
    "collapsed": false
   },
   "outputs": [
    {
     "data": {
      "text/html": [
       "87178291200"
      ],
      "text/latex": [
       "87178291200"
      ],
      "text/markdown": [
       "87178291200"
      ],
      "text/plain": [
       "[1] 87178291200"
      ]
     },
     "metadata": {},
     "output_type": "display_data"
    }
   ],
   "source": [
    "prod(1:14)"
   ]
  },
  {
   "cell_type": "code",
   "execution_count": 5,
   "metadata": {
    "collapsed": false
   },
   "outputs": [
    {
     "data": {
      "text/html": [
       "252252"
      ],
      "text/latex": [
       "252252"
      ],
      "text/markdown": [
       "252252"
      ],
      "text/plain": [
       "[1] 252252"
      ]
     },
     "metadata": {},
     "output_type": "display_data"
    }
   ],
   "source": [
    "prod(10:14)/prod(1:5) * prod(5:9) / prod(1:5) * prod(1:4) /prod(1:4)"
   ]
  },
  {
   "cell_type": "code",
   "execution_count": 209,
   "metadata": {
    "collapsed": false
   },
   "outputs": [],
   "source": [
    "pierce <- function(x, n){\n",
    "    \n",
    "    if(length(x)==n){\n",
    "        return(matrix(x,1,length(x)))\n",
    "    }\n",
    "    if(n == 1){\n",
    "        return(matrix(x,length(x),1))\n",
    "    }\n",
    "        \n",
    "    rm <- NULL\n",
    "    for(i in 1:(length(x)-n+1)){\n",
    "        cbinded <- cbind(x[i],pierce(x[(i+1):length(x)],n-1))\n",
    "        rm <- rbind(rm, cbinded)\n",
    "    }\n",
    "    return(rm)\n",
    "}"
   ]
  },
  {
   "cell_type": "code",
   "execution_count": 216,
   "metadata": {
    "collapsed": false
   },
   "outputs": [
    {
     "data": {
      "text/html": [
       "<table>\n",
       "<tbody>\n",
       "\t<tr><td>1</td><td>2</td><td>3</td></tr>\n",
       "\t<tr><td>1</td><td>2</td><td>4</td></tr>\n",
       "\t<tr><td>1</td><td>3</td><td>4</td></tr>\n",
       "\t<tr><td>2</td><td>3</td><td>4</td></tr>\n",
       "</tbody>\n",
       "</table>\n"
      ],
      "text/latex": [
       "\\begin{tabular}{lll}\n",
       "\t 1 & 2 & 3\\\\\n",
       "\t 1 & 2 & 4\\\\\n",
       "\t 1 & 3 & 4\\\\\n",
       "\t 2 & 3 & 4\\\\\n",
       "\\end{tabular}\n"
      ],
      "text/markdown": [
       "1. 1\n",
       "2. 1\n",
       "3. 1\n",
       "4. 2\n",
       "5. 2\n",
       "6. 2\n",
       "7. 3\n",
       "8. 3\n",
       "9. 3\n",
       "10. 4\n",
       "11. 4\n",
       "12. 4\n",
       "\n",
       "\n"
      ],
      "text/plain": [
       "     [,1] [,2] [,3]\n",
       "[1,] 1    2    3   \n",
       "[2,] 1    2    4   \n",
       "[3,] 1    3    4   \n",
       "[4,] 2    3    4   "
      ]
     },
     "metadata": {},
     "output_type": "display_data"
    }
   ],
   "source": [
    "pierce(c(1,2,3,4),3)"
   ]
  },
  {
   "cell_type": "code",
   "execution_count": 220,
   "metadata": {
    "collapsed": false
   },
   "outputs": [
    {
     "data": {
      "text/html": [
       "<table>\n",
       "<tbody>\n",
       "\t<tr><td>1</td></tr>\n",
       "\t<tr><td>2</td></tr>\n",
       "\t<tr><td>3</td></tr>\n",
       "\t<tr><td>4</td></tr>\n",
       "\t<tr><td>5</td></tr>\n",
       "\t<tr><td>6</td></tr>\n",
       "</tbody>\n",
       "</table>\n"
      ],
      "text/latex": [
       "\\begin{tabular}{l}\n",
       "\t 1\\\\\n",
       "\t 2\\\\\n",
       "\t 3\\\\\n",
       "\t 4\\\\\n",
       "\t 5\\\\\n",
       "\t 6\\\\\n",
       "\\end{tabular}\n"
      ],
      "text/markdown": [
       "1. 1\n",
       "2. 2\n",
       "3. 3\n",
       "4. 4\n",
       "5. 5\n",
       "6. 6\n",
       "\n",
       "\n"
      ],
      "text/plain": [
       "     [,1]\n",
       "[1,] 1   \n",
       "[2,] 2   \n",
       "[3,] 3   \n",
       "[4,] 4   \n",
       "[5,] 5   \n",
       "[6,] 6   "
      ]
     },
     "metadata": {},
     "output_type": "display_data"
    }
   ],
   "source": [
    "pierce(c(1,2,3,4,5,6),1)"
   ]
  },
  {
   "cell_type": "code",
   "execution_count": 197,
   "metadata": {
    "collapsed": false
   },
   "outputs": [],
   "source": [
    "group <- function(x, nk){\n",
    "    if(length(nk)==1){\n",
    "        return(matrix(x,1,length(x)))\n",
    "    }\n",
    "    self.res <- NULL\n",
    "    perm.mat <- pierce(1:length(x),nk[1])\n",
    "    #print(perm.mat)\n",
    "    for(i in 1:nrow(perm.mat)){\n",
    "        #cat('x',x,'nk',nk,'i',i,'select',x[perm.mat[i,]],'res.select',x[-perm.mat[i,]],'\\n')\n",
    "        group.res <- group(x[-perm.mat[i,]],nk[2:length(nk)])\n",
    "        left.matrix <- matrix(rep(x[perm.mat[i,]],nrow(group.res)),nrow(group.res),nk[1],byrow=TRUE)\n",
    "        self.res <- rbind(self.res, cbind(left.matrix,group.res))\n",
    "    }\n",
    "    return(self.res)\n",
    "}"
   ]
  },
  {
   "cell_type": "code",
   "execution_count": 210,
   "metadata": {
    "collapsed": false
   },
   "outputs": [
    {
     "data": {
      "text/html": [
       "<table>\n",
       "<tbody>\n",
       "\t<tr><td>1</td><td>2</td><td>3</td><td>4</td></tr>\n",
       "\t<tr><td>1</td><td>3</td><td>2</td><td>4</td></tr>\n",
       "\t<tr><td>1</td><td>4</td><td>2</td><td>3</td></tr>\n",
       "\t<tr><td>2</td><td>3</td><td>1</td><td>4</td></tr>\n",
       "\t<tr><td>2</td><td>4</td><td>1</td><td>3</td></tr>\n",
       "\t<tr><td>3</td><td>4</td><td>1</td><td>2</td></tr>\n",
       "</tbody>\n",
       "</table>\n"
      ],
      "text/latex": [
       "\\begin{tabular}{llll}\n",
       "\t 1 & 2 & 3 & 4\\\\\n",
       "\t 1 & 3 & 2 & 4\\\\\n",
       "\t 1 & 4 & 2 & 3\\\\\n",
       "\t 2 & 3 & 1 & 4\\\\\n",
       "\t 2 & 4 & 1 & 3\\\\\n",
       "\t 3 & 4 & 1 & 2\\\\\n",
       "\\end{tabular}\n"
      ],
      "text/markdown": [
       "1. 1\n",
       "2. 1\n",
       "3. 1\n",
       "4. 2\n",
       "5. 2\n",
       "6. 3\n",
       "7. 2\n",
       "8. 3\n",
       "9. 4\n",
       "10. 3\n",
       "11. 4\n",
       "12. 4\n",
       "13. 3\n",
       "14. 2\n",
       "15. 2\n",
       "16. 1\n",
       "17. 1\n",
       "18. 1\n",
       "19. 4\n",
       "20. 4\n",
       "21. 3\n",
       "22. 4\n",
       "23. 3\n",
       "24. 2\n",
       "\n",
       "\n"
      ],
      "text/plain": [
       "     [,1] [,2] [,3] [,4]\n",
       "[1,] 1    2    3    4   \n",
       "[2,] 1    3    2    4   \n",
       "[3,] 1    4    2    3   \n",
       "[4,] 2    3    1    4   \n",
       "[5,] 2    4    1    3   \n",
       "[6,] 3    4    1    2   "
      ]
     },
     "metadata": {},
     "output_type": "display_data"
    }
   ],
   "source": [
    "group(c(1,2,3,4),c(2,2))"
   ]
  },
  {
   "cell_type": "code",
   "execution_count": 211,
   "metadata": {
    "collapsed": false
   },
   "outputs": [
    {
     "data": {
      "text/html": [
       "<table>\n",
       "<tbody>\n",
       "\t<tr><td>1</td><td>2</td><td>3</td><td>4</td><td>5</td><td>6</td></tr>\n",
       "\t<tr><td>1</td><td>2</td><td>3</td><td>5</td><td>4</td><td>6</td></tr>\n",
       "\t<tr><td>1</td><td>2</td><td>3</td><td>6</td><td>4</td><td>5</td></tr>\n",
       "\t<tr><td>1</td><td>2</td><td>4</td><td>5</td><td>3</td><td>6</td></tr>\n",
       "\t<tr><td>1</td><td>2</td><td>4</td><td>6</td><td>3</td><td>5</td></tr>\n",
       "\t<tr><td>1</td><td>2</td><td>5</td><td>6</td><td>3</td><td>4</td></tr>\n",
       "</tbody>\n",
       "</table>\n"
      ],
      "text/latex": [
       "\\begin{tabular}{llllll}\n",
       "\t 1 & 2 & 3 & 4 & 5 & 6\\\\\n",
       "\t 1 & 2 & 3 & 5 & 4 & 6\\\\\n",
       "\t 1 & 2 & 3 & 6 & 4 & 5\\\\\n",
       "\t 1 & 2 & 4 & 5 & 3 & 6\\\\\n",
       "\t 1 & 2 & 4 & 6 & 3 & 5\\\\\n",
       "\t 1 & 2 & 5 & 6 & 3 & 4\\\\\n",
       "\\end{tabular}\n"
      ],
      "text/markdown": [
       "1. 1\n",
       "2. 1\n",
       "3. 1\n",
       "4. 1\n",
       "5. 1\n",
       "6. 1\n",
       "7. 2\n",
       "8. 2\n",
       "9. 2\n",
       "10. 2\n",
       "11. 2\n",
       "12. 2\n",
       "13. 3\n",
       "14. 3\n",
       "15. 3\n",
       "16. 4\n",
       "17. 4\n",
       "18. 5\n",
       "19. 4\n",
       "20. 5\n",
       "21. 6\n",
       "22. 5\n",
       "23. 6\n",
       "24. 6\n",
       "25. 5\n",
       "26. 4\n",
       "27. 4\n",
       "28. 3\n",
       "29. 3\n",
       "30. 3\n",
       "31. 6\n",
       "32. 6\n",
       "33. 5\n",
       "34. 6\n",
       "35. 5\n",
       "36. 4\n",
       "\n",
       "\n"
      ],
      "text/plain": [
       "     [,1] [,2] [,3] [,4] [,5] [,6]\n",
       "[1,] 1    2    3    4    5    6   \n",
       "[2,] 1    2    3    5    4    6   \n",
       "[3,] 1    2    3    6    4    5   \n",
       "[4,] 1    2    4    5    3    6   \n",
       "[5,] 1    2    4    6    3    5   \n",
       "[6,] 1    2    5    6    3    4   "
      ]
     },
     "metadata": {},
     "output_type": "display_data"
    }
   ],
   "source": [
    "mat <- group(1:6,c(2,2,2))\n",
    "\n",
    "head(mat)"
   ]
  },
  {
   "cell_type": "code",
   "execution_count": 201,
   "metadata": {
    "collapsed": false
   },
   "outputs": [
    {
     "data": {
      "text/html": [
       "90"
      ],
      "text/latex": [
       "90"
      ],
      "text/markdown": [
       "90"
      ],
      "text/plain": [
       "[1] 90"
      ]
     },
     "metadata": {},
     "output_type": "display_data"
    }
   ],
   "source": [
    "6*5/2 * 4*3/2"
   ]
  },
  {
   "cell_type": "code",
   "execution_count": 214,
   "metadata": {
    "collapsed": false
   },
   "outputs": [
    {
     "data": {
      "text/html": [
       "90"
      ],
      "text/latex": [
       "90"
      ],
      "text/markdown": [
       "90"
      ],
      "text/plain": [
       "[1] 90"
      ]
     },
     "metadata": {},
     "output_type": "display_data"
    }
   ],
   "source": [
    "nrow(mat)"
   ]
  },
  {
   "cell_type": "code",
   "execution_count": 221,
   "metadata": {
    "collapsed": false
   },
   "outputs": [
    {
     "data": {
      "text/html": [
       "<ol class=list-inline>\n",
       "\t<li>10</li>\n",
       "\t<li>20</li>\n",
       "\t<li>30</li>\n",
       "\t<li>40</li>\n",
       "\t<li>50</li>\n",
       "\t<li>60</li>\n",
       "</ol>\n"
      ],
      "text/latex": [
       "\\begin{enumerate*}\n",
       "\\item 10\n",
       "\\item 20\n",
       "\\item 30\n",
       "\\item 40\n",
       "\\item 50\n",
       "\\item 60\n",
       "\\end{enumerate*}\n"
      ],
      "text/markdown": [
       "1. 10\n",
       "2. 20\n",
       "3. 30\n",
       "4. 40\n",
       "5. 50\n",
       "6. 60\n",
       "\n",
       "\n"
      ],
      "text/plain": [
       "[1] 10 20 30 40 50 60"
      ]
     },
     "metadata": {},
     "output_type": "display_data"
    }
   ],
   "source": [
    "seq(10,60,10)"
   ]
  },
  {
   "cell_type": "code",
   "execution_count": 223,
   "metadata": {
    "collapsed": false
   },
   "outputs": [
    {
     "data": {
      "text/html": [
       "<table>\n",
       "<tbody>\n",
       "\t<tr><td>10</td><td>20</td><td>30</td><td>40</td><td>50</td><td>60</td></tr>\n",
       "\t<tr><td>10</td><td>20</td><td>30</td><td>50</td><td>40</td><td>60</td></tr>\n",
       "\t<tr><td>10</td><td>20</td><td>30</td><td>60</td><td>40</td><td>50</td></tr>\n",
       "\t<tr><td>10</td><td>20</td><td>40</td><td>50</td><td>30</td><td>60</td></tr>\n",
       "\t<tr><td>10</td><td>20</td><td>40</td><td>60</td><td>30</td><td>50</td></tr>\n",
       "\t<tr><td>10</td><td>20</td><td>50</td><td>60</td><td>30</td><td>40</td></tr>\n",
       "</tbody>\n",
       "</table>\n"
      ],
      "text/latex": [
       "\\begin{tabular}{llllll}\n",
       "\t 10 & 20 & 30 & 40 & 50 & 60\\\\\n",
       "\t 10 & 20 & 30 & 50 & 40 & 60\\\\\n",
       "\t 10 & 20 & 30 & 60 & 40 & 50\\\\\n",
       "\t 10 & 20 & 40 & 50 & 30 & 60\\\\\n",
       "\t 10 & 20 & 40 & 60 & 30 & 50\\\\\n",
       "\t 10 & 20 & 50 & 60 & 30 & 40\\\\\n",
       "\\end{tabular}\n"
      ],
      "text/markdown": [
       "1. 10\n",
       "2. 10\n",
       "3. 10\n",
       "4. 10\n",
       "5. 10\n",
       "6. 10\n",
       "7. 20\n",
       "8. 20\n",
       "9. 20\n",
       "10. 20\n",
       "11. 20\n",
       "12. 20\n",
       "13. 30\n",
       "14. 30\n",
       "15. 30\n",
       "16. 40\n",
       "17. 40\n",
       "18. 50\n",
       "19. 40\n",
       "20. 50\n",
       "21. 60\n",
       "22. 50\n",
       "23. 60\n",
       "24. 60\n",
       "25. 50\n",
       "26. 40\n",
       "27. 40\n",
       "28. 30\n",
       "29. 30\n",
       "30. 30\n",
       "31. 60\n",
       "32. 60\n",
       "33. 50\n",
       "34. 60\n",
       "35. 50\n",
       "36. 40\n",
       "\n",
       "\n"
      ],
      "text/plain": [
       "     [,1] [,2] [,3] [,4] [,5] [,6]\n",
       "[1,] 10   20   30   40   50   60  \n",
       "[2,] 10   20   30   50   40   60  \n",
       "[3,] 10   20   30   60   40   50  \n",
       "[4,] 10   20   40   50   30   60  \n",
       "[5,] 10   20   40   60   30   50  \n",
       "[6,] 10   20   50   60   30   40  "
      ]
     },
     "metadata": {},
     "output_type": "display_data"
    }
   ],
   "source": [
    "head(group(seq(10,60,10),c(2,2,2)))"
   ]
  },
  {
   "cell_type": "code",
   "execution_count": 224,
   "metadata": {
    "collapsed": true
   },
   "outputs": [],
   "source": [
    "mat2 <- group(1:14,c(5,5,4)) # It cost 10+ second to run. Terriable efficiency ,shamed."
   ]
  },
  {
   "cell_type": "code",
   "execution_count": 225,
   "metadata": {
    "collapsed": false
   },
   "outputs": [
    {
     "data": {
      "text/html": [
       "252252"
      ],
      "text/latex": [
       "252252"
      ],
      "text/markdown": [
       "252252"
      ],
      "text/plain": [
       "[1] 252252"
      ]
     },
     "metadata": {},
     "output_type": "display_data"
    }
   ],
   "source": [
    "nrow(mat2)"
   ]
  },
  {
   "cell_type": "code",
   "execution_count": 309,
   "metadata": {
    "collapsed": false
   },
   "outputs": [],
   "source": [
    "S.H.1 <- function(data,nk){\n",
    "    #n <- sum(nk)\n",
    "    #mean.R <- (n+1)/2\n",
    "    head <- 1\n",
    "    res <- NULL\n",
    "    for(k in nk){\n",
    "        res <- cbind(res, apply(data[,head:(head+k-1)],1,mean))\n",
    "        head <- head + k\n",
    "    }\n",
    "    return(res)\n",
    "}\n",
    "\n",
    "S.H.2 <- function(means,nk){\n",
    "    n <- sum(nk)\n",
    "    mean.R <- (n+1)/2\n",
    "    H <- apply((means - mean.R)**2 %*% diag(nk),1,sum) * (12/(n*(n+1)))\n",
    "    return(H)\n",
    "}\n",
    "\n",
    "S.H <- function(data,nk){\n",
    "    means <- S.H.1(data,nk)\n",
    "    return(S.H.2(means,nk))\n",
    "}"
   ]
  },
  {
   "cell_type": "code",
   "execution_count": 230,
   "metadata": {
    "collapsed": false
   },
   "outputs": [],
   "source": [
    "mat3 <- S.H.1(mat2,c(5,5,4))"
   ]
  },
  {
   "cell_type": "code",
   "execution_count": 234,
   "metadata": {
    "collapsed": false
   },
   "outputs": [
    {
     "data": {
      "text/html": [
       "<ol class=list-inline>\n",
       "\t<li>7.5</li>\n",
       "\t<li>7.5</li>\n",
       "\t<li>7.5</li>\n",
       "</ol>\n"
      ],
      "text/latex": [
       "\\begin{enumerate*}\n",
       "\\item 7.5\n",
       "\\item 7.5\n",
       "\\item 7.5\n",
       "\\end{enumerate*}\n"
      ],
      "text/markdown": [
       "1. 7.5\n",
       "2. 7.5\n",
       "3. 7.5\n",
       "\n",
       "\n"
      ],
      "text/plain": [
       "[1] 7.5 7.5 7.5"
      ]
     },
     "metadata": {},
     "output_type": "display_data"
    }
   ],
   "source": [
    "apply(mat3,2,mean)"
   ]
  },
  {
   "cell_type": "code",
   "execution_count": 235,
   "metadata": {
    "collapsed": false
   },
   "outputs": [
    {
     "data": {
      "text/html": [
       "<ol class=list-inline>\n",
       "\t<li>7.5</li>\n",
       "\t<li>7.5</li>\n",
       "\t<li>7.5</li>\n",
       "</ol>\n"
      ],
      "text/latex": [
       "\\begin{enumerate*}\n",
       "\\item 7.5\n",
       "\\item 7.5\n",
       "\\item 7.5\n",
       "\\end{enumerate*}\n"
      ],
      "text/markdown": [
       "1. 7.5\n",
       "2. 7.5\n",
       "3. 7.5\n",
       "\n",
       "\n"
      ],
      "text/plain": [
       "[1] 7.5 7.5 7.5"
      ]
     },
     "metadata": {},
     "output_type": "display_data"
    }
   ],
   "source": [
    "apply(mat3,2,median)"
   ]
  },
  {
   "cell_type": "code",
   "execution_count": 236,
   "metadata": {
    "collapsed": false
   },
   "outputs": [
    {
     "data": {
      "image/png": "[encoded data removed]",
      "text/plain": [
       "Plot with title \"Histogram of mat3[, 1]\""
      ]
     },
     "metadata": {},
     "output_type": "display_data"
    }
   ],
   "source": [
    "hist(mat3[,1])"
   ]
  },
  {
   "cell_type": "code",
   "execution_count": 237,
   "metadata": {
    "collapsed": false
   },
   "outputs": [
    {
     "data": {
      "text/html": [
       "<table>\n",
       "<tbody>\n",
       "\t<tr><td> 2.250009</td><td>-1.250005</td><td>-1.250005</td></tr>\n",
       "\t<tr><td>-1.250005</td><td> 2.250009</td><td>-1.250005</td></tr>\n",
       "\t<tr><td>-1.250005</td><td>-1.250005</td><td> 3.125012</td></tr>\n",
       "</tbody>\n",
       "</table>\n"
      ],
      "text/latex": [
       "\\begin{tabular}{lll}\n",
       "\t  2.250009 & -1.250005 & -1.250005\\\\\n",
       "\t -1.250005 &  2.250009 & -1.250005\\\\\n",
       "\t -1.250005 & -1.250005 &  3.125012\\\\\n",
       "\\end{tabular}\n"
      ],
      "text/markdown": [
       "1. 2.25000891968714\n",
       "2. -1.25000495538174\n",
       "3. -1.25000495538174\n",
       "4. -1.25000495538174\n",
       "5. 2.25000891968714\n",
       "6. -1.25000495538174\n",
       "7. -1.25000495538174\n",
       "8. -1.25000495538174\n",
       "9. 3.12501238845436\n",
       "\n",
       "\n"
      ],
      "text/plain": [
       "     [,1]      [,2]      [,3]     \n",
       "[1,]  2.250009 -1.250005 -1.250005\n",
       "[2,] -1.250005  2.250009 -1.250005\n",
       "[3,] -1.250005 -1.250005  3.125012"
      ]
     },
     "metadata": {},
     "output_type": "display_data"
    }
   ],
   "source": [
    "cov(mat3)"
   ]
  },
  {
   "cell_type": "code",
   "execution_count": 310,
   "metadata": {
    "collapsed": false
   },
   "outputs": [],
   "source": [
    "mat4 <- S.H.2(mat3,c(5,5,4))"
   ]
  },
  {
   "cell_type": "code",
   "execution_count": 311,
   "metadata": {
    "collapsed": false
   },
   "outputs": [
    {
     "data": {
      "image/png": "[encoded data removed]",
      "text/plain": [
       "Plot with title \"Histogram of mat4\""
      ]
     },
     "metadata": {},
     "output_type": "display_data"
    }
   ],
   "source": [
    "hist(mat4)"
   ]
  },
  {
   "cell_type": "code",
   "execution_count": 318,
   "metadata": {
    "collapsed": false
   },
   "outputs": [
    {
     "data": {
      "image/png": "[encoded data removed]",
      "text/plain": [
       "plot without title"
      ]
     },
     "metadata": {},
     "output_type": "display_data"
    }
   ],
   "source": [
    "x <- seq(0,12,0.1)\n",
    "\n",
    "plot(x,ecdf(mat4)(x),'l')\n",
    "\n",
    "\n",
    "y <- pchisq(x,2)\n",
    "\n",
    "lines(x,y,type=\"l\")"
   ]
  },
  {
   "cell_type": "markdown",
   "metadata": {},
   "source": [
    "可以看出精确分布的确与渐进的卡方分布十分接近。"
   ]
  },
  {
   "cell_type": "code",
   "execution_count": 3,
   "metadata": {
    "collapsed": true
   },
   "outputs": [],
   "source": [
    "wtloss <- c(3.7, 3.7, 3.0, 3.9, 2.7, \n",
    "            7.3, 5.2, 5.3, 5.7, 6.5,\n",
    "            9.0, 4.9, 7.1, 8.7)\n",
    "wtloss.nk <- c(5,5,4)"
   ]
  },
  {
   "cell_type": "code",
   "execution_count": 322,
   "metadata": {
    "collapsed": false
   },
   "outputs": [
    {
     "data": {
      "text/html": [
       "<ol class=list-inline>\n",
       "\t<li>9.41142857142857</li>\n",
       "\t<li>9.41142857142857</li>\n",
       "</ol>\n"
      ],
      "text/latex": [
       "\\begin{enumerate*}\n",
       "\\item 9.41142857142857\n",
       "\\item 9.41142857142857\n",
       "\\end{enumerate*}\n"
      ],
      "text/markdown": [
       "1. 9.41142857142857\n",
       "2. 9.41142857142857\n",
       "\n",
       "\n"
      ],
      "text/plain": [
       "[1] 9.411429 9.411429"
      ]
     },
     "metadata": {},
     "output_type": "display_data"
    }
   ],
   "source": [
    "sh <- S.H(rbind(rank(wtloss),rank(wtloss)),wtloss.nk) # fuck the auto simplify\n",
    "sh"
   ]
  },
  {
   "cell_type": "code",
   "execution_count": 323,
   "metadata": {
    "collapsed": false
   },
   "outputs": [
    {
     "data": {
      "text/html": [
       "9.41142857142857"
      ],
      "text/latex": [
       "9.41142857142857"
      ],
      "text/markdown": [
       "9.41142857142857"
      ],
      "text/plain": [
       "[1] 9.411429"
      ]
     },
     "metadata": {},
     "output_type": "display_data"
    }
   ],
   "source": [
    "H <- sh[1]\n",
    "H"
   ]
  },
  {
   "cell_type": "code",
   "execution_count": 324,
   "metadata": {
    "collapsed": false
   },
   "outputs": [
    {
     "data": {
      "text/html": [
       "0.00904345230156344"
      ],
      "text/latex": [
       "0.00904345230156344"
      ],
      "text/markdown": [
       "0.00904345230156344"
      ],
      "text/plain": [
       "[1] 0.009043452"
      ]
     },
     "metadata": {},
     "output_type": "display_data"
    }
   ],
   "source": [
    "pchisq(H,2,lower.tail=FALSE)"
   ]
  },
  {
   "cell_type": "code",
   "execution_count": 325,
   "metadata": {
    "collapsed": false
   },
   "outputs": [
    {
     "data": {
      "text/html": [
       "0.00115757258614402"
      ],
      "text/latex": [
       "0.00115757258614402"
      ],
      "text/markdown": [
       "0.00115757258614402"
      ],
      "text/plain": [
       "[1] 0.001157573"
      ]
     },
     "metadata": {},
     "output_type": "display_data"
    }
   ],
   "source": [
    "1-ecdf(mat4)(H)"
   ]
  },
  {
   "cell_type": "code",
   "execution_count": 331,
   "metadata": {
    "collapsed": false
   },
   "outputs": [
    {
     "data": {
      "text/plain": [
       "\n",
       "\tKruskal-Wallis rank sum test\n",
       "\n",
       "data:  wtloss and rep(1:length(wtloss.nk), wtloss.nk)\n",
       "Kruskal-Wallis chi-squared = 9.4322, df = 2, p-value = 0.00895\n"
      ]
     },
     "metadata": {},
     "output_type": "display_data"
    }
   ],
   "source": [
    "kruskal.test(wtloss,rep(1:length(wtloss.nk),wtloss.nk))"
   ]
  },
  {
   "cell_type": "code",
   "execution_count": 329,
   "metadata": {
    "collapsed": false
   },
   "outputs": [
    {
     "data": {
      "text/html": [
       "<ol class=list-inline>\n",
       "\t<li>1</li>\n",
       "\t<li>1</li>\n",
       "\t<li>1</li>\n",
       "\t<li>1</li>\n",
       "\t<li>1</li>\n",
       "\t<li>2</li>\n",
       "\t<li>2</li>\n",
       "\t<li>2</li>\n",
       "\t<li>2</li>\n",
       "\t<li>2</li>\n",
       "\t<li>3</li>\n",
       "\t<li>3</li>\n",
       "\t<li>3</li>\n",
       "\t<li>3</li>\n",
       "</ol>\n"
      ],
      "text/latex": [
       "\\begin{enumerate*}\n",
       "\\item 1\n",
       "\\item 1\n",
       "\\item 1\n",
       "\\item 1\n",
       "\\item 1\n",
       "\\item 2\n",
       "\\item 2\n",
       "\\item 2\n",
       "\\item 2\n",
       "\\item 2\n",
       "\\item 3\n",
       "\\item 3\n",
       "\\item 3\n",
       "\\item 3\n",
       "\\end{enumerate*}\n"
      ],
      "text/markdown": [
       "1. 1\n",
       "2. 1\n",
       "3. 1\n",
       "4. 1\n",
       "5. 1\n",
       "6. 2\n",
       "7. 2\n",
       "8. 2\n",
       "9. 2\n",
       "10. 2\n",
       "11. 3\n",
       "12. 3\n",
       "13. 3\n",
       "14. 3\n",
       "\n",
       "\n"
      ],
      "text/plain": [
       " [1] 1 1 1 1 1 2 2 2 2 2 3 3 3 3"
      ]
     },
     "metadata": {},
     "output_type": "display_data"
    }
   ],
   "source": [
    "rep(1:length(wtloss.nk),wtloss.nk)"
   ]
  },
  {
   "cell_type": "code",
   "execution_count": 333,
   "metadata": {
    "collapsed": false
   },
   "outputs": [
    {
     "data": {
      "text/html": [
       "0.00134785849071561"
      ],
      "text/latex": [
       "0.00134785849071561"
      ],
      "text/markdown": [
       "0.00134785849071561"
      ],
      "text/plain": [
       "[1] 0.001347858"
      ]
     },
     "metadata": {},
     "output_type": "display_data"
    }
   ],
   "source": [
    "1-ecdf(mat4)(H-0.01)"
   ]
  },
  {
   "cell_type": "markdown",
   "metadata": {},
   "source": [
    "和书上结果正好差在自变量上0.01?也许是ecdf或书上暗中做了某些处理导致不一致。之前可能也是因为这个，总之大体一致。\n",
    "\n",
    "## 正态记分检验\n",
    "\n",
    "$$\n",
    "T = (n-1) \\frac{\n",
    "\\sum_{i=1}^k (\\frac{1}{n_i}(\\sum_{j=1}^{n_i} \\omega_{ij}^2)  )\n",
    "}\n",
    "{\n",
    "\\sum_{i=1}^k \\sum_{j=1}^{n_i} \\omega_{ij}^2\n",
    "}\n",
    "\\to\n",
    "\\chi^2(k-1)\n",
    "$$\n",
    "\n",
    "其中\n",
    "\n",
    "$$\n",
    "\\omega_{ij} = \\Phi^{-1} (\\frac{r_{ij}}{n+1})\n",
    "$$\n",
    "\n",
    "是为正态记分。"
   ]
  },
  {
   "cell_type": "code",
   "execution_count": 4,
   "metadata": {
    "collapsed": false
   },
   "outputs": [
    {
     "data": {
      "text/html": [
       "<ol class=list-inline>\n",
       "\t<li>-0.727913290881644</li>\n",
       "\t<li>-0.727913290881644</li>\n",
       "\t<li>-1.11077161663679</li>\n",
       "\t<li>-0.430727299295457</li>\n",
       "\t<li>-1.50108594604402</li>\n",
       "\t<li>0.841621233572914</li>\n",
       "\t<li>-0.0836517339071291</li>\n",
       "\t<li>0.0836517339071291</li>\n",
       "\t<li>0.2533471031358</li>\n",
       "\t<li>0.430727299295457</li>\n",
       "\t<li>1.50108594604402</li>\n",
       "\t<li>-0.2533471031358</li>\n",
       "\t<li>0.622925723210088</li>\n",
       "\t<li>1.11077161663679</li>\n",
       "</ol>\n"
      ],
      "text/latex": [
       "\\begin{enumerate*}\n",
       "\\item -0.727913290881644\n",
       "\\item -0.727913290881644\n",
       "\\item -1.11077161663679\n",
       "\\item -0.430727299295457\n",
       "\\item -1.50108594604402\n",
       "\\item 0.841621233572914\n",
       "\\item -0.0836517339071291\n",
       "\\item 0.0836517339071291\n",
       "\\item 0.2533471031358\n",
       "\\item 0.430727299295457\n",
       "\\item 1.50108594604402\n",
       "\\item -0.2533471031358\n",
       "\\item 0.622925723210088\n",
       "\\item 1.11077161663679\n",
       "\\end{enumerate*}\n"
      ],
      "text/markdown": [
       "1. -0.727913290881644\n",
       "2. -0.727913290881644\n",
       "3. -1.11077161663679\n",
       "4. -0.430727299295457\n",
       "5. -1.50108594604402\n",
       "6. 0.841621233572914\n",
       "7. -0.0836517339071291\n",
       "8. 0.0836517339071291\n",
       "9. 0.2533471031358\n",
       "10. 0.430727299295457\n",
       "11. 1.50108594604402\n",
       "12. -0.2533471031358\n",
       "13. 0.622925723210088\n",
       "14. 1.11077161663679\n",
       "\n",
       "\n"
      ],
      "text/plain": [
       " [1] -0.72791329 -0.72791329 -1.11077162 -0.43072730 -1.50108595  0.84162123\n",
       " [7] -0.08365173  0.08365173  0.25334710  0.43072730  1.50108595 -0.25334710\n",
       "[13]  0.62292572  1.11077162"
      ]
     },
     "metadata": {},
     "output_type": "display_data"
    }
   ],
   "source": [
    "normal.score <- function(r){\n",
    "    n <- length(r)\n",
    "    return(qnorm(r/(n+1)))\n",
    "}\n",
    "\n",
    "omega <- normal.score(rank(wtloss))\n",
    "omega"
   ]
  },
  {
   "cell_type": "code",
   "execution_count": 336,
   "metadata": {
    "collapsed": false
   },
   "outputs": [
    {
     "data": {
      "text/html": [
       "<ol class=list-inline>\n",
       "\t<li>3.5</li>\n",
       "\t<li>3.5</li>\n",
       "\t<li>2</li>\n",
       "\t<li>5</li>\n",
       "\t<li>1</li>\n",
       "\t<li>12</li>\n",
       "\t<li>7</li>\n",
       "\t<li>8</li>\n",
       "\t<li>9</li>\n",
       "\t<li>10</li>\n",
       "\t<li>14</li>\n",
       "\t<li>6</li>\n",
       "\t<li>11</li>\n",
       "\t<li>13</li>\n",
       "</ol>\n"
      ],
      "text/latex": [
       "\\begin{enumerate*}\n",
       "\\item 3.5\n",
       "\\item 3.5\n",
       "\\item 2\n",
       "\\item 5\n",
       "\\item 1\n",
       "\\item 12\n",
       "\\item 7\n",
       "\\item 8\n",
       "\\item 9\n",
       "\\item 10\n",
       "\\item 14\n",
       "\\item 6\n",
       "\\item 11\n",
       "\\item 13\n",
       "\\end{enumerate*}\n"
      ],
      "text/markdown": [
       "1. 3.5\n",
       "2. 3.5\n",
       "3. 2\n",
       "4. 5\n",
       "5. 1\n",
       "6. 12\n",
       "7. 7\n",
       "8. 8\n",
       "9. 9\n",
       "10. 10\n",
       "11. 14\n",
       "12. 6\n",
       "13. 11\n",
       "14. 13\n",
       "\n",
       "\n"
      ],
      "text/plain": [
       " [1]  3.5  3.5  2.0  5.0  1.0 12.0  7.0  8.0  9.0 10.0 14.0  6.0 11.0 13.0"
      ]
     },
     "metadata": {},
     "output_type": "display_data"
    }
   ],
   "source": [
    "rank(wtloss)"
   ]
  },
  {
   "cell_type": "markdown",
   "metadata": {},
   "source": [
    "此处书上的处理方式是无视结，随便排了个序赋予秩，似乎不好，这将导致不唯一的结果。"
   ]
  },
  {
   "cell_type": "code",
   "execution_count": 6,
   "metadata": {
    "collapsed": false
   },
   "outputs": [
    {
     "data": {
      "text/html": [
       "<ol class=list-inline>\n",
       "\t<li>1</li>\n",
       "\t<li>1</li>\n",
       "\t<li>1</li>\n",
       "\t<li>1</li>\n",
       "\t<li>1</li>\n",
       "\t<li>2</li>\n",
       "\t<li>2</li>\n",
       "\t<li>2</li>\n",
       "\t<li>2</li>\n",
       "\t<li>2</li>\n",
       "\t<li>3</li>\n",
       "\t<li>3</li>\n",
       "\t<li>3</li>\n",
       "\t<li>3</li>\n",
       "</ol>\n"
      ],
      "text/latex": [
       "\\begin{enumerate*}\n",
       "\\item 1\n",
       "\\item 1\n",
       "\\item 1\n",
       "\\item 1\n",
       "\\item 1\n",
       "\\item 2\n",
       "\\item 2\n",
       "\\item 2\n",
       "\\item 2\n",
       "\\item 2\n",
       "\\item 3\n",
       "\\item 3\n",
       "\\item 3\n",
       "\\item 3\n",
       "\\end{enumerate*}\n"
      ],
      "text/markdown": [
       "1. 1\n",
       "2. 1\n",
       "3. 1\n",
       "4. 1\n",
       "5. 1\n",
       "6. 2\n",
       "7. 2\n",
       "8. 2\n",
       "9. 2\n",
       "10. 2\n",
       "11. 3\n",
       "12. 3\n",
       "13. 3\n",
       "14. 3\n",
       "\n",
       "\n"
      ],
      "text/plain": [
       " [1] 1 1 1 1 1 2 2 2 2 2 3 3 3 3"
      ]
     },
     "metadata": {},
     "output_type": "display_data"
    }
   ],
   "source": [
    "wtloss.group <- rep(1:3,wtloss.nk)\n",
    "wtloss.group"
   ]
  },
  {
   "cell_type": "code",
   "execution_count": 16,
   "metadata": {
    "collapsed": false
   },
   "outputs": [
    {
     "data": {
      "text/html": [
       "<dl class=dl-horizontal>\n",
       "\t<dt>1</dt>\n",
       "\t\t<dd>3.4</dd>\n",
       "\t<dt>2</dt>\n",
       "\t\t<dd>6</dd>\n",
       "\t<dt>3</dt>\n",
       "\t\t<dd>7.425</dd>\n",
       "</dl>\n"
      ],
      "text/plain": [
       "    1     2     3 \n",
       "3.400 6.000 7.425 "
      ]
     },
     "metadata": {},
     "output_type": "display_data"
    }
   ],
   "source": [
    "tapply(wtloss,wtloss.group,mean)"
   ]
  },
  {
   "cell_type": "code",
   "execution_count": 26,
   "metadata": {
    "collapsed": false
   },
   "outputs": [],
   "source": [
    "n <- sum(wtloss.nk)"
   ]
  },
  {
   "cell_type": "code",
   "execution_count": 29,
   "metadata": {
    "collapsed": false
   },
   "outputs": [
    {
     "data": {
      "text/html": [
       "9.07894742088813"
      ],
      "text/latex": [
       "9.07894742088813"
      ],
      "text/markdown": [
       "9.07894742088813"
      ],
      "text/plain": [
       "[1] 9.078947"
      ]
     },
     "metadata": {},
     "output_type": "display_data"
    }
   ],
   "source": [
    "T <- (n-1) * sum(tapply(omega,wtloss.group,sum)**2 * (1/wtloss.nk)) / (sum(omega**2))\n",
    "T"
   ]
  },
  {
   "cell_type": "code",
   "execution_count": 30,
   "metadata": {
    "collapsed": false
   },
   "outputs": [
    {
     "data": {
      "text/html": [
       "0.0106790253343414"
      ],
      "text/latex": [
       "0.0106790253343414"
      ],
      "text/markdown": [
       "0.0106790253343414"
      ],
      "text/plain": [
       "[1] 0.01067903"
      ]
     },
     "metadata": {},
     "output_type": "display_data"
    }
   ],
   "source": [
    "pchisq(T,2,lower.tail=FALSE)"
   ]
  },
  {
   "cell_type": "markdown",
   "metadata": {},
   "source": [
    "## Jonckheere-Terpstra检验\n",
    "\n",
    "比较其Kruskal-Wallis检验，Jonckheere-Terpstra检验把备择假设空间约束到了一个单调递增的方向。\n",
    "\n",
    "$$\n",
    "\\begin{align}\n",
    "H_0 &: \\theta_1 = \\cdots = \\theta_k \\\\\n",
    "H_1 &: \\theta_1 \\le \\cdots \\le \\theta_k \\quad \\text{(There exist a $\\lt$ in sequence)}\n",
    "\\end{align}\n",
    "$$\n",
    "\n",
    "撤销部分备择假设空间后，可以把那部分参数成立下检验统计量集中而留下那部分不集中的区域划给接受域，把更接近留下部分转给接受区域。\n",
    "这种变化就带来剩下的备择假设空间上的功效函数值上升，至少不会下降，因为如果所有改变都带来下降，至少可以根本不改变。\n",
    "\n",
    "当然这是即使检验统计量和以前一样就能得到的结果，事实上，一般来说我们可以选择更优的检验统计量。为此设\n",
    "\n",
    "$$\n",
    "U_{ij} = \\#(X_{ik} < X_{jl} ,\\; k = 1,\\ldots,n_i,\\, l=1,\\ldots ,n_j),\n",
    "$$\n",
    "\n",
    "为样本$i$与样本$j$的笛卡尔积中，满足左边小于右边关系的对数。\n",
    "\n",
    "Jonckheere-Terpstra统计量就是把所有满足$i<j$的样本对对应的$U_{ij}$相加。或者可以看成$U$矩阵所有对角线右上的元素相加。\n",
    "\n",
    "$$\n",
    "J = \\sum_{i<j} U_{ij}\n",
    "$$\n",
    "\n",
    "其原假设成立下的分布显然也可以用类似上面Kruskal-Wallis的方法导出精确分布，也容易看出更加麻烦了。大样本下可以得到正态近似\n",
    "\n",
    "$$\n",
    "E(J) = (N^2 - \\sum_{i=1}^k n_i^2)/4 \\\\\n",
    "Var(J) = N^2(2N+3) - \\sum_{i=1}^k n_i^2 (2n_i + 3)/72 \\\\\n",
    "Z = \\frac{J - E(Z)}{\\sqrt{Var(J)}} \\to N(0,1)\n",
    "$$\n",
    "\n",
    "在原假设成立下也应该有对角线是$n_k(n_k-1)/2$，对角线上两边元素倾向于分布均衡，如果备择假设空间包含小于或大于，\n",
    "我们要考虑某侧对角线上的元素小或大。要是包含一些其他的非单调情况，则会出现那种情况和原假设的统计量分布无法分辨的情况。\n",
    "那种情况虽然定性上看与单调情况不应该有什么区别，但在那些参数点却有着很低的功效，而且这种点非常多。\n",
    "这时我们发现根本不应该用Jonckheere-Terpstra统计量，因为换用其他能分辨出那些参数的统计量可以取得更高的功效。\n",
    "虽然在单调的参数上可能略降一些，但如果我们真是想设定那种备择假设，\n",
    "就应该弃用Jonckheere-Terpstra统计量而改用Kruskal-Wallis统计量之类的。正如如果真的把备择假设设为单调的，\n",
    "就应该舍弃Kruskal-Wallis统计量选用Jonckheere-Terpstra统计量来达到严格更优的功效。\n",
    "\n",
    "使用JT统计量的一个特点是，因为有很多与原假设几乎完全混淆却又完全不一样的非单调参数赋值，所以从那些（大量）的情况中为真时，\n",
    "我们都在以比如95%错误率作出决定。比如说，把$U$矩阵分成四份，我们发现右上的右和上部分一个很大，另一个很小，但加和后就貌似符合原假设了。"
   ]
  },
  {
   "cell_type": "code",
   "execution_count": 31,
   "metadata": {
    "collapsed": false
   },
   "outputs": [
    {
     "data": {
      "text/html": [
       "<ol class=list-inline>\n",
       "\t<li>3.7</li>\n",
       "\t<li>3.7</li>\n",
       "\t<li>3</li>\n",
       "\t<li>3.9</li>\n",
       "\t<li>2.7</li>\n",
       "\t<li>7.3</li>\n",
       "\t<li>5.2</li>\n",
       "\t<li>5.3</li>\n",
       "\t<li>5.7</li>\n",
       "\t<li>6.5</li>\n",
       "\t<li>9</li>\n",
       "\t<li>4.9</li>\n",
       "\t<li>7.1</li>\n",
       "\t<li>8.7</li>\n",
       "</ol>\n"
      ],
      "text/latex": [
       "\\begin{enumerate*}\n",
       "\\item 3.7\n",
       "\\item 3.7\n",
       "\\item 3\n",
       "\\item 3.9\n",
       "\\item 2.7\n",
       "\\item 7.3\n",
       "\\item 5.2\n",
       "\\item 5.3\n",
       "\\item 5.7\n",
       "\\item 6.5\n",
       "\\item 9\n",
       "\\item 4.9\n",
       "\\item 7.1\n",
       "\\item 8.7\n",
       "\\end{enumerate*}\n"
      ],
      "text/markdown": [
       "1. 3.7\n",
       "2. 3.7\n",
       "3. 3\n",
       "4. 3.9\n",
       "5. 2.7\n",
       "6. 7.3\n",
       "7. 5.2\n",
       "8. 5.3\n",
       "9. 5.7\n",
       "10. 6.5\n",
       "11. 9\n",
       "12. 4.9\n",
       "13. 7.1\n",
       "14. 8.7\n",
       "\n",
       "\n"
      ],
      "text/plain": [
       " [1] 3.7 3.7 3.0 3.9 2.7 7.3 5.2 5.3 5.7 6.5 9.0 4.9 7.1 8.7"
      ]
     },
     "metadata": {},
     "output_type": "display_data"
    }
   ],
   "source": [
    "wtloss"
   ]
  },
  {
   "cell_type": "code",
   "execution_count": 32,
   "metadata": {
    "collapsed": false
   },
   "outputs": [
    {
     "data": {
      "text/plain": [
       "wtloss\n",
       "2.7   3 3.7 3.9 4.9 5.2 5.3 5.7 6.5 7.1 7.3 8.7   9 \n",
       "  1   1   2   1   1   1   1   1   1   1   1   1   1 "
      ]
     },
     "metadata": {},
     "output_type": "display_data"
    }
   ],
   "source": [
    "table(wtloss)"
   ]
  },
  {
   "cell_type": "code",
   "execution_count": 109,
   "metadata": {
    "collapsed": true
   },
   "outputs": [],
   "source": [
    "fission <- function(dat, index){\n",
    "    # c(1,2,3,4,5,6),c(1,1,1,2,2,3) -> list(c(1,2,3), c(4,5), c(6))\n",
    "    dic <- list()\n",
    "    for(i in 1:length(dat)){\n",
    "        if(is.null(dic[index[i]][[1]])){\n",
    "            dic[[index[i]]] <- dat[i]\n",
    "        }\n",
    "        else{\n",
    "            dic[[index[i]]] <- c(dic[[index[i]]],dat[i])\n",
    "        }\n",
    "    }\n",
    "    return(dic)\n",
    "}\n",
    "\n",
    "U.mat <- function(pop.list){\n",
    "    # list(c(1,2,3), c(4,5), c(6)) -> [3,6,3; 0,1,2; 0,0,0]\n",
    "    k <- length(pop.list)\n",
    "    mat <- matrix(nrow = 3, ncol = 3)\n",
    "    for(i in 1:k){\n",
    "        for(j in 1:k){\n",
    "            mat[i,j] <- sum(outer(pop.list[[i]],pop.list[[j]],'-') < 0)\n",
    "        }\n",
    "    }\n",
    "    return(mat)\n",
    "}\n",
    "\n",
    "J.stat <- function(H){\n",
    "    # [3,6,3; 0,1,2; 0,0,0] -> 6+3+2=11\n",
    "    r <- 0\n",
    "    k <- ncol(H)\n",
    "    for(i in 1:(k-1)){\n",
    "        for(j in (i+1):k){\n",
    "            r <- r + H[i,j]\n",
    "        }\n",
    "    }\n",
    "    return(r)\n",
    "}\n",
    "\n",
    "Z.score <- function(J,nk){\n",
    "    N <- sum(nk)\n",
    "    EJ <- (N^2 - sum(nk^2))/4\n",
    "    VarJ <- (N^2 * (2 * N + 3) - sum(nk^2 * (2 * nk + 3)))/72\n",
    "    Z <- (J - EJ)/sqrt(VarJ)\n",
    "    return(Z)\n",
    "}"
   ]
  },
  {
   "cell_type": "code",
   "execution_count": 78,
   "metadata": {
    "collapsed": false
   },
   "outputs": [
    {
     "data": {
      "text/html": [
       "<ol>\n",
       "\t<li><ol class=list-inline>\n",
       "\t<li>3.7</li>\n",
       "\t<li>3.7</li>\n",
       "\t<li>3</li>\n",
       "\t<li>3.9</li>\n",
       "\t<li>2.7</li>\n",
       "</ol>\n",
       "</li>\n",
       "\t<li><ol class=list-inline>\n",
       "\t<li>7.3</li>\n",
       "\t<li>5.2</li>\n",
       "\t<li>5.3</li>\n",
       "\t<li>5.7</li>\n",
       "\t<li>6.5</li>\n",
       "</ol>\n",
       "</li>\n",
       "\t<li><ol class=list-inline>\n",
       "\t<li>9</li>\n",
       "\t<li>4.9</li>\n",
       "\t<li>7.1</li>\n",
       "\t<li>8.7</li>\n",
       "</ol>\n",
       "</li>\n",
       "</ol>\n"
      ],
      "text/latex": [
       "\\begin{enumerate}\n",
       "\\item \\begin{enumerate*}\n",
       "\\item 3.7\n",
       "\\item 3.7\n",
       "\\item 3\n",
       "\\item 3.9\n",
       "\\item 2.7\n",
       "\\end{enumerate*}\n",
       "\n",
       "\\item \\begin{enumerate*}\n",
       "\\item 7.3\n",
       "\\item 5.2\n",
       "\\item 5.3\n",
       "\\item 5.7\n",
       "\\item 6.5\n",
       "\\end{enumerate*}\n",
       "\n",
       "\\item \\begin{enumerate*}\n",
       "\\item 9\n",
       "\\item 4.9\n",
       "\\item 7.1\n",
       "\\item 8.7\n",
       "\\end{enumerate*}\n",
       "\n",
       "\\end{enumerate}\n"
      ],
      "text/markdown": [
       "1. 1. 3.7\n",
       "2. 3.7\n",
       "3. 3\n",
       "4. 3.9\n",
       "5. 2.7\n",
       "\n",
       "\n",
       "\n",
       "2. 1. 7.3\n",
       "2. 5.2\n",
       "3. 5.3\n",
       "4. 5.7\n",
       "5. 6.5\n",
       "\n",
       "\n",
       "\n",
       "3. 1. 9\n",
       "2. 4.9\n",
       "3. 7.1\n",
       "4. 8.7\n",
       "\n",
       "\n",
       "\n",
       "\n",
       "\n"
      ],
      "text/plain": [
       "[[1]]\n",
       "[1] 3.7 3.7 3.0 3.9 2.7\n",
       "\n",
       "[[2]]\n",
       "[1] 7.3 5.2 5.3 5.7 6.5\n",
       "\n",
       "[[3]]\n",
       "[1] 9.0 4.9 7.1 8.7\n"
      ]
     },
     "metadata": {},
     "output_type": "display_data"
    }
   ],
   "source": [
    "dic <- fission(wtloss,rep(c(1,2,3),wtloss.nk))\n",
    "dic"
   ]
  },
  {
   "cell_type": "code",
   "execution_count": 80,
   "metadata": {
    "collapsed": false
   },
   "outputs": [
    {
     "data": {
      "text/html": [
       "25"
      ],
      "text/latex": [
       "25"
      ],
      "text/markdown": [
       "25"
      ],
      "text/plain": [
       "[1] 25"
      ]
     },
     "metadata": {},
     "output_type": "display_data"
    }
   ],
   "source": [
    "sum(outer(dic[[1]],dic[[2]],'-') < 0)"
   ]
  },
  {
   "cell_type": "code",
   "execution_count": 86,
   "metadata": {
    "collapsed": false
   },
   "outputs": [
    {
     "data": {
      "text/html": [
       "<table>\n",
       "<tbody>\n",
       "\t<tr><td>9 </td><td>25</td><td>20</td></tr>\n",
       "\t<tr><td>0 </td><td>10</td><td>14</td></tr>\n",
       "\t<tr><td>0 </td><td> 6</td><td> 6</td></tr>\n",
       "</tbody>\n",
       "</table>\n"
      ],
      "text/latex": [
       "\\begin{tabular}{lll}\n",
       "\t 9  & 25 & 20\\\\\n",
       "\t 0  & 10 & 14\\\\\n",
       "\t 0  &  6 &  6\\\\\n",
       "\\end{tabular}\n"
      ],
      "text/markdown": [
       "1. 9\n",
       "2. 0\n",
       "3. 0\n",
       "4. 25\n",
       "5. 10\n",
       "6. 6\n",
       "7. 20\n",
       "8. 14\n",
       "9. 6\n",
       "\n",
       "\n"
      ],
      "text/plain": [
       "     [,1] [,2] [,3]\n",
       "[1,] 9    25   20  \n",
       "[2,] 0    10   14  \n",
       "[3,] 0     6    6  "
      ]
     },
     "metadata": {},
     "output_type": "display_data"
    }
   ],
   "source": [
    "U.mat(dic)"
   ]
  },
  {
   "cell_type": "markdown",
   "metadata": {},
   "source": [
    "这里$U_{11}=9$而不是$10$是因为第一个样本存在打结。"
   ]
  },
  {
   "cell_type": "code",
   "execution_count": 108,
   "metadata": {
    "collapsed": false
   },
   "outputs": [
    {
     "data": {
      "text/html": [
       "59"
      ],
      "text/latex": [
       "59"
      ],
      "text/markdown": [
       "59"
      ],
      "text/plain": [
       "[1] 59"
      ]
     },
     "metadata": {},
     "output_type": "display_data"
    }
   ],
   "source": [
    "J <- J.stat(U.mat(dic))\n",
    "J"
   ]
  },
  {
   "cell_type": "code",
   "execution_count": 113,
   "metadata": {
    "collapsed": false
   },
   "outputs": [
    {
     "data": {
      "text/html": [
       "3.10336223197634"
      ],
      "text/latex": [
       "3.10336223197634"
      ],
      "text/markdown": [
       "3.10336223197634"
      ],
      "text/plain": [
       "[1] 3.103362"
      ]
     },
     "metadata": {},
     "output_type": "display_data"
    }
   ],
   "source": [
    "Z <- Z.score(J,wtloss.nk)\n",
    "Z"
   ]
  },
  {
   "cell_type": "code",
   "execution_count": 114,
   "metadata": {
    "collapsed": false
   },
   "outputs": [
    {
     "data": {
      "text/html": [
       "0.000956676473550018"
      ],
      "text/latex": [
       "0.000956676473550018"
      ],
      "text/markdown": [
       "0.000956676473550018"
      ],
      "text/plain": [
       "[1] 0.0009566765"
      ]
     },
     "metadata": {},
     "output_type": "display_data"
    }
   ],
   "source": [
    "pnorm(Z,lower.tail=FALSE)"
   ]
  },
  {
   "cell_type": "markdown",
   "metadata": {},
   "source": [
    "功效比前面的检验不知道高到哪里去了，当然，这是备择假设空间缩减的效果，\n",
    "试想我们把备择假设空间退缩到到什么$\\theta_1 = \\ldots = \\theta_{k-1} = 0,\\theta_{k} = 1000000$这样的单点集上。自然很容易就可以拒绝。\n",
    "而且我们发现一个问题，此时拒绝了原假设，也并不代表备择假设就多真了，说不定还是原假设更接近真实情况一些\n",
    "（最大似然的情况现在既不在原假设空间也不在备择假设空间）。当然，原假设和备择假设空间一般是出于外生的目的而决定的，\n",
    "假设检验干的事就是选择检验统计量和划分检验统计量拒绝域来使得满足给定显著性水平基础上使得势函数在备择假设空间上的值最大化。\n",
    "不过这里显著性水平一般却是一个灵活的概念，因为假设检验的统计量和划分方法对于各个$\\alpha$给出的原则是一致的，增大减小只不过是\n",
    "拒绝域的一些单调大小变化而已。反倒经常是知道p值（如果p值有恰当定义）后再去选显著性水平。\n",
    "\n",
    "在$k=3$时，备择假设空间充满了$R^3$除了原假设占据的直线外的所有点。收缩到$\\theta_1 < \\theta_2 < \\theta_3$后，\n",
    "就成了$R^3$空间3个平面划分8块中的一块。我们可以先考察新的备择假设空间上各个假设成立时对应统计量的分布\n",
    "(对非参数而言可能要指定背后分布，不过直观上也可以随便举一个，因为一般对所有背后分布我们感兴趣的定性性质都一致)，\n",
    "这也可以通过数字特征如期望来看，这时和看势函数有类似之处。观察到备择假设空间上相对原假设空间上统计量（主要是集中趋势）的不同之处后，\n",
    "我们再划分拒绝域，整出势函数。\n",
    "\n",
    "## 区组设计回顾\n",
    "\n",
    "将因素分为处理(treatment)和区组(block)是应用的需要。并没有什么理由禁止我们倒换两因素的“处理”和“区组”的地位。\n",
    "说到底，我们相当于在做一个关于模型中部分参数的假设检验，假设对参数约束的不完全性使得我们失去了以往的全部同分布的便利性。\n",
    "在无重复因素双因素方差分析中，原假设相当于假设各个“区组”因素对应的总体是不一样的，\n",
    "区组里本来经过不同处理的观测被看做同分布（每个“区组”一个分布）的。显然，如果区组和处理都有“影响”，\n",
    "则每个格的分布一般都是不同的。这里的部分假设相当于废掉了部分变异性。\n",
    "\n",
    "于是在此原假设成立下，对每个处理的在所有区组的观测的平均也是同分布的，这个平均是在几个出自不同的总体的随机变量间平均，\n",
    "和平时那个的平均不一样。但因为所有处理的这个平均所平均的那几个总体都是对应一样的且数量一致（这种情况都是1个），\n",
    "所以处理的平均就是同分布的，相应的，区组的对应平均就是普通的平均，且各均值间本来就应该不集中，因为没有假设约束它们位置一致。\n",
    "\n",
    "当然这是原假设的确成立的情况，假如处理还是有影响，则各从处理计算的均值就会产生明显的偏离，这可以以处理均值与总均值\n",
    "（原假设成立时总均值可以看成是同分布的处理均值的均值，或对其期望更准确地估计）的差的平方和表示。偏离比较大时，\n",
    "该平方和的集中位置也会比较大。\n",
    "\n",
    "在正态假设下，那种单观测双因素表那样的小样本也可以由正态分布的性质得到各个处理均值服从正态分布，\n",
    "从而可以标准化做成$\\chi^2$统计量，如果不知道方差再进一步做成$F$统计量。如果表很大的话，均值会处理会渐进正态分布，\n",
    "此时各分组什么形状就不重要了，但方差应该一样（因为标准化无论如何都会用到方差或协方差），\n",
    "如果不一样还要处理就应该事先调整尺度把它们变成一样的。这就是无交互效应的双因素方差分析。\n",
    "\n",
    "每个格单观测容易推导到多观测情况（但各格观测数还得是相同的），显然处理方式没什么差别。另一个扩展方式是可以缺一些格的方式，\n",
    "用这个方法好像不好理解，可能看成回归更好。而在多因素下，被我们假设为没有效应的那个因素的“轴”上的元素看成是其他因素笛卡尔积的样本，\n",
    "样本内看做是同一分布的，样本间看成是一般不同分布的，可照搬前面思路构造统计量。对处理因素的各个多因素区组的各个观测取平均之类的。\n",
    "而且这么看的话各格的观测数好像也不一定需要是相同的，这样看处理均值到底是什么样子的。\n",
    "另外其他因素笛卡尔积没有利用方差分析给定的线性假设的简化，这一简化在双因素时没有体现出来。这一简化在允许使用的分布上产生了一些约束，\n",
    "上面提到的搞法有点非参数的感觉。\n",
    "\n",
    "不完全区组设计貌似可以试图放处理的平均值，然后规约为之前的问题。\n",
    "\n",
    "不完全区组设计的BIBD（Balanced Incomplete Block Design）以$BIBD(k,b,r,t,\\lambda)$编码一个设计。\n",
    "其中$k$为试验矩阵的行数,$b$为试验矩阵的列数。$r_i$为$i$行的和，若都相同就记为$r$，$t_j$为$j$列和，若都相同则记为$t$。\n",
    "$\\lambda_{ij}$是第$i,j$行同时为1的次数，或者说两行构成的向量内积的和。\n",
    "\n",
    "BIBD试验矩阵的一个例子如\n",
    "\n",
    "$$\n",
    "\\begin{bmatrix}\n",
    "0 & 1 & 1 & 1 \\\\\n",
    "1 & 0 & 1 & 1 \\\\\n",
    "1 & 1 & 0 & 1 \\\\\n",
    "1 & 1 & 1 & 0\n",
    "\\end{bmatrix}\n",
    "$$\n",
    "\n",
    "其中各行看成各个处理，各列看成各个区组。上面是$BIBD(4,4,3,3,2)$的一个实例。令其为$M$，$M_{12}=1$表示第一个处理在第二区组中进行一次试验。\n",
    "其余类推。\n",
    "\n",
    "## Friedman 秩和检验\n",
    "\n",
    "$$\n",
    "Q = \\frac{12}{bk(k+1)}\\sum_{i=1}^k (R_i - \\frac{b(k+1)}{2})^2\n",
    "$$\n",
    "\n",
    "其中$R_i=\\sum_{j=1}^b R_{ij}$，而$R_{ij}$为格$ij$上的观测在区组$.j$上的秩。也就是分组的不同位置性被内部计算秩给控制成了相对标准化的秩。\n",
    "\n",
    "显然，以处理计算的秩和$R_i$结合了本处理在各个分组上对位置影响的信息。如果像原假设假设的那样没有影响的话，则按分组区分总体，\n",
    "可以看成分组内出自同一个分布，这个时候若按分组求平均，则情况看上去类似Kruskal-Wallis统计量在它的原假设成立下的情况，\n",
    "然而却并不是，KW统计量的格的秩是把所有样本混合的结果，而Friedman秩和的格的秩是区组内部计算的，显然区组算出的秩的位置要比\n",
    "KW统计量的小，这一点被$\\bar{R}$比$\\frac{b(k+1)}{2}$大所调整过来。\n",
    "然而我们实际是按处理求秩和，为什么不按分组求平均秩呢？\n",
    "\n",
    "看起来其实秩和才是本体，前面那是因为各个分组的样本数不一样，为了标准化才求的平均，再重加权。\n",
    "当然这里如果真写成均值再重加权也会得到一样的结果，只不过它的权都是一样的就连平均的那个分母一起提出来放到最外面当系数了，就是那个$b$。\n",
    "\n",
    "注意各区间独立，组内同分布，导出的组内的格上的秩统计量在组内并不是独立的，（某列第一格取1秩了，该列其他格就不能取1秩）。\n",
    "各组间的秩统计量依然独立，但是却并不能得到按行看与按列看是同分布的结论，显然一行可以取秩为$1,1,\\ldots,1$而按列看却不能。\n",
    "但是根据对称性，按行看的确是同分布的，但不独立，于是按处理计的秩和或平均秩也是同分布但不独立的。\n",
    "当然Kruskal-Wallis统计量在各分组的平均秩之间也是这种同分布但不独立的情况，\n",
    "但我们依然可以通过一些复杂的论证发现这些相关可以在近似正态和卡方分布上可以与独立得到相同的结果，\n",
    "虽然它们本身并不独立，就像KW统计量上发生的一样，它们只是计算格秩和秩和，平均秩的方式有些区别，带来它们做的标准化略有区别，\n",
    "但最后结果都是一样的。\n",
    "\n",
    "$$\n",
    "Q \\to \\chi^2_{k-1}\n",
    "$$"
   ]
  },
  {
   "cell_type": "code",
   "execution_count": 1,
   "metadata": {
    "collapsed": false
   },
   "outputs": [
    {
     "data": {
      "text/html": [
       "<pre class=language-r><code>function (x = character(), levels, labels = levels, exclude = NA, \n",
       "<span style=white-space:pre-wrap>    ordered = is.ordered(x), nmax = NA) </span>\n",
       "{\n",
       "<span style=white-space:pre-wrap>    if (is.null(x)) </span>\n",
       "<span style=white-space:pre-wrap>        x &lt;- character()</span>\n",
       "<span style=white-space:pre-wrap>    nx &lt;- names(x)</span>\n",
       "<span style=white-space:pre-wrap>    if (missing(levels)) {</span>\n",
       "<span style=white-space:pre-wrap>        y &lt;- unique(x, nmax = nmax)</span>\n",
       "<span style=white-space:pre-wrap>        ind &lt;- sort.list(y)</span>\n",
       "<span style=white-space:pre-wrap>        y &lt;- as.character(y)</span>\n",
       "<span style=white-space:pre-wrap>        levels &lt;- unique(y[ind])</span>\n",
       "<span style=white-space:pre-wrap>    }</span>\n",
       "<span style=white-space:pre-wrap>    force(ordered)</span>\n",
       "<span style=white-space:pre-wrap>    exclude &lt;- as.vector(exclude, typeof(x))</span>\n",
       "<span style=white-space:pre-wrap>    x &lt;- as.character(x)</span>\n",
       "<span style=white-space:pre-wrap>    levels &lt;- levels[is.na(match(levels, exclude))]</span>\n",
       "<span style=white-space:pre-wrap>    f &lt;- match(x, levels)</span>\n",
       "<span style=white-space:pre-wrap>    if (!is.null(nx)) </span>\n",
       "<span style=white-space:pre-wrap>        names(f) &lt;- nx</span>\n",
       "<span style=white-space:pre-wrap>    nl &lt;- length(labels)</span>\n",
       "<span style=white-space:pre-wrap>    nL &lt;- length(levels)</span>\n",
       "<span style=white-space:pre-wrap>    if (!any(nl == c(1L, nL))) </span>\n",
       "<span style=white-space:pre-wrap>        stop(gettextf(\"invalid 'labels'; length %d should be 1 or %d\", </span>\n",
       "<span style=white-space:pre-wrap>            nl, nL), domain = NA)</span>\n",
       "<span style=white-space:pre-wrap>    levels(f) &lt;- if (nl == nL) </span>\n",
       "<span style=white-space:pre-wrap>        as.character(labels)</span>\n",
       "<span style=white-space:pre-wrap>    else paste0(labels, seq_along(levels))</span>\n",
       "<span style=white-space:pre-wrap>    class(f) &lt;- c(if (ordered) \"ordered\", \"factor\")</span>\n",
       "<span style=white-space:pre-wrap>    f</span>\n",
       "}</code></pre>"
      ],
      "text/latex": [
       "\\begin{minted}{r}\n",
       "function (x = character(), levels, labels = levels, exclude = NA, \n",
       "    ordered = is.ordered(x), nmax = NA) \n",
       "\\{\n",
       "    if (is.null(x)) \n",
       "        x <- character()\n",
       "    nx <- names(x)\n",
       "    if (missing(levels)) \\{\n",
       "        y <- unique(x, nmax = nmax)\n",
       "        ind <- sort.list(y)\n",
       "        y <- as.character(y)\n",
       "        levels <- unique(y{[}ind{]})\n",
       "    \\}\n",
       "    force(ordered)\n",
       "    exclude <- as.vector(exclude, typeof(x))\n",
       "    x <- as.character(x)\n",
       "    levels <- levels{[}is.na(match(levels, exclude)){]}\n",
       "    f <- match(x, levels)\n",
       "    if (!is.null(nx)) \n",
       "        names(f) <- nx\n",
       "    nl <- length(labels)\n",
       "    nL <- length(levels)\n",
       "    if (!any(nl == c(1L, nL))) \n",
       "        stop(gettextf(\"invalid 'labels'; length \\%d should be 1 or \\%d\", \n",
       "            nl, nL), domain = NA)\n",
       "    levels(f) <- if (nl == nL) \n",
       "        as.character(labels)\n",
       "    else paste0(labels, seq\\_along(levels))\n",
       "    class(f) <- c(if (ordered) \"ordered\", \"factor\")\n",
       "    f\n",
       "\\}\n",
       "\\end{minted}"
      ],
      "text/markdown": [
       "```r\n",
       "function (x = character(), levels, labels = levels, exclude = NA, \n",
       "    ordered = is.ordered(x), nmax = NA) \n",
       "{\n",
       "    if (is.null(x)) \n",
       "        x <- character()\n",
       "    nx <- names(x)\n",
       "    if (missing(levels)) {\n",
       "        y <- unique(x, nmax = nmax)\n",
       "        ind <- sort.list(y)\n",
       "        y <- as.character(y)\n",
       "        levels <- unique(y[ind])\n",
       "    }\n",
       "    force(ordered)\n",
       "    exclude <- as.vector(exclude, typeof(x))\n",
       "    x <- as.character(x)\n",
       "    levels <- levels[is.na(match(levels, exclude))]\n",
       "    f <- match(x, levels)\n",
       "    if (!is.null(nx)) \n",
       "        names(f) <- nx\n",
       "    nl <- length(labels)\n",
       "    nL <- length(levels)\n",
       "    if (!any(nl == c(1L, nL))) \n",
       "        stop(gettextf(\"invalid 'labels'; length %d should be 1 or %d\", \n",
       "            nl, nL), domain = NA)\n",
       "    levels(f) <- if (nl == nL) \n",
       "        as.character(labels)\n",
       "    else paste0(labels, seq_along(levels))\n",
       "    class(f) <- c(if (ordered) \"ordered\", \"factor\")\n",
       "    f\n",
       "}\n",
       "```"
      ],
      "text/plain": [
       "function (x = character(), levels, labels = levels, exclude = NA, \n",
       "    ordered = is.ordered(x), nmax = NA) \n",
       "{\n",
       "    if (is.null(x)) \n",
       "        x <- character()\n",
       "    nx <- names(x)\n",
       "    if (missing(levels)) {\n",
       "        y <- unique(x, nmax = nmax)\n",
       "        ind <- sort.list(y)\n",
       "        y <- as.character(y)\n",
       "        levels <- unique(y[ind])\n",
       "    }\n",
       "    force(ordered)\n",
       "    exclude <- as.vector(exclude, typeof(x))\n",
       "    x <- as.character(x)\n",
       "    levels <- levels[is.na(match(levels, exclude))]\n",
       "    f <- match(x, levels)\n",
       "    if (!is.null(nx)) \n",
       "        names(f) <- nx\n",
       "    nl <- length(labels)\n",
       "    nL <- length(levels)\n",
       "    if (!any(nl == c(1L, nL))) \n",
       "        stop(gettextf(\"invalid 'labels'; length %d should be 1 or %d\", \n",
       "            nl, nL), domain = NA)\n",
       "    levels(f) <- if (nl == nL) \n",
       "        as.character(labels)\n",
       "    else paste0(labels, seq_along(levels))\n",
       "    class(f) <- c(if (ordered) \"ordered\", \"factor\")\n",
       "    f\n",
       "}\n",
       "<bytecode: 0x000000001a4bd798>\n",
       "<environment: namespace:base>"
      ]
     },
     "metadata": {},
     "output_type": "display_data"
    }
   ],
   "source": [
    "data.frame(treatment = c('A','A','A','A','B','B','B','B','C','C','C','C'),\n",
    "           block = c)"
   ]
  },
  {
   "cell_type": "code",
   "execution_count": null,
   "metadata": {
    "collapsed": true
   },
   "outputs": [],
   "source": []
  }
 ],
 "metadata": {
  "kernelspec": {
   "display_name": "R 3.3",
   "language": "R",
   "name": "ir33"
  },
  "language_info": {
   "codemirror_mode": "r",
   "file_extension": ".r",
   "mimetype": "text/x-r-source",
   "name": "R",
   "pygments_lexer": "r",
   "version": "3.3.1"
  }
 },
 "nbformat": 4,
 "nbformat_minor": 0
}
