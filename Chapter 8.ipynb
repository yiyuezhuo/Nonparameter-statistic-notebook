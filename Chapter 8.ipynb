{
 "cells": [
  {
   "cell_type": "markdown",
   "metadata": {},
   "source": [
    "# 列联表\n"
   ]
  },
  {
   "cell_type": "code",
   "execution_count": 1,
   "metadata": {
    "collapsed": true
   },
   "outputs": [],
   "source": [
    "wid <- matrix(c(10,7,6,12,8,13),3)\n",
    "shop <- matrix(c(83, 91, 41, 70, 86, 38, 45, 15, 10),3)"
   ]
  },
  {
   "cell_type": "markdown",
   "metadata": {},
   "source": [
    "## 齐性问题\n",
    "\n",
    "对于几种处理方式，它们都产生值域相同的离散结果。也就是说，它们是相同support的离散随机变量，一次抽样分别指定其内部抽样规模为$n_1,\\dots,n_m$。\n",
    "则可以一次抽样结果可以展现为一列联表。如"
   ]
  },
  {
   "cell_type": "code",
   "execution_count": 4,
   "metadata": {
    "collapsed": false
   },
   "outputs": [
    {
     "data": {
      "text/html": [
       "<table>\n",
       "<tbody>\n",
       "\t<tr><td>83</td><td>70</td><td>45</td></tr>\n",
       "\t<tr><td>91</td><td>86</td><td>15</td></tr>\n",
       "\t<tr><td>41</td><td>38</td><td>10</td></tr>\n",
       "</tbody>\n",
       "</table>\n"
      ],
      "text/latex": [
       "\\begin{tabular}{lll}\n",
       "\t 83 & 70 & 45\\\\\n",
       "\t 91 & 86 & 15\\\\\n",
       "\t 41 & 38 & 10\\\\\n",
       "\\end{tabular}\n"
      ],
      "text/markdown": [
       "1. 83\n",
       "2. 91\n",
       "3. 41\n",
       "4. 70\n",
       "5. 86\n",
       "6. 38\n",
       "7. 45\n",
       "8. 15\n",
       "9. 10\n",
       "\n",
       "\n"
      ],
      "text/plain": [
       "     [,1] [,2] [,3]\n",
       "[1,] 83   70   45  \n",
       "[2,] 91   86   15  \n",
       "[3,] 41   38   10  "
      ]
     },
     "metadata": {},
     "output_type": "display_data"
    }
   ],
   "source": [
    "shop"
   ]
  },
  {
   "cell_type": "code",
   "execution_count": 5,
   "metadata": {
    "collapsed": false
   },
   "outputs": [
    {
     "data": {
      "text/html": [
       "<ol class=list-inline>\n",
       "\t<li>198</li>\n",
       "\t<li>192</li>\n",
       "\t<li>89</li>\n",
       "</ol>\n"
      ],
      "text/latex": [
       "\\begin{enumerate*}\n",
       "\\item 198\n",
       "\\item 192\n",
       "\\item 89\n",
       "\\end{enumerate*}\n"
      ],
      "text/markdown": [
       "1. 198\n",
       "2. 192\n",
       "3. 89\n",
       "\n",
       "\n"
      ],
      "text/plain": [
       "[1] 198 192  89"
      ]
     },
     "metadata": {},
     "output_type": "display_data"
    }
   ],
   "source": [
    "apply(shop,1,sum)"
   ]
  },
  {
   "cell_type": "markdown",
   "metadata": {},
   "source": [
    "这里可以是一次三个处理分别投入子规模为$198,192,89$的抽样结果。\n",
    "\n",
    "我们对于检验几个处理是否同分布很感兴趣，这就是齐性问题。\n",
    "\n",
    "既然实际上是检验几个样本是否同分布问题，我们当然可以试图利用KS检验，Pearson拟合优度检验之类的分布拟合优度检验。\n",
    "然而我们发现并没有可以直接用的多样本的同分布检验，不像位置和尺度有这种检验。直接分别做多次两两比较显然会导致显著性水平不可控制地上升。\n",
    "而且说白了我也只知道KS检验可以检验两样本是否同分布，然而这货要求连续，也根本不适用这里的情况。\n",
    "\n",
    "我们也可以试图凭空构造一些统计量，比如先求出各个内部的观测频率，再加权得到总平均频率，算各个格对其的对应平方和。拒绝域可以划到比较大值的情况，\n",
    "显然它满足power在原假设低在备择假设上低的性质。然而这么凭空扯淡当然无法得出该统计量的分布，更不知道这个分布是不是和参数组合相关的。\n",
    "如果相关的话，我们就不能直接检验它们相等的假设，而必须检验相等于一个特定值的假设，这显然太虚弱了。\n",
    "\n",
    "不妨真的试一下看看，下面构造子样本规模分别为$198,192,89$，概率为几个特定值的总体，模拟其统计量分布。"
   ]
  },
  {
   "cell_type": "code",
   "execution_count": 6,
   "metadata": {
    "collapsed": true
   },
   "outputs": [],
   "source": [
    "size <- c(198,192,89)\n",
    "p <- c(0.2,0.3,0.5)\n"
   ]
  },
  {
   "cell_type": "code",
   "execution_count": 9,
   "metadata": {
    "collapsed": false
   },
   "outputs": [
    {
     "data": {
      "text/html": [
       "<table>\n",
       "<tbody>\n",
       "\t<tr><td> 34</td><td> 36</td><td> 45</td><td>45 </td><td>27 </td><td> 28</td><td> 41</td><td> 36</td><td> 32</td><td> 33</td></tr>\n",
       "\t<tr><td> 59</td><td> 60</td><td> 53</td><td>69 </td><td>77 </td><td> 63</td><td> 56</td><td> 62</td><td> 61</td><td> 60</td></tr>\n",
       "\t<tr><td>105</td><td>102</td><td>100</td><td>84 </td><td>94 </td><td>107</td><td>101</td><td>100</td><td>105</td><td>105</td></tr>\n",
       "</tbody>\n",
       "</table>\n"
      ],
      "text/latex": [
       "\\begin{tabular}{llllllllll}\n",
       "\t  34 &  36 &  45 & 45  & 27  &  28 &  41 &  36 &  32 &  33\\\\\n",
       "\t  59 &  60 &  53 & 69  & 77  &  63 &  56 &  62 &  61 &  60\\\\\n",
       "\t 105 & 102 & 100 & 84  & 94  & 107 & 101 & 100 & 105 & 105\\\\\n",
       "\\end{tabular}\n"
      ],
      "text/markdown": [
       "1. 34\n",
       "2. 59\n",
       "3. 105\n",
       "4. 36\n",
       "5. 60\n",
       "6. 102\n",
       "7. 45\n",
       "8. 53\n",
       "9. 100\n",
       "10. 45\n",
       "11. 69\n",
       "12. 84\n",
       "13. 27\n",
       "14. 77\n",
       "15. 94\n",
       "16. 28\n",
       "17. 63\n",
       "18. 107\n",
       "19. 41\n",
       "20. 56\n",
       "21. 101\n",
       "22. 36\n",
       "23. 62\n",
       "24. 100\n",
       "25. 32\n",
       "26. 61\n",
       "27. 105\n",
       "28. 33\n",
       "29. 60\n",
       "30. 105\n",
       "\n",
       "\n"
      ],
      "text/plain": [
       "     [,1] [,2] [,3] [,4] [,5] [,6] [,7] [,8] [,9] [,10]\n",
       "[1,]  34   36   45  45   27    28   41   36   32   33  \n",
       "[2,]  59   60   53  69   77    63   56   62   61   60  \n",
       "[3,] 105  102  100  84   94   107  101  100  105  105  "
      ]
     },
     "metadata": {},
     "output_type": "display_data"
    }
   ],
   "source": [
    "rmultinom(10, 198, p)"
   ]
  },
  {
   "cell_type": "code",
   "execution_count": 14,
   "metadata": {
    "collapsed": true
   },
   "outputs": [],
   "source": [
    "rtable <- function(size, p){\n",
    "    m <- length(size)\n",
    "    n <- length(p)\n",
    "    mat <- matrix(rep(NA,m * n), m)\n",
    "    for(i in 1:m){\n",
    "        mat[i,] <- t(rmultinom(1, size[i], p))\n",
    "    }\n",
    "    return(mat)\n",
    "}"
   ]
  },
  {
   "cell_type": "code",
   "execution_count": 28,
   "metadata": {
    "collapsed": false
   },
   "outputs": [],
   "source": [
    "rough.stat <- function(mat){\n",
    "    freq <- mat / apply(mat,1,sum)\n",
    "    prob <- apply(mat,2,sum)/sum(mat)\n",
    "    sum(sweep(freq,2,prob)^2)\n",
    "}"
   ]
  },
  {
   "cell_type": "code",
   "execution_count": 34,
   "metadata": {
    "collapsed": false
   },
   "outputs": [
    {
     "data": {
      "text/html": [
       "0.00215639154650518"
      ],
      "text/latex": [
       "0.00215639154650518"
      ],
      "text/markdown": [
       "0.00215639154650518"
      ],
      "text/plain": [
       "[1] 0.002156392"
      ]
     },
     "metadata": {},
     "output_type": "display_data"
    }
   ],
   "source": [
    "rough.stat(rtable(size,p))"
   ]
  },
  {
   "cell_type": "code",
   "execution_count": 36,
   "metadata": {
    "collapsed": false
   },
   "outputs": [
    {
     "data": {
      "text/html": [
       "<table>\n",
       "<tbody>\n",
       "\t<tr><td>164</td><td> 19</td><td>15 </td></tr>\n",
       "\t<tr><td> 24</td><td>152</td><td>16 </td></tr>\n",
       "\t<tr><td> 11</td><td>  5</td><td>73 </td></tr>\n",
       "</tbody>\n",
       "</table>\n"
      ],
      "text/latex": [
       "\\begin{tabular}{lll}\n",
       "\t 164 &  19 & 15 \\\\\n",
       "\t  24 & 152 & 16 \\\\\n",
       "\t  11 &   5 & 73 \\\\\n",
       "\\end{tabular}\n"
      ],
      "text/markdown": [
       "1. 164\n",
       "2. 24\n",
       "3. 11\n",
       "4. 19\n",
       "5. 152\n",
       "6. 5\n",
       "7. 15\n",
       "8. 16\n",
       "9. 73\n",
       "\n",
       "\n"
      ],
      "text/plain": [
       "     [,1] [,2] [,3]\n",
       "[1,] 164   19  15  \n",
       "[2,]  24  152  16  \n",
       "[3,]  11    5  73  "
      ]
     },
     "metadata": {},
     "output_type": "display_data"
    }
   ],
   "source": [
    "t1 <-  rtable(size,c(0.8,0.1,0.1))\n",
    "t2 <-  rtable(size,c(0.1,0.8,0.1))\n",
    "t3 <-  rtable(size,c(0.1,0.1,0.8))\n",
    "\n",
    "tt <- rbind(t1[1,],t2[2,],t3[3,])\n",
    "tt"
   ]
  },
  {
   "cell_type": "code",
   "execution_count": 58,
   "metadata": {
    "collapsed": false
   },
   "outputs": [],
   "source": [
    "s <- replicate(1000, rough.stat(rtable(size,p)))"
   ]
  },
  {
   "cell_type": "code",
   "execution_count": 55,
   "metadata": {
    "collapsed": false
   },
   "outputs": [
    {
     "data": {
      "image/png": "[encoded data removed]",
      "text/plain": [
       "Plot with title \"ecdf(s)\""
      ]
     },
     "metadata": {},
     "output_type": "display_data"
    }
   ],
   "source": [
    "plot(ecdf(s))"
   ]
  },
  {
   "cell_type": "code",
   "execution_count": 41,
   "metadata": {
    "collapsed": true
   },
   "outputs": [],
   "source": [
    "p2 <- c(0.5, 0.2, 0.3)\n",
    "\n",
    "s2 <- replicate(1000, rough.stat(rtable(size,p2)))"
   ]
  },
  {
   "cell_type": "code",
   "execution_count": 43,
   "metadata": {
    "collapsed": false
   },
   "outputs": [
    {
     "data": {
      "image/png": "[encoded data removed]",
      "text/plain": [
       "Plot with title \"ecdf(s2)\""
      ]
     },
     "metadata": {},
     "output_type": "display_data"
    }
   ],
   "source": [
    "plot(ecdf(s2))"
   ]
  },
  {
   "cell_type": "code",
   "execution_count": 45,
   "metadata": {
    "collapsed": false
   },
   "outputs": [
    {
     "data": {
      "text/plain": [
       "\n",
       "\tTwo-sample Kolmogorov-Smirnov test\n",
       "\n",
       "data:  s and s2\n",
       "D = 0.038, p-value = 0.4658\n",
       "alternative hypothesis: two-sided\n"
      ]
     },
     "metadata": {},
     "output_type": "display_data"
    }
   ],
   "source": [
    "ks.test(s,s2)"
   ]
  },
  {
   "cell_type": "markdown",
   "metadata": {},
   "source": [
    "看上去貌似还真有可能是同分布的。看看不满足时的功效"
   ]
  },
  {
   "cell_type": "code",
   "execution_count": 81,
   "metadata": {
    "collapsed": false
   },
   "outputs": [
    {
     "data": {
      "text/html": [
       "0.0248735030430666"
      ],
      "text/latex": [
       "0.0248735030430666"
      ],
      "text/markdown": [
       "0.0248735030430666"
      ],
      "text/plain": [
       "[1] 0.0248735"
      ]
     },
     "metadata": {},
     "output_type": "display_data"
    }
   ],
   "source": [
    "alpha <- 0.05\n",
    "ecdf.s <- ecdf(s)\n",
    "ss <- sort(s)\n",
    "idx <- which(ecdf.s(ss) > 1-alpha)[1]\n",
    "border <- ss[idx]\n",
    "border"
   ]
  },
  {
   "cell_type": "code",
   "execution_count": 82,
   "metadata": {
    "collapsed": false
   },
   "outputs": [
    {
     "data": {
      "text/html": [
       "0.951"
      ],
      "text/latex": [
       "0.951"
      ],
      "text/markdown": [
       "0.951"
      ],
      "text/plain": [
       "[1] 0.951"
      ]
     },
     "metadata": {},
     "output_type": "display_data"
    }
   ],
   "source": [
    "ecdf.s(border)"
   ]
  },
  {
   "cell_type": "code",
   "execution_count": 83,
   "metadata": {
    "collapsed": true
   },
   "outputs": [],
   "source": [
    "rtable.chaos <- function(size, pp){\n",
    "    m <- length(size)\n",
    "    n <- length(p)\n",
    "    mat <- matrix(rep(NA,m * n), m)\n",
    "    for(i in 1:m){\n",
    "        mat[i,] <- t(rmultinom(1, size[i], pp[i,]))\n",
    "    }\n",
    "    return(mat)\n",
    "}"
   ]
  },
  {
   "cell_type": "code",
   "execution_count": 85,
   "metadata": {
    "collapsed": false
   },
   "outputs": [
    {
     "data": {
      "text/html": [
       "<table>\n",
       "<tbody>\n",
       "\t<tr><td>0.8</td><td>0.1</td><td>0.1</td></tr>\n",
       "\t<tr><td>0.1</td><td>0.8</td><td>0.1</td></tr>\n",
       "\t<tr><td>0.1</td><td>0.1</td><td>0.8</td></tr>\n",
       "</tbody>\n",
       "</table>\n"
      ],
      "text/latex": [
       "\\begin{tabular}{lll}\n",
       "\t 0.8 & 0.1 & 0.1\\\\\n",
       "\t 0.1 & 0.8 & 0.1\\\\\n",
       "\t 0.1 & 0.1 & 0.8\\\\\n",
       "\\end{tabular}\n"
      ],
      "text/markdown": [
       "1. 0.8\n",
       "2. 0.1\n",
       "3. 0.1\n",
       "4. 0.1\n",
       "5. 0.8\n",
       "6. 0.1\n",
       "7. 0.1\n",
       "8. 0.1\n",
       "9. 0.8\n",
       "\n",
       "\n"
      ],
      "text/plain": [
       "     [,1] [,2] [,3]\n",
       "[1,] 0.8  0.1  0.1 \n",
       "[2,] 0.1  0.8  0.1 \n",
       "[3,] 0.1  0.1  0.8 "
      ]
     },
     "metadata": {},
     "output_type": "display_data"
    }
   ],
   "source": [
    "pp <- matrix(c(c(0.8,0.1,0.1),c(0.1,0.8,0.1),c(0.1,0.1,0.8)),3)\n",
    "\n",
    "pp"
   ]
  },
  {
   "cell_type": "code",
   "execution_count": 87,
   "metadata": {
    "collapsed": false
   },
   "outputs": [
    {
     "data": {
      "text/html": [
       "<table>\n",
       "<tbody>\n",
       "\t<tr><td>164</td><td> 17</td><td>17 </td></tr>\n",
       "\t<tr><td> 25</td><td>151</td><td>16 </td></tr>\n",
       "\t<tr><td> 10</td><td> 12</td><td>67 </td></tr>\n",
       "</tbody>\n",
       "</table>\n"
      ],
      "text/latex": [
       "\\begin{tabular}{lll}\n",
       "\t 164 &  17 & 17 \\\\\n",
       "\t  25 & 151 & 16 \\\\\n",
       "\t  10 &  12 & 67 \\\\\n",
       "\\end{tabular}\n"
      ],
      "text/markdown": [
       "1. 164\n",
       "2. 25\n",
       "3. 10\n",
       "4. 17\n",
       "5. 151\n",
       "6. 12\n",
       "7. 17\n",
       "8. 16\n",
       "9. 67\n",
       "\n",
       "\n"
      ],
      "text/plain": [
       "     [,1] [,2] [,3]\n",
       "[1,] 164   17  17  \n",
       "[2,]  25  151  16  \n",
       "[3,]  10   12  67  "
      ]
     },
     "metadata": {},
     "output_type": "display_data"
    }
   ],
   "source": [
    "rtable.chaos(size, pp)"
   ]
  },
  {
   "cell_type": "code",
   "execution_count": 88,
   "metadata": {
    "collapsed": true
   },
   "outputs": [],
   "source": [
    "s3 <- replicate(1000, rough.stat(rtable.chaos(size, pp)))"
   ]
  },
  {
   "cell_type": "code",
   "execution_count": 89,
   "metadata": {
    "collapsed": false
   },
   "outputs": [
    {
     "data": {
      "image/png": "[encoded data removed]",
      "text/plain": [
       "Plot with title \"ecdf(s3)\""
      ]
     },
     "metadata": {},
     "output_type": "display_data"
    }
   ],
   "source": [
    "plot(ecdf(s3))"
   ]
  },
  {
   "cell_type": "markdown",
   "metadata": {},
   "source": [
    "看上去是1的功效，很好。如果区别不是那么大呢。"
   ]
  },
  {
   "cell_type": "code",
   "execution_count": 90,
   "metadata": {
    "collapsed": false
   },
   "outputs": [
    {
     "data": {
      "text/html": [
       "<table>\n",
       "<tbody>\n",
       "\t<tr><td>0.4</td><td>0.3</td><td>0.2</td></tr>\n",
       "\t<tr><td>0.3</td><td>0.4</td><td>0.3</td></tr>\n",
       "\t<tr><td>0.2</td><td>0.2</td><td>0.4</td></tr>\n",
       "</tbody>\n",
       "</table>\n"
      ],
      "text/latex": [
       "\\begin{tabular}{lll}\n",
       "\t 0.4 & 0.3 & 0.2\\\\\n",
       "\t 0.3 & 0.4 & 0.3\\\\\n",
       "\t 0.2 & 0.2 & 0.4\\\\\n",
       "\\end{tabular}\n"
      ],
      "text/markdown": [
       "1. 0.4\n",
       "2. 0.3\n",
       "3. 0.2\n",
       "4. 0.3\n",
       "5. 0.4\n",
       "6. 0.2\n",
       "7. 0.2\n",
       "8. 0.3\n",
       "9. 0.4\n",
       "\n",
       "\n"
      ],
      "text/plain": [
       "     [,1] [,2] [,3]\n",
       "[1,] 0.4  0.3  0.2 \n",
       "[2,] 0.3  0.4  0.3 \n",
       "[3,] 0.2  0.2  0.4 "
      ]
     },
     "metadata": {},
     "output_type": "display_data"
    }
   ],
   "source": [
    "pp <- matrix(c(c(0.4,0.3,0.2),c(0.3,0.4,0.2),c(0.2,0.3,0.4)),3)\n",
    "\n",
    "pp"
   ]
  },
  {
   "cell_type": "code",
   "execution_count": 91,
   "metadata": {
    "collapsed": true
   },
   "outputs": [],
   "source": [
    "s3 <- replicate(1000, rough.stat(rtable.chaos(size, pp)))"
   ]
  },
  {
   "cell_type": "code",
   "execution_count": 92,
   "metadata": {
    "collapsed": false
   },
   "outputs": [
    {
     "data": {
      "image/png": "[encoded data removed]",
      "text/plain": [
       "Plot with title \"ecdf(s3)\""
      ]
     },
     "metadata": {},
     "output_type": "display_data"
    }
   ],
   "source": [
    "plot(ecdf(s3))"
   ]
  },
  {
   "cell_type": "code",
   "execution_count": 93,
   "metadata": {
    "collapsed": false
   },
   "outputs": [
    {
     "data": {
      "text/html": [
       "0.994"
      ],
      "text/latex": [
       "0.994"
      ],
      "text/markdown": [
       "0.994"
      ],
      "text/plain": [
       "[1] 0.994"
      ]
     },
     "metadata": {},
     "output_type": "display_data"
    }
   ],
   "source": [
    "mean(s3 > border)"
   ]
  },
  {
   "cell_type": "markdown",
   "metadata": {},
   "source": [
    "0.994的功效。"
   ]
  },
  {
   "cell_type": "code",
   "execution_count": 94,
   "metadata": {
    "collapsed": false
   },
   "outputs": [
    {
     "data": {
      "text/html": [
       "<table>\n",
       "<tbody>\n",
       "\t<tr><td>0.35</td><td>0.30</td><td>0.35</td></tr>\n",
       "\t<tr><td>0.30</td><td>0.35</td><td>0.35</td></tr>\n",
       "\t<tr><td>0.35</td><td>0.35</td><td>0.30</td></tr>\n",
       "</tbody>\n",
       "</table>\n"
      ],
      "text/latex": [
       "\\begin{tabular}{lll}\n",
       "\t 0.35 & 0.30 & 0.35\\\\\n",
       "\t 0.30 & 0.35 & 0.35\\\\\n",
       "\t 0.35 & 0.35 & 0.30\\\\\n",
       "\\end{tabular}\n"
      ],
      "text/markdown": [
       "1. 0.35\n",
       "2. 0.3\n",
       "3. 0.35\n",
       "4. 0.3\n",
       "5. 0.35\n",
       "6. 0.35\n",
       "7. 0.35\n",
       "8. 0.35\n",
       "9. 0.3\n",
       "\n",
       "\n"
      ],
      "text/plain": [
       "     [,1] [,2] [,3]\n",
       "[1,] 0.35 0.30 0.35\n",
       "[2,] 0.30 0.35 0.35\n",
       "[3,] 0.35 0.35 0.30"
      ]
     },
     "metadata": {},
     "output_type": "display_data"
    }
   ],
   "source": [
    "pp <- matrix(c(c(0.35,0.3,0.35),c(0.3,0.35,0.35),c(0.35,0.35,0.3)),3)\n",
    "\n",
    "pp"
   ]
  },
  {
   "cell_type": "code",
   "execution_count": 95,
   "metadata": {
    "collapsed": false
   },
   "outputs": [
    {
     "data": {
      "image/png": "[encoded data removed]",
      "text/plain": [
       "Plot with title \"ecdf(s3)\""
      ]
     },
     "metadata": {},
     "output_type": "display_data"
    }
   ],
   "source": [
    "s3 <- replicate(1000, rough.stat(rtable.chaos(size, pp)))\n",
    "plot(ecdf(s3))"
   ]
  },
  {
   "cell_type": "code",
   "execution_count": 96,
   "metadata": {
    "collapsed": false
   },
   "outputs": [
    {
     "data": {
      "text/html": [
       "0.155"
      ],
      "text/latex": [
       "0.155"
      ],
      "text/markdown": [
       "0.155"
      ],
      "text/plain": [
       "[1] 0.155"
      ]
     },
     "metadata": {},
     "output_type": "display_data"
    }
   ],
   "source": [
    "mean(s3 > border)"
   ]
  },
  {
   "cell_type": "markdown",
   "metadata": {},
   "source": [
    "区别小到最多0.05的水平的时候，这个各子样本规模设定就识别不出来这种微小的差别了。\n",
    "\n",
    "看上去还不错，看看这个统计量形式地表达出来是怎么回事\n",
    "\n",
    "$$\n",
    "\\sum_{i=1}^r \\sum_{j=1}^c \\left( \\frac{n_{ij}}{n_{i.}} - \\frac{n_{.j}}{n_{..}} \\right)^2\n",
    "=\n",
    "\\frac{1}{n_{i.}^2} \\sum_{i=1}^r \\sum_{j=1}^c \\left( {n_{ij}} - \\frac{n_{i.} n_{.j}}{n_{..}} \\right)^2\n",
    "$$\n",
    "\n",
    "很荣幸，这与有名的Pearson $\\chi^2$统计量只有标准化方法上的差异。\n",
    "\n",
    "$$\n",
    "Q = \\frac{\\sum_{i=1}^r \\sum_{j=1}^c \\left( {n_{ij}} - \\frac{n_{i.} n_{.j}}{n_{..}} \\right)^2}\n",
    "{\\frac{n_{i.}n_{.j}}{n_{..}}}\n",
    "$$\n",
    "\n",
    "它在原假设成立下有\n",
    "\n",
    "$$\n",
    "Q \\sim \\chi^2((r-1)(s-1))\n",
    "$$\n",
    "\n",
    "的确，既然它与分配概率无关，又只与我的统计量有尺度差别。则我的统计量也自然是与分配概率无关的，同样性质优良。\n",
    "\n",
    "从这个还可以看出一点，即齐性检验实际上可以用作检验离散多样本是否同分布的方法，如果几个离散样本的值域并不能对齐，可以补上0格。\n",
    "当然实际并不推荐出现0格，这时也可以考虑抹掉一些信息，合并一些取值。\n",
    "\n",
    "## 齐性检验和独立性检验的本质区别与统计检验上的等价性\n",
    "\n",
    "齐性检验赋予的随机模型是给定几个$n_i$规模子样本。其中各个子样本的$p_i$可以是不同的，零假设是各$p_i = p$相等。\n",
    "\n",
    "独立性检验赋予的随机模型是给定规模为$n$的总样本，看它们落到双变量的哪些格中去了。每个格都有一个概率，零假设是限制这些概率表示为列和乘积形式。\n",
    "\n",
    "它们的基础都是多项分布。不过它们的随机模型有本质区别。然而由于一些类似性，它们的统计量却是一样的，也服从一样的分布。如似然比检验。\n",
    "\n",
    "对于齐性检验来说，我们可以试图在对$p_i$无约束和约束它们为$p=p_i$的假设空间中以样本求其极大似然估计量$p$，\n",
    "然后看样本在在此估计量为参数时的似然比。这个似然比统计量虽然涉及最优化，其实比看上去好算。显然它的无约束最优参数就是子样本内部的比例，\n",
    "而有约束最优参数就是整体比例。再按其计算概率即可\n",
    "\n",
    "$$\n",
    "L_1 = C \\frac{n_{.1}}{n_{..}}^{n_{.1}} \\dots \\frac{n_{.c}}{n_{..}}^{n_{.c}} = C \\prod_{j=1}^c \\frac{n_{.j}}{n_{..}}^{n_{.j}} \n",
    "= C \\prod_{ij} \\frac{n_{.j}}{n_{..}}^{n_{ij}}\n",
    "\\\\\n",
    "L_2 = C (\\frac{n_{11}}{n_{1.}}^{n_{11}} \\dots \\frac{n_{1c}}{n_{1.}}^{n_{1c}}) \\dots ( \\frac{n_{r1}}{n_{r.}}^{n_{r1}} \\dots \\frac{n_{rc}}{n_{r.}}^{n_{rc}} )\n",
    "= C \\prod_{ij} \\frac{n_{ij}}{n_{i.}}^{n_{ij}} \\\\\n",
    "LRT = \\frac{L_1}{L_2} = \\frac{1}{n_{..}^{n_{..}}} \\prod_{ij} \\frac{n_{i.}n_{.j}}{n_{ij}}^{n_{ij}}\n",
    "$$\n",
    "\n",
    "\n",
    "而独立性的无约束最优参数都是观测频率，有约束最优显然是行列和频率。\n",
    "有趣的是，虽然$L_1,L_2$的定义在齐性和独立性检验中是不一样的，但它们的比，$LRT$统计量却是一样的。\n",
    "\n",
    "$$\n",
    "L_1 = C \\prod_{ij} \\frac{n_{i.}n_{.j}}{n_{..}^2}^{n_{ij}} \\\\\n",
    "L_2 = C \\prod_{ij} \\frac{n_{ij}}{n_{..}}^{n_{ij}} \\\\\n",
    "LRT = \\frac{1}{n_{..}^{n_{..}}} \\prod_{ij} \\frac{n_{i.}n_{.j}}{n_{ij}}^{n_{ij}} \n",
    "$$\n",
    "\n",
    "$$\n",
    "\\log LRT = -n_{..}\\log n_{..} + \\sum_{ij} n_{ij} \\log( \\frac{n_{i.}n_{.j}}{n_{ij}} )\n",
    "$$\n",
    "\n",
    "LRT在经过一些对数和其他标准化后有与Pearson统计量一样的渐进分布$\\chi^2((r-1)(c-1))$。\n",
    "似然比统计量渐进分布的自由度由“有效的”（符合一堆正则条件）无约束参数空间维数减有约束参数空间维数得到。从齐性检验出发的话，无约束空间有\n",
    "$r(c-1)$维（虽有$rc$个参数，但受到了$r$个线性约束。），有约束空间有$c-1$维(虽有$c$个参数，但受到$1$个线性约束)。\n",
    "则$rc - r - c + 1 = (r-1)(c-1)$。从独立性检验出发的话，无约束空间有$rc - 1$维，\n",
    "有约束空间有$ r - 1 + c - 1$维。则$rc - 1 - r + 1 - c + 1 = (r-1)(c-1)$。结果一致。"
   ]
  },
  {
   "cell_type": "markdown",
   "metadata": {
    "collapsed": true
   },
   "source": [
    "\n",
    "## 部分条件化\n",
    "\n",
    "### Fisher精确检验\n",
    "\n",
    "上面的Pearson与LRT检验统计量服从卡方分布其实都是渐进结果。对于$2 \\times 2$列联表我们可以如此求出简单的精确分布。\n",
    "\n",
    "从齐性检验出发，设定规模为$n_1$与$n_2$的子样本互相独立，且其分配到第一类分别为$p_1,p_2$则抽出一个特定列联表形式的概率为\n",
    "\n",
    "$$\n",
    "P\\left( \n",
    "\\begin{bmatrix}\n",
    "x_1 & n_1 - x_1 \\\\\n",
    "x_2 & n_2 - x_x\n",
    "\\end{bmatrix}\n",
    "\\right)\n",
    "=\n",
    "\\begin{pmatrix} n_1 \\\\ x_1 \\end{pmatrix}\n",
    "p_1^{x_1} (1-p_1)^{n_1 - x_1}\n",
    "\\begin{pmatrix} n_2 \\\\ x_2 \\end{pmatrix}\n",
    "p_2^{x_2} (1-p_2)^{n_2 - x_2}\n",
    "$$\n",
    "\n",
    "上面是元假设，在原假设$p_1 = p_2 = p$下有\n",
    "\n",
    "$$\n",
    "P\\left( \n",
    "\\begin{bmatrix}\n",
    "x_1 & n_1 - x_1 \\\\\n",
    "x_2 & n_2 - x_x\n",
    "\\end{bmatrix}\n",
    "\\right)\n",
    "=\n",
    "\\begin{pmatrix} n_1 \\\\ x_1 \\end{pmatrix}\n",
    "\\begin{pmatrix} n_2 \\\\ x_2 \\end{pmatrix}\n",
    "p^{x_1 + x_2} (1 - p)^{N - x_1 - x_2}\n",
    "$$\n",
    "\n",
    "到目前的为止得到的这些并没有什么帮助，即使是给定特定$p = p_1 = p_2$这种特别简单的假设（$p$值给定了），并由上式得到了确定抽样分布，又怎么样呢？\n",
    "我们并没有工具评价对于一个样本表对于这个分布是不是看起来不太可能生成那样的样本，因为我们没法定义p值或合理的拒绝域。\n",
    "\n",
    "可以考虑进一步构造统计量，就像依附初级统计量分布函数的P值统计量一样。比如我们可以只考虑左上角那个格，对于给定的$p_1,n_1$，\n",
    "可以设其过于偏离其期望值的取值为拒绝域。这相当于做了个局部参数检验。我们可以尝试合并这样的检验来达成我们所有$p_1 = p_2$的原假设类似，\n",
    "在备择假设上则不然的统计量，如交并方法，但看起来还能更简单一些。\n",
    "\n",
    "事实上第一列和取值$c$的概率为\n",
    "\n",
    "$$\n",
    "P(c) = \\begin{pmatrix} N \\\\ c \\end{pmatrix} p^c (1-p)^{N-c}\n",
    "$$\n",
    "\n",
    "(这里和上面均省去随机变量等于多少的写法，无伤大雅)\n",
    "\n",
    "于是在原假设下，给定列和为$c$的条件下，出现一个特定表或出现特定$x_1$的条件概率为\n",
    "\n",
    "$$\n",
    "P\\left( \n",
    "\\begin{bmatrix}\n",
    "x_1 & n_1 - x_1 \\\\\n",
    "x_2 & n_2 - x_x\n",
    "\\end{bmatrix}\n",
    "\\mid\n",
    "c\n",
    "\\right)\n",
    "=\n",
    "\\begin{pmatrix} n_1 \\\\ x_1 \\end{pmatrix}\n",
    "\\begin{pmatrix} n_2 \\\\ x_2 \\end{pmatrix}\n",
    "p^{x_1 + x_2} (1 - p)^{N - x_1 - x_2}\n",
    "\\frac{1}{\\begin{pmatrix} N \\\\ c \\end{pmatrix} p^c (1-p)^{N-c}}\n",
    "=\n",
    "\\frac{\n",
    "\\begin{pmatrix} n_1 \\\\ x_1 \\end{pmatrix}\n",
    "\\begin{pmatrix} n_2 \\\\ c - x_1 \\end{pmatrix}\n",
    "}{\n",
    "\\begin{pmatrix} N \\\\ c \\end{pmatrix}\n",
    "}\n",
    "$$\n",
    "\n",
    "在备择假设上的第一列和为$c$的条件下统计量$x_1$将自然不服从此分布，如果$p_1 > p_2$，$x_1$将偏大，反之则偏小，\n",
    "故以上述分布划定两边极端取值的拒绝域是有功效的。\n",
    "\n",
    "我们感兴趣的的是这与可能的使用LRT之类的不需要条件化的统计量的统计推断结论有什么区别。\n",
    "\n",
    "这里的出发点是齐性检验，如果我们在LRT之类中拒绝了原假设。是说：\n",
    "\n",
    "在给定样本是以子样本规模为$n_1,n_2$的，划分到1列的概率分别为$p_1,p_2$的模型生成的元假设下，统计地推断$p_1$与$p_2$是不同的。\n",
    "\n",
    "由于齐性与独立性检验在计算上是等价的，我们还被附送了以下结论：\n",
    "\n",
    "在给定样本是以总规模为$n_1 + n_2$，分配到各格概率分别为$p_{11},p_{12},p_{21},p_{22}$的模型生成的元假设下，\n",
    "统计地推断四个概率参数不能被（独立性）限制的形式表达。或者说两变量起作用不独立\n",
    "\n",
    "而齐性检验上的Fisher精确检验，若得出拒绝结果则有以下结论：\n",
    "\n",
    "在给定样本是以子样本规模为$n_1,n_2$，划分到1列的概率分别为$p_1,p_2$的模型生成，且给出第一行和为$c$的条件概率下的元假设下，\n",
    "统计地推断$p_1$与$p_2$是不同的。\n",
    "\n",
    "看上去这种固定列和是在元假设上是一种更弱的检验，特别在$c$取得与样本的$c$不一致的情况下。这个还带给元假设直观一个挑战，\n",
    "当同一个数据被以不同元假设建立不同的随机模型，然后得出不相关的统计推断时，这一点并不明显。\n",
    "但这里元假设进行的修改是如此的微妙，使得结论如何区分也令人费解了。\n",
    "\n",
    "对于一个样本，我们给它们一些从元假设上就不合理的随机模型上，当然无论如何都会拒绝原假设。这并没有错，因为所有假设检验都是个\n",
    "“如果元假设对（随机模型恰当），则原假设（统计意义）假”实质蕴含式推理，因为元假设假，所以后面的命题就没有意义了。\n",
    "\n",
    "那么这里的问题就是，固定某列和，或者在一个检验中对某些量条件化，这种在元假设上的修改得到一个新假设检验，是否是合理的。\n",
    "这种条件化一般对一个自然的可以生成样本的随机模型下手，将其中一些本来包含在联合分布的变量或统计量按照观测样本固定，对其余变量条件化。\n",
    "比如我们可以试想一个多元正态期望向量的检验，元假设构造了$n$样本规模的一个多元正态分布的随机模型，\n",
    "但有一个条件化版本将其中$n/2$个元按样本都固定了，其余变量和统计量变为它们的条件分布。这合理吗？\n",
    "\n",
    "下面构造一个例子，就是检验多元正态分布均值。分块记号为\n",
    "\n",
    "$$\n",
    "X = \\begin{bmatrix} X^{(1)} \\\\ X^{(2)} \\end{bmatrix} \\\\\n",
    "\\mu = \\begin{bmatrix} \\mu^{(1)} \\\\ \\mu^{(2)} \\end{bmatrix} \\\\\n",
    "\\Sigma = \\begin{bmatrix} \\Sigma_{11} & \\Sigma_{12} \\\\ \\Sigma_{21} & \\Sigma_{22} \\end{bmatrix}\n",
    "$$\n",
    "\n",
    "其中$X^{(1)}$为$q \\times 1$维，$\\Sigma_{11}$为$q \\times q$维。$\\Sigma$为$p \\times p$维。\n",
    "\n",
    "对$X \\sim N_p(\\mu,\\Sigma)$\n",
    "\n",
    "$$\n",
    "(X^{(1)} \\mid X^{(2)}) \\sim N_q(\\mu_{1 . 2},\\Sigma_{11 . 2})\n",
    "$$\n",
    "\n",
    "其中\n",
    "\n",
    "$$\n",
    "\\mu_{1.2} = \\mu^{(1)} + \\Sigma_{12}\\Sigma_{22}^{-1}(X^{(2)} - \\mu^{(2)}) \\\\\n",
    "\\Sigma_{11.2} = \\Sigma_{11} - \\Sigma_{12}\\Sigma_{22}^{-1}\\Sigma_{21}\n",
    "$$\n",
    "\n",
    "$.$表示左边的元是之前的元，但被右边所条件化。"
   ]
  },
  {
   "cell_type": "code",
   "execution_count": 56,
   "metadata": {
    "collapsed": true
   },
   "outputs": [],
   "source": [
    "mu <- c(154.98, 83.39, 70.26, 61.32, 91.52)\n",
    "Sigma.v <- c(29.66, 6.51, 1.85, 9.36, 10.34, 30.53, 25.54, 3.54, 19.53, 39.86, 2.23, 20.70, 7.03, 5.21, 27.36)"
   ]
  },
  {
   "cell_type": "code",
   "execution_count": 68,
   "metadata": {
    "collapsed": true
   },
   "outputs": [],
   "source": [
    "Sigma <- matrix(NA,5,5)"
   ]
  },
  {
   "cell_type": "code",
   "execution_count": 69,
   "metadata": {
    "collapsed": false
   },
   "outputs": [],
   "source": [
    "k <- 1\n",
    "for(j in 1:5){\n",
    "    for(i in j:5){\n",
    "        Sigma[i,j] <- Sigma.v[k]\n",
    "        k <- k+1\n",
    "    }\n",
    "}\n",
    "Sigma[is.na(Sigma)] <- t(Sigma)[is.na(Sigma)]"
   ]
  },
  {
   "cell_type": "code",
   "execution_count": 59,
   "metadata": {
    "collapsed": false
   },
   "outputs": [
    {
     "data": {
      "text/html": [
       "<ol class=list-inline>\n",
       "\t<li>154.98</li>\n",
       "\t<li>83.39</li>\n",
       "\t<li>70.26</li>\n",
       "\t<li>61.32</li>\n",
       "\t<li>91.52</li>\n",
       "</ol>\n"
      ],
      "text/latex": [
       "\\begin{enumerate*}\n",
       "\\item 154.98\n",
       "\\item 83.39\n",
       "\\item 70.26\n",
       "\\item 61.32\n",
       "\\item 91.52\n",
       "\\end{enumerate*}\n"
      ],
      "text/markdown": [
       "1. 154.98\n",
       "2. 83.39\n",
       "3. 70.26\n",
       "4. 61.32\n",
       "5. 91.52\n",
       "\n",
       "\n"
      ],
      "text/plain": [
       "[1] 154.98  83.39  70.26  61.32  91.52"
      ]
     },
     "metadata": {},
     "output_type": "display_data"
    }
   ],
   "source": [
    "mu"
   ]
  },
  {
   "cell_type": "code",
   "execution_count": 73,
   "metadata": {
    "collapsed": false,
    "scrolled": true
   },
   "outputs": [
    {
     "data": {
      "text/html": [
       "<table>\n",
       "<tbody>\n",
       "\t<tr><td>29.66</td><td> 6.51</td><td> 1.85</td><td>9.36 </td><td>10.34</td></tr>\n",
       "\t<tr><td> 6.51</td><td>30.53</td><td>25.54</td><td>3.54 </td><td>19.53</td></tr>\n",
       "\t<tr><td> 1.85</td><td>25.54</td><td>39.86</td><td>2.23 </td><td>20.70</td></tr>\n",
       "\t<tr><td> 9.36</td><td> 3.54</td><td> 2.23</td><td>7.03 </td><td> 5.21</td></tr>\n",
       "\t<tr><td>10.34</td><td>19.53</td><td>20.70</td><td>5.21 </td><td>27.36</td></tr>\n",
       "</tbody>\n",
       "</table>\n"
      ],
      "text/latex": [
       "\\begin{tabular}{lllll}\n",
       "\t 29.66 &  6.51 &  1.85 & 9.36  & 10.34\\\\\n",
       "\t  6.51 & 30.53 & 25.54 & 3.54  & 19.53\\\\\n",
       "\t  1.85 & 25.54 & 39.86 & 2.23  & 20.70\\\\\n",
       "\t  9.36 &  3.54 &  2.23 & 7.03  &  5.21\\\\\n",
       "\t 10.34 & 19.53 & 20.70 & 5.21  & 27.36\\\\\n",
       "\\end{tabular}\n"
      ],
      "text/markdown": [
       "1. 29.66\n",
       "2. 6.51\n",
       "3. 1.85\n",
       "4. 9.36\n",
       "5. 10.34\n",
       "6. 6.51\n",
       "7. 30.53\n",
       "8. 25.54\n",
       "9. 3.54\n",
       "10. 19.53\n",
       "11. 1.85\n",
       "12. 25.54\n",
       "13. 39.86\n",
       "14. 2.23\n",
       "15. 20.7\n",
       "16. 9.36\n",
       "17. 3.54\n",
       "18. 2.23\n",
       "19. 7.03\n",
       "20. 5.21\n",
       "21. 10.34\n",
       "22. 19.53\n",
       "23. 20.7\n",
       "24. 5.21\n",
       "25. 27.36\n",
       "\n",
       "\n"
      ],
      "text/plain": [
       "     [,1]  [,2]  [,3]  [,4] [,5] \n",
       "[1,] 29.66  6.51  1.85 9.36 10.34\n",
       "[2,]  6.51 30.53 25.54 3.54 19.53\n",
       "[3,]  1.85 25.54 39.86 2.23 20.70\n",
       "[4,]  9.36  3.54  2.23 7.03  5.21\n",
       "[5,] 10.34 19.53 20.70 5.21 27.36"
      ]
     },
     "metadata": {},
     "output_type": "display_data"
    }
   ],
   "source": [
    "Sigma"
   ]
  },
  {
   "cell_type": "code",
   "execution_count": 74,
   "metadata": {
    "collapsed": false
   },
   "outputs": [],
   "source": [
    "cnorm <- function(mu, Sigma, cond){\n",
    "    # cond is same shape as mu, and include NA to indicate what numer is reseve.\n",
    "    s1 <- which(is.na(cond))\n",
    "    s2 <- which(!is.na(cond))\n",
    "    mu1 <- mu[s1]\n",
    "    mu2 <- mu[s2]\n",
    "    Sigma11 <- Sigma[s1,s1]\n",
    "    Sigma12 <- Sigma[s1,s2]\n",
    "    Sigma21 <- Sigma[s2,s1]\n",
    "    Sigma22 <- Sigma[s2,s2]\n",
    "    X2 <- cond[s2]\n",
    "    \n",
    "    mu.cond <- mu1 + Sigma12 %*% solve(Sigma22) %*% (X2 - mu2)\n",
    "    Sigma.cond <- Sigma11 - Sigma12 %*% solve(Sigma22) %*% Sigma21\n",
    "    return(list(mu = mu.cond, Sigma = Sigma.cond, index = is.na(cond)))\n",
    "}"
   ]
  },
  {
   "cell_type": "code",
   "execution_count": 78,
   "metadata": {
    "collapsed": false,
    "scrolled": true
   },
   "outputs": [
    {
     "data": {
      "text/html": [
       "<dl>\n",
       "\t<dt>$mu</dt>\n",
       "\t\t<dd><table>\n",
       "<tbody>\n",
       "\t<tr><td>154.98</td></tr>\n",
       "\t<tr><td> 83.39</td></tr>\n",
       "\t<tr><td> 70.26</td></tr>\n",
       "\t<tr><td> 61.32</td></tr>\n",
       "</tbody>\n",
       "</table>\n",
       "</dd>\n",
       "\t<dt>$Sigma</dt>\n",
       "\t\t<dd><table>\n",
       "<tbody>\n",
       "\t<tr><td>25.7522661</td><td>-0.8708553</td><td>-5.973026 </td><td> 7.3910161</td></tr>\n",
       "\t<tr><td>-0.8708553</td><td>16.5891776</td><td>10.764013 </td><td>-0.1789803</td></tr>\n",
       "\t<tr><td>-5.9730263</td><td>10.7640132</td><td>24.198816 </td><td>-1.7117763</td></tr>\n",
       "\t<tr><td> 7.3910161</td><td>-0.1789803</td><td>-1.711776 </td><td> 6.0378911</td></tr>\n",
       "</tbody>\n",
       "</table>\n",
       "</dd>\n",
       "\t<dt>$index</dt>\n",
       "\t\t<dd><ol class=list-inline>\n",
       "\t<li>TRUE</li>\n",
       "\t<li>TRUE</li>\n",
       "\t<li>TRUE</li>\n",
       "\t<li>TRUE</li>\n",
       "\t<li>FALSE</li>\n",
       "</ol>\n",
       "</dd>\n",
       "</dl>\n"
      ],
      "text/latex": [
       "\\begin{description}\n",
       "\\item[\\$mu] \\begin{tabular}{l}\n",
       "\t 154.98\\\\\n",
       "\t  83.39\\\\\n",
       "\t  70.26\\\\\n",
       "\t  61.32\\\\\n",
       "\\end{tabular}\n",
       "\n",
       "\\item[\\$Sigma] \\begin{tabular}{llll}\n",
       "\t 25.7522661 & -0.8708553 & -5.973026  &  7.3910161\\\\\n",
       "\t -0.8708553 & 16.5891776 & 10.764013  & -0.1789803\\\\\n",
       "\t -5.9730263 & 10.7640132 & 24.198816  & -1.7117763\\\\\n",
       "\t  7.3910161 & -0.1789803 & -1.711776  &  6.0378911\\\\\n",
       "\\end{tabular}\n",
       "\n",
       "\\item[\\$index] \\begin{enumerate*}\n",
       "\\item TRUE\n",
       "\\item TRUE\n",
       "\\item TRUE\n",
       "\\item TRUE\n",
       "\\item FALSE\n",
       "\\end{enumerate*}\n",
       "\n",
       "\\end{description}\n"
      ],
      "text/markdown": [
       "$mu\n",
       ":   1. 154.98\n",
       "2. 83.39\n",
       "3. 70.26\n",
       "4. 61.32\n",
       "\n",
       "\n",
       "\n",
       "$Sigma\n",
       ":   1. 25.7522660818713\n",
       "2. -0.870855263157894\n",
       "3. -5.97302631578947\n",
       "4. 7.39101608187134\n",
       "5. -0.870855263157895\n",
       "6. 16.5891776315789\n",
       "7. 10.7640131578947\n",
       "8. -0.178980263157895\n",
       "9. -5.97302631578947\n",
       "10. 10.7640131578947\n",
       "11. 24.1988157894737\n",
       "12. -1.71177631578947\n",
       "13. 7.39101608187134\n",
       "14. -0.178980263157895\n",
       "15. -1.71177631578947\n",
       "16. 6.03789108187135\n",
       "\n",
       "\n",
       "\n",
       "$index\n",
       ":   1. TRUE\n",
       "2. TRUE\n",
       "3. TRUE\n",
       "4. TRUE\n",
       "5. FALSE\n",
       "\n",
       "\n",
       "\n",
       "\n",
       "\n"
      ],
      "text/plain": [
       "$mu\n",
       "       [,1]\n",
       "[1,] 154.98\n",
       "[2,]  83.39\n",
       "[3,]  70.26\n",
       "[4,]  61.32\n",
       "\n",
       "$Sigma\n",
       "           [,1]       [,2]      [,3]       [,4]\n",
       "[1,] 25.7522661 -0.8708553 -5.973026  7.3910161\n",
       "[2,] -0.8708553 16.5891776 10.764013 -0.1789803\n",
       "[3,] -5.9730263 10.7640132 24.198816 -1.7117763\n",
       "[4,]  7.3910161 -0.1789803 -1.711776  6.0378911\n",
       "\n",
       "$index\n",
       "[1]  TRUE  TRUE  TRUE  TRUE FALSE\n"
      ]
     },
     "metadata": {},
     "output_type": "display_data"
    }
   ],
   "source": [
    "cnorm(mu,Sigma, c(NA,NA,NA,NA,mu[5]))"
   ]
  },
  {
   "cell_type": "markdown",
   "metadata": {},
   "source": [
    "这里搞一个比较简单的检验，设$\\Sigma$已知，我们想检验期望向量是否是正确的，对于样本规模$n$，可给定\n",
    "\n",
    "$$\n",
    "\\sum_{i=1}^n (X_i-\\mu)^T\\Sigma^{-1}(X_i-\\mu) \\sim \\chi^2(np)\n",
    "$$\n",
    "\n",
    "先看看这个是不是对的"
   ]
  },
  {
   "cell_type": "code",
   "execution_count": 79,
   "metadata": {
    "collapsed": true
   },
   "outputs": [],
   "source": [
    "rmultinorm <- function(n,mu,Sigma){\n",
    "    res <- eigen(Sigma)\n",
    "    Lambda <- diag(res$values)\n",
    "    P <- res$vectors\n",
    "    r <- replicate(n,as.vector( P %*% Lambda^(1/2) %*% rnorm(length(mu))) + mu)\n",
    "    return(r)\n",
    "}\n"
   ]
  },
  {
   "cell_type": "code",
   "execution_count": 84,
   "metadata": {
    "collapsed": false
   },
   "outputs": [],
   "source": [
    "sam <- rmultinorm(30, mu, Sigma)\n",
    "solve.Sigma <- solve(Sigma)\n",
    "sam2 <- c()\n",
    "for(i in 1:ncol(sam)){\n",
    "    sam2[i] <- (sam[,i] - mu) %*% solve.Sigma %*% (sam[,i] - mu)\n",
    "}"
   ]
  },
  {
   "cell_type": "code",
   "execution_count": 85,
   "metadata": {
    "collapsed": false
   },
   "outputs": [
    {
     "data": {
      "text/html": [
       "<ol class=list-inline>\n",
       "\t<li>10.025042185735</li>\n",
       "\t<li>4.34477122539755</li>\n",
       "\t<li>2.48718199245016</li>\n",
       "\t<li>2.65654748745108</li>\n",
       "\t<li>1.25664708813699</li>\n",
       "\t<li>1.56764140975308</li>\n",
       "\t<li>6.480792865262</li>\n",
       "\t<li>2.70519989963721</li>\n",
       "\t<li>6.43791565696293</li>\n",
       "\t<li>2.35385420757486</li>\n",
       "\t<li>8.73245728755406</li>\n",
       "\t<li>5.26331177036154</li>\n",
       "\t<li>14.0817089470027</li>\n",
       "\t<li>12.5571543424233</li>\n",
       "\t<li>6.69955527215883</li>\n",
       "\t<li>2.22330921202507</li>\n",
       "\t<li>6.73221293665944</li>\n",
       "\t<li>2.15941166171837</li>\n",
       "\t<li>2.77586320247549</li>\n",
       "\t<li>3.44889670362095</li>\n",
       "\t<li>4.08443303576824</li>\n",
       "\t<li>4.30339184254265</li>\n",
       "\t<li>2.50025758776499</li>\n",
       "\t<li>5.94906381224143</li>\n",
       "\t<li>10.277591170465</li>\n",
       "\t<li>10.9208610505897</li>\n",
       "\t<li>1.96058877476106</li>\n",
       "\t<li>3.52739454772084</li>\n",
       "\t<li>4.29176317525102</li>\n",
       "\t<li>2.96067546182189</li>\n",
       "</ol>\n"
      ],
      "text/latex": [
       "\\begin{enumerate*}\n",
       "\\item 10.025042185735\n",
       "\\item 4.34477122539755\n",
       "\\item 2.48718199245016\n",
       "\\item 2.65654748745108\n",
       "\\item 1.25664708813699\n",
       "\\item 1.56764140975308\n",
       "\\item 6.480792865262\n",
       "\\item 2.70519989963721\n",
       "\\item 6.43791565696293\n",
       "\\item 2.35385420757486\n",
       "\\item 8.73245728755406\n",
       "\\item 5.26331177036154\n",
       "\\item 14.0817089470027\n",
       "\\item 12.5571543424233\n",
       "\\item 6.69955527215883\n",
       "\\item 2.22330921202507\n",
       "\\item 6.73221293665944\n",
       "\\item 2.15941166171837\n",
       "\\item 2.77586320247549\n",
       "\\item 3.44889670362095\n",
       "\\item 4.08443303576824\n",
       "\\item 4.30339184254265\n",
       "\\item 2.50025758776499\n",
       "\\item 5.94906381224143\n",
       "\\item 10.277591170465\n",
       "\\item 10.9208610505897\n",
       "\\item 1.96058877476106\n",
       "\\item 3.52739454772084\n",
       "\\item 4.29176317525102\n",
       "\\item 2.96067546182189\n",
       "\\end{enumerate*}\n"
      ],
      "text/markdown": [
       "1. 10.025042185735\n",
       "2. 4.34477122539755\n",
       "3. 2.48718199245016\n",
       "4. 2.65654748745108\n",
       "5. 1.25664708813699\n",
       "6. 1.56764140975308\n",
       "7. 6.480792865262\n",
       "8. 2.70519989963721\n",
       "9. 6.43791565696293\n",
       "10. 2.35385420757486\n",
       "11. 8.73245728755406\n",
       "12. 5.26331177036154\n",
       "13. 14.0817089470027\n",
       "14. 12.5571543424233\n",
       "15. 6.69955527215883\n",
       "16. 2.22330921202507\n",
       "17. 6.73221293665944\n",
       "18. 2.15941166171837\n",
       "19. 2.77586320247549\n",
       "20. 3.44889670362095\n",
       "21. 4.08443303576824\n",
       "22. 4.30339184254265\n",
       "23. 2.50025758776499\n",
       "24. 5.94906381224143\n",
       "25. 10.277591170465\n",
       "26. 10.9208610505897\n",
       "27. 1.96058877476106\n",
       "28. 3.52739454772084\n",
       "29. 4.29176317525102\n",
       "30. 2.96067546182189\n",
       "\n",
       "\n"
      ],
      "text/plain": [
       " [1] 10.025042  4.344771  2.487182  2.656547  1.256647  1.567641  6.480793\n",
       " [8]  2.705200  6.437916  2.353854  8.732457  5.263312 14.081709 12.557154\n",
       "[15]  6.699555  2.223309  6.732213  2.159412  2.775863  3.448897  4.084433\n",
       "[22]  4.303392  2.500258  5.949064 10.277591 10.920861  1.960589  3.527395\n",
       "[29]  4.291763  2.960675"
      ]
     },
     "metadata": {},
     "output_type": "display_data"
    }
   ],
   "source": [
    "sam2"
   ]
  },
  {
   "cell_type": "code",
   "execution_count": 120,
   "metadata": {
    "collapsed": true
   },
   "outputs": [],
   "source": [
    "stat <- function(sam, mu, Sigma, solve.Sigma = NA){\n",
    "    if(!is.matrix(solve.Sigma)){\n",
    "        solve.Sigma <- solve(Sigma)\n",
    "    }\n",
    "    sam2 <- c()\n",
    "    for(i in 1:ncol(sam)){\n",
    "        sam2[i] <- (sam[,i] - mu) %*% solve.Sigma %*% (sam[,i] - mu)\n",
    "    }\n",
    "    return(sum(sam2))\n",
    "}"
   ]
  },
  {
   "cell_type": "code",
   "execution_count": 125,
   "metadata": {
    "collapsed": false
   },
   "outputs": [],
   "source": [
    "experiment <- function(mu, Sigma, n, size = 100){\n",
    "    sam <- rmultinorm(n*size, mu, Sigma)\n",
    "    solve.Sigma <- solve(Sigma)\n",
    "    sam3 <- c()\n",
    "    for(i in 1:size){\n",
    "        sam3[i] <- stat(sam[,(i*n-n+1):(i*n)], mu, Sigma, solve.Sigma = solve.Sigma)\n",
    "    }\n",
    "    return(sam3)\n",
    "}"
   ]
  },
  {
   "cell_type": "code",
   "execution_count": 126,
   "metadata": {
    "collapsed": false
   },
   "outputs": [],
   "source": [
    "sam <- experiment(mu,Sigma, 30)"
   ]
  },
  {
   "cell_type": "code",
   "execution_count": 127,
   "metadata": {
    "collapsed": false
   },
   "outputs": [
    {
     "data": {
      "image/png": "[encoded data removed]",
      "text/plain": [
       "Plot with title \"ecdf(sam)\""
      ]
     },
     "metadata": {},
     "output_type": "display_data"
    }
   ],
   "source": [
    "plot(ecdf(sam))"
   ]
  },
  {
   "cell_type": "code",
   "execution_count": 128,
   "metadata": {
    "collapsed": false
   },
   "outputs": [
    {
     "data": {
      "text/plain": [
       "\n",
       "\tOne-sample Kolmogorov-Smirnov test\n",
       "\n",
       "data:  sam\n",
       "D = 0.088868, p-value = 0.4086\n",
       "alternative hypothesis: two-sided\n"
      ]
     },
     "metadata": {},
     "output_type": "display_data"
    }
   ],
   "source": [
    "ks.test(sam,pchisq,5*30)"
   ]
  },
  {
   "cell_type": "code",
   "execution_count": 141,
   "metadata": {
    "collapsed": false
   },
   "outputs": [
    {
     "data": {
      "text/html": [
       "0.00173558388437509"
      ],
      "text/latex": [
       "0.00173558388437509"
      ],
      "text/markdown": [
       "0.00173558388437509"
      ],
      "text/plain": [
       "[1] 0.001735584"
      ]
     },
     "metadata": {},
     "output_type": "display_data"
    }
   ],
   "source": [
    "pchisq(stat(rmultinorm(30, mu - rep(3,5),Sigma), mu,Sigma),5*30,low=F)"
   ]
  },
  {
   "cell_type": "markdown",
   "metadata": {},
   "source": [
    "这个问题看来是个大坑。。先放下吧。。\n",
    "\n",
    "## 对数线性模型\n",
    "\n",
    "对于高维列联表，对数线性模型是独立性检验的推广。对数线性模型的随机模型是指定总样本规模$n$后，按每格独有的概率形成的多项分布分配到各格。\n",
    "在层次（hierachical）模型里，每格独有概率被以不同的共有因素表示。比如完全独立模型里每格的概率由每个变量的一个水平对应的概率求积得到。\n",
    "\n",
    "如设列联表有三个变量，每个变量个三个水平。一共27个格子的概率记为$p_{ijk}$。分布记做$\\mathbf{n} \\sim M(n_{...},\\mathbf{m}/n_{...})$。\n",
    "其中$\\mathbf{1}^T\\mathbf{m} = n...$只不过是$p_{ijk}$的一个记法。可以和之前的期望频数类比。"
   ]
  },
  {
   "cell_type": "code",
   "execution_count": 142,
   "metadata": {
    "collapsed": true
   },
   "outputs": [],
   "source": [
    "?loglin"
   ]
  },
  {
   "cell_type": "code",
   "execution_count": 152,
   "metadata": {
    "collapsed": false
   },
   "outputs": [
    {
     "data": {
      "text/plain": [
       ", , Y = C\n",
       "\n",
       "   Z\n",
       "X    N  S\n",
       "  A 45 43\n",
       "  B 39 51\n",
       "  C 54 67\n",
       "\n",
       ", , Y = R\n",
       "\n",
       "   Z\n",
       "X    N  S\n",
       "  A 66 51\n",
       "  B 32 35\n",
       "  C 30 32\n"
      ]
     },
     "metadata": {},
     "output_type": "display_data"
    }
   ],
   "source": [
    "wmq <- read.csv('wmq.csv')\n",
    "xt <- xtabs(Count ~  X + Z + Y,wmq)\n",
    "xt"
   ]
  },
  {
   "cell_type": "code",
   "execution_count": 153,
   "metadata": {
    "collapsed": false
   },
   "outputs": [
    {
     "name": "stdout",
     "output_type": "stream",
     "text": [
      "2 iterations: deviation 0 \n"
     ]
    },
    {
     "data": {
      "text/html": [
       "<dl>\n",
       "\t<dt>$lrt</dt>\n",
       "\t\t<dd>26.5682312452796</dd>\n",
       "\t<dt>$pearson</dt>\n",
       "\t\t<dd>27.2935743534306</dd>\n",
       "\t<dt>$df</dt>\n",
       "\t\t<dd>7</dd>\n",
       "\t<dt>$margin</dt>\n",
       "\t\t<dd><ol>\n",
       "\t<li>'X'</li>\n",
       "\t<li>'Z'</li>\n",
       "\t<li>'Y'</li>\n",
       "</ol>\n",
       "</dd>\n",
       "</dl>\n"
      ],
      "text/latex": [
       "\\begin{description}\n",
       "\\item[\\$lrt] 26.5682312452796\n",
       "\\item[\\$pearson] 27.2935743534306\n",
       "\\item[\\$df] 7\n",
       "\\item[\\$margin] \\begin{enumerate}\n",
       "\\item 'X'\n",
       "\\item 'Z'\n",
       "\\item 'Y'\n",
       "\\end{enumerate}\n",
       "\n",
       "\\end{description}\n"
      ],
      "text/markdown": [
       "$lrt\n",
       ":   26.5682312452796\n",
       "$pearson\n",
       ":   27.2935743534306\n",
       "$df\n",
       ":   7\n",
       "$margin\n",
       ":   1. 'X'\n",
       "2. 'Z'\n",
       "3. 'Y'\n",
       "\n",
       "\n",
       "\n",
       "\n",
       "\n"
      ],
      "text/plain": [
       "$lrt\n",
       "[1] 26.56823\n",
       "\n",
       "$pearson\n",
       "[1] 27.29357\n",
       "\n",
       "$df\n",
       "[1] 7\n",
       "\n",
       "$margin\n",
       "$margin[[1]]\n",
       "[1] \"X\"\n",
       "\n",
       "$margin[[2]]\n",
       "[1] \"Z\"\n",
       "\n",
       "$margin[[3]]\n",
       "[1] \"Y\"\n",
       "\n"
      ]
     },
     "metadata": {},
     "output_type": "display_data"
    }
   ],
   "source": [
    "loglin(xt, list(1,2,3))"
   ]
  },
  {
   "cell_type": "code",
   "execution_count": 157,
   "metadata": {
    "collapsed": true
   },
   "outputs": [],
   "source": [
    "?bkde"
   ]
  },
  {
   "cell_type": "code",
   "execution_count": 159,
   "metadata": {
    "collapsed": true
   },
   "outputs": [],
   "source": [
    "?kernel"
   ]
  },
  {
   "cell_type": "code",
   "execution_count": 163,
   "metadata": {
    "collapsed": false
   },
   "outputs": [],
   "source": [
    "x <- EuStockMarkets[,1]\n",
    "k1 <- kernel(\"daniell\", 50)  # a long moving average\n",
    "k2 <- kernel(\"daniell\", 10)  # and a short one\n"
   ]
  },
  {
   "cell_type": "code",
   "execution_count": 162,
   "metadata": {
    "collapsed": false
   },
   "outputs": [
    {
     "data": {
      "image/png": "[encoded data removed]",
      "text/plain": [
       "Plot with title \"Daniell(50)\""
      ]
     },
     "metadata": {},
     "output_type": "display_data"
    }
   ],
   "source": [
    "plot(k1)\n"
   ]
  },
  {
   "cell_type": "code",
   "execution_count": 164,
   "metadata": {
    "collapsed": false
   },
   "outputs": [
    {
     "data": {
      "image/png": "[encoded data removed]",
      "text/plain": [
       "Plot with title \"Daniell(10)\""
      ]
     },
     "metadata": {},
     "output_type": "display_data"
    }
   ],
   "source": [
    "plot(k2)\n"
   ]
  },
  {
   "cell_type": "code",
   "execution_count": 166,
   "metadata": {
    "collapsed": false
   },
   "outputs": [
    {
     "name": "stdout",
     "output_type": "stream",
     "text": [
      "'data.frame':\t272 obs. of  2 variables:\n",
      " $ eruptions: num  3.6 1.8 3.33 2.28 4.53 ...\n",
      " $ waiting  : num  79 54 74 62 85 55 88 85 51 85 ...\n"
     ]
    }
   ],
   "source": [
    "str(faithful)"
   ]
  },
  {
   "cell_type": "code",
   "execution_count": null,
   "metadata": {
    "collapsed": true
   },
   "outputs": [],
   "source": []
  }
 ],
 "metadata": {
  "kernelspec": {
   "display_name": "R 3.3",
   "language": "R",
   "name": "ir33"
  },
  "language_info": {
   "codemirror_mode": "r",
   "file_extension": ".r",
   "mimetype": "text/x-r-source",
   "name": "R",
   "pygments_lexer": "r",
   "version": "3.3.1"
  }
 },
 "nbformat": 4,
 "nbformat_minor": 0
}
