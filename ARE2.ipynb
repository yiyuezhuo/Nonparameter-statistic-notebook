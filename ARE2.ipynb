{
 "cells": [
  {
   "cell_type": "code",
   "execution_count": 1,
   "metadata": {
    "collapsed": false
   },
   "outputs": [
    {
     "name": "stderr",
     "output_type": "stream",
     "text": [
      "Warning message:\n",
      "\"package 'ggplot2' was built under R version 3.3.2\""
     ]
    }
   ],
   "source": [
    "library(ggplot2)\n",
    "library(reshape2)\n"
   ]
  },
  {
   "cell_type": "code",
   "execution_count": 2,
   "metadata": {
    "collapsed": true
   },
   "outputs": [],
   "source": [
    "# lower.tail\t logical; if TRUE (default), probabilities are P[X ≤ x], otherwise, P[X > x].\n",
    "# So origin impletation is wrong, get the unsymmetry.\n",
    "\n",
    "power.binom <- function(x,n=10,x0=0,var=1,alpha=0.05){\n",
    "    \n",
    "    p0 <- pnorm(x0,x0,var,lower.tail=FALSE)\n",
    "    left <- qbinom(alpha/2,n,p0)\n",
    "    right <- qbinom(alpha/2,n,p0,lower.tail=FALSE)\n",
    "    prob <- pnorm(x0,x,var)\n",
    "    #power <- pbinom(left-1,n,prob) + pbinom(right+1,n,prob,lower.tail=FALSE)\n",
    "    power <- pbinom(left-1,n,prob) + pbinom(right,n,prob,lower.tail=FALSE)\n",
    "    return(power)\n",
    "}\n",
    "\n",
    "power.norm <- function(x,n=10,x0=0,var=1,alpha=0.05){\n",
    "    left <- qnorm(alpha/2,x0,var/n)\n",
    "    right <- qnorm(alpha/2,x0,var/n,lower.tail=FALSE)\n",
    "    power <- pnorm(left,x,var/n) + pnorm(right,x,var/n,lower.tail=FALSE)\n",
    "    return(power)\n",
    "}\n",
    "\n",
    "power.binom.gen <- function(x,x0,q,var,n,alpha){\n",
    "    left <- qbinom(alpha/2,n,q)\n",
    "    right <- qbinom(alpha/2,n,q,lower.tail=FALSE)\n",
    "    mu <- x - sqrt(var)*qnorm(q,0,1)\n",
    "    qq <- pnorm(x0,mu,var)\n",
    "    #power <- pbinom(left-1,n,qq) + pbinom(right+1,n,qq,lower.tail=FALSE)\n",
    "    power <- pbinom(left-1,n,qq) + pbinom(right,n,qq,lower.tail=FALSE)\n",
    "    return(power)\n",
    "}"
   ]
  },
  {
   "cell_type": "code",
   "execution_count": 3,
   "metadata": {
    "collapsed": false,
    "scrolled": true
   },
   "outputs": [
    {
     "data": {
      "text/html": [
       "<ol class=list-inline>\n",
       "\t<li>0.985811663843493</li>\n",
       "\t<li>0.985811663843493</li>\n",
       "</ol>\n"
      ],
      "text/latex": [
       "\\begin{enumerate*}\n",
       "\\item 0.985811663843493\n",
       "\\item 0.985811663843493\n",
       "\\end{enumerate*}\n"
      ],
      "text/markdown": [
       "1. 0.985811663843493\n",
       "2. 0.985811663843493\n",
       "\n",
       "\n"
      ],
      "text/plain": [
       "[1] 0.9858117 0.9858117"
      ]
     },
     "metadata": {},
     "output_type": "display_data"
    }
   ],
   "source": [
    "power.binom(c(-1,1),n=30)"
   ]
  },
  {
   "cell_type": "code",
   "execution_count": 4,
   "metadata": {
    "collapsed": false
   },
   "outputs": [
    {
     "data": {
      "text/html": [
       "<ol class=list-inline>\n",
       "\t<li>0.985811663843493</li>\n",
       "\t<li>0.985811663843493</li>\n",
       "</ol>\n"
      ],
      "text/latex": [
       "\\begin{enumerate*}\n",
       "\\item 0.985811663843493\n",
       "\\item 0.985811663843493\n",
       "\\end{enumerate*}\n"
      ],
      "text/markdown": [
       "1. 0.985811663843493\n",
       "2. 0.985811663843493\n",
       "\n",
       "\n"
      ],
      "text/plain": [
       "[1] 0.9858117 0.9858117"
      ]
     },
     "metadata": {},
     "output_type": "display_data"
    }
   ],
   "source": [
    "power.binom.gen(c(-1,1),0,0.5,1,30,0.05)"
   ]
  },
  {
   "cell_type": "code",
   "execution_count": 5,
   "metadata": {
    "collapsed": false
   },
   "outputs": [
    {
     "data": {
      "text/html": [
       "0.0546875"
      ],
      "text/latex": [
       "0.0546875"
      ],
      "text/markdown": [
       "0.0546875"
      ],
      "text/plain": [
       "[1] 0.0546875"
      ]
     },
     "metadata": {},
     "output_type": "display_data"
    }
   ],
   "source": [
    "pbinom(qbinom(0.025,10,0.5,lower.tail=FALSE)-1,10,0.5,lower.tail=FALSE)"
   ]
  },
  {
   "cell_type": "code",
   "execution_count": 6,
   "metadata": {
    "collapsed": true
   },
   "outputs": [],
   "source": [
    "x <- seq(-0.5,0.5,0.01)\n",
    "pb50 <- power.binom(x,n=50)\n",
    "pb100 <- power.binom(x,n=100)\n",
    "pb200 <- power.binom(x,n=200)\n",
    "pn10 <- power.norm(x,n=10)\n",
    "pn50 <- power.norm(x,n=50)\n",
    "\n",
    "\n",
    "df = data.frame(x=x, pn10=pn10, pn50=pn50, pb50=pb50, pb100=pb100, pb200=pb200)\n"
   ]
  },
  {
   "cell_type": "code",
   "execution_count": 7,
   "metadata": {
    "collapsed": false
   },
   "outputs": [
    {
     "data": {},
     "metadata": {},
     "output_type": "display_data"
    },
    {
     "data": {
      "image/png": "[encoded data removed]",
      "text/plain": [
       "plot without title"
      ]
     },
     "metadata": {},
     "output_type": "display_data"
    }
   ],
   "source": [
    "base <- ggplot(data = melt(df,id=\"x\",measure=names(df)[names(df)!='x']), aes(x,value,colour = variable)) \n",
    "base + geom_line()"
   ]
  },
  {
   "cell_type": "code",
   "execution_count": 9,
   "metadata": {
    "collapsed": true
   },
   "outputs": [],
   "source": [
    "min.n.binom <- function(p,x,x0=0,q=0.5,var=1,alpha=0.05){\n",
    "    n <- 2\n",
    "    repeat{\n",
    "        power <- power.binom.gen(x,x0,q,var,n,alpha)\n",
    "        if(power >= p)\n",
    "            return(n)\n",
    "        n <- n + 1\n",
    "    }\n",
    "}\n"
   ]
  },
  {
   "cell_type": "code",
   "execution_count": 10,
   "metadata": {
    "collapsed": false
   },
   "outputs": [
    {
     "data": {
      "text/html": [
       "35"
      ],
      "text/latex": [
       "35"
      ],
      "text/markdown": [
       "35"
      ],
      "text/plain": [
       "[1] 35"
      ]
     },
     "metadata": {},
     "output_type": "display_data"
    }
   ],
   "source": [
    "min.n.binom(0.99,-1)"
   ]
  },
  {
   "cell_type": "code",
   "execution_count": 31,
   "metadata": {
    "collapsed": false
   },
   "outputs": [
    {
     "data": {
      "text/html": [
       "2050"
      ],
      "text/latex": [
       "2050"
      ],
      "text/markdown": [
       "2050"
      ],
      "text/plain": [
       "[1] 2050"
      ]
     },
     "metadata": {},
     "output_type": "display_data"
    }
   ],
   "source": [
    "min.n.binom(0.95,-0.1)"
   ]
  },
  {
   "cell_type": "code",
   "execution_count": 22,
   "metadata": {
    "collapsed": true
   },
   "outputs": [],
   "source": [
    "min.n.norm <- function(p,x,x0=0,var=1,alpha=0.05){\n",
    "    n <- 2\n",
    "    repeat{\n",
    "        power <- power.norm(x,n=n,x0=x0,var=var,alpha=alpha)\n",
    "        if(power >= p)\n",
    "            return(n)\n",
    "        n <- n + 1\n",
    "    }\n",
    "}"
   ]
  },
  {
   "cell_type": "code",
   "execution_count": 32,
   "metadata": {
    "collapsed": false
   },
   "outputs": [
    {
     "data": {
      "text/html": [
       "37"
      ],
      "text/latex": [
       "37"
      ],
      "text/markdown": [
       "37"
      ],
      "text/plain": [
       "[1] 37"
      ]
     },
     "metadata": {},
     "output_type": "display_data"
    }
   ],
   "source": [
    "min.n.norm(0.95,-0.1)"
   ]
  },
  {
   "cell_type": "code",
   "execution_count": 33,
   "metadata": {
    "collapsed": false
   },
   "outputs": [
    {
     "data": {
      "text/html": [
       "8197"
      ],
      "text/latex": [
       "8197"
      ],
      "text/markdown": [
       "8197"
      ],
      "text/plain": [
       "[1] 8197"
      ]
     },
     "metadata": {},
     "output_type": "display_data"
    }
   ],
   "source": [
    "min.n.binom(0.95,-0.05)"
   ]
  },
  {
   "cell_type": "code",
   "execution_count": 34,
   "metadata": {
    "collapsed": false
   },
   "outputs": [
    {
     "data": {
      "text/html": [
       "73"
      ],
      "text/latex": [
       "73"
      ],
      "text/markdown": [
       "73"
      ],
      "text/plain": [
       "[1] 73"
      ]
     },
     "metadata": {},
     "output_type": "display_data"
    }
   ],
   "source": [
    "min.n.norm(0.95,-0.05)"
   ]
  },
  {
   "cell_type": "code",
   "execution_count": 35,
   "metadata": {
    "collapsed": false
   },
   "outputs": [
    {
     "data": {
      "text/html": [
       "204203"
      ],
      "text/latex": [
       "204203"
      ],
      "text/markdown": [
       "204203"
      ],
      "text/plain": [
       "[1] 204203"
      ]
     },
     "metadata": {},
     "output_type": "display_data"
    }
   ],
   "source": [
    "min.n.binom(0.95,-0.01)"
   ]
  },
  {
   "cell_type": "code",
   "execution_count": 36,
   "metadata": {
    "collapsed": false
   },
   "outputs": [
    {
     "data": {
      "text/html": [
       "361"
      ],
      "text/latex": [
       "361"
      ],
      "text/markdown": [
       "361"
      ],
      "text/plain": [
       "[1] 361"
      ]
     },
     "metadata": {},
     "output_type": "display_data"
    }
   ],
   "source": [
    "min.n.norm(0.95,-0.01)"
   ]
  },
  {
   "cell_type": "code",
   "execution_count": null,
   "metadata": {
    "collapsed": true
   },
   "outputs": [],
   "source": []
  }
 ],
 "metadata": {
  "kernelspec": {
   "display_name": "R 3.3",
   "language": "R",
   "name": "ir33"
  },
  "language_info": {
   "codemirror_mode": "r",
   "file_extension": ".r",
   "mimetype": "text/x-r-source",
   "name": "R",
   "pygments_lexer": "r",
   "version": "3.3.1"
  }
 },
 "nbformat": 4,
 "nbformat_minor": 0
}
