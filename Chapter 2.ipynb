{
 "cells": [
  {
   "cell_type": "markdown",
   "metadata": {},
   "source": [
    "# 单样本问题\n",
    "\n",
    "## 广义符号检验\n",
    "\n"
   ]
  },
  {
   "cell_type": "code",
   "execution_count": 1,
   "metadata": {
    "collapsed": false
   },
   "outputs": [],
   "source": [
    "dat <- c(27.8, 27.8, 29.1, 32.2, 32.7, 32.7, 36.4, 36.5, 37.5, 37.7, 38.8, 41.9, 45.2, 45.8,\n",
    "         46.0, 47.6, 48.2, 49.9, 51.8, 52.7, 54.9, 55.0, 55.3, 55.5, 58.2, 60.8, 62.7, 63.5,\n",
    "         64.6, 65.3, 65.3, 65.3, 65.4, 66.2, 66.7, 67.7, 71.2, 71.7, 73.9, 74.3, 74.5, 76.2,\n",
    "         76.6, 76.8, 77.7, 77.9, 79.1, 80.9, 81.0, 82.6, 85.7, 86.2, 86.4, 89.4, 89.5, 90.3,\n",
    "         90.8, 91.8, 92.8, 95.2, 97.5, 98.2, 99.1, 99.3, 100.0, 100.6, 104.1, 104.6, 105.0, 109.4, 122.4)"
   ]
  },
  {
   "cell_type": "code",
   "execution_count": 2,
   "metadata": {
    "collapsed": false
   },
   "outputs": [
    {
     "data": {
      "text/html": [
       "69.0619718309859"
      ],
      "text/latex": [
       "69.0619718309859"
      ],
      "text/markdown": [
       "69.0619718309859"
      ],
      "text/plain": [
       "[1] 69.06197"
      ]
     },
     "metadata": {},
     "output_type": "display_data"
    }
   ],
   "source": [
    "mean(dat)"
   ]
  },
  {
   "cell_type": "code",
   "execution_count": 3,
   "metadata": {
    "collapsed": false
   },
   "outputs": [
    {
     "data": {
      "text/html": [
       "23.4236227904175"
      ],
      "text/latex": [
       "23.4236227904175"
      ],
      "text/markdown": [
       "23.4236227904175"
      ],
      "text/plain": [
       "[1] 23.42362"
      ]
     },
     "metadata": {},
     "output_type": "display_data"
    }
   ],
   "source": [
    "sd(dat)"
   ]
  },
  {
   "cell_type": "code",
   "execution_count": 4,
   "metadata": {
    "collapsed": false
   },
   "outputs": [
    {
     "data": {
      "text/html": [
       "67.7"
      ],
      "text/latex": [
       "67.7"
      ],
      "text/markdown": [
       "67.7"
      ],
      "text/plain": [
       "[1] 67.7"
      ]
     },
     "metadata": {},
     "output_type": "display_data"
    }
   ],
   "source": [
    "median(dat)"
   ]
  },
  {
   "cell_type": "code",
   "execution_count": 5,
   "metadata": {
    "collapsed": false
   },
   "outputs": [
    {
     "data": {
      "text/html": [
       "71"
      ],
      "text/latex": [
       "71"
      ],
      "text/markdown": [
       "71"
      ],
      "text/plain": [
       "[1] 71"
      ]
     },
     "metadata": {},
     "output_type": "display_data"
    }
   ],
   "source": [
    "length(dat)"
   ]
  },
  {
   "cell_type": "code",
   "execution_count": 6,
   "metadata": {
    "collapsed": false,
    "scrolled": true
   },
   "outputs": [
    {
     "data": {
      "text/html": [
       "0.5"
      ],
      "text/latex": [
       "0.5"
      ],
      "text/markdown": [
       "0.5"
      ],
      "text/plain": [
       "[1] 0.5"
      ]
     },
     "metadata": {},
     "output_type": "display_data"
    }
   ],
   "source": [
    "pbinom(sum(dat<median(dat)),length(dat),0.5)"
   ]
  },
  {
   "cell_type": "markdown",
   "metadata": {},
   "source": [
    "样本中位数要大于我们要检验的中位数赋值，所以单侧检验中的备择假设可以设为我们给定的数小于中位数参数或者说中位数参数要大于我们给定的数。\n",
    "$$\n",
    "H_0: Q_{0.5}=64 \\\\\n",
    "H_1:Q_{0.5}>64\n",
    "$$\n",
    "\n",
    "回忆p值的意义，p值告诉我们更极端的区间的总概率，其实是指出如果以相等于p值的显著性水平来划分拒绝域（把更极端区间划为拒绝域），\n",
    "我们刚好可以拒绝原假设。但由于更依附假设检验，我们往往使用0.01,0.05,0.1中比p值大中最小的那个数提出命题“以显著性水平XXX拒绝”，\n",
    "其实是在说那个显著性水平划分的拒绝域要包含我们用p值划分的拒绝域，显然p值的点也落在那个拒绝域中，所以可以以那个显著性水平拒绝。\n",
    "总之，也许Fisher当初p值是以极端概率本身的意义出发的，但我们用p值其实一直都是作为临时构造假设检验的一种方法，因为如果极端概率\n",
    "或者说小似然概率有自然的定义的话，它则自然暗示一个自然的拒绝域划分。\n",
    "\n",
    "对于单侧检验来说，我们把拒绝域放在单边还是两边不影响原假设空间的势函数值，那么使得我们把它放在单边的原因其实是拒绝域上的势函数\n",
    "值总比双边式拒绝域要大。若设检验统计量为那种参数直接加噪声那种同空间情况，我们想检验参数是否大于某个数，则拒绝域中除逼近原假设\n",
    "的极限过程中的点势在两种拒绝域中的差别趋近于0以外，所有点都有势的差别。那么这个一致更优的检验当然会被我们所选择。\n",
    "\n",
    "对于上例，$Q_{0.5}$是分布的一个参数，我们在检验这个参数。之所以我们还能把它叫做非参数检验，是因为所有分布都有这个参数。而其他\n",
    "被叫做参数的东西，甚至普遍如一阶矩，都会发现有柯西分布这种恶心的分布会没有这个参数。\n",
    "\n",
    "既然备择假设空间是$Q_{0.5}>64$，那么也许有$Q_{0.5}=65$之类的...且慢，$Q_{0.5}=65$又意味着什么呢？在不引入总体分布的情况下，我们\n",
    "又怎么知道这个$1$的差别带来了(背后分布的参数的)什么变化呢？毕竟，我们要知道背后分布被分位数设定确定成什么样了，才能知道检验统计量\n",
    "——“小于64的数量”的分布，才能根据之前distribution-free 的原假设划分出的拒绝域算出此时的势函数的值。\n",
    "\n",
    "但也许我们并不需要势函数的确切值，显然，如果$Q_{0.5}>64$，则“小于64的数量”这一检验统计量相对$Q_{0.5}=64$有变小的趋势\n",
    "（也许可以形式的描述为在所有逆分布函数或分位数函数上，前者的函数值要小于后者的函数值）。所以为了在拒绝域有更大的势，我们就应该\n",
    "把拒绝域设到偏小的那个区间上。对这个问题而言，我们只需要求出小于64的数量的默认的左扫尾概率，即p值即可。然后可以用上面的方法\n",
    "利用p值临时构造拒绝域。"
   ]
  },
  {
   "cell_type": "code",
   "execution_count": 7,
   "metadata": {
    "collapsed": false
   },
   "outputs": [
    {
     "data": {
      "text/html": [
       "0.0479618157054121"
      ],
      "text/latex": [
       "0.0479618157054121"
      ],
      "text/markdown": [
       "0.0479618157054121"
      ],
      "text/plain": [
       "[1] 0.04796182"
      ]
     },
     "metadata": {},
     "output_type": "display_data"
    }
   ],
   "source": [
    "pbinom(sum(dat<64),length(dat),0.5)"
   ]
  },
  {
   "cell_type": "markdown",
   "metadata": {
    "collapsed": true
   },
   "source": [
    "对于检验\n",
    "\n",
    "$$\n",
    "H_0: Q_{0.25} = 64 \\\\\n",
    "H_1: Q_{0.25} < 64\n",
    "$$\n",
    "\n",
    "检验统计量指定为大于64的数量，备择假设空间有$Q_{0.25}=63$之类的点，这使所有背后总体左移，从而使检验统计量分布偏小。于是我们可以指定\n",
    "拒绝域为较小/偏左的区间。来使得统计量在假设参数在备择假设空间上时在拒绝域上有较大的概率，即较大的势。"
   ]
  },
  {
   "cell_type": "code",
   "execution_count": 8,
   "metadata": {
    "collapsed": false
   },
   "outputs": [
    {
     "data": {
      "text/html": [
       "0.0051518794920016"
      ],
      "text/latex": [
       "0.0051518794920016"
      ],
      "text/markdown": [
       "0.0051518794920016"
      ],
      "text/plain": [
       "[1] 0.005151879"
      ]
     },
     "metadata": {},
     "output_type": "display_data"
    }
   ],
   "source": [
    "pbinom(sum(dat>64),length(dat),0.75)"
   ]
  },
  {
   "cell_type": "markdown",
   "metadata": {},
   "source": [
    "也可以继续使用小于64的数量为检验统计量，此时背后分布左移使得检验统计量偏大，所以我们应该把拒绝域划到靠右那一边。\n",
    "看小于64数量在原假设下的右扫尾概率。"
   ]
  },
  {
   "cell_type": "code",
   "execution_count": 9,
   "metadata": {
    "collapsed": false
   },
   "outputs": [
    {
     "data": {
      "text/html": [
       "0.0051518794920016"
      ],
      "text/latex": [
       "0.0051518794920016"
      ],
      "text/markdown": [
       "0.0051518794920016"
      ],
      "text/plain": [
       "[1] 0.005151879"
      ]
     },
     "metadata": {},
     "output_type": "display_data"
    }
   ],
   "source": [
    "pbinom(sum(dat<64)-1,length(dat),0.25,lower.tail=FALSE)"
   ]
  },
  {
   "cell_type": "markdown",
   "metadata": {},
   "source": [
    "### 反转置信区间\n",
    "\n",
    "虽然一般是先确定假设空间划分后再选择检验统计量，划分统计量拒绝域，还可以搞出好几个检验统计量比较它们的功效。\n",
    "但反转置信区间方法却保持检验统计量不变，而去修改假设空间划分（主要修改简单原假设的赋值）。看检验统计量的实现值在\n",
    "这不同的假设下的p值。然后选择一个阈值，高于此阈值的点构成的区间即由此假设检验反转出的置信区间。\n",
    "\n",
    "我们可以先看如何反转出自正态分布样本的样本均值的假设检验，这个假设检验本身是利用样本均值统计量去检验参数是否为某一特值，\n",
    "即此参数设定下是否出现该样本均值统计量很不合理。我们试图找出那些“还算合理”的点组成置信区间。\n",
    "\n",
    "$$\n",
    "X \\sim N(\\mu,\\sigma^2) \\\\\n",
    "\\bar{X} \\sim N(\\mu,\\frac{\\sigma^2}{n}) \\\\\n",
    "\\frac{\\bar{x} - \\mu}{\\sigma/\\sqrt{n}} \\sim N(0,1)\n",
    "$$\n",
    "\n",
    "于是可以划分出“还能”接受域\n",
    "\n",
    "$$\n",
    "\\Phi^{-1}(\\alpha/2) < \\frac{\\bar{x} - \\mu}{\\sigma/\\sqrt{n}} < \\Phi^{-1}(1-\\alpha/2) \\\\\n",
    "-\\Phi^{-1}(\\alpha/2) \\frac{\\sigma}{\\sqrt{n}} < \\bar{x} - \\mu < \\Phi^{-1}(\\alpha/2) \\frac{\\sigma}{\\sqrt{n}} \\\\\n",
    "\\bar{x} -\\Phi^{-1}(\\alpha/2) \\frac{\\sigma}{\\sqrt{n}} < \\mu < \\bar{x} + \\Phi^{-1}(\\alpha/2) \\frac{\\sigma}{\\sqrt{n}}\n",
    "$$\n",
    "\n",
    "这和枢轴量法好像没什么区别。用更明显的反转角度看，不妨考虑设定在检验统计量左边的参数赋值，若使用双侧检验，参数在向左滑动时\n",
    "将在看检验统计量到$\\alpha/2$时达到阈值，以此为界右边到检验统计量的值是置信区间的左半部分。因为方差恒定，该分界点从参数设定为\n",
    "检验统计量所在点往左看的左扫尾概率是一样的。所以我们只需要求出$K$，使得\n",
    "\n",
    "$$\n",
    "T \\sim N(\\bar{X},\\sigma^2/n) \\\\\n",
    "P(T<K) = \\alpha/2\n",
    "$$\n",
    "\n",
    "此时$\\bar{x}$值已知。\n",
    "\n",
    "$$\n",
    "P( \\frac{T - \\bar{x}}{\\sigma/\\sqrt{n}} < \\frac{K - \\bar{x}}{\\sigma/\\sqrt{n}} ) = \\alpha/2 = \\Phi( \\frac{K - \\bar{x}}{\\sigma/\\sqrt{n}} ) \\\\\n",
    "\\Phi^{-1}(\\alpha/2) = \\frac{K - \\bar{x}}{\\sigma/\\sqrt{n}} \\\\\n",
    "K = \\Phi^{-1}(\\alpha/2)\\frac{\\sigma}{\\sqrt{n}} + \\bar{x} = \\bar{x} - \\Phi^{-1}(1-\\alpha/2)\\frac{\\sigma}{\\sqrt{n}}\n",
    "$$\n",
    "\n",
    "这正是我们要证明的。"
   ]
  },
  {
   "cell_type": "markdown",
   "metadata": {},
   "source": [
    "对于广义符号检验来说，我们却采用不同的假设时同时修改检验统计量，如设$Q_{0.5} = 10$时，检验统计量也同时改为“小于10的数量”，\n",
    "这样我们可以让各个假设下的分布相同。这个分布只取决于我们要检验的“q分位数”的q值。\n",
    "\n",
    "这看起来不太自然，似乎本来也可以不修改检验统计量，毕竟q分位数这些假设不同时，同一个检验统计量分布会改变，\n",
    "那么相同的检验统计量值就自然可以获得不同的p值。而按上面方法，我们却在不断修改检验统计量的值（在样本相同情况下修改检验统计量的算法）\n",
    "，然后保持在同一个分布内算出不同p值。这当然是因为非参数检验只有指定了分布才能用那个“自然的”方法，而我们就是要作出distribution-free的区间，\n",
    "当然也许可以证明在任意指定分布下都可以得到一样的区间，不过考虑到反推区间本身与统计量有关（越有效的统计量区间越小），这似乎不太可能。\n",
    "“自然”的方法也是推出势函数的方法，所以势函数必须有指定分布。有时错把“不自然方法”当成推出势函数的方法就会陷入思维混乱中不能自拔。\n",
    "\n",
    "无论如何，这种不自然反推法中我们可以专门指定各个样本中出现过的数去测试其是否“过于极端”，因为那些数之间的数是否算入区间中显然还是\n",
    "由两边的出现过的数所决定。具体来说，可以先把样本排序，然后按设定的q值直接以序号求出包含的两边。"
   ]
  },
  {
   "cell_type": "code",
   "execution_count": 10,
   "metadata": {
    "collapsed": true
   },
   "outputs": [],
   "source": [
    "binom.interval <- function(dat,q,alpha){\n",
    "    sort.dat <- sort(dat)\n",
    "    n <- length(dat)\n",
    "    left <- 0\n",
    "    repeat{\n",
    "        if(pbinom(left,n,q) > alpha/2)\n",
    "            break\n",
    "        left <- left + 1\n",
    "    }\n",
    "    right <- left\n",
    "    repeat{\n",
    "        if(pbinom(right,n,q) > 1-alpha/2)\n",
    "            break\n",
    "        right <- right + 1\n",
    "    }\n",
    "    #return(c(sort.dat[left],sort.dat[right+1])) # interval tend to big\n",
    "    return(c(sort.dat[left],sort.dat[right+1])) # interval tend to shrink\n",
    "}"
   ]
  },
  {
   "cell_type": "code",
   "execution_count": 11,
   "metadata": {
    "collapsed": false
   },
   "outputs": [
    {
     "data": {
      "text/html": [
       "<ol class=list-inline>\n",
       "\t<li>62.7</li>\n",
       "\t<li>77.7</li>\n",
       "</ol>\n"
      ],
      "text/latex": [
       "\\begin{enumerate*}\n",
       "\\item 62.7\n",
       "\\item 77.7\n",
       "\\end{enumerate*}\n"
      ],
      "text/markdown": [
       "1. 62.7\n",
       "2. 77.7\n",
       "\n",
       "\n"
      ],
      "text/plain": [
       "[1] 62.7 77.7"
      ]
     },
     "metadata": {},
     "output_type": "display_data"
    }
   ],
   "source": [
    "binom.interval(dat,0.5,0.05)"
   ]
  },
  {
   "cell_type": "code",
   "execution_count": 12,
   "metadata": {
    "collapsed": false
   },
   "outputs": [
    {
     "data": {
      "text/html": [
       "<ol class=list-inline>\n",
       "\t<li>38.8</li>\n",
       "\t<li>60.8</li>\n",
       "</ol>\n"
      ],
      "text/latex": [
       "\\begin{enumerate*}\n",
       "\\item 38.8\n",
       "\\item 60.8\n",
       "\\end{enumerate*}\n"
      ],
      "text/markdown": [
       "1. 38.8\n",
       "2. 60.8\n",
       "\n",
       "\n"
      ],
      "text/plain": [
       "[1] 38.8 60.8"
      ]
     },
     "metadata": {},
     "output_type": "display_data"
    }
   ],
   "source": [
    "binom.interval(dat,0.25,0.05)"
   ]
  },
  {
   "cell_type": "code",
   "execution_count": 13,
   "metadata": {
    "collapsed": false
   },
   "outputs": [],
   "source": [
    "dat2 <- c(1.00, 1.35, 1.99, 2.05, 2.06, 2.10, 2.30, 2.61, 2.86, 2.95, 2.98, 3.23, 3.73, 4.03, 4.82, 5.24,\n",
    "          6.10, 6.64, 6.81, 6.86, 7.11, 9.00)"
   ]
  },
  {
   "cell_type": "code",
   "execution_count": 14,
   "metadata": {
    "collapsed": false
   },
   "outputs": [
    {
     "data": {
      "text/html": [
       "<ol class=list-inline>\n",
       "\t<li>1.35</li>\n",
       "\t<li>2.98</li>\n",
       "</ol>\n"
      ],
      "text/latex": [
       "\\begin{enumerate*}\n",
       "\\item 1.35\n",
       "\\item 2.98\n",
       "\\end{enumerate*}\n"
      ],
      "text/markdown": [
       "1. 1.35\n",
       "2. 2.98\n",
       "\n",
       "\n"
      ],
      "text/plain": [
       "[1] 1.35 2.98"
      ]
     },
     "metadata": {},
     "output_type": "display_data"
    }
   ],
   "source": [
    "binom.interval(dat2,0.25,0.05)"
   ]
  },
  {
   "cell_type": "markdown",
   "metadata": {},
   "source": [
    "## Wilcoxon 符号秩检验\n",
    "\n",
    "Wilcoxon统计量基本出自这么一个思想，如果两个总体同分布（这两个总体可以是从一个总体里拉出来的，同分布性也可能是经过某种变换后的），\n",
    "则把它们混起来得到的求出的两个秩和应该同分布，而如果两者有位置上的差别，则会体现为倾向于出现相差很大的秩和观测值或者绝对值很大的\n",
    "秩和的差。检验秩和更小的那个是否过于偏离假设更常用，秩和差法无法自然地扩展到多总体上。假设成立（两总体相同）时单总体所获秩和服从\n",
    "的分布就是 Wilcoxon分布。\n",
    "\n",
    "我们先随便看看模拟出的wilcoxon分布是什么样的。下面进行1000次试验，每次试验生成A，B两服从标准正态分布的总体各100个数。\n",
    "记录A的各次秩和实现值"
   ]
  },
  {
   "cell_type": "code",
   "execution_count": 15,
   "metadata": {
    "collapsed": false
   },
   "outputs": [],
   "source": [
    "rank.sum <- c()\n",
    "\n",
    "for(i in 1:1000){\n",
    "    A <- rnorm(100)\n",
    "    B <- rnorm(100)\n",
    "    rs <- sum(rank(c(A,B))[1:100])\n",
    "    rank.sum <- c(rank.sum,rs)\n",
    "}"
   ]
  },
  {
   "cell_type": "code",
   "execution_count": 16,
   "metadata": {
    "collapsed": false
   },
   "outputs": [
    {
     "data": {
      "image/png": "[encoded data removed]",
      "text/plain": [
       "Plot with title \"Histogram of rank.sum\""
      ]
     },
     "metadata": {},
     "output_type": "display_data"
    }
   ],
   "source": [
    "hist(rank.sum)"
   ]
  },
  {
   "cell_type": "code",
   "execution_count": 17,
   "metadata": {
    "collapsed": true
   },
   "outputs": [],
   "source": [
    "# if not equal?\n",
    "rank.sum <- c() \n",
    "\n",
    "for(i in 1:1000){\n",
    "    A <- rnorm(100)\n",
    "    B <- rnorm(100,1,1)\n",
    "    rs <- sum(rank(c(A,B))[1:100])\n",
    "    rank.sum <- c(rank.sum,rs)\n",
    "}"
   ]
  },
  {
   "cell_type": "code",
   "execution_count": 18,
   "metadata": {
    "collapsed": false
   },
   "outputs": [
    {
     "data": {
      "image/png": "[encoded data removed]",
      "text/plain": [
       "Plot with title \"Histogram of rank.sum\""
      ]
     },
     "metadata": {},
     "output_type": "display_data"
    }
   ],
   "source": [
    "hist(rank.sum)"
   ]
  },
  {
   "cell_type": "code",
   "execution_count": 19,
   "metadata": {
    "collapsed": true
   },
   "outputs": [],
   "source": [
    "rank.sum <- c() \n",
    "\n",
    "for(i in 1:1000){\n",
    "    A <- runif(100)\n",
    "    B <- runif(100)\n",
    "    rs <- sum(rank(c(A,B))[1:100])\n",
    "    rank.sum <- c(rank.sum,rs)\n",
    "}"
   ]
  },
  {
   "cell_type": "code",
   "execution_count": 20,
   "metadata": {
    "collapsed": false
   },
   "outputs": [
    {
     "data": {
      "image/png": "[encoded data removed]",
      "text/plain": [
       "Plot with title \"Histogram of rank.sum\""
      ]
     },
     "metadata": {},
     "output_type": "display_data"
    }
   ],
   "source": [
    "hist(rank.sum)"
   ]
  },
  {
   "cell_type": "markdown",
   "metadata": {},
   "source": [
    "从上例可以看到对同总体时对分布不变性以及分布一旦改变就发生复杂变化的情况。以此可以构造一系列基于Wilcoxon统计量的检验\n",
    "\n",
    "### 符号秩检验\n",
    "\n",
    "我们想要检验一个出自对称总体的中位数是否为给定值。于是，假设成立时按落在那个值左右可以划分两个总体，且由对称性，\n",
    "它们对中位数的绝对差随机变量是同分布的。于是它们中的任一个的秩和就服从wilcox分布。归约成了上述一般问题。\n",
    "\n",
    "然而我们后面可以发现这种想法只能推出一种功效比较低的检验，真正的符号秩检验用了更多的信息。"
   ]
  },
  {
   "cell_type": "code",
   "execution_count": 21,
   "metadata": {
    "collapsed": true
   },
   "outputs": [],
   "source": [
    "EuroAlc <- c(4.12, 5.81, 7.63, 9.74, 10.39, 11.92, 12.32, 12.89, 13.54, 14.45)"
   ]
  },
  {
   "cell_type": "markdown",
   "metadata": {},
   "source": [
    "检验\n",
    "\n",
    "$$\n",
    "H_0:M=8 \\\\\n",
    "H_1:M>8\n",
    "$$"
   ]
  },
  {
   "cell_type": "code",
   "execution_count": 22,
   "metadata": {
    "collapsed": false
   },
   "outputs": [
    {
     "data": {
      "text/html": [
       "9"
      ],
      "text/latex": [
       "9"
      ],
      "text/markdown": [
       "9"
      ],
      "text/plain": [
       "[1] 9"
      ]
     },
     "metadata": {},
     "output_type": "display_data"
    }
   ],
   "source": [
    "\n",
    "rs <- sum((rank(abs(EuroAlc - 8)))[EuroAlc < 8])\n",
    "rs"
   ]
  },
  {
   "cell_type": "code",
   "execution_count": 23,
   "metadata": {
    "collapsed": false
   },
   "outputs": [
    {
     "data": {
      "text/html": [
       "55"
      ],
      "text/latex": [
       "55"
      ],
      "text/markdown": [
       "55"
      ],
      "text/plain": [
       "[1] 55"
      ]
     },
     "metadata": {},
     "output_type": "display_data"
    }
   ],
   "source": [
    "sum(rank(EuroAlc))"
   ]
  },
  {
   "cell_type": "code",
   "execution_count": 24,
   "metadata": {
    "collapsed": true
   },
   "outputs": [],
   "source": [
    "?pwilcox"
   ]
  },
  {
   "cell_type": "code",
   "execution_count": 25,
   "metadata": {
    "collapsed": false
   },
   "outputs": [
    {
     "data": {
      "text/html": [
       "<ol>\n",
       "\t<li><ol class=list-inline>\n",
       "\t<li>TRUE</li>\n",
       "\t<li>TRUE</li>\n",
       "\t<li>TRUE</li>\n",
       "\t<li>FALSE</li>\n",
       "\t<li>FALSE</li>\n",
       "\t<li>FALSE</li>\n",
       "\t<li>FALSE</li>\n",
       "\t<li>FALSE</li>\n",
       "\t<li>FALSE</li>\n",
       "\t<li>FALSE</li>\n",
       "</ol>\n",
       "</li>\n",
       "\t<li><ol class=list-inline>\n",
       "\t<li>FALSE</li>\n",
       "\t<li>FALSE</li>\n",
       "\t<li>FALSE</li>\n",
       "\t<li>TRUE</li>\n",
       "\t<li>TRUE</li>\n",
       "\t<li>TRUE</li>\n",
       "\t<li>TRUE</li>\n",
       "\t<li>TRUE</li>\n",
       "\t<li>TRUE</li>\n",
       "\t<li>TRUE</li>\n",
       "</ol>\n",
       "</li>\n",
       "\t<li>3</li>\n",
       "\t<li>7</li>\n",
       "</ol>\n"
      ],
      "text/latex": [
       "\\begin{enumerate}\n",
       "\\item \\begin{enumerate*}\n",
       "\\item TRUE\n",
       "\\item TRUE\n",
       "\\item TRUE\n",
       "\\item FALSE\n",
       "\\item FALSE\n",
       "\\item FALSE\n",
       "\\item FALSE\n",
       "\\item FALSE\n",
       "\\item FALSE\n",
       "\\item FALSE\n",
       "\\end{enumerate*}\n",
       "\n",
       "\\item \\begin{enumerate*}\n",
       "\\item FALSE\n",
       "\\item FALSE\n",
       "\\item FALSE\n",
       "\\item TRUE\n",
       "\\item TRUE\n",
       "\\item TRUE\n",
       "\\item TRUE\n",
       "\\item TRUE\n",
       "\\item TRUE\n",
       "\\item TRUE\n",
       "\\end{enumerate*}\n",
       "\n",
       "\\item 3\n",
       "\\item 7\n",
       "\\end{enumerate}\n"
      ],
      "text/markdown": [
       "1. 1. TRUE\n",
       "2. TRUE\n",
       "3. TRUE\n",
       "4. FALSE\n",
       "5. FALSE\n",
       "6. FALSE\n",
       "7. FALSE\n",
       "8. FALSE\n",
       "9. FALSE\n",
       "10. FALSE\n",
       "\n",
       "\n",
       "\n",
       "2. 1. FALSE\n",
       "2. FALSE\n",
       "3. FALSE\n",
       "4. TRUE\n",
       "5. TRUE\n",
       "6. TRUE\n",
       "7. TRUE\n",
       "8. TRUE\n",
       "9. TRUE\n",
       "10. TRUE\n",
       "\n",
       "\n",
       "\n",
       "3. 3\n",
       "4. 7\n",
       "\n",
       "\n"
      ],
      "text/plain": [
       "[[1]]\n",
       " [1]  TRUE  TRUE  TRUE FALSE FALSE FALSE FALSE FALSE FALSE FALSE\n",
       "\n",
       "[[2]]\n",
       " [1] FALSE FALSE FALSE  TRUE  TRUE  TRUE  TRUE  TRUE  TRUE  TRUE\n",
       "\n",
       "[[3]]\n",
       "[1] 3\n",
       "\n",
       "[[4]]\n",
       "[1] 7\n"
      ]
     },
     "metadata": {},
     "output_type": "display_data"
    }
   ],
   "source": [
    "left <- (EuroAlc - 8) < 0\n",
    "right <- (EuroAlc - 8) > 0\n",
    "list(left,right,sum(left),sum(right))"
   ]
  },
  {
   "cell_type": "code",
   "execution_count": 26,
   "metadata": {
    "collapsed": false
   },
   "outputs": [
    {
     "data": {
      "text/html": [
       "<ol>\n",
       "\t<li>9</li>\n",
       "\t<li>46</li>\n",
       "</ol>\n"
      ],
      "text/latex": [
       "\\begin{enumerate}\n",
       "\\item 9\n",
       "\\item 46\n",
       "\\end{enumerate}\n"
      ],
      "text/markdown": [
       "1. 9\n",
       "2. 46\n",
       "\n",
       "\n"
      ],
      "text/plain": [
       "[[1]]\n",
       "[1] 9\n",
       "\n",
       "[[2]]\n",
       "[1] 46\n"
      ]
     },
     "metadata": {},
     "output_type": "display_data"
    }
   ],
   "source": [
    "left.rank <- sum(rank(abs(EuroAlc - 8))[left])\n",
    "right.rank <- sum(rank(abs(EuroAlc-8))[right])\n",
    "list(left.rank,right.rank)"
   ]
  },
  {
   "cell_type": "code",
   "execution_count": 27,
   "metadata": {
    "collapsed": false
   },
   "outputs": [
    {
     "data": {
      "text/html": [
       "0.416666666666667"
      ],
      "text/latex": [
       "0.416666666666667"
      ],
      "text/markdown": [
       "0.416666666666667"
      ],
      "text/plain": [
       "[1] 0.4166667"
      ]
     },
     "metadata": {},
     "output_type": "display_data"
    }
   ],
   "source": [
    "pwilcox(9,3,7)"
   ]
  },
  {
   "cell_type": "code",
   "execution_count": 28,
   "metadata": {
    "collapsed": false
   },
   "outputs": [
    {
     "data": {
      "text/plain": [
       "\n",
       "\tWilcoxon signed rank test\n",
       "\n",
       "data:  EuroAlc - 8\n",
       "V = 46, p-value = 0.03223\n",
       "alternative hypothesis: true location is greater than 0\n"
      ]
     },
     "metadata": {},
     "output_type": "display_data"
    }
   ],
   "source": [
    "wilcox.test(EuroAlc-8,alt=\"greater\")"
   ]
  },
  {
   "cell_type": "code",
   "execution_count": 29,
   "metadata": {
    "collapsed": false
   },
   "outputs": [
    {
     "data": {
      "text/html": [
       "0.0322265625"
      ],
      "text/latex": [
       "0.0322265625"
      ],
      "text/markdown": [
       "0.0322265625"
      ],
      "text/plain": [
       "[1] 0.03222656"
      ]
     },
     "metadata": {},
     "output_type": "display_data"
    }
   ],
   "source": [
    "psignrank(9,10)"
   ]
  },
  {
   "cell_type": "code",
   "execution_count": 30,
   "metadata": {
    "collapsed": false
   },
   "outputs": [
    {
     "data": {
      "text/html": [
       "0.171875"
      ],
      "text/latex": [
       "0.171875"
      ],
      "text/markdown": [
       "0.171875"
      ],
      "text/plain": [
       "[1] 0.171875"
      ]
     },
     "metadata": {},
     "output_type": "display_data"
    }
   ],
   "source": [
    "pbinom(3,10,0.5)\n"
   ]
  },
  {
   "cell_type": "markdown",
   "metadata": {},
   "source": [
    "我们应当注意到符号秩检验实际使用了两个信息，符号检验的二分类信息和分类内部的秩的信息。这使我们获得了0.03的p值\n",
    "而如果只使用符号检验，将只能获得0.17，而如果使用丢掉发生这种分类数量对比的原因的信息，把出现3,7看成出自两个独立总体，那么光通过秩信息\n",
    "只能获得0.41的p值（这个检验方法是后面的双样本位置检验的方法，只能说势比较低，并不是说无效）。\n",
    "\n",
    "符号秩为了同时利用两个信息，用了一些trick，即不按一般方法看成两个总体而看成一个总体（当然实际也是一个总体），\n",
    "那么在假设下我们实际可以转而以秩如何分配而不是组合如何得到秩来思考。显然，各秩如何分配到两组是互相独立的，我们可以求出$2^n$个组合，\n",
    "每个组合概率一样，而它们在一组的秩和就向那个秩和在分布列中贡献一份概率$1/2^n$。这与双总体情况是不一样的，在那里秩如何分配显然受到\n",
    "两组的样本规模有关。\n",
    "\n",
    "### 符号秩统计量的正态近似\n",
    "\n",
    "$$\n",
    "E(W) = \\frac{n(n+1)}{4} \\\\\n",
    "Var(W) = \\frac{n(n+1)(2n+1)}{24} \\\\\n",
    "Z = \\frac{W - n(n+1)/4}{\\sqrt{n(n+1)(2n+1)/24}} \\to N(0,1)\n",
    "$$"
   ]
  },
  {
   "cell_type": "code",
   "execution_count": 31,
   "metadata": {
    "collapsed": false
   },
   "outputs": [
    {
     "data": {
      "text/html": [
       "0.0296680599404543"
      ],
      "text/latex": [
       "0.0296680599404543"
      ],
      "text/markdown": [
       "0.0296680599404543"
      ],
      "text/plain": [
       "[1] 0.02966806"
      ]
     },
     "metadata": {},
     "output_type": "display_data"
    }
   ],
   "source": [
    "n <- 10\n",
    "W <- 9\n",
    "pnorm((W - n*(n+1)/4)/sqrt(n*(n+1)*(2*n+1)/24))"
   ]
  },
  {
   "cell_type": "markdown",
   "metadata": {},
   "source": [
    "Anyway, 近似本身并不保证总是保守或者激进之类的性质。\n",
    "\n",
    "### Walsh平均\n",
    "\n",
    "\n",
    "\n"
   ]
  },
  {
   "cell_type": "code",
   "execution_count": 32,
   "metadata": {
    "collapsed": false,
    "scrolled": true
   },
   "outputs": [
    {
     "data": {
      "text/html": [
       "<table>\n",
       "<tbody>\n",
       "\t<tr><td>4.120 </td><td> 4.965</td><td> 5.875</td><td> 6.930</td><td> 7.255</td><td> 8.020</td><td> 8.220</td><td> 8.505</td><td> 8.830</td><td> 9.285</td></tr>\n",
       "\t<tr><td>4.965 </td><td> 5.810</td><td> 6.720</td><td> 7.775</td><td> 8.100</td><td> 8.865</td><td> 9.065</td><td> 9.350</td><td> 9.675</td><td>10.130</td></tr>\n",
       "\t<tr><td>5.875 </td><td> 6.720</td><td> 7.630</td><td> 8.685</td><td> 9.010</td><td> 9.775</td><td> 9.975</td><td>10.260</td><td>10.585</td><td>11.040</td></tr>\n",
       "\t<tr><td>6.930 </td><td> 7.775</td><td> 8.685</td><td> 9.740</td><td>10.065</td><td>10.830</td><td>11.030</td><td>11.315</td><td>11.640</td><td>12.095</td></tr>\n",
       "\t<tr><td>7.255 </td><td> 8.100</td><td> 9.010</td><td>10.065</td><td>10.390</td><td>11.155</td><td>11.355</td><td>11.640</td><td>11.965</td><td>12.420</td></tr>\n",
       "\t<tr><td>8.020 </td><td> 8.865</td><td> 9.775</td><td>10.830</td><td>11.155</td><td>11.920</td><td>12.120</td><td>12.405</td><td>12.730</td><td>13.185</td></tr>\n",
       "\t<tr><td>8.220 </td><td> 9.065</td><td> 9.975</td><td>11.030</td><td>11.355</td><td>12.120</td><td>12.320</td><td>12.605</td><td>12.930</td><td>13.385</td></tr>\n",
       "\t<tr><td>8.505 </td><td> 9.350</td><td>10.260</td><td>11.315</td><td>11.640</td><td>12.405</td><td>12.605</td><td>12.890</td><td>13.215</td><td>13.670</td></tr>\n",
       "\t<tr><td>8.830 </td><td> 9.675</td><td>10.585</td><td>11.640</td><td>11.965</td><td>12.730</td><td>12.930</td><td>13.215</td><td>13.540</td><td>13.995</td></tr>\n",
       "\t<tr><td>9.285 </td><td>10.130</td><td>11.040</td><td>12.095</td><td>12.420</td><td>13.185</td><td>13.385</td><td>13.670</td><td>13.995</td><td>14.450</td></tr>\n",
       "</tbody>\n",
       "</table>\n"
      ],
      "text/latex": [
       "\\begin{tabular}{llllllllll}\n",
       "\t 4.120  &  4.965 &  5.875 &  6.930 &  7.255 &  8.020 &  8.220 &  8.505 &  8.830 &  9.285\\\\\n",
       "\t 4.965  &  5.810 &  6.720 &  7.775 &  8.100 &  8.865 &  9.065 &  9.350 &  9.675 & 10.130\\\\\n",
       "\t 5.875  &  6.720 &  7.630 &  8.685 &  9.010 &  9.775 &  9.975 & 10.260 & 10.585 & 11.040\\\\\n",
       "\t 6.930  &  7.775 &  8.685 &  9.740 & 10.065 & 10.830 & 11.030 & 11.315 & 11.640 & 12.095\\\\\n",
       "\t 7.255  &  8.100 &  9.010 & 10.065 & 10.390 & 11.155 & 11.355 & 11.640 & 11.965 & 12.420\\\\\n",
       "\t 8.020  &  8.865 &  9.775 & 10.830 & 11.155 & 11.920 & 12.120 & 12.405 & 12.730 & 13.185\\\\\n",
       "\t 8.220  &  9.065 &  9.975 & 11.030 & 11.355 & 12.120 & 12.320 & 12.605 & 12.930 & 13.385\\\\\n",
       "\t 8.505  &  9.350 & 10.260 & 11.315 & 11.640 & 12.405 & 12.605 & 12.890 & 13.215 & 13.670\\\\\n",
       "\t 8.830  &  9.675 & 10.585 & 11.640 & 11.965 & 12.730 & 12.930 & 13.215 & 13.540 & 13.995\\\\\n",
       "\t 9.285  & 10.130 & 11.040 & 12.095 & 12.420 & 13.185 & 13.385 & 13.670 & 13.995 & 14.450\\\\\n",
       "\\end{tabular}\n"
      ],
      "text/markdown": [
       "1. 4.12\n",
       "2. 4.965\n",
       "3. 5.875\n",
       "4. 6.93\n",
       "5. 7.255\n",
       "6. 8.02\n",
       "7. 8.22\n",
       "8. 8.505\n",
       "9. 8.83\n",
       "10. 9.285\n",
       "11. 4.965\n",
       "12. 5.81\n",
       "13. 6.72\n",
       "14. 7.775\n",
       "15. 8.1\n",
       "16. 8.865\n",
       "17. 9.065\n",
       "18. 9.35\n",
       "19. 9.675\n",
       "20. 10.13\n",
       "21. 5.875\n",
       "22. 6.72\n",
       "23. 7.63\n",
       "24. 8.685\n",
       "25. 9.01\n",
       "26. 9.775\n",
       "27. 9.975\n",
       "28. 10.26\n",
       "29. 10.585\n",
       "30. 11.04\n",
       "31. 6.93\n",
       "32. 7.775\n",
       "33. 8.685\n",
       "34. 9.74\n",
       "35. 10.065\n",
       "36. 10.83\n",
       "37. 11.03\n",
       "38. 11.315\n",
       "39. 11.64\n",
       "40. 12.095\n",
       "41. 7.255\n",
       "42. 8.1\n",
       "43. 9.01\n",
       "44. 10.065\n",
       "45. 10.39\n",
       "46. 11.155\n",
       "47. 11.355\n",
       "48. 11.64\n",
       "49. 11.965\n",
       "50. 12.42\n",
       "51. 8.02\n",
       "52. 8.865\n",
       "53. 9.775\n",
       "54. 10.83\n",
       "55. 11.155\n",
       "56. 11.92\n",
       "57. 12.12\n",
       "58. 12.405\n",
       "59. 12.73\n",
       "60. 13.185\n",
       "61. 8.22\n",
       "62. 9.065\n",
       "63. 9.975\n",
       "64. 11.03\n",
       "65. 11.355\n",
       "66. 12.12\n",
       "67. 12.32\n",
       "68. 12.605\n",
       "69. 12.93\n",
       "70. 13.385\n",
       "71. 8.505\n",
       "72. 9.35\n",
       "73. 10.26\n",
       "74. 11.315\n",
       "75. 11.64\n",
       "76. 12.405\n",
       "77. 12.605\n",
       "78. 12.89\n",
       "79. 13.215\n",
       "80. 13.67\n",
       "81. 8.83\n",
       "82. 9.675\n",
       "83. 10.585\n",
       "84. 11.64\n",
       "85. 11.965\n",
       "86. 12.73\n",
       "87. 12.93\n",
       "88. 13.215\n",
       "89. 13.54\n",
       "90. 13.995\n",
       "91. 9.285\n",
       "92. 10.13\n",
       "93. 11.04\n",
       "94. 12.095\n",
       "95. 12.42\n",
       "96. 13.185\n",
       "97. 13.385\n",
       "98. 13.67\n",
       "99. 13.995\n",
       "100. 14.45\n",
       "\n",
       "\n"
      ],
      "text/plain": [
       "      [,1]  [,2]   [,3]   [,4]   [,5]   [,6]   [,7]   [,8]   [,9]   [,10] \n",
       " [1,] 4.120  4.965  5.875  6.930  7.255  8.020  8.220  8.505  8.830  9.285\n",
       " [2,] 4.965  5.810  6.720  7.775  8.100  8.865  9.065  9.350  9.675 10.130\n",
       " [3,] 5.875  6.720  7.630  8.685  9.010  9.775  9.975 10.260 10.585 11.040\n",
       " [4,] 6.930  7.775  8.685  9.740 10.065 10.830 11.030 11.315 11.640 12.095\n",
       " [5,] 7.255  8.100  9.010 10.065 10.390 11.155 11.355 11.640 11.965 12.420\n",
       " [6,] 8.020  8.865  9.775 10.830 11.155 11.920 12.120 12.405 12.730 13.185\n",
       " [7,] 8.220  9.065  9.975 11.030 11.355 12.120 12.320 12.605 12.930 13.385\n",
       " [8,] 8.505  9.350 10.260 11.315 11.640 12.405 12.605 12.890 13.215 13.670\n",
       " [9,] 8.830  9.675 10.585 11.640 11.965 12.730 12.930 13.215 13.540 13.995\n",
       "[10,] 9.285 10.130 11.040 12.095 12.420 13.185 13.385 13.670 13.995 14.450"
      ]
     },
     "metadata": {},
     "output_type": "display_data"
    }
   ],
   "source": [
    "mat <- outer(EuroAlc,EuroAlc,'+')/2\n",
    "mat"
   ]
  },
  {
   "cell_type": "code",
   "execution_count": 63,
   "metadata": {
    "collapsed": false
   },
   "outputs": [
    {
     "data": {
      "text/html": [
       "<ol class=list-inline>\n",
       "\t<li>4.12</li>\n",
       "\t<li>4.965</li>\n",
       "\t<li>5.81</li>\n",
       "\t<li>5.875</li>\n",
       "\t<li>6.72</li>\n",
       "\t<li>6.93</li>\n",
       "\t<li>7.255</li>\n",
       "\t<li>7.63</li>\n",
       "\t<li>7.775</li>\n",
       "\t<li>8.02</li>\n",
       "\t<li>8.1</li>\n",
       "\t<li>8.22</li>\n",
       "\t<li>8.505</li>\n",
       "\t<li>8.685</li>\n",
       "\t<li>8.83</li>\n",
       "\t<li>8.865</li>\n",
       "\t<li>9.01</li>\n",
       "\t<li>9.065</li>\n",
       "\t<li>9.285</li>\n",
       "\t<li>9.35</li>\n",
       "\t<li>9.675</li>\n",
       "\t<li>9.74</li>\n",
       "\t<li>9.775</li>\n",
       "\t<li>9.975</li>\n",
       "\t<li>10.065</li>\n",
       "\t<li>10.13</li>\n",
       "\t<li>10.26</li>\n",
       "\t<li>10.39</li>\n",
       "\t<li>10.585</li>\n",
       "\t<li>10.83</li>\n",
       "\t<li>11.03</li>\n",
       "\t<li>11.04</li>\n",
       "\t<li>11.155</li>\n",
       "\t<li>11.315</li>\n",
       "\t<li>11.355</li>\n",
       "\t<li>11.64</li>\n",
       "\t<li>11.64</li>\n",
       "\t<li>11.92</li>\n",
       "\t<li>11.965</li>\n",
       "\t<li>12.095</li>\n",
       "\t<li>12.12</li>\n",
       "\t<li>12.32</li>\n",
       "\t<li>12.405</li>\n",
       "\t<li>12.42</li>\n",
       "\t<li>12.605</li>\n",
       "\t<li>12.73</li>\n",
       "\t<li>12.89</li>\n",
       "\t<li>12.93</li>\n",
       "\t<li>13.185</li>\n",
       "\t<li>13.215</li>\n",
       "\t<li>13.385</li>\n",
       "\t<li>13.54</li>\n",
       "\t<li>13.67</li>\n",
       "\t<li>13.995</li>\n",
       "\t<li>14.45</li>\n",
       "</ol>\n"
      ],
      "text/latex": [
       "\\begin{enumerate*}\n",
       "\\item 4.12\n",
       "\\item 4.965\n",
       "\\item 5.81\n",
       "\\item 5.875\n",
       "\\item 6.72\n",
       "\\item 6.93\n",
       "\\item 7.255\n",
       "\\item 7.63\n",
       "\\item 7.775\n",
       "\\item 8.02\n",
       "\\item 8.1\n",
       "\\item 8.22\n",
       "\\item 8.505\n",
       "\\item 8.685\n",
       "\\item 8.83\n",
       "\\item 8.865\n",
       "\\item 9.01\n",
       "\\item 9.065\n",
       "\\item 9.285\n",
       "\\item 9.35\n",
       "\\item 9.675\n",
       "\\item 9.74\n",
       "\\item 9.775\n",
       "\\item 9.975\n",
       "\\item 10.065\n",
       "\\item 10.13\n",
       "\\item 10.26\n",
       "\\item 10.39\n",
       "\\item 10.585\n",
       "\\item 10.83\n",
       "\\item 11.03\n",
       "\\item 11.04\n",
       "\\item 11.155\n",
       "\\item 11.315\n",
       "\\item 11.355\n",
       "\\item 11.64\n",
       "\\item 11.64\n",
       "\\item 11.92\n",
       "\\item 11.965\n",
       "\\item 12.095\n",
       "\\item 12.12\n",
       "\\item 12.32\n",
       "\\item 12.405\n",
       "\\item 12.42\n",
       "\\item 12.605\n",
       "\\item 12.73\n",
       "\\item 12.89\n",
       "\\item 12.93\n",
       "\\item 13.185\n",
       "\\item 13.215\n",
       "\\item 13.385\n",
       "\\item 13.54\n",
       "\\item 13.67\n",
       "\\item 13.995\n",
       "\\item 14.45\n",
       "\\end{enumerate*}\n"
      ],
      "text/markdown": [
       "1. 4.12\n",
       "2. 4.965\n",
       "3. 5.81\n",
       "4. 5.875\n",
       "5. 6.72\n",
       "6. 6.93\n",
       "7. 7.255\n",
       "8. 7.63\n",
       "9. 7.775\n",
       "10. 8.02\n",
       "11. 8.1\n",
       "12. 8.22\n",
       "13. 8.505\n",
       "14. 8.685\n",
       "15. 8.83\n",
       "16. 8.865\n",
       "17. 9.01\n",
       "18. 9.065\n",
       "19. 9.285\n",
       "20. 9.35\n",
       "21. 9.675\n",
       "22. 9.74\n",
       "23. 9.775\n",
       "24. 9.975\n",
       "25. 10.065\n",
       "26. 10.13\n",
       "27. 10.26\n",
       "28. 10.39\n",
       "29. 10.585\n",
       "30. 10.83\n",
       "31. 11.03\n",
       "32. 11.04\n",
       "33. 11.155\n",
       "34. 11.315\n",
       "35. 11.355\n",
       "36. 11.64\n",
       "37. 11.64\n",
       "38. 11.92\n",
       "39. 11.965\n",
       "40. 12.095\n",
       "41. 12.12\n",
       "42. 12.32\n",
       "43. 12.405\n",
       "44. 12.42\n",
       "45. 12.605\n",
       "46. 12.73\n",
       "47. 12.89\n",
       "48. 12.93\n",
       "49. 13.185\n",
       "50. 13.215\n",
       "51. 13.385\n",
       "52. 13.54\n",
       "53. 13.67\n",
       "54. 13.995\n",
       "55. 14.45\n",
       "\n",
       "\n"
      ],
      "text/plain": [
       " [1]  4.120  4.965  5.810  5.875  6.720  6.930  7.255  7.630  7.775  8.020\n",
       "[11]  8.100  8.220  8.505  8.685  8.830  8.865  9.010  9.065  9.285  9.350\n",
       "[21]  9.675  9.740  9.775  9.975 10.065 10.130 10.260 10.390 10.585 10.830\n",
       "[31] 11.030 11.040 11.155 11.315 11.355 11.640 11.640 11.920 11.965 12.095\n",
       "[41] 12.120 12.320 12.405 12.420 12.605 12.730 12.890 12.930 13.185 13.215\n",
       "[51] 13.385 13.540 13.670 13.995 14.450"
      ]
     },
     "metadata": {},
     "output_type": "display_data"
    }
   ],
   "source": [
    "# wals average didn't get same result twice. We take triangle part only.\n",
    "wal <- c()\n",
    "for(i in 1:10){\n",
    "    for(j in i:10){\n",
    "        wal <- c(wal, (EuroAlc[i]+EuroAlc[j])/2 )\n",
    "    }\n",
    "}\n",
    "wal <- sort(wal)\n",
    "wal"
   ]
  },
  {
   "cell_type": "code",
   "execution_count": 64,
   "metadata": {
    "collapsed": false
   },
   "outputs": [
    {
     "data": {
      "text/html": [
       "10.39"
      ],
      "text/latex": [
       "10.39"
      ],
      "text/markdown": [
       "10.39"
      ],
      "text/plain": [
       "[1] 10.39"
      ]
     },
     "metadata": {},
     "output_type": "display_data"
    }
   ],
   "source": [
    "median(wal)"
   ]
  },
  {
   "cell_type": "code",
   "execution_count": 65,
   "metadata": {
    "collapsed": false
   },
   "outputs": [
    {
     "data": {
      "text/html": [
       "10.26"
      ],
      "text/latex": [
       "10.26"
      ],
      "text/markdown": [
       "10.26"
      ],
      "text/plain": [
       "[1] 10.26"
      ]
     },
     "metadata": {},
     "output_type": "display_data"
    }
   ],
   "source": [
    "sort(wal)[length(wal)/2]"
   ]
  },
  {
   "cell_type": "code",
   "execution_count": 66,
   "metadata": {
    "collapsed": false
   },
   "outputs": [
    {
     "data": {
      "text/html": [
       "10.39"
      ],
      "text/latex": [
       "10.39"
      ],
      "text/markdown": [
       "10.39"
      ],
      "text/plain": [
       "[1] 10.39"
      ]
     },
     "metadata": {},
     "output_type": "display_data"
    }
   ],
   "source": [
    "sort(wal)[length(wal)/2+1]"
   ]
  },
  {
   "cell_type": "code",
   "execution_count": 67,
   "metadata": {
    "collapsed": false
   },
   "outputs": [
    {
     "data": {
      "text/html": [
       "11.155"
      ],
      "text/latex": [
       "11.155"
      ],
      "text/markdown": [
       "11.155"
      ],
      "text/plain": [
       "[1] 11.155"
      ]
     },
     "metadata": {},
     "output_type": "display_data"
    }
   ],
   "source": [
    "median(EuroAlc)"
   ]
  },
  {
   "cell_type": "code",
   "execution_count": 68,
   "metadata": {
    "collapsed": false
   },
   "outputs": [
    {
     "data": {
      "text/html": [
       "11.155"
      ],
      "text/latex": [
       "11.155"
      ],
      "text/markdown": [
       "11.155"
      ],
      "text/plain": [
       "[1] 11.155"
      ]
     },
     "metadata": {},
     "output_type": "display_data"
    },
    {
     "data": {
      "text/html": [
       "10.325"
      ],
      "text/latex": [
       "10.325"
      ],
      "text/markdown": [
       "10.325"
      ],
      "text/plain": [
       "[1] 10.325"
      ]
     },
     "metadata": {},
     "output_type": "display_data"
    },
    {
     "data": {
      "text/html": [
       "10.375"
      ],
      "text/latex": [
       "10.375"
      ],
      "text/markdown": [
       "10.375"
      ],
      "text/plain": [
       "[1] 10.375"
      ]
     },
     "metadata": {},
     "output_type": "display_data"
    }
   ],
   "source": [
    "walsh <- function(dat){\n",
    "    return(as.vector(outer(dat,dat,'+')/2))\n",
    "}\n",
    "\n",
    "median(EuroAlc)\n",
    "median(walsh(EuroAlc))\n",
    "median(walsh(walsh(EuroAlc)))\n",
    "# median(walsh(walsh(walsh(EuroAlc)))) I can't expect the size cost in memory. Right, it's obvious."
   ]
  },
  {
   "cell_type": "markdown",
   "metadata": {},
   "source": [
    "直接在Wilcoxon秩和统计量（signrank）上套用符号检验的方法反推置信区间有一些问题，不妨假想我们在从中间往左滑动，\n",
    "每次都同时修改假设的中位数和检验统计量，如此我们就可以获得同分布但不同的检验统计量的实现值，以及不同的左扫尾p值。\n",
    "然而每一步中，统计量可能以跳过几个整数的方式移动，因为检验统计量的值每次变化是因为一个数加入或退出所指定的集合，\n",
    "这个数对统计量一次性加上它自己的绝对差秩数，该数一般不等于1。这与符号检验情况不同，\n",
    "符号检验中检验统计量变化也因为数的加入或退出，但每次只变1.但是始终如一的那个signrank分布的拒绝域却明确指定在两个特定的整数点上，\n",
    "如果按离那两个整数点最近的可选点（用游历各个样本数值能得到的点）之类的原则定出数值置信区间的话，相比符号检验的+-1式误差。\n",
    "未免太大了一些。\n",
    "\n",
    "比如在EuroAlc例中，我们有10个数，故两组的秩和统计量单独来看的取值范围都是1到55。用`qsignrank`算出的接受域是[9,46]。但是既然一共只有\n",
    "10个数，我们实际只能取55个数中10个数作为分界点，然后从分界点中选出两个构成作为[9,46]的近似，再得到这两个分界点对应数值构成的数值区间。\n",
    "这看起来简直有比符号检验还大的误差。\n",
    "\n",
    "我们照这个做法试一下"
   ]
  },
  {
   "cell_type": "code",
   "execution_count": 40,
   "metadata": {
    "collapsed": false
   },
   "outputs": [
    {
     "data": {
      "text/html": [
       "<ol class=list-inline>\n",
       "\t<li>4.12</li>\n",
       "\t<li>5.81</li>\n",
       "\t<li>7.63</li>\n",
       "\t<li>9.74</li>\n",
       "\t<li>10.39</li>\n",
       "\t<li>11.92</li>\n",
       "\t<li>12.32</li>\n",
       "\t<li>12.89</li>\n",
       "\t<li>13.54</li>\n",
       "\t<li>14.45</li>\n",
       "</ol>\n"
      ],
      "text/latex": [
       "\\begin{enumerate*}\n",
       "\\item 4.12\n",
       "\\item 5.81\n",
       "\\item 7.63\n",
       "\\item 9.74\n",
       "\\item 10.39\n",
       "\\item 11.92\n",
       "\\item 12.32\n",
       "\\item 12.89\n",
       "\\item 13.54\n",
       "\\item 14.45\n",
       "\\end{enumerate*}\n"
      ],
      "text/markdown": [
       "1. 4.12\n",
       "2. 5.81\n",
       "3. 7.63\n",
       "4. 9.74\n",
       "5. 10.39\n",
       "6. 11.92\n",
       "7. 12.32\n",
       "8. 12.89\n",
       "9. 13.54\n",
       "10. 14.45\n",
       "\n",
       "\n"
      ],
      "text/plain": [
       " [1]  4.12  5.81  7.63  9.74 10.39 11.92 12.32 12.89 13.54 14.45"
      ]
     },
     "metadata": {},
     "output_type": "display_data"
    }
   ],
   "source": [
    "EuroAlc"
   ]
  },
  {
   "cell_type": "code",
   "execution_count": 42,
   "metadata": {
    "collapsed": false
   },
   "outputs": [
    {
     "data": {
      "text/html": [
       "9"
      ],
      "text/latex": [
       "9"
      ],
      "text/markdown": [
       "9"
      ],
      "text/plain": [
       "[1] 9"
      ]
     },
     "metadata": {},
     "output_type": "display_data"
    }
   ],
   "source": [
    "qsignrank(0.025,10)"
   ]
  },
  {
   "cell_type": "code",
   "execution_count": 44,
   "metadata": {
    "collapsed": false
   },
   "outputs": [
    {
     "data": {
      "text/html": [
       "46"
      ],
      "text/latex": [
       "46"
      ],
      "text/markdown": [
       "46"
      ],
      "text/plain": [
       "[1] 46"
      ]
     },
     "metadata": {},
     "output_type": "display_data"
    }
   ],
   "source": [
    "qsignrank(0.975,10)"
   ]
  },
  {
   "cell_type": "code",
   "execution_count": 47,
   "metadata": {
    "collapsed": false
   },
   "outputs": [
    {
     "data": {
      "text/html": [
       "<ol class=list-inline>\n",
       "\t<li>0</li>\n",
       "\t<li>2</li>\n",
       "\t<li>7</li>\n",
       "\t<li>21</li>\n",
       "\t<li>27</li>\n",
       "\t<li>37</li>\n",
       "\t<li>41</li>\n",
       "\t<li>46</li>\n",
       "\t<li>51</li>\n",
       "\t<li>54</li>\n",
       "</ol>\n"
      ],
      "text/latex": [
       "\\begin{enumerate*}\n",
       "\\item 0\n",
       "\\item 2\n",
       "\\item 7\n",
       "\\item 21\n",
       "\\item 27\n",
       "\\item 37\n",
       "\\item 41\n",
       "\\item 46\n",
       "\\item 51\n",
       "\\item 54\n",
       "\\end{enumerate*}\n"
      ],
      "text/markdown": [
       "1. 0\n",
       "2. 2\n",
       "3. 7\n",
       "4. 21\n",
       "5. 27\n",
       "6. 37\n",
       "7. 41\n",
       "8. 46\n",
       "9. 51\n",
       "10. 54\n",
       "\n",
       "\n"
      ],
      "text/plain": [
       " [1]  0  2  7 21 27 37 41 46 51 54"
      ]
     },
     "metadata": {},
     "output_type": "display_data"
    }
   ],
   "source": [
    "avaiable <- c()\n",
    "for(M in EuroAlc){\n",
    "    avaiable <- c(avaiable,sum(rank(abs(EuroAlc - M))[EuroAlc<M]))\n",
    "}\n",
    "avaiable"
   ]
  },
  {
   "cell_type": "code",
   "execution_count": 50,
   "metadata": {
    "collapsed": false
   },
   "outputs": [
    {
     "data": {
      "text/html": [
       "7.63"
      ],
      "text/latex": [
       "7.63"
      ],
      "text/markdown": [
       "7.63"
      ],
      "text/plain": [
       "[1] 7.63"
      ]
     },
     "metadata": {},
     "output_type": "display_data"
    }
   ],
   "source": [
    "EuroAlc[avaiable == 7]"
   ]
  },
  {
   "cell_type": "code",
   "execution_count": 51,
   "metadata": {
    "collapsed": false
   },
   "outputs": [
    {
     "data": {
      "text/html": [
       "12.89"
      ],
      "text/latex": [
       "12.89"
      ],
      "text/markdown": [
       "12.89"
      ],
      "text/plain": [
       "[1] 12.89"
      ]
     },
     "metadata": {},
     "output_type": "display_data"
    }
   ],
   "source": [
    "EuroAlc[avaiable == 46]"
   ]
  },
  {
   "cell_type": "markdown",
   "metadata": {},
   "source": [
    "很幸运，46刚好可以取到，这里我们直接无视了+-1式细节问题。但9却只能取隔了两个整数的7对应的12.89.可以设想也许这个差距可能更大。\n",
    "缓解这个问题的方式之一就是利用上面的walsh平均。并不是直接在walsh平均上重跑一边这个流程更细粒化的区间。当然我们可以试一试那样会得到什么。"
   ]
  },
  {
   "cell_type": "code",
   "execution_count": 69,
   "metadata": {
    "collapsed": false
   },
   "outputs": [
    {
     "data": {
      "text/html": [
       "<ol class=list-inline>\n",
       "\t<li>4.12</li>\n",
       "\t<li>4.965</li>\n",
       "\t<li>5.81</li>\n",
       "\t<li>5.875</li>\n",
       "\t<li>6.72</li>\n",
       "\t<li>6.93</li>\n",
       "\t<li>7.255</li>\n",
       "\t<li>7.63</li>\n",
       "\t<li>7.775</li>\n",
       "\t<li>8.02</li>\n",
       "\t<li>8.1</li>\n",
       "\t<li>8.22</li>\n",
       "\t<li>8.505</li>\n",
       "\t<li>8.685</li>\n",
       "\t<li>8.83</li>\n",
       "\t<li>8.865</li>\n",
       "\t<li>9.01</li>\n",
       "\t<li>9.065</li>\n",
       "\t<li>9.285</li>\n",
       "\t<li>9.35</li>\n",
       "\t<li>9.675</li>\n",
       "\t<li>9.74</li>\n",
       "\t<li>9.775</li>\n",
       "\t<li>9.975</li>\n",
       "\t<li>10.065</li>\n",
       "\t<li>10.13</li>\n",
       "\t<li>10.26</li>\n",
       "\t<li>10.39</li>\n",
       "\t<li>10.585</li>\n",
       "\t<li>10.83</li>\n",
       "\t<li>11.03</li>\n",
       "\t<li>11.04</li>\n",
       "\t<li>11.155</li>\n",
       "\t<li>11.315</li>\n",
       "\t<li>11.355</li>\n",
       "\t<li>11.64</li>\n",
       "\t<li>11.64</li>\n",
       "\t<li>11.92</li>\n",
       "\t<li>11.965</li>\n",
       "\t<li>12.095</li>\n",
       "\t<li>12.12</li>\n",
       "\t<li>12.32</li>\n",
       "\t<li>12.405</li>\n",
       "\t<li>12.42</li>\n",
       "\t<li>12.605</li>\n",
       "\t<li>12.73</li>\n",
       "\t<li>12.89</li>\n",
       "\t<li>12.93</li>\n",
       "\t<li>13.185</li>\n",
       "\t<li>13.215</li>\n",
       "\t<li>13.385</li>\n",
       "\t<li>13.54</li>\n",
       "\t<li>13.67</li>\n",
       "\t<li>13.995</li>\n",
       "\t<li>14.45</li>\n",
       "</ol>\n"
      ],
      "text/latex": [
       "\\begin{enumerate*}\n",
       "\\item 4.12\n",
       "\\item 4.965\n",
       "\\item 5.81\n",
       "\\item 5.875\n",
       "\\item 6.72\n",
       "\\item 6.93\n",
       "\\item 7.255\n",
       "\\item 7.63\n",
       "\\item 7.775\n",
       "\\item 8.02\n",
       "\\item 8.1\n",
       "\\item 8.22\n",
       "\\item 8.505\n",
       "\\item 8.685\n",
       "\\item 8.83\n",
       "\\item 8.865\n",
       "\\item 9.01\n",
       "\\item 9.065\n",
       "\\item 9.285\n",
       "\\item 9.35\n",
       "\\item 9.675\n",
       "\\item 9.74\n",
       "\\item 9.775\n",
       "\\item 9.975\n",
       "\\item 10.065\n",
       "\\item 10.13\n",
       "\\item 10.26\n",
       "\\item 10.39\n",
       "\\item 10.585\n",
       "\\item 10.83\n",
       "\\item 11.03\n",
       "\\item 11.04\n",
       "\\item 11.155\n",
       "\\item 11.315\n",
       "\\item 11.355\n",
       "\\item 11.64\n",
       "\\item 11.64\n",
       "\\item 11.92\n",
       "\\item 11.965\n",
       "\\item 12.095\n",
       "\\item 12.12\n",
       "\\item 12.32\n",
       "\\item 12.405\n",
       "\\item 12.42\n",
       "\\item 12.605\n",
       "\\item 12.73\n",
       "\\item 12.89\n",
       "\\item 12.93\n",
       "\\item 13.185\n",
       "\\item 13.215\n",
       "\\item 13.385\n",
       "\\item 13.54\n",
       "\\item 13.67\n",
       "\\item 13.995\n",
       "\\item 14.45\n",
       "\\end{enumerate*}\n"
      ],
      "text/markdown": [
       "1. 4.12\n",
       "2. 4.965\n",
       "3. 5.81\n",
       "4. 5.875\n",
       "5. 6.72\n",
       "6. 6.93\n",
       "7. 7.255\n",
       "8. 7.63\n",
       "9. 7.775\n",
       "10. 8.02\n",
       "11. 8.1\n",
       "12. 8.22\n",
       "13. 8.505\n",
       "14. 8.685\n",
       "15. 8.83\n",
       "16. 8.865\n",
       "17. 9.01\n",
       "18. 9.065\n",
       "19. 9.285\n",
       "20. 9.35\n",
       "21. 9.675\n",
       "22. 9.74\n",
       "23. 9.775\n",
       "24. 9.975\n",
       "25. 10.065\n",
       "26. 10.13\n",
       "27. 10.26\n",
       "28. 10.39\n",
       "29. 10.585\n",
       "30. 10.83\n",
       "31. 11.03\n",
       "32. 11.04\n",
       "33. 11.155\n",
       "34. 11.315\n",
       "35. 11.355\n",
       "36. 11.64\n",
       "37. 11.64\n",
       "38. 11.92\n",
       "39. 11.965\n",
       "40. 12.095\n",
       "41. 12.12\n",
       "42. 12.32\n",
       "43. 12.405\n",
       "44. 12.42\n",
       "45. 12.605\n",
       "46. 12.73\n",
       "47. 12.89\n",
       "48. 12.93\n",
       "49. 13.185\n",
       "50. 13.215\n",
       "51. 13.385\n",
       "52. 13.54\n",
       "53. 13.67\n",
       "54. 13.995\n",
       "55. 14.45\n",
       "\n",
       "\n"
      ],
      "text/plain": [
       " [1]  4.120  4.965  5.810  5.875  6.720  6.930  7.255  7.630  7.775  8.020\n",
       "[11]  8.100  8.220  8.505  8.685  8.830  8.865  9.010  9.065  9.285  9.350\n",
       "[21]  9.675  9.740  9.775  9.975 10.065 10.130 10.260 10.390 10.585 10.830\n",
       "[31] 11.030 11.040 11.155 11.315 11.355 11.640 11.640 11.920 11.965 12.095\n",
       "[41] 12.120 12.320 12.405 12.420 12.605 12.730 12.890 12.930 13.185 13.215\n",
       "[51] 13.385 13.540 13.670 13.995 14.450"
      ]
     },
     "metadata": {},
     "output_type": "display_data"
    }
   ],
   "source": [
    "walshed <- wal #sort(wal) `sort` is not required after some defination modify.\n",
    "walshed"
   ]
  },
  {
   "cell_type": "code",
   "execution_count": 70,
   "metadata": {
    "collapsed": true
   },
   "outputs": [],
   "source": [
    "ava <- c()\n",
    "for(M in walshed){\n",
    "    ava <- c(ava,sum(rank(abs(walshed - M))[walshed < M]))\n",
    "}"
   ]
  },
  {
   "cell_type": "code",
   "execution_count": 71,
   "metadata": {
    "collapsed": false
   },
   "outputs": [
    {
     "data": {
      "text/html": [
       "<ol class=list-inline>\n",
       "\t<li>0</li>\n",
       "\t<li>2.5</li>\n",
       "\t<li>10</li>\n",
       "\t<li>13.5</li>\n",
       "\t<li>39.5</li>\n",
       "\t<li>52</li>\n",
       "\t<li>76</li>\n",
       "\t<li>112</li>\n",
       "\t<li>128</li>\n",
       "\t<li>160</li>\n",
       "\t<li>171</li>\n",
       "\t<li>189</li>\n",
       "\t<li>243</li>\n",
       "\t<li>280</li>\n",
       "\t<li>308</li>\n",
       "\t<li>315</li>\n",
       "\t<li>355</li>\n",
       "\t<li>368</li>\n",
       "\t<li>422.5</li>\n",
       "\t<li>445</li>\n",
       "\t<li>536</li>\n",
       "\t<li>561</li>\n",
       "\t<li>571</li>\n",
       "\t<li>631</li>\n",
       "\t<li>658</li>\n",
       "\t<li>682.5</li>\n",
       "\t<li>728</li>\n",
       "\t<li>767</li>\n",
       "\t<li>836.5</li>\n",
       "\t<li>920.5</li>\n",
       "\t<li>989</li>\n",
       "\t<li>993</li>\n",
       "\t<li>1036</li>\n",
       "\t<li>1086</li>\n",
       "\t<li>1105.5</li>\n",
       "\t<li>1184.5</li>\n",
       "\t<li>1184.5</li>\n",
       "\t<li>1263</li>\n",
       "\t<li>1269.5</li>\n",
       "\t<li>1298</li>\n",
       "\t<li>1307</li>\n",
       "\t<li>1354</li>\n",
       "\t<li>1368</li>\n",
       "\t<li>1375.5</li>\n",
       "\t<li>1409.5</li>\n",
       "\t<li>1429</li>\n",
       "\t<li>1455</li>\n",
       "\t<li>1463.5</li>\n",
       "\t<li>1490</li>\n",
       "\t<li>1497.5</li>\n",
       "\t<li>1510.5</li>\n",
       "\t<li>1521</li>\n",
       "\t<li>1526.5</li>\n",
       "\t<li>1535.5</li>\n",
       "\t<li>1539</li>\n",
       "</ol>\n"
      ],
      "text/latex": [
       "\\begin{enumerate*}\n",
       "\\item 0\n",
       "\\item 2.5\n",
       "\\item 10\n",
       "\\item 13.5\n",
       "\\item 39.5\n",
       "\\item 52\n",
       "\\item 76\n",
       "\\item 112\n",
       "\\item 128\n",
       "\\item 160\n",
       "\\item 171\n",
       "\\item 189\n",
       "\\item 243\n",
       "\\item 280\n",
       "\\item 308\n",
       "\\item 315\n",
       "\\item 355\n",
       "\\item 368\n",
       "\\item 422.5\n",
       "\\item 445\n",
       "\\item 536\n",
       "\\item 561\n",
       "\\item 571\n",
       "\\item 631\n",
       "\\item 658\n",
       "\\item 682.5\n",
       "\\item 728\n",
       "\\item 767\n",
       "\\item 836.5\n",
       "\\item 920.5\n",
       "\\item 989\n",
       "\\item 993\n",
       "\\item 1036\n",
       "\\item 1086\n",
       "\\item 1105.5\n",
       "\\item 1184.5\n",
       "\\item 1184.5\n",
       "\\item 1263\n",
       "\\item 1269.5\n",
       "\\item 1298\n",
       "\\item 1307\n",
       "\\item 1354\n",
       "\\item 1368\n",
       "\\item 1375.5\n",
       "\\item 1409.5\n",
       "\\item 1429\n",
       "\\item 1455\n",
       "\\item 1463.5\n",
       "\\item 1490\n",
       "\\item 1497.5\n",
       "\\item 1510.5\n",
       "\\item 1521\n",
       "\\item 1526.5\n",
       "\\item 1535.5\n",
       "\\item 1539\n",
       "\\end{enumerate*}\n"
      ],
      "text/markdown": [
       "1. 0\n",
       "2. 2.5\n",
       "3. 10\n",
       "4. 13.5\n",
       "5. 39.5\n",
       "6. 52\n",
       "7. 76\n",
       "8. 112\n",
       "9. 128\n",
       "10. 160\n",
       "11. 171\n",
       "12. 189\n",
       "13. 243\n",
       "14. 280\n",
       "15. 308\n",
       "16. 315\n",
       "17. 355\n",
       "18. 368\n",
       "19. 422.5\n",
       "20. 445\n",
       "21. 536\n",
       "22. 561\n",
       "23. 571\n",
       "24. 631\n",
       "25. 658\n",
       "26. 682.5\n",
       "27. 728\n",
       "28. 767\n",
       "29. 836.5\n",
       "30. 920.5\n",
       "31. 989\n",
       "32. 993\n",
       "33. 1036\n",
       "34. 1086\n",
       "35. 1105.5\n",
       "36. 1184.5\n",
       "37. 1184.5\n",
       "38. 1263\n",
       "39. 1269.5\n",
       "40. 1298\n",
       "41. 1307\n",
       "42. 1354\n",
       "43. 1368\n",
       "44. 1375.5\n",
       "45. 1409.5\n",
       "46. 1429\n",
       "47. 1455\n",
       "48. 1463.5\n",
       "49. 1490\n",
       "50. 1497.5\n",
       "51. 1510.5\n",
       "52. 1521\n",
       "53. 1526.5\n",
       "54. 1535.5\n",
       "55. 1539\n",
       "\n",
       "\n"
      ],
      "text/plain": [
       " [1]    0.0    2.5   10.0   13.5   39.5   52.0   76.0  112.0  128.0  160.0\n",
       "[11]  171.0  189.0  243.0  280.0  308.0  315.0  355.0  368.0  422.5  445.0\n",
       "[21]  536.0  561.0  571.0  631.0  658.0  682.5  728.0  767.0  836.5  920.5\n",
       "[31]  989.0  993.0 1036.0 1086.0 1105.5 1184.5 1184.5 1263.0 1269.5 1298.0\n",
       "[41] 1307.0 1354.0 1368.0 1375.5 1409.5 1429.0 1455.0 1463.5 1490.0 1497.5\n",
       "[51] 1510.5 1521.0 1526.5 1535.5 1539.0"
      ]
     },
     "metadata": {},
     "output_type": "display_data"
    }
   ],
   "source": [
    "ava"
   ]
  },
  {
   "cell_type": "code",
   "execution_count": 72,
   "metadata": {
    "collapsed": false
   },
   "outputs": [
    {
     "data": {
      "text/html": [
       "<ol>\n",
       "\t<li>537</li>\n",
       "\t<li>1003</li>\n",
       "</ol>\n"
      ],
      "text/latex": [
       "\\begin{enumerate}\n",
       "\\item 537\n",
       "\\item 1003\n",
       "\\end{enumerate}\n"
      ],
      "text/markdown": [
       "1. 537\n",
       "2. 1003\n",
       "\n",
       "\n"
      ],
      "text/plain": [
       "[[1]]\n",
       "[1] 537\n",
       "\n",
       "[[2]]\n",
       "[1] 1003\n"
      ]
     },
     "metadata": {},
     "output_type": "display_data"
    }
   ],
   "source": [
    "list(qsignrank(0.025,55),qsignrank(0.975,55))"
   ]
  },
  {
   "cell_type": "code",
   "execution_count": 73,
   "metadata": {
    "collapsed": false
   },
   "outputs": [
    {
     "data": {
      "text/html": [
       "<ol>\n",
       "\t<li>9.675</li>\n",
       "\t<li>11.04</li>\n",
       "</ol>\n"
      ],
      "text/latex": [
       "\\begin{enumerate}\n",
       "\\item 9.675\n",
       "\\item 11.04\n",
       "\\end{enumerate}\n"
      ],
      "text/markdown": [
       "1. 9.675\n",
       "2. 11.04\n",
       "\n",
       "\n"
      ],
      "text/plain": [
       "[[1]]\n",
       "[1] 9.675\n",
       "\n",
       "[[2]]\n",
       "[1] 11.04\n"
      ]
     },
     "metadata": {},
     "output_type": "display_data"
    }
   ],
   "source": [
    "list(walshed[ava == 536],walshed[ava == 993][1])"
   ]
  },
  {
   "cell_type": "markdown",
   "metadata": {},
   "source": [
    "似乎有点过于收敛了，应该如此吗。看起来并不好分析，也许这种方法会带来比较复杂的情况。既然我们求出的walsh平均后数据数量和检验统计量\n",
    "可取值数一样都是55，我们就怀疑它们之间是不是可以建立一一对应关系。"
   ]
  },
  {
   "cell_type": "code",
   "execution_count": 78,
   "metadata": {
    "collapsed": false
   },
   "outputs": [
    {
     "data": {
      "text/html": [
       "<ol class=list-inline>\n",
       "\t<li>4.12</li>\n",
       "\t<li>5.81</li>\n",
       "\t<li>7.63</li>\n",
       "\t<li>9.74</li>\n",
       "\t<li>10.39</li>\n",
       "\t<li>11.92</li>\n",
       "\t<li>12.32</li>\n",
       "\t<li>12.89</li>\n",
       "\t<li>13.54</li>\n",
       "\t<li>14.45</li>\n",
       "</ol>\n"
      ],
      "text/latex": [
       "\\begin{enumerate*}\n",
       "\\item 4.12\n",
       "\\item 5.81\n",
       "\\item 7.63\n",
       "\\item 9.74\n",
       "\\item 10.39\n",
       "\\item 11.92\n",
       "\\item 12.32\n",
       "\\item 12.89\n",
       "\\item 13.54\n",
       "\\item 14.45\n",
       "\\end{enumerate*}\n"
      ],
      "text/markdown": [
       "1. 4.12\n",
       "2. 5.81\n",
       "3. 7.63\n",
       "4. 9.74\n",
       "5. 10.39\n",
       "6. 11.92\n",
       "7. 12.32\n",
       "8. 12.89\n",
       "9. 13.54\n",
       "10. 14.45\n",
       "\n",
       "\n"
      ],
      "text/plain": [
       " [1]  4.12  5.81  7.63  9.74 10.39 11.92 12.32 12.89 13.54 14.45"
      ]
     },
     "metadata": {},
     "output_type": "display_data"
    }
   ],
   "source": [
    "wal[avaiable+1]"
   ]
  },
  {
   "cell_type": "code",
   "execution_count": 79,
   "metadata": {
    "collapsed": false
   },
   "outputs": [
    {
     "data": {
      "text/html": [
       "<ol class=list-inline>\n",
       "\t<li>TRUE</li>\n",
       "\t<li>TRUE</li>\n",
       "\t<li>TRUE</li>\n",
       "\t<li>TRUE</li>\n",
       "\t<li>TRUE</li>\n",
       "\t<li>TRUE</li>\n",
       "\t<li>TRUE</li>\n",
       "\t<li>TRUE</li>\n",
       "\t<li>TRUE</li>\n",
       "\t<li>TRUE</li>\n",
       "</ol>\n"
      ],
      "text/latex": [
       "\\begin{enumerate*}\n",
       "\\item TRUE\n",
       "\\item TRUE\n",
       "\\item TRUE\n",
       "\\item TRUE\n",
       "\\item TRUE\n",
       "\\item TRUE\n",
       "\\item TRUE\n",
       "\\item TRUE\n",
       "\\item TRUE\n",
       "\\item TRUE\n",
       "\\end{enumerate*}\n"
      ],
      "text/markdown": [
       "1. TRUE\n",
       "2. TRUE\n",
       "3. TRUE\n",
       "4. TRUE\n",
       "5. TRUE\n",
       "6. TRUE\n",
       "7. TRUE\n",
       "8. TRUE\n",
       "9. TRUE\n",
       "10. TRUE\n",
       "\n",
       "\n"
      ],
      "text/plain": [
       " [1] TRUE TRUE TRUE TRUE TRUE TRUE TRUE TRUE TRUE TRUE"
      ]
     },
     "metadata": {},
     "output_type": "display_data"
    }
   ],
   "source": [
    "wal[avaiable+1] == EuroAlc"
   ]
  },
  {
   "cell_type": "markdown",
   "metadata": {},
   "source": [
    "我们令人瞩目的发现了walsh平均的不变量。指定检验统计量的分界量为各个原数据点得到统计量值，其作为下标在排过序的walsh平均数列中\n",
    "恰好就是这些原数据点的值本身！形式化地\n",
    "\n",
    "$$\n",
    "idx = \\sum_{i=1}^n r(X_i)I(X_i<M) \\\\\n",
    "W_{(idx)} = X_i\n",
    "$$\n",
    "\n",
    "其中$W_{i}$是原数据walsh平均的排序统计量（排过序的数列）。$r(X_i)$指数据$X_i$在样本中对$M$的绝对离差的秩。\n",
    "\n",
    "证明它的方式看起来是纯组合的，姑且先考虑这个性质的意义。首先，这意味着如果我们依然只使用那55个中的10个统计量构成的近似区间，\n",
    "本来我们是直接利用10个数据点与那10个检验统计量取值的一一对应关系取得对应数据的，\n",
    "但现在我们转而使用walsh平均排序数列与55个（全部）检验统计量取值的一一对应。那么我们可以得到一致的结果。\n",
    "看起来这似乎是通过把10个映射“推广”到55个来更精细取值的一个必须的性质。\n",
    "看起来必须的第二个性质是原10个统计量相邻两个取值之间那些取值对应的新数据点应该是单调的，如此就能保证整个映射的单调性由10个保持到了55个\n",
    "，而这一点由walsh排序数列排序过是显然的。\n",
    "\n",
    "这两个性质的满足使得它看起来是可以接受的插值。也许它还有我们还没发现更好的性质，比如容易概率分析，但那已经不重要了。前面那种直接在\n",
    "walsh平均上重跑定区间算法上已经在特例上显示出其违反了第二条性质，并不靠谱。也许直接邻点间等距插值再重跑而不是walsh平均再重跑好要好一些。\n",
    "但这里就不过多分析了。"
   ]
  },
  {
   "cell_type": "markdown",
   "metadata": {},
   "source": [
    "## 正态记分检验\n",
    "\n",
    "将秩和统计量一般化时，会看成秩经过一个非负单调函数起作用。如符号检验可以看成常数（1）函数。符号秩可以看成恒等映射。这个函数称作\n",
    "*记分*，显然不同的记分产生不同的分布。还有一种常用记分就是标准正态逆分布函数和一个线性函数的组合。\n",
    "\n",
    "$$\n",
    "a_n(i) = \\Phi^{-1} \\left[ \\frac{1}{2}\\left(1+\\frac{i}{n+1}\\right) \\right]\n",
    "$$\n",
    "\n",
    "它可以用来构造一个渐进正态分布的统计量$S_n$\n",
    "\n",
    "$$\n",
    "s_n = a_n(R_i)sign(X_i-M_0) \\\\\n",
    "S_n = \\sum_{i}^n s_n \n",
    "$$\n",
    "\n",
    "其中。然后由线性秩统计量的一般结论，有\n",
    "\n",
    "$$\n",
    "T = \\frac{S_n - E(S_n)}{\\sqrt{Var(S_n)}} = \\frac{S_n}{\\sum_{i=1}^n s_i^2} \\sim N(0,1)\n",
    "$$"
   ]
  },
  {
   "cell_type": "code",
   "execution_count": 71,
   "metadata": {
    "collapsed": false
   },
   "outputs": [],
   "source": [
    "norm.score <- function(i,n){\n",
    "    return(qnorm(0.5*(1+i/(n+1))))\n",
    "}\n",
    "\n"
   ]
  },
  {
   "cell_type": "code",
   "execution_count": null,
   "metadata": {
    "collapsed": true
   },
   "outputs": [],
   "source": [
    "s_n <- norm.score(rank(abs(EuroAlc - 8)),length(EuroAlc)) * sign(EuroAlc - 8)\n",
    "s_n"
   ]
  },
  {
   "cell_type": "code",
   "execution_count": 85,
   "metadata": {
    "collapsed": false
   },
   "outputs": [
    {
     "data": {
      "text/html": [
       "1.9135593171272"
      ],
      "text/latex": [
       "1.9135593171272"
      ],
      "text/markdown": [
       "1.9135593171272"
      ],
      "text/plain": [
       "[1] 1.913559"
      ]
     },
     "metadata": {},
     "output_type": "display_data"
    }
   ],
   "source": [
    "S_n <- sum(s_n)\n",
    "T <- S_n/sqrt(sum(s_n^2))\n",
    "T"
   ]
  },
  {
   "cell_type": "code",
   "execution_count": 86,
   "metadata": {
    "collapsed": false
   },
   "outputs": [
    {
     "data": {
      "text/html": [
       "0.0278382437383625"
      ],
      "text/latex": [
       "0.0278382437383625"
      ],
      "text/markdown": [
       "0.0278382437383625"
      ],
      "text/plain": [
       "[1] 0.02783824"
      ]
     },
     "metadata": {},
     "output_type": "display_data"
    }
   ],
   "source": [
    "pnorm(T,lower.tail=FALSE)"
   ]
  },
  {
   "cell_type": "markdown",
   "metadata": {},
   "source": [
    "为什么这样记分可以产生渐进正态分布呢？首先我们知道通过逆分布函数生成随机数的方法就是在一个均匀分布上随机变量上做逆分布函数变换。\n",
    "照这个思路，把秩经过\n",
    "$$\n",
    "\\frac{i}{n+1}\n",
    "$$\n",
    "变换可以得到一个非常“均匀”，无序的看根本没有任何随机性的集合，把它们经过逆分布函数加起来也一样没有随机性。\n",
    "对应的，如果取代每个秩位置的是独立均匀分布随机变量，经过逆分布函数加起来后依然是正态分布，而且直接就是不需要渐进。\n",
    "\n",
    "那么如果随机指定每个秩的符号呢？比如，不采用秩而采用一些独立的0,1随机变量。我们当然可以由二项分布对正态分布的渐进性得到此性质。\n",
    "-1,1容易转化为0,1，这相当于一些值为1的数乘以-1,1随机变量.而一列数1,2,3,4,...以乘上-1,1随机变量看上去应该也趋近正态分布，\n",
    "我们来试验一下。"
   ]
  },
  {
   "cell_type": "code",
   "execution_count": 2,
   "metadata": {
    "collapsed": false
   },
   "outputs": [
    {
     "data": {
      "text/html": [
       "<ol class=list-inline>\n",
       "\t<li>1</li>\n",
       "\t<li>1</li>\n",
       "\t<li>-1</li>\n",
       "\t<li>1</li>\n",
       "\t<li>-1</li>\n",
       "\t<li>1</li>\n",
       "\t<li>1</li>\n",
       "\t<li>-1</li>\n",
       "\t<li>1</li>\n",
       "\t<li>-1</li>\n",
       "\t<li>1</li>\n",
       "\t<li>-1</li>\n",
       "\t<li>-1</li>\n",
       "\t<li>-1</li>\n",
       "\t<li>-1</li>\n",
       "\t<li>1</li>\n",
       "\t<li>-1</li>\n",
       "\t<li>-1</li>\n",
       "\t<li>-1</li>\n",
       "\t<li>1</li>\n",
       "\t<li>-1</li>\n",
       "\t<li>-1</li>\n",
       "\t<li>1</li>\n",
       "\t<li>1</li>\n",
       "\t<li>1</li>\n",
       "\t<li>1</li>\n",
       "\t<li>1</li>\n",
       "\t<li>-1</li>\n",
       "\t<li>-1</li>\n",
       "\t<li>-1</li>\n",
       "\t<li>-1</li>\n",
       "\t<li>-1</li>\n",
       "\t<li>-1</li>\n",
       "\t<li>-1</li>\n",
       "\t<li>1</li>\n",
       "\t<li>-1</li>\n",
       "\t<li>-1</li>\n",
       "\t<li>-1</li>\n",
       "\t<li>1</li>\n",
       "\t<li>-1</li>\n",
       "\t<li>-1</li>\n",
       "\t<li>-1</li>\n",
       "\t<li>1</li>\n",
       "\t<li>1</li>\n",
       "\t<li>1</li>\n",
       "\t<li>1</li>\n",
       "\t<li>1</li>\n",
       "\t<li>-1</li>\n",
       "\t<li>-1</li>\n",
       "\t<li>-1</li>\n",
       "\t<li>1</li>\n",
       "\t<li>1</li>\n",
       "\t<li>-1</li>\n",
       "\t<li>-1</li>\n",
       "\t<li>1</li>\n",
       "\t<li>-1</li>\n",
       "\t<li>1</li>\n",
       "\t<li>-1</li>\n",
       "\t<li>1</li>\n",
       "\t<li>1</li>\n",
       "\t<li>1</li>\n",
       "\t<li>1</li>\n",
       "\t<li>-1</li>\n",
       "\t<li>-1</li>\n",
       "\t<li>-1</li>\n",
       "\t<li>1</li>\n",
       "\t<li>1</li>\n",
       "\t<li>-1</li>\n",
       "\t<li>1</li>\n",
       "\t<li>-1</li>\n",
       "\t<li>1</li>\n",
       "\t<li>1</li>\n",
       "\t<li>-1</li>\n",
       "\t<li>1</li>\n",
       "\t<li>1</li>\n",
       "\t<li>-1</li>\n",
       "\t<li>-1</li>\n",
       "\t<li>1</li>\n",
       "\t<li>1</li>\n",
       "\t<li>1</li>\n",
       "\t<li>1</li>\n",
       "\t<li>1</li>\n",
       "\t<li>-1</li>\n",
       "\t<li>1</li>\n",
       "\t<li>-1</li>\n",
       "\t<li>1</li>\n",
       "\t<li>1</li>\n",
       "\t<li>1</li>\n",
       "\t<li>1</li>\n",
       "\t<li>-1</li>\n",
       "\t<li>1</li>\n",
       "\t<li>1</li>\n",
       "\t<li>1</li>\n",
       "\t<li>1</li>\n",
       "\t<li>-1</li>\n",
       "\t<li>1</li>\n",
       "\t<li>1</li>\n",
       "\t<li>1</li>\n",
       "\t<li>-1</li>\n",
       "\t<li>-1</li>\n",
       "</ol>\n"
      ],
      "text/latex": [
       "\\begin{enumerate*}\n",
       "\\item 1\n",
       "\\item 1\n",
       "\\item -1\n",
       "\\item 1\n",
       "\\item -1\n",
       "\\item 1\n",
       "\\item 1\n",
       "\\item -1\n",
       "\\item 1\n",
       "\\item -1\n",
       "\\item 1\n",
       "\\item -1\n",
       "\\item -1\n",
       "\\item -1\n",
       "\\item -1\n",
       "\\item 1\n",
       "\\item -1\n",
       "\\item -1\n",
       "\\item -1\n",
       "\\item 1\n",
       "\\item -1\n",
       "\\item -1\n",
       "\\item 1\n",
       "\\item 1\n",
       "\\item 1\n",
       "\\item 1\n",
       "\\item 1\n",
       "\\item -1\n",
       "\\item -1\n",
       "\\item -1\n",
       "\\item -1\n",
       "\\item -1\n",
       "\\item -1\n",
       "\\item -1\n",
       "\\item 1\n",
       "\\item -1\n",
       "\\item -1\n",
       "\\item -1\n",
       "\\item 1\n",
       "\\item -1\n",
       "\\item -1\n",
       "\\item -1\n",
       "\\item 1\n",
       "\\item 1\n",
       "\\item 1\n",
       "\\item 1\n",
       "\\item 1\n",
       "\\item -1\n",
       "\\item -1\n",
       "\\item -1\n",
       "\\item 1\n",
       "\\item 1\n",
       "\\item -1\n",
       "\\item -1\n",
       "\\item 1\n",
       "\\item -1\n",
       "\\item 1\n",
       "\\item -1\n",
       "\\item 1\n",
       "\\item 1\n",
       "\\item 1\n",
       "\\item 1\n",
       "\\item -1\n",
       "\\item -1\n",
       "\\item -1\n",
       "\\item 1\n",
       "\\item 1\n",
       "\\item -1\n",
       "\\item 1\n",
       "\\item -1\n",
       "\\item 1\n",
       "\\item 1\n",
       "\\item -1\n",
       "\\item 1\n",
       "\\item 1\n",
       "\\item -1\n",
       "\\item -1\n",
       "\\item 1\n",
       "\\item 1\n",
       "\\item 1\n",
       "\\item 1\n",
       "\\item 1\n",
       "\\item -1\n",
       "\\item 1\n",
       "\\item -1\n",
       "\\item 1\n",
       "\\item 1\n",
       "\\item 1\n",
       "\\item 1\n",
       "\\item -1\n",
       "\\item 1\n",
       "\\item 1\n",
       "\\item 1\n",
       "\\item 1\n",
       "\\item -1\n",
       "\\item 1\n",
       "\\item 1\n",
       "\\item 1\n",
       "\\item -1\n",
       "\\item -1\n",
       "\\end{enumerate*}\n"
      ],
      "text/markdown": [
       "1. 1\n",
       "2. 1\n",
       "3. -1\n",
       "4. 1\n",
       "5. -1\n",
       "6. 1\n",
       "7. 1\n",
       "8. -1\n",
       "9. 1\n",
       "10. -1\n",
       "11. 1\n",
       "12. -1\n",
       "13. -1\n",
       "14. -1\n",
       "15. -1\n",
       "16. 1\n",
       "17. -1\n",
       "18. -1\n",
       "19. -1\n",
       "20. 1\n",
       "21. -1\n",
       "22. -1\n",
       "23. 1\n",
       "24. 1\n",
       "25. 1\n",
       "26. 1\n",
       "27. 1\n",
       "28. -1\n",
       "29. -1\n",
       "30. -1\n",
       "31. -1\n",
       "32. -1\n",
       "33. -1\n",
       "34. -1\n",
       "35. 1\n",
       "36. -1\n",
       "37. -1\n",
       "38. -1\n",
       "39. 1\n",
       "40. -1\n",
       "41. -1\n",
       "42. -1\n",
       "43. 1\n",
       "44. 1\n",
       "45. 1\n",
       "46. 1\n",
       "47. 1\n",
       "48. -1\n",
       "49. -1\n",
       "50. -1\n",
       "51. 1\n",
       "52. 1\n",
       "53. -1\n",
       "54. -1\n",
       "55. 1\n",
       "56. -1\n",
       "57. 1\n",
       "58. -1\n",
       "59. 1\n",
       "60. 1\n",
       "61. 1\n",
       "62. 1\n",
       "63. -1\n",
       "64. -1\n",
       "65. -1\n",
       "66. 1\n",
       "67. 1\n",
       "68. -1\n",
       "69. 1\n",
       "70. -1\n",
       "71. 1\n",
       "72. 1\n",
       "73. -1\n",
       "74. 1\n",
       "75. 1\n",
       "76. -1\n",
       "77. -1\n",
       "78. 1\n",
       "79. 1\n",
       "80. 1\n",
       "81. 1\n",
       "82. 1\n",
       "83. -1\n",
       "84. 1\n",
       "85. -1\n",
       "86. 1\n",
       "87. 1\n",
       "88. 1\n",
       "89. 1\n",
       "90. -1\n",
       "91. 1\n",
       "92. 1\n",
       "93. 1\n",
       "94. 1\n",
       "95. -1\n",
       "96. 1\n",
       "97. 1\n",
       "98. 1\n",
       "99. -1\n",
       "100. -1\n",
       "\n",
       "\n"
      ],
      "text/plain": [
       "  [1]  1  1 -1  1 -1  1  1 -1  1 -1  1 -1 -1 -1 -1  1 -1 -1 -1  1 -1 -1  1  1  1\n",
       " [26]  1  1 -1 -1 -1 -1 -1 -1 -1  1 -1 -1 -1  1 -1 -1 -1  1  1  1  1  1 -1 -1 -1\n",
       " [51]  1  1 -1 -1  1 -1  1 -1  1  1  1  1 -1 -1 -1  1  1 -1  1 -1  1  1 -1  1  1\n",
       " [76] -1 -1  1  1  1  1  1 -1  1 -1  1  1  1  1 -1  1  1  1  1 -1  1  1  1 -1 -1"
      ]
     },
     "metadata": {},
     "output_type": "display_data"
    }
   ],
   "source": [
    "rbinom(100,1,0.5) * 2 -1"
   ]
  },
  {
   "cell_type": "code",
   "execution_count": 3,
   "metadata": {
    "collapsed": false
   },
   "outputs": [
    {
     "data": {
      "text/html": [
       "<ol class=list-inline>\n",
       "\t<li>1</li>\n",
       "\t<li>2</li>\n",
       "\t<li>-3</li>\n",
       "\t<li>4</li>\n",
       "\t<li>5</li>\n",
       "\t<li>6</li>\n",
       "\t<li>-7</li>\n",
       "\t<li>8</li>\n",
       "\t<li>9</li>\n",
       "\t<li>10</li>\n",
       "\t<li>11</li>\n",
       "\t<li>-12</li>\n",
       "\t<li>13</li>\n",
       "\t<li>14</li>\n",
       "\t<li>-15</li>\n",
       "\t<li>-16</li>\n",
       "\t<li>-17</li>\n",
       "\t<li>18</li>\n",
       "\t<li>19</li>\n",
       "\t<li>20</li>\n",
       "</ol>\n"
      ],
      "text/latex": [
       "\\begin{enumerate*}\n",
       "\\item 1\n",
       "\\item 2\n",
       "\\item -3\n",
       "\\item 4\n",
       "\\item 5\n",
       "\\item 6\n",
       "\\item -7\n",
       "\\item 8\n",
       "\\item 9\n",
       "\\item 10\n",
       "\\item 11\n",
       "\\item -12\n",
       "\\item 13\n",
       "\\item 14\n",
       "\\item -15\n",
       "\\item -16\n",
       "\\item -17\n",
       "\\item 18\n",
       "\\item 19\n",
       "\\item 20\n",
       "\\end{enumerate*}\n"
      ],
      "text/markdown": [
       "1. 1\n",
       "2. 2\n",
       "3. -3\n",
       "4. 4\n",
       "5. 5\n",
       "6. 6\n",
       "7. -7\n",
       "8. 8\n",
       "9. 9\n",
       "10. 10\n",
       "11. 11\n",
       "12. -12\n",
       "13. 13\n",
       "14. 14\n",
       "15. -15\n",
       "16. -16\n",
       "17. -17\n",
       "18. 18\n",
       "19. 19\n",
       "20. 20\n",
       "\n",
       "\n"
      ],
      "text/plain": [
       " [1]   1   2  -3   4   5   6  -7   8   9  10  11 -12  13  14 -15 -16 -17  18  19\n",
       "[20]  20"
      ]
     },
     "metadata": {},
     "output_type": "display_data"
    }
   ],
   "source": [
    "random.sign <- function(n){\n",
    "    sign <- rbinom(n,1,0.5) * 2 - 1\n",
    "    return(1:n * sign)\n",
    "}\n",
    "\n",
    "random.sign(20)"
   ]
  },
  {
   "cell_type": "code",
   "execution_count": 8,
   "metadata": {
    "collapsed": false
   },
   "outputs": [
    {
     "data": {
      "image/png": "[encoded data removed]",
      "text/plain": [
       "Plot with title \"Histogram of replicate(10000, sum(random.sign(20)))\""
      ]
     },
     "metadata": {},
     "output_type": "display_data"
    }
   ],
   "source": [
    "hist(replicate(10000,sum(random.sign(20))))"
   ]
  },
  {
   "cell_type": "markdown",
   "metadata": {},
   "source": [
    "这样搞的确可以也产生渐进正态分布。但正态记分真正的处理方式是把1,...,n映射到[1/2,1)区间。做一个逆分布函数变换后加随机-1,+1符号\n",
    "如果不经那个线性映射+逆分布函数变换或看成做了恒等变换那就是上面的处理方式。逆分布函数好像只是挤压了一下1,...,n的“权重”。是一种介于\n",
    "二项分布式收敛和1,2,3...,n加权收敛的加权方式。那么这样一种非线性加权有什么额外的好处吗？它收敛的更快吗？它直接就是正态分布吗？\n",
    "\n"
   ]
  },
  {
   "cell_type": "code",
   "execution_count": 21,
   "metadata": {
    "collapsed": false
   },
   "outputs": [
    {
     "data": {
      "text/plain": [
       "\n",
       "\tShapiro-Wilk normality test\n",
       "\n",
       "data:  replicate(100, sum(random.sign(20)))\n",
       "W = 0.98768, p-value = 0.4847\n"
      ]
     },
     "metadata": {},
     "output_type": "display_data"
    }
   ],
   "source": [
    "res <- shapiro.test(replicate(100,sum(random.sign(20))))\n",
    "res"
   ]
  },
  {
   "cell_type": "code",
   "execution_count": 22,
   "metadata": {
    "collapsed": false
   },
   "outputs": [
    {
     "data": {
      "text/html": [
       "0.48468349697729"
      ],
      "text/latex": [
       "0.48468349697729"
      ],
      "text/markdown": [
       "0.48468349697729"
      ],
      "text/plain": [
       "[1] 0.4846835"
      ]
     },
     "metadata": {},
     "output_type": "display_data"
    }
   ],
   "source": [
    "res$p.value"
   ]
  },
  {
   "cell_type": "code",
   "execution_count": 82,
   "metadata": {
    "collapsed": false
   },
   "outputs": [
    {
     "data": {
      "text/html": [
       "<dl>\n",
       "\t<dt>$mean</dt>\n",
       "\t\t<dd>0.509185394940507</dd>\n",
       "\t<dt>$sd</dt>\n",
       "\t\t<dd>0.283236903952352</dd>\n",
       "</dl>\n"
      ],
      "text/latex": [
       "\\begin{description}\n",
       "\\item[\\$mean] 0.509185394940507\n",
       "\\item[\\$sd] 0.283236903952352\n",
       "\\end{description}\n"
      ],
      "text/markdown": [
       "$mean\n",
       ":   0.509185394940507\n",
       "$sd\n",
       ":   0.283236903952352\n",
       "\n",
       "\n"
      ],
      "text/plain": [
       "$mean\n",
       "[1] 0.5091854\n",
       "\n",
       "$sd\n",
       "[1] 0.2832369\n"
      ]
     },
     "metadata": {},
     "output_type": "display_data"
    }
   ],
   "source": [
    "p.values <- replicate(100,shapiro.test(replicate(100,sum(random.sign(20))))$p.value)\n",
    "list(mean=mean(p.values),sd=sd(p.values))"
   ]
  },
  {
   "cell_type": "code",
   "execution_count": 50,
   "metadata": {
    "collapsed": true
   },
   "outputs": [],
   "source": [
    "random.sign2 <- function(n){\n",
    "    sign <- rbinom(n,1,0.5) * 2 - 1\n",
    "    return(rep(1,n) * sign)\n",
    "}\n"
   ]
  },
  {
   "cell_type": "code",
   "execution_count": 81,
   "metadata": {
    "collapsed": false
   },
   "outputs": [
    {
     "data": {
      "text/html": [
       "<dl>\n",
       "\t<dt>$mean</dt>\n",
       "\t\t<dd>0.0386303089420484</dd>\n",
       "\t<dt>$sd</dt>\n",
       "\t\t<dd>0.0374358657298251</dd>\n",
       "</dl>\n"
      ],
      "text/latex": [
       "\\begin{description}\n",
       "\\item[\\$mean] 0.0386303089420484\n",
       "\\item[\\$sd] 0.0374358657298251\n",
       "\\end{description}\n"
      ],
      "text/markdown": [
       "$mean\n",
       ":   0.0386303089420484\n",
       "$sd\n",
       ":   0.0374358657298251\n",
       "\n",
       "\n"
      ],
      "text/plain": [
       "$mean\n",
       "[1] 0.03863031\n",
       "\n",
       "$sd\n",
       "[1] 0.03743587\n"
      ]
     },
     "metadata": {},
     "output_type": "display_data"
    }
   ],
   "source": [
    "p.values <- replicate(100,shapiro.test(replicate(100,sum(random.sign2(20))))$p.value)\n",
    "list(mean=mean(p.values),sd=sd(p.values))"
   ]
  },
  {
   "cell_type": "code",
   "execution_count": 74,
   "metadata": {
    "collapsed": true
   },
   "outputs": [],
   "source": [
    "random.sign3 <- function(n){\n",
    "    sign <- rbinom(n,1,0.5) * 2 - 1\n",
    "    return(norm.score(1:n,n) * sign)\n",
    "}\n"
   ]
  },
  {
   "cell_type": "code",
   "execution_count": 85,
   "metadata": {
    "collapsed": false,
    "scrolled": true
   },
   "outputs": [
    {
     "data": {
      "text/html": [
       "<dl>\n",
       "\t<dt>$mean</dt>\n",
       "\t\t<dd>0.506466458360238</dd>\n",
       "\t<dt>$sd</dt>\n",
       "\t\t<dd>0.279007678877589</dd>\n",
       "</dl>\n"
      ],
      "text/latex": [
       "\\begin{description}\n",
       "\\item[\\$mean] 0.506466458360238\n",
       "\\item[\\$sd] 0.279007678877589\n",
       "\\end{description}\n"
      ],
      "text/markdown": [
       "$mean\n",
       ":   0.506466458360238\n",
       "$sd\n",
       ":   0.279007678877589\n",
       "\n",
       "\n"
      ],
      "text/plain": [
       "$mean\n",
       "[1] 0.5064665\n",
       "\n",
       "$sd\n",
       "[1] 0.2790077\n"
      ]
     },
     "metadata": {},
     "output_type": "display_data"
    }
   ],
   "source": [
    "p.values <- replicate(100,shapiro.test(replicate(100,sum(random.sign3(20))))$p.value)\n",
    "list(mean=mean(p.values),sd=sd(p.values))"
   ]
  },
  {
   "cell_type": "code",
   "execution_count": 88,
   "metadata": {
    "collapsed": false
   },
   "outputs": [],
   "source": [
    "# p.values <- replicate(10000,shapiro.test(replicate(100,sum(random.sign3(20))))$p.value)\n",
    "# list(mean=mean(p.values),sd=sd(p.values))\n",
    "#\n",
    "# $mean\n",
    "# 0.498628152028582\n",
    "# $sd\n",
    "# 0.27997024256889"
   ]
  },
  {
   "cell_type": "code",
   "execution_count": 89,
   "metadata": {
    "collapsed": false
   },
   "outputs": [],
   "source": [
    "# p.values <- replicate(10000,shapiro.test(replicate(100,sum(random.sign(20))))$p.value)\n",
    "# list(mean=mean(p.values),sd=sd(p.values))\n",
    "#\n",
    "# $mean\n",
    "# 0.498006707132392\n",
    "# $sd\n",
    "# 0.280210459193869\n"
   ]
  },
  {
   "cell_type": "markdown",
   "metadata": {},
   "source": [
    "虽然不知道如何理论推导，但正态记分似乎的确比直接用秩去渐进好一丁点，比二项渐进不知道高的哪里去了。"
   ]
  },
  {
   "cell_type": "markdown",
   "metadata": {},
   "source": [
    "## Cox-Stuart 趋势检验\n",
    "\n"
   ]
  },
  {
   "cell_type": "code",
   "execution_count": 87,
   "metadata": {
    "collapsed": true
   },
   "outputs": [],
   "source": [
    "TJAir <- c(54379, 45461, 55408, 59712, 60776, 57635, 63335, 71296, 70250, 76866, 75561, 66427,\n",
    "           61330, 58186, 67799, 76360, 86207, 75509, 83020, 89614, 75791, 80835, 72179, 61520,\n",
    "           66726, 60629, 68549, 73310, 80719, 67759, 70352, 82825, 70541, 74631, 68938, 53318,\n",
    "           62653, 58578, 63292, 69536, 73379, 62859, 72873, 87260, 67559, 76647, 70590, 58935,\n",
    "           58161, 64057, 63051, 58807, 63663, 57367, 70854, 79949, 66992, 80140, 62260, 55942,\n",
    "           58367, 56673, 61039, 74958, 85859, 67263, 87183, 97575, 79988, 88501, 68600, 58442,\n",
    "           68955, 56835, 67021, 81547, 85118, 70145, 95080, 106186,86103, 88548, 70090, 65550,\n",
    "           69223, 85138, 89799, 99513, 98114, 68172, 97366, 116820,95665, 109881,87068, 75362,\n",
    "           88268, 85183, 87909, 79976, 27687, 50178, 100878,131788,116293,120770,104958,109603)"
   ]
  },
  {
   "cell_type": "code",
   "execution_count": 89,
   "metadata": {
    "collapsed": false,
    "scrolled": true
   },
   "outputs": [
    {
     "data": {
      "image/png": "[encoded data removed]",
      "text/plain": [
       "plot without title"
      ]
     },
     "metadata": {},
     "output_type": "display_data"
    }
   ],
   "source": [
    "plot(TJAir,type=\"l\")"
   ]
  },
  {
   "cell_type": "markdown",
   "metadata": {},
   "source": [
    "想要考察上面的时间序列是否有周期性，一种方式是直接线性回归它。"
   ]
  },
  {
   "cell_type": "code",
   "execution_count": 93,
   "metadata": {
    "collapsed": false
   },
   "outputs": [],
   "source": [
    "df = data.frame(y=TJAir,x=1:108)"
   ]
  },
  {
   "cell_type": "code",
   "execution_count": 98,
   "metadata": {
    "collapsed": false
   },
   "outputs": [
    {
     "data": {
      "text/plain": [
       "\n",
       "Call:\n",
       "lm(formula = y ~ x, data = df)\n",
       "\n",
       "Residuals:\n",
       "   Min     1Q Median     3Q    Max \n",
       "-60199 -11002    703   9333  43077 \n",
       "\n",
       "Coefficients:\n",
       "            Estimate Std. Error t value Pr(>|t|)    \n",
       "(Intercept) 60106.63    2871.94  20.929  < 2e-16 ***\n",
       "x             275.04      45.74   6.013 2.63e-08 ***\n",
       "---\n",
       "Signif. codes:  0 '***' 0.001 '**' 0.01 '*' 0.05 '.' 0.1 ' ' 1\n",
       "\n",
       "Residual standard error: 14820 on 106 degrees of freedom\n",
       "Multiple R-squared:  0.2543,\tAdjusted R-squared:  0.2473 \n",
       "F-statistic: 36.16 on 1 and 106 DF,  p-value: 2.626e-08\n"
      ]
     },
     "metadata": {},
     "output_type": "display_data"
    }
   ],
   "source": [
    "res <- lm(y~x,data=df)\n",
    "summary(res)"
   ]
  },
  {
   "cell_type": "code",
   "execution_count": 107,
   "metadata": {
    "collapsed": false
   },
   "outputs": [
    {
     "data": {
      "image/png": "[encoded data removed]",
      "text/plain": [
       "plot without title"
      ]
     },
     "metadata": {},
     "output_type": "display_data"
    }
   ],
   "source": [
    "plot(TJAir,pch=19)\n",
    "abline(lm(y~x,data=df),lwd=2,lty=1,col=\"red\")"
   ]
  },
  {
   "cell_type": "markdown",
   "metadata": {},
   "source": [
    "(从可视化看，把曲线变成散点图给人一种更强的关系的感觉，这是人的模式bias吗)\n",
    "\n",
    "既然斜率以及模型显著，某种意义上说可以说存在趋势。技术上说，任何线性模型的确成立时，$\\hat{\\beta_1} \\sim N(\\beta_1,Var(\\hat{\\beta_1}))$。\n",
    "我们特别考虑满足约束$\\beta_1=0$的所有模型。所有这样的模型的的$\\hat{\\beta_1}$的分布都是一样的（我们做了一些处理得到斜率t检验），\n",
    "我们可以利用类似非参数检验的思想检验是否$\\hat{]beta_1}$的实现值在假设得出的分布显得过于极端，\n",
    "从而拒绝模型是使得$\\beta_1=0$那一族里，当然它“实际”在线性模型类中的哪一族，是否根本不是线性模型生成的我们不可能知道。\n",
    "\n",
    "在此处，我们假设了各点服从零均值独立同分布正态分布后。就得出了统计上拒绝了它是满足条件的线性模型类中的$\\beta_1=0$那一类的命题。\n",
    "至于这是不是可以解读为“有趋势”，我只能说看上去有那么一些关系。\n",
    "\n",
    "回归的方法有点模棱两可且也许假设过多，我们下面的Cox-stuart检验则看起来更模棱两可，不过假设宽松了不少。"
   ]
  },
  {
   "cell_type": "code",
   "execution_count": 109,
   "metadata": {
    "collapsed": false
   },
   "outputs": [
    {
     "data": {
      "image/png": "[encoded data removed]",
      "text/plain": [
       "plot without title"
      ]
     },
     "metadata": {},
     "output_type": "display_data"
    }
   ],
   "source": [
    "diff <- TJAir[55:108]-TJAir[1:54]\n",
    "plot(diff)"
   ]
  },
  {
   "cell_type": "code",
   "execution_count": 110,
   "metadata": {
    "collapsed": false
   },
   "outputs": [
    {
     "data": {
      "text/html": [
       "0.00191913294016305"
      ],
      "text/latex": [
       "0.00191913294016305"
      ],
      "text/markdown": [
       "0.00191913294016305"
      ],
      "text/plain": [
       "[1] 0.001919133"
      ]
     },
     "metadata": {},
     "output_type": "display_data"
    }
   ],
   "source": [
    "pbinom(sum(diff<0),length(diff),0.5)"
   ]
  },
  {
   "cell_type": "markdown",
   "metadata": {},
   "source": [
    "也就是说，我们单纯把数据分成两半匹配求差，然后看符号数是否服从二项分布。这么做的原假设可以是每个这样的对如何取是对称随机的。\n",
    "而备择假设也许是是不对称随机的（然而既然使用二项分布，就不能包含一些随时间越来越大之类的假设。虽然该假设也可以用这个统计量检验\n",
    "，但是却无法与前半段出自一个总体后半段出自一个只是均值更高的总体区分开来。）"
   ]
  },
  {
   "cell_type": "markdown",
   "metadata": {},
   "source": [
    "## 游程检验\n",
    "\n",
    "一个随机的0,1生成过程出现的游程（run），即全为0或全为1组成的段，的数量是统计量。在某种意义的随机假设下，该统计量服从特定分布。\n",
    "注意这个检验有点像之前只考虑秩信息，丢掉了分类原因信息且因此功效太低而被舍弃的那个检验。但这里是故意这么做的，这样就可以控制\n",
    "0,1本身出现概率而不是仅仅检验0.5的情况。比如说，不同概率值的伯努利过程应该在游程检验上一致地接受原假设，而在类似wilcoxon秩和检验\n",
    "上时则会在偏离0.5时拒绝，当然这种行为是不是我们想要的完全要看情况。\n",
    "\n",
    "给定0出现的次数$m$，1出现的次数$n$后，检验统计量，游程数R服从渐进正态分布且有以下关系:\n",
    "\n",
    "$$\n",
    "Z = \\frac{R - \\mu_R}{\\sigma_R} = \\frac{R-(\\frac{2mn}{m+n}+1)}{\\sqrt{ \\frac{2mn(2mn-m-n)}{(m+n)^2(m+n-1)}  }} \\to N(0,1)\n",
    "$$"
   ]
  },
  {
   "cell_type": "code",
   "execution_count": 111,
   "metadata": {
    "collapsed": true
   },
   "outputs": [],
   "source": [
    "run01 <- c(0,0,0,0,0,0,0,1,1,1,1,1,1,0,0,0,0,1,1,1,1,0,0)"
   ]
  },
  {
   "cell_type": "code",
   "execution_count": 160,
   "metadata": {
    "collapsed": false
   },
   "outputs": [],
   "source": [
    "run.Z <- function(R,m,n){\n",
    "    up <- R - (2*m*n)/(m+n) - 1\n",
    "    down <- sqrt( (2*m*n*(2*m*n - m - n))/((m+n)^2*(m+n-1)) )\n",
    "    return(up/down)\n",
    "}"
   ]
  },
  {
   "cell_type": "code",
   "execution_count": 163,
   "metadata": {
    "collapsed": false
   },
   "outputs": [],
   "source": [
    "run.n <- function(seq){\n",
    "    n <- 1\n",
    "    last <- seq[1]\n",
    "    for(item in seq[2:length(seq)]){\n",
    "        if(item != last){\n",
    "            n <- n + 1\n",
    "            last <- item\n",
    "        }\n",
    "    }\n",
    "    return(n)\n",
    "}\n",
    "\n",
    "run.test <- function(seq,lower.tail=TRUE){\n",
    "    pnorm(run.Z(run.n(seq),sum(seq==0),sum(seq==1)), lower.tail = lower.tail)\n",
    "}"
   ]
  },
  {
   "cell_type": "code",
   "execution_count": 116,
   "metadata": {
    "collapsed": false
   },
   "outputs": [
    {
     "data": {
      "text/html": [
       "5"
      ],
      "text/latex": [
       "5"
      ],
      "text/markdown": [
       "5"
      ],
      "text/plain": [
       "[1] 5"
      ]
     },
     "metadata": {},
     "output_type": "display_data"
    }
   ],
   "source": [
    "run.n(run01)"
   ]
  },
  {
   "cell_type": "code",
   "execution_count": 157,
   "metadata": {
    "collapsed": false
   },
   "outputs": [
    {
     "data": {
      "text/html": [
       "-3.17438629264874"
      ],
      "text/latex": [
       "-3.17438629264874"
      ],
      "text/markdown": [
       "-3.17438629264874"
      ],
      "text/plain": [
       "[1] -3.174386"
      ]
     },
     "metadata": {},
     "output_type": "display_data"
    }
   ],
   "source": [
    "run.Z(run.n(run01),sum(run01==0),sum(run01==1))"
   ]
  },
  {
   "cell_type": "code",
   "execution_count": 169,
   "metadata": {
    "collapsed": false
   },
   "outputs": [
    {
     "data": {
      "text/html": [
       "0.000750768548177876"
      ],
      "text/latex": [
       "0.000750768548177876"
      ],
      "text/markdown": [
       "0.000750768548177876"
      ],
      "text/plain": [
       "[1] 0.0007507685"
      ]
     },
     "metadata": {},
     "output_type": "display_data"
    }
   ],
   "source": [
    "pnorm(run.Z(run.n(run01),sum(run01==0),sum(run01==1)))"
   ]
  },
  {
   "cell_type": "code",
   "execution_count": 150,
   "metadata": {
    "collapsed": false
   },
   "outputs": [
    {
     "data": {
      "text/html": [
       "5"
      ],
      "text/latex": [
       "5"
      ],
      "text/markdown": [
       "5"
      ],
      "text/plain": [
       "[1] 5"
      ]
     },
     "metadata": {},
     "output_type": "display_data"
    }
   ],
   "source": [
    "run.n(run01)"
   ]
  },
  {
   "cell_type": "code",
   "execution_count": 151,
   "metadata": {
    "collapsed": false
   },
   "outputs": [
    {
     "data": {
      "text/html": [
       "13"
      ],
      "text/latex": [
       "13"
      ],
      "text/markdown": [
       "13"
      ],
      "text/plain": [
       "[1] 13"
      ]
     },
     "metadata": {},
     "output_type": "display_data"
    }
   ],
   "source": [
    "sum(run01==0)"
   ]
  },
  {
   "cell_type": "code",
   "execution_count": 152,
   "metadata": {
    "collapsed": false
   },
   "outputs": [
    {
     "data": {
      "text/html": [
       "10"
      ],
      "text/latex": [
       "10"
      ],
      "text/markdown": [
       "10"
      ],
      "text/plain": [
       "[1] 10"
      ]
     },
     "metadata": {},
     "output_type": "display_data"
    }
   ],
   "source": [
    "sum(run01==1)"
   ]
  },
  {
   "cell_type": "code",
   "execution_count": 153,
   "metadata": {
    "collapsed": false
   },
   "outputs": [
    {
     "data": {
      "text/html": [
       "-3.17438629264874"
      ],
      "text/latex": [
       "-3.17438629264874"
      ],
      "text/markdown": [
       "-3.17438629264874"
      ],
      "text/plain": [
       "[1] -3.174386"
      ]
     },
     "metadata": {},
     "output_type": "display_data"
    }
   ],
   "source": [
    "run.Z(run.n(run01),sum(run01==0),sum(run01==1))"
   ]
  },
  {
   "cell_type": "code",
   "execution_count": 177,
   "metadata": {
    "collapsed": false
   },
   "outputs": [
    {
     "data": {
      "text/html": [
       "0.000750768548177876"
      ],
      "text/latex": [
       "0.000750768548177876"
      ],
      "text/markdown": [
       "0.000750768548177876"
      ],
      "text/plain": [
       "[1] 0.0007507685"
      ]
     },
     "metadata": {},
     "output_type": "display_data"
    }
   ],
   "source": [
    "run.test(run01)"
   ]
  },
  {
   "cell_type": "markdown",
   "metadata": {},
   "source": [
    "如果能转化成二分类，都可以利用游程检验，如类似符号检验用一个分隔点把数分成两类（如就用样本中位数。直观上看虽然游程检验自带控制出现率，\n",
    "但0.5出现率依然是“最有效的”，只要考虑到全是1或0显然无法得出任何结论）。"
   ]
  },
  {
   "cell_type": "code",
   "execution_count": 131,
   "metadata": {
    "collapsed": true
   },
   "outputs": [],
   "source": [
    "run02 <- c(12.27, 9.92, 10.81, 11.79, 11.87, 10.90, 11.22, 10.80, 10.33, 9.30, 9.81, 8.85,\n",
    "           9.32,  8.67, 9.32, 9.53, 9.58, 8.94, 7.89, 10.77)"
   ]
  },
  {
   "cell_type": "code",
   "execution_count": 161,
   "metadata": {
    "collapsed": false
   },
   "outputs": [
    {
     "data": {
      "text/html": [
       "0.00150153709635575"
      ],
      "text/latex": [
       "0.00150153709635575"
      ],
      "text/markdown": [
       "0.00150153709635575"
      ],
      "text/plain": [
       "[1] 0.001501537"
      ]
     },
     "metadata": {},
     "output_type": "display_data"
    }
   ],
   "source": [
    "run.test((sign(run02 - median(run02))+1)/2)  * 2 # two side approx"
   ]
  },
  {
   "cell_type": "markdown",
   "metadata": {},
   "source": [
    "最后我们看看那个打了半天的`TJAir`数据的邻期增长下降是不是随机的。"
   ]
  },
  {
   "cell_type": "code",
   "execution_count": 164,
   "metadata": {
    "collapsed": false
   },
   "outputs": [
    {
     "data": {
      "text/html": [
       "<ol class=list-inline>\n",
       "\t<li>0</li>\n",
       "\t<li>1</li>\n",
       "\t<li>1</li>\n",
       "\t<li>1</li>\n",
       "\t<li>0</li>\n",
       "\t<li>1</li>\n",
       "\t<li>1</li>\n",
       "\t<li>0</li>\n",
       "\t<li>1</li>\n",
       "\t<li>0</li>\n",
       "\t<li>0</li>\n",
       "\t<li>0</li>\n",
       "\t<li>0</li>\n",
       "\t<li>1</li>\n",
       "\t<li>1</li>\n",
       "\t<li>1</li>\n",
       "\t<li>0</li>\n",
       "\t<li>1</li>\n",
       "\t<li>1</li>\n",
       "\t<li>0</li>\n",
       "\t<li>1</li>\n",
       "\t<li>0</li>\n",
       "\t<li>0</li>\n",
       "\t<li>1</li>\n",
       "\t<li>0</li>\n",
       "\t<li>1</li>\n",
       "\t<li>1</li>\n",
       "\t<li>1</li>\n",
       "\t<li>0</li>\n",
       "\t<li>1</li>\n",
       "\t<li>1</li>\n",
       "\t<li>0</li>\n",
       "\t<li>1</li>\n",
       "\t<li>0</li>\n",
       "\t<li>0</li>\n",
       "\t<li>1</li>\n",
       "\t<li>0</li>\n",
       "\t<li>1</li>\n",
       "\t<li>1</li>\n",
       "\t<li>1</li>\n",
       "\t<li>0</li>\n",
       "\t<li>1</li>\n",
       "\t<li>1</li>\n",
       "\t<li>0</li>\n",
       "\t<li>1</li>\n",
       "\t<li>0</li>\n",
       "\t<li>0</li>\n",
       "\t<li>0</li>\n",
       "\t<li>1</li>\n",
       "\t<li>0</li>\n",
       "\t<li>0</li>\n",
       "\t<li>1</li>\n",
       "\t<li>0</li>\n",
       "\t<li>1</li>\n",
       "\t<li>1</li>\n",
       "\t<li>0</li>\n",
       "\t<li>1</li>\n",
       "\t<li>0</li>\n",
       "\t<li>0</li>\n",
       "\t<li>1</li>\n",
       "\t<li>0</li>\n",
       "\t<li>1</li>\n",
       "\t<li>1</li>\n",
       "\t<li>1</li>\n",
       "\t<li>0</li>\n",
       "\t<li>1</li>\n",
       "\t<li>1</li>\n",
       "\t<li>0</li>\n",
       "\t<li>1</li>\n",
       "\t<li>0</li>\n",
       "\t<li>0</li>\n",
       "\t<li>1</li>\n",
       "\t<li>0</li>\n",
       "\t<li>1</li>\n",
       "\t<li>1</li>\n",
       "\t<li>1</li>\n",
       "\t<li>0</li>\n",
       "\t<li>1</li>\n",
       "\t<li>1</li>\n",
       "\t<li>0</li>\n",
       "\t<li>1</li>\n",
       "\t<li>0</li>\n",
       "\t<li>0</li>\n",
       "\t<li>1</li>\n",
       "\t<li>1</li>\n",
       "\t<li>1</li>\n",
       "\t<li>1</li>\n",
       "\t<li>0</li>\n",
       "\t<li>0</li>\n",
       "\t<li>1</li>\n",
       "\t<li>1</li>\n",
       "\t<li>0</li>\n",
       "\t<li>1</li>\n",
       "\t<li>0</li>\n",
       "\t<li>0</li>\n",
       "\t<li>1</li>\n",
       "\t<li>0</li>\n",
       "\t<li>1</li>\n",
       "\t<li>0</li>\n",
       "\t<li>0</li>\n",
       "\t<li>1</li>\n",
       "\t<li>1</li>\n",
       "\t<li>1</li>\n",
       "\t<li>0</li>\n",
       "\t<li>1</li>\n",
       "\t<li>0</li>\n",
       "\t<li>1</li>\n",
       "</ol>\n"
      ],
      "text/latex": [
       "\\begin{enumerate*}\n",
       "\\item 0\n",
       "\\item 1\n",
       "\\item 1\n",
       "\\item 1\n",
       "\\item 0\n",
       "\\item 1\n",
       "\\item 1\n",
       "\\item 0\n",
       "\\item 1\n",
       "\\item 0\n",
       "\\item 0\n",
       "\\item 0\n",
       "\\item 0\n",
       "\\item 1\n",
       "\\item 1\n",
       "\\item 1\n",
       "\\item 0\n",
       "\\item 1\n",
       "\\item 1\n",
       "\\item 0\n",
       "\\item 1\n",
       "\\item 0\n",
       "\\item 0\n",
       "\\item 1\n",
       "\\item 0\n",
       "\\item 1\n",
       "\\item 1\n",
       "\\item 1\n",
       "\\item 0\n",
       "\\item 1\n",
       "\\item 1\n",
       "\\item 0\n",
       "\\item 1\n",
       "\\item 0\n",
       "\\item 0\n",
       "\\item 1\n",
       "\\item 0\n",
       "\\item 1\n",
       "\\item 1\n",
       "\\item 1\n",
       "\\item 0\n",
       "\\item 1\n",
       "\\item 1\n",
       "\\item 0\n",
       "\\item 1\n",
       "\\item 0\n",
       "\\item 0\n",
       "\\item 0\n",
       "\\item 1\n",
       "\\item 0\n",
       "\\item 0\n",
       "\\item 1\n",
       "\\item 0\n",
       "\\item 1\n",
       "\\item 1\n",
       "\\item 0\n",
       "\\item 1\n",
       "\\item 0\n",
       "\\item 0\n",
       "\\item 1\n",
       "\\item 0\n",
       "\\item 1\n",
       "\\item 1\n",
       "\\item 1\n",
       "\\item 0\n",
       "\\item 1\n",
       "\\item 1\n",
       "\\item 0\n",
       "\\item 1\n",
       "\\item 0\n",
       "\\item 0\n",
       "\\item 1\n",
       "\\item 0\n",
       "\\item 1\n",
       "\\item 1\n",
       "\\item 1\n",
       "\\item 0\n",
       "\\item 1\n",
       "\\item 1\n",
       "\\item 0\n",
       "\\item 1\n",
       "\\item 0\n",
       "\\item 0\n",
       "\\item 1\n",
       "\\item 1\n",
       "\\item 1\n",
       "\\item 1\n",
       "\\item 0\n",
       "\\item 0\n",
       "\\item 1\n",
       "\\item 1\n",
       "\\item 0\n",
       "\\item 1\n",
       "\\item 0\n",
       "\\item 0\n",
       "\\item 1\n",
       "\\item 0\n",
       "\\item 1\n",
       "\\item 0\n",
       "\\item 0\n",
       "\\item 1\n",
       "\\item 1\n",
       "\\item 1\n",
       "\\item 0\n",
       "\\item 1\n",
       "\\item 0\n",
       "\\item 1\n",
       "\\end{enumerate*}\n"
      ],
      "text/markdown": [
       "1. 0\n",
       "2. 1\n",
       "3. 1\n",
       "4. 1\n",
       "5. 0\n",
       "6. 1\n",
       "7. 1\n",
       "8. 0\n",
       "9. 1\n",
       "10. 0\n",
       "11. 0\n",
       "12. 0\n",
       "13. 0\n",
       "14. 1\n",
       "15. 1\n",
       "16. 1\n",
       "17. 0\n",
       "18. 1\n",
       "19. 1\n",
       "20. 0\n",
       "21. 1\n",
       "22. 0\n",
       "23. 0\n",
       "24. 1\n",
       "25. 0\n",
       "26. 1\n",
       "27. 1\n",
       "28. 1\n",
       "29. 0\n",
       "30. 1\n",
       "31. 1\n",
       "32. 0\n",
       "33. 1\n",
       "34. 0\n",
       "35. 0\n",
       "36. 1\n",
       "37. 0\n",
       "38. 1\n",
       "39. 1\n",
       "40. 1\n",
       "41. 0\n",
       "42. 1\n",
       "43. 1\n",
       "44. 0\n",
       "45. 1\n",
       "46. 0\n",
       "47. 0\n",
       "48. 0\n",
       "49. 1\n",
       "50. 0\n",
       "51. 0\n",
       "52. 1\n",
       "53. 0\n",
       "54. 1\n",
       "55. 1\n",
       "56. 0\n",
       "57. 1\n",
       "58. 0\n",
       "59. 0\n",
       "60. 1\n",
       "61. 0\n",
       "62. 1\n",
       "63. 1\n",
       "64. 1\n",
       "65. 0\n",
       "66. 1\n",
       "67. 1\n",
       "68. 0\n",
       "69. 1\n",
       "70. 0\n",
       "71. 0\n",
       "72. 1\n",
       "73. 0\n",
       "74. 1\n",
       "75. 1\n",
       "76. 1\n",
       "77. 0\n",
       "78. 1\n",
       "79. 1\n",
       "80. 0\n",
       "81. 1\n",
       "82. 0\n",
       "83. 0\n",
       "84. 1\n",
       "85. 1\n",
       "86. 1\n",
       "87. 1\n",
       "88. 0\n",
       "89. 0\n",
       "90. 1\n",
       "91. 1\n",
       "92. 0\n",
       "93. 1\n",
       "94. 0\n",
       "95. 0\n",
       "96. 1\n",
       "97. 0\n",
       "98. 1\n",
       "99. 0\n",
       "100. 0\n",
       "101. 1\n",
       "102. 1\n",
       "103. 1\n",
       "104. 0\n",
       "105. 1\n",
       "106. 0\n",
       "107. 1\n",
       "\n",
       "\n"
      ],
      "text/plain": [
       "  [1] 0 1 1 1 0 1 1 0 1 0 0 0 0 1 1 1 0 1 1 0 1 0 0 1 0 1 1 1 0 1 1 0 1 0 0 1 0\n",
       " [38] 1 1 1 0 1 1 0 1 0 0 0 1 0 0 1 0 1 1 0 1 0 0 1 0 1 1 1 0 1 1 0 1 0 0 1 0 1\n",
       " [75] 1 1 0 1 1 0 1 0 0 1 1 1 1 0 0 1 1 0 1 0 0 1 0 1 0 0 1 1 1 0 1 0 1"
      ]
     },
     "metadata": {},
     "output_type": "display_data"
    }
   ],
   "source": [
    "diff2 <- (sign(TJAir[2:length(TJAir)] - TJAir[1:length(TJAir)-1]) + 1)/2\n",
    "diff2"
   ]
  },
  {
   "cell_type": "code",
   "execution_count": 172,
   "metadata": {
    "collapsed": false
   },
   "outputs": [
    {
     "data": {
      "text/html": [
       "48"
      ],
      "text/latex": [
       "48"
      ],
      "text/markdown": [
       "48"
      ],
      "text/plain": [
       "[1] 48"
      ]
     },
     "metadata": {},
     "output_type": "display_data"
    }
   ],
   "source": [
    "sum(diff2 == 0)"
   ]
  },
  {
   "cell_type": "code",
   "execution_count": 173,
   "metadata": {
    "collapsed": false
   },
   "outputs": [
    {
     "data": {
      "text/html": [
       "59"
      ],
      "text/latex": [
       "59"
      ],
      "text/markdown": [
       "59"
      ],
      "text/plain": [
       "[1] 59"
      ]
     },
     "metadata": {},
     "output_type": "display_data"
    }
   ],
   "source": [
    "sum(diff2 == 1)"
   ]
  },
  {
   "cell_type": "code",
   "execution_count": 174,
   "metadata": {
    "collapsed": false
   },
   "outputs": [
    {
     "data": {
      "text/html": [
       "0.997126677254495"
      ],
      "text/latex": [
       "0.997126677254495"
      ],
      "text/markdown": [
       "0.997126677254495"
      ],
      "text/plain": [
       "[1] 0.9971267"
      ]
     },
     "metadata": {},
     "output_type": "display_data"
    }
   ],
   "source": [
    "run.test(diff2)"
   ]
  },
  {
   "cell_type": "code",
   "execution_count": 176,
   "metadata": {
    "collapsed": false
   },
   "outputs": [
    {
     "data": {
      "text/html": [
       "0.00287332274550483"
      ],
      "text/latex": [
       "0.00287332274550483"
      ],
      "text/markdown": [
       "0.00287332274550483"
      ],
      "text/plain": [
       "[1] 0.002873323"
      ]
     },
     "metadata": {},
     "output_type": "display_data"
    }
   ],
   "source": [
    "run.test(diff2,lower.tail=FALSE)"
   ]
  },
  {
   "cell_type": "markdown",
   "metadata": {},
   "source": [
    "看起来游程比随机假设下偏大，所以有多了以后继续多，少了以后继续少的倾向。"
   ]
  }
 ],
 "metadata": {
  "anaconda-cloud": {},
  "kernelspec": {
   "display_name": "R 3.3",
   "language": "R",
   "name": "ir33"
  },
  "language_info": {
   "codemirror_mode": "r",
   "file_extension": ".r",
   "mimetype": "text/x-r-source",
   "name": "R",
   "pygments_lexer": "r",
   "version": "3.3.1"
  }
 },
 "nbformat": 4,
 "nbformat_minor": 0
}
