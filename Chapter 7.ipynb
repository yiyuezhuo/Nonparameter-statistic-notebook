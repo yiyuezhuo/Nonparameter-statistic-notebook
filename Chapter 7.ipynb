{
 "cells": [
  {
   "cell_type": "markdown",
   "metadata": {},
   "source": [
    "# 分布检验和拟合优度 $\\chi^2$ 检验\n",
    "\n",
    "## KS检验"
   ]
  },
  {
   "cell_type": "code",
   "execution_count": 1,
   "metadata": {
    "collapsed": true
   },
   "outputs": [],
   "source": [
    "ind <- c(15.04, 15.36, 14.57, 14.53, 15.57, 14.69, 15.37, 14.66, 14.52, 15.41,\n",
    "         15.34, 14.28, 15.01, 14.76, 14.38, 15.87, 13.66, 14.97, 15.29, 14.95)"
   ]
  },
  {
   "cell_type": "code",
   "execution_count": null,
   "metadata": {
    "collapsed": true
   },
   "outputs": [],
   "source": []
  }
 ],
 "metadata": {
  "kernelspec": {
   "display_name": "R 3.3",
   "language": "R",
   "name": "ir33"
  },
  "language_info": {
   "codemirror_mode": "r",
   "file_extension": ".r",
   "mimetype": "text/x-r-source",
   "name": "R",
   "pygments_lexer": "r",
   "version": "3.3.1"
  }
 },
 "nbformat": 4,
 "nbformat_minor": 0
}
