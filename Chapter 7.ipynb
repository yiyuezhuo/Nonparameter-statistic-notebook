{
 "cells": [
  {
   "cell_type": "markdown",
   "metadata": {},
   "source": [
    "# 分布检验和拟合优度 $\\chi^2$ 检验\n",
    "\n",
    "## KS检验"
   ]
  },
  {
   "cell_type": "code",
   "execution_count": 1,
   "metadata": {
    "collapsed": true
   },
   "outputs": [],
   "source": [
    "ind <- c(15.04, 15.36, 14.57, 14.53, 15.57, 14.69, 15.37, 14.66, 14.52, 15.41,\n",
    "         15.34, 14.28, 15.01, 14.76, 14.38, 15.87, 13.66, 14.97, 15.29, 14.95)"
   ]
  },
  {
   "cell_type": "code",
   "execution_count": 2,
   "metadata": {
    "collapsed": false
   },
   "outputs": [
    {
     "data": {
      "image/png": "[encoded data removed]",
      "text/plain": [
       "Plot with title \"ecdf(ind)\""
      ]
     },
     "metadata": {},
     "output_type": "display_data"
    }
   ],
   "source": [
    "plot(ecdf(ind))\n",
    "mu <- mean(ind)\n",
    "sigma <- sd(ind)\n",
    "x <- seq(min(ind), max(ind), length = 100)\n",
    "lines(x, pnorm(x, mu, sigma))"
   ]
  },
  {
   "cell_type": "markdown",
   "metadata": {
    "collapsed": false
   },
   "source": [
    "直观上我们感觉样本的经验分布函数如果与给定的确定分布的函数相差甚远，那么样本出自那个分布的就显得荒谬。事实上，KS统计量\n",
    "\n",
    "$$\n",
    "D = \\sup_x \\mid S(X) - F_0(X) \\mid\n",
    "$$\n",
    "\n",
    "定义为经验分布函数与给定总体分布函数的最大差别（绝对差上确界）。给定总体分布和样本规模下经验分布函数是具有固定分布的随机“变量”\n",
    "（有点像随机过程），而它的KS统计量在给定总体分布函数（考察功效时这里这个总体分布函数不变，但总体分布变了）后也具是有确定分布的随机变量，\n",
    "当然在总体分布与KS统计量的总体分布函数不一致的情况下（考察功效时用的），D统计量的分布就不知道了，这也是非参数检验的特征，\n",
    "它只有在零假设成立下才有distribution-free的分布。\n",
    "\n",
    "D统计量的精确分布是一个复杂的多重积分。故而常用它的$n \\to \\infty$的近似结果，有其分布函数为\n",
    "\n",
    "$$\n",
    "P(\\sqrt{n}D_n < x) \\to K(x) \\\\\n",
    "K(x) = \n",
    "\\begin{cases}\n",
    "0, & x<0 \\\\\n",
    "\\sum_{j= -\\infty}^\\infty (-1)^j \\exp(-2j^2 x^2), & x>0 \n",
    "\\end{cases}\n",
    "$$\n",
    "\n",
    "由于检验分布函数定义的阶梯函数性和分布函数递增的特点，KS统计量的计算特别方便。显而易见，对于每个$[x_i,x_{i+1}])$型区间，\n",
    "它的最大绝对差可以在$(ecdf(x_1) - cdf(x_1),ecdf(x_1) - cdf(x_2),ecdf(x_2)-cdf(x_1),ecdf(x_2)-cdf(x_2))$四个点中取得。\n",
    "所以整个最大值可以如此取得\n",
    "\n",
    "$$\n",
    "D_n  = \\max_{1 \\le i \\le n} \\{ \\max(|S(x_i)-F_0(x_i)|, |S(x_{i-1}) - F_0(x_i)| ) \\}\n",
    "$$\n",
    "\n",
    "其中$S(x)$为经验分布函数，$F_0(x)$为给定的确定分布函数。\n",
    "\n",
    "说KS统计量好算，是考虑比较如下的Cramer-von Mises统计量的结果。\n",
    "\n",
    "$$\n",
    "W^2 = \\int w_n^2(x)dF(x) \\\\\n",
    "U^2 = n \\int \\{  w_n(x) - \\int w_n(t) dF(t) \\}^2 dF(x)\n",
    "$$\n",
    "\n",
    "看看这些积分，那些$F(x)$说不定都没有显示表达式。简直太糟了。"
   ]
  },
  {
   "cell_type": "code",
   "execution_count": 3,
   "metadata": {
    "collapsed": false,
    "scrolled": true
   },
   "outputs": [
    {
     "data": {
      "text/plain": [
       "\n",
       "\tOne-sample Kolmogorov-Smirnov test\n",
       "\n",
       "data:  ind\n",
       "D = 0.11599, p-value = 0.9226\n",
       "alternative hypothesis: two-sided\n"
      ]
     },
     "metadata": {},
     "output_type": "display_data"
    }
   ],
   "source": [
    "ks.test(ind,\"pnorm\",mu,sigma)"
   ]
  },
  {
   "cell_type": "code",
   "execution_count": 4,
   "metadata": {
    "collapsed": true
   },
   "outputs": [],
   "source": [
    "K <- function(x, j = seq(-100,100)){\n",
    "    if(x <= 0){\n",
    "        return(0)\n",
    "    }\n",
    "    sum((-1)^j * exp(-2*j^2*x^2))\n",
    "}"
   ]
  },
  {
   "cell_type": "code",
   "execution_count": 5,
   "metadata": {
    "collapsed": false
   },
   "outputs": [],
   "source": [
    "Dn <- function(arr, cdf){\n",
    "    arr <- sort(arr)\n",
    "    n <- length(arr)\n",
    "    fa <- seq(1,n)/n\n",
    "    ffa <- cdf(arr)\n",
    "    fffa <- c(NA,fa[1:(n-1)])\n",
    "    max(c(abs(fa - ffa),abs(fffa - ffa)),na.rm=TRUE)\n",
    "}"
   ]
  },
  {
   "cell_type": "code",
   "execution_count": 6,
   "metadata": {
    "collapsed": false
   },
   "outputs": [
    {
     "data": {
      "text/html": [
       "0.115991308738466"
      ],
      "text/latex": [
       "0.115991308738466"
      ],
      "text/markdown": [
       "0.115991308738466"
      ],
      "text/plain": [
       "[1] 0.1159913"
      ]
     },
     "metadata": {},
     "output_type": "display_data"
    }
   ],
   "source": [
    "Dn(ind,function(x){pnorm(x,mu,sigma)})"
   ]
  },
  {
   "cell_type": "code",
   "execution_count": 7,
   "metadata": {
    "collapsed": false
   },
   "outputs": [
    {
     "data": {
      "text/html": [
       "0.950687466746973"
      ],
      "text/latex": [
       "0.950687466746973"
      ],
      "text/markdown": [
       "0.950687466746973"
      ],
      "text/plain": [
       "[1] 0.9506875"
      ]
     },
     "metadata": {},
     "output_type": "display_data"
    }
   ],
   "source": [
    "1 - K(sqrt(length(ind))*Dn(ind,function(x){pnorm(x,mu,sigma)}))"
   ]
  },
  {
   "cell_type": "code",
   "execution_count": 8,
   "metadata": {
    "collapsed": false
   },
   "outputs": [
    {
     "data": {
      "text/plain": [
       "\n",
       "\tOne-sample Kolmogorov-Smirnov test\n",
       "\n",
       "data:  ind\n",
       "D = 0.11599, p-value = 0.9507\n",
       "alternative hypothesis: two-sided\n"
      ]
     },
     "metadata": {},
     "output_type": "display_data"
    }
   ],
   "source": [
    "ks.test(ind,\"pnorm\",mu,sigma,exact=F)"
   ]
  },
  {
   "cell_type": "markdown",
   "metadata": {},
   "source": [
    "`shapiro.test`是比`ks.test`拥有更高势的检验，这可以由以下表格看出。各行是检验方法，各列是给定分布。每个格进行若干次模拟，\n",
    "每次模型从总体中抽出一个一定规模的样本，得到其p值，然后即各次模拟平均p值于格中。另一个表则给出按0.05显著性水平和p值式拒绝域\n",
    "（这时可以看成p值是原统计量又一次映射（放到原统计量分布函数里）的结果，此时p值也成了统计量，服从0,1上的均匀分布，\n",
    "一般我们把靠小的那段划为拒绝域）。显然我们希望假设正确时格上取较大的p值或较低的功效值。而在假设错误时取较小的p值和较大的功效值。\n",
    "\n",
    "以上是改变背后分布，而假设检验和检验统计量则都当做总体是正态分布的检验结果，我们这时当然希望正态列和非正态列呈现上述所述差异。\n",
    "\n",
    "该表可以容纳（但和上表不等价，不是说一个表可以做两个理解）一种是改变假设检验和检验统计量为假设其为各种分布，而背后分布一直是正态分布。\n",
    "看看错误率如何。"
   ]
  },
  {
   "cell_type": "code",
   "execution_count": 9,
   "metadata": {
    "collapsed": false
   },
   "outputs": [],
   "source": [
    "experiment <- function(test, p.count = 200, size = 30){\n",
    "    # test: arr -> p.value\n",
    "    rl <- list()\n",
    "    exper <- function(r, ...){\n",
    "        arg <- as.list(c(size, ...))\n",
    "        replicate(p.count, test( do.call(r,arg) ))\n",
    "    }\n",
    "    \n",
    "    rl[['N(0,1)']] <- exper(rnorm,0,1)\n",
    "    rl[['Exp(1)']] <- exper(rexp,1)\n",
    "    rl[['Gamma(1,2)']] <- exper(rgamma,1,2)\n",
    "    rl[['U(1,2)']] <- exper(runif,1,2)\n",
    "    rl[['t(1)']] <- exper(rt,1)\n",
    "    rl[['chi2(1)']] <- exper(rchisq,1)\n",
    "    rl[['F(1,2)']] <- exper(rf,1,2)\n",
    "    \n",
    "    return(rl)\n",
    "}"
   ]
  },
  {
   "cell_type": "code",
   "execution_count": 10,
   "metadata": {
    "collapsed": false
   },
   "outputs": [],
   "source": [
    "shapiro.res <- experiment(function(arr)shapiro.test(arr)$p.value)"
   ]
  },
  {
   "cell_type": "code",
   "execution_count": 11,
   "metadata": {
    "collapsed": false
   },
   "outputs": [
    {
     "data": {
      "text/html": [
       "<dl class=dl-horizontal>\n",
       "\t<dt>N(0,1)</dt>\n",
       "\t\t<dd>0.506321483005264</dd>\n",
       "\t<dt>Exp(1)</dt>\n",
       "\t\t<dd>0.00475952796221798</dd>\n",
       "\t<dt>Gamma(1,2)</dt>\n",
       "\t\t<dd>0.00553505764805791</dd>\n",
       "\t<dt>U(1,2)</dt>\n",
       "\t\t<dd>0.111759033127045</dd>\n",
       "\t<dt>t(1)</dt>\n",
       "\t\t<dd>0.0187953333483241</dd>\n",
       "\t<dt>chi2(1)</dt>\n",
       "\t\t<dd>0.000296237553486212</dd>\n",
       "\t<dt>F(1,2)</dt>\n",
       "\t\t<dd>4.63940666455318e-06</dd>\n",
       "</dl>\n"
      ],
      "text/latex": [
       "\\begin{description*}\n",
       "\\item[N(0,1)] 0.506321483005264\n",
       "\\item[Exp(1)] 0.00475952796221798\n",
       "\\item[Gamma(1,2)] 0.00553505764805791\n",
       "\\item[U(1,2)] 0.111759033127045\n",
       "\\item[t(1)] 0.0187953333483241\n",
       "\\item[chi2(1)] 0.000296237553486212\n",
       "\\item[F(1,2)] 4.63940666455318e-06\n",
       "\\end{description*}\n"
      ],
      "text/markdown": [
       "N(0,1)\n",
       ":   0.506321483005264Exp(1)\n",
       ":   0.00475952796221798Gamma(1,2)\n",
       ":   0.00553505764805791U(1,2)\n",
       ":   0.111759033127045t(1)\n",
       ":   0.0187953333483241chi2(1)\n",
       ":   0.000296237553486212F(1,2)\n",
       ":   4.63940666455318e-06\n",
       "\n"
      ],
      "text/plain": [
       "      N(0,1)       Exp(1)   Gamma(1,2)       U(1,2)         t(1)      chi2(1) \n",
       "5.063215e-01 4.759528e-03 5.535058e-03 1.117590e-01 1.879533e-02 2.962376e-04 \n",
       "      F(1,2) \n",
       "4.639407e-06 "
      ]
     },
     "metadata": {},
     "output_type": "display_data"
    }
   ],
   "source": [
    "sapply(shapiro.res,mean)"
   ]
  },
  {
   "cell_type": "code",
   "execution_count": 12,
   "metadata": {
    "collapsed": false
   },
   "outputs": [
    {
     "data": {
      "text/html": [
       "<dl class=dl-horizontal>\n",
       "\t<dt>N(0,1)</dt>\n",
       "\t\t<dd>0.045</dd>\n",
       "\t<dt>Exp(1)</dt>\n",
       "\t\t<dd>0.97</dd>\n",
       "\t<dt>Gamma(1,2)</dt>\n",
       "\t\t<dd>0.98</dd>\n",
       "\t<dt>U(1,2)</dt>\n",
       "\t\t<dd>0.445</dd>\n",
       "\t<dt>t(1)</dt>\n",
       "\t\t<dd>0.95</dd>\n",
       "\t<dt>chi2(1)</dt>\n",
       "\t\t<dd>1</dd>\n",
       "\t<dt>F(1,2)</dt>\n",
       "\t\t<dd>1</dd>\n",
       "</dl>\n"
      ],
      "text/latex": [
       "\\begin{description*}\n",
       "\\item[N(0,1)] 0.045\n",
       "\\item[Exp(1)] 0.97\n",
       "\\item[Gamma(1,2)] 0.98\n",
       "\\item[U(1,2)] 0.445\n",
       "\\item[t(1)] 0.95\n",
       "\\item[chi2(1)] 1\n",
       "\\item[F(1,2)] 1\n",
       "\\end{description*}\n"
      ],
      "text/markdown": [
       "N(0,1)\n",
       ":   0.045Exp(1)\n",
       ":   0.97Gamma(1,2)\n",
       ":   0.98U(1,2)\n",
       ":   0.445t(1)\n",
       ":   0.95chi2(1)\n",
       ":   1F(1,2)\n",
       ":   1\n",
       "\n"
      ],
      "text/plain": [
       "    N(0,1)     Exp(1) Gamma(1,2)     U(1,2)       t(1)    chi2(1)     F(1,2) \n",
       "     0.045      0.970      0.980      0.445      0.950      1.000      1.000 "
      ]
     },
     "metadata": {},
     "output_type": "display_data"
    }
   ],
   "source": [
    "sapply(shapiro.res,function(ps){mean(ps < 0.05)})"
   ]
  },
  {
   "cell_type": "code",
   "execution_count": 13,
   "metadata": {
    "collapsed": false
   },
   "outputs": [],
   "source": [
    "ks.res <- experiment(function(arr){\n",
    "    mu <- mean(arr)\n",
    "    sigma <- sd(arr)\n",
    "    ks.test(arr, 'pnorm', mu, sigma)$p.value\n",
    "})"
   ]
  },
  {
   "cell_type": "code",
   "execution_count": 14,
   "metadata": {
    "collapsed": false
   },
   "outputs": [
    {
     "data": {
      "text/html": [
       "<dl class=dl-horizontal>\n",
       "\t<dt>N(0,1)</dt>\n",
       "\t\t<dd>0.794826900619279</dd>\n",
       "\t<dt>Exp(1)</dt>\n",
       "\t\t<dd>0.241679441241613</dd>\n",
       "\t<dt>Gamma(1,2)</dt>\n",
       "\t\t<dd>0.274338316618271</dd>\n",
       "\t<dt>U(1,2)</dt>\n",
       "\t\t<dd>0.668047067495609</dd>\n",
       "\t<dt>t(1)</dt>\n",
       "\t\t<dd>0.0612968853965003</dd>\n",
       "\t<dt>chi2(1)</dt>\n",
       "\t\t<dd>0.0887956686213833</dd>\n",
       "\t<dt>F(1,2)</dt>\n",
       "\t\t<dd>0.00626347822910659</dd>\n",
       "</dl>\n"
      ],
      "text/latex": [
       "\\begin{description*}\n",
       "\\item[N(0,1)] 0.794826900619279\n",
       "\\item[Exp(1)] 0.241679441241613\n",
       "\\item[Gamma(1,2)] 0.274338316618271\n",
       "\\item[U(1,2)] 0.668047067495609\n",
       "\\item[t(1)] 0.0612968853965003\n",
       "\\item[chi2(1)] 0.0887956686213833\n",
       "\\item[F(1,2)] 0.00626347822910659\n",
       "\\end{description*}\n"
      ],
      "text/markdown": [
       "N(0,1)\n",
       ":   0.794826900619279Exp(1)\n",
       ":   0.241679441241613Gamma(1,2)\n",
       ":   0.274338316618271U(1,2)\n",
       ":   0.668047067495609t(1)\n",
       ":   0.0612968853965003chi2(1)\n",
       ":   0.0887956686213833F(1,2)\n",
       ":   0.00626347822910659\n",
       "\n"
      ],
      "text/plain": [
       "     N(0,1)      Exp(1)  Gamma(1,2)      U(1,2)        t(1)     chi2(1) \n",
       "0.794826901 0.241679441 0.274338317 0.668047067 0.061296885 0.088795669 \n",
       "     F(1,2) \n",
       "0.006263478 "
      ]
     },
     "metadata": {},
     "output_type": "display_data"
    }
   ],
   "source": [
    "sapply(ks.res,mean)"
   ]
  },
  {
   "cell_type": "code",
   "execution_count": 15,
   "metadata": {
    "collapsed": false
   },
   "outputs": [
    {
     "data": {
      "text/html": [
       "<dl class=dl-horizontal>\n",
       "\t<dt>N(0,1)</dt>\n",
       "\t\t<dd>0</dd>\n",
       "\t<dt>Exp(1)</dt>\n",
       "\t\t<dd>0.13</dd>\n",
       "\t<dt>Gamma(1,2)</dt>\n",
       "\t\t<dd>0.12</dd>\n",
       "\t<dt>U(1,2)</dt>\n",
       "\t\t<dd>0</dd>\n",
       "\t<dt>t(1)</dt>\n",
       "\t\t<dd>0.75</dd>\n",
       "\t<dt>chi2(1)</dt>\n",
       "\t\t<dd>0.5</dd>\n",
       "\t<dt>F(1,2)</dt>\n",
       "\t\t<dd>0.98</dd>\n",
       "</dl>\n"
      ],
      "text/latex": [
       "\\begin{description*}\n",
       "\\item[N(0,1)] 0\n",
       "\\item[Exp(1)] 0.13\n",
       "\\item[Gamma(1,2)] 0.12\n",
       "\\item[U(1,2)] 0\n",
       "\\item[t(1)] 0.75\n",
       "\\item[chi2(1)] 0.5\n",
       "\\item[F(1,2)] 0.98\n",
       "\\end{description*}\n"
      ],
      "text/markdown": [
       "N(0,1)\n",
       ":   0Exp(1)\n",
       ":   0.13Gamma(1,2)\n",
       ":   0.12U(1,2)\n",
       ":   0t(1)\n",
       ":   0.75chi2(1)\n",
       ":   0.5F(1,2)\n",
       ":   0.98\n",
       "\n"
      ],
      "text/plain": [
       "    N(0,1)     Exp(1) Gamma(1,2)     U(1,2)       t(1)    chi2(1)     F(1,2) \n",
       "      0.00       0.13       0.12       0.00       0.75       0.50       0.98 "
      ]
     },
     "metadata": {},
     "output_type": "display_data"
    }
   ],
   "source": [
    "sapply(ks.res,function(ps){mean(ps < 0.05)})"
   ]
  },
  {
   "cell_type": "code",
   "execution_count": 16,
   "metadata": {
    "collapsed": true
   },
   "outputs": [],
   "source": [
    "x <- c(5.38, 4.38, 9.33, 3.66, 3.72, 1.66, 0.23, 0.08, 2.36, 1.71, 2.01, 0.90, 1.54)\n",
    "y <- c(6.67, 16.21, 11.93, 9.85, 10.43, 13.54, 2.40, 12.89, 9.30, 11.92, 5.74, 14.45, 1.99, 9.14, 2.89)"
   ]
  },
  {
   "cell_type": "code",
   "execution_count": 17,
   "metadata": {
    "collapsed": false
   },
   "outputs": [
    {
     "data": {
      "text/plain": [
       "\n",
       "\tTwo-sample Kolmogorov-Smirnov test\n",
       "\n",
       "data:  x and y\n",
       "D = 0.72308, p-value = 0.0004714\n",
       "alternative hypothesis: two-sided\n"
      ]
     },
     "metadata": {},
     "output_type": "display_data"
    }
   ],
   "source": [
    "ks.test(x,y)"
   ]
  },
  {
   "cell_type": "markdown",
   "metadata": {},
   "source": [
    "双样本问题中除了直接检验它们分布相等，还可以检验它们位置是否相等，如果不相等，自然也就不是同一个分布了。\n",
    "然而这些位置参数的检验往往假设了分布除了位置外相等甚至还指定了那个分布是哪个分布（如正态分布）。"
   ]
  },
  {
   "cell_type": "code",
   "execution_count": 18,
   "metadata": {
    "collapsed": false
   },
   "outputs": [
    {
     "data": {
      "text/plain": [
       "\n",
       "\tWelch Two Sample t-test\n",
       "\n",
       "data:  x and y\n",
       "t = -4.7653, df = 22.524, p-value = 8.793e-05\n",
       "alternative hypothesis: true difference in means is not equal to 0\n",
       "95 percent confidence interval:\n",
       " -9.248876 -3.644970\n",
       "sample estimates:\n",
       "mean of x mean of y \n",
       " 2.843077  9.290000 \n"
      ]
     },
     "metadata": {},
     "output_type": "display_data"
    }
   ],
   "source": [
    "t.test(x,y)"
   ]
  },
  {
   "cell_type": "code",
   "execution_count": 19,
   "metadata": {
    "collapsed": false
   },
   "outputs": [
    {
     "data": {
      "text/plain": [
       "\n",
       "\tWilcoxon rank sum test\n",
       "\n",
       "data:  x and y\n",
       "W = 21, p-value = 0.0001785\n",
       "alternative hypothesis: true location shift is not equal to 0\n"
      ]
     },
     "metadata": {},
     "output_type": "display_data"
    }
   ],
   "source": [
    "wilcox.test(x,y)"
   ]
  },
  {
   "cell_type": "markdown",
   "metadata": {},
   "source": [
    "对于与分布无关的检验，可以考虑Brown-Mood检验，虽然它本身是检验中位数的，但显然检验哪个数如果拒绝都可以表明它们分布不同。\n",
    "但我们宁可选择检验中位数。"
   ]
  },
  {
   "cell_type": "code",
   "execution_count": 22,
   "metadata": {
    "collapsed": false
   },
   "outputs": [
    {
     "data": {
      "text/html": [
       "<table>\n",
       "<tbody>\n",
       "\t<tr><td> 2</td><td>12</td></tr>\n",
       "\t<tr><td>11</td><td> 3</td></tr>\n",
       "</tbody>\n",
       "</table>\n"
      ],
      "text/latex": [
       "\\begin{tabular}{ll}\n",
       "\t  2 & 12\\\\\n",
       "\t 11 &  3\\\\\n",
       "\\end{tabular}\n"
      ],
      "text/markdown": [
       "1. 2\n",
       "2. 11\n",
       "3. 12\n",
       "4. 3\n",
       "\n",
       "\n"
      ],
      "text/plain": [
       "     [,1] [,2]\n",
       "[1,]  2   12  \n",
       "[2,] 11    3  "
      ]
     },
     "metadata": {},
     "output_type": "display_data"
    }
   ],
   "source": [
    "m <- median(c(x,y))\n",
    "\n",
    "mat <- matrix(rep(NA,4),2)\n",
    "\n",
    "mat[1,1] <- sum(x > m)\n",
    "mat[2,1] <- sum(x < m)\n",
    "mat[1,2] <- sum(y > m)\n",
    "mat[2,2] <- sum(y < m)\n",
    "\n",
    "mat"
   ]
  },
  {
   "cell_type": "code",
   "execution_count": 23,
   "metadata": {
    "collapsed": false
   },
   "outputs": [
    {
     "data": {
      "text/plain": [
       "\n",
       "\tFisher's Exact Test for Count Data\n",
       "\n",
       "data:  mat\n",
       "p-value = 0.001838\n",
       "alternative hypothesis: true odds ratio is not equal to 1\n",
       "95 percent confidence interval:\n",
       " 0.003740508 0.416955640\n",
       "sample estimates:\n",
       "odds ratio \n",
       "0.05322453 \n"
      ]
     },
     "metadata": {},
     "output_type": "display_data"
    }
   ],
   "source": [
    "fisher.test(mat)"
   ]
  },
  {
   "cell_type": "markdown",
   "metadata": {},
   "source": [
    "这个等价于显示进行Brown-Mood检验"
   ]
  },
  {
   "cell_type": "code",
   "execution_count": 28,
   "metadata": {
    "collapsed": false
   },
   "outputs": [
    {
     "data": {
      "text/html": [
       "0.00183814181660459"
      ],
      "text/latex": [
       "0.00183814181660459"
      ],
      "text/markdown": [
       "0.00183814181660459"
      ],
      "text/plain": [
       "[1] 0.001838142"
      ]
     },
     "metadata": {},
     "output_type": "display_data"
    }
   ],
   "source": [
    "phyper(mat[1,1], sum(mat[,1]), sum(mat[,2]), sum(mat[1,])) * 2"
   ]
  },
  {
   "cell_type": "markdown",
   "metadata": {},
   "source": [
    "尽管这个P值大了不少，还是可以以0.01显著性水平拒绝原假设位置相同，从而分布也不相同。"
   ]
  },
  {
   "cell_type": "markdown",
   "metadata": {},
   "source": [
    "## Pearson 拟合优度检验\n",
    "\n",
    "Pearson拟合优度检验将分布值域划分为若干个格，给定分布在格上有理论概率或频数，而样本在格上有观测频率或频数。\n",
    "显然可以以理论与观测的偏离来刻画两者的偏离。集中这一点的就是Pearson统计量$Q$。\n",
    "\n",
    "$$\n",
    "Q = \\sum_{i=1}^k \\frac{(N_i - np_{i0})^2}{np_{i0}} = \\sum_{i=1}^k \\frac{(O_i - E_i)^2}{E_i}\n",
    "$$\n",
    "\n",
    "这里的核心是集中单格偏离程度的统计量，pearson剩余 \n",
    "\n",
    "$$\n",
    "\\frac{Q_i - E_i}{\\sqrt{E_i}}\n",
    "$$\n",
    "\n",
    "这个看起来有点奇怪，因为单格理论服从二项分布，如果只看一个格子的话，按标准化的套路，单格统计量应该是这个样子的。\n",
    "\n",
    "$$\n",
    "\\frac{O_i - E(O_i)}{\\sqrt{Var(O_i)}} = \\frac{O_i - E_i}{\\sqrt{np_{i0}(1-p_{i0})}} = \\frac{O_i - E_i}{\\sqrt{\\frac{E_i(N - E_i)}{N}}}\n",
    "$$\n",
    "\n",
    "当然两者在$\\frac{E_i}{N} \\to 0$，即很多格时应该是等价的，但这个设定怎么回事呢？\n",
    "\n",
    "显然是因为这些格之间相关（它们加起来等于常数，显然），事实上这导致了秩降了1.为了证明其服从卡方分布，一种方式就是去相关标准化。\n",
    "这个过程一般只在原来的变量上做线性变换是完不成的（即变换矩阵是对角矩阵）。不过这里成功地证明了其的确服从卡方分布。(定理详细描述见《数理统计学教程》定理3.1，证明见P113，用上了特征函数和二次型的理论，并不没有标准化的直观)。\n",
    "\n",
    "更直接的构造方法是利用多项分布的协方差矩阵直接推导出解析的变换矩阵，它将原变量组变换为新的i.i.d的$N(0,1)$的部分变量组\n",
    "（会少一个变量，或者没少但有一个新变量是0常数）。\n",
    "然后做平方和，顺便看看能不能化简（显然变换矩阵乘任何正交矩阵仍是合法的变换矩阵，也许在其正交变换可达空间中找到一种特别简单的，比如上面那种也许就包含在内），我记得wiki上写了多项分布的协方差矩阵，然而忘了，现在也上不了网就不试了。\n",
    "\n",
    "Fisher证明的更复杂的定理（《数理统计学教程》定理3.2）指出如果分布有些参数进行了极大似然估计来得到确定分布，则自由度还要减去估计的参数个数。这个证明更是在\n",
    "《数理统计学教程》中都没有给出（上一个定理则是连同作者的《概率论与数理统计》也没有给出证明），证明见同作者《高等数理统计学》P242"
   ]
  },
  {
   "cell_type": "code",
   "execution_count": 32,
   "metadata": {
    "collapsed": false
   },
   "outputs": [
    {
     "data": {
      "text/html": [
       "0.570484581497797"
      ],
      "text/latex": [
       "0.570484581497797"
      ],
      "text/markdown": [
       "0.570484581497797"
      ],
      "text/plain": [
       "[1] 0.5704846"
      ]
     },
     "metadata": {},
     "output_type": "display_data"
    }
   ],
   "source": [
    "X <- c(0,1,2,3)\n",
    "N <- c(490, 334, 68, 16)\n",
    "\n",
    "lam <- sum(N*X)/sum(N)\n",
    "lam"
   ]
  },
  {
   "cell_type": "code",
   "execution_count": 35,
   "metadata": {
    "collapsed": false
   },
   "outputs": [
    {
     "data": {
      "text/html": [
       "<ol class=list-inline>\n",
       "\t<li>513.248327425911</li>\n",
       "\t<li>292.800257276015</li>\n",
       "\t<li>83.5190161172775</li>\n",
       "\t<li>15.8821036522576</li>\n",
       "</ol>\n"
      ],
      "text/latex": [
       "\\begin{enumerate*}\n",
       "\\item 513.248327425911\n",
       "\\item 292.800257276015\n",
       "\\item 83.5190161172775\n",
       "\\item 15.8821036522576\n",
       "\\end{enumerate*}\n"
      ],
      "text/markdown": [
       "1. 513.248327425911\n",
       "2. 292.800257276015\n",
       "3. 83.5190161172775\n",
       "4. 15.8821036522576\n",
       "\n",
       "\n"
      ],
      "text/plain": [
       "[1] 513.24833 292.80026  83.51902  15.88210"
      ]
     },
     "metadata": {},
     "output_type": "display_data"
    }
   ],
   "source": [
    "the <- dpois(X,lam)*sum(sum(N))\n",
    "the"
   ]
  },
  {
   "cell_type": "code",
   "execution_count": 37,
   "metadata": {
    "collapsed": false
   },
   "outputs": [
    {
     "data": {
      "text/html": [
       "9.73478514305035"
      ],
      "text/latex": [
       "9.73478514305035"
      ],
      "text/markdown": [
       "9.73478514305035"
      ],
      "text/plain": [
       "[1] 9.734785"
      ]
     },
     "metadata": {},
     "output_type": "display_data"
    }
   ],
   "source": [
    "chi <- sum(((the - N)/sqrt(the))^2)\n",
    "chi"
   ]
  },
  {
   "cell_type": "code",
   "execution_count": 39,
   "metadata": {
    "collapsed": false
   },
   "outputs": [
    {
     "data": {
      "text/html": [
       "0.00769339914612077"
      ],
      "text/latex": [
       "0.00769339914612077"
      ],
      "text/markdown": [
       "0.00769339914612077"
      ],
      "text/plain": [
       "[1] 0.007693399"
      ]
     },
     "metadata": {},
     "output_type": "display_data"
    }
   ],
   "source": [
    "pchisq(chi,length(X)-2,low=F)"
   ]
  },
  {
   "cell_type": "code",
   "execution_count": null,
   "metadata": {
    "collapsed": true
   },
   "outputs": [],
   "source": []
  }
 ],
 "metadata": {
  "anaconda-cloud": {},
  "kernelspec": {
   "display_name": "R 3.3",
   "language": "R",
   "name": "ir33"
  },
  "language_info": {
   "codemirror_mode": "r",
   "file_extension": ".r",
   "mimetype": "text/x-r-source",
   "name": "R",
   "pygments_lexer": "r",
   "version": "3.3.1"
  }
 },
 "nbformat": 4,
 "nbformat_minor": 0
}
