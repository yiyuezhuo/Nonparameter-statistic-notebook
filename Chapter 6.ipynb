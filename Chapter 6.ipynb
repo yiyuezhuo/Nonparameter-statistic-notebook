{
 "cells": [
  {
   "cell_type": "markdown",
   "metadata": {},
   "source": [
    "# 相关和回归\n",
    "\n",
    "## 正态假设下的Pearson相关系数的检验\n",
    "\n",
    "给定二维样本，我们可以计算其Pearson相关系数反映这两维的相关系数。\n",
    "我们也可以对多维样本计算样本协方差矩阵或相关矩阵来反映各维度（变量）之间的相关关系。\n",
    "\n",
    "从推断统计的角度看，确定样本总体分布和样本规模后，（Pearson）相关系数就是一随机变量，典型的例子就是Winshart随机矩阵。\n",
    "这里样本离差阵作为计算样本协方差的中间一步，在以（0期望）多元正态分布为总体分布后，就将其所服从的分布称为自由度为其样本规模的Winshart分布。\n",
    "\n",
    "在两变量下若设其服从0相关系数的二元正态分布，可以得到下面统计量与所服从分布的关系。（反正我没从直观上看出它怎么来的。。）\n",
    "\n",
    "$$\n",
    "r\\sqrt{\\frac{n-2}{1-r^2}} \\sim t(n-2)\n",
    "$$\n",
    "\n",
    "其中$r$是样本相关系数。\n",
    "\n",
    "$$\n",
    "r = \\frac{\\sum_{i=1}^n (X_i - \\bar{X})(Y_i - \\bar{Y})}{\\sqrt{ \\sum_{i=1}^n (X_i - \\bar{X})^2 \\sum_{i=1}^n (Y_i - \\bar{Y})^2 }}\n",
    "$$\n",
    "\n",
    "必须考虑考虑原假设和备择假设的区分问题，一是该统计量在备择假设上——相关系数取不等于0的数的时候到底服从什么分布。\n",
    "另一个是是否在相关系数不为0的时候，可以以类似的方式构造一个同样服从$t(n-2)$的统计量。\n",
    "\n",
    "我们经常不知道那种严重依赖于简单原假设确定分布的统计量在参数取其他值时的分布，不过我们可以做模拟或直观的讨论，\n",
    "即所谓“在备择假设上有变大的趋势”，“在备择假设上位置变大”，后者似乎暗示除了位置其他都没有改变，这一般都不成立。\n",
    "例子如在方差分析中若违背了同期望假设，我们直观上觉得这在之前“对等”地位的所有情况上因为差异变大而把平方和变大了，所以说它有变大的趋势。\n",
    "\n",
    "回到Pearson相关系数那个统计量上来，显然偏向备择假设上时$r$有偏离0的趋势，则该统计量也会偏向无限大或无限小，\n",
    "于是依零假设围绕0划分的接受域具有有效的功效。\n",
    "\n"
   ]
  },
  {
   "cell_type": "code",
   "execution_count": 3,
   "metadata": {
    "collapsed": false
   },
   "outputs": [
    {
     "data": {
      "text/html": [
       "<table>\n",
       "<thead><tr><th scope=col>X</th><th scope=col>Y</th></tr></thead>\n",
       "<tbody>\n",
       "\t<tr><td> 13</td><td> 12</td></tr>\n",
       "\t<tr><td> 17</td><td>  5</td></tr>\n",
       "\t<tr><td>100</td><td>112</td></tr>\n",
       "\t<tr><td> 31</td><td> 17</td></tr>\n",
       "\t<tr><td>360</td><td>106</td></tr>\n",
       "\t<tr><td>880</td><td>146</td></tr>\n",
       "</tbody>\n",
       "</table>\n"
      ],
      "text/latex": [
       "\\begin{tabular}{r|ll}\n",
       " X & Y\\\\\n",
       "\\hline\n",
       "\t  13 &  12\\\\\n",
       "\t  17 &   5\\\\\n",
       "\t 100 & 112\\\\\n",
       "\t  31 &  17\\\\\n",
       "\t 360 & 106\\\\\n",
       "\t 880 & 146\\\\\n",
       "\\end{tabular}\n"
      ],
      "text/plain": [
       "  X   Y  \n",
       "1  13  12\n",
       "2  17   5\n",
       "3 100 112\n",
       "4  31  17\n",
       "5 360 106\n",
       "6 880 146"
      ]
     },
     "metadata": {},
     "output_type": "display_data"
    }
   ],
   "source": [
    "DM1 <- data.frame(\n",
    "    X = c(13, 17, 100, 31, 360, 880, 61, 5, 110, 32, 54, 78, 110, 1600, 230, 300, 55, 510, 5, 550, 130, 480, 260, 170, 15, 14, 56, 230, 760, 10),\n",
    "    Y = c(12, 5,  112, 17, 106, 146, 13, 4, 68,  45, 8,  21, 39,  262,  38,  93,  21, 108, 6, 84,  22,  73,  35,  29,  3,  8,  37, 41,  235, 4)\n",
    ")\n",
    "head(DM1)"
   ]
  },
  {
   "cell_type": "code",
   "execution_count": 8,
   "metadata": {
    "collapsed": false
   },
   "outputs": [
    {
     "data": {
      "text/html": [
       "0.900476183101199"
      ],
      "text/latex": [
       "0.900476183101199"
      ],
      "text/markdown": [
       "0.900476183101199"
      ],
      "text/plain": [
       "[1] 0.9004762"
      ]
     },
     "metadata": {},
     "output_type": "display_data"
    }
   ],
   "source": [
    "cor(DM1$X,DM1$Y)"
   ]
  },
  {
   "cell_type": "code",
   "execution_count": 7,
   "metadata": {
    "collapsed": false
   },
   "outputs": [
    {
     "data": {
      "text/html": [
       "0.900476183101199"
      ],
      "text/latex": [
       "0.900476183101199"
      ],
      "text/markdown": [
       "0.900476183101199"
      ],
      "text/plain": [
       "[1] 0.9004762"
      ]
     },
     "metadata": {},
     "output_type": "display_data"
    }
   ],
   "source": [
    "cor(DM1$X,DM1$Y, method = 'pearson')"
   ]
  },
  {
   "cell_type": "code",
   "execution_count": 10,
   "metadata": {
    "collapsed": false
   },
   "outputs": [
    {
     "data": {
      "text/plain": [
       "\n",
       "\tPearson's product-moment correlation\n",
       "\n",
       "data:  DM1$X and DM1$Y\n",
       "t = 10.956, df = 28, p-value = 1.235e-11\n",
       "alternative hypothesis: true correlation is not equal to 0\n",
       "95 percent confidence interval:\n",
       " 0.7996123 0.9519271\n",
       "sample estimates:\n",
       "      cor \n",
       "0.9004762 \n"
      ]
     },
     "metadata": {},
     "output_type": "display_data"
    }
   ],
   "source": [
    "cor.test(DM1$X,DM1$Y,method='pearson')"
   ]
  },
  {
   "cell_type": "code",
   "execution_count": 12,
   "metadata": {
    "collapsed": false
   },
   "outputs": [
    {
     "data": {
      "text/html": [
       "0.900476183101199"
      ],
      "text/latex": [
       "0.900476183101199"
      ],
      "text/markdown": [
       "0.900476183101199"
      ],
      "text/plain": [
       "[1] 0.9004762"
      ]
     },
     "metadata": {},
     "output_type": "display_data"
    }
   ],
   "source": [
    "r <- cov(DM1$X,DM1$Y)/sqrt(var(DM1$X)*var(DM1$Y))\n",
    "r"
   ]
  },
  {
   "cell_type": "code",
   "execution_count": 14,
   "metadata": {
    "collapsed": false
   },
   "outputs": [
    {
     "data": {
      "text/html": [
       "10.9561134010731"
      ],
      "text/latex": [
       "10.9561134010731"
      ],
      "text/markdown": [
       "10.9561134010731"
      ],
      "text/plain": [
       "[1] 10.95611"
      ]
     },
     "metadata": {},
     "output_type": "display_data"
    }
   ],
   "source": [
    "n <- nrow(DM1)\n",
    "t.stat <- r*sqrt((n-2)/(1-r^2))\n",
    "t.stat"
   ]
  },
  {
   "cell_type": "code",
   "execution_count": 20,
   "metadata": {
    "collapsed": false
   },
   "outputs": [
    {
     "data": {
      "text/html": [
       "1.23522574666016e-11"
      ],
      "text/latex": [
       "1.23522574666016e-11"
      ],
      "text/markdown": [
       "1.23522574666016e-11"
      ],
      "text/plain": [
       "[1] 1.235226e-11"
      ]
     },
     "metadata": {},
     "output_type": "display_data"
    }
   ],
   "source": [
    "pt(t.stat,n-2,low=F)*2"
   ]
  },
  {
   "cell_type": "markdown",
   "metadata": {},
   "source": [
    "然而仅根据零假设下的统计量的分布并不能反推出置信区间，我们需要该统计量在$\\rho$取各种值时的分布，\n",
    "然后把$X$在对应分布的显得过于极端而拒绝了假设的参数从置信区间中剔除出去。虽然应该有精确分布，但这里还是先借助模拟。"
   ]
  },
  {
   "cell_type": "code",
   "execution_count": 25,
   "metadata": {
    "collapsed": true
   },
   "outputs": [],
   "source": [
    "rmultinorm <- function(n,mu,Sigma){\n",
    "    res <- eigen(Sigma)\n",
    "    Lambda <- diag(res$values)\n",
    "    P <- res$vectors\n",
    "    r <- replicate(n,as.vector( P %*% Lambda^(1/2) %*% rnorm(length(mu))) + mu)\n",
    "    return(r)\n",
    "}\n",
    "\n",
    "rrho <- function(n, rho, df){\n",
    "    rv <- c()\n",
    "    for(i in 1:n){\n",
    "        XY <- rmultinorm(df,c(0,0),matrix(c(1,rho,rho,1),2))\n",
    "        r <- cor(XY[1,],XY[2,],method = 'pearson')\n",
    "        rv[i] <- r\n",
    "    }\n",
    "    return(rv)\n",
    "}"
   ]
  },
  {
   "cell_type": "code",
   "execution_count": 37,
   "metadata": {
    "collapsed": false
   },
   "outputs": [
    {
     "data": {
      "image/png": "[encoded data removed]",
      "text/plain": [
       "Plot with title \"ecdf(t.stat)\""
      ]
     },
     "metadata": {},
     "output_type": "display_data"
    }
   ],
   "source": [
    "r <- rrho(100,0,30)\n",
    "t.stat <- r*sqrt((n-2)/(1-r^2))\n",
    "\n",
    "plot(ecdf(t.stat))\n",
    "x <- seq(-3,3,0.05)\n",
    "lines(x,pt(x,28))"
   ]
  },
  {
   "cell_type": "code",
   "execution_count": 42,
   "metadata": {
    "collapsed": false
   },
   "outputs": [],
   "source": [
    "t.stat.sample <- 10.9561134010731\n",
    "alpha <- 0.05\n",
    "\n",
    "pv <- c()\n",
    "\n",
    "for(i in 1:100){\n",
    "    r <- rrho(100,i/100,n)\n",
    "    t.stat <- r*sqrt((n-2)/(1-r^2))\n",
    "    t.ecdf <- ecdf(t.stat)\n",
    "    p.value <- min(t.ecdf(t.stat.sample),1-t.ecdf(t.stat.sample))*2\n",
    "    pv[i] <- p.value\n",
    "}"
   ]
  },
  {
   "cell_type": "code",
   "execution_count": 43,
   "metadata": {
    "collapsed": false
   },
   "outputs": [
    {
     "data": {
      "text/html": [
       "<ol class=list-inline>\n",
       "\t<li>0</li>\n",
       "\t<li>0</li>\n",
       "\t<li>0</li>\n",
       "\t<li>0</li>\n",
       "\t<li>0</li>\n",
       "\t<li>0</li>\n",
       "\t<li>0</li>\n",
       "\t<li>0</li>\n",
       "\t<li>0</li>\n",
       "\t<li>0</li>\n",
       "\t<li>0</li>\n",
       "\t<li>0</li>\n",
       "\t<li>0</li>\n",
       "\t<li>0</li>\n",
       "\t<li>0</li>\n",
       "\t<li>0</li>\n",
       "\t<li>0</li>\n",
       "\t<li>0</li>\n",
       "\t<li>0</li>\n",
       "\t<li>0</li>\n",
       "\t<li>0</li>\n",
       "\t<li>0</li>\n",
       "\t<li>0</li>\n",
       "\t<li>0</li>\n",
       "\t<li>0</li>\n",
       "\t<li>0</li>\n",
       "\t<li>0</li>\n",
       "\t<li>0</li>\n",
       "\t<li>0</li>\n",
       "\t<li>0</li>\n",
       "\t<li>0</li>\n",
       "\t<li>0</li>\n",
       "\t<li>0</li>\n",
       "\t<li>0</li>\n",
       "\t<li>0</li>\n",
       "\t<li>0</li>\n",
       "\t<li>0</li>\n",
       "\t<li>0</li>\n",
       "\t<li>0</li>\n",
       "\t<li>0</li>\n",
       "\t<li>0</li>\n",
       "\t<li>0</li>\n",
       "\t<li>0</li>\n",
       "\t<li>0</li>\n",
       "\t<li>0</li>\n",
       "\t<li>0</li>\n",
       "\t<li>0</li>\n",
       "\t<li>0</li>\n",
       "\t<li>0</li>\n",
       "\t<li>0</li>\n",
       "\t<li>0</li>\n",
       "\t<li>0</li>\n",
       "\t<li>0</li>\n",
       "\t<li>0</li>\n",
       "\t<li>0</li>\n",
       "\t<li>0</li>\n",
       "\t<li>0</li>\n",
       "\t<li>0</li>\n",
       "\t<li>0</li>\n",
       "\t<li>0</li>\n",
       "\t<li>0</li>\n",
       "\t<li>0</li>\n",
       "\t<li>0</li>\n",
       "\t<li>0</li>\n",
       "\t<li>0</li>\n",
       "\t<li>0</li>\n",
       "\t<li>0</li>\n",
       "\t<li>0</li>\n",
       "\t<li>0.04</li>\n",
       "\t<li>0</li>\n",
       "\t<li>0</li>\n",
       "\t<li>0.02</li>\n",
       "\t<li>0</li>\n",
       "\t<li>0</li>\n",
       "\t<li>0</li>\n",
       "\t<li>0</li>\n",
       "\t<li>0</li>\n",
       "\t<li>0.02</li>\n",
       "\t<li>0</li>\n",
       "\t<li>0.1</li>\n",
       "\t<li>0.1</li>\n",
       "\t<li>0.12</li>\n",
       "\t<li>0.22</li>\n",
       "\t<li>0.14</li>\n",
       "\t<li>0.24</li>\n",
       "\t<li>0.42</li>\n",
       "\t<li>0.52</li>\n",
       "\t<li>0.62</li>\n",
       "\t<li>0.8</li>\n",
       "\t<li>0.98</li>\n",
       "\t<li>0.72</li>\n",
       "\t<li>0.48</li>\n",
       "\t<li>0.18</li>\n",
       "\t<li>0.18</li>\n",
       "\t<li>0.08</li>\n",
       "\t<li>0.06</li>\n",
       "\t<li>0</li>\n",
       "\t<li>0</li>\n",
       "\t<li>0</li>\n",
       "\t<li>0</li>\n",
       "</ol>\n"
      ],
      "text/latex": [
       "\\begin{enumerate*}\n",
       "\\item 0\n",
       "\\item 0\n",
       "\\item 0\n",
       "\\item 0\n",
       "\\item 0\n",
       "\\item 0\n",
       "\\item 0\n",
       "\\item 0\n",
       "\\item 0\n",
       "\\item 0\n",
       "\\item 0\n",
       "\\item 0\n",
       "\\item 0\n",
       "\\item 0\n",
       "\\item 0\n",
       "\\item 0\n",
       "\\item 0\n",
       "\\item 0\n",
       "\\item 0\n",
       "\\item 0\n",
       "\\item 0\n",
       "\\item 0\n",
       "\\item 0\n",
       "\\item 0\n",
       "\\item 0\n",
       "\\item 0\n",
       "\\item 0\n",
       "\\item 0\n",
       "\\item 0\n",
       "\\item 0\n",
       "\\item 0\n",
       "\\item 0\n",
       "\\item 0\n",
       "\\item 0\n",
       "\\item 0\n",
       "\\item 0\n",
       "\\item 0\n",
       "\\item 0\n",
       "\\item 0\n",
       "\\item 0\n",
       "\\item 0\n",
       "\\item 0\n",
       "\\item 0\n",
       "\\item 0\n",
       "\\item 0\n",
       "\\item 0\n",
       "\\item 0\n",
       "\\item 0\n",
       "\\item 0\n",
       "\\item 0\n",
       "\\item 0\n",
       "\\item 0\n",
       "\\item 0\n",
       "\\item 0\n",
       "\\item 0\n",
       "\\item 0\n",
       "\\item 0\n",
       "\\item 0\n",
       "\\item 0\n",
       "\\item 0\n",
       "\\item 0\n",
       "\\item 0\n",
       "\\item 0\n",
       "\\item 0\n",
       "\\item 0\n",
       "\\item 0\n",
       "\\item 0\n",
       "\\item 0\n",
       "\\item 0.04\n",
       "\\item 0\n",
       "\\item 0\n",
       "\\item 0.02\n",
       "\\item 0\n",
       "\\item 0\n",
       "\\item 0\n",
       "\\item 0\n",
       "\\item 0\n",
       "\\item 0.02\n",
       "\\item 0\n",
       "\\item 0.1\n",
       "\\item 0.1\n",
       "\\item 0.12\n",
       "\\item 0.22\n",
       "\\item 0.14\n",
       "\\item 0.24\n",
       "\\item 0.42\n",
       "\\item 0.52\n",
       "\\item 0.62\n",
       "\\item 0.8\n",
       "\\item 0.98\n",
       "\\item 0.72\n",
       "\\item 0.48\n",
       "\\item 0.18\n",
       "\\item 0.18\n",
       "\\item 0.08\n",
       "\\item 0.06\n",
       "\\item 0\n",
       "\\item 0\n",
       "\\item 0\n",
       "\\item 0\n",
       "\\end{enumerate*}\n"
      ],
      "text/markdown": [
       "1. 0\n",
       "2. 0\n",
       "3. 0\n",
       "4. 0\n",
       "5. 0\n",
       "6. 0\n",
       "7. 0\n",
       "8. 0\n",
       "9. 0\n",
       "10. 0\n",
       "11. 0\n",
       "12. 0\n",
       "13. 0\n",
       "14. 0\n",
       "15. 0\n",
       "16. 0\n",
       "17. 0\n",
       "18. 0\n",
       "19. 0\n",
       "20. 0\n",
       "21. 0\n",
       "22. 0\n",
       "23. 0\n",
       "24. 0\n",
       "25. 0\n",
       "26. 0\n",
       "27. 0\n",
       "28. 0\n",
       "29. 0\n",
       "30. 0\n",
       "31. 0\n",
       "32. 0\n",
       "33. 0\n",
       "34. 0\n",
       "35. 0\n",
       "36. 0\n",
       "37. 0\n",
       "38. 0\n",
       "39. 0\n",
       "40. 0\n",
       "41. 0\n",
       "42. 0\n",
       "43. 0\n",
       "44. 0\n",
       "45. 0\n",
       "46. 0\n",
       "47. 0\n",
       "48. 0\n",
       "49. 0\n",
       "50. 0\n",
       "51. 0\n",
       "52. 0\n",
       "53. 0\n",
       "54. 0\n",
       "55. 0\n",
       "56. 0\n",
       "57. 0\n",
       "58. 0\n",
       "59. 0\n",
       "60. 0\n",
       "61. 0\n",
       "62. 0\n",
       "63. 0\n",
       "64. 0\n",
       "65. 0\n",
       "66. 0\n",
       "67. 0\n",
       "68. 0\n",
       "69. 0.04\n",
       "70. 0\n",
       "71. 0\n",
       "72. 0.02\n",
       "73. 0\n",
       "74. 0\n",
       "75. 0\n",
       "76. 0\n",
       "77. 0\n",
       "78. 0.02\n",
       "79. 0\n",
       "80. 0.1\n",
       "81. 0.1\n",
       "82. 0.12\n",
       "83. 0.22\n",
       "84. 0.14\n",
       "85. 0.24\n",
       "86. 0.42\n",
       "87. 0.52\n",
       "88. 0.62\n",
       "89. 0.8\n",
       "90. 0.98\n",
       "91. 0.72\n",
       "92. 0.48\n",
       "93. 0.18\n",
       "94. 0.18\n",
       "95. 0.08\n",
       "96. 0.06\n",
       "97. 0\n",
       "98. 0\n",
       "99. 0\n",
       "100. 0\n",
       "\n",
       "\n"
      ],
      "text/plain": [
       "  [1] 0.00 0.00 0.00 0.00 0.00 0.00 0.00 0.00 0.00 0.00 0.00 0.00 0.00 0.00 0.00\n",
       " [16] 0.00 0.00 0.00 0.00 0.00 0.00 0.00 0.00 0.00 0.00 0.00 0.00 0.00 0.00 0.00\n",
       " [31] 0.00 0.00 0.00 0.00 0.00 0.00 0.00 0.00 0.00 0.00 0.00 0.00 0.00 0.00 0.00\n",
       " [46] 0.00 0.00 0.00 0.00 0.00 0.00 0.00 0.00 0.00 0.00 0.00 0.00 0.00 0.00 0.00\n",
       " [61] 0.00 0.00 0.00 0.00 0.00 0.00 0.00 0.00 0.04 0.00 0.00 0.02 0.00 0.00 0.00\n",
       " [76] 0.00 0.00 0.02 0.00 0.10 0.10 0.12 0.22 0.14 0.24 0.42 0.52 0.62 0.80 0.98\n",
       " [91] 0.72 0.48 0.18 0.18 0.08 0.06 0.00 0.00 0.00 0.00"
      ]
     },
     "metadata": {},
     "output_type": "display_data"
    }
   ],
   "source": [
    "pv"
   ]
  },
  {
   "cell_type": "code",
   "execution_count": 44,
   "metadata": {
    "collapsed": false
   },
   "outputs": [
    {
     "data": {
      "text/html": [
       "<ol class=list-inline>\n",
       "\t<li>80</li>\n",
       "\t<li>81</li>\n",
       "\t<li>82</li>\n",
       "\t<li>83</li>\n",
       "\t<li>84</li>\n",
       "\t<li>85</li>\n",
       "\t<li>86</li>\n",
       "\t<li>87</li>\n",
       "\t<li>88</li>\n",
       "\t<li>89</li>\n",
       "\t<li>90</li>\n",
       "\t<li>91</li>\n",
       "\t<li>92</li>\n",
       "\t<li>93</li>\n",
       "\t<li>94</li>\n",
       "\t<li>95</li>\n",
       "\t<li>96</li>\n",
       "</ol>\n"
      ],
      "text/latex": [
       "\\begin{enumerate*}\n",
       "\\item 80\n",
       "\\item 81\n",
       "\\item 82\n",
       "\\item 83\n",
       "\\item 84\n",
       "\\item 85\n",
       "\\item 86\n",
       "\\item 87\n",
       "\\item 88\n",
       "\\item 89\n",
       "\\item 90\n",
       "\\item 91\n",
       "\\item 92\n",
       "\\item 93\n",
       "\\item 94\n",
       "\\item 95\n",
       "\\item 96\n",
       "\\end{enumerate*}\n"
      ],
      "text/markdown": [
       "1. 80\n",
       "2. 81\n",
       "3. 82\n",
       "4. 83\n",
       "5. 84\n",
       "6. 85\n",
       "7. 86\n",
       "8. 87\n",
       "9. 88\n",
       "10. 89\n",
       "11. 90\n",
       "12. 91\n",
       "13. 92\n",
       "14. 93\n",
       "15. 94\n",
       "16. 95\n",
       "17. 96\n",
       "\n",
       "\n"
      ],
      "text/plain": [
       " [1] 80 81 82 83 84 85 86 87 88 89 90 91 92 93 94 95 96"
      ]
     },
     "metadata": {},
     "output_type": "display_data"
    }
   ],
   "source": [
    "which(pv>0.05)"
   ]
  },
  {
   "cell_type": "markdown",
   "metadata": {},
   "source": [
    "而`cor.test`给出的结果是`0.7996123 0.9519271`，看得出还是比较准的。"
   ]
  },
  {
   "cell_type": "markdown",
   "metadata": {},
   "source": [
    "## Spearman秩相关检验\n",
    "\n",
    "对于Pearson相关系数而言，我们可以对数据进行各种变换，一般会得到不同的相关系数。"
   ]
  },
  {
   "cell_type": "code",
   "execution_count": 45,
   "metadata": {
    "collapsed": false
   },
   "outputs": [
    {
     "data": {
      "text/html": [
       "0.897998050850223"
      ],
      "text/latex": [
       "0.897998050850223"
      ],
      "text/markdown": [
       "0.897998050850223"
      ],
      "text/plain": [
       "[1] 0.8979981"
      ]
     },
     "metadata": {},
     "output_type": "display_data"
    }
   ],
   "source": [
    "cor(log(DM1$X),log(DM1$Y))"
   ]
  },
  {
   "cell_type": "markdown",
   "metadata": {},
   "source": [
    "即使是这种单调的变换也会产生差别，如果这个性质并不是我们想要的，我们可以考虑一个对单调变换保持不变的某种相关系数。\n",
    "比如，先对数据取秩，再计算Pearson相关系数。"
   ]
  },
  {
   "cell_type": "code",
   "execution_count": 46,
   "metadata": {
    "collapsed": false
   },
   "outputs": [
    {
     "data": {
      "text/html": [
       "0.877448797862868"
      ],
      "text/latex": [
       "0.877448797862868"
      ],
      "text/markdown": [
       "0.877448797862868"
      ],
      "text/plain": [
       "[1] 0.8774488"
      ]
     },
     "metadata": {},
     "output_type": "display_data"
    }
   ],
   "source": [
    "cor(rank(DM1$X),rank(DM1$Y))"
   ]
  },
  {
   "cell_type": "code",
   "execution_count": 47,
   "metadata": {
    "collapsed": false
   },
   "outputs": [
    {
     "data": {
      "text/html": [
       "0.877448797862868"
      ],
      "text/latex": [
       "0.877448797862868"
      ],
      "text/markdown": [
       "0.877448797862868"
      ],
      "text/plain": [
       "[1] 0.8774488"
      ]
     },
     "metadata": {},
     "output_type": "display_data"
    }
   ],
   "source": [
    "cor(rank(log(DM1$X)),rank(log(DM1$Y)))"
   ]
  },
  {
   "cell_type": "code",
   "execution_count": 48,
   "metadata": {
    "collapsed": false
   },
   "outputs": [
    {
     "data": {
      "text/html": [
       "0.877448797862868"
      ],
      "text/latex": [
       "0.877448797862868"
      ],
      "text/markdown": [
       "0.877448797862868"
      ],
      "text/plain": [
       "[1] 0.8774488"
      ]
     },
     "metadata": {},
     "output_type": "display_data"
    }
   ],
   "source": [
    "cor(DM1$X,DM1$Y,method = \"spearman\")"
   ]
  },
  {
   "cell_type": "markdown",
   "metadata": {},
   "source": [
    "这就是Spearman相关系数$r_s$。\n",
    "\n",
    "$r_s$具有渐进正态分布\n",
    "\n",
    "$$\n",
    "Z = r_s \\sqrt{n-1} \\to N(0,1)\n",
    "$$"
   ]
  },
  {
   "cell_type": "code",
   "execution_count": 56,
   "metadata": {
    "collapsed": false
   },
   "outputs": [
    {
     "data": {
      "text/html": [
       "2.29881762492623e-06"
      ],
      "text/latex": [
       "2.29881762492623e-06"
      ],
      "text/markdown": [
       "2.29881762492623e-06"
      ],
      "text/plain": [
       "[1] 2.298818e-06"
      ]
     },
     "metadata": {},
     "output_type": "display_data"
    }
   ],
   "source": [
    "rs <- cor(rank(DM1$X),rank(DM1$Y))\n",
    "pnorm(rs * sqrt(n-1),low=F)*2"
   ]
  },
  {
   "cell_type": "code",
   "execution_count": 55,
   "metadata": {
    "collapsed": false
   },
   "outputs": [
    {
     "name": "stderr",
     "output_type": "stream",
     "text": [
      "Warning message in cor.test.default(DM1$X, DM1$Y, method = \"spearman\"):\n",
      "\"Cannot compute exact p-value with ties\""
     ]
    },
    {
     "data": {
      "text/plain": [
       "\n",
       "\tSpearman's rank correlation rho\n",
       "\n",
       "data:  DM1$X and DM1$Y\n",
       "S = 550.87, p-value = 1.965e-10\n",
       "alternative hypothesis: true rho is not equal to 0\n",
       "sample estimates:\n",
       "      rho \n",
       "0.8774488 \n"
      ]
     },
     "metadata": {},
     "output_type": "display_data"
    }
   ],
   "source": [
    "cor.test(DM1$X,DM1$Y,method='spearman')"
   ]
  },
  {
   "cell_type": "markdown",
   "metadata": {},
   "source": [
    "这里结果对不上是因为`cor.test`用了更复杂的处理结的统计量。不过这个无伤大雅。这里没计算置信区间是因为置信区间是分布相关的，\n",
    "而这里的用的是参数无关的非参数检验，给什么正态下的置信区间有误导性。"
   ]
  },
  {
   "cell_type": "code",
   "execution_count": 58,
   "metadata": {
    "collapsed": false
   },
   "outputs": [
    {
     "data": {
      "text/html": [
       "550.5"
      ],
      "text/latex": [
       "550.5"
      ],
      "text/markdown": [
       "550.5"
      ],
      "text/plain": [
       "[1] 550.5"
      ]
     },
     "metadata": {},
     "output_type": "display_data"
    }
   ],
   "source": [
    "sum((rank(DM1$X)-rank(DM1$Y))^2)"
   ]
  },
  {
   "cell_type": "markdown",
   "metadata": {},
   "source": [
    "上面的统计量$S$是统计量$\\sum_i d_i^2 = \\sum_{i} (R_i - S_i)^2$。该统计量偏小说明有正相关倾向，偏大说明有负相关倾向。\n",
    "结果对不上是因为处理秩的方式不一样。"
   ]
  },
  {
   "cell_type": "markdown",
   "metadata": {},
   "source": [
    "## Kendall $\\tau$ 相关检验\n",
    "\n",
    "Kendall $\\tau$相关系数是构造$\\Psi$矩阵，其中\n",
    "\n",
    "$$\n",
    "\\Psi_{ij} = \\mathrm{sign}((X_j - X_i)(Y_j - Y_i))\n",
    "$$\n",
    "\n",
    "然后求和右上角所有的元得到统计量$K$，再标准化成统计量$\\hat{\\tau}$\n",
    "\n",
    "$$\n",
    "K = \\sum_{1 \\le i < j \\le n} \\Psi_{ij} \\\\\n",
    "\\hat{\\tau} = \\frac{K}{ \\begin{pmatrix} n \\\\ 2 \\end{pmatrix} }\n",
    "$$\n",
    "\n",
    "$\\Psi$实际是$i,j$对是否协同的表示，1表示协同，-1表示不协同。$\\hat{\\tau}$取值$[-1,1]$且该值越大越反映数据某种意义(Kendall协同意义)上正相关，\n",
    "该值越小反映它负相关。\n",
    "\n",
    "统计量$K$在不相关原假设成立条件下具有渐进正态分布\n",
    "\n",
    "$$\n",
    "K \\sqrt{ \\frac{18}{n(n+1)(2n+5)} } \\to N(0,1)\n",
    "$$\n",
    "\n",
    "### 与Kendall协同系数检验的关系\n",
    "\n",
    "首先，我们是否可以将正负相关定义到多变量上去呢？这里指的不是变量两两之间相关，而是指这个变量组作为整体的正负相关，\n",
    "正如两个变量作为整体可以讨论正负相关一般。\n",
    "\n",
    "典型相关分析那种是一种处理方式，在那里我们找到两组变量两组线性组合，使它们线性相关程度最大。\n",
    "仿照这个思路可以找到原变量的某种线性组合，定义它的最小值为整体的相关系数之类的。\n",
    "\n",
    "$$\n",
    "\\rho(X) = \\max_\\beta \\min_i (\\rho(X_i,\\beta X))\n",
    "$$\n",
    "\n",
    "这看上去是个蹩脚的做法，就像典型相关分析本身一样蹩脚。如果它们真有什么“主成分”的话，这个方法可以取到很大的相关系数。可是负相关呢？\n",
    "看起来负相关是双变量时的特殊结构，如果把这种相关系数看成相关矩阵的函数，二变量上的正负相关无非是对反对角线上的一个元做出说明。\n",
    "而在多元情况下这就不可能如此简单了。\n",
    "\n",
    "不过这种“主成分”的想法启发了我们，回忆Kendall协同系数检验，它的原假设是区组的效应被处理的无限大噪声完全混淆了。而在向备择假设移动时，\n",
    "区组本应有的效应开始浮现出来。这个所谓的区组效应，正是使得各秩倾向于相同（回归某个区组决定的“真实”排序）的动力，\n",
    "于是我们可以把这个趋近相同的程度定义为相关系数，这是Kendall协同系数检验里的那个协同系数。\n",
    "\n",
    "在本节的二元情况中，这个相同性（协同性）是通过比较所有可能对得到的。多变量Kendall协同系数难以照搬这个方法，\n",
    "于是它退而求各分组（这里的个体）的秩和与分组平均秩和的差的平方和。这个平方和会在各秩和散度很大时变大，\n",
    "而散度最大的情况显然就是区组（个体）效应完全支配的，即每个区组（个体）的秩都一样。而这正好也是协同系数取1的情况。\n",
    "它们的原假设也类似，都是协同系数为0.在二元上看也可以看成$\\Psi$矩阵结构的随意性。"
   ]
  },
  {
   "cell_type": "code",
   "execution_count": 61,
   "metadata": {
    "collapsed": false
   },
   "outputs": [
    {
     "data": {
      "text/html": [
       "<table>\n",
       "<thead><tr><th scope=col>CPI</th><th scope=col>ESI</th></tr></thead>\n",
       "<tbody>\n",
       "\t<tr><td>1.2 </td><td>44.1</td></tr>\n",
       "\t<tr><td>1.6 </td><td>45.4</td></tr>\n",
       "\t<tr><td>1.7 </td><td>59.7</td></tr>\n",
       "\t<tr><td>1.9 </td><td>45.3</td></tr>\n",
       "\t<tr><td>2.1 </td><td>51.2</td></tr>\n",
       "\t<tr><td>2.2 </td><td>34.8</td></tr>\n",
       "</tbody>\n",
       "</table>\n"
      ],
      "text/latex": [
       "\\begin{tabular}{r|ll}\n",
       " CPI & ESI\\\\\n",
       "\\hline\n",
       "\t 1.2  & 44.1\\\\\n",
       "\t 1.6  & 45.4\\\\\n",
       "\t 1.7  & 59.7\\\\\n",
       "\t 1.9  & 45.3\\\\\n",
       "\t 2.1  & 51.2\\\\\n",
       "\t 2.2  & 34.8\\\\\n",
       "\\end{tabular}\n"
      ],
      "text/plain": [
       "  CPI ESI \n",
       "1 1.2 44.1\n",
       "2 1.6 45.4\n",
       "3 1.7 59.7\n",
       "4 1.9 45.3\n",
       "5 2.1 51.2\n",
       "6 2.2 34.8"
      ]
     },
     "metadata": {},
     "output_type": "display_data"
    }
   ],
   "source": [
    "CPIESI <- data.frame(\n",
    "    CPI = c(1.2, 1.6, 1.7, 1.9, 2.1, 2.2, 2.3, 2.4, 2.5, 2.6, 2.7, 2.9, 3.0, 3.2, 3.4, 3.5, 3.6, 3.7, 3.8, 3.9, 4.0, 4.5,\n",
    "            4.8, 4.9, 5.1, 5.2, 5.7, 6.0, 6.3, 6.4, 6.9, 7.1, 7.3, 7.5, 7.7, 7.8, 8.5, 8.6, 8.7, 9.0, 9.3, 9.5, 9.7),\n",
    "    ESI = c(44.1, 45.4, 59.7, 45.3, 51.2, 34.8, 48.6, 51.5, 48.1, 51.1, 50.3, 49.3, 57.7, 49.7, 43.8, 37.9, 58.9, 46.6, 59.5, 52.8, 62.2, 59.6,\n",
    "            46.2, 52.0, 71.8, 50.1, 56.7, 57.5, 55.2, 55.9, 59.2, 44.4, 56.9, 53.6, 52.9, 62.7, 73.4, 61.0, 50.2, 64.4, 71.7, 58.2, 75.1)\n",
    ")\n",
    "head(CPIESI)"
   ]
  },
  {
   "cell_type": "code",
   "execution_count": 65,
   "metadata": {
    "collapsed": false
   },
   "outputs": [
    {
     "data": {
      "text/html": [
       "<table>\n",
       "<thead><tr><th></th><th scope=col>CPI</th><th scope=col>ESI</th></tr></thead>\n",
       "<tbody>\n",
       "\t<tr><th scope=row>CPI</th><td>1.0000000</td><td>0.5972526</td></tr>\n",
       "\t<tr><th scope=row>ESI</th><td>0.5972526</td><td>1.0000000</td></tr>\n",
       "</tbody>\n",
       "</table>\n"
      ],
      "text/latex": [
       "\\begin{tabular}{r|ll}\n",
       "  & CPI & ESI\\\\\n",
       "\\hline\n",
       "\tCPI & 1.0000000 & 0.5972526\\\\\n",
       "\tESI & 0.5972526 & 1.0000000\\\\\n",
       "\\end{tabular}\n"
      ],
      "text/markdown": [
       "1. 1\n",
       "2. 0.597252572103738\n",
       "3. 0.597252572103738\n",
       "4. 1\n",
       "\n",
       "\n"
      ],
      "text/plain": [
       "    CPI       ESI      \n",
       "CPI 1.0000000 0.5972526\n",
       "ESI 0.5972526 1.0000000"
      ]
     },
     "metadata": {},
     "output_type": "display_data"
    }
   ],
   "source": [
    "cor(CPIESI,method='pearson')"
   ]
  },
  {
   "cell_type": "code",
   "execution_count": 66,
   "metadata": {
    "collapsed": false
   },
   "outputs": [
    {
     "data": {
      "text/html": [
       "<table>\n",
       "<thead><tr><th></th><th scope=col>CPI</th><th scope=col>ESI</th></tr></thead>\n",
       "<tbody>\n",
       "\t<tr><th scope=row>CPI</th><td>1.0000000</td><td>0.5890969</td></tr>\n",
       "\t<tr><th scope=row>ESI</th><td>0.5890969</td><td>1.0000000</td></tr>\n",
       "</tbody>\n",
       "</table>\n"
      ],
      "text/latex": [
       "\\begin{tabular}{r|ll}\n",
       "  & CPI & ESI\\\\\n",
       "\\hline\n",
       "\tCPI & 1.0000000 & 0.5890969\\\\\n",
       "\tESI & 0.5890969 & 1.0000000\\\\\n",
       "\\end{tabular}\n"
      ],
      "text/markdown": [
       "1. 1\n",
       "2. 0.589096949562066\n",
       "3. 0.589096949562066\n",
       "4. 1\n",
       "\n",
       "\n"
      ],
      "text/plain": [
       "    CPI       ESI      \n",
       "CPI 1.0000000 0.5890969\n",
       "ESI 0.5890969 1.0000000"
      ]
     },
     "metadata": {},
     "output_type": "display_data"
    }
   ],
   "source": [
    "cor(CPIESI,method='spearman')"
   ]
  },
  {
   "cell_type": "code",
   "execution_count": 67,
   "metadata": {
    "collapsed": false
   },
   "outputs": [
    {
     "data": {
      "text/html": [
       "<table>\n",
       "<thead><tr><th></th><th scope=col>CPI</th><th scope=col>ESI</th></tr></thead>\n",
       "<tbody>\n",
       "\t<tr><th scope=row>CPI</th><td>1.0000000</td><td>0.4219269</td></tr>\n",
       "\t<tr><th scope=row>ESI</th><td>0.4219269</td><td>1.0000000</td></tr>\n",
       "</tbody>\n",
       "</table>\n"
      ],
      "text/latex": [
       "\\begin{tabular}{r|ll}\n",
       "  & CPI & ESI\\\\\n",
       "\\hline\n",
       "\tCPI & 1.0000000 & 0.4219269\\\\\n",
       "\tESI & 0.4219269 & 1.0000000\\\\\n",
       "\\end{tabular}\n"
      ],
      "text/markdown": [
       "1. 1\n",
       "2. 0.421926910299003\n",
       "3. 0.421926910299003\n",
       "4. 1\n",
       "\n",
       "\n"
      ],
      "text/plain": [
       "    CPI       ESI      \n",
       "CPI 1.0000000 0.4219269\n",
       "ESI 0.4219269 1.0000000"
      ]
     },
     "metadata": {},
     "output_type": "display_data"
    }
   ],
   "source": [
    "cor(CPIESI,method='kendall')"
   ]
  },
  {
   "cell_type": "code",
   "execution_count": 73,
   "metadata": {
    "collapsed": false
   },
   "outputs": [
    {
     "data": {
      "text/html": [
       "381"
      ],
      "text/latex": [
       "381"
      ],
      "text/markdown": [
       "381"
      ],
      "text/plain": [
       "[1] 381"
      ]
     },
     "metadata": {},
     "output_type": "display_data"
    }
   ],
   "source": [
    "Psi <- sign(outer(CPIESI$CPI, CPIESI$CPI, '-') * outer(CPIESI$ESI, CPIESI$ESI, '-'))\n",
    "K <- sum(Psi)/2\n",
    "K"
   ]
  },
  {
   "cell_type": "code",
   "execution_count": 81,
   "metadata": {
    "collapsed": false
   },
   "outputs": [
    {
     "data": {
      "text/html": [
       "0.421926910299003"
      ],
      "text/latex": [
       "0.421926910299003"
      ],
      "text/markdown": [
       "0.421926910299003"
      ],
      "text/plain": [
       "[1] 0.4219269"
      ]
     },
     "metadata": {},
     "output_type": "display_data"
    }
   ],
   "source": [
    "K / choose(nrow(CPIESI),2)"
   ]
  },
  {
   "cell_type": "code",
   "execution_count": 84,
   "metadata": {
    "collapsed": false
   },
   "outputs": [
    {
     "data": {
      "text/html": [
       "0.421926910299003"
      ],
      "text/latex": [
       "0.421926910299003"
      ],
      "text/markdown": [
       "0.421926910299003"
      ],
      "text/plain": [
       "[1] 0.4219269"
      ]
     },
     "metadata": {},
     "output_type": "display_data"
    }
   ],
   "source": [
    "cor(CPIESI$CPI, CPIESI$ESI, method = 'kendall')"
   ]
  },
  {
   "cell_type": "code",
   "execution_count": 85,
   "metadata": {
    "collapsed": false
   },
   "outputs": [
    {
     "data": {
      "text/html": [
       "0.589096949562066"
      ],
      "text/latex": [
       "0.589096949562066"
      ],
      "text/markdown": [
       "0.589096949562066"
      ],
      "text/plain": [
       "[1] 0.5890969"
      ]
     },
     "metadata": {},
     "output_type": "display_data"
    }
   ],
   "source": [
    "cor(CPIESI$CPI, CPIESI$ESI, method = 'spearman')"
   ]
  },
  {
   "cell_type": "code",
   "execution_count": 86,
   "metadata": {
    "collapsed": false
   },
   "outputs": [
    {
     "data": {
      "text/html": [
       "0.597252572103738"
      ],
      "text/latex": [
       "0.597252572103738"
      ],
      "text/markdown": [
       "0.597252572103738"
      ],
      "text/plain": [
       "[1] 0.5972526"
      ]
     },
     "metadata": {},
     "output_type": "display_data"
    }
   ],
   "source": [
    "cor(CPIESI$CPI, CPIESI$ESI, method = 'pearson')"
   ]
  },
  {
   "cell_type": "code",
   "execution_count": 95,
   "metadata": {
    "collapsed": false
   },
   "outputs": [
    {
     "data": {
      "text/html": [
       "6.57450523664707"
      ],
      "text/latex": [
       "6.57450523664707"
      ],
      "text/markdown": [
       "6.57450523664707"
      ],
      "text/plain": [
       "[1] 6.574505"
      ]
     },
     "metadata": {},
     "output_type": "display_data"
    }
   ],
   "source": [
    "z <- K * sqrt(18/( n*(n+1)*(2*n+5) ))\n",
    "z"
   ]
  },
  {
   "cell_type": "code",
   "execution_count": 90,
   "metadata": {
    "collapsed": false
   },
   "outputs": [
    {
     "data": {
      "text/html": [
       "5.32498940042546e-12"
      ],
      "text/latex": [
       "5.32498940042546e-12"
      ],
      "text/markdown": [
       "5.32498940042546e-12"
      ],
      "text/plain": [
       "[1] 5.324989e-12"
      ]
     },
     "metadata": {},
     "output_type": "display_data"
    }
   ],
   "source": [
    "pnorm(z,low=F)"
   ]
  },
  {
   "cell_type": "code",
   "execution_count": 93,
   "metadata": {
    "collapsed": false
   },
   "outputs": [
    {
     "data": {
      "text/plain": [
       "\n",
       "\tKendall's rank correlation tau\n",
       "\n",
       "data:  CPIESI$CPI and CPIESI$ESI\n",
       "z = 3.9873, p-value = 6.682e-05\n",
       "alternative hypothesis: true tau is not equal to 0\n",
       "sample estimates:\n",
       "      tau \n",
       "0.4219269 \n"
      ]
     },
     "metadata": {},
     "output_type": "display_data"
    }
   ],
   "source": [
    "cor.test(CPIESI$CPI,CPIESI$ESI,method='kendall', exact=F)"
   ]
  },
  {
   "cell_type": "markdown",
   "metadata": {},
   "source": [
    "这里得到不一样结果是因为使用了大样本近似。而cor"
   ]
  },
  {
   "cell_type": "code",
   "execution_count": 97,
   "metadata": {
    "collapsed": false
   },
   "outputs": [
    {
     "data": {
      "text/plain": [
       "\n",
       "\tKendall's rank correlation tau\n",
       "\n",
       "data:  CPIESI$CPI and CPIESI$ESI\n",
       "T = 642, p-value = 4.199e-05\n",
       "alternative hypothesis: true tau is not equal to 0\n",
       "sample estimates:\n",
       "      tau \n",
       "0.4219269 \n"
      ]
     },
     "metadata": {},
     "output_type": "display_data"
    }
   ],
   "source": [
    "res <- cor.test(CPIESI$CPI,CPIESI$ESI,method='kendall', exact=T)\n",
    "res"
   ]
  },
  {
   "cell_type": "code",
   "execution_count": 98,
   "metadata": {
    "collapsed": false
   },
   "outputs": [
    {
     "data": {
      "text/html": [
       "4.19946735445986e-05"
      ],
      "text/latex": [
       "4.19946735445986e-05"
      ],
      "text/markdown": [
       "4.19946735445986e-05"
      ],
      "text/plain": [
       "[1] 4.199467e-05"
      ]
     },
     "metadata": {},
     "output_type": "display_data"
    }
   ],
   "source": [
    "res$p.value"
   ]
  },
  {
   "cell_type": "markdown",
   "metadata": {},
   "source": [
    "## 功效问题\n",
    "\n",
    "我们看到了三种相关系数的检验，那么它们功效如何呢？我们来假设二元正态分布看看结果如何。既然R直接提供了cor.test函数，我就笑纳了，\n",
    "对一个样本直接用双边P值小于给定显著性水平判作拒绝。在一处参数取值处试验多次获取拒绝比例，为功效函数在此处的取值。"
   ]
  },
  {
   "cell_type": "code",
   "execution_count": 110,
   "metadata": {
    "collapsed": false
   },
   "outputs": [],
   "source": [
    "df.size <- 100\n",
    "p.size <- 200\n",
    "rho <- seq(-0.5,0.5,0.025)\n",
    "alpha <- 0.05\n",
    "\n",
    "p.list <- list(pearson = c(),\n",
    "               spearman = c(),\n",
    "               kendall = c())\n",
    "for(r in rho){\n",
    "    for(meth in c('pearson','spearman','kendall')){\n",
    "        power <- 0\n",
    "        for(i in 1:p.size){\n",
    "            XY <- rmultinorm(df.size,c(0,0),matrix(c(1,r,r,1),2))\n",
    "            power <- power + (cor.test(XY[1,],XY[2,],method = meth)$p.value < alpha)\n",
    "        }\n",
    "        p.list[[meth]] <- c(p.list[[meth]], power / p.size)\n",
    "    }\n",
    "    \n",
    "}"
   ]
  },
  {
   "cell_type": "code",
   "execution_count": 111,
   "metadata": {
    "collapsed": false
   },
   "outputs": [
    {
     "data": {
      "text/html": [
       "<dl>\n",
       "\t<dt>$pearson</dt>\n",
       "\t\t<dd><ol class=list-inline>\n",
       "\t<li>1</li>\n",
       "\t<li>1</li>\n",
       "\t<li>1</li>\n",
       "\t<li>0.995</li>\n",
       "\t<li>0.985</li>\n",
       "\t<li>0.99</li>\n",
       "\t<li>0.96</li>\n",
       "\t<li>0.9</li>\n",
       "\t<li>0.865</li>\n",
       "\t<li>0.79</li>\n",
       "\t<li>0.74</li>\n",
       "\t<li>0.565</li>\n",
       "\t<li>0.56</li>\n",
       "\t<li>0.41</li>\n",
       "\t<li>0.285</li>\n",
       "\t<li>0.255</li>\n",
       "\t<li>0.14</li>\n",
       "\t<li>0.12</li>\n",
       "\t<li>0.085</li>\n",
       "\t<li>0.09</li>\n",
       "\t<li>0.045</li>\n",
       "\t<li>0.055</li>\n",
       "\t<li>0.07</li>\n",
       "\t<li>0.1</li>\n",
       "\t<li>0.13</li>\n",
       "\t<li>0.24</li>\n",
       "\t<li>0.365</li>\n",
       "\t<li>0.465</li>\n",
       "\t<li>0.495</li>\n",
       "\t<li>0.59</li>\n",
       "\t<li>0.725</li>\n",
       "\t<li>0.785</li>\n",
       "\t<li>0.915</li>\n",
       "\t<li>0.9</li>\n",
       "\t<li>0.97</li>\n",
       "\t<li>0.995</li>\n",
       "\t<li>0.985</li>\n",
       "\t<li>0.99</li>\n",
       "\t<li>0.995</li>\n",
       "\t<li>1</li>\n",
       "\t<li>1</li>\n",
       "</ol>\n",
       "</dd>\n",
       "\t<dt>$spearman</dt>\n",
       "\t\t<dd><ol class=list-inline>\n",
       "\t<li>1</li>\n",
       "\t<li>1</li>\n",
       "\t<li>0.995</li>\n",
       "\t<li>0.98</li>\n",
       "\t<li>0.97</li>\n",
       "\t<li>0.955</li>\n",
       "\t<li>0.93</li>\n",
       "\t<li>0.87</li>\n",
       "\t<li>0.775</li>\n",
       "\t<li>0.765</li>\n",
       "\t<li>0.655</li>\n",
       "\t<li>0.54</li>\n",
       "\t<li>0.485</li>\n",
       "\t<li>0.345</li>\n",
       "\t<li>0.305</li>\n",
       "\t<li>0.225</li>\n",
       "\t<li>0.155</li>\n",
       "\t<li>0.115</li>\n",
       "\t<li>0.07</li>\n",
       "\t<li>0.075</li>\n",
       "\t<li>0.04</li>\n",
       "\t<li>0.07</li>\n",
       "\t<li>0.12</li>\n",
       "\t<li>0.105</li>\n",
       "\t<li>0.155</li>\n",
       "\t<li>0.215</li>\n",
       "\t<li>0.28</li>\n",
       "\t<li>0.365</li>\n",
       "\t<li>0.445</li>\n",
       "\t<li>0.605</li>\n",
       "\t<li>0.635</li>\n",
       "\t<li>0.76</li>\n",
       "\t<li>0.845</li>\n",
       "\t<li>0.905</li>\n",
       "\t<li>0.925</li>\n",
       "\t<li>0.96</li>\n",
       "\t<li>0.99</li>\n",
       "\t<li>0.985</li>\n",
       "\t<li>1</li>\n",
       "\t<li>1</li>\n",
       "\t<li>1</li>\n",
       "</ol>\n",
       "</dd>\n",
       "\t<dt>$kendall</dt>\n",
       "\t\t<dd><ol class=list-inline>\n",
       "\t<li>1</li>\n",
       "\t<li>1</li>\n",
       "\t<li>1</li>\n",
       "\t<li>0.99</li>\n",
       "\t<li>0.975</li>\n",
       "\t<li>0.94</li>\n",
       "\t<li>0.935</li>\n",
       "\t<li>0.885</li>\n",
       "\t<li>0.885</li>\n",
       "\t<li>0.74</li>\n",
       "\t<li>0.65</li>\n",
       "\t<li>0.62</li>\n",
       "\t<li>0.49</li>\n",
       "\t<li>0.34</li>\n",
       "\t<li>0.27</li>\n",
       "\t<li>0.27</li>\n",
       "\t<li>0.145</li>\n",
       "\t<li>0.075</li>\n",
       "\t<li>0.06</li>\n",
       "\t<li>0.05</li>\n",
       "\t<li>0.075</li>\n",
       "\t<li>0.08</li>\n",
       "\t<li>0.105</li>\n",
       "\t<li>0.095</li>\n",
       "\t<li>0.145</li>\n",
       "\t<li>0.2</li>\n",
       "\t<li>0.315</li>\n",
       "\t<li>0.365</li>\n",
       "\t<li>0.5</li>\n",
       "\t<li>0.595</li>\n",
       "\t<li>0.695</li>\n",
       "\t<li>0.715</li>\n",
       "\t<li>0.85</li>\n",
       "\t<li>0.895</li>\n",
       "\t<li>0.9</li>\n",
       "\t<li>0.97</li>\n",
       "\t<li>1</li>\n",
       "\t<li>0.99</li>\n",
       "\t<li>0.985</li>\n",
       "\t<li>0.99</li>\n",
       "\t<li>0.995</li>\n",
       "</ol>\n",
       "</dd>\n",
       "</dl>\n"
      ],
      "text/latex": [
       "\\begin{description}\n",
       "\\item[\\$pearson] \\begin{enumerate*}\n",
       "\\item 1\n",
       "\\item 1\n",
       "\\item 1\n",
       "\\item 0.995\n",
       "\\item 0.985\n",
       "\\item 0.99\n",
       "\\item 0.96\n",
       "\\item 0.9\n",
       "\\item 0.865\n",
       "\\item 0.79\n",
       "\\item 0.74\n",
       "\\item 0.565\n",
       "\\item 0.56\n",
       "\\item 0.41\n",
       "\\item 0.285\n",
       "\\item 0.255\n",
       "\\item 0.14\n",
       "\\item 0.12\n",
       "\\item 0.085\n",
       "\\item 0.09\n",
       "\\item 0.045\n",
       "\\item 0.055\n",
       "\\item 0.07\n",
       "\\item 0.1\n",
       "\\item 0.13\n",
       "\\item 0.24\n",
       "\\item 0.365\n",
       "\\item 0.465\n",
       "\\item 0.495\n",
       "\\item 0.59\n",
       "\\item 0.725\n",
       "\\item 0.785\n",
       "\\item 0.915\n",
       "\\item 0.9\n",
       "\\item 0.97\n",
       "\\item 0.995\n",
       "\\item 0.985\n",
       "\\item 0.99\n",
       "\\item 0.995\n",
       "\\item 1\n",
       "\\item 1\n",
       "\\end{enumerate*}\n",
       "\n",
       "\\item[\\$spearman] \\begin{enumerate*}\n",
       "\\item 1\n",
       "\\item 1\n",
       "\\item 0.995\n",
       "\\item 0.98\n",
       "\\item 0.97\n",
       "\\item 0.955\n",
       "\\item 0.93\n",
       "\\item 0.87\n",
       "\\item 0.775\n",
       "\\item 0.765\n",
       "\\item 0.655\n",
       "\\item 0.54\n",
       "\\item 0.485\n",
       "\\item 0.345\n",
       "\\item 0.305\n",
       "\\item 0.225\n",
       "\\item 0.155\n",
       "\\item 0.115\n",
       "\\item 0.07\n",
       "\\item 0.075\n",
       "\\item 0.04\n",
       "\\item 0.07\n",
       "\\item 0.12\n",
       "\\item 0.105\n",
       "\\item 0.155\n",
       "\\item 0.215\n",
       "\\item 0.28\n",
       "\\item 0.365\n",
       "\\item 0.445\n",
       "\\item 0.605\n",
       "\\item 0.635\n",
       "\\item 0.76\n",
       "\\item 0.845\n",
       "\\item 0.905\n",
       "\\item 0.925\n",
       "\\item 0.96\n",
       "\\item 0.99\n",
       "\\item 0.985\n",
       "\\item 1\n",
       "\\item 1\n",
       "\\item 1\n",
       "\\end{enumerate*}\n",
       "\n",
       "\\item[\\$kendall] \\begin{enumerate*}\n",
       "\\item 1\n",
       "\\item 1\n",
       "\\item 1\n",
       "\\item 0.99\n",
       "\\item 0.975\n",
       "\\item 0.94\n",
       "\\item 0.935\n",
       "\\item 0.885\n",
       "\\item 0.885\n",
       "\\item 0.74\n",
       "\\item 0.65\n",
       "\\item 0.62\n",
       "\\item 0.49\n",
       "\\item 0.34\n",
       "\\item 0.27\n",
       "\\item 0.27\n",
       "\\item 0.145\n",
       "\\item 0.075\n",
       "\\item 0.06\n",
       "\\item 0.05\n",
       "\\item 0.075\n",
       "\\item 0.08\n",
       "\\item 0.105\n",
       "\\item 0.095\n",
       "\\item 0.145\n",
       "\\item 0.2\n",
       "\\item 0.315\n",
       "\\item 0.365\n",
       "\\item 0.5\n",
       "\\item 0.595\n",
       "\\item 0.695\n",
       "\\item 0.715\n",
       "\\item 0.85\n",
       "\\item 0.895\n",
       "\\item 0.9\n",
       "\\item 0.97\n",
       "\\item 1\n",
       "\\item 0.99\n",
       "\\item 0.985\n",
       "\\item 0.99\n",
       "\\item 0.995\n",
       "\\end{enumerate*}\n",
       "\n",
       "\\end{description}\n"
      ],
      "text/markdown": [
       "$pearson\n",
       ":   1. 1\n",
       "2. 1\n",
       "3. 1\n",
       "4. 0.995\n",
       "5. 0.985\n",
       "6. 0.99\n",
       "7. 0.96\n",
       "8. 0.9\n",
       "9. 0.865\n",
       "10. 0.79\n",
       "11. 0.74\n",
       "12. 0.565\n",
       "13. 0.56\n",
       "14. 0.41\n",
       "15. 0.285\n",
       "16. 0.255\n",
       "17. 0.14\n",
       "18. 0.12\n",
       "19. 0.085\n",
       "20. 0.09\n",
       "21. 0.045\n",
       "22. 0.055\n",
       "23. 0.07\n",
       "24. 0.1\n",
       "25. 0.13\n",
       "26. 0.24\n",
       "27. 0.365\n",
       "28. 0.465\n",
       "29. 0.495\n",
       "30. 0.59\n",
       "31. 0.725\n",
       "32. 0.785\n",
       "33. 0.915\n",
       "34. 0.9\n",
       "35. 0.97\n",
       "36. 0.995\n",
       "37. 0.985\n",
       "38. 0.99\n",
       "39. 0.995\n",
       "40. 1\n",
       "41. 1\n",
       "\n",
       "\n",
       "\n",
       "$spearman\n",
       ":   1. 1\n",
       "2. 1\n",
       "3. 0.995\n",
       "4. 0.98\n",
       "5. 0.97\n",
       "6. 0.955\n",
       "7. 0.93\n",
       "8. 0.87\n",
       "9. 0.775\n",
       "10. 0.765\n",
       "11. 0.655\n",
       "12. 0.54\n",
       "13. 0.485\n",
       "14. 0.345\n",
       "15. 0.305\n",
       "16. 0.225\n",
       "17. 0.155\n",
       "18. 0.115\n",
       "19. 0.07\n",
       "20. 0.075\n",
       "21. 0.04\n",
       "22. 0.07\n",
       "23. 0.12\n",
       "24. 0.105\n",
       "25. 0.155\n",
       "26. 0.215\n",
       "27. 0.28\n",
       "28. 0.365\n",
       "29. 0.445\n",
       "30. 0.605\n",
       "31. 0.635\n",
       "32. 0.76\n",
       "33. 0.845\n",
       "34. 0.905\n",
       "35. 0.925\n",
       "36. 0.96\n",
       "37. 0.99\n",
       "38. 0.985\n",
       "39. 1\n",
       "40. 1\n",
       "41. 1\n",
       "\n",
       "\n",
       "\n",
       "$kendall\n",
       ":   1. 1\n",
       "2. 1\n",
       "3. 1\n",
       "4. 0.99\n",
       "5. 0.975\n",
       "6. 0.94\n",
       "7. 0.935\n",
       "8. 0.885\n",
       "9. 0.885\n",
       "10. 0.74\n",
       "11. 0.65\n",
       "12. 0.62\n",
       "13. 0.49\n",
       "14. 0.34\n",
       "15. 0.27\n",
       "16. 0.27\n",
       "17. 0.145\n",
       "18. 0.075\n",
       "19. 0.06\n",
       "20. 0.05\n",
       "21. 0.075\n",
       "22. 0.08\n",
       "23. 0.105\n",
       "24. 0.095\n",
       "25. 0.145\n",
       "26. 0.2\n",
       "27. 0.315\n",
       "28. 0.365\n",
       "29. 0.5\n",
       "30. 0.595\n",
       "31. 0.695\n",
       "32. 0.715\n",
       "33. 0.85\n",
       "34. 0.895\n",
       "35. 0.9\n",
       "36. 0.97\n",
       "37. 1\n",
       "38. 0.99\n",
       "39. 0.985\n",
       "40. 0.99\n",
       "41. 0.995\n",
       "\n",
       "\n",
       "\n",
       "\n",
       "\n"
      ],
      "text/plain": [
       "$pearson\n",
       " [1] 1.000 1.000 1.000 0.995 0.985 0.990 0.960 0.900 0.865 0.790 0.740 0.565\n",
       "[13] 0.560 0.410 0.285 0.255 0.140 0.120 0.085 0.090 0.045 0.055 0.070 0.100\n",
       "[25] 0.130 0.240 0.365 0.465 0.495 0.590 0.725 0.785 0.915 0.900 0.970 0.995\n",
       "[37] 0.985 0.990 0.995 1.000 1.000\n",
       "\n",
       "$spearman\n",
       " [1] 1.000 1.000 0.995 0.980 0.970 0.955 0.930 0.870 0.775 0.765 0.655 0.540\n",
       "[13] 0.485 0.345 0.305 0.225 0.155 0.115 0.070 0.075 0.040 0.070 0.120 0.105\n",
       "[25] 0.155 0.215 0.280 0.365 0.445 0.605 0.635 0.760 0.845 0.905 0.925 0.960\n",
       "[37] 0.990 0.985 1.000 1.000 1.000\n",
       "\n",
       "$kendall\n",
       " [1] 1.000 1.000 1.000 0.990 0.975 0.940 0.935 0.885 0.885 0.740 0.650 0.620\n",
       "[13] 0.490 0.340 0.270 0.270 0.145 0.075 0.060 0.050 0.075 0.080 0.105 0.095\n",
       "[25] 0.145 0.200 0.315 0.365 0.500 0.595 0.695 0.715 0.850 0.895 0.900 0.970\n",
       "[37] 1.000 0.990 0.985 0.990 0.995\n"
      ]
     },
     "metadata": {},
     "output_type": "display_data"
    }
   ],
   "source": [
    "p.list"
   ]
  },
  {
   "cell_type": "code",
   "execution_count": 112,
   "metadata": {
    "collapsed": false
   },
   "outputs": [
    {
     "name": "stderr",
     "output_type": "stream",
     "text": [
      "Warning message:\n",
      "\"package 'ggplot2' was built under R version 3.3.2\""
     ]
    }
   ],
   "source": [
    "library(ggplot2)"
   ]
  },
  {
   "cell_type": "code",
   "execution_count": 114,
   "metadata": {
    "collapsed": false
   },
   "outputs": [
    {
     "data": {
      "text/html": [
       "<table>\n",
       "<thead><tr><th scope=col>pearson</th><th scope=col>spearman</th><th scope=col>kendall</th><th scope=col>rho</th></tr></thead>\n",
       "<tbody>\n",
       "\t<tr><td>1.000 </td><td>1.000 </td><td>1.000 </td><td>-0.500</td></tr>\n",
       "\t<tr><td>1.000 </td><td>1.000 </td><td>1.000 </td><td>-0.475</td></tr>\n",
       "\t<tr><td>1.000 </td><td>0.995 </td><td>1.000 </td><td>-0.450</td></tr>\n",
       "\t<tr><td>0.995 </td><td>0.980 </td><td>0.990 </td><td>-0.425</td></tr>\n",
       "\t<tr><td>0.985 </td><td>0.970 </td><td>0.975 </td><td>-0.400</td></tr>\n",
       "\t<tr><td>0.990 </td><td>0.955 </td><td>0.940 </td><td>-0.375</td></tr>\n",
       "</tbody>\n",
       "</table>\n"
      ],
      "text/latex": [
       "\\begin{tabular}{r|llll}\n",
       " pearson & spearman & kendall & rho\\\\\n",
       "\\hline\n",
       "\t 1.000  & 1.000  & 1.000  & -0.500\\\\\n",
       "\t 1.000  & 1.000  & 1.000  & -0.475\\\\\n",
       "\t 1.000  & 0.995  & 1.000  & -0.450\\\\\n",
       "\t 0.995  & 0.980  & 0.990  & -0.425\\\\\n",
       "\t 0.985  & 0.970  & 0.975  & -0.400\\\\\n",
       "\t 0.990  & 0.955  & 0.940  & -0.375\\\\\n",
       "\\end{tabular}\n"
      ],
      "text/plain": [
       "  pearson spearman kendall rho   \n",
       "1 1.000   1.000    1.000   -0.500\n",
       "2 1.000   1.000    1.000   -0.475\n",
       "3 1.000   0.995    1.000   -0.450\n",
       "4 0.995   0.980    0.990   -0.425\n",
       "5 0.985   0.970    0.975   -0.400\n",
       "6 0.990   0.955    0.940   -0.375"
      ]
     },
     "metadata": {},
     "output_type": "display_data"
    }
   ],
   "source": [
    "power.df <- data.frame(p.list)\n",
    "power.df$rho <- rho\n",
    "head(power.df)"
   ]
  },
  {
   "cell_type": "code",
   "execution_count": 115,
   "metadata": {
    "collapsed": true
   },
   "outputs": [],
   "source": [
    "library(reshape2)"
   ]
  },
  {
   "cell_type": "code",
   "execution_count": 121,
   "metadata": {
    "collapsed": false
   },
   "outputs": [
    {
     "data": {
      "text/html": [
       "<table>\n",
       "<thead><tr><th scope=col>rho</th><th scope=col>variable</th><th scope=col>value</th></tr></thead>\n",
       "<tbody>\n",
       "\t<tr><td>-0.500 </td><td>pearson</td><td>1.000  </td></tr>\n",
       "\t<tr><td>-0.475 </td><td>pearson</td><td>1.000  </td></tr>\n",
       "\t<tr><td>-0.450 </td><td>pearson</td><td>1.000  </td></tr>\n",
       "\t<tr><td>-0.425 </td><td>pearson</td><td>0.995  </td></tr>\n",
       "\t<tr><td>-0.400 </td><td>pearson</td><td>0.985  </td></tr>\n",
       "\t<tr><td>-0.375 </td><td>pearson</td><td>0.990  </td></tr>\n",
       "</tbody>\n",
       "</table>\n"
      ],
      "text/latex": [
       "\\begin{tabular}{r|lll}\n",
       " rho & variable & value\\\\\n",
       "\\hline\n",
       "\t -0.500  & pearson & 1.000  \\\\\n",
       "\t -0.475  & pearson & 1.000  \\\\\n",
       "\t -0.450  & pearson & 1.000  \\\\\n",
       "\t -0.425  & pearson & 0.995  \\\\\n",
       "\t -0.400  & pearson & 0.985  \\\\\n",
       "\t -0.375  & pearson & 0.990  \\\\\n",
       "\\end{tabular}\n"
      ],
      "text/plain": [
       "  rho    variable value\n",
       "1 -0.500 pearson  1.000\n",
       "2 -0.475 pearson  1.000\n",
       "3 -0.450 pearson  1.000\n",
       "4 -0.425 pearson  0.995\n",
       "5 -0.400 pearson  0.985\n",
       "6 -0.375 pearson  0.990"
      ]
     },
     "metadata": {},
     "output_type": "display_data"
    }
   ],
   "source": [
    "md <- melt(power.df,'rho')\n",
    "head(md)"
   ]
  },
  {
   "cell_type": "code",
   "execution_count": 129,
   "metadata": {
    "collapsed": false
   },
   "outputs": [
    {
     "data": {},
     "metadata": {},
     "output_type": "display_data"
    },
    {
     "data": {
      "image/png": "[encoded data removed]",
      "text/plain": [
       "plot without title"
      ]
     },
     "metadata": {},
     "output_type": "display_data"
    }
   ],
   "source": [
    "ggplot(md, aes(rho,value,colour=variable)) + geom_line()# + geom_legend()"
   ]
  },
  {
   "cell_type": "markdown",
   "metadata": {},
   "source": [
    "可以看出功效其实都差不多，这个模拟本身误差太大以至于难以分辨。\n",
    "\n",
    "## Theil非参数回归和几种稳健回归\n",
    "\n"
   ]
  },
  {
   "cell_type": "code",
   "execution_count": 3,
   "metadata": {
    "collapsed": true
   },
   "outputs": [],
   "source": [
    "CPIGINI <- data.frame(\n",
    "    x = c(9.7, 9.5, 9.3, 9.0, 8.7, 8.6, 8.5, 7.8, 7.7, 7.5, 7.3, 7.1, 6.9, 6.3,\n",
    "          6.0, 5.7, 5.6, 5.2, 5.1, 4.9, 4.8, 4.5, 4.2, 4.0, 3.9, 3.8, 3.7, 3.2,\n",
    "          3.1, 3.0, 2.9, 2.7, 2.6, 2.5, 2.4, 2.2, 2.1, 2.0, 1.7, 1.6),\n",
    "    y = c(25.6, 24.7, 25.0, 31.5, 36.8, 35.2, 25.8, 31.0, 45.0, 57.1, 30.0, 28.7, 35.9, 32.7,\n",
    "          28.4, 70.0, 37.0, 27.3, 44.8, 24.4, 34.0, 35.8, 35.4, 31.6, 40.7, 29.0, 34.4, 51.1,\n",
    "          41.3, 48.5, 44.7, 39.9, 41.0, 49.5, 36.1, 42.0, 37.4, 36.0, 38.1, 50.6)\n",
    ")"
   ]
  },
  {
   "cell_type": "markdown",
   "metadata": {
    "collapsed": true
   },
   "source": [
    "### 普通线性回归回顾\n",
    "\n",
    "一般的线性回归实际上从样本设的一个比照模型。在上面假设独立同分布的各个$\\epsilon$残差项来包容所有可能$Y$取值。\n",
    "该比照模型每给定一组系数$\\beta$和$\\sigma$，就得到一个确定模型。我们可以以$\\epsilon$的正态假设对其极大似然估计从各确定模型中抽出一个最合理的。\n",
    "也可以得到任何一个确定模型的确定抽样分布，在那里我们研究一些诸如系数等于0的确定模型是否是显著不合理的。"
   ]
  },
  {
   "cell_type": "code",
   "execution_count": 13,
   "metadata": {
    "collapsed": false
   },
   "outputs": [
    {
     "data": {
      "text/plain": [
       "\n",
       "Call:\n",
       "lm(formula = y ~ x, data = CPIGINI)\n",
       "\n",
       "Coefficients:\n",
       "(Intercept)            x  \n",
       "     45.066       -1.489  \n"
      ]
     },
     "metadata": {},
     "output_type": "display_data"
    }
   ],
   "source": [
    "mod <- lm(y ~ x, data=CPIGINI)\n",
    "mod"
   ]
  },
  {
   "cell_type": "code",
   "execution_count": 17,
   "metadata": {
    "collapsed": false
   },
   "outputs": [],
   "source": [
    "y <- CPIGINI$y\n",
    "x <- CPIGINI$x"
   ]
  },
  {
   "cell_type": "code",
   "execution_count": 24,
   "metadata": {
    "collapsed": true
   },
   "outputs": [],
   "source": [
    "p <- c(0,0,1)\n",
    "fn <- function(p){\n",
    "    b0 <- p[1]\n",
    "    b1 <- p[2]\n",
    "    sigma <- p[3]\n",
    "    e <- y - (b0 + b1 * x)\n",
    "    return(-sum(dnorm(e, 0, sigma, log = TRUE)))\n",
    "}"
   ]
  },
  {
   "cell_type": "code",
   "execution_count": 25,
   "metadata": {
    "collapsed": false
   },
   "outputs": [
    {
     "data": {
      "text/plain": [
       "$par\n",
       "[1] 45.040264 -1.481761  8.774242\n",
       "\n",
       "$value\n",
       "[1] 143.6443\n",
       "\n",
       "$counts\n",
       "function gradient \n",
       "     214       NA \n",
       "\n",
       "$convergence\n",
       "[1] 0\n",
       "\n",
       "$message\n",
       "NULL\n"
      ]
     },
     "metadata": {},
     "output_type": "display_data"
    }
   ],
   "source": [
    "optim(p,fn)"
   ]
  },
  {
   "cell_type": "code",
   "execution_count": 26,
   "metadata": {
    "collapsed": false
   },
   "outputs": [],
   "source": [
    "p2 <- c(0,0)\n",
    "\n",
    "fn2 <- function(p){\n",
    "    b0 <- p[1]\n",
    "    b1 <- p[2]\n",
    "    e <- y - (b0 + b1 * x)\n",
    "    return(sum(e^2))\n",
    "}"
   ]
  },
  {
   "cell_type": "code",
   "execution_count": 27,
   "metadata": {
    "collapsed": false
   },
   "outputs": [
    {
     "data": {
      "text/plain": [
       "$par\n",
       "[1] 45.060030 -1.487892\n",
       "\n",
       "$value\n",
       "[1] 3081.624\n",
       "\n",
       "$counts\n",
       "function gradient \n",
       "     101       NA \n",
       "\n",
       "$convergence\n",
       "[1] 0\n",
       "\n",
       "$message\n",
       "NULL\n"
      ]
     },
     "metadata": {},
     "output_type": "display_data"
    }
   ],
   "source": [
    "optim(p2, fn2)"
   ]
  },
  {
   "cell_type": "markdown",
   "metadata": {},
   "source": [
    "我们看到上面的极大似然法和最小二乘法得到了等价的结果，其中极大似然法对$\\sigma$的优化更加自然。\n",
    "\n",
    "除了抽出这个最优模型外，我们还可以考虑一个给定模型对于所实际观测的样本来说是否是足够不合理的\n",
    "（上面抽出的某种意义上是不合理程度最小的确定模型）。这种检验的一个目的是证明所有说某因素效果（系数）为0的确定模型都是不合理的。\n",
    "从而证明其效果显著不为0.\n",
    "\n",
    "给定一个样本，给定一个确定模型，再随便选一个统计量。看该确定模型在统计量下的分布，再看样本在该统计量的值是否过于极端。从而进行推断。\n",
    "显然这里不拒绝原假设并不代表原假设很真，只能说明从这个统计量的角度无法拒绝。比如选统计量为不管样本什么样都返回恒定值1.\n",
    "\n",
    "这里我们考虑一个粗糙的统计量类，给定一个确定模型后以其参数确定统计量的参数，该统计量为估计值与参数差的平方和。"
   ]
  },
  {
   "cell_type": "code",
   "execution_count": 33,
   "metadata": {
    "collapsed": true
   },
   "outputs": [],
   "source": [
    "x <- rnorm(100)\n",
    "y <- 1 + 2*x + rnorm(100)\n",
    "df <- data.frame(x = x, y = y)"
   ]
  },
  {
   "cell_type": "code",
   "execution_count": 35,
   "metadata": {
    "collapsed": false
   },
   "outputs": [
    {
     "data": {
      "text/plain": [
       "\n",
       "Call:\n",
       "lm(formula = y ~ x, data = df)\n",
       "\n",
       "Coefficients:\n",
       "(Intercept)            x  \n",
       "     0.9731       1.8014  \n"
      ]
     },
     "metadata": {},
     "output_type": "display_data"
    }
   ],
   "source": [
    "lm(y ~ x , data = df)"
   ]
  },
  {
   "cell_type": "code",
   "execution_count": 36,
   "metadata": {
    "collapsed": true
   },
   "outputs": [],
   "source": [
    "rough.stat.class <- function(real.p){\n",
    "    rough.stat <- function(p){\n",
    "        sum((real.p - p)^2)\n",
    "    }\n",
    "    return(rough.stat)\n",
    "}"
   ]
  },
  {
   "cell_type": "code",
   "execution_count": 57,
   "metadata": {
    "collapsed": false
   },
   "outputs": [],
   "source": [
    "b0 <- 1\n",
    "b1 <- 2\n",
    "sigma <- 1\n",
    "\n",
    "size <- 1000\n",
    "\n",
    "rs <- rough.stat.class(c(b0,b1))\n",
    "\n",
    "rs.value <- c()\n",
    "\n",
    "for(i in 1:size){\n",
    "    y <- b0 + b1 * df$x + rnorm(nrow(df),sigma)\n",
    "    res <- lm(y ~ x ,data.frame(x = x, y = y))\n",
    "    rs.value[i] <- rs(res$)\n",
    "}"
   ]
  },
  {
   "cell_type": "code",
   "execution_count": 58,
   "metadata": {
    "collapsed": false
   },
   "outputs": [
    {
     "data": {
      "image/png": "[encoded data removed]",
      "text/plain": [
       "Plot with title \"Histogram of rs.value\""
      ]
     },
     "metadata": {},
     "output_type": "display_data"
    }
   ],
   "source": [
    "hist(rs.value)"
   ]
  },
  {
   "cell_type": "code",
   "execution_count": 51,
   "metadata": {
    "collapsed": false
   },
   "outputs": [
    {
     "data": {
      "image/png": "[encoded data removed]",
      "text/plain": [
       "Plot with title \"ecdf(rs.value)\""
      ]
     },
     "metadata": {},
     "output_type": "display_data"
    }
   ],
   "source": [
    "plot(ecdf(rs.value))"
   ]
  },
  {
   "cell_type": "code",
   "execution_count": 60,
   "metadata": {
    "collapsed": false
   },
   "outputs": [
    {
     "data": {
      "text/html": [
       "0.04016557"
      ],
      "text/latex": [
       "0.04016557"
      ],
      "text/markdown": [
       "0.04016557"
      ],
      "text/plain": [
       "[1] 0.04016557"
      ]
     },
     "metadata": {},
     "output_type": "display_data"
    }
   ],
   "source": [
    "rs(c(0.9731,1.8014))"
   ]
  },
  {
   "cell_type": "markdown",
   "metadata": {},
   "source": [
    "上面搞了一个该确定模型成立下一个对应检验统计量的分布，显然当样本在这个统计量上的值（最小二乘估计出参数与对应参数差的平方和）太大，\n",
    "则说明这个样本不适合这个模型，或者模型对该样本解释能力很弱，很假。我们注意到的确是从这个样本里roll出来的样本果然没有在很小的位置上。\n",
    "当然划定任何显著性水平，都会导致从确定模型roll出的样本有等于那个显著性水平的概率被拒绝出自该真实模型，即第一类错误。\n",
    "\n",
    "这里我们又可以利用模拟研究功效问题，这里备择假设设成其他所有一元模型。\n",
    "每一个三元组$(\\beta_0,\\beta_1,\\sigma) \\quad \\sigma>0$都对应一个这样的模型。我们看看这些模型上检验拒绝的概率的情况。\n",
    "注意虽然$\\sigma$没有包含在检验统计量求偏差平方和的项中，但是$\\sigma$会增大估计量的波动，从而在多数情况加大被拒绝的概率。"
   ]
  },
  {
   "cell_type": "code",
   "execution_count": 70,
   "metadata": {
    "collapsed": false
   },
   "outputs": [
    {
     "data": {
      "text/html": [
       "0.95"
      ],
      "text/latex": [
       "0.95"
      ],
      "text/markdown": [
       "0.95"
      ],
      "text/plain": [
       "[1] 0.95"
      ]
     },
     "metadata": {},
     "output_type": "display_data"
    }
   ],
   "source": [
    "ecdf(rs.value)(1.376)"
   ]
  },
  {
   "cell_type": "code",
   "execution_count": 135,
   "metadata": {
    "collapsed": true
   },
   "outputs": [],
   "source": [
    "is.reject <- function(stat){\n",
    "    stat > 1.375\n",
    "}\n",
    "\n",
    "experiment <- function(hyper.p, size = 200, return.stat = FALSE, return.coef = FALSE){\n",
    "    b0 <- hyper.p[1]\n",
    "    b1 <- hyper.p[2]\n",
    "    sigma <- hyper.p[3]\n",
    "    \n",
    "    coef.mat <- NULL\n",
    "    \n",
    "    for(i in 1:size){\n",
    "        y <- b0 + b1 * df$x + rnorm(nrow(df),0,sigma)\n",
    "        res <- lm(y ~ x ,data.frame(x = df$x, y = y))\n",
    "        coef.mat <- rbind(coef.mat, res$coefficients)\n",
    "    }\n",
    "    if(return.coef){\n",
    "        return(coef.mat)\n",
    "    }\n",
    "    stat.v <- apply(coef.mat,1,rs)\n",
    "    if(return.stat){\n",
    "        return(stat.v)\n",
    "    }\n",
    "    return(mean(is.reject(stat.v)))\n",
    "}"
   ]
  },
  {
   "cell_type": "code",
   "execution_count": 122,
   "metadata": {
    "collapsed": false
   },
   "outputs": [
    {
     "data": {
      "text/html": [
       "0.05"
      ],
      "text/latex": [
       "0.05"
      ],
      "text/markdown": [
       "0.05"
      ],
      "text/plain": [
       "[1] 0.05"
      ]
     },
     "metadata": {},
     "output_type": "display_data"
    }
   ],
   "source": [
    "experiment(c(1,2,1))"
   ]
  },
  {
   "cell_type": "code",
   "execution_count": 144,
   "metadata": {
    "collapsed": false
   },
   "outputs": [
    {
     "data": {
      "text/html": [
       "<ol class=list-inline>\n",
       "\t<li>1</li>\n",
       "\t<li>1</li>\n",
       "\t<li>1</li>\n",
       "\t<li>1</li>\n",
       "\t<li>0.995</li>\n",
       "\t<li>0.905</li>\n",
       "\t<li>0.6</li>\n",
       "\t<li>0.29</li>\n",
       "\t<li>0.035</li>\n",
       "\t<li>0</li>\n",
       "\t<li>0</li>\n",
       "\t<li>0</li>\n",
       "\t<li>0</li>\n",
       "\t<li>0</li>\n",
       "\t<li>0</li>\n",
       "\t<li>0.005</li>\n",
       "\t<li>0.055</li>\n",
       "\t<li>0.23</li>\n",
       "\t<li>0.545</li>\n",
       "\t<li>0.91</li>\n",
       "\t<li>0.995</li>\n",
       "\t<li>1</li>\n",
       "</ol>\n"
      ],
      "text/latex": [
       "\\begin{enumerate*}\n",
       "\\item 1\n",
       "\\item 1\n",
       "\\item 1\n",
       "\\item 1\n",
       "\\item 0.995\n",
       "\\item 0.905\n",
       "\\item 0.6\n",
       "\\item 0.29\n",
       "\\item 0.035\n",
       "\\item 0\n",
       "\\item 0\n",
       "\\item 0\n",
       "\\item 0\n",
       "\\item 0\n",
       "\\item 0\n",
       "\\item 0.005\n",
       "\\item 0.055\n",
       "\\item 0.23\n",
       "\\item 0.545\n",
       "\\item 0.91\n",
       "\\item 0.995\n",
       "\\item 1\n",
       "\\end{enumerate*}\n"
      ],
      "text/markdown": [
       "1. 1\n",
       "2. 1\n",
       "3. 1\n",
       "4. 1\n",
       "5. 0.995\n",
       "6. 0.905\n",
       "7. 0.6\n",
       "8. 0.29\n",
       "9. 0.035\n",
       "10. 0\n",
       "11. 0\n",
       "12. 0\n",
       "13. 0\n",
       "14. 0\n",
       "15. 0\n",
       "16. 0.005\n",
       "17. 0.055\n",
       "18. 0.23\n",
       "19. 0.545\n",
       "20. 0.91\n",
       "21. 0.995\n",
       "22. 1\n",
       "\n",
       "\n"
      ],
      "text/plain": [
       " [1] 1.000 1.000 1.000 1.000 0.995 0.905 0.600 0.290 0.035 0.000 0.000 0.000\n",
       "[13] 0.000 0.000 0.000 0.005 0.055 0.230 0.545 0.910 0.995 1.000"
      ]
     },
     "metadata": {},
     "output_type": "display_data"
    }
   ],
   "source": [
    "b0.test <- c(seq(-0.8,0,0.1),seq(0.1,1.7,0.4),seq(1.8,2.5,0.1))\n",
    "\n",
    "b0.power <- c()\n",
    "\n",
    "for(i in 1:length(b0.test)){\n",
    "    p <- c(b0.test[i],2,1)\n",
    "    b0.power[i] <- experiment(p)\n",
    "}\n",
    "b0.power"
   ]
  },
  {
   "cell_type": "code",
   "execution_count": 145,
   "metadata": {
    "collapsed": false
   },
   "outputs": [
    {
     "data": {
      "text/html": [
       "<ol class=list-inline>\n",
       "\t<li>-0.8</li>\n",
       "\t<li>-0.7</li>\n",
       "\t<li>-0.6</li>\n",
       "\t<li>-0.5</li>\n",
       "\t<li>-0.4</li>\n",
       "\t<li>-0.3</li>\n",
       "\t<li>-0.2</li>\n",
       "\t<li>-0.1</li>\n",
       "\t<li>0</li>\n",
       "\t<li>0.1</li>\n",
       "\t<li>0.5</li>\n",
       "\t<li>0.9</li>\n",
       "\t<li>1.3</li>\n",
       "\t<li>1.7</li>\n",
       "\t<li>1.8</li>\n",
       "\t<li>1.9</li>\n",
       "\t<li>2</li>\n",
       "\t<li>2.1</li>\n",
       "\t<li>2.2</li>\n",
       "\t<li>2.3</li>\n",
       "\t<li>2.4</li>\n",
       "\t<li>2.5</li>\n",
       "</ol>\n"
      ],
      "text/latex": [
       "\\begin{enumerate*}\n",
       "\\item -0.8\n",
       "\\item -0.7\n",
       "\\item -0.6\n",
       "\\item -0.5\n",
       "\\item -0.4\n",
       "\\item -0.3\n",
       "\\item -0.2\n",
       "\\item -0.1\n",
       "\\item 0\n",
       "\\item 0.1\n",
       "\\item 0.5\n",
       "\\item 0.9\n",
       "\\item 1.3\n",
       "\\item 1.7\n",
       "\\item 1.8\n",
       "\\item 1.9\n",
       "\\item 2\n",
       "\\item 2.1\n",
       "\\item 2.2\n",
       "\\item 2.3\n",
       "\\item 2.4\n",
       "\\item 2.5\n",
       "\\end{enumerate*}\n"
      ],
      "text/markdown": [
       "1. -0.8\n",
       "2. -0.7\n",
       "3. -0.6\n",
       "4. -0.5\n",
       "5. -0.4\n",
       "6. -0.3\n",
       "7. -0.2\n",
       "8. -0.1\n",
       "9. 0\n",
       "10. 0.1\n",
       "11. 0.5\n",
       "12. 0.9\n",
       "13. 1.3\n",
       "14. 1.7\n",
       "15. 1.8\n",
       "16. 1.9\n",
       "17. 2\n",
       "18. 2.1\n",
       "19. 2.2\n",
       "20. 2.3\n",
       "21. 2.4\n",
       "22. 2.5\n",
       "\n",
       "\n"
      ],
      "text/plain": [
       " [1] -0.8 -0.7 -0.6 -0.5 -0.4 -0.3 -0.2 -0.1  0.0  0.1  0.5  0.9  1.3  1.7  1.8\n",
       "[16]  1.9  2.0  2.1  2.2  2.3  2.4  2.5"
      ]
     },
     "metadata": {},
     "output_type": "display_data"
    }
   ],
   "source": [
    "b0.test"
   ]
  },
  {
   "cell_type": "code",
   "execution_count": 148,
   "metadata": {
    "collapsed": false
   },
   "outputs": [
    {
     "data": {
      "image/png": "[encoded data removed]",
      "text/plain": [
       "Plot with title \"b0\""
      ]
     },
     "metadata": {},
     "output_type": "display_data"
    }
   ],
   "source": [
    "plot(b0.test,b0.power,'b')"
   ]
  },
  {
   "cell_type": "code",
   "execution_count": 150,
   "metadata": {
    "collapsed": false
   },
   "outputs": [
    {
     "data": {
      "text/html": [
       "<ol class=list-inline>\n",
       "\t<li>1</li>\n",
       "\t<li>1</li>\n",
       "\t<li>1</li>\n",
       "\t<li>1</li>\n",
       "\t<li>1</li>\n",
       "\t<li>0.995</li>\n",
       "\t<li>0.975</li>\n",
       "\t<li>0.91</li>\n",
       "\t<li>0.66</li>\n",
       "\t<li>0.26</li>\n",
       "\t<li>0.03</li>\n",
       "\t<li>0</li>\n",
       "\t<li>0</li>\n",
       "\t<li>0</li>\n",
       "\t<li>0</li>\n",
       "\t<li>0.005</li>\n",
       "\t<li>0.075</li>\n",
       "\t<li>0.24</li>\n",
       "\t<li>0.66</li>\n",
       "\t<li>0.885</li>\n",
       "\t<li>0.99</li>\n",
       "\t<li>1</li>\n",
       "</ol>\n"
      ],
      "text/latex": [
       "\\begin{enumerate*}\n",
       "\\item 1\n",
       "\\item 1\n",
       "\\item 1\n",
       "\\item 1\n",
       "\\item 1\n",
       "\\item 0.995\n",
       "\\item 0.975\n",
       "\\item 0.91\n",
       "\\item 0.66\n",
       "\\item 0.26\n",
       "\\item 0.03\n",
       "\\item 0\n",
       "\\item 0\n",
       "\\item 0\n",
       "\\item 0\n",
       "\\item 0.005\n",
       "\\item 0.075\n",
       "\\item 0.24\n",
       "\\item 0.66\n",
       "\\item 0.885\n",
       "\\item 0.99\n",
       "\\item 1\n",
       "\\end{enumerate*}\n"
      ],
      "text/markdown": [
       "1. 1\n",
       "2. 1\n",
       "3. 1\n",
       "4. 1\n",
       "5. 1\n",
       "6. 0.995\n",
       "7. 0.975\n",
       "8. 0.91\n",
       "9. 0.66\n",
       "10. 0.26\n",
       "11. 0.03\n",
       "12. 0\n",
       "13. 0\n",
       "14. 0\n",
       "15. 0\n",
       "16. 0.005\n",
       "17. 0.075\n",
       "18. 0.24\n",
       "19. 0.66\n",
       "20. 0.885\n",
       "21. 0.99\n",
       "22. 1\n",
       "\n",
       "\n"
      ],
      "text/plain": [
       " [1] 1.000 1.000 1.000 1.000 1.000 0.995 0.975 0.910 0.660 0.260 0.030 0.000\n",
       "[13] 0.000 0.000 0.000 0.005 0.075 0.240 0.660 0.885 0.990 1.000"
      ]
     },
     "metadata": {},
     "output_type": "display_data"
    }
   ],
   "source": [
    "b1.test <- c(seq(0,1.1,0.1),c(1.2,2,2.8),seq(2.9,3.5,0.1))\n",
    "\n",
    "b1.power <- c()\n",
    "\n",
    "for(i in 1:length(b1.test)){\n",
    "    p <- c(1,b1.test[i],1)\n",
    "    b1.power[i] <- experiment(p)\n",
    "}\n",
    "b1.power"
   ]
  },
  {
   "cell_type": "code",
   "execution_count": 151,
   "metadata": {
    "collapsed": false
   },
   "outputs": [
    {
     "data": {
      "image/png": "[encoded data removed]",
      "text/plain": [
       "plot without title"
      ]
     },
     "metadata": {},
     "output_type": "display_data"
    }
   ],
   "source": [
    "plot(b1.test,b1.power,'b')"
   ]
  },
  {
   "cell_type": "code",
   "execution_count": 160,
   "metadata": {
    "collapsed": false
   },
   "outputs": [
    {
     "data": {
      "text/html": [
       "<ol class=list-inline>\n",
       "\t<li>0</li>\n",
       "\t<li>0</li>\n",
       "\t<li>0.0025</li>\n",
       "\t<li>0.0375</li>\n",
       "\t<li>0.1725</li>\n",
       "\t<li>0.315</li>\n",
       "\t<li>0.465</li>\n",
       "\t<li>0.52</li>\n",
       "\t<li>0.6025</li>\n",
       "\t<li>0.7175</li>\n",
       "\t<li>0.765</li>\n",
       "\t<li>0.8</li>\n",
       "\t<li>0.8075</li>\n",
       "\t<li>0.83</li>\n",
       "\t<li>0.8625</li>\n",
       "\t<li>0.8675</li>\n",
       "\t<li>0.885</li>\n",
       "\t<li>0.89</li>\n",
       "\t<li>0.9275</li>\n",
       "\t<li>0.91</li>\n",
       "</ol>\n"
      ],
      "text/latex": [
       "\\begin{enumerate*}\n",
       "\\item 0\n",
       "\\item 0\n",
       "\\item 0.0025\n",
       "\\item 0.0375\n",
       "\\item 0.1725\n",
       "\\item 0.315\n",
       "\\item 0.465\n",
       "\\item 0.52\n",
       "\\item 0.6025\n",
       "\\item 0.7175\n",
       "\\item 0.765\n",
       "\\item 0.8\n",
       "\\item 0.8075\n",
       "\\item 0.83\n",
       "\\item 0.8625\n",
       "\\item 0.8675\n",
       "\\item 0.885\n",
       "\\item 0.89\n",
       "\\item 0.9275\n",
       "\\item 0.91\n",
       "\\end{enumerate*}\n"
      ],
      "text/markdown": [
       "1. 0\n",
       "2. 0\n",
       "3. 0.0025\n",
       "4. 0.0375\n",
       "5. 0.1725\n",
       "6. 0.315\n",
       "7. 0.465\n",
       "8. 0.52\n",
       "9. 0.6025\n",
       "10. 0.7175\n",
       "11. 0.765\n",
       "12. 0.8\n",
       "13. 0.8075\n",
       "14. 0.83\n",
       "15. 0.8625\n",
       "16. 0.8675\n",
       "17. 0.885\n",
       "18. 0.89\n",
       "19. 0.9275\n",
       "20. 0.91\n",
       "\n",
       "\n"
      ],
      "text/plain": [
       " [1] 0.0000 0.0000 0.0025 0.0375 0.1725 0.3150 0.4650 0.5200 0.6025 0.7175\n",
       "[11] 0.7650 0.8000 0.8075 0.8300 0.8625 0.8675 0.8850 0.8900 0.9275 0.9100"
      ]
     },
     "metadata": {},
     "output_type": "display_data"
    }
   ],
   "source": [
    "sigma.test <- seq(0.1,30,1.5)\n",
    "\n",
    "sigma.power <- c()\n",
    "\n",
    "for(i in 1:length(sigma.test)){\n",
    "    p <- c(1,2,sigma.test[i])\n",
    "    sigma.power[i] <- experiment(p,size = 400)\n",
    "}\n",
    "sigma.power"
   ]
  },
  {
   "cell_type": "code",
   "execution_count": 161,
   "metadata": {
    "collapsed": false
   },
   "outputs": [
    {
     "data": {
      "image/png": "[encoded data removed]",
      "text/plain": [
       "plot without title"
      ]
     },
     "metadata": {},
     "output_type": "display_data"
    }
   ],
   "source": [
    "plot(sigma.test,sigma.power,'b')"
   ]
  },
  {
   "cell_type": "code",
   "execution_count": 166,
   "metadata": {
    "collapsed": false
   },
   "outputs": [
    {
     "data": {
      "text/html": [
       "<ol class=list-inline>\n",
       "\t<li>0</li>\n",
       "\t<li>0.6875</li>\n",
       "\t<li>0.875</li>\n",
       "\t<li>0.8975</li>\n",
       "\t<li>0.965</li>\n",
       "\t<li>0.975</li>\n",
       "\t<li>0.9675</li>\n",
       "\t<li>0.985</li>\n",
       "\t<li>0.9925</li>\n",
       "\t<li>0.9925</li>\n",
       "</ol>\n"
      ],
      "text/latex": [
       "\\begin{enumerate*}\n",
       "\\item 0\n",
       "\\item 0.6875\n",
       "\\item 0.875\n",
       "\\item 0.8975\n",
       "\\item 0.965\n",
       "\\item 0.975\n",
       "\\item 0.9675\n",
       "\\item 0.985\n",
       "\\item 0.9925\n",
       "\\item 0.9925\n",
       "\\end{enumerate*}\n"
      ],
      "text/markdown": [
       "1. 0\n",
       "2. 0.6875\n",
       "3. 0.875\n",
       "4. 0.8975\n",
       "5. 0.965\n",
       "6. 0.975\n",
       "7. 0.9675\n",
       "8. 0.985\n",
       "9. 0.9925\n",
       "10. 0.9925\n",
       "\n",
       "\n"
      ],
      "text/plain": [
       " [1] 0.0000 0.6875 0.8750 0.8975 0.9650 0.9750 0.9675 0.9850 0.9925 0.9925"
      ]
     },
     "metadata": {},
     "output_type": "display_data"
    }
   ],
   "source": [
    "sigma.test <- seq(0.1,100,10)\n",
    "\n",
    "sigma.power <- c()\n",
    "\n",
    "for(i in 1:length(sigma.test)){\n",
    "    p <- c(1,3,sigma.test[i])\n",
    "    sigma.power[i] <- experiment(p,size = 400)\n",
    "}\n",
    "sigma.power"
   ]
  },
  {
   "cell_type": "markdown",
   "metadata": {},
   "source": [
    "### $X$ 作为随机变量的回归\n",
    "\n",
    "上面的全部处理中，$Y$和设计矩阵$X$一直保持不变。虽然我们声称这些回归方程可以适用于没有在设计矩阵中出现过的情况。\n",
    "但系数的估计无非是赋予这些估计值在设计矩阵刻画的似然方程上的最优性，我们的确知道对于给定样本这个系数最不能拒绝某些假设检验，那又怎么样呢？\n",
    "这些假设检验全部牵扯到了设计矩阵和$Y$的值。如果加入一些新的$X,Y$对，则最优值又会变化。\n",
    "\n",
    "归根结底，我们在处理一个泛化问题。泛化问题一般是无解的，我们可以混入一堆完全不同的真实模型，然后声称因为这次的$X,Y$对全部来自一个特定模型，\n",
    "所以对于总体没有用。我们必须再引入一些有关设计矩阵的其他假设来解决这个问题。\n",
    "\n",
    "比如说，我们假设我们的函数对于所有$X$有效，出于这一点，我们可以在所看到的局部$X,Y$对上拒绝大多数模型，\n",
    "因为如果对所有$X$有效，对这些$X,Y$也应该有效。然而，我们又怎么知道这次我们所看到的$X,Y$是否是一个不那么有代表意义，暗示着真实模型的样本呢？\n",
    "\n",
    "回避这个问题的一个方法是，我们同时建模所有变量的随机模型。然后利用条件期望把该函数提取出来。对于多元正态分布，\n",
    "\n",
    "$$\n",
    "\\begin{bmatrix}\n",
    "X \\\\ Y\n",
    "\\end{bmatrix}\n",
    "\\sim\n",
    "N\n",
    "\\left(\n",
    "\\begin{bmatrix}\n",
    "\\mu_X \\\\ \\mu_Y\n",
    "\\end{bmatrix}\n",
    ",\n",
    "\\begin{bmatrix}\n",
    "\\Lambda_{XX} & \\Lambda_{XY} \\\\\n",
    "\\Lambda_{YX} & \\Lambda_{YY}\n",
    "\\end{bmatrix}\n",
    "\\right)\n",
    "$$\n",
    "\n",
    "有条件期望\n",
    "\n",
    "$$\n",
    "E(Y|X = x) = \\mu_Y + \\Lambda_{YX}\\Lambda_{XX}^{-1} (x - \\mu_X)\n",
    "$$\n",
    "\n",
    "我们当然可以利用极大似然法之类的来估计这些参数，然而比较其之前的模型似乎太多了一点。把最后的公式展开后，我们还是可以得到$X\\beta$形式，\n",
    "如果我们只是想知道$\\beta$的话，就没有必要进一步分析$\\beta$的构成，也就是$X$内部的分布。\n",
    "\n",
    "### Theil 回归\n",
    "\n",
    "Theil回归的优化目标是使得$Y$与$\\epsilon$的Kendall协同系数为0。如果把此处的$X$看成随机变量的话，\n",
    "$Y - -\\alpha X\\beta = \\epsilon$与$Y$或$X$相关系数为0，\n",
    "意味着$\\beta$的取法抵消了$Y$和$X$中所有相关的成分，剩下的纯误差$\\epsilon$已经与$X$都无关。这里的相关系数可以是Pearson之类的，\n",
    "不过这里是Kendall。\n",
    "\n",
    "$$\n",
    "\\epsilon_i - \\epsilon_j = y_i - y_j - \\beta(x_i  - x_j)\n",
    "$$\n",
    "\n",
    "Kendall协同系数有一个计算方法可以消掉另一个变量，就是将样本顺序按其中一个变量排序，于是该变量在差中的取值总是一样的，\n",
    "这时候这需要看另一个变量的符号差即可。注意调换顺序是会改变$\\Psi$外积矩阵（如果把$\\Psi$看成两个外积矩阵按格乘的结果的话）半边的值的，\n",
    "不要搞错了，比如考虑大小紧邻的两个数调换顺序，则除它们本身的两个格外其他符号值不变，\n",
    "而它们两个则反号（它们本身内部就反号。）只计算一边的和的话值就变了。不过对于$\\Psi$矩阵来说，由于两个外积矩阵同时这么做，\n",
    "所以它的符号和不变（不管全部还是对角）。\n",
    "\n",
    "在这里，将$x，\\epsilon$按顺序排好后。我们发现令Kendall协同系数为0等价于令\n",
    "\n",
    "$$\n",
    "\\sum_{j<i} \\mathrm{sign}(\\epsilon_i - \\epsilon) = \\sum_{j<i} \\mathrm{sign}(  y_i - y_j - \\beta(x_i  - x_j)) = 0\n",
    "$$\n",
    "\n",
    "容易看出，$\\beta$取\n",
    "\n",
    "$$\n",
    "\\mathrm{median}_{j < i}( \\frac{y_i - y_j}{x_i - x_j} )\n",
    "$$\n",
    "\n",
    "时恰好可以使得$\\beta$在一半情况中$y_i - y_j - \\beta(x_i - x_j) >0 $另一半$<0$。于是可以让符号和为零。\n",
    "\n",
    "对于$\\alpha$，我们的优化目标是使得$\\sum \\mathrm{sign}(\\epsilon) = 0$\n",
    "\n",
    "写出$\\epsilon_i = y_i -  \\beta x_i - \\alpha $后容易看出，$\\alpha = \\mathrm{median}(y_i - \\beta x_i)$时恰好可以做到这一点。\n",
    "\n",
    "这就是Theil回归的原理。主体是出于让$\\beta$把Kendall相关系数清零的性质来表示$\\beta$在表示（Kendall）相关性上的最优性。\n",
    "然后用了一点中位数的技巧，$\\alpha$的导出也很自然，基本把期望换成了中位数。"
   ]
  },
  {
   "cell_type": "code",
   "execution_count": 170,
   "metadata": {
    "collapsed": false
   },
   "outputs": [
    {
     "data": {
      "text/html": [
       "-1.00599980162229e-17"
      ],
      "text/latex": [
       "-1.00599980162229e-17"
      ],
      "text/markdown": [
       "-1.00599980162229e-17"
      ],
      "text/plain": [
       "[1] -1.006e-17"
      ]
     },
     "metadata": {},
     "output_type": "display_data"
    }
   ],
   "source": [
    "cor(mod$residuals,mod$model$x)"
   ]
  },
  {
   "cell_type": "code",
   "execution_count": 171,
   "metadata": {
    "collapsed": false
   },
   "outputs": [
    {
     "data": {
      "text/html": [
       "-0.0461538461538462"
      ],
      "text/latex": [
       "-0.0461538461538462"
      ],
      "text/markdown": [
       "-0.0461538461538462"
      ],
      "text/plain": [
       "[1] -0.04615385"
      ]
     },
     "metadata": {},
     "output_type": "display_data"
    }
   ],
   "source": [
    "cor(mod$residuals,mod$model$x,method='kendall')"
   ]
  },
  {
   "cell_type": "code",
   "execution_count": 172,
   "metadata": {
    "collapsed": false
   },
   "outputs": [
    {
     "data": {
      "text/html": [
       "-0.0819887429643527"
      ],
      "text/latex": [
       "-0.0819887429643527"
      ],
      "text/markdown": [
       "-0.0819887429643527"
      ],
      "text/plain": [
       "[1] -0.08198874"
      ]
     },
     "metadata": {},
     "output_type": "display_data"
    }
   ],
   "source": [
    "cor(mod$residuals,mod$model$x,method='spearman')"
   ]
  },
  {
   "cell_type": "markdown",
   "metadata": {},
   "source": [
    "从上例我们可以看出，最小二乘法，或者抵消$X$与$\\epsilon$掉Pearson相关系数原则并不能抵消另外两个相关系数。自然它们导出不同的估计方法。"
   ]
  },
  {
   "cell_type": "code",
   "execution_count": 174,
   "metadata": {
    "collapsed": false
   },
   "outputs": [
    {
     "data": {
      "image/png": "[encoded data removed]",
      "text/plain": [
       "plot without title"
      ]
     },
     "metadata": {},
     "output_type": "display_data"
    }
   ],
   "source": [
    "plot(CPIGINI)"
   ]
  },
  {
   "cell_type": "code",
   "execution_count": 176,
   "metadata": {
    "collapsed": false
   },
   "outputs": [],
   "source": [
    "x <- CPIGINI$x\n",
    "y <- CPIGINI$y"
   ]
  },
  {
   "cell_type": "code",
   "execution_count": 183,
   "metadata": {
    "collapsed": false
   },
   "outputs": [
    {
     "data": {
      "text/html": [
       "-1.66666666666667"
      ],
      "text/latex": [
       "-1.66666666666667"
      ],
      "text/markdown": [
       "-1.66666666666667"
      ],
      "text/plain": [
       "[1] -1.666667"
      ]
     },
     "metadata": {},
     "output_type": "display_data"
    }
   ],
   "source": [
    "bij <- outer(y[order(x)] ,y[order(x)],'-') / outer(x[order(x)],x[order(x)],'-')\n",
    "b <- median(bij, na.rm=TRUE)\n",
    "b"
   ]
  },
  {
   "cell_type": "code",
   "execution_count": 184,
   "metadata": {
    "collapsed": false
   },
   "outputs": [
    {
     "data": {
      "text/html": [
       "43.65"
      ],
      "text/latex": [
       "43.65"
      ],
      "text/markdown": [
       "43.65"
      ],
      "text/plain": [
       "[1] 43.65"
      ]
     },
     "metadata": {},
     "output_type": "display_data"
    }
   ],
   "source": [
    "a <- median(y - b * x)\n",
    "a"
   ]
  },
  {
   "cell_type": "code",
   "execution_count": 189,
   "metadata": {
    "collapsed": true
   },
   "outputs": [],
   "source": [
    "ols.coef <- lm(y ~ x, data= CPIGINI)$coefficients\n",
    "theil.coef <- c(a,b)\n",
    "\n",
    "apply.coef <- function(coef,x){\n",
    "    coef[1] + coef[2]*x\n",
    "}"
   ]
  },
  {
   "cell_type": "code",
   "execution_count": 196,
   "metadata": {
    "collapsed": false
   },
   "outputs": [
    {
     "data": {
      "image/png": "[encoded data removed]",
      "text/plain": [
       "plot without title"
      ]
     },
     "metadata": {},
     "output_type": "display_data"
    }
   ],
   "source": [
    "xx <- c(min(x),max(x))\n",
    "\n",
    "plot(x,y)\n",
    "lines(xx,apply.coef(ols.coef,xx))\n",
    "lines(xx,apply.coef(theil.coef,xx))\n",
    "text(xx, c(apply.coef(ols.coef,xx[1]), apply.coef(theil.coef,xx[2])), c('ols','theil'))"
   ]
  },
  {
   "cell_type": "code",
   "execution_count": 191,
   "metadata": {
    "collapsed": false
   },
   "outputs": [
    {
     "data": {
      "text/html": [
       "<dl class=dl-horizontal>\n",
       "\t<dt>(Intercept)</dt>\n",
       "\t\t<dd>45.0655653814217</dd>\n",
       "\t<dt>x</dt>\n",
       "\t\t<dd>-1.48877286665156</dd>\n",
       "</dl>\n"
      ],
      "text/latex": [
       "\\begin{description*}\n",
       "\\item[(Intercept)] 45.0655653814217\n",
       "\\item[x] -1.48877286665156\n",
       "\\end{description*}\n"
      ],
      "text/markdown": [
       "(Intercept)\n",
       ":   45.0655653814217x\n",
       ":   -1.48877286665156\n",
       "\n"
      ],
      "text/plain": [
       "(Intercept)           x \n",
       "  45.065565   -1.488773 "
      ]
     },
     "metadata": {},
     "output_type": "display_data"
    }
   ],
   "source": [
    "ols.coef"
   ]
  },
  {
   "cell_type": "code",
   "execution_count": 192,
   "metadata": {
    "collapsed": false
   },
   "outputs": [
    {
     "data": {
      "text/html": [
       "<ol class=list-inline>\n",
       "\t<li>43.65</li>\n",
       "\t<li>-1.66666666666667</li>\n",
       "</ol>\n"
      ],
      "text/latex": [
       "\\begin{enumerate*}\n",
       "\\item 43.65\n",
       "\\item -1.66666666666667\n",
       "\\end{enumerate*}\n"
      ],
      "text/markdown": [
       "1. 43.65\n",
       "2. -1.66666666666667\n",
       "\n",
       "\n"
      ],
      "text/plain": [
       "[1] 43.650000 -1.666667"
      ]
     },
     "metadata": {},
     "output_type": "display_data"
    }
   ],
   "source": [
    "theil.coef"
   ]
  },
  {
   "cell_type": "code",
   "execution_count": 200,
   "metadata": {
    "collapsed": false
   },
   "outputs": [
    {
     "data": {
      "text/html": [
       "-1.66666666666667"
      ],
      "text/latex": [
       "-1.66666666666667"
      ],
      "text/markdown": [
       "-1.66666666666667"
      ],
      "text/plain": [
       "[1] -1.666667"
      ]
     },
     "metadata": {},
     "output_type": "display_data"
    }
   ],
   "source": [
    "median(outer(y,y,'-') / outer(x,x,'-'),na.rm=T)"
   ]
  },
  {
   "cell_type": "code",
   "execution_count": 204,
   "metadata": {
    "collapsed": false
   },
   "outputs": [
    {
     "data": {
      "text/html": [
       "-1.74351676154333"
      ],
      "text/latex": [
       "-1.74351676154333"
      ],
      "text/markdown": [
       "-1.74351676154333"
      ],
      "text/plain": [
       "[1] -1.743517"
      ]
     },
     "metadata": {},
     "output_type": "display_data"
    }
   ],
   "source": [
    "b2 <- median(apply(outer(y,y,'-') / outer(x,x,'-'),1,function(arr){median(arr,na.rm=T)}))\n",
    "b2"
   ]
  },
  {
   "cell_type": "code",
   "execution_count": 206,
   "metadata": {
    "collapsed": false
   },
   "outputs": [
    {
     "data": {
      "text/html": [
       "44.1417931688805"
      ],
      "text/latex": [
       "44.1417931688805"
      ],
      "text/markdown": [
       "44.1417931688805"
      ],
      "text/plain": [
       "[1] 44.14179"
      ]
     },
     "metadata": {},
     "output_type": "display_data"
    }
   ],
   "source": [
    "a2 <- median(y - b2 * x)\n",
    "a2"
   ]
  },
  {
   "cell_type": "markdown",
   "metadata": {},
   "source": [
    "Siegel回归的$\\alpha$对不上，不知道它到底怎么算的。。几个书上也没查到，又不能上网。。\n",
    "\n",
    "### Theil回归的系数检验\n",
    "\n",
    "回归由$X$与$\\epsilon$的Kendall协同系数统计量进行，模型若真实该统计量应该应该在0左右取值，若该值太大或太小都成为拒绝的理由。\n",
    "有趣的一点是展开可知，$X$与$\\epsilon$的协同系数其实用不上$\\alpha$。于是我们可以单独检验关于$\\beta$的假设而不用加上$\\alpha$取特定值的假设。"
   ]
  },
  {
   "cell_type": "code",
   "execution_count": 213,
   "metadata": {
    "collapsed": false
   },
   "outputs": [
    {
     "data": {
      "text/html": [
       "-0.361538461538462"
      ],
      "text/latex": [
       "-0.361538461538462"
      ],
      "text/markdown": [
       "-0.361538461538462"
      ],
      "text/plain": [
       "[1] -0.3615385"
      ]
     },
     "metadata": {},
     "output_type": "display_data"
    }
   ],
   "source": [
    "cor(x, y - 0*x, method='kendall')"
   ]
  },
  {
   "cell_type": "code",
   "execution_count": 214,
   "metadata": {
    "collapsed": false
   },
   "outputs": [
    {
     "data": {
      "text/plain": [
       "\n",
       "\tKendall's rank correlation tau\n",
       "\n",
       "data:  x and y - 0 * x\n",
       "T = 249, p-value = 0.0008507\n",
       "alternative hypothesis: true tau is not equal to 0\n",
       "sample estimates:\n",
       "       tau \n",
       "-0.3615385 \n"
      ]
     },
     "metadata": {},
     "output_type": "display_data"
    }
   ],
   "source": [
    "cor.test(x, y - 0*x, method='kendall')"
   ]
  },
  {
   "cell_type": "markdown",
   "metadata": {},
   "source": [
    "还有几个稳健回归，不过介绍不完全，就像Siegel一样估计搞不清$\\alpha$怎么来的，就不谈及了。总之就是更加稳健，几乎把离群点全部无视了。\n",
    "然而这也许不是我们所想要的。"
   ]
  },
  {
   "cell_type": "code",
   "execution_count": null,
   "metadata": {
    "collapsed": true
   },
   "outputs": [],
   "source": []
  }
 ],
 "metadata": {
  "anaconda-cloud": {},
  "kernelspec": {
   "display_name": "R 3.3",
   "language": "R",
   "name": "ir33"
  },
  "language_info": {
   "codemirror_mode": "r",
   "file_extension": ".r",
   "mimetype": "text/x-r-source",
   "name": "R",
   "pygments_lexer": "r",
   "version": "3.3.1"
  }
 },
 "nbformat": 4,
 "nbformat_minor": 0
}
