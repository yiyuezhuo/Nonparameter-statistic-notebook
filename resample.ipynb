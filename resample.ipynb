{
 "cells": [
  {
   "cell_type": "markdown",
   "metadata": {},
   "source": [
    "# 置换检验 permutation test\n",
    "\n",
    "permutation test 使用了非参数检验的一个广泛套路，即原假设成立情况下两分布相同，如wilcoxon秩和检验也是这样处理的。\n",
    "\n",
    "置换检验一般也用来检验均值(wilcoxon秩和检验本身是检验中位数的，当然对称的时候中位数就是均值，不过wilcoxon秩和不要求对称，\n",
    "wilcoxon signrank才需要。)\n",
    "\n",
    "置换检验有一个面向双样本的统计量（比如两样本均值的差）$S$，以及一个总体分布$F$和两个样本规模$m,n$。检验统计量是分层的，\n",
    "其有$m+n$个参数，都是独立服从分布$F$的随机变量。任一个参数排列可以通过$S$取到的值，都为统计量可以取到的值，且概率为取到该\n",
    "值的排列数占总排列数的比例。\n",
    "\n",
    "检验中取$m=1,n=0$时（虽说面向双样本，其实给定$m,n$后也只不过是$m+n$个观测的一种有规律的组合方式而已）。把$S$搞成恒等映射，\n",
    "则最后检验统计量就是个服从分布$F$的随机变量而已。注意它是可能是连续，并不因为它最后搞了一个离散分配就不可能连续了。\n",
    "\n",
    "在给定$m+n$个随机参数的一组赋值的条件后，检验统计量从分层的随机变量退化成一个离散随机变量。\n",
    "如给定条件为$1,2;3$和均值差统计量则“生成”（条件化得到）的离散随机变量为\n",
    "\n",
    "$$\n",
    "\\begin{bmatrix}\n",
    "-1.5 & 0  &  1.5 \\\\\n",
    "1/3  & 1/3 &  1/3\n",
    "\\end{bmatrix}\n",
    "$$\n",
    "\n",
    "这是因为\n",
    "\n",
    "$$\n",
    "1,2;3 \\to 1.5 - 3 = -1.5 \\\\\n",
    "1,3;2 \\to 2 - 2 = 0 \\\\\n",
    "2,1;3 \\to 1.5 - 3 = -1.5 \\\\\n",
    "2,3;1 \\to 2.5 - 1 = 1.5 \\\\\n",
    "3,1;2 \\to 2 - 2 = 0 \\\\\n",
    "3,2;1 \\to 2.5 - 1 = 1.5\n",
    "$$\n",
    "\n",
    "理论上，我们可以上法穷举所有排列来定出精确的离散分布。但阶乘的复杂度感人，于是我们转而采用随机生成一堆排列并计算统计量的方式。"
   ]
  },
  {
   "cell_type": "code",
   "execution_count": 1,
   "metadata": {
    "collapsed": false
   },
   "outputs": [
    {
     "data": {
      "text/html": [
       "<ol class=list-inline>\n",
       "\t<li>2</li>\n",
       "\t<li>4</li>\n",
       "\t<li>1</li>\n",
       "\t<li>3</li>\n",
       "</ol>\n"
      ],
      "text/latex": [
       "\\begin{enumerate*}\n",
       "\\item 2\n",
       "\\item 4\n",
       "\\item 1\n",
       "\\item 3\n",
       "\\end{enumerate*}\n"
      ],
      "text/markdown": [
       "1. 2\n",
       "2. 4\n",
       "3. 1\n",
       "4. 3\n",
       "\n",
       "\n"
      ],
      "text/plain": [
       "[1] 2 4 1 3"
      ]
     },
     "metadata": {},
     "output_type": "display_data"
    }
   ],
   "source": [
    "sample(c(1,2,3,4)) # draw a random full permutation"
   ]
  },
  {
   "cell_type": "code",
   "execution_count": 2,
   "metadata": {
    "collapsed": false
   },
   "outputs": [],
   "source": [
    "salary1 <- c(6864, 7304, 7477, 7779, 7895, 8348, 8461,9553, 9919, 10073, 10270,\n",
    "             11581, 13472, 13600, 13962, 15019, 17244)\n",
    "salary2 <- c(10276, 10533, 10633, 10837, 11209, 11393, 11864, 12040, 12642,\n",
    "             12675, 13199, 13683, 14049, 14061, 16079)\n"
   ]
  },
  {
   "cell_type": "code",
   "execution_count": 12,
   "metadata": {
    "collapsed": false
   },
   "outputs": [],
   "source": [
    "m <- length(salary1)\n",
    "n <- length(salary2)\n",
    "S <- function(a1,a2){\n",
    "    mean(a1) - mean(a2)\n",
    "}\n",
    "\n",
    "salary <- c(salary1,salary2)\n",
    "res <- c()\n",
    "for(i in 1:1000){\n",
    "    permu <- sample(salary)\n",
    "    res <- c(res,S(permu[1:m],permu[(m+1):(m+n)]))\n",
    "}"
   ]
  },
  {
   "cell_type": "code",
   "execution_count": 14,
   "metadata": {
    "collapsed": false
   },
   "outputs": [
    {
     "data": {
      "text/html": [
       "<ol class=list-inline>\n",
       "\t<li>314</li>\n",
       "\t<li>89.12156862745</li>\n",
       "\t<li>733.890196078431</li>\n",
       "\t<li>561.341176470587</li>\n",
       "\t<li>1040.46274509804</li>\n",
       "\t<li>-263.63137254902</li>\n",
       "</ol>\n"
      ],
      "text/latex": [
       "\\begin{enumerate*}\n",
       "\\item 314\n",
       "\\item 89.12156862745\n",
       "\\item 733.890196078431\n",
       "\\item 561.341176470587\n",
       "\\item 1040.46274509804\n",
       "\\item -263.63137254902\n",
       "\\end{enumerate*}\n"
      ],
      "text/markdown": [
       "1. 314\n",
       "2. 89.12156862745\n",
       "3. 733.890196078431\n",
       "4. 561.341176470587\n",
       "5. 1040.46274509804\n",
       "6. -263.63137254902\n",
       "\n",
       "\n"
      ],
      "text/plain": [
       "[1]  314.00000   89.12157  733.89020  561.34118 1040.46275 -263.63137"
      ]
     },
     "metadata": {},
     "output_type": "display_data"
    }
   ],
   "source": [
    "head(res)"
   ]
  },
  {
   "cell_type": "code",
   "execution_count": 15,
   "metadata": {
    "collapsed": false
   },
   "outputs": [
    {
     "data": {
      "image/png": "[encoded data removed]",
      "text/plain": [
       "Plot with title \"Histogram of res\""
      ]
     },
     "metadata": {},
     "output_type": "display_data"
    }
   ],
   "source": [
    "hist(res)"
   ]
  },
  {
   "cell_type": "code",
   "execution_count": 18,
   "metadata": {
    "collapsed": false
   },
   "outputs": [
    {
     "data": {
      "text/html": [
       "-1825.98431372549"
      ],
      "text/latex": [
       "-1825.98431372549"
      ],
      "text/markdown": [
       "-1825.98431372549"
      ],
      "text/plain": [
       "[1] -1825.984"
      ]
     },
     "metadata": {},
     "output_type": "display_data"
    }
   ],
   "source": [
    "obs <- mean(salary[1:m])-mean(salary[(m+1):(m+n)])\n",
    "obs"
   ]
  },
  {
   "cell_type": "code",
   "execution_count": 20,
   "metadata": {
    "collapsed": false
   },
   "outputs": [
    {
     "data": {
      "text/html": [
       "0.03"
      ],
      "text/latex": [
       "0.03"
      ],
      "text/markdown": [
       "0.03"
      ],
      "text/plain": [
       "[1] 0.03"
      ]
     },
     "metadata": {},
     "output_type": "display_data"
    }
   ],
   "source": [
    "sum(res<obs)/length(res)"
   ]
  },
  {
   "cell_type": "markdown",
   "metadata": {},
   "source": [
    "这个相当于左扫尾p值为0.03的结果。如果构造左侧0.05水平检验就可以拒绝均值相等假设了。我们还可以轻松用它做一些其他检验，\n",
    "比如方差差（终于不必是“比”了）是否相同。"
   ]
  },
  {
   "cell_type": "code",
   "execution_count": 22,
   "metadata": {
    "collapsed": false
   },
   "outputs": [
    {
     "data": {
      "text/html": [
       "9657197.23529412"
      ],
      "text/latex": [
       "9657197.23529412"
      ],
      "text/markdown": [
       "9657197.23529412"
      ],
      "text/plain": [
       "[1] 9657197"
      ]
     },
     "metadata": {},
     "output_type": "display_data"
    }
   ],
   "source": [
    "var(salary1)"
   ]
  },
  {
   "cell_type": "code",
   "execution_count": 23,
   "metadata": {
    "collapsed": false
   },
   "outputs": [
    {
     "data": {
      "text/html": [
       "2699856.83809524"
      ],
      "text/latex": [
       "2699856.83809524"
      ],
      "text/markdown": [
       "2699856.83809524"
      ],
      "text/plain": [
       "[1] 2699857"
      ]
     },
     "metadata": {},
     "output_type": "display_data"
    }
   ],
   "source": [
    "var(salary2)"
   ]
  },
  {
   "cell_type": "code",
   "execution_count": 30,
   "metadata": {
    "collapsed": true
   },
   "outputs": [],
   "source": [
    "permutation.test <- function(d1, d2, S, size = 1000, hist = TRUE){\n",
    "    m <- length(d1)\n",
    "    n <- length(d2)\n",
    "    d <- c(d1,d2)\n",
    "    res <- c()\n",
    "    for(i in 1:size){\n",
    "        permu <- sample(d)\n",
    "        res <- c(res, S(permu[1:m],permu[(m+1):(m+n)]))\n",
    "    }\n",
    "    if(hist){\n",
    "        hist(res)\n",
    "    }\n",
    "    obs <- S(d1,d2)\n",
    "    left.p <- sum(res<obs)/size\n",
    "    right.p <- sum(res>obs)/size\n",
    "    return(list(statistic = obs ,left.p = left.p, right.p = right.p))\n",
    "}"
   ]
  },
  {
   "cell_type": "code",
   "execution_count": 31,
   "metadata": {
    "collapsed": false
   },
   "outputs": [
    {
     "data": {
      "text/html": [
       "<dl>\n",
       "\t<dt>$statistic</dt>\n",
       "\t\t<dd>-1825.98431372549</dd>\n",
       "\t<dt>$left.p</dt>\n",
       "\t\t<dd>0.03</dd>\n",
       "\t<dt>$right.p</dt>\n",
       "\t\t<dd>0.97</dd>\n",
       "</dl>\n"
      ],
      "text/latex": [
       "\\begin{description}\n",
       "\\item[\\$statistic] -1825.98431372549\n",
       "\\item[\\$left.p] 0.03\n",
       "\\item[\\$right.p] 0.97\n",
       "\\end{description}\n"
      ],
      "text/markdown": [
       "$statistic\n",
       ":   -1825.98431372549\n",
       "$left.p\n",
       ":   0.03\n",
       "$right.p\n",
       ":   0.97\n",
       "\n",
       "\n"
      ],
      "text/plain": [
       "$statistic\n",
       "[1] -1825.984\n",
       "\n",
       "$left.p\n",
       "[1] 0.03\n",
       "\n",
       "$right.p\n",
       "[1] 0.97\n"
      ]
     },
     "metadata": {},
     "output_type": "display_data"
    },
    {
     "data": {
      "image/png": "[encoded data removed]",
      "text/plain": [
       "Plot with title \"Histogram of res\""
      ]
     },
     "metadata": {},
     "output_type": "display_data"
    }
   ],
   "source": [
    "permutation.test(salary1, salary2, function(d1,d2){mean(d1)-mean(d2)})"
   ]
  },
  {
   "cell_type": "code",
   "execution_count": 34,
   "metadata": {
    "collapsed": false
   },
   "outputs": [
    {
     "data": {
      "text/html": [
       "<dl>\n",
       "\t<dt>$statistic</dt>\n",
       "\t\t<dd>6957340.39719888</dd>\n",
       "\t<dt>$left.p</dt>\n",
       "\t\t<dd>0.991</dd>\n",
       "\t<dt>$right.p</dt>\n",
       "\t\t<dd>0.009</dd>\n",
       "</dl>\n"
      ],
      "text/latex": [
       "\\begin{description}\n",
       "\\item[\\$statistic] 6957340.39719888\n",
       "\\item[\\$left.p] 0.991\n",
       "\\item[\\$right.p] 0.009\n",
       "\\end{description}\n"
      ],
      "text/markdown": [
       "$statistic\n",
       ":   6957340.39719888\n",
       "$left.p\n",
       ":   0.991\n",
       "$right.p\n",
       ":   0.009\n",
       "\n",
       "\n"
      ],
      "text/plain": [
       "$statistic\n",
       "[1] 6957340\n",
       "\n",
       "$left.p\n",
       "[1] 0.991\n",
       "\n",
       "$right.p\n",
       "[1] 0.009\n"
      ]
     },
     "metadata": {},
     "output_type": "display_data"
    },
    {
     "data": {
      "image/png": "[encoded data removed]",
      "text/plain": [
       "Plot with title \"Histogram of res\""
      ]
     },
     "metadata": {},
     "output_type": "display_data"
    }
   ],
   "source": [
    "permutation.test(salary1, salary2, function(d1,d2){var(d1)-var(d2)})"
   ]
  },
  {
   "cell_type": "code",
   "execution_count": 36,
   "metadata": {
    "collapsed": false
   },
   "outputs": [
    {
     "data": {
      "text/html": [
       "<dl>\n",
       "\t<dt>$statistic</dt>\n",
       "\t\t<dd>3.57692937604326</dd>\n",
       "\t<dt>$left.p</dt>\n",
       "\t\t<dd>0.997</dd>\n",
       "\t<dt>$right.p</dt>\n",
       "\t\t<dd>0.003</dd>\n",
       "</dl>\n"
      ],
      "text/latex": [
       "\\begin{description}\n",
       "\\item[\\$statistic] 3.57692937604326\n",
       "\\item[\\$left.p] 0.997\n",
       "\\item[\\$right.p] 0.003\n",
       "\\end{description}\n"
      ],
      "text/markdown": [
       "$statistic\n",
       ":   3.57692937604326\n",
       "$left.p\n",
       ":   0.997\n",
       "$right.p\n",
       ":   0.003\n",
       "\n",
       "\n"
      ],
      "text/plain": [
       "$statistic\n",
       "[1] 3.576929\n",
       "\n",
       "$left.p\n",
       "[1] 0.997\n",
       "\n",
       "$right.p\n",
       "[1] 0.003\n"
      ]
     },
     "metadata": {},
     "output_type": "display_data"
    },
    {
     "data": {
      "image/png": "[encoded data removed]",
      "text/plain": [
       "Plot with title \"Histogram of res\""
      ]
     },
     "metadata": {},
     "output_type": "display_data"
    }
   ],
   "source": [
    "permutation.test(salary1, salary2, function(d1,d2){var(d1)/var(d2)})"
   ]
  },
  {
   "cell_type": "markdown",
   "metadata": {},
   "source": [
    "显然，这从两个角度以及1%显著性证明了salary1的方差比salary2的大。\n",
    "\n",
    "我们甚至也可以直接检验中位数"
   ]
  },
  {
   "cell_type": "code",
   "execution_count": 37,
   "metadata": {
    "collapsed": false
   },
   "outputs": [
    {
     "data": {
      "text/html": [
       "<dl>\n",
       "\t<dt>$statistic</dt>\n",
       "\t\t<dd>-2121</dd>\n",
       "\t<dt>$left.p</dt>\n",
       "\t\t<dd>0.03</dd>\n",
       "\t<dt>$right.p</dt>\n",
       "\t\t<dd>0.97</dd>\n",
       "</dl>\n"
      ],
      "text/latex": [
       "\\begin{description}\n",
       "\\item[\\$statistic] -2121\n",
       "\\item[\\$left.p] 0.03\n",
       "\\item[\\$right.p] 0.97\n",
       "\\end{description}\n"
      ],
      "text/markdown": [
       "$statistic\n",
       ":   -2121\n",
       "$left.p\n",
       ":   0.03\n",
       "$right.p\n",
       ":   0.97\n",
       "\n",
       "\n"
      ],
      "text/plain": [
       "$statistic\n",
       "[1] -2121\n",
       "\n",
       "$left.p\n",
       "[1] 0.03\n",
       "\n",
       "$right.p\n",
       "[1] 0.97\n"
      ]
     },
     "metadata": {},
     "output_type": "display_data"
    },
    {
     "data": {
      "image/png": "[encoded data removed]",
      "text/plain": [
       "Plot with title \"Histogram of res\""
      ]
     },
     "metadata": {},
     "output_type": "display_data"
    }
   ],
   "source": [
    "permutation.test(salary1, salary2, function(d1,d2){median(d1) - median(d2)})"
   ]
  },
  {
   "cell_type": "markdown",
   "metadata": {},
   "source": [
    "permutation test实在太方便了。它几乎可以轻松用在任何双样本问题上。这依赖于双样本那种统计量比较好构造，多样本就不好弄了。\n",
    "不过我们也可以考虑一个分组的函数而放弃其他分组的处理。这就像wilcoxon 秩和检验中$W_X$与$W_{XY}$统计量的区别。\n",
    "也可以用那种通过平方差汇总各组如何偏离总体出估计“中心值”的信息之类的方法，如Kruskal-Wallis检验就使用此法。\n",
    "\n",
    "当然仅就上面问题而言，我们可以（翻到Chapter 3 notebook进行比较）看到permutation test的p值比Brown-Mood和wilcoxon 秩和的p值高，\n",
    "这暗示着它潜在的低功效性。当然，简单直接的东西效力就会差一些，天下没有免费的午餐。"
   ]
  },
  {
   "cell_type": "code",
   "execution_count": null,
   "metadata": {
    "collapsed": true
   },
   "outputs": [],
   "source": []
  }
 ],
 "metadata": {
  "kernelspec": {
   "display_name": "R 3.3",
   "language": "R",
   "name": "ir33"
  },
  "language_info": {
   "codemirror_mode": "r",
   "file_extension": ".r",
   "mimetype": "text/x-r-source",
   "name": "R",
   "pygments_lexer": "r",
   "version": "3.3.1"
  }
 },
 "nbformat": 4,
 "nbformat_minor": 0
}
