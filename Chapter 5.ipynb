{
 "cells": [
  {
   "cell_type": "markdown",
   "metadata": {},
   "source": [
    "# 尺度检验\n",
    "\n",
    "## Siegel-Tukey检验\n",
    "\n",
    "### 混合秩与Wilcoxon相关统计量回顾\n",
    "\n",
    "给定同分布总体$X,Y$与各自$m,n$规模的样本，将两样本混在一起计算秩，此时$X$或$Y$样本在其中拥有的秩和记做Wilcoxon统计量$W_X$与$W_Y$。\n",
    "总体中$X$中大于$Y$的个数与$Y$大于$X$的对数记做Mann and Whitney 统计量$W_{XY},W_{YX}$。这种混合秩方法是仅次于平均秩方法的方法。\n",
    "多样本位置问题中的Kruskal-Wallis统计量也计算了混合秩。当然由于多总体，就不适用Wilcoxon分布了。\n",
    "（然而我们可以设想，如果把多样本一个特定样本看成Wilcoxon秩和检验中的两个样本的一个，其他的全部组成另一个。是否就可以套用这个检验了呢？\n",
    "显然我们这里做了合并样本的那个它们出自总体一定一样的元假设。我们从检验多个等号成立变成了检验一个等号是否成立。\n",
    "这倒好像的确可以作为某种多重检验来使用。然而这即使是作出了拒绝原假设的结论，也只不过是在其他等号都成立的元假设成立下做出的推断。\n",
    "这与直接元假设所有等号都成立，然后作出100%正确的“统计推断”这一没有用处的搞法只有一步之遥。）\n",
    "\n",
    "Wilcoxon的两个统计量是等价的，R里用Mann and Whitney统计量实现的`pwilcox`函数，这可能是强调它主要用于双样本的性质。\n",
    "Wilcox统计量最有用的一点是它的两样本的“同分布”性通常是构造出来的，如Wilcoxon符号秩检验是根据中位数是某个数加上对称假设，\n",
    "就可以得到落到那个中位数两边组成的两个样本的对中位数绝对差的是同分布的。（这一点有点含糊，我们实际元假设一个$m+n$规模的，\n",
    "总体分布对称的样本。那么它落入中位数左边和落入中位数右边情况要想确定，必须借助中位数参数，所以并不是统计量。\n",
    "也就是说我们看到那个所谓的$m+n$样本时，其实并不知道哪些在左边哪些在右边\n",
    "（当然我们的确知道一个数在中位数左边意味着在这个数左边的数也在中位数左边。）是统计量的是对一个凭空的常数将样本划成两边的“函数”\n",
    "（如果这里函数不能指划分成两组的情况而只能指实数的话，我们只能强行进一步以此计算出$W_X,W_Y,W_{XY},W_{YX}$几个统计量之一）。\n",
    "每凭空指定一个常数就得到一个不同的统计量。这一簇不同的统计量对一个实际样本对应不同的值，\n",
    "这些值对应的p值是否过于极端可以用来比较这些值的设定的合理程度，我们可以选出最“合理”的点做点估计，或最“合理”的一些点做区间估计。\n",
    "事实上经常会发现那个凭空值等于样本中位数，或walsh平均中位数时最“合理”的结果，这时就拿它们做估计结果。是为该假设导出的估计量。\n",
    "进一步假设背后分布后并划分拒绝域后（当然拒绝域在不假设背后分布情况下按原假设直接设定），我们可以讨论特定统计量的功效。\n",
    "这时我们也许会发现那个凭空值等于某个参数功效最大之类的，然而我们永远也不会知道参数，知道这个并没有什么帮助）。\n",
    "\n",
    "### 检验\n",
    "\n",
    "假设有两独立样本，它们的总体位置一样而尺度不一定一样。我们想要检验它们尺度是否一样，一如既往，原假设是它们尺度一样，于是得到它们独立同分布。\n",
    "于是把它们混在一起后的秩符合。。。走错片场了。m,n个独立同分布的样本。除了Wilcoxon检验直接把排在一起然后单独算秩符合Wilcoxon分布外，\n",
    "把它们反着排在一起算秩显然也符合Wilcoxon分布（显然，只要它们合并之后单个秩的获取全是符合$1$到$m+n$的离散均匀分布，且地位对称，这一点就成立。）\n",
    "无视它们本来的排序，再随机排一次也符合Wilcoxon分布。当然想让它不是Wilcoxon分布也很简单，\n",
    "我们强行让前面一个样本得到前$m$个秩后一个获得后$n$个就行。我们前面选择了一些无视原先两组信息的处理方式，并不意味着这是必然的。\n",
    "\n",
    "这里被构造成符合Wilcoxon分布的是一个特殊的排序方式。首先得到一个顺序排列，然后新序中的第一个是顺序中的第一个，\n",
    "第二三个是顺序中的倒数第一二个，第四五个是顺序中的正数二三个。。。然后按这个新序设秩。这个当然对各个格仍是对称的，所以秩和服从Wilcoxon分布。\n",
    "（顺便我们还可以指出，显然每个对顺序的重排）的秩和也是服从Wilcoxon分布的。当然这些新排列秩和统计量间虽然同分布，却并不独立）\n",
    "\n",
    "它们在原假设下是同一个分布本身并没什么用，不然我们也可以用检验位置的方法来检验尺度（的确可以这么做，确定背后分布后我们还可以分析它的功效，\n",
    "然后发现这是bull shit）。但是两样本总体位置不一样时，显然更大的那个对应的秩和会比尺度一样时偏大（尺度的偏大，\n",
    "却体现在对应秩和随机变量位置的变大上。）。这就在原假设和备择假设分别成立时使得检验统计量分布发生了明显变化，也就可以把它们区分（识别）开来了。\n",
    "（而用位置检验去检验尺度却显然没有这一功能。）\n",
    "\n",
    "由于一般样本位置肯定不一样，我们会事先取样本中位数差把它们平移成一样，显然这近似渐进正确的，不过并没有什么更好的方法。"
   ]
  },
  {
   "cell_type": "code",
   "execution_count": 3,
   "metadata": {
    "collapsed": false
   },
   "outputs": [],
   "source": [
    "salary1 <- c(6864, 7304, 7477, 7779, 7895, 8348, 8461,9553, 9919, 10073, 10270,\n",
    "             11581, 13472, 13600, 13962, 15019, 17244)\n",
    "salary2 <- c(10276, 10533, 10633, 10837, 11209, 11393, 11864, 12040, 12642,\n",
    "             12675, 13199, 13683, 14049, 14061, 16079)\n"
   ]
  },
  {
   "cell_type": "code",
   "execution_count": 18,
   "metadata": {
    "collapsed": false
   },
   "outputs": [
    {
     "data": {
      "text/html": [
       "-2479"
      ],
      "text/latex": [
       "-2479"
      ],
      "text/markdown": [
       "-2479"
      ],
      "text/plain": [
       "[1] -2479"
      ]
     },
     "metadata": {},
     "output_type": "display_data"
    }
   ],
   "source": [
    "m <- median(outer(salary1,salary2,'-'))\n",
    "m"
   ]
  },
  {
   "cell_type": "code",
   "execution_count": 16,
   "metadata": {
    "collapsed": false
   },
   "outputs": [
    {
     "data": {
      "text/html": [
       "69"
      ],
      "text/latex": [
       "69"
      ],
      "text/markdown": [
       "69"
      ],
      "text/plain": [
       "[1] 69"
      ]
     },
     "metadata": {},
     "output_type": "display_data"
    }
   ],
   "source": [
    "sum(outer(salary1,salary2,'-') > 0)"
   ]
  },
  {
   "cell_type": "code",
   "execution_count": 17,
   "metadata": {
    "collapsed": false
   },
   "outputs": [
    {
     "data": {
      "text/html": [
       "186"
      ],
      "text/latex": [
       "186"
      ],
      "text/markdown": [
       "186"
      ],
      "text/plain": [
       "[1] 186"
      ]
     },
     "metadata": {},
     "output_type": "display_data"
    }
   ],
   "source": [
    "sum(outer(salary1,salary2,'-') < 0)"
   ]
  },
  {
   "cell_type": "code",
   "execution_count": 19,
   "metadata": {
    "collapsed": false
   },
   "outputs": [
    {
     "data": {
      "text/html": [
       "127"
      ],
      "text/latex": [
       "127"
      ],
      "text/markdown": [
       "127"
      ],
      "text/plain": [
       "[1] 127"
      ]
     },
     "metadata": {},
     "output_type": "display_data"
    }
   ],
   "source": [
    "sum(outer(salary1 - m, salary2,'-') > 0)"
   ]
  },
  {
   "cell_type": "code",
   "execution_count": 20,
   "metadata": {
    "collapsed": false
   },
   "outputs": [
    {
     "data": {
      "text/html": [
       "127"
      ],
      "text/latex": [
       "127"
      ],
      "text/markdown": [
       "127"
      ],
      "text/plain": [
       "[1] 127"
      ]
     },
     "metadata": {},
     "output_type": "display_data"
    }
   ],
   "source": [
    "sum(outer(salary1 - m, salary2,'-') < 0)"
   ]
  },
  {
   "cell_type": "code",
   "execution_count": 82,
   "metadata": {
    "collapsed": false
   },
   "outputs": [],
   "source": [
    "rerank <- function(n){\n",
    "    left <- 2\n",
    "    right <- n\n",
    "    arr <- c(1)\n",
    "    i <- 2\n",
    "    while(TRUE){\n",
    "        if(right - 1 == left){\n",
    "            arr[right] <- i\n",
    "            arr[left] <- i+1\n",
    "            break\n",
    "        }\n",
    "        else if(right == left){\n",
    "            arr[right] <- i\n",
    "            break\n",
    "        }\n",
    "        arr[right] <- i\n",
    "        arr[right-1] <- i+1\n",
    "        right <- right - 2\n",
    "        i <- i + 2\n",
    "        if(left + 1 == right){\n",
    "            arr[left] <- i\n",
    "            arr[right] <- i+1\n",
    "            break\n",
    "        }\n",
    "        else if(left == right){\n",
    "            arr[left] <- i\n",
    "            break\n",
    "        }\n",
    "        arr[left] <- i\n",
    "        arr[left+1] <- i+1\n",
    "        left <- left + 2\n",
    "        i <- i + 2\n",
    "    }\n",
    "    return(arr)\n",
    "}\n",
    "        \n",
    "rerank.along <- function(arr, ties.method = 'first'){\n",
    "    rerank(length(arr))[rank(arr, ties.method = ties.method)]\n",
    "}"
   ]
  },
  {
   "cell_type": "code",
   "execution_count": 53,
   "metadata": {
    "collapsed": false
   },
   "outputs": [
    {
     "data": {
      "text/html": [
       "<ol class=list-inline>\n",
       "\t<li>1</li>\n",
       "\t<li>4</li>\n",
       "\t<li>5</li>\n",
       "\t<li>8</li>\n",
       "\t<li>9</li>\n",
       "\t<li>10</li>\n",
       "\t<li>7</li>\n",
       "\t<li>6</li>\n",
       "\t<li>3</li>\n",
       "\t<li>2</li>\n",
       "</ol>\n"
      ],
      "text/latex": [
       "\\begin{enumerate*}\n",
       "\\item 1\n",
       "\\item 4\n",
       "\\item 5\n",
       "\\item 8\n",
       "\\item 9\n",
       "\\item 10\n",
       "\\item 7\n",
       "\\item 6\n",
       "\\item 3\n",
       "\\item 2\n",
       "\\end{enumerate*}\n"
      ],
      "text/markdown": [
       "1. 1\n",
       "2. 4\n",
       "3. 5\n",
       "4. 8\n",
       "5. 9\n",
       "6. 10\n",
       "7. 7\n",
       "8. 6\n",
       "9. 3\n",
       "10. 2\n",
       "\n",
       "\n"
      ],
      "text/plain": [
       " [1]  1  4  5  8  9 10  7  6  3  2"
      ]
     },
     "metadata": {},
     "output_type": "display_data"
    }
   ],
   "source": [
    "rerank(10)"
   ]
  },
  {
   "cell_type": "code",
   "execution_count": 83,
   "metadata": {
    "collapsed": false
   },
   "outputs": [
    {
     "data": {
      "text/html": [
       "<ol class=list-inline>\n",
       "\t<li>1</li>\n",
       "\t<li>4</li>\n",
       "\t<li>5</li>\n",
       "\t<li>8</li>\n",
       "\t<li>12</li>\n",
       "\t<li>17</li>\n",
       "\t<li>21</li>\n",
       "\t<li>29</li>\n",
       "\t<li>31</li>\n",
       "\t<li>30</li>\n",
       "\t<li>23</li>\n",
       "\t<li>15</li>\n",
       "\t<li>11</li>\n",
       "\t<li>10</li>\n",
       "\t<li>6</li>\n",
       "\t<li>3</li>\n",
       "\t<li>2</li>\n",
       "\t<li>9</li>\n",
       "\t<li>13</li>\n",
       "\t<li>16</li>\n",
       "\t<li>20</li>\n",
       "\t<li>24</li>\n",
       "\t<li>25</li>\n",
       "\t<li>28</li>\n",
       "\t<li>32</li>\n",
       "\t<li>27</li>\n",
       "\t<li>26</li>\n",
       "\t<li>22</li>\n",
       "\t<li>19</li>\n",
       "\t<li>18</li>\n",
       "\t<li>14</li>\n",
       "\t<li>7</li>\n",
       "</ol>\n"
      ],
      "text/latex": [
       "\\begin{enumerate*}\n",
       "\\item 1\n",
       "\\item 4\n",
       "\\item 5\n",
       "\\item 8\n",
       "\\item 12\n",
       "\\item 17\n",
       "\\item 21\n",
       "\\item 29\n",
       "\\item 31\n",
       "\\item 30\n",
       "\\item 23\n",
       "\\item 15\n",
       "\\item 11\n",
       "\\item 10\n",
       "\\item 6\n",
       "\\item 3\n",
       "\\item 2\n",
       "\\item 9\n",
       "\\item 13\n",
       "\\item 16\n",
       "\\item 20\n",
       "\\item 24\n",
       "\\item 25\n",
       "\\item 28\n",
       "\\item 32\n",
       "\\item 27\n",
       "\\item 26\n",
       "\\item 22\n",
       "\\item 19\n",
       "\\item 18\n",
       "\\item 14\n",
       "\\item 7\n",
       "\\end{enumerate*}\n"
      ],
      "text/markdown": [
       "1. 1\n",
       "2. 4\n",
       "3. 5\n",
       "4. 8\n",
       "5. 12\n",
       "6. 17\n",
       "7. 21\n",
       "8. 29\n",
       "9. 31\n",
       "10. 30\n",
       "11. 23\n",
       "12. 15\n",
       "13. 11\n",
       "14. 10\n",
       "15. 6\n",
       "16. 3\n",
       "17. 2\n",
       "18. 9\n",
       "19. 13\n",
       "20. 16\n",
       "21. 20\n",
       "22. 24\n",
       "23. 25\n",
       "24. 28\n",
       "25. 32\n",
       "26. 27\n",
       "27. 26\n",
       "28. 22\n",
       "29. 19\n",
       "30. 18\n",
       "31. 14\n",
       "32. 7\n",
       "\n",
       "\n"
      ],
      "text/plain": [
       " [1]  1  4  5  8 12 17 21 29 31 30 23 15 11 10  6  3  2  9 13 16 20 24 25 28 32\n",
       "[26] 27 26 22 19 18 14  7"
      ]
     },
     "metadata": {},
     "output_type": "display_data"
    }
   ],
   "source": [
    "r <- rerank.along(c(salary1 - m,salary2))\n",
    "r"
   ]
  },
  {
   "cell_type": "code",
   "execution_count": 84,
   "metadata": {
    "collapsed": false
   },
   "outputs": [
    {
     "data": {
      "text/html": [
       "228"
      ],
      "text/latex": [
       "228"
      ],
      "text/markdown": [
       "228"
      ],
      "text/plain": [
       "[1] 228"
      ]
     },
     "metadata": {},
     "output_type": "display_data"
    },
    {
     "data": {
      "text/html": [
       "300"
      ],
      "text/latex": [
       "300"
      ],
      "text/markdown": [
       "300"
      ],
      "text/plain": [
       "[1] 300"
      ]
     },
     "metadata": {},
     "output_type": "display_data"
    }
   ],
   "source": [
    "WX <- sum(r[1:length(salary1)])\n",
    "WY <- sum(r[(length(salary1)+1):(length(salary1)+length(salary2))])\n",
    "WX\n",
    "WY"
   ]
  },
  {
   "cell_type": "markdown",
   "metadata": {},
   "source": [
    "这里设定`ties.method = 'first'`是为了得到和书上一样的结果。按书上数据会在变换后产生一个结，一般是不会产生的。\n",
    "而按我的方法产生结按默认的平均秩填补法会产生用小数取下标的意义不明的行为，就做了这个处理。\n",
    "\n",
    "另外可以看出$W_{XY}$在这里有点意义不明，假如$W_X$还可以以以$X$收集（不知道什么新秩）秩来理解的话，$\n",
    "W_{XY}$定义本来就是（原数据中）$X$大于$Y$的对数，怎么扩展到这里来？我们可以把原数据换成秩就行了。显然它在之前情况上是等价于原定义的，\n",
    "同时又解决了如何泛化的问题。\n",
    "\n",
    "于是可以利用关系\n",
    "\n",
    "$$\n",
    "W_{YX} = W_X - \\frac{1}{2} n_X(n_X+1) \\\\\n",
    "W_{XY} = W_Y - \\frac{1}{2} n_Y(n_Y+1) \\\\\n",
    "$$"
   ]
  },
  {
   "cell_type": "code",
   "execution_count": 86,
   "metadata": {
    "collapsed": true
   },
   "outputs": [],
   "source": [
    "nX <- length(salary1)\n",
    "nY <- length(salary2)\n",
    "WYX <- WX - nX * (nX+1)/2\n",
    "WXY <- WY - nY * (nY+1)/2"
   ]
  },
  {
   "cell_type": "code",
   "execution_count": 91,
   "metadata": {
    "collapsed": false
   },
   "outputs": [
    {
     "data": {
      "text/html": [
       "0.0242855793382313"
      ],
      "text/latex": [
       "0.0242855793382313"
      ],
      "text/markdown": [
       "0.0242855793382313"
      ],
      "text/plain": [
       "[1] 0.02428558"
      ]
     },
     "metadata": {},
     "output_type": "display_data"
    }
   ],
   "source": [
    "pwilcox(min(WYX,WXY),nX,nY)"
   ]
  },
  {
   "cell_type": "markdown",
   "metadata": {},
   "source": [
    "可以以0.025的显著性水平拒绝两样本总体尺度相同的原假设。"
   ]
  },
  {
   "cell_type": "markdown",
   "metadata": {},
   "source": [
    "## Mood 检验\n",
    "\n",
    "除了像上面这样采用特殊的秩顺序来捕捉尺度不一样性质外。也可以将那个基于正态假设的方差齐次性检验改造成秩的版本。\n",
    "\n",
    "\n",
    "正态假设的方差齐次性检验使用$F$统计量，\n",
    "\n",
    "$$\n",
    "F = \\frac{S_X^2}{S_Y^2} \n",
    "= \n",
    "\\frac{\n",
    "\\sum_{i=1}^m (X - \\bar{X})^2/(m-1)\n",
    "}{\n",
    "\\sum_{j=1}^n (Y - \\bar{Y})/(n-1)\n",
    "}\n",
    "$$\n",
    "\n",
    "显然在原假设下这个统计量服从$F(m-1,n-1)$分布。但是在$X,Y$不服从正态分布的情况下，可能就得不到$\\sum_{i=1}^m (X - \\bar{X})^2 / \\sigma^2$\n",
    "的卡方分布与$Y$对应的那个统计量的卡方分布性与独立性了（考虑到这个证明是通过“巧妙”使用Cochran定理进行的，难以想象如何推广它。）\n",
    "\n",
    "我们还可以用一个更简单的统计量\n",
    "\n",
    "$$\n",
    "\\chi^2 = = \n",
    "\\frac{1}{s^2} \\sum_{i=1}^m (X - \\bar{X})^2\n",
    "$$\n",
    "\n",
    "其中$s^2$是样本方差。这个统计量的小样本确切分布是不知道(没专门取名字)的，但显然在大样本下由$s^2 \\to \\sigma^2$知$\\chi^2 \\sim \\chi^2(m-1)$。\n",
    "更重要的是，这个统计量在备择假设上时，比如$X$的方差实际比$Y$的大，这个统计量的位置会变大，于是我们就识别了这个差别，可以设偏大或偏小为拒绝域。\n",
    "（然而在备择假设上时，它的功效虽然可以区分出来，却难以分析。我们并不知道那是个什么分布，也许又要借助模拟了）。\n",
    "\n",
    "这里这个$s^2 \\to \\sigma^2$可以通过$m \\to \\infty$或$n \\to \\infty$来实现。如果是前者的话，我们还可以得到$\\chi^2 \\to N(E(\\chi^2),Var(\\chi^2))$。\n",
    "与\n",
    "\n",
    "$$\n",
    "Z = \\frac{\\chi^2 - E(\\chi^2)}{\\sqrt{Var(\\chi^2)}} \\sim N(0,1)\n",
    "$$\n",
    "\n",
    "这个简单方法并没有脱离正态假设（当然在大样本下，标准化前两阶矩为$(0,1)$的一般分布会趋近和卡方分布一样的正态分布，从而也趋近那个卡方分布。）\n",
    "，同时还丢掉了小样本的精确性。这就是为什么这个方法实际上并没有被使用。\n",
    "\n",
    "然而将这里的取值换成秩后，就可以得到小样本下的精确分布（因为排列是有限的，这适用于所有秩相关的非参数检验）\n",
    "\n",
    "$$\n",
    "M = \\sum_{j=1}^m \\left( R_{1j} - \\frac{N+1}{2} \\right)^2\n",
    "$$\n",
    "\n",
    "其中$R_{1j}$表示第一个样本的第$j$个值的混合秩（这里假设了两样本位置相等，为此通常要进行样本中位差平移，这使这个方法受到近似的困扰）。\n",
    "这个$M$统计量可以比照前面的$\\chi^2$统计量，主体部分也只取了两样本中一部分的信息\n",
    "（当然混合秩和$s^2$还是用到了另一个样本的信息，不然也不可能可以用于检验）。同样可以比照$\\chi^2$统计量进行Z标准化\n",
    "\n",
    "$$\n",
    "Z = \\frac{M - E(M)}{\\sqrt{Var(M)}} \\sim N(0,1) \\\\\n",
    "E(M) = \\frac{m(N^2-1)}{12} \\\\\n",
    "Var(M) = \\frac{mn(N+1)(N^2-4)}{180}\n",
    "$$\n",
    "\n",
    "显然在第一个样本尺度偏大时该统计量位置偏大，尺度偏小则位置偏小，可以分辨备择假设和原假设。"
   ]
  },
  {
   "cell_type": "code",
   "execution_count": 4,
   "metadata": {
    "collapsed": false
   },
   "outputs": [
    {
     "data": {
      "text/plain": [
       "\n",
       "\tF test to compare two variances\n",
       "\n",
       "data:  salary1 and salary2\n",
       "F = 3.5769, num df = 16, denom df = 14, p-value = 0.02107\n",
       "alternative hypothesis: true ratio of variances is not equal to 1\n",
       "95 percent confidence interval:\n",
       "  1.223554 10.076274\n",
       "sample estimates:\n",
       "ratio of variances \n",
       "          3.576929 \n"
      ]
     },
     "metadata": {},
     "output_type": "display_data"
    }
   ],
   "source": [
    "var.test(salary1,salary2)"
   ]
  },
  {
   "cell_type": "code",
   "execution_count": 21,
   "metadata": {
    "collapsed": false
   },
   "outputs": [
    {
     "data": {
      "text/html": [
       "3.57692937604326"
      ],
      "text/latex": [
       "3.57692937604326"
      ],
      "text/markdown": [
       "3.57692937604326"
      ],
      "text/plain": [
       "[1] 3.576929"
      ]
     },
     "metadata": {},
     "output_type": "display_data"
    }
   ],
   "source": [
    "X <- salary1 #- median(outer(salary1,salary2,'-'))\n",
    "Y <- salary2\n",
    "m <- length(X)\n",
    "n <- length(Y)\n",
    "\n",
    "F <- (sum((X - mean(X))^2)/(m-1))/(sum((Y - mean(Y))^2)/(n-1))\n",
    "F"
   ]
  },
  {
   "cell_type": "code",
   "execution_count": 17,
   "metadata": {
    "collapsed": false
   },
   "outputs": [
    {
     "data": {
      "text/html": [
       "0.0210716417205119"
      ],
      "text/latex": [
       "0.0210716417205119"
      ],
      "text/markdown": [
       "0.0210716417205119"
      ],
      "text/plain": [
       "[1] 0.02107164"
      ]
     },
     "metadata": {},
     "output_type": "display_data"
    }
   ],
   "source": [
    "pf(F,m-1,n-1,lower.tail=FALSE) * 2"
   ]
  },
  {
   "cell_type": "code",
   "execution_count": 28,
   "metadata": {
    "collapsed": false
   },
   "outputs": [
    {
     "data": {
      "text/html": [
       "1958.25"
      ],
      "text/latex": [
       "1958.25"
      ],
      "text/markdown": [
       "1958.25"
      ],
      "text/plain": [
       "[1] 1958.25"
      ]
     },
     "metadata": {},
     "output_type": "display_data"
    }
   ],
   "source": [
    "X <- salary1 - median(outer(salary1,salary2,'-'))\n",
    "Y <- salary2\n",
    "\n",
    "R1 <- rank(c(X,Y),ties.method = 'first')[1:m]\n",
    "N <- m + n\n",
    "\n",
    "M <- sum((R1 - (N+1)/2)^2)\n",
    "M"
   ]
  },
  {
   "cell_type": "code",
   "execution_count": 29,
   "metadata": {
    "collapsed": false
   },
   "outputs": [
    {
     "data": {
      "text/html": [
       "2.33091742693068"
      ],
      "text/latex": [
       "2.33091742693068"
      ],
      "text/markdown": [
       "2.33091742693068"
      ],
      "text/plain": [
       "[1] 2.330917"
      ]
     },
     "metadata": {},
     "output_type": "display_data"
    }
   ],
   "source": [
    "EM <- m*(N^2-1)/12\n",
    "VarM <- m*n*(N+1)*(N^2-4)/180\n",
    "\n",
    "Z <- (M - EM)/sqrt(VarM)\n",
    "Z"
   ]
  },
  {
   "cell_type": "code",
   "execution_count": 30,
   "metadata": {
    "collapsed": false
   },
   "outputs": [
    {
     "data": {
      "text/html": [
       "-2479"
      ],
      "text/latex": [
       "-2479"
      ],
      "text/markdown": [
       "-2479"
      ],
      "text/plain": [
       "[1] -2479"
      ]
     },
     "metadata": {},
     "output_type": "display_data"
    }
   ],
   "source": [
    "median(outer(salary1,salary2,'-'))"
   ]
  },
  {
   "cell_type": "code",
   "execution_count": 25,
   "metadata": {
    "collapsed": false
   },
   "outputs": [
    {
     "data": {
      "text/html": [
       "1449.25"
      ],
      "text/latex": [
       "1449.25"
      ],
      "text/markdown": [
       "1449.25"
      ],
      "text/plain": [
       "[1] 1449.25"
      ]
     },
     "metadata": {},
     "output_type": "display_data"
    }
   ],
   "source": [
    "EM"
   ]
  },
  {
   "cell_type": "code",
   "execution_count": 26,
   "metadata": {
    "collapsed": false
   },
   "outputs": [
    {
     "data": {
      "text/html": [
       "47685"
      ],
      "text/latex": [
       "47685"
      ],
      "text/markdown": [
       "47685"
      ],
      "text/plain": [
       "[1] 47685"
      ]
     },
     "metadata": {},
     "output_type": "display_data"
    }
   ],
   "source": [
    "VarM"
   ]
  },
  {
   "cell_type": "code",
   "execution_count": 31,
   "metadata": {
    "collapsed": false
   },
   "outputs": [
    {
     "data": {
      "text/html": [
       "0.00987885708706743"
      ],
      "text/latex": [
       "0.00987885708706743"
      ],
      "text/markdown": [
       "0.00987885708706743"
      ],
      "text/plain": [
       "[1] 0.009878857"
      ]
     },
     "metadata": {},
     "output_type": "display_data"
    }
   ],
   "source": [
    "pnorm(Z,lower.tail = FALSE)"
   ]
  },
  {
   "cell_type": "markdown",
   "metadata": {},
   "source": [
    "注意上面虽然比照了$\\chi^2$的地位，但$M$并不是卡方分布或渐进卡方的，比如显然它没有将自己在尺度上标准化（除标准差），\n",
    "不过这对最后趋于正态分布没什么影响。我们前面提到的那个没用的统计量则不能这么做（省去$s^2$），因为若这么做就不知道统计量期望是什么了。"
   ]
  },
  {
   "cell_type": "markdown",
   "metadata": {},
   "source": [
    "$$\n",
    "E \\left( R_{1j} - \\frac{N+1}{2} \\right)^2\n",
    "=\n",
    "E R_{1j}^2 - 2 \\frac{N+1}{2} E R_{ij} + (\\frac{N+1}{2})^2 \\\\\n",
    "ER_{ij} = \\frac{N+1}{2} \\\\\n",
    "ER_{ij}^2 = \\frac{1}{3}N^2 + \\frac{1}{2} N + \\frac{1}{6} \\\\\n",
    "E \\left( R_{1j} - \\frac{N+1}{2} \\right)^2 = E R_{1j}^2 - (\\frac{N+1}{2})^2 = \\frac{1}{12} N^2 - \\frac{1}{12} = \\frac{N^2-1}{12} \\\\\n",
    "EM = \\frac{m(N^2-1)}{12}\n",
    "$$"
   ]
  },
  {
   "cell_type": "markdown",
   "metadata": {},
   "source": [
    "## Ansari-Bradley检验\n",
    "\n",
    "Ansari-Bradley检验使用类似Siegel-Tukey检验的方法，不过它不是将秩映射成另一个秩，而是相对一般的映射，\n",
    "事实上它将正数第一个倒数第一个都映成1，而不是1,2.把倒数第二个和正数第二个都映成2，而不是3,4.用形式的符号表示就是\n",
    "\n",
    "$$\n",
    "A = \\sum_{j=1}^m R_{1j}^* = \\sum_{j=1}^m \\left( \\frac{N+1}{2} - \\left| R_{1j} - \\frac{N+1}{2} \\right| \\right)\n",
    "$$\n",
    "\n",
    "可以想象，这个方法的处理方式和Siegel-Tukey检验是完全一样的。不过它无法与Wilcoxnon分布比较，只能像Mood检验一样标准化为标准正态分布了。\n",
    "（当然Siegel-Tukey检验也可以标准化为标准正态分布，更早时候曾经见过与正态近似结果的比较）\n",
    "\n",
    "虽然看上去比ST检验绕来绕去的秩规整，但这样赋值过于随意，导致期望计算还要分情况。\n",
    "\n",
    "当N为双数\n",
    "\n",
    "$$\n",
    "ER_{1j}^* = \\frac{(N/2+1)}{2} = \\frac{N+2}{4} \\\\\n",
    "EA = \\frac{m(N + 2)}{4}\n",
    "$$\n",
    "\n",
    "当N为单数\n",
    "$$\n",
    "ER_{ij}^* = \\frac{N+1}{2} \\frac{1}{N} + \\sum_{i=1}^{(N-1)/2} \\frac{2}{N} i = \n",
    "\\frac{N+1}{2N} + \\frac{2}{N} \\frac{N+1}{4} \\frac{N-1}{2} = \\frac{(N+1)^2}{4N} \\\\\n",
    "EA = \\frac{m(N+1)^2}{4N}\n",
    "$$\n",
    "\n",
    "一如既往，这里$R_{1j}^*$之间不是独立的，所以不能直接算$R_{1j}^*$方差再加起来。但我们还是算算$R_{1j}^*$的方差。\n",
    "\n",
    "当N为双数\n",
    "\n",
    "$$\n",
    "E(R_{1j}^{*2}) = \\sum_{i=1}^{N/2} \\frac{2}{N} i^2 = \\frac{2}{N} \\left( \\frac{1}{3}(N/2)^3 + \\frac{1}{2} (N/2)^2 + \\frac{1}{6}(N/2) \\right) =\n",
    "\\frac{1}{12}N^2 + \\frac{1}{4}N + \\frac{1}{6} \n",
    "$$"
   ]
  },
  {
   "cell_type": "markdown",
   "metadata": {},
   "source": [
    "$$\n",
    "Var(R_{1j}^{*2}) = E(R_{1j}^{*2}) - E(R_{1j}^*)^2 = \n",
    "\\frac{1}{12} N^2 + \\frac{1}{4} N + \\frac{1}{6} - \\frac{1}{16} N^2 - \\frac{1}{4}N - \\frac{1}{4} = \n",
    "\\frac{1}{48} N^2 - \\frac{1}{12}\n",
    "$$\n",
    "\n",
    "如果它们真独立，$A$方差应该是\n",
    "\n",
    "$$\n",
    "Var(\\bar{A}) = \\frac{m}{48}(N^2 - 4)\n",
    "$$\n",
    "\n",
    "然而实际结果是\n",
    "\n",
    "$$\n",
    "Var(A) = \\frac{mn(N^2-4)}{48(N-1)}\n",
    "$$\n",
    "\n",
    "多乘了一个权$\\frac{n}{N-1}$，的确，那个基于独立的错误方差肯定是大大高估了结果。奇数情况就不考察了。"
   ]
  },
  {
   "cell_type": "code",
   "execution_count": 42,
   "metadata": {
    "collapsed": false
   },
   "outputs": [
    {
     "name": "stderr",
     "output_type": "stream",
     "text": [
      "Warning message in ansari.test.default(X, Y, alt = \"greater\"):\n",
      "\"cannot compute exact p-value with ties\""
     ]
    },
    {
     "data": {
      "text/plain": [
       "\n",
       "\tAnsari-Bradley test\n",
       "\n",
       "data:  X and Y\n",
       "AB = 118.5, p-value = 0.02458\n",
       "alternative hypothesis: true ratio of scales is greater than 1\n"
      ]
     },
     "metadata": {},
     "output_type": "display_data"
    }
   ],
   "source": [
    "ansari.test(X,Y,alt=\"greater\")"
   ]
  },
  {
   "cell_type": "code",
   "execution_count": 54,
   "metadata": {
    "collapsed": false
   },
   "outputs": [],
   "source": [
    "ansari.rank <- function(n){\n",
    "    rv <- c()\n",
    "    for(i in 1:((n+1)/2)){\n",
    "        rv[i] <- i\n",
    "        rv[n-i+1] <- i\n",
    "    }\n",
    "    return(rv)\n",
    "}\n",
    "ansari.rank.along <- function(arr, ties.method = 'first'){\n",
    "    ansari.rank(length(arr))[rank(arr,,ties.method = ties.method)]\n",
    "}"
   ]
  },
  {
   "cell_type": "code",
   "execution_count": 52,
   "metadata": {
    "collapsed": false
   },
   "outputs": [
    {
     "data": {
      "text/html": [
       "<ol class=list-inline>\n",
       "\t<li>1</li>\n",
       "\t<li>2</li>\n",
       "\t<li>3</li>\n",
       "\t<li>4</li>\n",
       "\t<li>5</li>\n",
       "\t<li>6</li>\n",
       "\t<li>5</li>\n",
       "\t<li>4</li>\n",
       "\t<li>3</li>\n",
       "\t<li>2</li>\n",
       "\t<li>1</li>\n",
       "</ol>\n"
      ],
      "text/latex": [
       "\\begin{enumerate*}\n",
       "\\item 1\n",
       "\\item 2\n",
       "\\item 3\n",
       "\\item 4\n",
       "\\item 5\n",
       "\\item 6\n",
       "\\item 5\n",
       "\\item 4\n",
       "\\item 3\n",
       "\\item 2\n",
       "\\item 1\n",
       "\\end{enumerate*}\n"
      ],
      "text/markdown": [
       "1. 1\n",
       "2. 2\n",
       "3. 3\n",
       "4. 4\n",
       "5. 5\n",
       "6. 6\n",
       "7. 5\n",
       "8. 4\n",
       "9. 3\n",
       "10. 2\n",
       "11. 1\n",
       "\n",
       "\n"
      ],
      "text/plain": [
       " [1] 1 2 3 4 5 6 5 4 3 2 1"
      ]
     },
     "metadata": {},
     "output_type": "display_data"
    }
   ],
   "source": [
    "ansari.rank(11)"
   ]
  },
  {
   "cell_type": "code",
   "execution_count": 58,
   "metadata": {
    "collapsed": false
   },
   "outputs": [
    {
     "data": {
      "text/html": [
       "119"
      ],
      "text/latex": [
       "119"
      ],
      "text/markdown": [
       "119"
      ],
      "text/plain": [
       "[1] 119"
      ]
     },
     "metadata": {},
     "output_type": "display_data"
    }
   ],
   "source": [
    "A <- sum(ansari.rank.along(c(X,Y))[1:length(X)])\n",
    "A"
   ]
  },
  {
   "cell_type": "code",
   "execution_count": 60,
   "metadata": {
    "collapsed": true
   },
   "outputs": [],
   "source": [
    "EA <- m*(N+2)/4\n",
    "VarA <- m*n*(N^2-4)/(48*(N-1))"
   ]
  },
  {
   "cell_type": "code",
   "execution_count": 61,
   "metadata": {
    "collapsed": false
   },
   "outputs": [
    {
     "data": {
      "text/html": [
       "-1.92873015219859"
      ],
      "text/latex": [
       "-1.92873015219859"
      ],
      "text/markdown": [
       "-1.92873015219859"
      ],
      "text/plain": [
       "[1] -1.92873"
      ]
     },
     "metadata": {},
     "output_type": "display_data"
    }
   ],
   "source": [
    "Z <- (A - EA)/sqrt(VarA)\n",
    "Z"
   ]
  },
  {
   "cell_type": "code",
   "execution_count": 62,
   "metadata": {
    "collapsed": false
   },
   "outputs": [
    {
     "data": {
      "text/html": [
       "0.0268821854875304"
      ],
      "text/latex": [
       "0.0268821854875304"
      ],
      "text/markdown": [
       "0.0268821854875304"
      ],
      "text/plain": [
       "[1] 0.02688219"
      ]
     },
     "metadata": {},
     "output_type": "display_data"
    }
   ],
   "source": [
    "pnorm(Z)"
   ]
  },
  {
   "cell_type": "markdown",
   "metadata": {},
   "source": [
    "这个处理结的方式产生了一些偏差，不过无伤大雅。\n",
    "\n",
    "### 多样本扩展\n",
    "\n",
    "当共有$k$个样本时，一如既往我们使用平方和收集各个分类上A统计量的变异。\n",
    "显然直接把这些A或者标准化过后的A统计量加起来会把它们内部过于偏大过于偏小的这一违反原假设的证据互相抵消而消弭。\n",
    "而标准化后的A或平均A的平方和则将偏大和偏小同时收集为本统计量偏大，从而消除了互相抵消问题。\n",
    "\n",
    "定义单个样本$\\bar{A_i}$指标为\n",
    "\n",
    "$$\n",
    "\\bar{A}_i = \\frac{1}{n_i} \\sum_{j=1}^{n_i} R_{ij}^* = \\sum_{j=1}^{n_i} \\left( \\frac{N+1}{2} - \\left| R_{ij} - \\frac{N+1}{2} \\right| \\right)\n",
    "$$\n",
    "\n",
    "显然任何一个该指标过大或过小都是违反原假设的证据.于是我们一如既往利用平方和汇总这些指标的信息。\n",
    "\n",
    "$$\n",
    "B = \\frac{N^3 - 4N}{48(N-1)} \\sum_{i=1}^k n_i \\left(  \\bar{A}_i - \\frac{N+2}{4} \\right)^2\n",
    "$$\n",
    "\n",
    "B统计量在原假设下有近似$B \\sim \\chi^2(k-1)$"
   ]
  },
  {
   "cell_type": "markdown",
   "metadata": {},
   "source": [
    "## Fligner-Killeen检验\n",
    "\n",
    "Siegel-Tukey与Ansari-Bradley检验都使用从两边到中间增大的秩函数。其中Siegel-Tukey依附的Wilcoxon分布，\n",
    "在推广到多样本上必须放弃又回到正态（卡方）近似，丢失了其特色，所以没有提。\n",
    "\n",
    "一种显而易见的想法就是改用从中间到两边增大的秩函数，其是否与Siegel-Tukey或Ansari-Bradley完全对偶或等效呢？\n",
    "Fligner-Killeen检验从共同中位数向两边排，每步将离其最近的又还没有赋秩的赋予秩。显然我们可以完全仿照Siegel-Tukey的思路，\n",
    "知道两样本下的单个秩和在原假设成立下服从Wilcoxon分布，且在以该样本尺度大于另一个的方式偏离原假设时，该统计量的位置会变小。\n",
    "以此可以进行检验。而在多样本情况下，我们放弃Wilcoxon分布，采用正态近似，然后做成平方和。\n",
    "\n",
    "双样本单样本秩和统计量\n",
    "$$\n",
    "W = \\sum_{j=1}^{n_1} R_{1j}'\n",
    "$$\n",
    "\n",
    "其中$R_{1j}'$指第一个样本第$j$的值得以上述方式定义的秩。\n",
    "\n",
    "多样本平方和统计量\n",
    "\n",
    "$$\n",
    "K = \\frac{12}{N(N+1)} \\sum_{i=1}^k n_i \\left( \\bar{R}_i' - \\frac{N+1}{2} \\right)^2\n",
    "$$"
   ]
  },
  {
   "cell_type": "code",
   "execution_count": 67,
   "metadata": {
    "collapsed": false
   },
   "outputs": [
    {
     "data": {
      "text/html": [
       "<ol class=list-inline>\n",
       "\t<li>26</li>\n",
       "\t<li>25</li>\n",
       "\t<li>24</li>\n",
       "\t<li>23</li>\n",
       "\t<li>21</li>\n",
       "\t<li>14</li>\n",
       "\t<li>12</li>\n",
       "\t<li>3</li>\n",
       "\t<li>1</li>\n",
       "\t<li>4</li>\n",
       "\t<li>8</li>\n",
       "\t<li>19</li>\n",
       "\t<li>27</li>\n",
       "\t<li>28</li>\n",
       "\t<li>30</li>\n",
       "\t<li>31</li>\n",
       "\t<li>32</li>\n",
       "\t<li>22</li>\n",
       "\t<li>17</li>\n",
       "\t<li>16</li>\n",
       "\t<li>13</li>\n",
       "\t<li>11</li>\n",
       "\t<li>9</li>\n",
       "\t<li>5</li>\n",
       "\t<li>2</li>\n",
       "\t<li>6</li>\n",
       "\t<li>7</li>\n",
       "\t<li>10</li>\n",
       "\t<li>15</li>\n",
       "\t<li>18</li>\n",
       "\t<li>20</li>\n",
       "\t<li>29</li>\n",
       "</ol>\n"
      ],
      "text/latex": [
       "\\begin{enumerate*}\n",
       "\\item 26\n",
       "\\item 25\n",
       "\\item 24\n",
       "\\item 23\n",
       "\\item 21\n",
       "\\item 14\n",
       "\\item 12\n",
       "\\item 3\n",
       "\\item 1\n",
       "\\item 4\n",
       "\\item 8\n",
       "\\item 19\n",
       "\\item 27\n",
       "\\item 28\n",
       "\\item 30\n",
       "\\item 31\n",
       "\\item 32\n",
       "\\item 22\n",
       "\\item 17\n",
       "\\item 16\n",
       "\\item 13\n",
       "\\item 11\n",
       "\\item 9\n",
       "\\item 5\n",
       "\\item 2\n",
       "\\item 6\n",
       "\\item 7\n",
       "\\item 10\n",
       "\\item 15\n",
       "\\item 18\n",
       "\\item 20\n",
       "\\item 29\n",
       "\\end{enumerate*}\n"
      ],
      "text/markdown": [
       "1. 26\n",
       "2. 25\n",
       "3. 24\n",
       "4. 23\n",
       "5. 21\n",
       "6. 14\n",
       "7. 12\n",
       "8. 3\n",
       "9. 1\n",
       "10. 4\n",
       "11. 8\n",
       "12. 19\n",
       "13. 27\n",
       "14. 28\n",
       "15. 30\n",
       "16. 31\n",
       "17. 32\n",
       "18. 22\n",
       "19. 17\n",
       "20. 16\n",
       "21. 13\n",
       "22. 11\n",
       "23. 9\n",
       "24. 5\n",
       "25. 2\n",
       "26. 6\n",
       "27. 7\n",
       "28. 10\n",
       "29. 15\n",
       "30. 18\n",
       "31. 20\n",
       "32. 29\n",
       "\n",
       "\n"
      ],
      "text/plain": [
       " [1] 26 25 24 23 21 14 12  3  1  4  8 19 27 28 30 31 32 22 17 16 13 11  9  5  2\n",
       "[26]  6  7 10 15 18 20 29"
      ]
     },
     "metadata": {},
     "output_type": "display_data"
    }
   ],
   "source": [
    "r <- rank(abs(c(X,Y) - median(c(X,Y))),tie = 'first')\n",
    "r"
   ]
  },
  {
   "cell_type": "code",
   "execution_count": 71,
   "metadata": {
    "collapsed": false
   },
   "outputs": [
    {
     "data": {
      "text/html": [
       "328"
      ],
      "text/latex": [
       "328"
      ],
      "text/markdown": [
       "328"
      ],
      "text/plain": [
       "[1] 328"
      ]
     },
     "metadata": {},
     "output_type": "display_data"
    }
   ],
   "source": [
    "W <- sum(r[1:length(X)])\n",
    "W"
   ]
  },
  {
   "cell_type": "code",
   "execution_count": 72,
   "metadata": {
    "collapsed": true
   },
   "outputs": [],
   "source": [
    "rX <- r[1:length(X)]\n",
    "rY <- r[(length(X)+1):(length(X)+length(Y))]"
   ]
  },
  {
   "cell_type": "code",
   "execution_count": 80,
   "metadata": {
    "collapsed": false
   },
   "outputs": [
    {
     "data": {
      "text/html": [
       "175"
      ],
      "text/latex": [
       "175"
      ],
      "text/markdown": [
       "175"
      ],
      "text/plain": [
       "[1] 175"
      ]
     },
     "metadata": {},
     "output_type": "display_data"
    }
   ],
   "source": [
    "WYX <- sum(outer(rY,rX,'-') < 0)\n",
    "WYX"
   ]
  },
  {
   "cell_type": "code",
   "execution_count": 81,
   "metadata": {
    "collapsed": false
   },
   "outputs": [
    {
     "data": {
      "text/html": [
       "80"
      ],
      "text/latex": [
       "80"
      ],
      "text/markdown": [
       "80"
      ],
      "text/plain": [
       "[1] 80"
      ]
     },
     "metadata": {},
     "output_type": "display_data"
    }
   ],
   "source": [
    "WXY <- sum(outer(rX,rY,'-') < 0)\n",
    "WXY"
   ]
  },
  {
   "cell_type": "code",
   "execution_count": 82,
   "metadata": {
    "collapsed": false
   },
   "outputs": [
    {
     "data": {
      "text/html": [
       "0.0378471223499739"
      ],
      "text/latex": [
       "0.0378471223499739"
      ],
      "text/markdown": [
       "0.0378471223499739"
      ],
      "text/plain": [
       "[1] 0.03784712"
      ]
     },
     "metadata": {},
     "output_type": "display_data"
    }
   ],
   "source": [
    "pwilcox(WXY,length(X),length(Y))"
   ]
  },
  {
   "cell_type": "markdown",
   "metadata": {},
   "source": [
    "## 平方秩检验\n",
    "\n",
    "上面的方法基本都需要平移，用样本中位数差平移的效果是含糊不清的，如果使用均值就好了。我们可以先在各类内部求对均值的绝对离差，\n",
    "再将绝对离差求秩。显然任何一个类上秩和太大或太小都是原假设不成立的证据。\n",
    "\n",
    "然而平方秩检验在求秩和之前，先给所有秩加了个平方，这的确可以凸显其效应，但似乎并不是必要的。\n",
    "(考虑Page检验线性加权，也可改成平方加权，结果如何呢？)\n",
    "\n",
    "$$\n",
    "T_X = \\sum_{i=1}^m R_{X,i}^2\n",
    "$$\n",
    "\n",
    "这里$R_{X,i}$指的是X样本的第i个值对X样本均值的绝对离差在所有样本的绝对离差中的秩。下面记$R_i$表示$R_{X,1}^2,R_{Y,2}^2$等。\n",
    "\n",
    "$$\n",
    "Z_X = \\frac{T_X - m\\bar{R}}{S}\n",
    "$$\n",
    "\n",
    "其中\n",
    "\n",
    "$$\n",
    "\\bar{R} = \\frac{1}{m+n}\\sum_{i=1}^{m+n} R_i \\\\\n",
    "S^2 = \\frac{mn(\\sum_{i} R_i^2 - (m-n)\\bar{R}^2 )}{ (m+n)(m+n-1) }\n",
    "$$\n",
    "\n",
    "虽然它们写成了样本值得符号，但显然它们其实是固定的。另外$R_i^2$其实已经是原秩的四次了。"
   ]
  },
  {
   "cell_type": "code",
   "execution_count": 86,
   "metadata": {
    "collapsed": false
   },
   "outputs": [
    {
     "data": {
      "text/html": [
       "<ol class=list-inline>\n",
       "\t<li>841</li>\n",
       "\t<li>729</li>\n",
       "\t<li>625</li>\n",
       "\t<li>529</li>\n",
       "\t<li>484</li>\n",
       "\t<li>441</li>\n",
       "\t<li>361</li>\n",
       "\t<li>100</li>\n",
       "\t<li>49</li>\n",
       "\t<li>25</li>\n",
       "\t<li>1</li>\n",
       "\t<li>121</li>\n",
       "\t<li>576</li>\n",
       "\t<li>676</li>\n",
       "\t<li>784</li>\n",
       "\t<li>961</li>\n",
       "\t<li>1024</li>\n",
       "\t<li>400</li>\n",
       "\t<li>324</li>\n",
       "\t<li>256</li>\n",
       "\t<li>196</li>\n",
       "\t<li>144</li>\n",
       "\t<li>81</li>\n",
       "\t<li>36</li>\n",
       "\t<li>9</li>\n",
       "\t<li>4</li>\n",
       "\t<li>16</li>\n",
       "\t<li>64</li>\n",
       "\t<li>169</li>\n",
       "\t<li>225</li>\n",
       "\t<li>289</li>\n",
       "\t<li>900</li>\n",
       "</ol>\n"
      ],
      "text/latex": [
       "\\begin{enumerate*}\n",
       "\\item 841\n",
       "\\item 729\n",
       "\\item 625\n",
       "\\item 529\n",
       "\\item 484\n",
       "\\item 441\n",
       "\\item 361\n",
       "\\item 100\n",
       "\\item 49\n",
       "\\item 25\n",
       "\\item 1\n",
       "\\item 121\n",
       "\\item 576\n",
       "\\item 676\n",
       "\\item 784\n",
       "\\item 961\n",
       "\\item 1024\n",
       "\\item 400\n",
       "\\item 324\n",
       "\\item 256\n",
       "\\item 196\n",
       "\\item 144\n",
       "\\item 81\n",
       "\\item 36\n",
       "\\item 9\n",
       "\\item 4\n",
       "\\item 16\n",
       "\\item 64\n",
       "\\item 169\n",
       "\\item 225\n",
       "\\item 289\n",
       "\\item 900\n",
       "\\end{enumerate*}\n"
      ],
      "text/markdown": [
       "1. 841\n",
       "2. 729\n",
       "3. 625\n",
       "4. 529\n",
       "5. 484\n",
       "6. 441\n",
       "7. 361\n",
       "8. 100\n",
       "9. 49\n",
       "10. 25\n",
       "11. 1\n",
       "12. 121\n",
       "13. 576\n",
       "14. 676\n",
       "15. 784\n",
       "16. 961\n",
       "17. 1024\n",
       "18. 400\n",
       "19. 324\n",
       "20. 256\n",
       "21. 196\n",
       "22. 144\n",
       "23. 81\n",
       "24. 36\n",
       "25. 9\n",
       "26. 4\n",
       "27. 16\n",
       "28. 64\n",
       "29. 169\n",
       "30. 225\n",
       "31. 289\n",
       "32. 900\n",
       "\n",
       "\n"
      ],
      "text/plain": [
       " [1]  841  729  625  529  484  441  361  100   49   25    1  121  576  676  784\n",
       "[16]  961 1024  400  324  256  196  144   81   36    9    4   16   64  169  225\n",
       "[31]  289  900"
      ]
     },
     "metadata": {},
     "output_type": "display_data"
    }
   ],
   "source": [
    "R <- rank(c(abs(salary1 - mean(salary1)),abs(salary2 - mean(salary2))))^2\n",
    "R"
   ]
  },
  {
   "cell_type": "code",
   "execution_count": 87,
   "metadata": {
    "collapsed": false
   },
   "outputs": [
    {
     "data": {
      "text/html": [
       "8327"
      ],
      "text/latex": [
       "8327"
      ],
      "text/markdown": [
       "8327"
      ],
      "text/plain": [
       "[1] 8327"
      ]
     },
     "metadata": {},
     "output_type": "display_data"
    }
   ],
   "source": [
    "TX <- sum(R[1:length(salary1)])\n",
    "TX"
   ]
  },
  {
   "cell_type": "code",
   "execution_count": 90,
   "metadata": {
    "collapsed": false
   },
   "outputs": [
    {
     "data": {
      "text/html": [
       "2.49736994538794"
      ],
      "text/latex": [
       "2.49736994538794"
      ],
      "text/markdown": [
       "2.49736994538794"
      ],
      "text/plain": [
       "[1] 2.49737"
      ]
     },
     "metadata": {},
     "output_type": "display_data"
    }
   ],
   "source": [
    "barR <- sum(R)/(m+n)\n",
    "S2 <- (m*n*(sum(R^2) - (m+n)*barR^2))/((m+n)*(m+n-1))\n",
    "ZX <- (TX - length(salary1)*barR)/sqrt(S2)\n",
    "ZX"
   ]
  },
  {
   "cell_type": "code",
   "execution_count": 91,
   "metadata": {
    "collapsed": false
   },
   "outputs": [
    {
     "data": {
      "text/html": [
       "0.00625591755081033"
      ],
      "text/latex": [
       "0.00625591755081033"
      ],
      "text/markdown": [
       "0.00625591755081033"
      ],
      "text/plain": [
       "[1] 0.006255918"
      ]
     },
     "metadata": {},
     "output_type": "display_data"
    }
   ],
   "source": [
    "pnorm(ZX,low=FALSE)"
   ]
  },
  {
   "cell_type": "markdown",
   "metadata": {},
   "source": [
    "### 多样本推广\n",
    "\n",
    "记$R_{ij}$为$i$类第$j$个值的绝对离差在所有样本的绝对离差中的秩的平方。\n",
    "\n",
    "第$i$个样本以其角度提供拒绝原假设的证据。\n",
    "\n",
    "$$\n",
    "T_i = \\sum_{j=1}^{n_i} R_{ij}\n",
    "$$\n",
    "\n",
    "这次倒不是利用什么平方和来综合信息了（貌似是利用了某个方差分解中的公式展开了？。。不是很清楚，完全没有任何说明）\n",
    "\n",
    "$$\n",
    "T = (N-1)\\frac{\n",
    "\\sum_{i=1}^k (T_i^2/n_i) - (\\sum_{i=1}^k T_i)^2/N\n",
    "}{\n",
    "\\sum_{i=1}^k \\sum_{j=1}^{n_i} R_{ij}^2 - (\\sum_{i=1}^k T_i)^2/N\n",
    "}\n",
    "$$\n",
    "\n",
    "其在零假设下有$T \\sim \\chi^2(k-1)$"
   ]
  },
  {
   "cell_type": "code",
   "execution_count": 92,
   "metadata": {
    "collapsed": true
   },
   "outputs": [],
   "source": [
    "wtloss <- c(3.7, 3.7, 3.0, 3.9, 2.7, \n",
    "            7.3, 5.2, 5.3, 5.7, 6.5,\n",
    "            9.0, 4.9, 7.1, 8.7)\n",
    "wtloss.nk <- c(5,5,4)"
   ]
  },
  {
   "cell_type": "code",
   "execution_count": 100,
   "metadata": {
    "collapsed": false
   },
   "outputs": [
    {
     "data": {
      "text/html": [
       "<table>\n",
       "<thead><tr><th scope=col>value</th><th scope=col>group</th></tr></thead>\n",
       "<tbody>\n",
       "\t<tr><td>3.7</td><td>1  </td></tr>\n",
       "\t<tr><td>3.7</td><td>1  </td></tr>\n",
       "\t<tr><td>3.0</td><td>1  </td></tr>\n",
       "\t<tr><td>3.9</td><td>1  </td></tr>\n",
       "\t<tr><td>2.7</td><td>1  </td></tr>\n",
       "\t<tr><td>7.3</td><td>2  </td></tr>\n",
       "\t<tr><td>5.2</td><td>2  </td></tr>\n",
       "\t<tr><td>5.3</td><td>2  </td></tr>\n",
       "\t<tr><td>5.7</td><td>2  </td></tr>\n",
       "\t<tr><td>6.5</td><td>2  </td></tr>\n",
       "\t<tr><td>9.0</td><td>3  </td></tr>\n",
       "\t<tr><td>4.9</td><td>3  </td></tr>\n",
       "\t<tr><td>7.1</td><td>3  </td></tr>\n",
       "\t<tr><td>8.7</td><td>3  </td></tr>\n",
       "</tbody>\n",
       "</table>\n"
      ],
      "text/latex": [
       "\\begin{tabular}{r|ll}\n",
       " value & group\\\\\n",
       "\\hline\n",
       "\t 3.7 & 1  \\\\\n",
       "\t 3.7 & 1  \\\\\n",
       "\t 3.0 & 1  \\\\\n",
       "\t 3.9 & 1  \\\\\n",
       "\t 2.7 & 1  \\\\\n",
       "\t 7.3 & 2  \\\\\n",
       "\t 5.2 & 2  \\\\\n",
       "\t 5.3 & 2  \\\\\n",
       "\t 5.7 & 2  \\\\\n",
       "\t 6.5 & 2  \\\\\n",
       "\t 9.0 & 3  \\\\\n",
       "\t 4.9 & 3  \\\\\n",
       "\t 7.1 & 3  \\\\\n",
       "\t 8.7 & 3  \\\\\n",
       "\\end{tabular}\n"
      ],
      "text/plain": [
       "   value group\n",
       "1  3.7   1    \n",
       "2  3.7   1    \n",
       "3  3.0   1    \n",
       "4  3.9   1    \n",
       "5  2.7   1    \n",
       "6  7.3   2    \n",
       "7  5.2   2    \n",
       "8  5.3   2    \n",
       "9  5.7   2    \n",
       "10 6.5   2    \n",
       "11 9.0   3    \n",
       "12 4.9   3    \n",
       "13 7.1   3    \n",
       "14 8.7   3    "
      ]
     },
     "metadata": {},
     "output_type": "display_data"
    }
   ],
   "source": [
    "give.group <- function(nk){\n",
    "    rv <- c()\n",
    "    i <- 1\n",
    "    for(n in nk){\n",
    "        rv <- c(rv, rep(i,n))\n",
    "        i <- i+1\n",
    "    }\n",
    "    return(rv)\n",
    "}\n",
    "\n",
    "extend.group <- function(agg,group){\n",
    "    rv <- c()\n",
    "    i <- 1\n",
    "    for(k in table(group)){\n",
    "        rv <- c(rv, rep(agg[i],k))\n",
    "        i <- i + 1\n",
    "    }\n",
    "    return(rv)\n",
    "}\n",
    "\n",
    "df <- data.frame(value = wtloss, group = give.group(wtloss.nk))\n",
    "df"
   ]
  },
  {
   "cell_type": "code",
   "execution_count": 96,
   "metadata": {
    "collapsed": false
   },
   "outputs": [
    {
     "data": {
      "text/html": [
       "<dl class=dl-horizontal>\n",
       "\t<dt>1</dt>\n",
       "\t\t<dd>3.4</dd>\n",
       "\t<dt>2</dt>\n",
       "\t\t<dd>6</dd>\n",
       "\t<dt>3</dt>\n",
       "\t\t<dd>7.425</dd>\n",
       "</dl>\n"
      ],
      "text/plain": [
       "    1     2     3 \n",
       "3.400 6.000 7.425 "
      ]
     },
     "metadata": {},
     "output_type": "display_data"
    }
   ],
   "source": [
    "tapply(df$value,df$group,mean)"
   ]
  },
  {
   "cell_type": "code",
   "execution_count": 97,
   "metadata": {
    "collapsed": false
   },
   "outputs": [
    {
     "data": {
      "text/plain": [
       "\n",
       "1 2 3 \n",
       "3 2 1 "
      ]
     },
     "metadata": {},
     "output_type": "display_data"
    }
   ],
   "source": [
    "table(c(1,1,1,2,2,3))"
   ]
  },
  {
   "cell_type": "code",
   "execution_count": 99,
   "metadata": {
    "collapsed": false
   },
   "outputs": [
    {
     "name": "stdout",
     "output_type": "stream",
     "text": [
      "[1] 5\n",
      "[1] 5\n",
      "[1] 4\n"
     ]
    }
   ],
   "source": [
    "for (obj in table(df$group)){\n",
    "    print(obj)\n",
    "}"
   ]
  },
  {
   "cell_type": "code",
   "execution_count": 105,
   "metadata": {
    "collapsed": false
   },
   "outputs": [
    {
     "data": {
      "text/html": [
       "<dl class=dl-horizontal>\n",
       "\t<dt>1</dt>\n",
       "\t\t<dd>4</dd>\n",
       "\t<dt>1</dt>\n",
       "\t\t<dd>9</dd>\n",
       "\t<dt>1</dt>\n",
       "\t\t<dd>25</dd>\n",
       "\t<dt>1</dt>\n",
       "\t\t<dd>36</dd>\n",
       "\t<dt>1</dt>\n",
       "\t\t<dd>64</dd>\n",
       "\t<dt>2</dt>\n",
       "\t\t<dd>144</dd>\n",
       "\t<dt>2</dt>\n",
       "\t\t<dd>100</dd>\n",
       "\t<dt>2</dt>\n",
       "\t\t<dd>81</dd>\n",
       "\t<dt>2</dt>\n",
       "\t\t<dd>1</dd>\n",
       "\t<dt>2</dt>\n",
       "\t\t<dd>49</dd>\n",
       "\t<dt>3</dt>\n",
       "\t\t<dd>169</dd>\n",
       "\t<dt>3</dt>\n",
       "\t\t<dd>196</dd>\n",
       "\t<dt>3</dt>\n",
       "\t\t<dd>16</dd>\n",
       "\t<dt>3</dt>\n",
       "\t\t<dd>121</dd>\n",
       "</dl>\n"
      ],
      "text/latex": [
       "\\begin{description*}\n",
       "\\item[1] 4\n",
       "\\item[1] 9\n",
       "\\item[1] 25\n",
       "\\item[1] 36\n",
       "\\item[1] 64\n",
       "\\item[2] 144\n",
       "\\item[2] 100\n",
       "\\item[2] 81\n",
       "\\item[2] 1\n",
       "\\item[2] 49\n",
       "\\item[3] 169\n",
       "\\item[3] 196\n",
       "\\item[3] 16\n",
       "\\item[3] 121\n",
       "\\end{description*}\n"
      ],
      "text/markdown": [
       "1\n",
       ":   41\n",
       ":   91\n",
       ":   251\n",
       ":   361\n",
       ":   642\n",
       ":   1442\n",
       ":   1002\n",
       ":   812\n",
       ":   12\n",
       ":   493\n",
       ":   1693\n",
       ":   1963\n",
       ":   163\n",
       ":   121\n",
       "\n"
      ],
      "text/plain": [
       "  1   1   1   1   1   2   2   2   2   2   3   3   3   3 \n",
       "  4   9  25  36  64 144 100  81   1  49 169 196  16 121 "
      ]
     },
     "metadata": {},
     "output_type": "display_data"
    }
   ],
   "source": [
    "r <- rank(abs(df$value - extend.group(tapply(df$value,df$group,mean),df$group)),tie='first')\n",
    "R <- r^2\n",
    "R"
   ]
  },
  {
   "cell_type": "code",
   "execution_count": 110,
   "metadata": {
    "collapsed": false
   },
   "outputs": [
    {
     "data": {
      "text/html": [
       "<dl class=dl-horizontal>\n",
       "\t<dt>1</dt>\n",
       "\t\t<dd>138</dd>\n",
       "\t<dt>2</dt>\n",
       "\t\t<dd>375</dd>\n",
       "\t<dt>3</dt>\n",
       "\t\t<dd>502</dd>\n",
       "</dl>\n"
      ],
      "text/plain": [
       "  1   2   3 \n",
       "138 375 502 "
      ]
     },
     "metadata": {},
     "output_type": "display_data"
    }
   ],
   "source": [
    "Ti <- tapply(R,df$group,sum)\n",
    "Ti"
   ]
  },
  {
   "cell_type": "code",
   "execution_count": 111,
   "metadata": {
    "collapsed": false
   },
   "outputs": [
    {
     "data": {
      "text/plain": [
       "\n",
       "1 2 3 \n",
       "5 5 4 "
      ]
     },
     "metadata": {},
     "output_type": "display_data"
    }
   ],
   "source": [
    "ni <- table(df$group)\n",
    "ni"
   ]
  },
  {
   "cell_type": "code",
   "execution_count": 113,
   "metadata": {
    "collapsed": false
   },
   "outputs": [
    {
     "data": {
      "text/html": [
       "14"
      ],
      "text/latex": [
       "14"
      ],
      "text/markdown": [
       "14"
      ],
      "text/plain": [
       "[1] 14"
      ]
     },
     "metadata": {},
     "output_type": "display_data"
    }
   ],
   "source": [
    "N <- sum(ni)\n",
    "N"
   ]
  },
  {
   "cell_type": "code",
   "execution_count": 117,
   "metadata": {
    "collapsed": false
   },
   "outputs": [
    {
     "data": {
      "text/html": [
       "5.12971284392647"
      ],
      "text/latex": [
       "5.12971284392647"
      ],
      "text/markdown": [
       "5.12971284392647"
      ],
      "text/plain": [
       "[1] 5.129713"
      ]
     },
     "metadata": {},
     "output_type": "display_data"
    }
   ],
   "source": [
    "T <- (N-1) * (sum(Ti^2/ni) - sum(Ti)^2/N) / (sum(R^2) - sum(Ti)^2/N )\n",
    "T"
   ]
  },
  {
   "cell_type": "code",
   "execution_count": 118,
   "metadata": {
    "collapsed": false
   },
   "outputs": [
    {
     "data": {
      "text/html": [
       "0.0769302261397646"
      ],
      "text/latex": [
       "0.0769302261397646"
      ],
      "text/markdown": [
       "0.0769302261397646"
      ],
      "text/plain": [
       "[1] 0.07693023"
      ]
     },
     "metadata": {},
     "output_type": "display_data"
    }
   ],
   "source": [
    "pchisq(T,length(unique(df$group))-1,low=FALSE)"
   ]
  }
 ],
 "metadata": {
  "anaconda-cloud": {},
  "kernelspec": {
   "display_name": "R 3.3",
   "language": "R",
   "name": "ir33"
  },
  "language_info": {
   "codemirror_mode": "r",
   "file_extension": ".r",
   "mimetype": "text/x-r-source",
   "name": "R",
   "pygments_lexer": "r",
   "version": "3.3.1"
  }
 },
 "nbformat": 4,
 "nbformat_minor": 0
}
