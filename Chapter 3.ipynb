{
 "cells": [
  {
   "cell_type": "markdown",
   "metadata": {},
   "source": [
    "# 两样本位置问题\n",
    "\n",
    "## Brown-Mood中位数检验\n",
    "\n",
    "考虑两个总体$A$,$B$，假如它们分布完全一样，则分别出自规模为$m$，$n$的样本合起来就是同分布的$m + n$规模样本。\n",
    "这时候以那个分布的中位数参数去划分每个观测，分为小于中位数参数$M$的小于集$L$与大于集$H$，其中$L$的元素个数是一随机变量，\n",
    "$L$中属于$A$和$B$的元素个数也是随机变量。问$L$中出自$A$的元素个数这一随机变量所服从的分布？\n",
    "\n",
    "$L$中出自$A$的个数等于单独看$A$其样本小于$M$的个数。显然这服从$Binom(m,0.5)$。\n",
    "\n",
    "如果给出条件，$L$元素个数为给定值呢？(下面直接令$A$,$B$表示$A$,$B$集中小于$M$的数量，用$L$表示$L$集元素个数。)\n",
    "\n",
    "$$\n",
    "P(A = k | L = s) = \\frac{P(A = k \\cap L = s)}{P(L = s)} = \\frac{P(A = k \\cap B = s - k)}{P(L = s)} \n",
    "= \\frac{ \\frac{1}{2^s}C_m^k C_n^{s-k} }{ \\sum_{i=0}^s \\frac{1}{2^s} C_m^i C_n^{s-i} }\n",
    "= \\frac{ C_m^k C_n^{s-k} }{ \\sum_{i=0}^s  C_m^i C_n^{s-i} } = \\frac{ C_m^k C_n^{s-k} }{ C_{m+n}^s }\n",
    "$$\n",
    "\n",
    "结果是超几何分布。上式中若有无定义的组合数出现，均设其值为0.最后一步和式的合并是纯组合的，不幸的是，\n",
    "似乎很难向超几何分布的那种m,n合成总体里抽s个中有k个m总体的模型进行规约。这看起来本身就是一个基础性的命题——\n",
    "即两个$p=0.5$二项分布随机变量在给出和等于某个数的条件后，单个的条件分布从无条件的二项分布变为超几何分布。和泊松过程那个给出某个时间段\n",
    "发生事件数，那些事件的发生变成均匀分布有着类似的怪异。\n",
    "\n",
    "注意上式中若使用其他$q$分位数($q \\neq 0.5$)，则还可以继续使用超几何分布。多总体时则可能需要多变量超几何分布。\n",
    "\n",
    "既然总体分布相同，中位数相同命题等价于其他任意分位数相同，所以我们其实可以随便在哪个潜在可以作为$q$分位数的点上检验，\n",
    "这时我们的检验统计量是小于给定数$Q$的A的个数，原假设是$Q$对应的$q$分位点相同（尽管我们其实不知道$q$等于多少）。\n",
    "一旦拒绝$Q$对应的$q$分位数相同，我们也可直接得到中位数不相同的结论。\n",
    "\n",
    "然而这是将Brown-Mood中位数检验用到了也可以用Wilcoxon秩和（不是Wilcoxon符号秩signrank）检验的场合，即两总体完全一样或只有位置不一样，\n",
    "但Brown-Mood检验和符号检验之所以还有用，是因为它们比Wilcoxon符号秩的对称（才能搞出绝对差同分布双总体利用更多信息）和Wilcoxon秩和\n",
    "的只可能有位置差异同分布更弱的假设。比如容易看出上述论述大部分只要稍作变化，就对只要求某个分位数相同的假设成立。但致命的是如果我们选择的\n",
    "检验统计量是样本中位数，实际我们拒绝的q分位数假设并不能得出拒绝中位数相同的假设（虽然也许随样本规模增大，\n",
    "可以通过样本中位数趋近中位数参数得出渐进结论）"
   ]
  },
  {
   "cell_type": "code",
   "execution_count": 2,
   "metadata": {
    "collapsed": false
   },
   "outputs": [
    {
     "name": "stdout",
     "output_type": "stream",
     "text": [
      "9919 12040"
     ]
    }
   ],
   "source": [
    "salary1 <- c(6864, 7304, 7477, 7779, 7895, 8348, 8461,9553, 9919, 10073, 10270,\n",
    "             11581, 13472, 13600, 13962, 15019, 17244)\n",
    "salary2 <- c(10276, 10533, 10633, 10837, 11209, 11393, 11864, 12040, 12642,\n",
    "             12675, 13199, 13683, 14049, 14061, 16079)\n",
    "\n",
    "cat(median(salary1),median(salary2))"
   ]
  },
  {
   "cell_type": "code",
   "execution_count": 19,
   "metadata": {
    "collapsed": false
   },
   "outputs": [
    {
     "data": {
      "text/html": [
       "11301"
      ],
      "text/latex": [
       "11301"
      ],
      "text/markdown": [
       "11301"
      ],
      "text/plain": [
       "[1] 11301"
      ]
     },
     "metadata": {},
     "output_type": "display_data"
    }
   ],
   "source": [
    "M <- median(c(salary1,salary2))\n",
    "M"
   ]
  },
  {
   "cell_type": "code",
   "execution_count": 23,
   "metadata": {
    "collapsed": false
   },
   "outputs": [
    {
     "data": {
      "text/html": [
       "0.0159761941327016"
      ],
      "text/latex": [
       "0.0159761941327016"
      ],
      "text/markdown": [
       "0.0159761941327016"
      ],
      "text/plain": [
       "[1] 0.01597619"
      ]
     },
     "metadata": {},
     "output_type": "display_data"
    }
   ],
   "source": [
    "A21 <- sum(salary1 < M)\n",
    "A22 <- sum(salary2 < M)\n",
    "t <- A21 + A22\n",
    "phyper(A21, length(salary1), length(salary2), A21 + A22, lower.tail=FALSE)"
   ]
  },
  {
   "cell_type": "code",
   "execution_count": 27,
   "metadata": {
    "collapsed": false
   },
   "outputs": [
    {
     "data": {
      "text/html": [
       "0.0778067389621545"
      ],
      "text/latex": [
       "0.0778067389621545"
      ],
      "text/markdown": [
       "0.0778067389621545"
      ],
      "text/plain": [
       "[1] 0.07780674"
      ]
     },
     "metadata": {},
     "output_type": "display_data"
    }
   ],
   "source": [
    "A11 <- sum(salary1 > M)\n",
    "A12 <- sum(salary2 > M)\n",
    "t <- A11 + A12\n",
    "phyper(A11, length(salary1), length(salary2), A11 + A12)"
   ]
  },
  {
   "cell_type": "code",
   "execution_count": 28,
   "metadata": {
    "collapsed": false
   },
   "outputs": [
    {
     "data": {
      "text/html": [
       "0.0159761941327016"
      ],
      "text/latex": [
       "0.0159761941327016"
      ],
      "text/markdown": [
       "0.0159761941327016"
      ],
      "text/plain": [
       "[1] 0.01597619"
      ]
     },
     "metadata": {},
     "output_type": "display_data"
    }
   ],
   "source": [
    "phyper(A11-1, length(salary1), length(salary2), A11 + A12)"
   ]
  },
  {
   "cell_type": "markdown",
   "metadata": {},
   "source": [
    "看得出小样本的p值有多么不稳健，+-1误差就是定性的差别。\n",
    "\n",
    "### 置信区间问题\n",
    "\n",
    "我们继续从假设检验中把区间反推出来，不过此处我们加强假设为wilcoxon秩和检验要求的程度。\n",
    "即检验的两总体只有位置差异，可以形式的表达为：\n",
    "\n",
    "$X$与$Y+\\theta$有相同的分布。\n",
    "\n",
    "如此，$X-Y = \\theta$中，将$\\theta$各种取值，就可以造出不同的假设以及检验统计量（以及实现值），这时可以从两个方向构造同分布。\n",
    "譬如说$\\theta > 0 $，这就是说$X$总体比$Y$大。于是我们可以把列联表中划分上下格标准差异化（原本是一样的），\n",
    "$X$用原来那个，$Y$的标准则降低$\\theta$，于是恢复了之前的同分布性，其左上角统计量值也没变，\n",
    "但是右边的和条件变了，也就是说统计量分布变了。于是我们获得不同的p值，容易看出随着$\\theta$越来越大，p值终将趋于0.反之亦然，\n",
    "于是我们可以定出p值临界点（$\\alpha/2$），将走到临界点附近的$\\theta$值作为置信区间的边缘。\n",
    "\n",
    "另一个思路是加高左边的$\\theta$要求来使得同分布重新成立，此时统计量值和条件和都变了，也就是统计量值与统计量分布同时变，\n",
    "还不如前面那个清晰。\n",
    "\n"
   ]
  },
  {
   "cell_type": "code",
   "execution_count": 13,
   "metadata": {
    "collapsed": false
   },
   "outputs": [],
   "source": [
    "# first, get cut number, then compute the theta\n",
    "M <- median(c(salary1,salary2))\n",
    "MX <- median(salary1)\n",
    "m <- length(salary1)\n",
    "n <- length(salary2)\n",
    "for(left in salary2){\n",
    "    A11 <- sum(salary1 > MX)\n",
    "    A12 <- sum(salary2 > left)\n",
    "    t <- A11 + A12\n",
    "    p <- phyper(A11, m, n, A11 + A12)\n",
    "    if(p>0.025){\n",
    "        break\n",
    "    }\n",
    "}\n",
    "for(right in salary2){\n",
    "    A11 <- sum(salary1 > MX)\n",
    "    A12 <- sum(salary2 > right)\n",
    "    t <- A11 + A12\n",
    "    p <- phyper(A11, m, n, A11 + A12)\n",
    "    if(p>0.975){\n",
    "        break\n",
    "    }\n",
    "}\n"
   ]
  },
  {
   "cell_type": "code",
   "execution_count": 14,
   "metadata": {
    "collapsed": false
   },
   "outputs": [
    {
     "data": {
      "text/html": [
       "<ol>\n",
       "\t<li>714</li>\n",
       "\t<li>3764</li>\n",
       "</ol>\n"
      ],
      "text/latex": [
       "\\begin{enumerate}\n",
       "\\item 714\n",
       "\\item 3764\n",
       "\\end{enumerate}\n"
      ],
      "text/markdown": [
       "1. 714\n",
       "2. 3764\n",
       "\n",
       "\n"
      ],
      "text/plain": [
       "[[1]]\n",
       "[1] 714\n",
       "\n",
       "[[2]]\n",
       "[1] 3764\n"
      ]
     },
     "metadata": {},
     "output_type": "display_data"
    }
   ],
   "source": [
    "list(left-MX,right-MX)"
   ]
  },
  {
   "cell_type": "code",
   "execution_count": 13,
   "metadata": {
    "collapsed": false
   },
   "outputs": [
    {
     "data": {
      "text/html": [
       "10633"
      ],
      "text/latex": [
       "10633"
      ],
      "text/markdown": [
       "10633"
      ],
      "text/plain": [
       "[1] 10633"
      ]
     },
     "metadata": {},
     "output_type": "display_data"
    }
   ],
   "source": [
    "left"
   ]
  },
  {
   "cell_type": "code",
   "execution_count": 14,
   "metadata": {
    "collapsed": false
   },
   "outputs": [
    {
     "data": {
      "text/html": [
       "13683"
      ],
      "text/latex": [
       "13683"
      ],
      "text/markdown": [
       "13683"
      ],
      "text/plain": [
       "[1] 13683"
      ]
     },
     "metadata": {},
     "output_type": "display_data"
    }
   ],
   "source": [
    "right"
   ]
  },
  {
   "cell_type": "markdown",
   "metadata": {},
   "source": [
    "注意这里估计的不是$\\theta$，我们实际试了一些容许的$M_Y$的值。假设写为$M_X - M_Y = \\theta$。\n",
    "则这里计算的(left,right)实际是$M_Y - M_X = -\\theta$，所以正的区间意味着负的$\\theta$区间，也就是说$Y$或第二个样本比$X$大，\n",
    "位置比其靠右。$M_X$换回合并中位数$M$理论上说也区别不大，因为我们只需要分配是公平的即可，\n",
    "是不是以某个中位数为基础没什么区别（事实上也不知道真实中位数），当然可以直观看出靠近中位数的检验比较有效，相比起在另外两个极端。\n",
    "\n",
    "仔细考虑一下，好像也没有必要要求两总体间只有位置差异，只设定$M_X - M_Y = \\theta$就够了。仍然是Wilcoxon秩和来反转才需要。"
   ]
  },
  {
   "cell_type": "markdown",
   "metadata": {},
   "source": [
    "## Wilcoxon(Mann-Whitney)秩和检验\n",
    "\n",
    "wilcoxon秩和检验大体思路Chapter 2的笔记中已经写了。就是在单样本中因为丢弃信息表现相对较差那个检验。"
   ]
  },
  {
   "cell_type": "code",
   "execution_count": 47,
   "metadata": {
    "collapsed": false
   },
   "outputs": [
    {
     "data": {
      "text/html": [
       "222"
      ],
      "text/latex": [
       "222"
      ],
      "text/markdown": [
       "222"
      ],
      "text/plain": [
       "[1] 222"
      ]
     },
     "metadata": {},
     "output_type": "display_data"
    },
    {
     "data": {
      "text/html": [
       "306"
      ],
      "text/latex": [
       "306"
      ],
      "text/markdown": [
       "306"
      ],
      "text/plain": [
       "[1] 306"
      ]
     },
     "metadata": {},
     "output_type": "display_data"
    }
   ],
   "source": [
    "rs <- rank(c(salary1,salary2))\n",
    "WX <- sum(rs[1:length(salary1)])\n",
    "WY <- sum(rs[(length(salary1)+1):(length(salary1)+length(salary2))])\n",
    "WX\n",
    "WY"
   ]
  },
  {
   "cell_type": "code",
   "execution_count": 49,
   "metadata": {
    "collapsed": false
   },
   "outputs": [
    {
     "data": {
      "text/html": [
       "186"
      ],
      "text/latex": [
       "186"
      ],
      "text/markdown": [
       "186"
      ],
      "text/plain": [
       "[1] 186"
      ]
     },
     "metadata": {},
     "output_type": "display_data"
    }
   ],
   "source": [
    "WXY <- sum(outer(salary2,salary1,'-')>0)\n",
    "WXY"
   ]
  },
  {
   "cell_type": "code",
   "execution_count": 50,
   "metadata": {
    "collapsed": false
   },
   "outputs": [
    {
     "data": {
      "text/html": [
       "69"
      ],
      "text/latex": [
       "69"
      ],
      "text/markdown": [
       "69"
      ],
      "text/plain": [
       "[1] 69"
      ]
     },
     "metadata": {},
     "output_type": "display_data"
    }
   ],
   "source": [
    "WYX <- sum(outer(salary1,salary2,'-')>0)\n",
    "WYX"
   ]
  },
  {
   "cell_type": "code",
   "execution_count": 51,
   "metadata": {
    "collapsed": false
   },
   "outputs": [
    {
     "data": {
      "text/html": [
       "306"
      ],
      "text/latex": [
       "306"
      ],
      "text/markdown": [
       "306"
      ],
      "text/plain": [
       "[1] 306"
      ]
     },
     "metadata": {},
     "output_type": "display_data"
    }
   ],
   "source": [
    "WXY + 0.5*length(salary2)*(length(salary2)+1)"
   ]
  },
  {
   "cell_type": "code",
   "execution_count": 52,
   "metadata": {
    "collapsed": false
   },
   "outputs": [
    {
     "data": {
      "text/html": [
       "222"
      ],
      "text/latex": [
       "222"
      ],
      "text/markdown": [
       "222"
      ],
      "text/plain": [
       "[1] 222"
      ]
     },
     "metadata": {},
     "output_type": "display_data"
    }
   ],
   "source": [
    "WYX + 0.5*length(salary1)*(length(salary1)+1)"
   ]
  },
  {
   "cell_type": "code",
   "execution_count": 54,
   "metadata": {
    "collapsed": false
   },
   "outputs": [
    {
     "data": {
      "text/html": [
       "0.0135216648184114"
      ],
      "text/latex": [
       "0.0135216648184114"
      ],
      "text/markdown": [
       "0.0135216648184114"
      ],
      "text/plain": [
       "[1] 0.01352166"
      ]
     },
     "metadata": {},
     "output_type": "display_data"
    }
   ],
   "source": [
    "pwilcox(WYX,length(salary1),length(salary2))"
   ]
  },
  {
   "cell_type": "code",
   "execution_count": 55,
   "metadata": {
    "collapsed": false
   },
   "outputs": [
    {
     "data": {
      "text/plain": [
       "\n",
       "\tWilcoxon rank sum test\n",
       "\n",
       "data:  salary1 and salary2\n",
       "W = 69, p-value = 0.01352\n",
       "alternative hypothesis: true location shift is less than 0\n"
      ]
     },
     "metadata": {},
     "output_type": "display_data"
    }
   ],
   "source": [
    "wilcox.test(salary1,salary2,'less')"
   ]
  },
  {
   "cell_type": "markdown",
   "metadata": {
    "collapsed": true
   },
   "source": [
    "## $M_X - M_Y$的点估计和区间估计\n",
    "\n"
   ]
  },
  {
   "cell_type": "markdown",
   "metadata": {},
   "source": [
    "类似Brown-Mood检验反推区间的方式，这里我们一开始假设就已经是两样本间只有位置差异了，所以对于假设\n",
    "\n",
    "$$\n",
    "M_X - M_Y = \\theta\n",
    "$$\n",
    "\n",
    "就可以推出\n",
    "\n",
    "$$\n",
    "F_X(x) - F_Y(x) = \\theta\n",
    "$$\n",
    "\n",
    "我们可以尝试不同的$\\theta$值，在$Y$样本上加上这个数或在$X$样本上减去这个数，就可以得到在这个假设下来自两个同分布总体的样本。\n",
    "然后再跑wilcoxon秩和检验，收集不显著的点。\n",
    "\n",
    "那么我们就需要找到那些经过时使得$W_{XY}$统计量突变的点。\n",
    "容易想到把$X,Y$的笛卡尔积求差排序后从左往右设定$-\\theta$值可以使得$W_{XY}$从$mn$取到$0$。\n"
   ]
  },
  {
   "cell_type": "code",
   "execution_count": 5,
   "metadata": {
    "collapsed": false
   },
   "outputs": [
    {
     "data": {
      "text/html": [
       "<ol class=list-inline>\n",
       "\t<li>-6968</li>\n",
       "\t<li>-6711</li>\n",
       "\t<li>-6611</li>\n",
       "\t<li>-6407</li>\n",
       "\t<li>-6035</li>\n",
       "\t<li>-5851</li>\n",
       "\t<li>-5380</li>\n",
       "\t<li>-5204</li>\n",
       "\t<li>-4743</li>\n",
       "\t<li>-4602</li>\n",
       "\t<li>-4569</li>\n",
       "\t<li>-4486</li>\n",
       "\t<li>-4386</li>\n",
       "\t<li>-4182</li>\n",
       "\t<li>-4045</li>\n",
       "\t<li>-3810</li>\n",
       "\t<li>-3686</li>\n",
       "\t<li>-3626</li>\n",
       "\t<li>-3561</li>\n",
       "\t<li>-3429</li>\n",
       "\t<li>-3329</li>\n",
       "\t<li>-3324</li>\n",
       "\t<li>-3196</li>\n",
       "\t<li>-3195</li>\n",
       "\t<li>-3183</li>\n",
       "\t<li>-3155</li>\n",
       "\t<li>-3125</li>\n",
       "\t<li>-3067</li>\n",
       "\t<li>-2979</li>\n",
       "\t<li>-2967</li>\n",
       "\t<li>-2939</li>\n",
       "\t<li>-2839</li>\n",
       "\t<li>-2763</li>\n",
       "\t<li>-2753</li>\n",
       "\t<li>-2635</li>\n",
       "\t<li>-2569</li>\n",
       "\t<li>-2391</li>\n",
       "\t<li>-2377</li>\n",
       "\t<li>-2344</li>\n",
       "\t<li>-2263</li>\n",
       "\t<li>-2207</li>\n",
       "\t<li>-2098</li>\n",
       "\t<li>-2079</li>\n",
       "\t<li>-1922</li>\n",
       "\t<li>-1820</li>\n",
       "\t<li>-1736</li>\n",
       "\t<li>-1608</li>\n",
       "\t<li>-1560</li>\n",
       "\t<li>-1432</li>\n",
       "\t<li>-1336</li>\n",
       "\t<li>-1320</li>\n",
       "\t<li>-1305</li>\n",
       "\t<li>-1287</li>\n",
       "\t<li>-1165</li>\n",
       "\t<li>-1048</li>\n",
       "\t<li>-970</li>\n",
       "\t<li>-958</li>\n",
       "\t<li>-958</li>\n",
       "\t<li>-948</li>\n",
       "\t<li>-925</li>\n",
       "\t<li>-830</li>\n",
       "\t<li>-797</li>\n",
       "\t<li>-763</li>\n",
       "\t<li>-744</li>\n",
       "\t<li>-401</li>\n",
       "\t<li>-372</li>\n",
       "\t<li>-279</li>\n",
       "\t<li>-273</li>\n",
       "\t<li>-188</li>\n",
       "\t<li>6</li>\n",
       "\t<li>83</li>\n",
       "\t<li>87</li>\n",
       "\t<li>99</li>\n",
       "\t<li>203</li>\n",
       "\t<li>211</li>\n",
       "\t<li>263</li>\n",
       "\t<li>283</li>\n",
       "\t<li>357</li>\n",
       "\t<li>363</li>\n",
       "\t<li>449</li>\n",
       "\t<li>459</li>\n",
       "\t<li>460</li>\n",
       "\t<li>461</li>\n",
       "\t<li>560</li>\n",
       "\t<li>567</li>\n",
       "\t<li>577</li>\n",
       "\t<li>589</li>\n",
       "\t<li>614</li>\n",
       "\t<li>714</li>\n",
       "\t<li>723</li>\n",
       "\t<li>764</li>\n",
       "\t<li>918</li>\n",
       "\t<li>939</li>\n",
       "\t<li>980</li>\n",
       "\t<li>1060</li>\n",
       "\t<li>1061</li>\n",
       "\t<li>1080</li>\n",
       "\t<li>1094</li>\n",
       "\t<li>1123</li>\n",
       "\t<li>1136</li>\n",
       "\t<li>1284</li>\n",
       "\t<li>1290</li>\n",
       "\t<li>1320</li>\n",
       "\t<li>1474</li>\n",
       "\t<li>1594</li>\n",
       "\t<li>1618</li>\n",
       "\t<li>1656</li>\n",
       "\t<li>1770</li>\n",
       "\t<li>1791</li>\n",
       "\t<li>1815</li>\n",
       "\t<li>1840</li>\n",
       "\t<li>1928</li>\n",
       "\t<li>1945</li>\n",
       "\t<li>1967</li>\n",
       "\t<li>2072</li>\n",
       "\t<li>2102</li>\n",
       "\t<li>2117</li>\n",
       "\t<li>2121</li>\n",
       "\t<li>2172</li>\n",
       "\t<li>2185</li>\n",
       "\t<li>2285</li>\n",
       "\t<li>2311</li>\n",
       "\t<li>2372</li>\n",
       "\t<li>2376</li>\n",
       "\t<li>2381</li>\n",
       "\t<li>2405</li>\n",
       "\t<li>2468</li>\n",
       "\t<li>2479</li>\n",
       "\t<li>2480</li>\n",
       "\t<li>2487</li>\n",
       "\t<li>2489</li>\n",
       "\t<li>2497</li>\n",
       "\t<li>2569</li>\n",
       "\t<li>2602</li>\n",
       "\t<li>2607</li>\n",
       "\t<li>2638</li>\n",
       "\t<li>2723</li>\n",
       "\t<li>2738</li>\n",
       "\t<li>2748</li>\n",
       "\t<li>2754</li>\n",
       "\t<li>2756</li>\n",
       "\t<li>2799</li>\n",
       "\t<li>2854</li>\n",
       "\t<li>2861</li>\n",
       "\t<li>2929</li>\n",
       "\t<li>2932</li>\n",
       "\t<li>2942</li>\n",
       "\t<li>2972</li>\n",
       "\t<li>3045</li>\n",
       "\t<li>3056</li>\n",
       "\t<li>3058</li>\n",
       "\t<li>3089</li>\n",
       "\t<li>3122</li>\n",
       "\t<li>3126</li>\n",
       "\t<li>3156</li>\n",
       "\t<li>3229</li>\n",
       "\t<li>3280</li>\n",
       "\t<li>3314</li>\n",
       "\t<li>3329</li>\n",
       "\t<li>3360</li>\n",
       "\t<li>3403</li>\n",
       "\t<li>3412</li>\n",
       "\t<li>3413</li>\n",
       "\t<li>3430</li>\n",
       "\t<li>3498</li>\n",
       "\t<li>3516</li>\n",
       "\t<li>3533</li>\n",
       "\t<li>3579</li>\n",
       "\t<li>3610</li>\n",
       "\t<li>3614</li>\n",
       "\t<li>3646</li>\n",
       "\t<li>3669</li>\n",
       "\t<li>3692</li>\n",
       "\t<li>3732</li>\n",
       "\t<li>3764</li>\n",
       "\t<li>3769</li>\n",
       "\t<li>3779</li>\n",
       "\t<li>3791</li>\n",
       "\t<li>3905</li>\n",
       "\t<li>3916</li>\n",
       "\t<li>3969</li>\n",
       "\t<li>3973</li>\n",
       "\t<li>3976</li>\n",
       "\t<li>3988</li>\n",
       "\t<li>4085</li>\n",
       "\t<li>4089</li>\n",
       "\t<li>4130</li>\n",
       "\t<li>4130</li>\n",
       "\t<li>4142</li>\n",
       "\t<li>4145</li>\n",
       "\t<li>4181</li>\n",
       "\t<li>4214</li>\n",
       "\t<li>4261</li>\n",
       "\t<li>4294</li>\n",
       "\t<li>4327</li>\n",
       "\t<li>4345</li>\n",
       "\t<li>4387</li>\n",
       "\t<li>4496</li>\n",
       "\t<li>4498</li>\n",
       "\t<li>4508</li>\n",
       "\t<li>4529</li>\n",
       "\t<li>4560</li>\n",
       "\t<li>4563</li>\n",
       "\t<li>4736</li>\n",
       "\t<li>4738</li>\n",
       "\t<li>4747</li>\n",
       "\t<li>4780</li>\n",
       "\t<li>4851</li>\n",
       "\t<li>4863</li>\n",
       "\t<li>4896</li>\n",
       "\t<li>5000</li>\n",
       "\t<li>5165</li>\n",
       "\t<li>5176</li>\n",
       "\t<li>5198</li>\n",
       "\t<li>5222</li>\n",
       "\t<li>5304</li>\n",
       "\t<li>5335</li>\n",
       "\t<li>5338</li>\n",
       "\t<li>5371</li>\n",
       "\t<li>5420</li>\n",
       "\t<li>5588</li>\n",
       "\t<li>5600</li>\n",
       "\t<li>5701</li>\n",
       "\t<li>5713</li>\n",
       "\t<li>5722</li>\n",
       "\t<li>5778</li>\n",
       "\t<li>5788</li>\n",
       "\t<li>5809</li>\n",
       "\t<li>5811</li>\n",
       "\t<li>5895</li>\n",
       "\t<li>5904</li>\n",
       "\t<li>6006</li>\n",
       "\t<li>6154</li>\n",
       "\t<li>6160</li>\n",
       "\t<li>6166</li>\n",
       "\t<li>6206</li>\n",
       "\t<li>6270</li>\n",
       "\t<li>6282</li>\n",
       "\t<li>6335</li>\n",
       "\t<li>6379</li>\n",
       "\t<li>6526</li>\n",
       "\t<li>6572</li>\n",
       "\t<li>6584</li>\n",
       "\t<li>6745</li>\n",
       "\t<li>6757</li>\n",
       "\t<li>6819</li>\n",
       "\t<li>7185</li>\n",
       "\t<li>7197</li>\n",
       "\t<li>7618</li>\n",
       "\t<li>7731</li>\n",
       "\t<li>8184</li>\n",
       "\t<li>8300</li>\n",
       "\t<li>8602</li>\n",
       "\t<li>8775</li>\n",
       "\t<li>9215</li>\n",
       "</ol>\n"
      ],
      "text/latex": [
       "\\begin{enumerate*}\n",
       "\\item -6968\n",
       "\\item -6711\n",
       "\\item -6611\n",
       "\\item -6407\n",
       "\\item -6035\n",
       "\\item -5851\n",
       "\\item -5380\n",
       "\\item -5204\n",
       "\\item -4743\n",
       "\\item -4602\n",
       "\\item -4569\n",
       "\\item -4486\n",
       "\\item -4386\n",
       "\\item -4182\n",
       "\\item -4045\n",
       "\\item -3810\n",
       "\\item -3686\n",
       "\\item -3626\n",
       "\\item -3561\n",
       "\\item -3429\n",
       "\\item -3329\n",
       "\\item -3324\n",
       "\\item -3196\n",
       "\\item -3195\n",
       "\\item -3183\n",
       "\\item -3155\n",
       "\\item -3125\n",
       "\\item -3067\n",
       "\\item -2979\n",
       "\\item -2967\n",
       "\\item -2939\n",
       "\\item -2839\n",
       "\\item -2763\n",
       "\\item -2753\n",
       "\\item -2635\n",
       "\\item -2569\n",
       "\\item -2391\n",
       "\\item -2377\n",
       "\\item -2344\n",
       "\\item -2263\n",
       "\\item -2207\n",
       "\\item -2098\n",
       "\\item -2079\n",
       "\\item -1922\n",
       "\\item -1820\n",
       "\\item -1736\n",
       "\\item -1608\n",
       "\\item -1560\n",
       "\\item -1432\n",
       "\\item -1336\n",
       "\\item -1320\n",
       "\\item -1305\n",
       "\\item -1287\n",
       "\\item -1165\n",
       "\\item -1048\n",
       "\\item -970\n",
       "\\item -958\n",
       "\\item -958\n",
       "\\item -948\n",
       "\\item -925\n",
       "\\item -830\n",
       "\\item -797\n",
       "\\item -763\n",
       "\\item -744\n",
       "\\item -401\n",
       "\\item -372\n",
       "\\item -279\n",
       "\\item -273\n",
       "\\item -188\n",
       "\\item 6\n",
       "\\item 83\n",
       "\\item 87\n",
       "\\item 99\n",
       "\\item 203\n",
       "\\item 211\n",
       "\\item 263\n",
       "\\item 283\n",
       "\\item 357\n",
       "\\item 363\n",
       "\\item 449\n",
       "\\item 459\n",
       "\\item 460\n",
       "\\item 461\n",
       "\\item 560\n",
       "\\item 567\n",
       "\\item 577\n",
       "\\item 589\n",
       "\\item 614\n",
       "\\item 714\n",
       "\\item 723\n",
       "\\item 764\n",
       "\\item 918\n",
       "\\item 939\n",
       "\\item 980\n",
       "\\item 1060\n",
       "\\item 1061\n",
       "\\item 1080\n",
       "\\item 1094\n",
       "\\item 1123\n",
       "\\item 1136\n",
       "\\item 1284\n",
       "\\item 1290\n",
       "\\item 1320\n",
       "\\item 1474\n",
       "\\item 1594\n",
       "\\item 1618\n",
       "\\item 1656\n",
       "\\item 1770\n",
       "\\item 1791\n",
       "\\item 1815\n",
       "\\item 1840\n",
       "\\item 1928\n",
       "\\item 1945\n",
       "\\item 1967\n",
       "\\item 2072\n",
       "\\item 2102\n",
       "\\item 2117\n",
       "\\item 2121\n",
       "\\item 2172\n",
       "\\item 2185\n",
       "\\item 2285\n",
       "\\item 2311\n",
       "\\item 2372\n",
       "\\item 2376\n",
       "\\item 2381\n",
       "\\item 2405\n",
       "\\item 2468\n",
       "\\item 2479\n",
       "\\item 2480\n",
       "\\item 2487\n",
       "\\item 2489\n",
       "\\item 2497\n",
       "\\item 2569\n",
       "\\item 2602\n",
       "\\item 2607\n",
       "\\item 2638\n",
       "\\item 2723\n",
       "\\item 2738\n",
       "\\item 2748\n",
       "\\item 2754\n",
       "\\item 2756\n",
       "\\item 2799\n",
       "\\item 2854\n",
       "\\item 2861\n",
       "\\item 2929\n",
       "\\item 2932\n",
       "\\item 2942\n",
       "\\item 2972\n",
       "\\item 3045\n",
       "\\item 3056\n",
       "\\item 3058\n",
       "\\item 3089\n",
       "\\item 3122\n",
       "\\item 3126\n",
       "\\item 3156\n",
       "\\item 3229\n",
       "\\item 3280\n",
       "\\item 3314\n",
       "\\item 3329\n",
       "\\item 3360\n",
       "\\item 3403\n",
       "\\item 3412\n",
       "\\item 3413\n",
       "\\item 3430\n",
       "\\item 3498\n",
       "\\item 3516\n",
       "\\item 3533\n",
       "\\item 3579\n",
       "\\item 3610\n",
       "\\item 3614\n",
       "\\item 3646\n",
       "\\item 3669\n",
       "\\item 3692\n",
       "\\item 3732\n",
       "\\item 3764\n",
       "\\item 3769\n",
       "\\item 3779\n",
       "\\item 3791\n",
       "\\item 3905\n",
       "\\item 3916\n",
       "\\item 3969\n",
       "\\item 3973\n",
       "\\item 3976\n",
       "\\item 3988\n",
       "\\item 4085\n",
       "\\item 4089\n",
       "\\item 4130\n",
       "\\item 4130\n",
       "\\item 4142\n",
       "\\item 4145\n",
       "\\item 4181\n",
       "\\item 4214\n",
       "\\item 4261\n",
       "\\item 4294\n",
       "\\item 4327\n",
       "\\item 4345\n",
       "\\item 4387\n",
       "\\item 4496\n",
       "\\item 4498\n",
       "\\item 4508\n",
       "\\item 4529\n",
       "\\item 4560\n",
       "\\item 4563\n",
       "\\item 4736\n",
       "\\item 4738\n",
       "\\item 4747\n",
       "\\item 4780\n",
       "\\item 4851\n",
       "\\item 4863\n",
       "\\item 4896\n",
       "\\item 5000\n",
       "\\item 5165\n",
       "\\item 5176\n",
       "\\item 5198\n",
       "\\item 5222\n",
       "\\item 5304\n",
       "\\item 5335\n",
       "\\item 5338\n",
       "\\item 5371\n",
       "\\item 5420\n",
       "\\item 5588\n",
       "\\item 5600\n",
       "\\item 5701\n",
       "\\item 5713\n",
       "\\item 5722\n",
       "\\item 5778\n",
       "\\item 5788\n",
       "\\item 5809\n",
       "\\item 5811\n",
       "\\item 5895\n",
       "\\item 5904\n",
       "\\item 6006\n",
       "\\item 6154\n",
       "\\item 6160\n",
       "\\item 6166\n",
       "\\item 6206\n",
       "\\item 6270\n",
       "\\item 6282\n",
       "\\item 6335\n",
       "\\item 6379\n",
       "\\item 6526\n",
       "\\item 6572\n",
       "\\item 6584\n",
       "\\item 6745\n",
       "\\item 6757\n",
       "\\item 6819\n",
       "\\item 7185\n",
       "\\item 7197\n",
       "\\item 7618\n",
       "\\item 7731\n",
       "\\item 8184\n",
       "\\item 8300\n",
       "\\item 8602\n",
       "\\item 8775\n",
       "\\item 9215\n",
       "\\end{enumerate*}\n"
      ],
      "text/markdown": [
       "1. -6968\n",
       "2. -6711\n",
       "3. -6611\n",
       "4. -6407\n",
       "5. -6035\n",
       "6. -5851\n",
       "7. -5380\n",
       "8. -5204\n",
       "9. -4743\n",
       "10. -4602\n",
       "11. -4569\n",
       "12. -4486\n",
       "13. -4386\n",
       "14. -4182\n",
       "15. -4045\n",
       "16. -3810\n",
       "17. -3686\n",
       "18. -3626\n",
       "19. -3561\n",
       "20. -3429\n",
       "21. -3329\n",
       "22. -3324\n",
       "23. -3196\n",
       "24. -3195\n",
       "25. -3183\n",
       "26. -3155\n",
       "27. -3125\n",
       "28. -3067\n",
       "29. -2979\n",
       "30. -2967\n",
       "31. -2939\n",
       "32. -2839\n",
       "33. -2763\n",
       "34. -2753\n",
       "35. -2635\n",
       "36. -2569\n",
       "37. -2391\n",
       "38. -2377\n",
       "39. -2344\n",
       "40. -2263\n",
       "41. -2207\n",
       "42. -2098\n",
       "43. -2079\n",
       "44. -1922\n",
       "45. -1820\n",
       "46. -1736\n",
       "47. -1608\n",
       "48. -1560\n",
       "49. -1432\n",
       "50. -1336\n",
       "51. -1320\n",
       "52. -1305\n",
       "53. -1287\n",
       "54. -1165\n",
       "55. -1048\n",
       "56. -970\n",
       "57. -958\n",
       "58. -958\n",
       "59. -948\n",
       "60. -925\n",
       "61. -830\n",
       "62. -797\n",
       "63. -763\n",
       "64. -744\n",
       "65. -401\n",
       "66. -372\n",
       "67. -279\n",
       "68. -273\n",
       "69. -188\n",
       "70. 6\n",
       "71. 83\n",
       "72. 87\n",
       "73. 99\n",
       "74. 203\n",
       "75. 211\n",
       "76. 263\n",
       "77. 283\n",
       "78. 357\n",
       "79. 363\n",
       "80. 449\n",
       "81. 459\n",
       "82. 460\n",
       "83. 461\n",
       "84. 560\n",
       "85. 567\n",
       "86. 577\n",
       "87. 589\n",
       "88. 614\n",
       "89. 714\n",
       "90. 723\n",
       "91. 764\n",
       "92. 918\n",
       "93. 939\n",
       "94. 980\n",
       "95. 1060\n",
       "96. 1061\n",
       "97. 1080\n",
       "98. 1094\n",
       "99. 1123\n",
       "100. 1136\n",
       "101. 1284\n",
       "102. 1290\n",
       "103. 1320\n",
       "104. 1474\n",
       "105. 1594\n",
       "106. 1618\n",
       "107. 1656\n",
       "108. 1770\n",
       "109. 1791\n",
       "110. 1815\n",
       "111. 1840\n",
       "112. 1928\n",
       "113. 1945\n",
       "114. 1967\n",
       "115. 2072\n",
       "116. 2102\n",
       "117. 2117\n",
       "118. 2121\n",
       "119. 2172\n",
       "120. 2185\n",
       "121. 2285\n",
       "122. 2311\n",
       "123. 2372\n",
       "124. 2376\n",
       "125. 2381\n",
       "126. 2405\n",
       "127. 2468\n",
       "128. 2479\n",
       "129. 2480\n",
       "130. 2487\n",
       "131. 2489\n",
       "132. 2497\n",
       "133. 2569\n",
       "134. 2602\n",
       "135. 2607\n",
       "136. 2638\n",
       "137. 2723\n",
       "138. 2738\n",
       "139. 2748\n",
       "140. 2754\n",
       "141. 2756\n",
       "142. 2799\n",
       "143. 2854\n",
       "144. 2861\n",
       "145. 2929\n",
       "146. 2932\n",
       "147. 2942\n",
       "148. 2972\n",
       "149. 3045\n",
       "150. 3056\n",
       "151. 3058\n",
       "152. 3089\n",
       "153. 3122\n",
       "154. 3126\n",
       "155. 3156\n",
       "156. 3229\n",
       "157. 3280\n",
       "158. 3314\n",
       "159. 3329\n",
       "160. 3360\n",
       "161. 3403\n",
       "162. 3412\n",
       "163. 3413\n",
       "164. 3430\n",
       "165. 3498\n",
       "166. 3516\n",
       "167. 3533\n",
       "168. 3579\n",
       "169. 3610\n",
       "170. 3614\n",
       "171. 3646\n",
       "172. 3669\n",
       "173. 3692\n",
       "174. 3732\n",
       "175. 3764\n",
       "176. 3769\n",
       "177. 3779\n",
       "178. 3791\n",
       "179. 3905\n",
       "180. 3916\n",
       "181. 3969\n",
       "182. 3973\n",
       "183. 3976\n",
       "184. 3988\n",
       "185. 4085\n",
       "186. 4089\n",
       "187. 4130\n",
       "188. 4130\n",
       "189. 4142\n",
       "190. 4145\n",
       "191. 4181\n",
       "192. 4214\n",
       "193. 4261\n",
       "194. 4294\n",
       "195. 4327\n",
       "196. 4345\n",
       "197. 4387\n",
       "198. 4496\n",
       "199. 4498\n",
       "200. 4508\n",
       "201. 4529\n",
       "202. 4560\n",
       "203. 4563\n",
       "204. 4736\n",
       "205. 4738\n",
       "206. 4747\n",
       "207. 4780\n",
       "208. 4851\n",
       "209. 4863\n",
       "210. 4896\n",
       "211. 5000\n",
       "212. 5165\n",
       "213. 5176\n",
       "214. 5198\n",
       "215. 5222\n",
       "216. 5304\n",
       "217. 5335\n",
       "218. 5338\n",
       "219. 5371\n",
       "220. 5420\n",
       "221. 5588\n",
       "222. 5600\n",
       "223. 5701\n",
       "224. 5713\n",
       "225. 5722\n",
       "226. 5778\n",
       "227. 5788\n",
       "228. 5809\n",
       "229. 5811\n",
       "230. 5895\n",
       "231. 5904\n",
       "232. 6006\n",
       "233. 6154\n",
       "234. 6160\n",
       "235. 6166\n",
       "236. 6206\n",
       "237. 6270\n",
       "238. 6282\n",
       "239. 6335\n",
       "240. 6379\n",
       "241. 6526\n",
       "242. 6572\n",
       "243. 6584\n",
       "244. 6745\n",
       "245. 6757\n",
       "246. 6819\n",
       "247. 7185\n",
       "248. 7197\n",
       "249. 7618\n",
       "250. 7731\n",
       "251. 8184\n",
       "252. 8300\n",
       "253. 8602\n",
       "254. 8775\n",
       "255. 9215\n",
       "\n",
       "\n"
      ],
      "text/plain": [
       "  [1] -6968 -6711 -6611 -6407 -6035 -5851 -5380 -5204 -4743 -4602 -4569 -4486\n",
       " [13] -4386 -4182 -4045 -3810 -3686 -3626 -3561 -3429 -3329 -3324 -3196 -3195\n",
       " [25] -3183 -3155 -3125 -3067 -2979 -2967 -2939 -2839 -2763 -2753 -2635 -2569\n",
       " [37] -2391 -2377 -2344 -2263 -2207 -2098 -2079 -1922 -1820 -1736 -1608 -1560\n",
       " [49] -1432 -1336 -1320 -1305 -1287 -1165 -1048  -970  -958  -958  -948  -925\n",
       " [61]  -830  -797  -763  -744  -401  -372  -279  -273  -188     6    83    87\n",
       " [73]    99   203   211   263   283   357   363   449   459   460   461   560\n",
       " [85]   567   577   589   614   714   723   764   918   939   980  1060  1061\n",
       " [97]  1080  1094  1123  1136  1284  1290  1320  1474  1594  1618  1656  1770\n",
       "[109]  1791  1815  1840  1928  1945  1967  2072  2102  2117  2121  2172  2185\n",
       "[121]  2285  2311  2372  2376  2381  2405  2468  2479  2480  2487  2489  2497\n",
       "[133]  2569  2602  2607  2638  2723  2738  2748  2754  2756  2799  2854  2861\n",
       "[145]  2929  2932  2942  2972  3045  3056  3058  3089  3122  3126  3156  3229\n",
       "[157]  3280  3314  3329  3360  3403  3412  3413  3430  3498  3516  3533  3579\n",
       "[169]  3610  3614  3646  3669  3692  3732  3764  3769  3779  3791  3905  3916\n",
       "[181]  3969  3973  3976  3988  4085  4089  4130  4130  4142  4145  4181  4214\n",
       "[193]  4261  4294  4327  4345  4387  4496  4498  4508  4529  4560  4563  4736\n",
       "[205]  4738  4747  4780  4851  4863  4896  5000  5165  5176  5198  5222  5304\n",
       "[217]  5335  5338  5371  5420  5588  5600  5701  5713  5722  5778  5788  5809\n",
       "[229]  5811  5895  5904  6006  6154  6160  6166  6206  6270  6282  6335  6379\n",
       "[241]  6526  6572  6584  6745  6757  6819  7185  7197  7618  7731  8184  8300\n",
       "[253]  8602  8775  9215"
      ]
     },
     "metadata": {},
     "output_type": "display_data"
    }
   ],
   "source": [
    "ser <- sort(outer(salary2,salary1,'-'))\n",
    "ser"
   ]
  },
  {
   "cell_type": "code",
   "execution_count": 7,
   "metadata": {
    "collapsed": false
   },
   "outputs": [
    {
     "data": {
      "text/html": [
       "76"
      ],
      "text/latex": [
       "76"
      ],
      "text/markdown": [
       "76"
      ],
      "text/plain": [
       "[1] 76"
      ]
     },
     "metadata": {},
     "output_type": "display_data"
    }
   ],
   "source": [
    "qwilcox(0.025,length(salary1),length(salary2))"
   ]
  },
  {
   "cell_type": "code",
   "execution_count": 8,
   "metadata": {
    "collapsed": false
   },
   "outputs": [
    {
     "data": {
      "text/html": [
       "179"
      ],
      "text/latex": [
       "179"
      ],
      "text/markdown": [
       "179"
      ],
      "text/plain": [
       "[1] 179"
      ]
     },
     "metadata": {},
     "output_type": "display_data"
    }
   ],
   "source": [
    "qwilcox(0.975,length(salary1),length(salary2))"
   ]
  },
  {
   "cell_type": "code",
   "execution_count": 9,
   "metadata": {
    "collapsed": false
   },
   "outputs": [
    {
     "data": {
      "text/html": [
       "255"
      ],
      "text/latex": [
       "255"
      ],
      "text/markdown": [
       "255"
      ],
      "text/plain": [
       "[1] 255"
      ]
     },
     "metadata": {},
     "output_type": "display_data"
    }
   ],
   "source": [
    "length(ser)"
   ]
  },
  {
   "cell_type": "code",
   "execution_count": 12,
   "metadata": {
    "collapsed": false
   },
   "outputs": [
    {
     "data": {
      "text/html": [
       "<ol>\n",
       "\t<li>263</li>\n",
       "\t<li>3905</li>\n",
       "</ol>\n"
      ],
      "text/latex": [
       "\\begin{enumerate}\n",
       "\\item 263\n",
       "\\item 3905\n",
       "\\end{enumerate}\n"
      ],
      "text/markdown": [
       "1. 263\n",
       "2. 3905\n",
       "\n",
       "\n"
      ],
      "text/plain": [
       "[[1]]\n",
       "[1] 263\n",
       "\n",
       "[[2]]\n",
       "[1] 3905\n"
      ]
     },
     "metadata": {},
     "output_type": "display_data"
    }
   ],
   "source": [
    "list(ser[76],ser[179])"
   ]
  },
  {
   "cell_type": "markdown",
   "metadata": {},
   "source": [
    "上面其实设定的是$-\\theta$值，故其实是$Y$比$X$大的参数的置信区间。$X - Y = \\theta,Y - X = -\\theta$\n",
    "\n",
    "所以...wilcoxon的置信区间比Brown-Mood的还大？当然两者p值差不了多少，而且前者因为+-1误差更敏感低估也容易发生这种情况。\n",
    "\n",
    "点估计就是直接取中位数了，这里的点估计是从使得假设检验最不容易被拒绝的角度来构造的。"
   ]
  },
  {
   "cell_type": "code",
   "execution_count": 16,
   "metadata": {
    "collapsed": false
   },
   "outputs": [
    {
     "data": {
      "text/html": [
       "2479"
      ],
      "text/latex": [
       "2479"
      ],
      "text/markdown": [
       "2479"
      ],
      "text/plain": [
       "[1] 2479"
      ]
     },
     "metadata": {},
     "output_type": "display_data"
    }
   ],
   "source": [
    "median(ser)"
   ]
  },
  {
   "cell_type": "markdown",
   "metadata": {},
   "source": [
    "## 正态记分检验\n",
    "\n",
    "按单样本情况类似的思想，我们均匀采样于区间$[0,1]$，然后经逆标准正态分布函数得到正态分布上的采样点。"
   ]
  },
  {
   "cell_type": "code",
   "execution_count": 17,
   "metadata": {
    "collapsed": false
   },
   "outputs": [
    {
     "data": {
      "image/png": "[encoded data removed]",
      "text/plain": [
       "plot without title"
      ]
     },
     "metadata": {},
     "output_type": "display_data"
    }
   ],
   "source": [
    "x <- seq(-3,3,0.01)\n",
    "q2 <- seq(0,1,0.025)\n",
    "x2 <- qnorm(q2,0,1)\n",
    "plot(x,dnorm(x,0,1),type=\"l\")\n",
    "points(x2,rep(0,length(x2)))"
   ]
  },
  {
   "cell_type": "markdown",
   "metadata": {},
   "source": [
    "然后我们将这些采样点按秩进行对应。秩最小的对应最小的采样点之类的。所以在原假设下采样点的一种特定分配之间是等概率的。不联合的看，\n",
    "每个点是分配到样本$X$还是$Y$的边际分布是伯努利的，p由$m,n$的比例情况决定。\n",
    "\n",
    "这样，我们就搞出了类似之前正态记分赋予随机+-1的随机性。不过这与恒等记分的$W_X$与阈值记分的$A_{11}$除了记分方式外有什么本质区别吗？\n",
    "它近似正态分布更快吗？（其他那几个显然也是渐进正态分布）。也许吧。\n"
   ]
  },
  {
   "cell_type": "code",
   "execution_count": 23,
   "metadata": {
    "collapsed": false
   },
   "outputs": [
    {
     "data": {
      "text/html": [
       "<ol class=list-inline>\n",
       "\t<li>-1.87635856189459</li>\n",
       "\t<li>-1.54970590073659</li>\n",
       "\t<li>-1.33517773611894</li>\n",
       "\t<li>-1.16894884453148</li>\n",
       "\t<li>-1.02995676222537</li>\n",
       "\t<li>-0.908457868537385</li>\n",
       "\t<li>-0.799082762135179</li>\n",
       "\t<li>-0.69852571034506</li>\n",
       "\t<li>-0.604585346583237</li>\n",
       "\t<li>-0.515704793693038</li>\n",
       "\t<li>-0.430727299295457</li>\n",
       "\t<li>0.114185294321428</li>\n",
       "\t<li>0.604585346583237</li>\n",
       "\t<li>0.69852571034506</li>\n",
       "\t<li>0.908457868537385</li>\n",
       "\t<li>1.33517773611894</li>\n",
       "\t<li>1.87635856189459</li>\n",
       "</ol>\n"
      ],
      "text/latex": [
       "\\begin{enumerate*}\n",
       "\\item -1.87635856189459\n",
       "\\item -1.54970590073659\n",
       "\\item -1.33517773611894\n",
       "\\item -1.16894884453148\n",
       "\\item -1.02995676222537\n",
       "\\item -0.908457868537385\n",
       "\\item -0.799082762135179\n",
       "\\item -0.69852571034506\n",
       "\\item -0.604585346583237\n",
       "\\item -0.515704793693038\n",
       "\\item -0.430727299295457\n",
       "\\item 0.114185294321428\n",
       "\\item 0.604585346583237\n",
       "\\item 0.69852571034506\n",
       "\\item 0.908457868537385\n",
       "\\item 1.33517773611894\n",
       "\\item 1.87635856189459\n",
       "\\end{enumerate*}\n"
      ],
      "text/markdown": [
       "1. -1.87635856189459\n",
       "2. -1.54970590073659\n",
       "3. -1.33517773611894\n",
       "4. -1.16894884453148\n",
       "5. -1.02995676222537\n",
       "6. -0.908457868537385\n",
       "7. -0.799082762135179\n",
       "8. -0.69852571034506\n",
       "9. -0.604585346583237\n",
       "10. -0.515704793693038\n",
       "11. -0.430727299295457\n",
       "12. 0.114185294321428\n",
       "13. 0.604585346583237\n",
       "14. 0.69852571034506\n",
       "15. 0.908457868537385\n",
       "16. 1.33517773611894\n",
       "17. 1.87635856189459\n",
       "\n",
       "\n"
      ],
      "text/plain": [
       " [1] -1.8763586 -1.5497059 -1.3351777 -1.1689488 -1.0299568 -0.9084579\n",
       " [7] -0.7990828 -0.6985257 -0.6045853 -0.5157048 -0.4307273  0.1141853\n",
       "[13]  0.6045853  0.6985257  0.9084579  1.3351777  1.8763586"
      ]
     },
     "metadata": {},
     "output_type": "display_data"
    }
   ],
   "source": [
    "salary <- c(salary1,salary2)\n",
    "w <- qnorm(rank(salary)/(m+n+1))\n",
    "w1 <- w[1:length(salary1)]\n",
    "w1"
   ]
  },
  {
   "cell_type": "code",
   "execution_count": 27,
   "metadata": {
    "collapsed": false
   },
   "outputs": [
    {
     "data": {
      "text/html": [
       "<ol>\n",
       "\t<li>-5.37994106829569</li>\n",
       "\t<li>1.61236497792153</li>\n",
       "</ol>\n"
      ],
      "text/latex": [
       "\\begin{enumerate}\n",
       "\\item -5.37994106829569\n",
       "\\item 1.61236497792153\n",
       "\\end{enumerate}\n"
      ],
      "text/markdown": [
       "1. -5.37994106829569\n",
       "2. 1.61236497792153\n",
       "\n",
       "\n"
      ],
      "text/plain": [
       "[[1]]\n",
       "[1] -5.379941\n",
       "\n",
       "[[2]]\n",
       "[1] 1.612365\n"
      ]
     },
     "metadata": {},
     "output_type": "display_data"
    }
   ],
   "source": [
    "T <- sum(w1)\n",
    "S2 <- (m*n*sum(w^2))/((m+n-1)*(m+n))\n",
    "S <- sqrt(S)\n",
    "list(T,S)"
   ]
  },
  {
   "cell_type": "code",
   "execution_count": 28,
   "metadata": {
    "collapsed": false
   },
   "outputs": [
    {
     "data": {
      "text/html": [
       "-3.33667695711851"
      ],
      "text/latex": [
       "-3.33667695711851"
      ],
      "text/markdown": [
       "-3.33667695711851"
      ],
      "text/plain": [
       "[1] -3.336677"
      ]
     },
     "metadata": {},
     "output_type": "display_data"
    }
   ],
   "source": [
    "Z <- T/S\n",
    "Z"
   ]
  },
  {
   "cell_type": "code",
   "execution_count": 26,
   "metadata": {
    "collapsed": false
   },
   "outputs": [
    {
     "data": {
      "text/html": [
       "0.0192528623175381"
      ],
      "text/latex": [
       "0.0192528623175381"
      ],
      "text/markdown": [
       "0.0192528623175381"
      ],
      "text/plain": [
       "[1] 0.01925286"
      ]
     },
     "metadata": {},
     "output_type": "display_data"
    }
   ],
   "source": [
    "pnorm(Z)"
   ]
  },
  {
   "cell_type": "markdown",
   "metadata": {},
   "source": [
    "## 成对数据问题\n",
    "\n",
    "容易看出，成对数据取差之后，就转化回了单样本问题。"
   ]
  },
  {
   "cell_type": "code",
   "execution_count": null,
   "metadata": {
    "collapsed": true
   },
   "outputs": [],
   "source": []
  }
 ],
 "metadata": {
  "anaconda-cloud": {},
  "kernelspec": {
   "display_name": "R 3.3",
   "language": "R",
   "name": "ir33"
  },
  "language_info": {
   "codemirror_mode": "r",
   "file_extension": ".r",
   "mimetype": "text/x-r-source",
   "name": "R",
   "pygments_lexer": "r",
   "version": "3.3.1"
  }
 },
 "nbformat": 4,
 "nbformat_minor": 0
}
