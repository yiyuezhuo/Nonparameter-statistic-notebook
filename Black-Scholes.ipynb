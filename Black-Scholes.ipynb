{
 "cells": [
  {
   "cell_type": "markdown",
   "metadata": {},
   "source": [
    "# 一阶段定价模型\n",
    "\n",
    "设有0,1两期。设股价在$0$期为$S$，设在1期有概率分为两种情况，上升情况下取$uS$，概率为$q$，下降情况为$dS$，概率为$1-q$。满足$u > 1 > d$。\n",
    "无风险利率为$r$，设$R = 1 + r$简化公式。设$C_u = \\max(0,uS - K),C_d = \\max(0,dS - K)$其中$K$是期权标出的执行价格。\n",
    "取$\\max(0,x)$是因为可以不执行。\n",
    "\n",
    "容易想到的一个期权定价方法是$C = (C_u q + C_d q)R^{-1}$，即1期期望收益折现到现期为价格。这个定价方法的缺陷是没有考虑波动元素，\n",
    "对于投资期权来说，期权收益本身波动还是小更受偏好（然而对应股价的波动却是越大期权收益越高，同时方差也增长的比“相应水平”低）。\n",
    "\n",
    "我们希望从期望与方差相称个各个二元组中选择一个为期权定价。每指定一个定价$C$，显然可以得到一个收益率期望和收益率方差。定价取得越高，\n",
    "收益率期望下降，方差则不一定。\n",
    "\n",
    "我们对它与资本市场线的关系特别感兴趣，因为资本市场线上的所有点似乎反映了某种意义上公平的收益期望与标准差的比例。"
   ]
  },
  {
   "cell_type": "code",
   "execution_count": 22,
   "metadata": {
    "collapsed": true
   },
   "outputs": [],
   "source": [
    "R_f <- 0.05\n",
    "beta <- 0.1\n",
    "\n",
    "sigma <- seq(0,3,0.1)\n",
    "expect <- R_f + beta * sigma"
   ]
  },
  {
   "cell_type": "code",
   "execution_count": 10,
   "metadata": {
    "collapsed": false
   },
   "outputs": [],
   "source": [
    "S <- 10\n",
    "u <- 1.1\n",
    "d <- 0.9\n",
    "K <- 10.5\n",
    "\n",
    "C_u <- max(0,S*u - K)\n",
    "C_d <- max(0,S*d - K)\n",
    "\n",
    "q <- 0.45\n",
    "R <- 1.05\n",
    "\n",
    "ES1 <- C_u * q + C_d * (1-q)\n",
    "VarS1 <- C_u^2 * q + C_d^2 * (1-q) - ES1^2\n",
    "\n"
   ]
  },
  {
   "cell_type": "code",
   "execution_count": 11,
   "metadata": {
    "collapsed": false
   },
   "outputs": [
    {
     "data": {
      "text/html": [
       "0.225"
      ],
      "text/latex": [
       "0.225"
      ],
      "text/markdown": [
       "0.225"
      ],
      "text/plain": [
       "[1] 0.225"
      ]
     },
     "metadata": {},
     "output_type": "display_data"
    }
   ],
   "source": [
    "ES1"
   ]
  },
  {
   "cell_type": "code",
   "execution_count": 12,
   "metadata": {
    "collapsed": false
   },
   "outputs": [
    {
     "data": {
      "text/html": [
       "0.061875"
      ],
      "text/latex": [
       "0.061875"
      ],
      "text/markdown": [
       "0.061875"
      ],
      "text/plain": [
       "[1] 0.061875"
      ]
     },
     "metadata": {},
     "output_type": "display_data"
    }
   ],
   "source": [
    "VarS1"
   ]
  },
  {
   "cell_type": "code",
   "execution_count": 13,
   "metadata": {
    "collapsed": false
   },
   "outputs": [
    {
     "data": {
      "text/html": [
       "0.214285714285714"
      ],
      "text/latex": [
       "0.214285714285714"
      ],
      "text/markdown": [
       "0.214285714285714"
      ],
      "text/plain": [
       "[1] 0.2142857"
      ]
     },
     "metadata": {},
     "output_type": "display_data"
    }
   ],
   "source": [
    "ES1/R"
   ]
  },
  {
   "cell_type": "code",
   "execution_count": 16,
   "metadata": {
    "collapsed": true
   },
   "outputs": [],
   "source": [
    "C <- seq(0.1,1,0.01)\n",
    "\n",
    "r_u <- (C_u - C)/C\n",
    "r_d <- (C_d - C)/C\n",
    "\n",
    "Er <- r_u * q + r_d * (1-q)\n",
    "Varr <- r_u^2 * q + r_d^2 * (1-q) - Er^2\n",
    "Sdr <- sqrt(Varr)"
   ]
  },
  {
   "cell_type": "code",
   "execution_count": 24,
   "metadata": {
    "collapsed": false
   },
   "outputs": [
    {
     "data": {
      "text/html": [
       "<ol class=list-inline>\n",
       "\t<li>1.25</li>\n",
       "\t<li>1.04545454545455</li>\n",
       "\t<li>0.875</li>\n",
       "\t<li>0.730769230769231</li>\n",
       "\t<li>0.607142857142857</li>\n",
       "\t<li>0.5</li>\n",
       "</ol>\n"
      ],
      "text/latex": [
       "\\begin{enumerate*}\n",
       "\\item 1.25\n",
       "\\item 1.04545454545455\n",
       "\\item 0.875\n",
       "\\item 0.730769230769231\n",
       "\\item 0.607142857142857\n",
       "\\item 0.5\n",
       "\\end{enumerate*}\n"
      ],
      "text/markdown": [
       "1. 1.25\n",
       "2. 1.04545454545455\n",
       "3. 0.875\n",
       "4. 0.730769230769231\n",
       "5. 0.607142857142857\n",
       "6. 0.5\n",
       "\n",
       "\n"
      ],
      "text/plain": [
       "[1] 1.2500000 1.0454545 0.8750000 0.7307692 0.6071429 0.5000000"
      ]
     },
     "metadata": {},
     "output_type": "display_data"
    }
   ],
   "source": [
    "head(Er)"
   ]
  },
  {
   "cell_type": "code",
   "execution_count": 25,
   "metadata": {
    "collapsed": false
   },
   "outputs": [
    {
     "data": {
      "text/html": [
       "<ol class=list-inline>\n",
       "\t<li>2.48746859276655</li>\n",
       "\t<li>2.26133508433323</li>\n",
       "\t<li>2.07289049397212</li>\n",
       "\t<li>1.91343737905119</li>\n",
       "\t<li>1.77676328054754</li>\n",
       "\t<li>1.6583123951777</li>\n",
       "</ol>\n"
      ],
      "text/latex": [
       "\\begin{enumerate*}\n",
       "\\item 2.48746859276655\n",
       "\\item 2.26133508433323\n",
       "\\item 2.07289049397212\n",
       "\\item 1.91343737905119\n",
       "\\item 1.77676328054754\n",
       "\\item 1.6583123951777\n",
       "\\end{enumerate*}\n"
      ],
      "text/markdown": [
       "1. 2.48746859276655\n",
       "2. 2.26133508433323\n",
       "3. 2.07289049397212\n",
       "4. 1.91343737905119\n",
       "5. 1.77676328054754\n",
       "6. 1.6583123951777\n",
       "\n",
       "\n"
      ],
      "text/plain": [
       "[1] 2.487469 2.261335 2.072890 1.913437 1.776763 1.658312"
      ]
     },
     "metadata": {},
     "output_type": "display_data"
    }
   ],
   "source": [
    "head(Sdr)"
   ]
  },
  {
   "cell_type": "code",
   "execution_count": 23,
   "metadata": {
    "collapsed": false
   },
   "outputs": [
    {
     "data": {
      "image/png": "[encoded data removed]",
      "text/plain": [
       "plot without title"
      ]
     },
     "metadata": {},
     "output_type": "display_data"
    }
   ],
   "source": [
    "plot(sigma,expect,'l')\n",
    "lines(Sdr,Er)"
   ]
  },
  {
   "cell_type": "code",
   "execution_count": 32,
   "metadata": {
    "collapsed": false
   },
   "outputs": [
    {
     "data": {
      "text/html": [
       "<dl class=dl-horizontal>\n",
       "\t<dt>(Intercept)</dt>\n",
       "\t\t<dd>-1</dd>\n",
       "\t<dt>Sdr</dt>\n",
       "\t\t<dd>0.90453403373329</dd>\n",
       "</dl>\n"
      ],
      "text/latex": [
       "\\begin{description*}\n",
       "\\item[(Intercept)] -1\n",
       "\\item[Sdr] 0.90453403373329\n",
       "\\end{description*}\n"
      ],
      "text/markdown": [
       "(Intercept)\n",
       ":   -1Sdr\n",
       ":   0.90453403373329\n",
       "\n"
      ],
      "text/plain": [
       "(Intercept)         Sdr \n",
       "  -1.000000    0.904534 "
      ]
     },
     "metadata": {},
     "output_type": "display_data"
    }
   ],
   "source": [
    "mod <- lm(Er ~ Sdr , data=data.frame(Sdr = Sdr, Er = Er))\n",
    "coef <- mod$coefficients\n",
    "\n",
    "coef"
   ]
  },
  {
   "cell_type": "markdown",
   "metadata": {},
   "source": [
    "$$\n",
    "\\begin{cases}\n",
    "&r_f + &\\beta x  &= y \\\\\n",
    "&b_0 + &b_1 x &= y\n",
    "\\end{cases}\n",
    "$$"
   ]
  },
  {
   "cell_type": "code",
   "execution_count": 36,
   "metadata": {
    "collapsed": false
   },
   "outputs": [
    {
     "data": {
      "text/html": [
       "<ol class=list-inline>\n",
       "\t<li>0.180510327217317</li>\n",
       "\t<li>1.30510327217317</li>\n",
       "</ol>\n"
      ],
      "text/latex": [
       "\\begin{enumerate*}\n",
       "\\item 0.180510327217317\n",
       "\\item 1.30510327217317\n",
       "\\end{enumerate*}\n"
      ],
      "text/markdown": [
       "1. 0.180510327217317\n",
       "2. 1.30510327217317\n",
       "\n",
       "\n"
      ],
      "text/plain": [
       "[1] 0.1805103 1.3051033"
      ]
     },
     "metadata": {},
     "output_type": "display_data"
    }
   ],
   "source": [
    "solve(matrix(c(1,1,-beta,-coef[2]),2),c(R_f,coef[1]))"
   ]
  },
  {
   "cell_type": "code",
   "execution_count": 37,
   "metadata": {
    "collapsed": false
   },
   "outputs": [
    {
     "data": {
      "text/html": [
       "<ol class=list-inline>\n",
       "\t<li>0.1</li>\n",
       "\t<li>0.11</li>\n",
       "\t<li>0.12</li>\n",
       "\t<li>0.13</li>\n",
       "\t<li>0.14</li>\n",
       "\t<li>0.15</li>\n",
       "\t<li>0.16</li>\n",
       "\t<li>0.17</li>\n",
       "\t<li>0.18</li>\n",
       "\t<li>0.19</li>\n",
       "\t<li>0.2</li>\n",
       "\t<li>0.21</li>\n",
       "\t<li>0.22</li>\n",
       "\t<li>0.23</li>\n",
       "\t<li>0.24</li>\n",
       "\t<li>0.25</li>\n",
       "\t<li>0.26</li>\n",
       "\t<li>0.27</li>\n",
       "\t<li>0.28</li>\n",
       "\t<li>0.29</li>\n",
       "\t<li>0.3</li>\n",
       "\t<li>0.31</li>\n",
       "\t<li>0.32</li>\n",
       "\t<li>0.33</li>\n",
       "\t<li>0.34</li>\n",
       "\t<li>0.35</li>\n",
       "\t<li>0.36</li>\n",
       "\t<li>0.37</li>\n",
       "\t<li>0.38</li>\n",
       "\t<li>0.39</li>\n",
       "\t<li>0.4</li>\n",
       "\t<li>0.41</li>\n",
       "\t<li>0.42</li>\n",
       "\t<li>0.43</li>\n",
       "\t<li>0.44</li>\n",
       "\t<li>0.45</li>\n",
       "\t<li>0.46</li>\n",
       "\t<li>0.47</li>\n",
       "\t<li>0.48</li>\n",
       "\t<li>0.49</li>\n",
       "\t<li>0.5</li>\n",
       "\t<li>0.51</li>\n",
       "\t<li>0.52</li>\n",
       "\t<li>0.53</li>\n",
       "\t<li>0.54</li>\n",
       "\t<li>0.55</li>\n",
       "\t<li>0.56</li>\n",
       "\t<li>0.57</li>\n",
       "\t<li>0.58</li>\n",
       "\t<li>0.59</li>\n",
       "\t<li>0.6</li>\n",
       "\t<li>0.61</li>\n",
       "\t<li>0.62</li>\n",
       "\t<li>0.63</li>\n",
       "\t<li>0.64</li>\n",
       "\t<li>0.65</li>\n",
       "\t<li>0.66</li>\n",
       "\t<li>0.67</li>\n",
       "\t<li>0.68</li>\n",
       "\t<li>0.69</li>\n",
       "\t<li>0.7</li>\n",
       "\t<li>0.71</li>\n",
       "\t<li>0.72</li>\n",
       "\t<li>0.73</li>\n",
       "\t<li>0.74</li>\n",
       "\t<li>0.75</li>\n",
       "\t<li>0.76</li>\n",
       "\t<li>0.77</li>\n",
       "\t<li>0.78</li>\n",
       "\t<li>0.79</li>\n",
       "\t<li>0.8</li>\n",
       "\t<li>0.81</li>\n",
       "\t<li>0.82</li>\n",
       "\t<li>0.83</li>\n",
       "\t<li>0.84</li>\n",
       "\t<li>0.85</li>\n",
       "\t<li>0.86</li>\n",
       "\t<li>0.87</li>\n",
       "\t<li>0.88</li>\n",
       "\t<li>0.89</li>\n",
       "\t<li>0.9</li>\n",
       "\t<li>0.91</li>\n",
       "\t<li>0.92</li>\n",
       "\t<li>0.93</li>\n",
       "\t<li>0.94</li>\n",
       "\t<li>0.95</li>\n",
       "\t<li>0.96</li>\n",
       "\t<li>0.97</li>\n",
       "\t<li>0.98</li>\n",
       "\t<li>0.99</li>\n",
       "\t<li>1</li>\n",
       "</ol>\n"
      ],
      "text/latex": [
       "\\begin{enumerate*}\n",
       "\\item 0.1\n",
       "\\item 0.11\n",
       "\\item 0.12\n",
       "\\item 0.13\n",
       "\\item 0.14\n",
       "\\item 0.15\n",
       "\\item 0.16\n",
       "\\item 0.17\n",
       "\\item 0.18\n",
       "\\item 0.19\n",
       "\\item 0.2\n",
       "\\item 0.21\n",
       "\\item 0.22\n",
       "\\item 0.23\n",
       "\\item 0.24\n",
       "\\item 0.25\n",
       "\\item 0.26\n",
       "\\item 0.27\n",
       "\\item 0.28\n",
       "\\item 0.29\n",
       "\\item 0.3\n",
       "\\item 0.31\n",
       "\\item 0.32\n",
       "\\item 0.33\n",
       "\\item 0.34\n",
       "\\item 0.35\n",
       "\\item 0.36\n",
       "\\item 0.37\n",
       "\\item 0.38\n",
       "\\item 0.39\n",
       "\\item 0.4\n",
       "\\item 0.41\n",
       "\\item 0.42\n",
       "\\item 0.43\n",
       "\\item 0.44\n",
       "\\item 0.45\n",
       "\\item 0.46\n",
       "\\item 0.47\n",
       "\\item 0.48\n",
       "\\item 0.49\n",
       "\\item 0.5\n",
       "\\item 0.51\n",
       "\\item 0.52\n",
       "\\item 0.53\n",
       "\\item 0.54\n",
       "\\item 0.55\n",
       "\\item 0.56\n",
       "\\item 0.57\n",
       "\\item 0.58\n",
       "\\item 0.59\n",
       "\\item 0.6\n",
       "\\item 0.61\n",
       "\\item 0.62\n",
       "\\item 0.63\n",
       "\\item 0.64\n",
       "\\item 0.65\n",
       "\\item 0.66\n",
       "\\item 0.67\n",
       "\\item 0.68\n",
       "\\item 0.69\n",
       "\\item 0.7\n",
       "\\item 0.71\n",
       "\\item 0.72\n",
       "\\item 0.73\n",
       "\\item 0.74\n",
       "\\item 0.75\n",
       "\\item 0.76\n",
       "\\item 0.77\n",
       "\\item 0.78\n",
       "\\item 0.79\n",
       "\\item 0.8\n",
       "\\item 0.81\n",
       "\\item 0.82\n",
       "\\item 0.83\n",
       "\\item 0.84\n",
       "\\item 0.85\n",
       "\\item 0.86\n",
       "\\item 0.87\n",
       "\\item 0.88\n",
       "\\item 0.89\n",
       "\\item 0.9\n",
       "\\item 0.91\n",
       "\\item 0.92\n",
       "\\item 0.93\n",
       "\\item 0.94\n",
       "\\item 0.95\n",
       "\\item 0.96\n",
       "\\item 0.97\n",
       "\\item 0.98\n",
       "\\item 0.99\n",
       "\\item 1\n",
       "\\end{enumerate*}\n"
      ],
      "text/markdown": [
       "1. 0.1\n",
       "2. 0.11\n",
       "3. 0.12\n",
       "4. 0.13\n",
       "5. 0.14\n",
       "6. 0.15\n",
       "7. 0.16\n",
       "8. 0.17\n",
       "9. 0.18\n",
       "10. 0.19\n",
       "11. 0.2\n",
       "12. 0.21\n",
       "13. 0.22\n",
       "14. 0.23\n",
       "15. 0.24\n",
       "16. 0.25\n",
       "17. 0.26\n",
       "18. 0.27\n",
       "19. 0.28\n",
       "20. 0.29\n",
       "21. 0.3\n",
       "22. 0.31\n",
       "23. 0.32\n",
       "24. 0.33\n",
       "25. 0.34\n",
       "26. 0.35\n",
       "27. 0.36\n",
       "28. 0.37\n",
       "29. 0.38\n",
       "30. 0.39\n",
       "31. 0.4\n",
       "32. 0.41\n",
       "33. 0.42\n",
       "34. 0.43\n",
       "35. 0.44\n",
       "36. 0.45\n",
       "37. 0.46\n",
       "38. 0.47\n",
       "39. 0.48\n",
       "40. 0.49\n",
       "41. 0.5\n",
       "42. 0.51\n",
       "43. 0.52\n",
       "44. 0.53\n",
       "45. 0.54\n",
       "46. 0.55\n",
       "47. 0.56\n",
       "48. 0.57\n",
       "49. 0.58\n",
       "50. 0.59\n",
       "51. 0.6\n",
       "52. 0.61\n",
       "53. 0.62\n",
       "54. 0.63\n",
       "55. 0.64\n",
       "56. 0.65\n",
       "57. 0.66\n",
       "58. 0.67\n",
       "59. 0.68\n",
       "60. 0.69\n",
       "61. 0.7\n",
       "62. 0.71\n",
       "63. 0.72\n",
       "64. 0.73\n",
       "65. 0.74\n",
       "66. 0.75\n",
       "67. 0.76\n",
       "68. 0.77\n",
       "69. 0.78\n",
       "70. 0.79\n",
       "71. 0.8\n",
       "72. 0.81\n",
       "73. 0.82\n",
       "74. 0.83\n",
       "75. 0.84\n",
       "76. 0.85\n",
       "77. 0.86\n",
       "78. 0.87\n",
       "79. 0.88\n",
       "80. 0.89\n",
       "81. 0.9\n",
       "82. 0.91\n",
       "83. 0.92\n",
       "84. 0.93\n",
       "85. 0.94\n",
       "86. 0.95\n",
       "87. 0.96\n",
       "88. 0.97\n",
       "89. 0.98\n",
       "90. 0.99\n",
       "91. 1\n",
       "\n",
       "\n"
      ],
      "text/plain": [
       " [1] 0.10 0.11 0.12 0.13 0.14 0.15 0.16 0.17 0.18 0.19 0.20 0.21 0.22 0.23 0.24\n",
       "[16] 0.25 0.26 0.27 0.28 0.29 0.30 0.31 0.32 0.33 0.34 0.35 0.36 0.37 0.38 0.39\n",
       "[31] 0.40 0.41 0.42 0.43 0.44 0.45 0.46 0.47 0.48 0.49 0.50 0.51 0.52 0.53 0.54\n",
       "[46] 0.55 0.56 0.57 0.58 0.59 0.60 0.61 0.62 0.63 0.64 0.65 0.66 0.67 0.68 0.69\n",
       "[61] 0.70 0.71 0.72 0.73 0.74 0.75 0.76 0.77 0.78 0.79 0.80 0.81 0.82 0.83 0.84\n",
       "[76] 0.85 0.86 0.87 0.88 0.89 0.90 0.91 0.92 0.93 0.94 0.95 0.96 0.97 0.98 0.99\n",
       "[91] 1.00"
      ]
     },
     "metadata": {},
     "output_type": "display_data"
    }
   ],
   "source": [
    "C"
   ]
  },
  {
   "cell_type": "code",
   "execution_count": 42,
   "metadata": {
    "collapsed": false
   },
   "outputs": [
    {
     "data": {
      "text/html": [
       "0.19"
      ],
      "text/latex": [
       "0.19"
      ],
      "text/markdown": [
       "0.19"
      ],
      "text/plain": [
       "[1] 0.19"
      ]
     },
     "metadata": {},
     "output_type": "display_data"
    }
   ],
   "source": [
    "C[which(abs(Er - 0.18) == min(abs(Er - 0.18)))]"
   ]
  },
  {
   "cell_type": "markdown",
   "metadata": {},
   "source": [
    "可以看到根据与资本市场线交点原则推导出来的定价大约为0.19（偏低一点），比直接折价的0.214低。这是因为为了抵偿其风险，\n",
    "必须降低定价以提供风险溢价（0.214那个是零溢价）直到“公平”的程度，比如资本市场线给定的水平。\n",
    "\n",
    "假如资本市场线只由无风险利率（债券）和一家股票（期权面向的那家）所生成。我们可以完全仿照上面的方法进行定价。或者再换一个原则，\n",
    "该原则要求期权的定价使得期初与期末价值在股价可能出现的所有情况中，与债券和股票的某种组合相同。由于所有这些组合在资本市场线上，\n",
    "所以都是“公平”的，所以所有情况下的期权也是“公平”的（因为仅从随机变量特性上看，是区分不了如此定价的期权和某个债券股票组合的。\n",
    "它们当然共享相同的期末价值期望与方差，也共享相同的收益率期望与标准差，从而使得如此定价的期权也在资本市场线上。\n",
    "\n",
    "由于上面的图似乎告诉我们资本市场线与期权的那个线只可能有一个交点（证明只需要推导出那个线是线性的即可，挺麻烦的就不证了），\n",
    "所以只有一个定价可以使得期权具有与资本市场线相同的收益率期望，标准差对。由于上面原则下求出的定价也有这个性质。\n",
    "所以两个原则给出的应该是相同的定价。\n",
    "\n",
    "虽然求出来的是相同的，但它们的计算过程不同，也许后者更简单一点，这就是广为所知的期权定价公式。\n",
    "\n",
    "# 多阶段期权定价公式\n",
    "\n",
    "## 价值树叶重合观点\n",
    "\n",
    "二项式模型下的股价张开一个树，从初始向终止，节点每“层”增加一个。每个状态的函数，如那个状态的股价可以定义出一个（节点带一个值）的树。\n",
    "其中$q$的改变可以生成不同的当前层概率树（树节点上的数表示转移到当前层时转移到本节点的概率。）。但对股价状态树没有影响。\n",
    "对于股票和债券的组合而言，不同的购入股数和债券数也产生不同的价值树，$q$的改变并不影响价值树，而是会影响各层价值或收益率的期望和方差等。\n",
    "对于期权也可以根据$K，C$产生不同的价值树。$q$同样不影响期权的价值数。\n",
    "\n",
    "让我们展开一些树看看"
   ]
  },
  {
   "cell_type": "code",
   "execution_count": 71,
   "metadata": {
    "collapsed": false
   },
   "outputs": [
    {
     "data": {
      "text/html": [
       "<table>\n",
       "<tbody>\n",
       "\t<tr><td>10       </td><td> 9       </td><td> 8.1     </td><td> 7.29    </td><td> 6.561   </td><td> 5.9049  </td><td> 5.31441 </td><td> 4.782969</td><td> 4.304672</td><td> 3.874205</td></tr>\n",
       "\t<tr><td>NA       </td><td>11       </td><td> 9.9     </td><td> 8.91    </td><td> 8.019   </td><td> 7.2171  </td><td> 6.49539 </td><td> 5.845851</td><td> 5.261266</td><td> 4.735139</td></tr>\n",
       "\t<tr><td>NA       </td><td>NA       </td><td>12.1     </td><td>10.89    </td><td> 9.801   </td><td> 8.8209  </td><td> 7.93881 </td><td> 7.144929</td><td> 6.430436</td><td> 5.787392</td></tr>\n",
       "\t<tr><td>NA       </td><td>NA       </td><td>  NA     </td><td>13.31    </td><td>11.979   </td><td>10.7811  </td><td> 9.70299 </td><td> 8.732691</td><td> 7.859422</td><td> 7.073480</td></tr>\n",
       "\t<tr><td>NA       </td><td>NA       </td><td>  NA     </td><td>   NA    </td><td>14.641   </td><td>13.1769  </td><td>11.85921 </td><td>10.673289</td><td> 9.605960</td><td> 8.645364</td></tr>\n",
       "\t<tr><td>NA       </td><td>NA       </td><td>  NA     </td><td>   NA    </td><td>    NA   </td><td>16.1051  </td><td>14.49459 </td><td>13.045131</td><td>11.740618</td><td>10.566556</td></tr>\n",
       "\t<tr><td>NA       </td><td>NA       </td><td>  NA     </td><td>   NA    </td><td>    NA   </td><td>     NA  </td><td>17.71561 </td><td>15.944049</td><td>14.349644</td><td>12.914680</td></tr>\n",
       "\t<tr><td>NA       </td><td>NA       </td><td>  NA     </td><td>   NA    </td><td>    NA   </td><td>     NA  </td><td>      NA </td><td>19.487171</td><td>17.538454</td><td>15.784609</td></tr>\n",
       "\t<tr><td>NA       </td><td>NA       </td><td>  NA     </td><td>   NA    </td><td>    NA   </td><td>     NA  </td><td>      NA </td><td>       NA</td><td>21.435888</td><td>19.292299</td></tr>\n",
       "\t<tr><td>NA       </td><td>NA       </td><td>  NA     </td><td>   NA    </td><td>    NA   </td><td>     NA  </td><td>      NA </td><td>       NA</td><td>       NA</td><td>23.579477</td></tr>\n",
       "</tbody>\n",
       "</table>\n"
      ],
      "text/latex": [
       "\\begin{tabular}{llllllllll}\n",
       "\t 10        &  9        &  8.1      &  7.29     &  6.561    &  5.9049   &  5.31441  &  4.782969 &  4.304672 &  3.874205\\\\\n",
       "\t NA        & 11        &  9.9      &  8.91     &  8.019    &  7.2171   &  6.49539  &  5.845851 &  5.261266 &  4.735139\\\\\n",
       "\t NA        & NA        & 12.1      & 10.89     &  9.801    &  8.8209   &  7.93881  &  7.144929 &  6.430436 &  5.787392\\\\\n",
       "\t NA        & NA        &   NA      & 13.31     & 11.979    & 10.7811   &  9.70299  &  8.732691 &  7.859422 &  7.073480\\\\\n",
       "\t NA        & NA        &   NA      &    NA     & 14.641    & 13.1769   & 11.85921  & 10.673289 &  9.605960 &  8.645364\\\\\n",
       "\t NA        & NA        &   NA      &    NA     &     NA    & 16.1051   & 14.49459  & 13.045131 & 11.740618 & 10.566556\\\\\n",
       "\t NA        & NA        &   NA      &    NA     &     NA    &      NA   & 17.71561  & 15.944049 & 14.349644 & 12.914680\\\\\n",
       "\t NA        & NA        &   NA      &    NA     &     NA    &      NA   &       NA  & 19.487171 & 17.538454 & 15.784609\\\\\n",
       "\t NA        & NA        &   NA      &    NA     &     NA    &      NA   &       NA  &        NA & 21.435888 & 19.292299\\\\\n",
       "\t NA        & NA        &   NA      &    NA     &     NA    &      NA   &       NA  &        NA &        NA & 23.579477\\\\\n",
       "\\end{tabular}\n"
      ],
      "text/markdown": [
       "1. 10\n",
       "2. NA\n",
       "3. NA\n",
       "4. NA\n",
       "5. NA\n",
       "6. NA\n",
       "7. NA\n",
       "8. NA\n",
       "9. NA\n",
       "10. NA\n",
       "11. 9\n",
       "12. 11\n",
       "13. NA\n",
       "14. NA\n",
       "15. NA\n",
       "16. NA\n",
       "17. NA\n",
       "18. NA\n",
       "19. NA\n",
       "20. NA\n",
       "21. 8.1\n",
       "22. 9.9\n",
       "23. 12.1\n",
       "24. NA\n",
       "25. NA\n",
       "26. NA\n",
       "27. NA\n",
       "28. NA\n",
       "29. NA\n",
       "30. NA\n",
       "31. 7.29\n",
       "32. 8.91\n",
       "33. 10.89\n",
       "34. 13.31\n",
       "35. NA\n",
       "36. NA\n",
       "37. NA\n",
       "38. NA\n",
       "39. NA\n",
       "40. NA\n",
       "41. 6.561\n",
       "42. 8.019\n",
       "43. 9.801\n",
       "44. 11.979\n",
       "45. 14.641\n",
       "46. NA\n",
       "47. NA\n",
       "48. NA\n",
       "49. NA\n",
       "50. NA\n",
       "51. 5.9049\n",
       "52. 7.2171\n",
       "53. 8.8209\n",
       "54. 10.7811\n",
       "55. 13.1769\n",
       "56. 16.1051\n",
       "57. NA\n",
       "58. NA\n",
       "59. NA\n",
       "60. NA\n",
       "61. 5.31441\n",
       "62. 6.49539\n",
       "63. 7.93881\n",
       "64. 9.70299\n",
       "65. 11.85921\n",
       "66. 14.49459\n",
       "67. 17.71561\n",
       "68. NA\n",
       "69. NA\n",
       "70. NA\n",
       "71. 4.782969\n",
       "72. 5.845851\n",
       "73. 7.144929\n",
       "74. 8.732691\n",
       "75. 10.673289\n",
       "76. 13.045131\n",
       "77. 15.944049\n",
       "78. 19.487171\n",
       "79. NA\n",
       "80. NA\n",
       "81. 4.3046721\n",
       "82. 5.2612659\n",
       "83. 6.4304361\n",
       "84. 7.8594219\n",
       "85. 9.6059601\n",
       "86. 11.7406179\n",
       "87. 14.3496441\n",
       "88. 17.5384539\n",
       "89. 21.4358881\n",
       "90. NA\n",
       "91. 3.87420489\n",
       "92. 4.73513931\n",
       "93. 5.78739249\n",
       "94. 7.07347971\n",
       "95. 8.64536409\n",
       "96. 10.56655611\n",
       "97. 12.91467969\n",
       "98. 15.78460851\n",
       "99. 19.29229929\n",
       "100. 23.57947691\n",
       "\n",
       "\n"
      ],
      "text/plain": [
       "      [,1] [,2] [,3] [,4]  [,5]   [,6]    [,7]     [,8]      [,9]     \n",
       " [1,] 10    9    8.1  7.29  6.561  5.9049  5.31441  4.782969  4.304672\n",
       " [2,] NA   11    9.9  8.91  8.019  7.2171  6.49539  5.845851  5.261266\n",
       " [3,] NA   NA   12.1 10.89  9.801  8.8209  7.93881  7.144929  6.430436\n",
       " [4,] NA   NA     NA 13.31 11.979 10.7811  9.70299  8.732691  7.859422\n",
       " [5,] NA   NA     NA    NA 14.641 13.1769 11.85921 10.673289  9.605960\n",
       " [6,] NA   NA     NA    NA     NA 16.1051 14.49459 13.045131 11.740618\n",
       " [7,] NA   NA     NA    NA     NA      NA 17.71561 15.944049 14.349644\n",
       " [8,] NA   NA     NA    NA     NA      NA       NA 19.487171 17.538454\n",
       " [9,] NA   NA     NA    NA     NA      NA       NA        NA 21.435888\n",
       "[10,] NA   NA     NA    NA     NA      NA       NA        NA        NA\n",
       "      [,10]    \n",
       " [1,]  3.874205\n",
       " [2,]  4.735139\n",
       " [3,]  5.787392\n",
       " [4,]  7.073480\n",
       " [5,]  8.645364\n",
       " [6,] 10.566556\n",
       " [7,] 12.914680\n",
       " [8,] 15.784609\n",
       " [9,] 19.292299\n",
       "[10,] 23.579477"
      ]
     },
     "metadata": {},
     "output_type": "display_data"
    }
   ],
   "source": [
    "value.share <- function(omega, S = 10, u = 1.1, d = 0.9, level = 10){\n",
    "\n",
    "    mat <- matrix(rep(NA,level^2),level)\n",
    "\n",
    "    for(j in 1:level){\n",
    "        for(i in 1:j){\n",
    "            mat[i,j] <- omega * S * u^(i-1) * d^(j-i)\n",
    "        }\n",
    "    }\n",
    "    return(mat)\n",
    "}\n",
    "\n",
    "value.share(1)"
   ]
  },
  {
   "cell_type": "markdown",
   "metadata": {},
   "source": [
    "上面矩阵向右走表示下跌，向右下走表示上涨。这是只买股票的价值树。"
   ]
  },
  {
   "cell_type": "code",
   "execution_count": 68,
   "metadata": {
    "collapsed": false
   },
   "outputs": [
    {
     "data": {
      "text/html": [
       "<table>\n",
       "<tbody>\n",
       "\t<tr><td>10      </td><td>10.1    </td><td>10.201  </td><td>10.30301</td><td>10.40604</td><td>10.5101 </td><td>10.6152 </td><td>10.72135</td><td>10.82857</td><td>10.93685</td></tr>\n",
       "\t<tr><td>NA      </td><td>10.1    </td><td>10.201  </td><td>10.30301</td><td>10.40604</td><td>10.5101 </td><td>10.6152 </td><td>10.72135</td><td>10.82857</td><td>10.93685</td></tr>\n",
       "\t<tr><td>NA      </td><td>  NA    </td><td>10.201  </td><td>10.30301</td><td>10.40604</td><td>10.5101 </td><td>10.6152 </td><td>10.72135</td><td>10.82857</td><td>10.93685</td></tr>\n",
       "\t<tr><td>NA      </td><td>  NA    </td><td>    NA  </td><td>10.30301</td><td>10.40604</td><td>10.5101 </td><td>10.6152 </td><td>10.72135</td><td>10.82857</td><td>10.93685</td></tr>\n",
       "\t<tr><td>NA      </td><td>  NA    </td><td>    NA  </td><td>      NA</td><td>10.40604</td><td>10.5101 </td><td>10.6152 </td><td>10.72135</td><td>10.82857</td><td>10.93685</td></tr>\n",
       "\t<tr><td>NA      </td><td>  NA    </td><td>    NA  </td><td>      NA</td><td>      NA</td><td>10.5101 </td><td>10.6152 </td><td>10.72135</td><td>10.82857</td><td>10.93685</td></tr>\n",
       "\t<tr><td>NA      </td><td>  NA    </td><td>    NA  </td><td>      NA</td><td>      NA</td><td>     NA </td><td>10.6152 </td><td>10.72135</td><td>10.82857</td><td>10.93685</td></tr>\n",
       "\t<tr><td>NA      </td><td>  NA    </td><td>    NA  </td><td>      NA</td><td>      NA</td><td>     NA </td><td>     NA </td><td>10.72135</td><td>10.82857</td><td>10.93685</td></tr>\n",
       "\t<tr><td>NA      </td><td>  NA    </td><td>    NA  </td><td>      NA</td><td>      NA</td><td>     NA </td><td>     NA </td><td>      NA</td><td>10.82857</td><td>10.93685</td></tr>\n",
       "\t<tr><td>NA      </td><td>  NA    </td><td>    NA  </td><td>      NA</td><td>      NA</td><td>     NA </td><td>     NA </td><td>      NA</td><td>      NA</td><td>10.93685</td></tr>\n",
       "</tbody>\n",
       "</table>\n"
      ],
      "text/latex": [
       "\\begin{tabular}{llllllllll}\n",
       "\t 10       & 10.1     & 10.201   & 10.30301 & 10.40604 & 10.5101  & 10.6152  & 10.72135 & 10.82857 & 10.93685\\\\\n",
       "\t NA       & 10.1     & 10.201   & 10.30301 & 10.40604 & 10.5101  & 10.6152  & 10.72135 & 10.82857 & 10.93685\\\\\n",
       "\t NA       &   NA     & 10.201   & 10.30301 & 10.40604 & 10.5101  & 10.6152  & 10.72135 & 10.82857 & 10.93685\\\\\n",
       "\t NA       &   NA     &     NA   & 10.30301 & 10.40604 & 10.5101  & 10.6152  & 10.72135 & 10.82857 & 10.93685\\\\\n",
       "\t NA       &   NA     &     NA   &       NA & 10.40604 & 10.5101  & 10.6152  & 10.72135 & 10.82857 & 10.93685\\\\\n",
       "\t NA       &   NA     &     NA   &       NA &       NA & 10.5101  & 10.6152  & 10.72135 & 10.82857 & 10.93685\\\\\n",
       "\t NA       &   NA     &     NA   &       NA &       NA &      NA  & 10.6152  & 10.72135 & 10.82857 & 10.93685\\\\\n",
       "\t NA       &   NA     &     NA   &       NA &       NA &      NA  &      NA  & 10.72135 & 10.82857 & 10.93685\\\\\n",
       "\t NA       &   NA     &     NA   &       NA &       NA &      NA  &      NA  &       NA & 10.82857 & 10.93685\\\\\n",
       "\t NA       &   NA     &     NA   &       NA &       NA &      NA  &      NA  &       NA &       NA & 10.93685\\\\\n",
       "\\end{tabular}\n"
      ],
      "text/markdown": [
       "1. 10\n",
       "2. NA\n",
       "3. NA\n",
       "4. NA\n",
       "5. NA\n",
       "6. NA\n",
       "7. NA\n",
       "8. NA\n",
       "9. NA\n",
       "10. NA\n",
       "11. 10.1\n",
       "12. 10.1\n",
       "13. NA\n",
       "14. NA\n",
       "15. NA\n",
       "16. NA\n",
       "17. NA\n",
       "18. NA\n",
       "19. NA\n",
       "20. NA\n",
       "21. 10.201\n",
       "22. 10.201\n",
       "23. 10.201\n",
       "24. NA\n",
       "25. NA\n",
       "26. NA\n",
       "27. NA\n",
       "28. NA\n",
       "29. NA\n",
       "30. NA\n",
       "31. 10.30301\n",
       "32. 10.30301\n",
       "33. 10.30301\n",
       "34. 10.30301\n",
       "35. NA\n",
       "36. NA\n",
       "37. NA\n",
       "38. NA\n",
       "39. NA\n",
       "40. NA\n",
       "41. 10.4060401\n",
       "42. 10.4060401\n",
       "43. 10.4060401\n",
       "44. 10.4060401\n",
       "45. 10.4060401\n",
       "46. NA\n",
       "47. NA\n",
       "48. NA\n",
       "49. NA\n",
       "50. NA\n",
       "51. 10.510100501\n",
       "52. 10.510100501\n",
       "53. 10.510100501\n",
       "54. 10.510100501\n",
       "55. 10.510100501\n",
       "56. 10.510100501\n",
       "57. NA\n",
       "58. NA\n",
       "59. NA\n",
       "60. NA\n",
       "61. 10.61520150601\n",
       "62. 10.61520150601\n",
       "63. 10.61520150601\n",
       "64. 10.61520150601\n",
       "65. 10.61520150601\n",
       "66. 10.61520150601\n",
       "67. 10.61520150601\n",
       "68. NA\n",
       "69. NA\n",
       "70. NA\n",
       "71. 10.7213535210701\n",
       "72. 10.7213535210701\n",
       "73. 10.7213535210701\n",
       "74. 10.7213535210701\n",
       "75. 10.7213535210701\n",
       "76. 10.7213535210701\n",
       "77. 10.7213535210701\n",
       "78. 10.7213535210701\n",
       "79. NA\n",
       "80. NA\n",
       "81. 10.8285670562808\n",
       "82. 10.8285670562808\n",
       "83. 10.8285670562808\n",
       "84. 10.8285670562808\n",
       "85. 10.8285670562808\n",
       "86. 10.8285670562808\n",
       "87. 10.8285670562808\n",
       "88. 10.8285670562808\n",
       "89. 10.8285670562808\n",
       "90. NA\n",
       "91. 10.9368527268436\n",
       "92. 10.9368527268436\n",
       "93. 10.9368527268436\n",
       "94. 10.9368527268436\n",
       "95. 10.9368527268436\n",
       "96. 10.9368527268436\n",
       "97. 10.9368527268436\n",
       "98. 10.9368527268436\n",
       "99. 10.9368527268436\n",
       "100. 10.9368527268436\n",
       "\n",
       "\n"
      ],
      "text/plain": [
       "      [,1] [,2] [,3]   [,4]     [,5]     [,6]    [,7]    [,8]     [,9]    \n",
       " [1,] 10   10.1 10.201 10.30301 10.40604 10.5101 10.6152 10.72135 10.82857\n",
       " [2,] NA   10.1 10.201 10.30301 10.40604 10.5101 10.6152 10.72135 10.82857\n",
       " [3,] NA     NA 10.201 10.30301 10.40604 10.5101 10.6152 10.72135 10.82857\n",
       " [4,] NA     NA     NA 10.30301 10.40604 10.5101 10.6152 10.72135 10.82857\n",
       " [5,] NA     NA     NA       NA 10.40604 10.5101 10.6152 10.72135 10.82857\n",
       " [6,] NA     NA     NA       NA       NA 10.5101 10.6152 10.72135 10.82857\n",
       " [7,] NA     NA     NA       NA       NA      NA 10.6152 10.72135 10.82857\n",
       " [8,] NA     NA     NA       NA       NA      NA      NA 10.72135 10.82857\n",
       " [9,] NA     NA     NA       NA       NA      NA      NA       NA 10.82857\n",
       "[10,] NA     NA     NA       NA       NA      NA      NA       NA       NA\n",
       "      [,10]   \n",
       " [1,] 10.93685\n",
       " [2,] 10.93685\n",
       " [3,] 10.93685\n",
       " [4,] 10.93685\n",
       " [5,] 10.93685\n",
       " [6,] 10.93685\n",
       " [7,] 10.93685\n",
       " [8,] 10.93685\n",
       " [9,] 10.93685\n",
       "[10,] 10.93685"
      ]
     },
     "metadata": {},
     "output_type": "display_data"
    }
   ],
   "source": [
    "value.debt <- function(B ,R = 1.01 ,level = 10){\n",
    "\n",
    "    mat <- matrix(rep(NA,level^2),level)\n",
    "\n",
    "    for(j in 1:level){\n",
    "        for(i in 1:j){\n",
    "            mat[i,j] <- B * R^(j-1)\n",
    "        }\n",
    "    }\n",
    "    return(mat)\n",
    "}\n",
    "\n",
    "value.debt(10)"
   ]
  },
  {
   "cell_type": "markdown",
   "metadata": {},
   "source": [
    "这是只买债券的价值树，可以看出尽管它其实不受股价变动的影响，我们还是分配给每个股价状态一个对应的债券价值。"
   ]
  },
  {
   "cell_type": "code",
   "execution_count": 75,
   "metadata": {
    "collapsed": false
   },
   "outputs": [
    {
     "data": {
      "text/html": [
       "<table>\n",
       "<tbody>\n",
       "\t<tr><td>20      </td><td>19.1    </td><td>18.301  </td><td>17.59301</td><td>16.96704</td><td>16.4150 </td><td>15.92961</td><td>15.50432</td><td>15.13324</td><td>14.81106</td></tr>\n",
       "\t<tr><td>NA      </td><td>21.1    </td><td>20.101  </td><td>19.21301</td><td>18.42504</td><td>17.7272 </td><td>17.11059</td><td>16.56720</td><td>16.08983</td><td>15.67199</td></tr>\n",
       "\t<tr><td>NA      </td><td>  NA    </td><td>22.301  </td><td>21.19301</td><td>20.20704</td><td>19.3310 </td><td>18.55401</td><td>17.86628</td><td>17.25900</td><td>16.72425</td></tr>\n",
       "\t<tr><td>NA      </td><td>  NA    </td><td>    NA  </td><td>23.61301</td><td>22.38504</td><td>21.2912 </td><td>20.31819</td><td>19.45404</td><td>18.68799</td><td>18.01033</td></tr>\n",
       "\t<tr><td>NA      </td><td>  NA    </td><td>    NA  </td><td>      NA</td><td>25.04704</td><td>23.6870 </td><td>22.47441</td><td>21.39464</td><td>20.43453</td><td>19.58222</td></tr>\n",
       "\t<tr><td>NA      </td><td>  NA    </td><td>    NA  </td><td>      NA</td><td>      NA</td><td>26.6152 </td><td>25.10979</td><td>23.76648</td><td>22.56918</td><td>21.50341</td></tr>\n",
       "\t<tr><td>NA      </td><td>  NA    </td><td>    NA  </td><td>      NA</td><td>      NA</td><td>     NA </td><td>28.33081</td><td>26.66540</td><td>25.17821</td><td>23.85153</td></tr>\n",
       "\t<tr><td>NA      </td><td>  NA    </td><td>    NA  </td><td>      NA</td><td>      NA</td><td>     NA </td><td>      NA</td><td>30.20852</td><td>28.36702</td><td>26.72146</td></tr>\n",
       "\t<tr><td>NA      </td><td>  NA    </td><td>    NA  </td><td>      NA</td><td>      NA</td><td>     NA </td><td>      NA</td><td>      NA</td><td>32.26446</td><td>30.22915</td></tr>\n",
       "\t<tr><td>NA      </td><td>  NA    </td><td>    NA  </td><td>      NA</td><td>      NA</td><td>     NA </td><td>      NA</td><td>      NA</td><td>      NA</td><td>34.51633</td></tr>\n",
       "</tbody>\n",
       "</table>\n"
      ],
      "text/latex": [
       "\\begin{tabular}{llllllllll}\n",
       "\t 20       & 19.1     & 18.301   & 17.59301 & 16.96704 & 16.4150  & 15.92961 & 15.50432 & 15.13324 & 14.81106\\\\\n",
       "\t NA       & 21.1     & 20.101   & 19.21301 & 18.42504 & 17.7272  & 17.11059 & 16.56720 & 16.08983 & 15.67199\\\\\n",
       "\t NA       &   NA     & 22.301   & 21.19301 & 20.20704 & 19.3310  & 18.55401 & 17.86628 & 17.25900 & 16.72425\\\\\n",
       "\t NA       &   NA     &     NA   & 23.61301 & 22.38504 & 21.2912  & 20.31819 & 19.45404 & 18.68799 & 18.01033\\\\\n",
       "\t NA       &   NA     &     NA   &       NA & 25.04704 & 23.6870  & 22.47441 & 21.39464 & 20.43453 & 19.58222\\\\\n",
       "\t NA       &   NA     &     NA   &       NA &       NA & 26.6152  & 25.10979 & 23.76648 & 22.56918 & 21.50341\\\\\n",
       "\t NA       &   NA     &     NA   &       NA &       NA &      NA  & 28.33081 & 26.66540 & 25.17821 & 23.85153\\\\\n",
       "\t NA       &   NA     &     NA   &       NA &       NA &      NA  &       NA & 30.20852 & 28.36702 & 26.72146\\\\\n",
       "\t NA       &   NA     &     NA   &       NA &       NA &      NA  &       NA &       NA & 32.26446 & 30.22915\\\\\n",
       "\t NA       &   NA     &     NA   &       NA &       NA &      NA  &       NA &       NA &       NA & 34.51633\\\\\n",
       "\\end{tabular}\n"
      ],
      "text/markdown": [
       "1. 20\n",
       "2. NA\n",
       "3. NA\n",
       "4. NA\n",
       "5. NA\n",
       "6. NA\n",
       "7. NA\n",
       "8. NA\n",
       "9. NA\n",
       "10. NA\n",
       "11. 19.1\n",
       "12. 21.1\n",
       "13. NA\n",
       "14. NA\n",
       "15. NA\n",
       "16. NA\n",
       "17. NA\n",
       "18. NA\n",
       "19. NA\n",
       "20. NA\n",
       "21. 18.301\n",
       "22. 20.101\n",
       "23. 22.301\n",
       "24. NA\n",
       "25. NA\n",
       "26. NA\n",
       "27. NA\n",
       "28. NA\n",
       "29. NA\n",
       "30. NA\n",
       "31. 17.59301\n",
       "32. 19.21301\n",
       "33. 21.19301\n",
       "34. 23.61301\n",
       "35. NA\n",
       "36. NA\n",
       "37. NA\n",
       "38. NA\n",
       "39. NA\n",
       "40. NA\n",
       "41. 16.9670401\n",
       "42. 18.4250401\n",
       "43. 20.2070401\n",
       "44. 22.3850401\n",
       "45. 25.0470401\n",
       "46. NA\n",
       "47. NA\n",
       "48. NA\n",
       "49. NA\n",
       "50. NA\n",
       "51. 16.415000501\n",
       "52. 17.727200501\n",
       "53. 19.331000501\n",
       "54. 21.291200501\n",
       "55. 23.687000501\n",
       "56. 26.615200501\n",
       "57. NA\n",
       "58. NA\n",
       "59. NA\n",
       "60. NA\n",
       "61. 15.92961150601\n",
       "62. 17.11059150601\n",
       "63. 18.55401150601\n",
       "64. 20.31819150601\n",
       "65. 22.47441150601\n",
       "66. 25.10979150601\n",
       "67. 28.33081150601\n",
       "68. NA\n",
       "69. NA\n",
       "70. NA\n",
       "71. 15.5043225210701\n",
       "72. 16.5672045210701\n",
       "73. 17.8662825210701\n",
       "74. 19.4540445210701\n",
       "75. 21.3946425210701\n",
       "76. 23.7664845210701\n",
       "77. 26.6654025210701\n",
       "78. 30.2085245210701\n",
       "79. NA\n",
       "80. NA\n",
       "81. 15.1332391562808\n",
       "82. 16.0898329562808\n",
       "83. 17.2590031562808\n",
       "84. 18.6879889562808\n",
       "85. 20.4345271562808\n",
       "86. 22.5691849562808\n",
       "87. 25.1782111562808\n",
       "88. 28.3670209562808\n",
       "89. 32.2644551562808\n",
       "90. NA\n",
       "91. 14.8110576168436\n",
       "92. 15.6719920368436\n",
       "93. 16.7242452168436\n",
       "94. 18.0103324368436\n",
       "95. 19.5822168168436\n",
       "96. 21.5034088368436\n",
       "97. 23.8515324168436\n",
       "98. 26.7214612368436\n",
       "99. 30.2291520168436\n",
       "100. 34.5163296368436\n",
       "\n",
       "\n"
      ],
      "text/plain": [
       "      [,1] [,2] [,3]   [,4]     [,5]     [,6]    [,7]     [,8]     [,9]    \n",
       " [1,] 20   19.1 18.301 17.59301 16.96704 16.4150 15.92961 15.50432 15.13324\n",
       " [2,] NA   21.1 20.101 19.21301 18.42504 17.7272 17.11059 16.56720 16.08983\n",
       " [3,] NA     NA 22.301 21.19301 20.20704 19.3310 18.55401 17.86628 17.25900\n",
       " [4,] NA     NA     NA 23.61301 22.38504 21.2912 20.31819 19.45404 18.68799\n",
       " [5,] NA     NA     NA       NA 25.04704 23.6870 22.47441 21.39464 20.43453\n",
       " [6,] NA     NA     NA       NA       NA 26.6152 25.10979 23.76648 22.56918\n",
       " [7,] NA     NA     NA       NA       NA      NA 28.33081 26.66540 25.17821\n",
       " [8,] NA     NA     NA       NA       NA      NA       NA 30.20852 28.36702\n",
       " [9,] NA     NA     NA       NA       NA      NA       NA       NA 32.26446\n",
       "[10,] NA     NA     NA       NA       NA      NA       NA       NA       NA\n",
       "      [,10]   \n",
       " [1,] 14.81106\n",
       " [2,] 15.67199\n",
       " [3,] 16.72425\n",
       " [4,] 18.01033\n",
       " [5,] 19.58222\n",
       " [6,] 21.50341\n",
       " [7,] 23.85153\n",
       " [8,] 26.72146\n",
       " [9,] 30.22915\n",
       "[10,] 34.51633"
      ]
     },
     "metadata": {},
     "output_type": "display_data"
    }
   ],
   "source": [
    "value.comb <- function(omega, B, S = 10, u = 1.1, d = 0.9, R = 1.01, level = 10){\n",
    "    mat.share <- value.share(omega, S = S, u = u, d = d, level = level)\n",
    "    mat.debt <- value.debt(B, R = R, level = level)\n",
    "    return(mat.share + mat.debt)\n",
    "}\n",
    "\n",
    "value.comb(1, 10)"
   ]
  },
  {
   "cell_type": "markdown",
   "metadata": {},
   "source": [
    "这是某个股票，债券组合的价值树。"
   ]
  },
  {
   "cell_type": "code",
   "execution_count": 70,
   "metadata": {
    "collapsed": false
   },
   "outputs": [
    {
     "data": {
      "text/html": [
       "<table>\n",
       "<tbody>\n",
       "\t<tr><td> 1          </td><td>0.55        </td><td>0.3025      </td><td>0.166375    </td><td>0.09150625  </td><td>0.05032844  </td><td>0.027680641 </td><td>0.015224352 </td><td>0.008373394 </td><td>0.0046053666</td></tr>\n",
       "\t<tr><td>NA          </td><td>0.45        </td><td>0.4950      </td><td>0.408375    </td><td>0.29947500  </td><td>0.20588906  </td><td>0.135886781 </td><td>0.087194018 </td><td>0.054807668 </td><td>0.0339122448</td></tr>\n",
       "\t<tr><td>NA          </td><td>  NA        </td><td>0.2025      </td><td>0.334125    </td><td>0.36753750  </td><td>0.33690938  </td><td>0.277950234 </td><td>0.214021680 </td><td>0.156949232 </td><td>0.1109855286</td></tr>\n",
       "\t<tr><td>NA          </td><td>  NA        </td><td>    NA      </td><td>0.091125    </td><td>0.20047500  </td><td>0.27565313  </td><td>0.303218438 </td><td>0.291847746 </td><td>0.256826017 </td><td>0.2118814637</td></tr>\n",
       "\t<tr><td>NA          </td><td>  NA        </td><td>    NA      </td><td>      NA    </td><td>0.04100625  </td><td>0.11276719  </td><td>0.186065859 </td><td>0.238784520 </td><td>0.262662971 </td><td>0.2600363418</td></tr>\n",
       "\t<tr><td>NA          </td><td>  NA        </td><td>    NA      </td><td>      NA    </td><td>        NA  </td><td>0.01845281  </td><td>0.060894281 </td><td>0.117221491 </td><td>0.171924854 </td><td>0.2127570069</td></tr>\n",
       "\t<tr><td>NA          </td><td>  NA        </td><td>    NA      </td><td>      NA    </td><td>        NA  </td><td>        NA  </td><td>0.008303766 </td><td>0.031969498 </td><td>0.070332895 </td><td>0.1160492765</td></tr>\n",
       "\t<tr><td>NA          </td><td>  NA        </td><td>    NA      </td><td>      NA    </td><td>        NA  </td><td>        NA  </td><td>         NA </td><td>0.003736695 </td><td>0.016441456 </td><td>0.0406926034</td></tr>\n",
       "\t<tr><td>NA          </td><td>  NA        </td><td>    NA      </td><td>      NA    </td><td>        NA  </td><td>        NA  </td><td>         NA </td><td>         NA </td><td>0.001681513 </td><td>0.0083234871</td></tr>\n",
       "\t<tr><td>NA          </td><td>  NA        </td><td>    NA      </td><td>      NA    </td><td>        NA  </td><td>        NA  </td><td>         NA </td><td>         NA </td><td>         NA </td><td>0.0007566806</td></tr>\n",
       "</tbody>\n",
       "</table>\n"
      ],
      "text/latex": [
       "\\begin{tabular}{llllllllll}\n",
       "\t  1           & 0.55         & 0.3025       & 0.166375     & 0.09150625   & 0.05032844   & 0.027680641  & 0.015224352  & 0.008373394  & 0.0046053666\\\\\n",
       "\t NA           & 0.45         & 0.4950       & 0.408375     & 0.29947500   & 0.20588906   & 0.135886781  & 0.087194018  & 0.054807668  & 0.0339122448\\\\\n",
       "\t NA           &   NA         & 0.2025       & 0.334125     & 0.36753750   & 0.33690938   & 0.277950234  & 0.214021680  & 0.156949232  & 0.1109855286\\\\\n",
       "\t NA           &   NA         &     NA       & 0.091125     & 0.20047500   & 0.27565313   & 0.303218438  & 0.291847746  & 0.256826017  & 0.2118814637\\\\\n",
       "\t NA           &   NA         &     NA       &       NA     & 0.04100625   & 0.11276719   & 0.186065859  & 0.238784520  & 0.262662971  & 0.2600363418\\\\\n",
       "\t NA           &   NA         &     NA       &       NA     &         NA   & 0.01845281   & 0.060894281  & 0.117221491  & 0.171924854  & 0.2127570069\\\\\n",
       "\t NA           &   NA         &     NA       &       NA     &         NA   &         NA   & 0.008303766  & 0.031969498  & 0.070332895  & 0.1160492765\\\\\n",
       "\t NA           &   NA         &     NA       &       NA     &         NA   &         NA   &          NA  & 0.003736695  & 0.016441456  & 0.0406926034\\\\\n",
       "\t NA           &   NA         &     NA       &       NA     &         NA   &         NA   &          NA  &          NA  & 0.001681513  & 0.0083234871\\\\\n",
       "\t NA           &   NA         &     NA       &       NA     &         NA   &         NA   &          NA  &          NA  &          NA  & 0.0007566806\\\\\n",
       "\\end{tabular}\n"
      ],
      "text/markdown": [
       "1. 1\n",
       "2. NA\n",
       "3. NA\n",
       "4. NA\n",
       "5. NA\n",
       "6. NA\n",
       "7. NA\n",
       "8. NA\n",
       "9. NA\n",
       "10. NA\n",
       "11. 0.55\n",
       "12. 0.45\n",
       "13. NA\n",
       "14. NA\n",
       "15. NA\n",
       "16. NA\n",
       "17. NA\n",
       "18. NA\n",
       "19. NA\n",
       "20. NA\n",
       "21. 0.3025\n",
       "22. 0.495\n",
       "23. 0.2025\n",
       "24. NA\n",
       "25. NA\n",
       "26. NA\n",
       "27. NA\n",
       "28. NA\n",
       "29. NA\n",
       "30. NA\n",
       "31. 0.166375\n",
       "32. 0.408375\n",
       "33. 0.334125\n",
       "34. 0.091125\n",
       "35. NA\n",
       "36. NA\n",
       "37. NA\n",
       "38. NA\n",
       "39. NA\n",
       "40. NA\n",
       "41. 0.09150625\n",
       "42. 0.299475\n",
       "43. 0.3675375\n",
       "44. 0.200475\n",
       "45. 0.04100625\n",
       "46. NA\n",
       "47. NA\n",
       "48. NA\n",
       "49. NA\n",
       "50. NA\n",
       "51. 0.0503284375\n",
       "52. 0.2058890625\n",
       "53. 0.336909375\n",
       "54. 0.275653125\n",
       "55. 0.1127671875\n",
       "56. 0.0184528125\n",
       "57. NA\n",
       "58. NA\n",
       "59. NA\n",
       "60. NA\n",
       "61. 0.027680640625\n",
       "62. 0.13588678125\n",
       "63. 0.277950234375\n",
       "64. 0.3032184375\n",
       "65. 0.186065859375\n",
       "66. 0.06089428125\n",
       "67. 0.008303765625\n",
       "68. NA\n",
       "69. NA\n",
       "70. NA\n",
       "71. 0.01522435234375\n",
       "72. 0.0871940179687501\n",
       "73. 0.21402168046875\n",
       "74. 0.29184774609375\n",
       "75. 0.23878451953125\n",
       "76. 0.11722149140625\n",
       "77. 0.03196949765625\n",
       "78. 0.00373669453125\n",
       "79. NA\n",
       "80. NA\n",
       "81. 0.00837339378906251\n",
       "82. 0.0548076684375\n",
       "83. 0.15694923234375\n",
       "84. 0.2568260165625\n",
       "85. 0.262662971484375\n",
       "86. 0.1719248540625\n",
       "87. 0.07033289484375\n",
       "88. 0.0164414559375\n",
       "89. 0.0016815125390625\n",
       "90. NA\n",
       "91. 0.00460536658398438\n",
       "92. 0.0339122448457031\n",
       "93. 0.110985528585938\n",
       "94. 0.211881463664063\n",
       "95. 0.260036341769531\n",
       "96. 0.212757006902344\n",
       "97. 0.116049276492188\n",
       "98. 0.0406926034453125\n",
       "99. 0.00832348706835938\n",
       "100. 0.000756680642578125\n",
       "\n",
       "\n"
      ],
      "text/plain": [
       "      [,1] [,2] [,3]   [,4]     [,5]       [,6]       [,7]        [,8]       \n",
       " [1,]  1   0.55 0.3025 0.166375 0.09150625 0.05032844 0.027680641 0.015224352\n",
       " [2,] NA   0.45 0.4950 0.408375 0.29947500 0.20588906 0.135886781 0.087194018\n",
       " [3,] NA     NA 0.2025 0.334125 0.36753750 0.33690938 0.277950234 0.214021680\n",
       " [4,] NA     NA     NA 0.091125 0.20047500 0.27565313 0.303218438 0.291847746\n",
       " [5,] NA     NA     NA       NA 0.04100625 0.11276719 0.186065859 0.238784520\n",
       " [6,] NA     NA     NA       NA         NA 0.01845281 0.060894281 0.117221491\n",
       " [7,] NA     NA     NA       NA         NA         NA 0.008303766 0.031969498\n",
       " [8,] NA     NA     NA       NA         NA         NA          NA 0.003736695\n",
       " [9,] NA     NA     NA       NA         NA         NA          NA          NA\n",
       "[10,] NA     NA     NA       NA         NA         NA          NA          NA\n",
       "      [,9]        [,10]       \n",
       " [1,] 0.008373394 0.0046053666\n",
       " [2,] 0.054807668 0.0339122448\n",
       " [3,] 0.156949232 0.1109855286\n",
       " [4,] 0.256826017 0.2118814637\n",
       " [5,] 0.262662971 0.2600363418\n",
       " [6,] 0.171924854 0.2127570069\n",
       " [7,] 0.070332895 0.1160492765\n",
       " [8,] 0.016441456 0.0406926034\n",
       " [9,] 0.001681513 0.0083234871\n",
       "[10,]          NA 0.0007566806"
      ]
     },
     "metadata": {},
     "output_type": "display_data"
    }
   ],
   "source": [
    "prob.tree <- function(q, level = 10){\n",
    "    mat <- matrix(rep(NA,level^2),level)\n",
    "\n",
    "    for(j in 1:level){\n",
    "        for(i in 1:j){\n",
    "            mat[i,j] <- choose(j-1,i-1) * (1-q)^(j-i) * q^(i-1)\n",
    "        }\n",
    "    }\n",
    "    return(mat)\n",
    "}\n",
    "\n",
    "prob.tree(0.45)"
   ]
  },
  {
   "cell_type": "markdown",
   "metadata": {},
   "source": [
    "这是$q=0.45$的概率树。\n",
    "\n",
    "有了这些，我们可以看看不同概率树下的各层的期望。"
   ]
  },
  {
   "cell_type": "code",
   "execution_count": 80,
   "metadata": {
    "collapsed": false
   },
   "outputs": [
    {
     "data": {
      "text/html": [
       "<ol class=list-inline>\n",
       "\t<li>20</li>\n",
       "\t<li>20</li>\n",
       "\t<li>20.002</li>\n",
       "\t<li>20.006</li>\n",
       "\t<li>20.0120002</li>\n",
       "\t<li>20.020001</li>\n",
       "\t<li>20.03000300002</li>\n",
       "\t<li>20.04200700014</li>\n",
       "\t<li>20.05601400056</li>\n",
       "\t<li>20.07202520168</li>\n",
       "</ol>\n"
      ],
      "text/latex": [
       "\\begin{enumerate*}\n",
       "\\item 20\n",
       "\\item 20\n",
       "\\item 20.002\n",
       "\\item 20.006\n",
       "\\item 20.0120002\n",
       "\\item 20.020001\n",
       "\\item 20.03000300002\n",
       "\\item 20.04200700014\n",
       "\\item 20.05601400056\n",
       "\\item 20.07202520168\n",
       "\\end{enumerate*}\n"
      ],
      "text/markdown": [
       "1. 20\n",
       "2. 20\n",
       "3. 20.002\n",
       "4. 20.006\n",
       "5. 20.0120002\n",
       "6. 20.020001\n",
       "7. 20.03000300002\n",
       "8. 20.04200700014\n",
       "9. 20.05601400056\n",
       "10. 20.07202520168\n",
       "\n",
       "\n"
      ],
      "text/plain": [
       " [1] 20.00000 20.00000 20.00200 20.00600 20.01200 20.02000 20.03000 20.04201\n",
       " [9] 20.05601 20.07203"
      ]
     },
     "metadata": {},
     "output_type": "display_data"
    }
   ],
   "source": [
    "apply(prob.tree(0.45) * value.comb(1, 10),2,sum,na.rm=TRUE)"
   ]
  },
  {
   "cell_type": "code",
   "execution_count": 82,
   "metadata": {
    "collapsed": false
   },
   "outputs": [
    {
     "name": "stderr",
     "output_type": "stream",
     "text": [
      "Warning message in sqrt(apply(prob.tree(0.45) * value.comb(1, 10)^2, 2, sd, na.rm = TRUE) - :\n",
      "\"产生了NaNs\""
     ]
    },
    {
     "data": {
      "text/html": [
       "<ol class=list-inline>\n",
       "\t<li>NA</li>\n",
       "\t<li>NaN</li>\n",
       "\t<li>7.36652153074224</li>\n",
       "\t<li>7.37764321131556</li>\n",
       "\t<li>7.15535321307849</li>\n",
       "\t<li>6.90728900964552</li>\n",
       "\t<li>6.6730205665603</li>\n",
       "\t<li>6.46028756681267</li>\n",
       "\t<li>6.26895268382015</li>\n",
       "\t<li>6.09689470500755</li>\n",
       "</ol>\n"
      ],
      "text/latex": [
       "\\begin{enumerate*}\n",
       "\\item NA\n",
       "\\item NaN\n",
       "\\item 7.36652153074224\n",
       "\\item 7.37764321131556\n",
       "\\item 7.15535321307849\n",
       "\\item 6.90728900964552\n",
       "\\item 6.6730205665603\n",
       "\\item 6.46028756681267\n",
       "\\item 6.26895268382015\n",
       "\\item 6.09689470500755\n",
       "\\end{enumerate*}\n"
      ],
      "text/markdown": [
       "1. NA\n",
       "2. NaN\n",
       "3. 7.36652153074224\n",
       "4. 7.37764321131556\n",
       "5. 7.15535321307849\n",
       "6. 6.90728900964552\n",
       "7. 6.6730205665603\n",
       "8. 6.46028756681267\n",
       "9. 6.26895268382015\n",
       "10. 6.09689470500755\n",
       "\n",
       "\n"
      ],
      "text/plain": [
       " [1]       NA      NaN 7.366522 7.377643 7.155353 6.907289 6.673021 6.460288\n",
       " [9] 6.268953 6.096895"
      ]
     },
     "metadata": {},
     "output_type": "display_data"
    }
   ],
   "source": [
    "sqrt(apply(prob.tree(0.45) * value.comb(1, 10)^2,2,sd,na.rm=TRUE) - apply(prob.tree(0.45) * value.comb(1, 10),2,sd,na.rm=TRUE) )"
   ]
  },
  {
   "cell_type": "code",
   "execution_count": 98,
   "metadata": {
    "collapsed": false
   },
   "outputs": [
    {
     "data": {
      "text/html": [
       "<ol class=list-inline>\n",
       "\t<li>20</li>\n",
       "\t<li>20.45</li>\n",
       "\t<li>20.91325</li>\n",
       "</ol>\n"
      ],
      "text/latex": [
       "\\begin{enumerate*}\n",
       "\\item 20\n",
       "\\item 20.45\n",
       "\\item 20.91325\n",
       "\\end{enumerate*}\n"
      ],
      "text/markdown": [
       "1. 20\n",
       "2. 20.45\n",
       "3. 20.91325\n",
       "\n",
       "\n"
      ],
      "text/plain": [
       "[1] 20.00000 20.45000 20.91325"
      ]
     },
     "metadata": {},
     "output_type": "display_data"
    }
   ],
   "source": [
    "apply(prob.tree(0.45, level=3) * value.comb(1, 10, level = 3, u = 1.2),2,sum,na.rm=TRUE)"
   ]
  },
  {
   "cell_type": "code",
   "execution_count": 100,
   "metadata": {
    "collapsed": false
   },
   "outputs": [
    {
     "data": {
      "text/html": [
       "<table>\n",
       "<tbody>\n",
       "\t<tr><td>20  </td><td>19.1</td></tr>\n",
       "\t<tr><td>NA  </td><td>22.1</td></tr>\n",
       "</tbody>\n",
       "</table>\n"
      ],
      "text/latex": [
       "\\begin{tabular}{ll}\n",
       "\t 20   & 19.1\\\\\n",
       "\t NA   & 22.1\\\\\n",
       "\\end{tabular}\n"
      ],
      "text/markdown": [
       "1. 20\n",
       "2. NA\n",
       "3. 19.1\n",
       "4. 22.1\n",
       "\n",
       "\n"
      ],
      "text/plain": [
       "     [,1] [,2]\n",
       "[1,] 20   19.1\n",
       "[2,] NA   22.1"
      ]
     },
     "metadata": {},
     "output_type": "display_data"
    }
   ],
   "source": [
    "value.comb(1, 10, level = 2, u = 1.2)"
   ]
  },
  {
   "cell_type": "code",
   "execution_count": 111,
   "metadata": {
    "collapsed": true
   },
   "outputs": [],
   "source": [
    "value.option <- function(K, S = 10, u = 1.1, d = 0.9, level = 10){\n",
    "    mat.share <- value.share(1, S = S, u = u, d = d, level = level)\n",
    "    return(matrix(pmax(0,mat.share - K),level))\n",
    "}"
   ]
  },
  {
   "cell_type": "code",
   "execution_count": 112,
   "metadata": {
    "collapsed": false
   },
   "outputs": [
    {
     "data": {
      "text/html": [
       "<table>\n",
       "<tbody>\n",
       "\t<tr><td> 0        </td><td> 0        </td><td>0.0       </td><td>0.00      </td><td>0.000     </td><td>0.0000    </td><td>0.00000   </td><td>0.000000  </td><td> 0.000000 </td><td> 0.0000000</td></tr>\n",
       "\t<tr><td>NA        </td><td> 1        </td><td>0.0       </td><td>0.00      </td><td>0.000     </td><td>0.0000    </td><td>0.00000   </td><td>0.000000  </td><td> 0.000000 </td><td> 0.0000000</td></tr>\n",
       "\t<tr><td>NA        </td><td>NA        </td><td>2.1       </td><td>0.89      </td><td>0.000     </td><td>0.0000    </td><td>0.00000   </td><td>0.000000  </td><td> 0.000000 </td><td> 0.0000000</td></tr>\n",
       "\t<tr><td>NA        </td><td>NA        </td><td> NA       </td><td>3.31      </td><td>1.979     </td><td>0.7811    </td><td>0.00000   </td><td>0.000000  </td><td> 0.000000 </td><td> 0.0000000</td></tr>\n",
       "\t<tr><td>NA        </td><td>NA        </td><td> NA       </td><td>  NA      </td><td>4.641     </td><td>3.1769    </td><td>1.85921   </td><td>0.673289  </td><td> 0.000000 </td><td> 0.0000000</td></tr>\n",
       "\t<tr><td>NA        </td><td>NA        </td><td> NA       </td><td>  NA      </td><td>   NA     </td><td>6.1051    </td><td>4.49459   </td><td>3.045131  </td><td> 1.740618 </td><td> 0.5665561</td></tr>\n",
       "\t<tr><td>NA        </td><td>NA        </td><td> NA       </td><td>  NA      </td><td>   NA     </td><td>    NA    </td><td>7.71561   </td><td>5.944049  </td><td> 4.349644 </td><td> 2.9146797</td></tr>\n",
       "\t<tr><td>NA        </td><td>NA        </td><td> NA       </td><td>  NA      </td><td>   NA     </td><td>    NA    </td><td>     NA   </td><td>9.487171  </td><td> 7.538454 </td><td> 5.7846085</td></tr>\n",
       "\t<tr><td>NA        </td><td>NA        </td><td> NA       </td><td>  NA      </td><td>   NA     </td><td>    NA    </td><td>     NA   </td><td>      NA  </td><td>11.435888 </td><td> 9.2922993</td></tr>\n",
       "\t<tr><td>NA        </td><td>NA        </td><td> NA       </td><td>  NA      </td><td>   NA     </td><td>    NA    </td><td>     NA   </td><td>      NA  </td><td>       NA </td><td>13.5794769</td></tr>\n",
       "</tbody>\n",
       "</table>\n"
      ],
      "text/latex": [
       "\\begin{tabular}{llllllllll}\n",
       "\t  0         &  0         & 0.0        & 0.00       & 0.000      & 0.0000     & 0.00000    & 0.000000   &  0.000000  &  0.0000000\\\\\n",
       "\t NA         &  1         & 0.0        & 0.00       & 0.000      & 0.0000     & 0.00000    & 0.000000   &  0.000000  &  0.0000000\\\\\n",
       "\t NA         & NA         & 2.1        & 0.89       & 0.000      & 0.0000     & 0.00000    & 0.000000   &  0.000000  &  0.0000000\\\\\n",
       "\t NA         & NA         &  NA        & 3.31       & 1.979      & 0.7811     & 0.00000    & 0.000000   &  0.000000  &  0.0000000\\\\\n",
       "\t NA         & NA         &  NA        &   NA       & 4.641      & 3.1769     & 1.85921    & 0.673289   &  0.000000  &  0.0000000\\\\\n",
       "\t NA         & NA         &  NA        &   NA       &    NA      & 6.1051     & 4.49459    & 3.045131   &  1.740618  &  0.5665561\\\\\n",
       "\t NA         & NA         &  NA        &   NA       &    NA      &     NA     & 7.71561    & 5.944049   &  4.349644  &  2.9146797\\\\\n",
       "\t NA         & NA         &  NA        &   NA       &    NA      &     NA     &      NA    & 9.487171   &  7.538454  &  5.7846085\\\\\n",
       "\t NA         & NA         &  NA        &   NA       &    NA      &     NA     &      NA    &       NA   & 11.435888  &  9.2922993\\\\\n",
       "\t NA         & NA         &  NA        &   NA       &    NA      &     NA     &      NA    &       NA   &        NA  & 13.5794769\\\\\n",
       "\\end{tabular}\n"
      ],
      "text/markdown": [
       "1. 0\n",
       "2. NA\n",
       "3. NA\n",
       "4. NA\n",
       "5. NA\n",
       "6. NA\n",
       "7. NA\n",
       "8. NA\n",
       "9. NA\n",
       "10. NA\n",
       "11. 0\n",
       "12. 1\n",
       "13. NA\n",
       "14. NA\n",
       "15. NA\n",
       "16. NA\n",
       "17. NA\n",
       "18. NA\n",
       "19. NA\n",
       "20. NA\n",
       "21. 0\n",
       "22. 0\n",
       "23. 2.1\n",
       "24. NA\n",
       "25. NA\n",
       "26. NA\n",
       "27. NA\n",
       "28. NA\n",
       "29. NA\n",
       "30. NA\n",
       "31. 0\n",
       "32. 0\n",
       "33. 0.890000000000002\n",
       "34. 3.31\n",
       "35. NA\n",
       "36. NA\n",
       "37. NA\n",
       "38. NA\n",
       "39. NA\n",
       "40. NA\n",
       "41. 0\n",
       "42. 0\n",
       "43. 0\n",
       "44. 1.979\n",
       "45. 4.641\n",
       "46. NA\n",
       "47. NA\n",
       "48. NA\n",
       "49. NA\n",
       "50. NA\n",
       "51. 0\n",
       "52. 0\n",
       "53. 0\n",
       "54. 0.781100000000004\n",
       "55. 3.1769\n",
       "56. 6.10510000000001\n",
       "57. NA\n",
       "58. NA\n",
       "59. NA\n",
       "60. NA\n",
       "61. 0\n",
       "62. 0\n",
       "63. 0\n",
       "64. 0\n",
       "65. 1.85921\n",
       "66. 4.49459000000001\n",
       "67. 7.71561000000001\n",
       "68. NA\n",
       "69. NA\n",
       "70. NA\n",
       "71. 0\n",
       "72. 0\n",
       "73. 0\n",
       "74. 0\n",
       "75. 0.673289000000004\n",
       "76. 3.04513100000001\n",
       "77. 5.94404900000001\n",
       "78. 9.48717100000001\n",
       "79. NA\n",
       "80. NA\n",
       "81. 0\n",
       "82. 0\n",
       "83. 0\n",
       "84. 0\n",
       "85. 0\n",
       "86. 1.74061790000001\n",
       "87. 4.34964410000001\n",
       "88. 7.53845390000001\n",
       "89. 11.4358881\n",
       "90. NA\n",
       "91. 0\n",
       "92. 0\n",
       "93. 0\n",
       "94. 0\n",
       "95. 0\n",
       "96. 0.566556110000006\n",
       "97. 2.91467969000001\n",
       "98. 5.78460851000001\n",
       "99. 9.29229929000001\n",
       "100. 13.57947691\n",
       "\n",
       "\n"
      ],
      "text/plain": [
       "      [,1] [,2] [,3] [,4] [,5]  [,6]   [,7]    [,8]     [,9]      [,10]     \n",
       " [1,]  0    0   0.0  0.00 0.000 0.0000 0.00000 0.000000  0.000000  0.0000000\n",
       " [2,] NA    1   0.0  0.00 0.000 0.0000 0.00000 0.000000  0.000000  0.0000000\n",
       " [3,] NA   NA   2.1  0.89 0.000 0.0000 0.00000 0.000000  0.000000  0.0000000\n",
       " [4,] NA   NA    NA  3.31 1.979 0.7811 0.00000 0.000000  0.000000  0.0000000\n",
       " [5,] NA   NA    NA    NA 4.641 3.1769 1.85921 0.673289  0.000000  0.0000000\n",
       " [6,] NA   NA    NA    NA    NA 6.1051 4.49459 3.045131  1.740618  0.5665561\n",
       " [7,] NA   NA    NA    NA    NA     NA 7.71561 5.944049  4.349644  2.9146797\n",
       " [8,] NA   NA    NA    NA    NA     NA      NA 9.487171  7.538454  5.7846085\n",
       " [9,] NA   NA    NA    NA    NA     NA      NA       NA 11.435888  9.2922993\n",
       "[10,] NA   NA    NA    NA    NA     NA      NA       NA        NA 13.5794769"
      ]
     },
     "metadata": {},
     "output_type": "display_data"
    }
   ],
   "source": [
    "value.option(10)"
   ]
  },
  {
   "cell_type": "markdown",
   "metadata": {},
   "source": [
    "这个有点美式期权的价格各个价格状态的价值的意思。看样子期权和股票债券组合的模式相差甚远，它们真能重合？\n",
    "\n",
    "根据一阶段定价公式求出的可以和其对应的买入股数$\\omega$与债券持有$B$关系：\n",
    "\n",
    "$$\n",
    "\\omega = \\frac{C_u - C_d}{(u-d)S} \\\\\n",
    "B = \\frac{uC_d - dC_u}{(u-d)R}\n",
    "$$"
   ]
  },
  {
   "cell_type": "code",
   "execution_count": 117,
   "metadata": {
    "collapsed": false
   },
   "outputs": [
    {
     "data": {
      "text/html": [
       "<table>\n",
       "<tbody>\n",
       "\t<tr><td> 0</td><td>0 </td></tr>\n",
       "\t<tr><td>NA</td><td>1 </td></tr>\n",
       "</tbody>\n",
       "</table>\n"
      ],
      "text/latex": [
       "\\begin{tabular}{ll}\n",
       "\t  0 & 0 \\\\\n",
       "\t NA & 1 \\\\\n",
       "\\end{tabular}\n"
      ],
      "text/markdown": [
       "1. 0\n",
       "2. NA\n",
       "3. 0\n",
       "4. 1\n",
       "\n",
       "\n"
      ],
      "text/plain": [
       "     [,1] [,2]\n",
       "[1,]  0   0   \n",
       "[2,] NA   1   "
      ]
     },
     "metadata": {},
     "output_type": "display_data"
    }
   ],
   "source": [
    "S <- 10\n",
    "u <- 1.1\n",
    "d <- 0.9\n",
    "R <- 1.01\n",
    "level <- 2\n",
    "\n",
    "mat <- value.option(10, S = S, u = u, d = d, level = level)\n",
    "mat"
   ]
  },
  {
   "cell_type": "code",
   "execution_count": 118,
   "metadata": {
    "collapsed": true
   },
   "outputs": [],
   "source": [
    "C_u <- mat[2,2]\n",
    "C_d <- mat[1,2]\n",
    "\n",
    "omega <- (C_u - C_d)/(u - d)/S\n",
    "B <- (u*C_d - d*C_u)/(u - d)/R"
   ]
  },
  {
   "cell_type": "code",
   "execution_count": 119,
   "metadata": {
    "collapsed": false
   },
   "outputs": [
    {
     "data": {
      "text/html": [
       "0.5"
      ],
      "text/latex": [
       "0.5"
      ],
      "text/markdown": [
       "0.5"
      ],
      "text/plain": [
       "[1] 0.5"
      ]
     },
     "metadata": {},
     "output_type": "display_data"
    }
   ],
   "source": [
    "omega"
   ]
  },
  {
   "cell_type": "code",
   "execution_count": 120,
   "metadata": {
    "collapsed": false
   },
   "outputs": [
    {
     "data": {
      "text/html": [
       "-4.45544554455445"
      ],
      "text/latex": [
       "-4.45544554455445"
      ],
      "text/markdown": [
       "-4.45544554455445"
      ],
      "text/plain": [
       "[1] -4.455446"
      ]
     },
     "metadata": {},
     "output_type": "display_data"
    }
   ],
   "source": [
    "B"
   ]
  },
  {
   "cell_type": "code",
   "execution_count": 125,
   "metadata": {
    "collapsed": false
   },
   "outputs": [
    {
     "data": {
      "text/html": [
       "<table>\n",
       "<tbody>\n",
       "\t<tr><td>0.5445545</td><td>0        </td></tr>\n",
       "\t<tr><td>       NA</td><td>1        </td></tr>\n",
       "</tbody>\n",
       "</table>\n"
      ],
      "text/latex": [
       "\\begin{tabular}{ll}\n",
       "\t 0.5445545 & 0        \\\\\n",
       "\t        NA & 1        \\\\\n",
       "\\end{tabular}\n"
      ],
      "text/markdown": [
       "1. 0.544554455445544\n",
       "2. NA\n",
       "3. 0\n",
       "4. 1\n",
       "\n",
       "\n"
      ],
      "text/plain": [
       "     [,1]      [,2]\n",
       "[1,] 0.5445545 0   \n",
       "[2,]        NA 1   "
      ]
     },
     "metadata": {},
     "output_type": "display_data"
    }
   ],
   "source": [
    "value.comb(omega, B, S = S, u = u, d = d, R = R, level = level)"
   ]
  },
  {
   "cell_type": "markdown",
   "metadata": {},
   "source": [
    "的确可以相等，当然内在价值等不上了，不然可以直接按那个求，显然就没有意义了。这是(1,1)项就是我们的定价。验证一阶段直接定价公式\n",
    "\n",
    "$$\n",
    "C = R^{-1} ( pC_u + (1-p)C_d ) \\\\\n",
    "p = \\frac{R - d}{u - d}\n",
    "$$"
   ]
  },
  {
   "cell_type": "code",
   "execution_count": 127,
   "metadata": {
    "collapsed": false
   },
   "outputs": [],
   "source": [
    "p <- (R - d)/(u - d)"
   ]
  },
  {
   "cell_type": "code",
   "execution_count": 128,
   "metadata": {
    "collapsed": false
   },
   "outputs": [
    {
     "data": {
      "text/html": [
       "0.544554455445544"
      ],
      "text/latex": [
       "0.544554455445544"
      ],
      "text/markdown": [
       "0.544554455445544"
      ],
      "text/plain": [
       "[1] 0.5445545"
      ]
     },
     "metadata": {},
     "output_type": "display_data"
    }
   ],
   "source": [
    "1/R*(p*C_u + (1-p)*C_d)"
   ]
  },
  {
   "cell_type": "markdown",
   "metadata": {},
   "source": [
    "的确对的上，这就是说它的定价是通过找到资本市场线上与其在价值树叶子上等价的组合——借入债券4.45单位，\n",
    "买入0.5股，在第一轮的价值（价格）来实现的。\n",
    "\n",
    "根据这个一阶段的处理模式，我们可以地从多阶段的期权（执行）价值树叶子求得之前期权价值树各个节点的值。递归的执行回去。\n",
    "我们注意到计算中很多项可以复用，比如$p$\n",
    "\n",
    "期权执行价值树与期权价值树的叶子是重合的。而在每个$(2,2)$小三角矩阵上，有一个组合价值树与期权价值树是完全重合的（局部使用一阶段定价公式）。"
   ]
  },
  {
   "cell_type": "code",
   "execution_count": 131,
   "metadata": {
    "collapsed": false
   },
   "outputs": [
    {
     "data": {
      "text/html": [
       "<table>\n",
       "<tbody>\n",
       "\t<tr><td> 0        </td><td> 0        </td><td>0.0       </td><td>0.00      </td><td>0.000     </td><td>0.0000    </td><td>0.00000   </td><td>0.000000  </td><td> 0.000000 </td><td> 0.0000000</td></tr>\n",
       "\t<tr><td>NA        </td><td> 1        </td><td>0.0       </td><td>0.00      </td><td>0.000     </td><td>0.0000    </td><td>0.00000   </td><td>0.000000  </td><td> 0.000000 </td><td> 0.0000000</td></tr>\n",
       "\t<tr><td>NA        </td><td>NA        </td><td>2.1       </td><td>0.89      </td><td>0.000     </td><td>0.0000    </td><td>0.00000   </td><td>0.000000  </td><td> 0.000000 </td><td> 0.0000000</td></tr>\n",
       "\t<tr><td>NA        </td><td>NA        </td><td> NA       </td><td>3.31      </td><td>1.979     </td><td>0.7811    </td><td>0.00000   </td><td>0.000000  </td><td> 0.000000 </td><td> 0.0000000</td></tr>\n",
       "\t<tr><td>NA        </td><td>NA        </td><td> NA       </td><td>  NA      </td><td>4.641     </td><td>3.1769    </td><td>1.85921   </td><td>0.673289  </td><td> 0.000000 </td><td> 0.0000000</td></tr>\n",
       "\t<tr><td>NA        </td><td>NA        </td><td> NA       </td><td>  NA      </td><td>   NA     </td><td>6.1051    </td><td>4.49459   </td><td>3.045131  </td><td> 1.740618 </td><td> 0.5665561</td></tr>\n",
       "\t<tr><td>NA        </td><td>NA        </td><td> NA       </td><td>  NA      </td><td>   NA     </td><td>    NA    </td><td>7.71561   </td><td>5.944049  </td><td> 4.349644 </td><td> 2.9146797</td></tr>\n",
       "\t<tr><td>NA        </td><td>NA        </td><td> NA       </td><td>  NA      </td><td>   NA     </td><td>    NA    </td><td>     NA   </td><td>9.487171  </td><td> 7.538454 </td><td> 5.7846085</td></tr>\n",
       "\t<tr><td>NA        </td><td>NA        </td><td> NA       </td><td>  NA      </td><td>   NA     </td><td>    NA    </td><td>     NA   </td><td>      NA  </td><td>11.435888 </td><td> 9.2922993</td></tr>\n",
       "\t<tr><td>NA        </td><td>NA        </td><td> NA       </td><td>  NA      </td><td>   NA     </td><td>    NA    </td><td>     NA   </td><td>      NA  </td><td>       NA </td><td>13.5794769</td></tr>\n",
       "</tbody>\n",
       "</table>\n"
      ],
      "text/latex": [
       "\\begin{tabular}{llllllllll}\n",
       "\t  0         &  0         & 0.0        & 0.00       & 0.000      & 0.0000     & 0.00000    & 0.000000   &  0.000000  &  0.0000000\\\\\n",
       "\t NA         &  1         & 0.0        & 0.00       & 0.000      & 0.0000     & 0.00000    & 0.000000   &  0.000000  &  0.0000000\\\\\n",
       "\t NA         & NA         & 2.1        & 0.89       & 0.000      & 0.0000     & 0.00000    & 0.000000   &  0.000000  &  0.0000000\\\\\n",
       "\t NA         & NA         &  NA        & 3.31       & 1.979      & 0.7811     & 0.00000    & 0.000000   &  0.000000  &  0.0000000\\\\\n",
       "\t NA         & NA         &  NA        &   NA       & 4.641      & 3.1769     & 1.85921    & 0.673289   &  0.000000  &  0.0000000\\\\\n",
       "\t NA         & NA         &  NA        &   NA       &    NA      & 6.1051     & 4.49459    & 3.045131   &  1.740618  &  0.5665561\\\\\n",
       "\t NA         & NA         &  NA        &   NA       &    NA      &     NA     & 7.71561    & 5.944049   &  4.349644  &  2.9146797\\\\\n",
       "\t NA         & NA         &  NA        &   NA       &    NA      &     NA     &      NA    & 9.487171   &  7.538454  &  5.7846085\\\\\n",
       "\t NA         & NA         &  NA        &   NA       &    NA      &     NA     &      NA    &       NA   & 11.435888  &  9.2922993\\\\\n",
       "\t NA         & NA         &  NA        &   NA       &    NA      &     NA     &      NA    &       NA   &        NA  & 13.5794769\\\\\n",
       "\\end{tabular}\n"
      ],
      "text/markdown": [
       "1. 0\n",
       "2. NA\n",
       "3. NA\n",
       "4. NA\n",
       "5. NA\n",
       "6. NA\n",
       "7. NA\n",
       "8. NA\n",
       "9. NA\n",
       "10. NA\n",
       "11. 0\n",
       "12. 1\n",
       "13. NA\n",
       "14. NA\n",
       "15. NA\n",
       "16. NA\n",
       "17. NA\n",
       "18. NA\n",
       "19. NA\n",
       "20. NA\n",
       "21. 0\n",
       "22. 0\n",
       "23. 2.1\n",
       "24. NA\n",
       "25. NA\n",
       "26. NA\n",
       "27. NA\n",
       "28. NA\n",
       "29. NA\n",
       "30. NA\n",
       "31. 0\n",
       "32. 0\n",
       "33. 0.890000000000002\n",
       "34. 3.31\n",
       "35. NA\n",
       "36. NA\n",
       "37. NA\n",
       "38. NA\n",
       "39. NA\n",
       "40. NA\n",
       "41. 0\n",
       "42. 0\n",
       "43. 0\n",
       "44. 1.979\n",
       "45. 4.641\n",
       "46. NA\n",
       "47. NA\n",
       "48. NA\n",
       "49. NA\n",
       "50. NA\n",
       "51. 0\n",
       "52. 0\n",
       "53. 0\n",
       "54. 0.781100000000004\n",
       "55. 3.1769\n",
       "56. 6.10510000000001\n",
       "57. NA\n",
       "58. NA\n",
       "59. NA\n",
       "60. NA\n",
       "61. 0\n",
       "62. 0\n",
       "63. 0\n",
       "64. 0\n",
       "65. 1.85921\n",
       "66. 4.49459000000001\n",
       "67. 7.71561000000001\n",
       "68. NA\n",
       "69. NA\n",
       "70. NA\n",
       "71. 0\n",
       "72. 0\n",
       "73. 0\n",
       "74. 0\n",
       "75. 0.673289000000004\n",
       "76. 3.04513100000001\n",
       "77. 5.94404900000001\n",
       "78. 9.48717100000001\n",
       "79. NA\n",
       "80. NA\n",
       "81. 0\n",
       "82. 0\n",
       "83. 0\n",
       "84. 0\n",
       "85. 0\n",
       "86. 1.74061790000001\n",
       "87. 4.34964410000001\n",
       "88. 7.53845390000001\n",
       "89. 11.4358881\n",
       "90. NA\n",
       "91. 0\n",
       "92. 0\n",
       "93. 0\n",
       "94. 0\n",
       "95. 0\n",
       "96. 0.566556110000006\n",
       "97. 2.91467969000001\n",
       "98. 5.78460851000001\n",
       "99. 9.29229929000001\n",
       "100. 13.57947691\n",
       "\n",
       "\n"
      ],
      "text/plain": [
       "      [,1] [,2] [,3] [,4] [,5]  [,6]   [,7]    [,8]     [,9]      [,10]     \n",
       " [1,]  0    0   0.0  0.00 0.000 0.0000 0.00000 0.000000  0.000000  0.0000000\n",
       " [2,] NA    1   0.0  0.00 0.000 0.0000 0.00000 0.000000  0.000000  0.0000000\n",
       " [3,] NA   NA   2.1  0.89 0.000 0.0000 0.00000 0.000000  0.000000  0.0000000\n",
       " [4,] NA   NA    NA  3.31 1.979 0.7811 0.00000 0.000000  0.000000  0.0000000\n",
       " [5,] NA   NA    NA    NA 4.641 3.1769 1.85921 0.673289  0.000000  0.0000000\n",
       " [6,] NA   NA    NA    NA    NA 6.1051 4.49459 3.045131  1.740618  0.5665561\n",
       " [7,] NA   NA    NA    NA    NA     NA 7.71561 5.944049  4.349644  2.9146797\n",
       " [8,] NA   NA    NA    NA    NA     NA      NA 9.487171  7.538454  5.7846085\n",
       " [9,] NA   NA    NA    NA    NA     NA      NA       NA 11.435888  9.2922993\n",
       "[10,] NA   NA    NA    NA    NA     NA      NA       NA        NA 13.5794769"
      ]
     },
     "metadata": {},
     "output_type": "display_data"
    }
   ],
   "source": [
    "mat <- value.option(10, S = S, u = u, d = d, level = 10)\n",
    "mat"
   ]
  },
  {
   "cell_type": "code",
   "execution_count": 156,
   "metadata": {
    "collapsed": false
   },
   "outputs": [
    {
     "data": {
      "text/html": [
       "<table>\n",
       "<tbody>\n",
       "\t<tr><td>1.631695  </td><td>0.9214627 </td><td>0.432282  </td><td>0.1485301 </td><td>0.02712998</td><td>0.00000000</td><td>0.00000000</td><td>0.0000000 </td><td> 0.0000000</td><td> 0.0000000</td></tr>\n",
       "\t<tr><td>      NA  </td><td>2.2424614 </td><td>1.338455  </td><td>0.6723024 </td><td>0.25055800</td><td>0.04982051</td><td>0.00000000</td><td>0.0000000 </td><td> 0.0000000</td><td> 0.0000000</td></tr>\n",
       "\t<tr><td>      NA  </td><td>       NA </td><td>3.022875  </td><td>1.9078251 </td><td>1.02958962</td><td>0.41935337</td><td>0.09148858</td><td>0.0000000 </td><td> 0.0000000</td><td> 0.0000000</td></tr>\n",
       "\t<tr><td>      NA  </td><td>       NA </td><td>      NA  </td><td>3.9901493 </td><td>2.66106913</td><td>1.54759364</td><td>0.69523099</td><td>0.1680063 </td><td> 0.0000000</td><td> 0.0000000</td></tr>\n",
       "\t<tr><td>      NA  </td><td>       NA </td><td>      NA  </td><td>       NA </td><td>5.15012676</td><td>3.62047761</td><td>2.27311933</td><td>1.1392372 </td><td> 0.3085207</td><td> 0.0000000</td></tr>\n",
       "\t<tr><td>      NA  </td><td>       NA </td><td>      NA  </td><td>       NA </td><td>        NA</td><td>6.49529656</td><td>4.78868852</td><td>3.2421705 </td><td> 1.8396278</td><td> 0.5665561</td></tr>\n",
       "\t<tr><td>      NA  </td><td>       NA </td><td>      NA  </td><td>       NA </td><td>        NA</td><td>        NA</td><td>8.00970852</td><td>6.1410885 </td><td> 4.4486540</td><td> 2.9146797</td></tr>\n",
       "\t<tr><td>      NA  </td><td>       NA </td><td>      NA  </td><td>       NA </td><td>        NA</td><td>        NA</td><td>        NA</td><td>9.6842105 </td><td> 7.6374638</td><td> 5.7846085</td></tr>\n",
       "\t<tr><td>      NA  </td><td>       NA </td><td>      NA  </td><td>       NA </td><td>        NA</td><td>        NA</td><td>        NA</td><td>       NA </td><td>11.5348980</td><td> 9.2922993</td></tr>\n",
       "\t<tr><td>      NA  </td><td>       NA </td><td>      NA  </td><td>       NA </td><td>        NA</td><td>        NA</td><td>        NA</td><td>       NA </td><td>        NA</td><td>13.5794769</td></tr>\n",
       "</tbody>\n",
       "</table>\n"
      ],
      "text/latex": [
       "\\begin{tabular}{llllllllll}\n",
       "\t 1.631695   & 0.9214627  & 0.432282   & 0.1485301  & 0.02712998 & 0.00000000 & 0.00000000 & 0.0000000  &  0.0000000 &  0.0000000\\\\\n",
       "\t       NA   & 2.2424614  & 1.338455   & 0.6723024  & 0.25055800 & 0.04982051 & 0.00000000 & 0.0000000  &  0.0000000 &  0.0000000\\\\\n",
       "\t       NA   &        NA  & 3.022875   & 1.9078251  & 1.02958962 & 0.41935337 & 0.09148858 & 0.0000000  &  0.0000000 &  0.0000000\\\\\n",
       "\t       NA   &        NA  &       NA   & 3.9901493  & 2.66106913 & 1.54759364 & 0.69523099 & 0.1680063  &  0.0000000 &  0.0000000\\\\\n",
       "\t       NA   &        NA  &       NA   &        NA  & 5.15012676 & 3.62047761 & 2.27311933 & 1.1392372  &  0.3085207 &  0.0000000\\\\\n",
       "\t       NA   &        NA  &       NA   &        NA  &         NA & 6.49529656 & 4.78868852 & 3.2421705  &  1.8396278 &  0.5665561\\\\\n",
       "\t       NA   &        NA  &       NA   &        NA  &         NA &         NA & 8.00970852 & 6.1410885  &  4.4486540 &  2.9146797\\\\\n",
       "\t       NA   &        NA  &       NA   &        NA  &         NA &         NA &         NA & 9.6842105  &  7.6374638 &  5.7846085\\\\\n",
       "\t       NA   &        NA  &       NA   &        NA  &         NA &         NA &         NA &        NA  & 11.5348980 &  9.2922993\\\\\n",
       "\t       NA   &        NA  &       NA   &        NA  &         NA &         NA &         NA &        NA  &         NA & 13.5794769\\\\\n",
       "\\end{tabular}\n"
      ],
      "text/markdown": [
       "1. 1.63169501563922\n",
       "2. NA\n",
       "3. NA\n",
       "4. NA\n",
       "5. NA\n",
       "6. NA\n",
       "7. NA\n",
       "8. NA\n",
       "9. NA\n",
       "10. NA\n",
       "11. 0.921462710620543\n",
       "12. 2.24246135639339\n",
       "13. NA\n",
       "14. NA\n",
       "15. NA\n",
       "16. NA\n",
       "17. NA\n",
       "18. NA\n",
       "19. NA\n",
       "20. NA\n",
       "21. 0.432282025978457\n",
       "22. 1.33845532006626\n",
       "23. 3.02287468350456\n",
       "24. NA\n",
       "25. NA\n",
       "26. NA\n",
       "27. NA\n",
       "28. NA\n",
       "29. NA\n",
       "30. NA\n",
       "31. 0.148530093500374\n",
       "32. 0.672302371205587\n",
       "33. 1.9078251022262\n",
       "34. 3.99014933515967\n",
       "35. NA\n",
       "36. NA\n",
       "37. NA\n",
       "38. NA\n",
       "39. NA\n",
       "40. NA\n",
       "41. 0.0271299820298249\n",
       "42. 0.250558004585376\n",
       "43. 1.02958962337132\n",
       "44. 2.66106913223885\n",
       "45. 5.15012676182506\n",
       "46. NA\n",
       "47. NA\n",
       "48. NA\n",
       "49. NA\n",
       "50. NA\n",
       "51. 0\n",
       "52. 0.0498205124547693\n",
       "53. 0.419353370957425\n",
       "54. 1.5475936412258\n",
       "55. 3.62047760910843\n",
       "56. 6.49529655517184\n",
       "57. NA\n",
       "58. NA\n",
       "59. NA\n",
       "60. NA\n",
       "61. 0\n",
       "62. 0\n",
       "63. 0.0914885774169401\n",
       "64. 0.695230990598867\n",
       "65. 2.27311933067012\n",
       "66. 4.78868852072356\n",
       "67. 8.00970852072356\n",
       "68. NA\n",
       "69. NA\n",
       "70. NA\n",
       "71. 0\n",
       "72. 0\n",
       "73. 0\n",
       "74. 0.168006296711108\n",
       "75. 1.13923721269974\n",
       "76. 3.2421705059308\n",
       "77. 6.1410885059308\n",
       "78. 9.6842105059308\n",
       "79. NA\n",
       "80. NA\n",
       "81. 0\n",
       "82. 0\n",
       "83. 0\n",
       "84. 0\n",
       "85. 0.308520653960399\n",
       "86. 1.83962780099011\n",
       "87. 4.44865400099011\n",
       "88. 7.63746380099011\n",
       "89. 11.5348980009901\n",
       "90. NA\n",
       "91. 0\n",
       "92. 0\n",
       "93. 0\n",
       "94. 0\n",
       "95. 0\n",
       "96. 0.566556110000006\n",
       "97. 2.91467969000001\n",
       "98. 5.78460851000001\n",
       "99. 9.29229929000001\n",
       "100. 13.57947691\n",
       "\n",
       "\n"
      ],
      "text/plain": [
       "      [,1]     [,2]      [,3]     [,4]      [,5]       [,6]       [,7]      \n",
       " [1,] 1.631695 0.9214627 0.432282 0.1485301 0.02712998 0.00000000 0.00000000\n",
       " [2,]       NA 2.2424614 1.338455 0.6723024 0.25055800 0.04982051 0.00000000\n",
       " [3,]       NA        NA 3.022875 1.9078251 1.02958962 0.41935337 0.09148858\n",
       " [4,]       NA        NA       NA 3.9901493 2.66106913 1.54759364 0.69523099\n",
       " [5,]       NA        NA       NA        NA 5.15012676 3.62047761 2.27311933\n",
       " [6,]       NA        NA       NA        NA         NA 6.49529656 4.78868852\n",
       " [7,]       NA        NA       NA        NA         NA         NA 8.00970852\n",
       " [8,]       NA        NA       NA        NA         NA         NA         NA\n",
       " [9,]       NA        NA       NA        NA         NA         NA         NA\n",
       "[10,]       NA        NA       NA        NA         NA         NA         NA\n",
       "      [,8]      [,9]       [,10]     \n",
       " [1,] 0.0000000  0.0000000  0.0000000\n",
       " [2,] 0.0000000  0.0000000  0.0000000\n",
       " [3,] 0.0000000  0.0000000  0.0000000\n",
       " [4,] 0.1680063  0.0000000  0.0000000\n",
       " [5,] 1.1392372  0.3085207  0.0000000\n",
       " [6,] 3.2421705  1.8396278  0.5665561\n",
       " [7,] 6.1410885  4.4486540  2.9146797\n",
       " [8,] 9.6842105  7.6374638  5.7846085\n",
       " [9,]        NA 11.5348980  9.2922993\n",
       "[10,]        NA         NA 13.5794769"
      ]
     },
     "metadata": {},
     "output_type": "display_data"
    }
   ],
   "source": [
    "value.mat <- mat\n",
    "\n",
    "for(j in 9:1){\n",
    "    for(i in 1:j){\n",
    "        C_u <- value.mat[i+1,j+1]\n",
    "        C_d <- value.mat[i,j+1]\n",
    "        value.mat[i,j] <- 1/R*(p*C_u + (1-p)*C_d)\n",
    "    }\n",
    "}\n",
    "value.mat"
   ]
  },
  {
   "cell_type": "code",
   "execution_count": 158,
   "metadata": {
    "collapsed": false
   },
   "outputs": [
    {
     "data": {
      "text/html": [
       "<table>\n",
       "<tbody>\n",
       "\t<tr><td> 0        </td><td> 0        </td><td>0.0       </td><td>0.00      </td><td>0.000     </td><td>0.0000    </td><td>0.00000   </td><td>0.000000  </td><td> 0.000000 </td><td> 0.0000000</td></tr>\n",
       "\t<tr><td>NA        </td><td> 1        </td><td>0.0       </td><td>0.00      </td><td>0.000     </td><td>0.0000    </td><td>0.00000   </td><td>0.000000  </td><td> 0.000000 </td><td> 0.0000000</td></tr>\n",
       "\t<tr><td>NA        </td><td>NA        </td><td>2.1       </td><td>0.89      </td><td>0.000     </td><td>0.0000    </td><td>0.00000   </td><td>0.000000  </td><td> 0.000000 </td><td> 0.0000000</td></tr>\n",
       "\t<tr><td>NA        </td><td>NA        </td><td> NA       </td><td>3.31      </td><td>1.979     </td><td>0.7811    </td><td>0.00000   </td><td>0.000000  </td><td> 0.000000 </td><td> 0.0000000</td></tr>\n",
       "\t<tr><td>NA        </td><td>NA        </td><td> NA       </td><td>  NA      </td><td>4.641     </td><td>3.1769    </td><td>1.85921   </td><td>0.673289  </td><td> 0.000000 </td><td> 0.0000000</td></tr>\n",
       "\t<tr><td>NA        </td><td>NA        </td><td> NA       </td><td>  NA      </td><td>   NA     </td><td>6.1051    </td><td>4.49459   </td><td>3.045131  </td><td> 1.740618 </td><td> 0.5665561</td></tr>\n",
       "\t<tr><td>NA        </td><td>NA        </td><td> NA       </td><td>  NA      </td><td>   NA     </td><td>    NA    </td><td>7.71561   </td><td>5.944049  </td><td> 4.349644 </td><td> 2.9146797</td></tr>\n",
       "\t<tr><td>NA        </td><td>NA        </td><td> NA       </td><td>  NA      </td><td>   NA     </td><td>    NA    </td><td>     NA   </td><td>9.487171  </td><td> 7.538454 </td><td> 5.7846085</td></tr>\n",
       "\t<tr><td>NA        </td><td>NA        </td><td> NA       </td><td>  NA      </td><td>   NA     </td><td>    NA    </td><td>     NA   </td><td>      NA  </td><td>11.435888 </td><td> 9.2922993</td></tr>\n",
       "\t<tr><td>NA        </td><td>NA        </td><td> NA       </td><td>  NA      </td><td>   NA     </td><td>    NA    </td><td>     NA   </td><td>      NA  </td><td>       NA </td><td>13.5794769</td></tr>\n",
       "</tbody>\n",
       "</table>\n"
      ],
      "text/latex": [
       "\\begin{tabular}{llllllllll}\n",
       "\t  0         &  0         & 0.0        & 0.00       & 0.000      & 0.0000     & 0.00000    & 0.000000   &  0.000000  &  0.0000000\\\\\n",
       "\t NA         &  1         & 0.0        & 0.00       & 0.000      & 0.0000     & 0.00000    & 0.000000   &  0.000000  &  0.0000000\\\\\n",
       "\t NA         & NA         & 2.1        & 0.89       & 0.000      & 0.0000     & 0.00000    & 0.000000   &  0.000000  &  0.0000000\\\\\n",
       "\t NA         & NA         &  NA        & 3.31       & 1.979      & 0.7811     & 0.00000    & 0.000000   &  0.000000  &  0.0000000\\\\\n",
       "\t NA         & NA         &  NA        &   NA       & 4.641      & 3.1769     & 1.85921    & 0.673289   &  0.000000  &  0.0000000\\\\\n",
       "\t NA         & NA         &  NA        &   NA       &    NA      & 6.1051     & 4.49459    & 3.045131   &  1.740618  &  0.5665561\\\\\n",
       "\t NA         & NA         &  NA        &   NA       &    NA      &     NA     & 7.71561    & 5.944049   &  4.349644  &  2.9146797\\\\\n",
       "\t NA         & NA         &  NA        &   NA       &    NA      &     NA     &      NA    & 9.487171   &  7.538454  &  5.7846085\\\\\n",
       "\t NA         & NA         &  NA        &   NA       &    NA      &     NA     &      NA    &       NA   & 11.435888  &  9.2922993\\\\\n",
       "\t NA         & NA         &  NA        &   NA       &    NA      &     NA     &      NA    &       NA   &        NA  & 13.5794769\\\\\n",
       "\\end{tabular}\n"
      ],
      "text/markdown": [
       "1. 0\n",
       "2. NA\n",
       "3. NA\n",
       "4. NA\n",
       "5. NA\n",
       "6. NA\n",
       "7. NA\n",
       "8. NA\n",
       "9. NA\n",
       "10. NA\n",
       "11. 0\n",
       "12. 1\n",
       "13. NA\n",
       "14. NA\n",
       "15. NA\n",
       "16. NA\n",
       "17. NA\n",
       "18. NA\n",
       "19. NA\n",
       "20. NA\n",
       "21. 0\n",
       "22. 0\n",
       "23. 2.1\n",
       "24. NA\n",
       "25. NA\n",
       "26. NA\n",
       "27. NA\n",
       "28. NA\n",
       "29. NA\n",
       "30. NA\n",
       "31. 0\n",
       "32. 0\n",
       "33. 0.890000000000002\n",
       "34. 3.31\n",
       "35. NA\n",
       "36. NA\n",
       "37. NA\n",
       "38. NA\n",
       "39. NA\n",
       "40. NA\n",
       "41. 0\n",
       "42. 0\n",
       "43. 0\n",
       "44. 1.979\n",
       "45. 4.641\n",
       "46. NA\n",
       "47. NA\n",
       "48. NA\n",
       "49. NA\n",
       "50. NA\n",
       "51. 0\n",
       "52. 0\n",
       "53. 0\n",
       "54. 0.781100000000004\n",
       "55. 3.1769\n",
       "56. 6.10510000000001\n",
       "57. NA\n",
       "58. NA\n",
       "59. NA\n",
       "60. NA\n",
       "61. 0\n",
       "62. 0\n",
       "63. 0\n",
       "64. 0\n",
       "65. 1.85921\n",
       "66. 4.49459000000001\n",
       "67. 7.71561000000001\n",
       "68. NA\n",
       "69. NA\n",
       "70. NA\n",
       "71. 0\n",
       "72. 0\n",
       "73. 0\n",
       "74. 0\n",
       "75. 0.673289000000004\n",
       "76. 3.04513100000001\n",
       "77. 5.94404900000001\n",
       "78. 9.48717100000001\n",
       "79. NA\n",
       "80. NA\n",
       "81. 0\n",
       "82. 0\n",
       "83. 0\n",
       "84. 0\n",
       "85. 0\n",
       "86. 1.74061790000001\n",
       "87. 4.34964410000001\n",
       "88. 7.53845390000001\n",
       "89. 11.4358881\n",
       "90. NA\n",
       "91. 0\n",
       "92. 0\n",
       "93. 0\n",
       "94. 0\n",
       "95. 0\n",
       "96. 0.566556110000006\n",
       "97. 2.91467969000001\n",
       "98. 5.78460851000001\n",
       "99. 9.29229929000001\n",
       "100. 13.57947691\n",
       "\n",
       "\n"
      ],
      "text/plain": [
       "      [,1] [,2] [,3] [,4] [,5]  [,6]   [,7]    [,8]     [,9]      [,10]     \n",
       " [1,]  0    0   0.0  0.00 0.000 0.0000 0.00000 0.000000  0.000000  0.0000000\n",
       " [2,] NA    1   0.0  0.00 0.000 0.0000 0.00000 0.000000  0.000000  0.0000000\n",
       " [3,] NA   NA   2.1  0.89 0.000 0.0000 0.00000 0.000000  0.000000  0.0000000\n",
       " [4,] NA   NA    NA  3.31 1.979 0.7811 0.00000 0.000000  0.000000  0.0000000\n",
       " [5,] NA   NA    NA    NA 4.641 3.1769 1.85921 0.673289  0.000000  0.0000000\n",
       " [6,] NA   NA    NA    NA    NA 6.1051 4.49459 3.045131  1.740618  0.5665561\n",
       " [7,] NA   NA    NA    NA    NA     NA 7.71561 5.944049  4.349644  2.9146797\n",
       " [8,] NA   NA    NA    NA    NA     NA      NA 9.487171  7.538454  5.7846085\n",
       " [9,] NA   NA    NA    NA    NA     NA      NA       NA 11.435888  9.2922993\n",
       "[10,] NA   NA    NA    NA    NA     NA      NA       NA        NA 13.5794769"
      ]
     },
     "metadata": {},
     "output_type": "display_data"
    }
   ],
   "source": [
    "mat"
   ]
  },
  {
   "cell_type": "markdown",
   "metadata": {},
   "source": [
    "我们来验证多阶段定价公式是否与这个结果匹配\n",
    "\n",
    "$$\n",
    "C(S,T,K) = R^{-T}E_p(f(S\\prod_{i=1}^T Z_i)) \\\\\n",
    "f(x) = (x-K)^+ = \\max(0,x-K)\n",
    "$$"
   ]
  },
  {
   "cell_type": "code",
   "execution_count": 173,
   "metadata": {
    "collapsed": false
   },
   "outputs": [
    {
     "data": {
      "text/html": [
       "1.63169501563922"
      ],
      "text/latex": [
       "1.63169501563922"
      ],
      "text/markdown": [
       "1.63169501563922"
      ],
      "text/plain": [
       "[1] 1.631695"
      ]
     },
     "metadata": {},
     "output_type": "display_data"
    }
   ],
   "source": [
    "sum(dbinom(0:9,9,p) * mat[,10]) * R^(-9)"
   ]
  },
  {
   "cell_type": "markdown",
   "metadata": {},
   "source": [
    "结果对的上，这就是期权定价模型的原理。总结来说，首先我们根据$K,T,S$展开期权执行价值树，其中叶子与我们所欲求的期权价值树匹配。\n",
    "然后我们根据期权价值树逐层利用一阶段定价公式反推结果直到最初期。\n",
    "这相当于不断寻找对当时给定的两个状态上的期权价值相匹配的资本市场线上的等价组合，并以组合的价格给其上一阶段定价，这么不断做下去，\n",
    "就可以得到最初的价格。"
   ]
  },
  {
   "cell_type": "markdown",
   "metadata": {},
   "source": [
    "# 风险中立概率\n",
    "\n",
    "在每个利用两个后阶段价值得到前阶段价值的小操作中，除了后两个阶段的价值，其他参数都是确定的。除了$R$以外，信息包含在所谓风险中立概率$p$中\n",
    "$$\n",
    "p = \\frac{R - d}{u - d}\n",
    "$$\n",
    "\n",
    "上述讨论中，$p$和那个条件期望的写法无非是一种简化公式的记法，和转移概率$q$没什么关系。比如上例中$p=0.55,q=0.45$。那叫它“概率”干吗呢？\n",
    "毕竟它原文也是 risk neutral measure，和概率没什么关系。"
   ]
  },
  {
   "cell_type": "code",
   "execution_count": null,
   "metadata": {
    "collapsed": true
   },
   "outputs": [],
   "source": []
  }
 ],
 "metadata": {
  "kernelspec": {
   "display_name": "R 3.3",
   "language": "R",
   "name": "ir33"
  },
  "language_info": {
   "codemirror_mode": "r",
   "file_extension": ".r",
   "mimetype": "text/x-r-source",
   "name": "R",
   "pygments_lexer": "r",
   "version": "3.3.1"
  }
 },
 "nbformat": 4,
 "nbformat_minor": 0
}
